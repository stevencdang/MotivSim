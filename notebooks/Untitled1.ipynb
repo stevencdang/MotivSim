{
 "cells": [
  {
   "cell_type": "code",
   "execution_count": null,
   "metadata": {},
   "outputs": [],
   "source": []
  },
  {
   "cell_type": "markdown",
   "metadata": {},
   "source": [
    "## Setup"
   ]
  },
  {
   "cell_type": "code",
   "execution_count": 3,
   "metadata": {},
   "outputs": [],
   "source": [
    "import sys\n",
    "sys.path.append(\"../lib\")"
   ]
  },
  {
   "cell_type": "code",
   "execution_count": 4,
   "metadata": {},
   "outputs": [],
   "source": [
    "import math\n",
    "import random\n",
    "import uuid\n",
    "import os\n",
    "import copy\n",
    "from collections.abc import Iterable\n",
    "from datetime import datetime as dt\n",
    "\n",
    "import numpy as np\n",
    "import pandas as pd\n",
    "import matplotlib.pyplot as plt\n",
    "from scipy.optimize import Bounds\n",
    "from scipy.optimize import minimize\n",
    "from scipy import optimize\n",
    "\n",
    "import statsmodels.api as sm\n",
    "\n",
    "from scipy.stats import pearsonr\n"
   ]
  },
  {
   "cell_type": "code",
   "execution_count": 5,
   "metadata": {},
   "outputs": [],
   "source": [
    "import logging\n",
    "\n",
    "#logging.basicConfig(level=logging.DEBUG)\n",
    "logging.basicConfig(level=logging.INFO)\n",
    "#logging.basicConfig(level=logging.WARNING)\n",
    "\n",
    "logger = logging.getLogger(\"main\")"
   ]
  },
  {
   "cell_type": "code",
   "execution_count": 6,
   "metadata": {},
   "outputs": [
    {
     "name": "stderr",
     "output_type": "stream",
     "text": [
      "INFO:main:Test info\n",
      "WARNING:main:Test warning\n"
     ]
    }
   ],
   "source": [
    "#logging.getLogger().setLevel(logging.DEBUG)\n",
    "logging.getLogger().setLevel(logging.INFO)\n",
    "#logging.getLogger().setLevel(logging.WARNING)\n",
    "logger.debug(\"Test debug\")\n",
    "logger.info(\"Test info\")\n",
    "logger.warning(\"Test warning\")"
   ]
  },
  {
   "cell_type": "code",
   "execution_count": 7,
   "metadata": {},
   "outputs": [],
   "source": [
    "from tutor.domain import Domain\n",
    "from tutor.curriculum_factory import CurriculumFactory\n",
    "from tutor.simple_curriculum import SimpleCurriculum\n",
    "from tutor.tutor import SimpleTutor\n",
    "from tutor.action import Attempt, HintRequest\n",
    "\n",
    "from learner.selfeff_learner import SelfEfficacyLearner\n",
    "from learner.modular_learner import ModularLearner\n",
    "from learner.binary_skill_cog import BinarySkillCognition\n",
    "from learner.decider import *\n",
    "\n",
    "from simulate.modlearner_simulation import ModLearnerSimulation\n",
    "from simulate.simulation import SimulationBatch\n",
    "\n",
    "from analytics.student_stats import StudentStatCalc\n",
    "\n",
    "from log_db import mongo\n",
    "from log_db.curriculum_mapper import DB_Curriculum_Mapper"
   ]
  },
  {
   "cell_type": "code",
   "execution_count": 8,
   "metadata": {},
   "outputs": [],
   "source": [
    "# Get path to current project directory\n",
    "cwd = os.path.abspath(\".\")\n",
    "base_dir = os.path.abspath(os.path.join(cwd, os.pardir))\n",
    "logger.debug(\"Base directory for the project:\\n%s\" % base_dir)"
   ]
  },
  {
   "cell_type": "code",
   "execution_count": 9,
   "metadata": {},
   "outputs": [
    {
     "name": "stderr",
     "output_type": "stream",
     "text": [
      "INFO:learner.decider:Writing simulation results to directory: /rdata/Sandbox/MotivSim/test/data/sim-770ad4bf-8ad8-4d3a-9f37-faf7f256163e\n",
      "INFO:learner.decider:got db params: {'settingId': 'motivsim', 'url': 'localhost', 'port': '27017', 'name': 'motivsim', 'user': '', 'pswd': ''}\n"
     ]
    }
   ],
   "source": [
    "# Setup connection to database\n",
    "data_out = \"sim-%s\" % str(uuid.uuid4())\n",
    "data_path = os.path.join(base_dir,\"test\", \"data\", data_out)\n",
    "logger.info(\"Writing simulation results to directory: %s\" % data_path)\n",
    "db_name = \"motivsim\"\n",
    "db_params  = mongo.get_db_params(db_name)\n",
    "logger.info(\"got db params: %s\" % str(db_params))\n",
    "db_util = mongo.Data_Utility(data_path, db_params)\n",
    "db = db_util.db"
   ]
  },
  {
   "cell_type": "code",
   "execution_count": 10,
   "metadata": {},
   "outputs": [
    {
     "name": "stderr",
     "output_type": "stream",
     "text": [
      "INFO:log_db.mongo:collection name, kcs, has 54782 documents\n",
      "INFO:log_db.mongo:collection name, simbatches, has 0 documents\n",
      "INFO:log_db.mongo:collection name, domains, has 4 documents\n",
      "INFO:log_db.mongo:collection name, students, has 0 documents\n",
      "INFO:log_db.mongo:collection name, units, has 2222 documents\n",
      "INFO:log_db.mongo:collection name, decisions, has 0 documents\n",
      "INFO:log_db.mongo:collection name, curriculums, has 4 documents\n",
      "INFO:log_db.mongo:collection name, steps, has 17687097 documents\n",
      "INFO:log_db.mongo:collection name, finalsimstudents, has 0 documents\n",
      "INFO:log_db.mongo:collection name, problems, has 5854901 documents\n",
      "INFO:log_db.mongo:collection name, actions, has 0 documents\n",
      "INFO:log_db.mongo:collection name, sections, has 9097 documents\n",
      "INFO:log_db.mongo:collection name, tutor_events, has 0 documents\n"
     ]
    }
   ],
   "source": [
    "# Test db connection\n",
    "db_util.peak()"
   ]
  },
  {
   "cell_type": "code",
   "execution_count": 9,
   "metadata": {},
   "outputs": [
    {
     "name": "stderr",
     "output_type": "stream",
     "text": [
      "INFO:learner.decider:Clearing database before starting new simulation\n",
      "INFO:log_db.mongo:Clearing all documents from collection kcs\n",
      "INFO:log_db.mongo:Clearing all documents from collection simbatches\n",
      "INFO:log_db.mongo:Clearing all documents from collection domains\n",
      "INFO:log_db.mongo:Clearing all documents from collection students\n",
      "INFO:log_db.mongo:Clearing all documents from collection units\n",
      "INFO:log_db.mongo:Clearing all documents from collection decisions\n",
      "INFO:log_db.mongo:Clearing all documents from collection curriculums\n",
      "INFO:log_db.mongo:Clearing all documents from collection steps\n",
      "INFO:log_db.mongo:Clearing all documents from collection finalsimstudents\n",
      "INFO:log_db.mongo:Clearing all documents from collection problems\n",
      "INFO:log_db.mongo:Clearing all documents from collection actions\n",
      "INFO:log_db.mongo:Clearing all documents from collection sections\n",
      "INFO:log_db.mongo:Clearing all documents from collection tutor_events\n"
     ]
    }
   ],
   "source": [
    "logger.info(\"Clearing database before starting new simulation\")\n",
    "#db_util.clear_db()"
   ]
  },
  {
   "cell_type": "markdown",
   "metadata": {},
   "source": [
    "## 1. Simulating learners"
   ]
  },
  {
   "cell_type": "code",
   "execution_count": 9,
   "metadata": {},
   "outputs": [],
   "source": [
    "num_students = 100"
   ]
  },
  {
   "cell_type": "code",
   "execution_count": 10,
   "metadata": {},
   "outputs": [],
   "source": [
    "def simulate_students(domain, curric, students, batch):    \n",
    "    for i, stu in enumerate(students):\n",
    "        logger.info(\"Simulating student #%i\" % i)\n",
    "        sim = ModLearnerSimulation(domain, curric, stu)\n",
    "        batch.add_sim(sim)\n",
    "        sim.run()"
   ]
  },
  {
   "cell_type": "markdown",
   "metadata": {},
   "source": [
    "### Generate Curriculum"
   ]
  },
  {
   "cell_type": "code",
   "execution_count": 49,
   "metadata": {},
   "outputs": [],
   "source": [
    "domain_params = {'m_l0': 0.45,\n",
    "                 'sd_l0': 0.155,\n",
    "                 'm_t': 0.25,\n",
    "                 'sd_t': 0.13,#0.03,\n",
    "                 'm_s': 0.155,\n",
    "                 'sd_s': 0.055,\n",
    "                 'm_g': 0.15,#0.6,\n",
    "                 'sd_g': 0.105\n",
    "}\n",
    "curric_params = {'num_units': 2000,\n",
    "                 'mean_sections': 4,\n",
    "                 'stdev_sections': 2,\n",
    "                 'mean_unit_kcs': 22,\n",
    "                 'stdev_unit_kcs': 23,\n",
    "                 'section_kcs_lambda': 6,\n",
    "                 'mean_steps': 10,\n",
    "                 'stdev_steps': 4,\n",
    "                 'mean_prob_kcs': 6,\n",
    "                 'stdev_prob_kcs': 3,\n",
    "                 'num_practice': 400\n",
    "}"
   ]
  },
  {
   "cell_type": "code",
   "execution_count": null,
   "metadata": {},
   "outputs": [
    {
     "name": "stderr",
     "output_type": "stream",
     "text": [
      "INFO:tutor.cogtutor_curriculum:Generated 2000 units with with a total of 49514 kcs\n",
      "INFO:log_db.curriculum_mapper:Writing curriculum with id, ffc30713-7a00-4278-94a2-77a5f658e7cc, to db\n",
      "INFO:log_db.curriculum_mapper:Writing 5290491 problem to db\n",
      "INFO:log_db.curriculum_mapper:Writing 21457710 steps to db\n"
     ]
    }
   ],
   "source": [
    "domain, curric = CurriculumFactory.gen_curriculum(domain_params, curric_params)\n",
    "db.domains.insert_one(domain.to_dict())\n",
    "db.kcs.insert_many([kc.__dict__ for kc in domain.kcs])\n",
    "curric_util = DB_Curriculum_Mapper(db_params)\n",
    "curric_util.write_to_db(curric)"
   ]
  },
  {
   "cell_type": "markdown",
   "metadata": {},
   "source": [
    "## Test"
   ]
  },
  {
   "cell_type": "code",
   "execution_count": 11,
   "metadata": {},
   "outputs": [],
   "source": [
    "results = db.steps.find(batch_size=10)\n"
   ]
  },
  {
   "cell_type": "code",
   "execution_count": 12,
   "metadata": {},
   "outputs": [
    {
     "name": "stdout",
     "output_type": "stream",
     "text": [
      "{'_id': 'a6f4e1db-c736-4833-a31e-010929722901', 'domain_id': '27a5878e-7b67-4f48-b62f-60ad51e3e44d', 'curric_id': '8e8e1448-8d65-49dc-a5bc-dd80e7d19489', 'unit_id': 'e227e022-6f39-4bac-851f-bf264f6319cc', 'section_id': '578d68fd-1b8a-4585-91ce-014413f6fbfd', 'prob_id': '32db457c-90d4-4754-b90f-89703a018857', 'kcs': ['7e1bb892-f299-4510-8101-d0b2a325fbe5'], 'hints_avail': 3, 'm_time': 11, 'sd_time': 3}\n"
     ]
    }
   ],
   "source": [
    "doc = results.next()\n",
    "print(doc)"
   ]
  },
  {
   "cell_type": "code",
   "execution_count": 9,
   "metadata": {},
   "outputs": [],
   "source": [
    "db_col = db.steps\n",
    "batch_size=30000\n",
    "fields = [\"unit_id\", \"_id\"]"
   ]
  },
  {
   "cell_type": "code",
   "execution_count": 10,
   "metadata": {},
   "outputs": [
    {
     "name": "stderr",
     "output_type": "stream",
     "text": [
      "INFO:learner.decider:Loop time: 167.755521\n",
      "INFO:learner.decider:shape of data: (17670000, 2)\n"
     ]
    }
   ],
   "source": [
    "d = db_col.find()\n",
    "i = 0\n",
    "subset = []\n",
    "frames = []\n",
    "start = dt.now()\n",
    "loop_start = dt.now()\n",
    "for doc in d:\n",
    "    subset.append(doc)\n",
    "    if len(subset) == batch_size:\n",
    "        frames.append(pd.DataFrame(subset).loc[:, fields])\n",
    "        logger.debug(f\"number of subset frames: {len(frames)}\")\n",
    "        subset = []  \n",
    "        loop_end = dt.now()\n",
    "        loop_time = (loop_end - loop_start).total_seconds()\n",
    "        logger.debug(f\"Loop time: {loop_time}\")\n",
    "        loop_start = dt.now()\n",
    "\n",
    "all_data = pd.concat(frames, axis=0)\n",
    "end = dt.now()\n",
    "time = (end - start).total_seconds()\n",
    "logger.info(f\"Loop time: {time}\")\n",
    "logger.info(f\"shape of data: {all_data.shape}\")\n"
   ]
  },
  {
   "cell_type": "code",
   "execution_count": 1,
   "metadata": {},
   "outputs": [
    {
     "ename": "NameError",
     "evalue": "name 'dt' is not defined",
     "output_type": "error",
     "traceback": [
      "\u001b[0;31m---------------------------------------------------------------------------\u001b[0m",
      "\u001b[0;31mNameError\u001b[0m                                 Traceback (most recent call last)",
      "\u001b[0;32m<ipython-input-1-bc950abf74ef>\u001b[0m in \u001b[0;36m<module>\u001b[0;34m\u001b[0m\n\u001b[0;32m----> 1\u001b[0;31m \u001b[0mstart\u001b[0m \u001b[0;34m=\u001b[0m \u001b[0mdt\u001b[0m\u001b[0;34m.\u001b[0m\u001b[0mnow\u001b[0m\u001b[0;34m(\u001b[0m\u001b[0;34m)\u001b[0m\u001b[0;34m\u001b[0m\u001b[0;34m\u001b[0m\u001b[0m\n\u001b[0m\u001b[1;32m      2\u001b[0m \u001b[0md\u001b[0m \u001b[0;34m=\u001b[0m \u001b[0mpd\u001b[0m\u001b[0;34m.\u001b[0m\u001b[0mDataFrame\u001b[0m\u001b[0;34m(\u001b[0m\u001b[0mdb_col\u001b[0m\u001b[0;34m.\u001b[0m\u001b[0mfind\u001b[0m\u001b[0;34m(\u001b[0m\u001b[0;34m)\u001b[0m\u001b[0;34m)\u001b[0m\u001b[0;34m.\u001b[0m\u001b[0mloc\u001b[0m\u001b[0;34m[\u001b[0m\u001b[0;34m:\u001b[0m\u001b[0;34m,\u001b[0m\u001b[0mfields\u001b[0m\u001b[0;34m]\u001b[0m\u001b[0;34m\u001b[0m\u001b[0;34m\u001b[0m\u001b[0m\n\u001b[1;32m      3\u001b[0m \u001b[0mend\u001b[0m \u001b[0;34m=\u001b[0m \u001b[0mdt\u001b[0m\u001b[0;34m.\u001b[0m\u001b[0mnow\u001b[0m\u001b[0;34m(\u001b[0m\u001b[0;34m)\u001b[0m\u001b[0;34m\u001b[0m\u001b[0;34m\u001b[0m\u001b[0m\n\u001b[1;32m      4\u001b[0m \u001b[0mtime\u001b[0m \u001b[0;34m=\u001b[0m \u001b[0;34m(\u001b[0m\u001b[0mend\u001b[0m \u001b[0;34m-\u001b[0m \u001b[0mstart\u001b[0m\u001b[0;34m)\u001b[0m\u001b[0;34m.\u001b[0m\u001b[0mtotal_seconds\u001b[0m\u001b[0;34m(\u001b[0m\u001b[0;34m)\u001b[0m\u001b[0;34m\u001b[0m\u001b[0;34m\u001b[0m\u001b[0m\n\u001b[1;32m      5\u001b[0m \u001b[0mlogger\u001b[0m\u001b[0;34m.\u001b[0m\u001b[0minfo\u001b[0m\u001b[0;34m(\u001b[0m\u001b[0;34mf\"Total time: {time}\"\u001b[0m\u001b[0;34m)\u001b[0m\u001b[0;34m\u001b[0m\u001b[0;34m\u001b[0m\u001b[0m\n",
      "\u001b[0;31mNameError\u001b[0m: name 'dt' is not defined"
     ]
    }
   ],
   "source": [
    "start = dt.now()\n",
    "d = pd.DataFrame(db_col.find()).loc[:,fields]\n",
    "end = dt.now()\n",
    "time = (end - start).total_seconds()\n",
    "logger.info(f\"Total time: {time}\")\n",
    "logger.info(f\"data shape: {d.shape}\")"
   ]
  },
  {
   "cell_type": "code",
   "execution_count": null,
   "metadata": {},
   "outputs": [],
   "source": []
  },
  {
   "cell_type": "code",
   "execution_count": 22,
   "metadata": {},
   "outputs": [
    {
     "name": "stdout",
     "output_type": "stream",
     "text": [
      "{'_id': '5fd18634-ff86-47e1-b091-a84d70b4a572', 'domain_id': '27a5878e-7b67-4f48-b62f-60ad51e3e44d', 'pl0': 0.22425012062275157, 'pt': 0.3255077059387803, 'ps': 0.1941964595395631, 'pg': 0.006928364686691141, 'm_time': 16.331502857292428, 'sd_time': 4.082875714323107}\n",
      "{'_id': '2a2ae82c-37e8-40ea-9a21-e23308716d0f', 'domain_id': '27a5878e-7b67-4f48-b62f-60ad51e3e44d', 'pl0': 0.27815690491235945, 'pt': 0.32137828519841105, 'ps': 0.23157394083439503, 'pg': 0.1458800326947557, 'm_time': 8.074861128313358, 'sd_time': 2.0187152820783396}\n",
      "{'_id': 'cddbccfe-f0ea-4e39-8732-a1884f98467b', 'domain_id': '27a5878e-7b67-4f48-b62f-60ad51e3e44d', 'pl0': 0.5705319160573025, 'pt': 0.5409362301415263, 'ps': 0.15228669908943124, 'pg': 0.20201680991929477, 'm_time': 12.406695482070008, 'sd_time': 3.101673870517502}\n",
      "{'_id': '1cbee65c-746b-4f13-937c-83fc1b2eb1c1', 'domain_id': '27a5878e-7b67-4f48-b62f-60ad51e3e44d', 'pl0': 0.56554436003508, 'pt': 0.01, 'ps': 0.17303112202351784, 'pg': 0.09116299274217804, 'm_time': 7.22654399286754, 'sd_time': 1.806635998216885}\n",
      "{'_id': '7058e311-89e8-451a-9454-248429fa8a16', 'domain_id': '27a5878e-7b67-4f48-b62f-60ad51e3e44d', 'pl0': 0.48969085070668167, 'pt': 0.2828747584651472, 'ps': 0.19371209476627665, 'pg': 0.1485794587341044, 'm_time': 5.955642448458506, 'sd_time': 1.4889106121146265}\n",
      "{'_id': 'a7b2ab90-29dc-4a8d-8262-4ca1ff0a35a2', 'domain_id': '27a5878e-7b67-4f48-b62f-60ad51e3e44d', 'pl0': 0.8357181511548903, 'pt': 0.3268055261062577, 'ps': 0.3013024044379857, 'pg': 0.05430230781869831, 'm_time': 12.817883033090178, 'sd_time': 3.2044707582725445}\n",
      "{'_id': '454ca55e-8c21-412c-801c-f30a75958a0c', 'domain_id': '27a5878e-7b67-4f48-b62f-60ad51e3e44d', 'pl0': 0.19516036980797985, 'pt': 0.16071410863093488, 'ps': 0.17825657724225538, 'pg': 0.09915376943373001, 'm_time': 7.056358340063497, 'sd_time': 1.7640895850158742}\n",
      "{'_id': '52a67264-302d-4721-b1d9-4c6871b9851a', 'domain_id': '27a5878e-7b67-4f48-b62f-60ad51e3e44d', 'pl0': 0.3129222384038709, 'pt': 0.006745998391293834, 'ps': 0.17472885837313176, 'pg': 0.1351857769470198, 'm_time': 15.515001367126473, 'sd_time': 3.8787503417816183}\n",
      "{'_id': '1d389e61-b57e-4a12-ae14-83e891aae374', 'domain_id': '27a5878e-7b67-4f48-b62f-60ad51e3e44d', 'pl0': 0.3003674640305811, 'pt': 0.20733477701480044, 'ps': 0.13569633155422667, 'pg': 0.17827586529710274, 'm_time': 16.177820915009846, 'sd_time': 4.0444552287524616}\n",
      "{'_id': '5af21549-6a42-4459-b4b7-13b2ed60516b', 'domain_id': '27a5878e-7b67-4f48-b62f-60ad51e3e44d', 'pl0': 0.3645609480850108, 'pt': 0.24326261929076715, 'ps': 0.25346544281686884, 'pg': 0.0684270443625269, 'm_time': 8.435514730495308, 'sd_time': 2.108878682623827}\n",
      "{'_id': '31d6eaeb-f13a-44ce-99a9-564cea1268af', 'domain_id': '27a5878e-7b67-4f48-b62f-60ad51e3e44d', 'pl0': 0.5217516476268635, 'pt': 0.2989256502424673, 'ps': 0.21895329706734232, 'pg': 0.21529524996820135, 'm_time': 4.081911118098979, 'sd_time': 1.0204777795247448}\n",
      "{'_id': 'c690a9ec-6b33-4b1a-8c7f-c7ed90b51fd7', 'domain_id': '27a5878e-7b67-4f48-b62f-60ad51e3e44d', 'pl0': 0.4800444433451002, 'pt': 0.259847591387037, 'ps': 0.20096591933889763, 'pg': 0.24086778333053493, 'm_time': 9.071297861112514, 'sd_time': 2.2678244652781285}\n",
      "{'_id': '7e1bb892-f299-4510-8101-d0b2a325fbe5', 'domain_id': '27a5878e-7b67-4f48-b62f-60ad51e3e44d', 'pl0': 0.2771773703772561, 'pt': 0.32521649014601567, 'ps': 0.18548870203301154, 'pg': 0.21000584657193505, 'm_time': 8.535624461400543, 'sd_time': 2.1339061153501357}\n",
      "{'_id': 'f876bcef-1eb9-42f1-a992-fbecc37cbf73', 'domain_id': '27a5878e-7b67-4f48-b62f-60ad51e3e44d', 'pl0': 0.5597131602813169, 'pt': 0.2561277397476148, 'ps': 0.18593958709371738, 'pg': 0.19117566102167735, 'm_time': 5.776982934026991, 'sd_time': 1.4442457335067478}\n",
      "{'_id': 'aa3c32b5-9e9b-4b64-a6b6-97b899d56b50', 'domain_id': '27a5878e-7b67-4f48-b62f-60ad51e3e44d', 'pl0': 0.6423247054875467, 'pt': 0.1120206340569597, 'ps': 0.15238629702249043, 'pg': 0.08279753736445992, 'm_time': 9.454088052954413, 'sd_time': 2.3635220132386032}\n",
      "{'_id': '06dcc78e-3fef-4b9f-9c2c-8ed69daf21f1', 'domain_id': '27a5878e-7b67-4f48-b62f-60ad51e3e44d', 'pl0': 0.2814853370610422, 'pt': 0.3247442491977429, 'ps': 0.11411648172621083, 'pg': 0.16073579106274877, 'm_time': 12.022416431399705, 'sd_time': 3.0056041078499263}\n",
      "{'_id': 'd0c6ecc0-82e8-46d7-b06e-cd035e4d9719', 'domain_id': '27a5878e-7b67-4f48-b62f-60ad51e3e44d', 'pl0': 0.6571187531366451, 'pt': 0.08281611822402471, 'ps': 0.14158967082155713, 'pg': 0.20477174518841756, 'm_time': 3.5608741345033827, 'sd_time': 0.8902185336258457}\n",
      "{'_id': '64672e60-e4a2-48cc-919d-3e6676c0e4b7', 'domain_id': '27a5878e-7b67-4f48-b62f-60ad51e3e44d', 'pl0': 0.11571271569353064, 'pt': 0.5336616522373374, 'ps': 0.15362401828515101, 'pg': 0.19524085464671875, 'm_time': 11.34250253490223, 'sd_time': 2.8356256337255576}\n",
      "{'_id': 'd2e1f4a0-a26d-41ec-8c09-50ef5dcd37f2', 'domain_id': '27a5878e-7b67-4f48-b62f-60ad51e3e44d', 'pl0': 0.3621970735116629, 'pt': 0.10700620591995177, 'ps': 0.18052811619033843, 'pg': 0.15286733224081717, 'm_time': 7.069520661655506, 'sd_time': 1.7673801654138765}\n",
      "{'_id': 'e81d6e65-53fb-4a0c-a906-6bf9472f548b', 'domain_id': '27a5878e-7b67-4f48-b62f-60ad51e3e44d', 'pl0': 0.2625667812247019, 'pt': 0.1552232524469279, 'ps': 0.15767192450534212, 'pg': 0.044089495883482765, 'm_time': 10.394095450905214, 'sd_time': 2.5985238627263034}\n",
      "{'_id': '5b97328d-0362-4e2a-bcec-23944379c20f', 'domain_id': '27a5878e-7b67-4f48-b62f-60ad51e3e44d', 'pl0': 0.5047633135922333, 'pt': 0.20138723298467998, 'ps': 0.20533312789195723, 'pg': 0.19444220545062793, 'm_time': 5.6679812084083325, 'sd_time': 1.4169953021020831}\n",
      "{'_id': '5337be8a-aa3b-4288-a363-ee8fb0c203f7', 'domain_id': '27a5878e-7b67-4f48-b62f-60ad51e3e44d', 'pl0': 0.08436379048528725, 'pt': 0.25653593258081847, 'ps': 0.1725442082661172, 'pg': 0.24059763590638905, 'm_time': 3.820785708462946, 'sd_time': 0.9551964271157365}\n",
      "{'_id': '9cb30300-046c-4d08-997b-e272eb8ffeb1', 'domain_id': '27a5878e-7b67-4f48-b62f-60ad51e3e44d', 'pl0': 0.3178466849076167, 'pt': 0.32012410262029445, 'ps': 0.17739992815923789, 'pg': 0.14160256908054564, 'm_time': 7.13544827551261, 'sd_time': 1.7838620688781526}\n",
      "{'_id': '1163220c-66d9-49b6-9818-6a015ce7c1f8', 'domain_id': '27a5878e-7b67-4f48-b62f-60ad51e3e44d', 'pl0': 0.5601444315014875, 'pt': 0.01, 'ps': 0.15031007247240669, 'pg': 0.26719337650127023, 'm_time': 9.35124776517945, 'sd_time': 2.3378119412948624}\n",
      "{'_id': '790004b3-eba3-4b75-ba93-9b67d728257d', 'domain_id': '27a5878e-7b67-4f48-b62f-60ad51e3e44d', 'pl0': 0.10883852206250705, 'pt': 0.35254491367035146, 'ps': 0.1547926653715207, 'pg': 0.01, 'm_time': 16.072066709391464, 'sd_time': 4.018016677347866}\n",
      "{'_id': '89e33102-ba7e-4190-a796-452688d54285', 'domain_id': '27a5878e-7b67-4f48-b62f-60ad51e3e44d', 'pl0': 0.38253666655774643, 'pt': 0.17546300238818419, 'ps': 0.15066879381243103, 'pg': 0.29303088238534236, 'm_time': 6.082977192906505, 'sd_time': 1.5207442982266262}\n",
      "{'_id': '6d0b39e5-f1a9-4d0d-8fb6-ccabc201c0eb', 'domain_id': '27a5878e-7b67-4f48-b62f-60ad51e3e44d', 'pl0': 0.2510249716952576, 'pt': 0.10331122832458509, 'ps': 0.12003158640691611, 'pg': 0.01, 'm_time': 5.554493510933123, 'sd_time': 1.3886233777332808}\n",
      "{'_id': '980f381d-9334-409d-b6db-51c4061c9cc4', 'domain_id': '27a5878e-7b67-4f48-b62f-60ad51e3e44d', 'pl0': 0.3556480839429021, 'pt': 0.29258834460230554, 'ps': 0.12069016809096623, 'pg': 0.09242575105520535, 'm_time': 11.081423063463724, 'sd_time': 2.770355765865931}\n",
      "{'_id': '96f7e845-e3c5-447d-894b-6b79c8e74eb7', 'domain_id': '27a5878e-7b67-4f48-b62f-60ad51e3e44d', 'pl0': 0.44348437614621566, 'pt': 0.32506776107170876, 'ps': 0.07150111693546328, 'pg': 0.16076391387655323, 'm_time': 13.042226310753891, 'sd_time': 3.260556577688473}\n",
      "{'_id': '7aaec1e3-1004-4529-bdb0-b08b6b5cd3f0', 'domain_id': '27a5878e-7b67-4f48-b62f-60ad51e3e44d', 'pl0': 0.2664061884636499, 'pt': 0.2295471092865688, 'ps': 0.05274717445542476, 'pg': 0.26737869400517744, 'm_time': 9.140287004465668, 'sd_time': 2.285071751116417}\n",
      "{'_id': '6efde21a-723d-42f4-afb4-64b100a19b01', 'domain_id': '27a5878e-7b67-4f48-b62f-60ad51e3e44d', 'pl0': 0.4692436449703047, 'pt': 0.2944217590443857, 'ps': 0.028258162545630322, 'pg': 0.10976874489703584, 'm_time': 14.964409007114757, 'sd_time': 3.741102251778689}\n",
      "{'_id': '5ebc13d7-d777-4103-9316-bdaf56505be9', 'domain_id': '27a5878e-7b67-4f48-b62f-60ad51e3e44d', 'pl0': 0.6143301691709879, 'pt': 0.3997309730852869, 'ps': 0.05333855624656682, 'pg': 0.1654484656569604, 'm_time': 9.732721991885116, 'sd_time': 2.433180497971279}\n",
      "{'_id': 'd304fe86-659d-4672-8bd2-b1cd4c77caff', 'domain_id': '27a5878e-7b67-4f48-b62f-60ad51e3e44d', 'pl0': 0.36664543031654534, 'pt': 0.3300783794865474, 'ps': 0.1564857978170619, 'pg': 0.25543295620033857, 'm_time': 15.097786281063154, 'sd_time': 3.7744465702657886}\n",
      "{'_id': 'cb10905b-7c19-4adb-9f11-10bea1788711', 'domain_id': '27a5878e-7b67-4f48-b62f-60ad51e3e44d', 'pl0': 0.6291327833614032, 'pt': 0.4750757320012102, 'ps': 0.10402683216069236, 'pg': 0.14836584720566842, 'm_time': 16.759911262753295, 'sd_time': 4.189977815688324}\n",
      "{'_id': '69036aef-7a48-4961-a0ff-d198348b05ec', 'domain_id': '27a5878e-7b67-4f48-b62f-60ad51e3e44d', 'pl0': 0.5138753139924261, 'pt': 0.555608764304998, 'ps': 0.12839351965100074, 'pg': 0.13514134296227706, 'm_time': 9.437883005752186, 'sd_time': 2.3594707514380464}\n",
      "{'_id': '685d8563-00a7-443d-a264-3a2d13fa2579', 'domain_id': '27a5878e-7b67-4f48-b62f-60ad51e3e44d', 'pl0': 0.39751774936134626, 'pt': 0.18591944918627792, 'ps': 0.1817498319960909, 'pg': 0.20000150400681824, 'm_time': 12.193702598153774, 'sd_time': 3.0484256495384434}\n",
      "{'_id': 'bdfe6c19-7c18-4bdc-8585-27a72e5e426e', 'domain_id': '27a5878e-7b67-4f48-b62f-60ad51e3e44d', 'pl0': 0.4538565543720775, 'pt': 0.19339347745579197, 'ps': 0.1601501499921766, 'pg': 0.24335437416795785, 'm_time': 7.462933219376548, 'sd_time': 1.865733304844137}\n",
      "{'_id': 'a1f6c461-eafc-4684-b277-0ec18faa8643', 'domain_id': '27a5878e-7b67-4f48-b62f-60ad51e3e44d', 'pl0': 0.429324326626006, 'pt': 0.28412040183056153, 'ps': 0.20280850841203563, 'pg': 0.2595709365361666, 'm_time': 13.047974677528716, 'sd_time': 3.261993669382179}\n",
      "{'_id': '3e73557c-a5a9-4012-b39d-54bb037ff6a0', 'domain_id': '27a5878e-7b67-4f48-b62f-60ad51e3e44d', 'pl0': 0.5974314627679087, 'pt': 0.2957141546637131, 'ps': 0.1468317156000413, 'pg': 0.23362086438835142, 'm_time': 1.6724979629580954, 'sd_time': 0.41812449073952385}\n",
      "{'_id': 'eb9eb4a4-e290-4816-b89f-94df4b68fc6a', 'domain_id': '27a5878e-7b67-4f48-b62f-60ad51e3e44d', 'pl0': 0.38602937256046366, 'pt': 0.1567881006614938, 'ps': 0.12246786614071671, 'pg': 0.10933931839866368, 'm_time': 15.141185122729938, 'sd_time': 3.7852962806824846}\n",
      "{'_id': '802a6bc8-6eab-476e-8f21-8edf9094f62a', 'domain_id': '27a5878e-7b67-4f48-b62f-60ad51e3e44d', 'pl0': 0.3218315970976872, 'pt': 0.15786508337964175, 'ps': 0.20572710789761361, 'pg': 0.01, 'm_time': 6.042369779823254, 'sd_time': 1.5105924449558135}\n",
      "{'_id': '731a9d9a-6b0c-444c-a829-0df07d5ad497', 'domain_id': '27a5878e-7b67-4f48-b62f-60ad51e3e44d', 'pl0': 0.5595043839287569, 'pt': 0.3175980661345592, 'ps': 0.10066541013354956, 'pg': 0.14365465009479095, 'm_time': 17.617627663293028, 'sd_time': 4.404406915823257}\n",
      "{'_id': '82a93382-1b5e-40d1-9218-0e6a8fa59fa8', 'domain_id': '27a5878e-7b67-4f48-b62f-60ad51e3e44d', 'pl0': 0.5856583179323358, 'pt': 0.01, 'ps': 0.17023384132988895, 'pg': 0.11103547148239551, 'm_time': 6.411531959770486, 'sd_time': 1.6028829899426216}\n",
      "{'_id': 'bd989a9f-4c33-47a3-9003-ccc31697eeb1', 'domain_id': '27a5878e-7b67-4f48-b62f-60ad51e3e44d', 'pl0': 0.4371712975942798, 'pt': 0.27669297487822647, 'ps': 0.1658941065130483, 'pg': 0.16811354777257143, 'm_time': 7.455804769311191, 'sd_time': 1.8639511923277978}\n",
      "{'_id': '412012ad-1272-4444-8300-24c27f2dbccc', 'domain_id': '27a5878e-7b67-4f48-b62f-60ad51e3e44d', 'pl0': 0.4795829575182881, 'pt': 0.6459588186996637, 'ps': 0.23192262486597598, 'pg': 0.21813887307945018, 'm_time': 7.054346198965112, 'sd_time': 1.763586549741278}\n",
      "{'_id': '50dc8650-07f3-41e7-925d-af940dedd0e1', 'domain_id': '27a5878e-7b67-4f48-b62f-60ad51e3e44d', 'pl0': 0.2780769231469956, 'pt': 0.2073433883388951, 'ps': 0.1779909408636547, 'pg': 0.037813878549968954, 'm_time': 10.970008238893335, 'sd_time': 2.742502059723334}\n",
      "{'_id': '30dc0409-9d7b-4c35-bed8-193f9dab4950', 'domain_id': '27a5878e-7b67-4f48-b62f-60ad51e3e44d', 'pl0': 0.5496682048411512, 'pt': 0.27961248894644875, 'ps': 0.1696731129027047, 'pg': 0.29579884478001417, 'm_time': 13.453073356614333, 'sd_time': 3.363268339153583}\n",
      "{'_id': '4f5b75c3-a44d-427d-ba41-77a78b206355', 'domain_id': '27a5878e-7b67-4f48-b62f-60ad51e3e44d', 'pl0': 0.42469104436878186, 'pt': 0.29080954717373175, 'ps': 0.13558831416310121, 'pg': 0.17751526214076147, 'm_time': 2.2401798613091914, 'sd_time': 0.5600449653272979}\n",
      "{'_id': '6723a28c-a921-4f39-9740-de0ed939c666', 'domain_id': '27a5878e-7b67-4f48-b62f-60ad51e3e44d', 'pl0': 0.2921695033633973, 'pt': 0.16378106805374731, 'ps': 0.1436763988081495, 'pg': 0.10173007528267865, 'm_time': 3.456870603070973, 'sd_time': 0.8642176507677433}\n",
      "{'_id': '6f007b16-b0bb-431a-a61b-10a5afc3ffdd', 'domain_id': '27a5878e-7b67-4f48-b62f-60ad51e3e44d', 'pl0': 0.01919509746524861, 'pt': 0.2886178923857643, 'ps': 0.12726560263990946, 'pg': 0.16683347576161428, 'm_time': 3.718906217551263, 'sd_time': 0.9297265543878157}\n",
      "{'_id': '2efabbf3-562f-4ebf-ac97-b9d42ee25acd', 'domain_id': '27a5878e-7b67-4f48-b62f-60ad51e3e44d', 'pl0': 0.10448613729530531, 'pt': 0.10393969682294074, 'ps': 0.07683092346086212, 'pg': 0.23854603310501854, 'm_time': 12.645005831986914, 'sd_time': 3.1612514579967286}\n",
      "{'_id': '239efff3-6e61-42c0-8e11-94755e97e62c', 'domain_id': '27a5878e-7b67-4f48-b62f-60ad51e3e44d', 'pl0': 0.6045764221353542, 'pt': 0.4305110598369901, 'ps': 0.18368990225173448, 'pg': 0.1838368669095493, 'm_time': 8.681075980182968, 'sd_time': 2.170268995045742}\n",
      "{'_id': 'af58db93-0c46-4bc6-80dd-7e71080f4a31', 'domain_id': '27a5878e-7b67-4f48-b62f-60ad51e3e44d', 'pl0': 0.7310405646040581, 'pt': 0.27909273024081677, 'ps': 0.1491796859878504, 'pg': 0.2437838617930403, 'm_time': 11.264258215460478, 'sd_time': 2.8160645538651194}\n",
      "{'_id': 'd457b342-6c95-4b90-aafb-f101ec1b9f81', 'domain_id': '27a5878e-7b67-4f48-b62f-60ad51e3e44d', 'pl0': 0.5559554751414966, 'pt': 0.35856482370405673, 'ps': 0.06752832095438509, 'pg': 0.08963736904199968, 'm_time': 6.798388612173479, 'sd_time': 1.6995971530433698}\n",
      "{'_id': '0854ecde-401a-4d56-a2fa-160236a5a17c', 'domain_id': '27a5878e-7b67-4f48-b62f-60ad51e3e44d', 'pl0': 0.6120411956511311, 'pt': 0.34864750887982726, 'ps': 0.188497378648395, 'pg': 0.29134727854632714, 'm_time': 9.897891935515236, 'sd_time': 2.474472983878809}\n",
      "{'_id': '9deb06da-46e0-47eb-93f5-c338d2436b0c', 'domain_id': '27a5878e-7b67-4f48-b62f-60ad51e3e44d', 'pl0': 0.34993087839223136, 'pt': 0.13856889352029036, 'ps': 0.3612459964912411, 'pg': 0.14981263167840428, 'm_time': 3.7405930032449604, 'sd_time': 0.9351482508112401}\n",
      "{'_id': 'a3edc1b0-4498-4514-9e04-895b897e303a', 'domain_id': '27a5878e-7b67-4f48-b62f-60ad51e3e44d', 'pl0': 0.2187916004537186, 'pt': 0.06384567995199492, 'ps': 0.1400977321713198, 'pg': 0.3037482958409943, 'm_time': 11.50547828270771, 'sd_time': 2.8763695706769274}\n",
      "{'_id': '618dc673-0853-4919-a828-212d4a5108d4', 'domain_id': '27a5878e-7b67-4f48-b62f-60ad51e3e44d', 'pl0': 0.44236313374725467, 'pt': 0.22170627788150318, 'ps': 0.18886170098827276, 'pg': 0.23863904818695014, 'm_time': 8.120073219706633, 'sd_time': 2.0300183049266582}\n",
      "{'_id': 'ce856413-1f5a-4490-881a-a2c2b023a7c9', 'domain_id': '27a5878e-7b67-4f48-b62f-60ad51e3e44d', 'pl0': 0.29078554064662565, 'pt': 0.2644070365126867, 'ps': 0.18885105147477582, 'pg': 0.13199314113115537, 'm_time': 7.520856265148867, 'sd_time': 1.8802140662872167}\n",
      "{'_id': '71d9ae4b-9266-4873-8aa3-5196a1f3d4a3', 'domain_id': '27a5878e-7b67-4f48-b62f-60ad51e3e44d', 'pl0': 0.35136654811882573, 'pt': 0.23637344341874134, 'ps': 0.21588767186976712, 'pg': 0.018786810050942432, 'm_time': 11.08563004246966, 'sd_time': 2.771407510617415}\n",
      "{'_id': '26e013d7-e097-4198-8327-e295051c3bf3', 'domain_id': '27a5878e-7b67-4f48-b62f-60ad51e3e44d', 'pl0': 0.43541363413738365, 'pt': 0.31067911985233254, 'ps': 0.18641019714487794, 'pg': 0.09385581363692905, 'm_time': 5.369191131622545, 'sd_time': 1.3422977829056362}\n",
      "{'_id': '1ff59d54-4411-4ade-9aa6-301cd3d408f8', 'domain_id': '27a5878e-7b67-4f48-b62f-60ad51e3e44d', 'pl0': 0.5332737232595077, 'pt': 0.32479620049630065, 'ps': 0.053434720646302517, 'pg': 0.06403720162000276, 'm_time': 5.73181758343371, 'sd_time': 1.4329543958584274}\n",
      "{'_id': '8ce577fe-2c90-4c8e-84ea-4bc62db88609', 'domain_id': '27a5878e-7b67-4f48-b62f-60ad51e3e44d', 'pl0': 0.45912994590025497, 'pt': 0.1448137467420953, 'ps': 0.11816721340381087, 'pg': 0.2100144102737263, 'm_time': 8.704620714126325, 'sd_time': 2.176155178531581}\n",
      "{'_id': '95575e66-19c8-4a97-a187-760bb90292ba', 'domain_id': '27a5878e-7b67-4f48-b62f-60ad51e3e44d', 'pl0': 0.14127436895993695, 'pt': 0.2834496831802701, 'ps': 0.13498620060778183, 'pg': 0.17279040634482692, 'm_time': 4.735239822127762, 'sd_time': 1.1838099555319406}\n"
     ]
    }
   ],
   "source": [
    "for result in results:\n",
    "    print(result)\n",
    "#    d = pd.Series(result)\n",
    " #   print(d.shape)"
   ]
  },
  {
   "cell_type": "code",
   "execution_count": null,
   "metadata": {},
   "outputs": [],
   "source": []
  }
 ],
 "metadata": {
  "kernelspec": {
   "display_name": "Python 3",
   "language": "python",
   "name": "python3"
  },
  "language_info": {
   "codemirror_mode": {
    "name": "ipython",
    "version": 3
   },
   "file_extension": ".py",
   "mimetype": "text/x-python",
   "name": "python",
   "nbconvert_exporter": "python",
   "pygments_lexer": "ipython3",
   "version": "3.8.5"
  }
 },
 "nbformat": 4,
 "nbformat_minor": 4
}
