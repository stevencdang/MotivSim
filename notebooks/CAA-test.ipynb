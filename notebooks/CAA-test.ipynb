{
 "cells": [
  {
   "cell_type": "markdown",
   "metadata": {},
   "source": [
    "# Canonical Autocorrelation Analysis Test Run"
   ]
  },
  {
   "cell_type": "markdown",
   "metadata": {},
   "source": [
    "This notebook attempts to perform data prep and runs the CAA method on the transaction data"
   ]
  },
  {
   "cell_type": "code",
   "execution_count": 1,
   "metadata": {},
   "outputs": [],
   "source": [
    "import sys\n",
    "sys.path.append(\"../lib\")"
   ]
  },
  {
   "cell_type": "code",
   "execution_count": 2,
   "metadata": {},
   "outputs": [],
   "source": [
    "import logging\n",
    "import random\n",
    "import uuid\n",
    "import os\n",
    "from collections.abc import Iterable\n",
    "\n",
    "import numpy as np\n",
    "import pandas as pd\n",
    "import matplotlib.pyplot as plt"
   ]
  },
  {
   "cell_type": "code",
   "execution_count": 3,
   "metadata": {},
   "outputs": [],
   "source": [
    "from log_db import mongo\n",
    "from CanonicalAutocorrelationAnalysis.model.caa import *\n",
    "from CanonicalAutocorrelationAnalysis.model.caaObject import CAA\n",
    "from CanonicalAutocorrelationAnalysis.model.utils import l1Norm, l2Norm, r2Compute"
   ]
  },
  {
   "cell_type": "code",
   "execution_count": 4,
   "metadata": {},
   "outputs": [],
   "source": [
    "#logging.basicConfig(level=logging.DEBUG)\n",
    "logging.basicConfig(level=logging.INFO)\n",
    "logger = logging.getLogger(\"main\")"
   ]
  },
  {
   "cell_type": "code",
   "execution_count": 5,
   "metadata": {},
   "outputs": [
    {
     "name": "stderr",
     "output_type": "stream",
     "text": [
      "INFO:main:Test info\n",
      "WARNING:main:Test warning\n"
     ]
    }
   ],
   "source": [
    "#logging.getLogger().setLevel(logging.DEBUG)\n",
    "logging.getLogger().setLevel(logging.INFO)\n",
    "#logging.getLogger().setLevel(logging.WARNING)\n",
    "logger.debug(\"Test debug\")\n",
    "logger.info(\"Test info\")\n",
    "logger.warning(\"Test warning\")"
   ]
  },
  {
   "cell_type": "code",
   "execution_count": 6,
   "metadata": {},
   "outputs": [],
   "source": [
    "# Get path to current project directory\n",
    "cwd = os.path.abspath(\".\")\n",
    "base_dir = os.path.abspath(os.path.join(cwd, os.pardir))\n",
    "logger.debug(\"Base directory for the project:\\n%s\" % base_dir)"
   ]
  },
  {
   "cell_type": "code",
   "execution_count": 7,
   "metadata": {},
   "outputs": [
    {
     "name": "stderr",
     "output_type": "stream",
     "text": [
      "INFO:main:Writing simulation results to directory: /rdata/Sandbox/MotivSim/test/data/sim-08473ed3-61fe-411f-83e1-5687ddb781c7\n",
      "INFO:main:got db params: {'settingId': 'motivsim', 'url': 'localhost', 'port': '27017', 'name': 'motivsim', 'user': '', 'pswd': ''}\n"
     ]
    }
   ],
   "source": [
    "# Setup connection to database\n",
    "data_out = \"sim-%s\" % str(uuid.uuid4())\n",
    "data_path = os.path.join(base_dir,\"test\", \"data\", data_out)\n",
    "logger.info(\"Writing simulation results to directory: %s\" % data_path)\n",
    "db_name = \"motivsim\"\n",
    "db_params  = mongo.get_db_params(db_name)\n",
    "logger.info(\"got db params: %s\" % str(db_params))\n",
    "db_util = mongo.Data_Utility(data_path, db_params)\n",
    "db = db_util.db"
   ]
  },
  {
   "cell_type": "markdown",
   "metadata": {},
   "source": [
    "## Prepping Data"
   ]
  },
  {
   "cell_type": "code",
   "execution_count": 8,
   "metadata": {},
   "outputs": [
    {
     "name": "stderr",
     "output_type": "stream",
     "text": [
      "INFO:main:Learner Transactions: (470030, 17)\n"
     ]
    },
    {
     "data": {
      "text/html": [
       "<div>\n",
       "<style scoped>\n",
       "    .dataframe tbody tr th:only-of-type {\n",
       "        vertical-align: middle;\n",
       "    }\n",
       "\n",
       "    .dataframe tbody tr th {\n",
       "        vertical-align: top;\n",
       "    }\n",
       "\n",
       "    .dataframe thead th {\n",
       "        text-align: right;\n",
       "    }\n",
       "</style>\n",
       "<table border=\"1\" class=\"dataframe\">\n",
       "  <thead>\n",
       "    <tr style=\"text-align: right;\">\n",
       "      <th></th>\n",
       "      <th>_id</th>\n",
       "      <th>type</th>\n",
       "      <th>time</th>\n",
       "      <th>curric_id</th>\n",
       "      <th>unit_id</th>\n",
       "      <th>section_id</th>\n",
       "      <th>prob_id</th>\n",
       "      <th>step_id</th>\n",
       "      <th>stu_id</th>\n",
       "      <th>duration</th>\n",
       "      <th>outcome</th>\n",
       "      <th>kcs</th>\n",
       "      <th>plt</th>\n",
       "      <th>plt1</th>\n",
       "      <th>hints_used</th>\n",
       "      <th>hints_avail</th>\n",
       "      <th>attempt</th>\n",
       "    </tr>\n",
       "  </thead>\n",
       "  <tbody>\n",
       "    <tr>\n",
       "      <th>0</th>\n",
       "      <td>0f2db992-e2ad-43d2-8831-b01ef1f83c04</td>\n",
       "      <td>Tutor Input</td>\n",
       "      <td>2020-11-13 20:04:44.568</td>\n",
       "      <td>5b7d4068-4287-4585-a705-8ea1a72f4761</td>\n",
       "      <td>28660318-8fc7-4568-8c13-aa412261927d</td>\n",
       "      <td>2649cdbc-2676-4ffe-8e62-fd8c2544444d</td>\n",
       "      <td>9f64f057-5af4-4f06-aec8-79a2852178dc</td>\n",
       "      <td>ea76e6b2-50a9-4fe5-b047-f6560142b4ec</td>\n",
       "      <td>5332323f-0421-4dd1-b901-83091a8ac9a8</td>\n",
       "      <td>4.044265</td>\n",
       "      <td>Hint</td>\n",
       "      <td>[{'_id': '219c53ea-ba56-4768-b9fb-affbf6a54aa0...</td>\n",
       "      <td>0.442520</td>\n",
       "      <td>0.515336</td>\n",
       "      <td>0</td>\n",
       "      <td>3</td>\n",
       "      <td>0</td>\n",
       "    </tr>\n",
       "    <tr>\n",
       "      <th>1</th>\n",
       "      <td>9952babc-01c8-44d9-898d-28f70a99c3e5</td>\n",
       "      <td>Tutor Input</td>\n",
       "      <td>2020-11-13 20:04:46.146</td>\n",
       "      <td>5b7d4068-4287-4585-a705-8ea1a72f4761</td>\n",
       "      <td>28660318-8fc7-4568-8c13-aa412261927d</td>\n",
       "      <td>2649cdbc-2676-4ffe-8e62-fd8c2544444d</td>\n",
       "      <td>9f64f057-5af4-4f06-aec8-79a2852178dc</td>\n",
       "      <td>ea76e6b2-50a9-4fe5-b047-f6560142b4ec</td>\n",
       "      <td>5332323f-0421-4dd1-b901-83091a8ac9a8</td>\n",
       "      <td>1.577746</td>\n",
       "      <td>Hint</td>\n",
       "      <td>[{'_id': '219c53ea-ba56-4768-b9fb-affbf6a54aa0...</td>\n",
       "      <td>0.515336</td>\n",
       "      <td>0.515336</td>\n",
       "      <td>1</td>\n",
       "      <td>2</td>\n",
       "      <td>1</td>\n",
       "    </tr>\n",
       "    <tr>\n",
       "      <th>2</th>\n",
       "      <td>02160b6e-dc3f-4ff0-b384-2ab063596443</td>\n",
       "      <td>Tutor Input</td>\n",
       "      <td>2020-11-13 20:05:10.003</td>\n",
       "      <td>5b7d4068-4287-4585-a705-8ea1a72f4761</td>\n",
       "      <td>28660318-8fc7-4568-8c13-aa412261927d</td>\n",
       "      <td>2649cdbc-2676-4ffe-8e62-fd8c2544444d</td>\n",
       "      <td>9f64f057-5af4-4f06-aec8-79a2852178dc</td>\n",
       "      <td>ea76e6b2-50a9-4fe5-b047-f6560142b4ec</td>\n",
       "      <td>5332323f-0421-4dd1-b901-83091a8ac9a8</td>\n",
       "      <td>23.857322</td>\n",
       "      <td>Correct</td>\n",
       "      <td>[{'_id': '219c53ea-ba56-4768-b9fb-affbf6a54aa0...</td>\n",
       "      <td>0.515336</td>\n",
       "      <td>0.515336</td>\n",
       "      <td>2</td>\n",
       "      <td>1</td>\n",
       "      <td>2</td>\n",
       "    </tr>\n",
       "    <tr>\n",
       "      <th>3</th>\n",
       "      <td>819c8b8f-7ac7-4999-bd85-a88ad7578b5c</td>\n",
       "      <td>Tutor Input</td>\n",
       "      <td>2020-11-13 20:05:25.460</td>\n",
       "      <td>5b7d4068-4287-4585-a705-8ea1a72f4761</td>\n",
       "      <td>28660318-8fc7-4568-8c13-aa412261927d</td>\n",
       "      <td>2649cdbc-2676-4ffe-8e62-fd8c2544444d</td>\n",
       "      <td>9f64f057-5af4-4f06-aec8-79a2852178dc</td>\n",
       "      <td>6c40d097-af6e-437e-8072-943cb341f983</td>\n",
       "      <td>5332323f-0421-4dd1-b901-83091a8ac9a8</td>\n",
       "      <td>15.456750</td>\n",
       "      <td>Correct</td>\n",
       "      <td>[{'_id': '219c53ea-ba56-4768-b9fb-affbf6a54aa0...</td>\n",
       "      <td>0.515336</td>\n",
       "      <td>0.845713</td>\n",
       "      <td>0</td>\n",
       "      <td>3</td>\n",
       "      <td>0</td>\n",
       "    </tr>\n",
       "    <tr>\n",
       "      <th>4</th>\n",
       "      <td>31d6718e-6330-4fd3-89fb-144749adbea6</td>\n",
       "      <td>Tutor Input</td>\n",
       "      <td>2020-11-13 20:05:28.448</td>\n",
       "      <td>5b7d4068-4287-4585-a705-8ea1a72f4761</td>\n",
       "      <td>28660318-8fc7-4568-8c13-aa412261927d</td>\n",
       "      <td>2649cdbc-2676-4ffe-8e62-fd8c2544444d</td>\n",
       "      <td>69bcd12f-aaf7-4dfe-a1cd-5b97e908febe</td>\n",
       "      <td>04502906-ce8e-46e6-8ce2-1fa8e702aa9f</td>\n",
       "      <td>5332323f-0421-4dd1-b901-83091a8ac9a8</td>\n",
       "      <td>2.988336</td>\n",
       "      <td>Incorrect</td>\n",
       "      <td>[{'_id': '219c53ea-ba56-4768-b9fb-affbf6a54aa0...</td>\n",
       "      <td>0.845713</td>\n",
       "      <td>0.667008</td>\n",
       "      <td>0</td>\n",
       "      <td>3</td>\n",
       "      <td>0</td>\n",
       "    </tr>\n",
       "  </tbody>\n",
       "</table>\n",
       "</div>"
      ],
      "text/plain": [
       "                                    _id         type                    time  \\\n",
       "0  0f2db992-e2ad-43d2-8831-b01ef1f83c04  Tutor Input 2020-11-13 20:04:44.568   \n",
       "1  9952babc-01c8-44d9-898d-28f70a99c3e5  Tutor Input 2020-11-13 20:04:46.146   \n",
       "2  02160b6e-dc3f-4ff0-b384-2ab063596443  Tutor Input 2020-11-13 20:05:10.003   \n",
       "3  819c8b8f-7ac7-4999-bd85-a88ad7578b5c  Tutor Input 2020-11-13 20:05:25.460   \n",
       "4  31d6718e-6330-4fd3-89fb-144749adbea6  Tutor Input 2020-11-13 20:05:28.448   \n",
       "\n",
       "                              curric_id                               unit_id  \\\n",
       "0  5b7d4068-4287-4585-a705-8ea1a72f4761  28660318-8fc7-4568-8c13-aa412261927d   \n",
       "1  5b7d4068-4287-4585-a705-8ea1a72f4761  28660318-8fc7-4568-8c13-aa412261927d   \n",
       "2  5b7d4068-4287-4585-a705-8ea1a72f4761  28660318-8fc7-4568-8c13-aa412261927d   \n",
       "3  5b7d4068-4287-4585-a705-8ea1a72f4761  28660318-8fc7-4568-8c13-aa412261927d   \n",
       "4  5b7d4068-4287-4585-a705-8ea1a72f4761  28660318-8fc7-4568-8c13-aa412261927d   \n",
       "\n",
       "                             section_id                               prob_id  \\\n",
       "0  2649cdbc-2676-4ffe-8e62-fd8c2544444d  9f64f057-5af4-4f06-aec8-79a2852178dc   \n",
       "1  2649cdbc-2676-4ffe-8e62-fd8c2544444d  9f64f057-5af4-4f06-aec8-79a2852178dc   \n",
       "2  2649cdbc-2676-4ffe-8e62-fd8c2544444d  9f64f057-5af4-4f06-aec8-79a2852178dc   \n",
       "3  2649cdbc-2676-4ffe-8e62-fd8c2544444d  9f64f057-5af4-4f06-aec8-79a2852178dc   \n",
       "4  2649cdbc-2676-4ffe-8e62-fd8c2544444d  69bcd12f-aaf7-4dfe-a1cd-5b97e908febe   \n",
       "\n",
       "                                step_id                                stu_id  \\\n",
       "0  ea76e6b2-50a9-4fe5-b047-f6560142b4ec  5332323f-0421-4dd1-b901-83091a8ac9a8   \n",
       "1  ea76e6b2-50a9-4fe5-b047-f6560142b4ec  5332323f-0421-4dd1-b901-83091a8ac9a8   \n",
       "2  ea76e6b2-50a9-4fe5-b047-f6560142b4ec  5332323f-0421-4dd1-b901-83091a8ac9a8   \n",
       "3  6c40d097-af6e-437e-8072-943cb341f983  5332323f-0421-4dd1-b901-83091a8ac9a8   \n",
       "4  04502906-ce8e-46e6-8ce2-1fa8e702aa9f  5332323f-0421-4dd1-b901-83091a8ac9a8   \n",
       "\n",
       "    duration    outcome                                                kcs  \\\n",
       "0   4.044265       Hint  [{'_id': '219c53ea-ba56-4768-b9fb-affbf6a54aa0...   \n",
       "1   1.577746       Hint  [{'_id': '219c53ea-ba56-4768-b9fb-affbf6a54aa0...   \n",
       "2  23.857322    Correct  [{'_id': '219c53ea-ba56-4768-b9fb-affbf6a54aa0...   \n",
       "3  15.456750    Correct  [{'_id': '219c53ea-ba56-4768-b9fb-affbf6a54aa0...   \n",
       "4   2.988336  Incorrect  [{'_id': '219c53ea-ba56-4768-b9fb-affbf6a54aa0...   \n",
       "\n",
       "        plt      plt1  hints_used  hints_avail  attempt  \n",
       "0  0.442520  0.515336           0            3        0  \n",
       "1  0.515336  0.515336           1            2        1  \n",
       "2  0.515336  0.515336           2            1        2  \n",
       "3  0.515336  0.845713           0            3        0  \n",
       "4  0.845713  0.667008           0            3        0  "
      ]
     },
     "execution_count": 8,
     "metadata": {},
     "output_type": "execute_result"
    }
   ],
   "source": [
    "# Get learner transactions\n",
    "tx = pd.DataFrame(db.tutor_events.find({'type': \"Tutor Input\"}))\n",
    "logger.info(\"Learner Transactions: %s\" % str(tx.shape))\n",
    "tx.head()"
   ]
  },
  {
   "cell_type": "code",
   "execution_count": 20,
   "metadata": {},
   "outputs": [],
   "source": [
    "# Add kc field that reduces list of kcs to 1 kc\n",
    "tx['kc'] = tx.apply(lambda x: x['kcs'][0]['_id'], axis=1)"
   ]
  },
  {
   "cell_type": "code",
   "execution_count": 21,
   "metadata": {},
   "outputs": [
    {
     "name": "stderr",
     "output_type": "stream",
     "text": [
      "INFO:main:Number of transactions with negative duration: 0 out of 447009(0.00%)\n"
     ]
    }
   ],
   "source": [
    "# Number of transactions with negative duration\n",
    "# This is a sanity check\n",
    "count = np.sum(tx['duration'] < 0)\n",
    "logger.info(\"Number of transactions with negative duration: %i out of %i(%.2f%%)\" % (count, tx.shape[0], count * 100 / tx.shape[0]))"
   ]
  },
  {
   "cell_type": "code",
   "execution_count": 22,
   "metadata": {},
   "outputs": [
    {
     "name": "stdout",
     "output_type": "stream",
     "text": [
      "_id\n",
      "type\n",
      "time\n",
      "curric_id\n",
      "unit_id\n",
      "section_id\n",
      "prob_id\n",
      "step_id\n",
      "stu_id\n",
      "duration\n",
      "outcome\n",
      "kcs\n",
      "plt\n",
      "plt1\n",
      "hints_used\n",
      "hints_avail\n",
      "attempt\n",
      "kc\n"
     ]
    }
   ],
   "source": [
    "for col in tx.columns:\n",
    "    print(col)"
   ]
  },
  {
   "cell_type": "code",
   "execution_count": 23,
   "metadata": {},
   "outputs": [
    {
     "name": "stdout",
     "output_type": "stream",
     "text": [
      "Correct = 0\n",
      "Incorrect = 1\n",
      "Hint = 2\n"
     ]
    },
    {
     "name": "stderr",
     "output_type": "stream",
     "text": [
      "/rdata/Sandbox/MotivSim/notebooks/jvenv/lib/python3.8/site-packages/pandas/core/indexing.py:1765: SettingWithCopyWarning: \n",
      "A value is trying to be set on a copy of a slice from a DataFrame.\n",
      "Try using .loc[row_indexer,col_indexer] = value instead\n",
      "\n",
      "See the caveats in the documentation: https://pandas.pydata.org/pandas-docs/stable/user_guide/indexing.html#returning-a-view-versus-a-copy\n",
      "  isetter(loc, value)\n"
     ]
    },
    {
     "data": {
      "text/html": [
       "<div>\n",
       "<style scoped>\n",
       "    .dataframe tbody tr th:only-of-type {\n",
       "        vertical-align: middle;\n",
       "    }\n",
       "\n",
       "    .dataframe tbody tr th {\n",
       "        vertical-align: top;\n",
       "    }\n",
       "\n",
       "    .dataframe thead th {\n",
       "        text-align: right;\n",
       "    }\n",
       "</style>\n",
       "<table border=\"1\" class=\"dataframe\">\n",
       "  <thead>\n",
       "    <tr style=\"text-align: right;\">\n",
       "      <th></th>\n",
       "      <th>duration</th>\n",
       "      <th>plt</th>\n",
       "      <th>hints_used</th>\n",
       "      <th>hints_avail</th>\n",
       "      <th>attempt</th>\n",
       "      <th>outcome</th>\n",
       "    </tr>\n",
       "    <tr>\n",
       "      <th>_id</th>\n",
       "      <th></th>\n",
       "      <th></th>\n",
       "      <th></th>\n",
       "      <th></th>\n",
       "      <th></th>\n",
       "      <th></th>\n",
       "    </tr>\n",
       "  </thead>\n",
       "  <tbody>\n",
       "    <tr>\n",
       "      <th>bbcd5476-b03e-45d1-99ec-50f449be0d74</th>\n",
       "      <td>16.516351</td>\n",
       "      <td>0.356412</td>\n",
       "      <td>0</td>\n",
       "      <td>3</td>\n",
       "      <td>0</td>\n",
       "      <td>0</td>\n",
       "    </tr>\n",
       "    <tr>\n",
       "      <th>a921cc4e-5c38-47ac-9d2a-0310d632efc2</th>\n",
       "      <td>2.339306</td>\n",
       "      <td>0.768261</td>\n",
       "      <td>0</td>\n",
       "      <td>3</td>\n",
       "      <td>0</td>\n",
       "      <td>1</td>\n",
       "    </tr>\n",
       "    <tr>\n",
       "      <th>82b2d930-db3a-40f0-beea-b64bfc4222f4</th>\n",
       "      <td>21.815426</td>\n",
       "      <td>0.840939</td>\n",
       "      <td>0</td>\n",
       "      <td>3</td>\n",
       "      <td>1</td>\n",
       "      <td>0</td>\n",
       "    </tr>\n",
       "    <tr>\n",
       "      <th>f5218ca0-e505-4ba6-83f1-5004c3486ebb</th>\n",
       "      <td>17.616393</td>\n",
       "      <td>0.840939</td>\n",
       "      <td>0</td>\n",
       "      <td>3</td>\n",
       "      <td>0</td>\n",
       "      <td>0</td>\n",
       "    </tr>\n",
       "    <tr>\n",
       "      <th>de188246-2d95-44c6-a2eb-4f1fcbfbeb91</th>\n",
       "      <td>22.452271</td>\n",
       "      <td>0.949197</td>\n",
       "      <td>0</td>\n",
       "      <td>3</td>\n",
       "      <td>0</td>\n",
       "      <td>1</td>\n",
       "    </tr>\n",
       "  </tbody>\n",
       "</table>\n",
       "</div>"
      ],
      "text/plain": [
       "                                       duration       plt  hints_used  \\\n",
       "_id                                                                     \n",
       "bbcd5476-b03e-45d1-99ec-50f449be0d74  16.516351  0.356412           0   \n",
       "a921cc4e-5c38-47ac-9d2a-0310d632efc2   2.339306  0.768261           0   \n",
       "82b2d930-db3a-40f0-beea-b64bfc4222f4  21.815426  0.840939           0   \n",
       "f5218ca0-e505-4ba6-83f1-5004c3486ebb  17.616393  0.840939           0   \n",
       "de188246-2d95-44c6-a2eb-4f1fcbfbeb91  22.452271  0.949197           0   \n",
       "\n",
       "                                      hints_avail  attempt outcome  \n",
       "_id                                                                 \n",
       "bbcd5476-b03e-45d1-99ec-50f449be0d74            3        0       0  \n",
       "a921cc4e-5c38-47ac-9d2a-0310d632efc2            3        0       1  \n",
       "82b2d930-db3a-40f0-beea-b64bfc4222f4            3        1       0  \n",
       "f5218ca0-e505-4ba6-83f1-5004c3486ebb            3        0       0  \n",
       "de188246-2d95-44c6-a2eb-4f1fcbfbeb91            3        0       1  "
      ]
     },
     "execution_count": 23,
     "metadata": {},
     "output_type": "execute_result"
    }
   ],
   "source": [
    "data = tx[['duration', 'plt', 'hints_used', 'hints_avail', 'attempt', 'outcome']]\n",
    "outcomes = data['outcome'].unique()\n",
    "for i, outcome in enumerate(outcomes):\n",
    "    print(f\"{outcome} = {i}\")\n",
    "    data.loc[data['outcome'] == outcome, 'outcome'] = i\n",
    "# d = tx[['duration', 'kc', 'plt', 'hints_used', 'hints_avail', 'attempt', 'outcome']]\n",
    "data.index = tx['_id']\n",
    "data.head()"
   ]
  },
  {
   "cell_type": "code",
   "execution_count": 24,
   "metadata": {},
   "outputs": [],
   "source": [
    "## Running CAA"
   ]
  },
  {
   "cell_type": "code",
   "execution_count": 25,
   "metadata": {},
   "outputs": [],
   "source": [
    "row, features = data.shape"
   ]
  },
  {
   "cell_type": "code",
   "execution_count": 26,
   "metadata": {},
   "outputs": [],
   "source": [
    "std = np.std(data, axis = 0)\n",
    "std[std == 0] = 1\n",
    "X = (data - np.mean(data, axis = 0)) / std"
   ]
  },
  {
   "cell_type": "code",
   "execution_count": 27,
   "metadata": {},
   "outputs": [],
   "source": [
    "penalty1 = 0.35\n",
    "penalty2 = 0.35\n",
    "\n",
    "maxProj = features\n",
    "minr2 = None\n",
    "scale = True\n",
    "doubleInit = True\n",
    "orthogonality = False"
   ]
  },
  {
   "cell_type": "code",
   "execution_count": 28,
   "metadata": {},
   "outputs": [],
   "source": [
    "Co = X.T.dot(X) / row"
   ]
  },
  {
   "cell_type": "code",
   "execution_count": 29,
   "metadata": {},
   "outputs": [
    {
     "data": {
      "text/html": [
       "<div>\n",
       "<style scoped>\n",
       "    .dataframe tbody tr th:only-of-type {\n",
       "        vertical-align: middle;\n",
       "    }\n",
       "\n",
       "    .dataframe tbody tr th {\n",
       "        vertical-align: top;\n",
       "    }\n",
       "\n",
       "    .dataframe thead th {\n",
       "        text-align: right;\n",
       "    }\n",
       "</style>\n",
       "<table border=\"1\" class=\"dataframe\">\n",
       "  <thead>\n",
       "    <tr style=\"text-align: right;\">\n",
       "      <th></th>\n",
       "      <th>duration</th>\n",
       "      <th>plt</th>\n",
       "      <th>hints_used</th>\n",
       "      <th>hints_avail</th>\n",
       "      <th>attempt</th>\n",
       "      <th>outcome</th>\n",
       "    </tr>\n",
       "  </thead>\n",
       "  <tbody>\n",
       "    <tr>\n",
       "      <th>duration</th>\n",
       "      <td>0</td>\n",
       "      <td>0.0579804</td>\n",
       "      <td>0.0052377</td>\n",
       "      <td>-0.0052377</td>\n",
       "      <td>0.00399884</td>\n",
       "      <td>-0.408473</td>\n",
       "    </tr>\n",
       "    <tr>\n",
       "      <th>plt</th>\n",
       "      <td>0.0579804</td>\n",
       "      <td>0</td>\n",
       "      <td>-0.291047</td>\n",
       "      <td>0.291047</td>\n",
       "      <td>-0.319416</td>\n",
       "      <td>-0.21855</td>\n",
       "    </tr>\n",
       "    <tr>\n",
       "      <th>hints_used</th>\n",
       "      <td>0.0052377</td>\n",
       "      <td>-0.291047</td>\n",
       "      <td>0</td>\n",
       "      <td>-1</td>\n",
       "      <td>0.760946</td>\n",
       "      <td>0.0809419</td>\n",
       "    </tr>\n",
       "    <tr>\n",
       "      <th>hints_avail</th>\n",
       "      <td>-0.0052377</td>\n",
       "      <td>0.291047</td>\n",
       "      <td>-1</td>\n",
       "      <td>0</td>\n",
       "      <td>-0.760946</td>\n",
       "      <td>-0.0809419</td>\n",
       "    </tr>\n",
       "    <tr>\n",
       "      <th>attempt</th>\n",
       "      <td>0.00399884</td>\n",
       "      <td>-0.319416</td>\n",
       "      <td>0.760946</td>\n",
       "      <td>-0.760946</td>\n",
       "      <td>0</td>\n",
       "      <td>0.109113</td>\n",
       "    </tr>\n",
       "    <tr>\n",
       "      <th>outcome</th>\n",
       "      <td>-0.408473</td>\n",
       "      <td>-0.21855</td>\n",
       "      <td>0.0809419</td>\n",
       "      <td>-0.0809419</td>\n",
       "      <td>0.109113</td>\n",
       "      <td>0</td>\n",
       "    </tr>\n",
       "  </tbody>\n",
       "</table>\n",
       "</div>"
      ],
      "text/plain": [
       "               duration        plt hints_used hints_avail     attempt  \\\n",
       "duration              0  0.0579804  0.0052377  -0.0052377  0.00399884   \n",
       "plt           0.0579804          0  -0.291047    0.291047   -0.319416   \n",
       "hints_used    0.0052377  -0.291047          0          -1    0.760946   \n",
       "hints_avail  -0.0052377   0.291047         -1           0   -0.760946   \n",
       "attempt      0.00399884  -0.319416   0.760946   -0.760946           0   \n",
       "outcome       -0.408473   -0.21855  0.0809419  -0.0809419    0.109113   \n",
       "\n",
       "               outcome  \n",
       "duration     -0.408473  \n",
       "plt           -0.21855  \n",
       "hints_used   0.0809419  \n",
       "hints_avail -0.0809419  \n",
       "attempt       0.109113  \n",
       "outcome              0  "
      ]
     },
     "execution_count": 29,
     "metadata": {},
     "output_type": "execute_result"
    }
   ],
   "source": [
    "# Remove diagonal values to avoid max\n",
    "diag_rows, diag_cols = np.diag_indices_from(Co)\n",
    "for tup in zip(diag_rows, diag_cols):\n",
    "    Co.iloc[tup[0],tup[1]] = 0\n",
    "    \n",
    "Co"
   ]
  },
  {
   "cell_type": "code",
   "execution_count": 30,
   "metadata": {},
   "outputs": [],
   "source": [
    "uList, vList, rSquare, dList = [], [], [], []"
   ]
  },
  {
   "cell_type": "code",
   "execution_count": 31,
   "metadata": {},
   "outputs": [],
   "source": [
    "for _ in range(maxProj):\n",
    "    maxCorr = np.unravel_index(np.argmax(np.abs(Co), axis=None), Co.shape)\n",
    "\n",
    "    u, v = np.zeros((1, features)), np.zeros((1, features))\n",
    "    u[0, maxCorr[0]] = 1.\n",
    "    v[0, maxCorr[1]] = 1.\n",
    "\n",
    "    if doubleInit:\n",
    "        c1 = c2 = 0.5 * np.sqrt(features)\n",
    "        try:\n",
    "            u, v = computeProjection(Co, u, v, c1, c2)\n",
    "        except:\n",
    "            result = CAA(uList, vList, dList, rSquare, penalty1, penalty2, data)\n",
    "\n",
    "    c1 = penalty1 * np.sqrt(features)\n",
    "    c2 = penalty2 * np.sqrt(features)\n",
    "    try:\n",
    "        u, v = computeProjection(Co, u, v, c1, c2)\n",
    "    except:\n",
    "        result = CAA(uList, vList, dList, rSquare, penalty1, penalty2, data)\n",
    "    d = np.dot(np.dot(u,Co),v.T).flatten()\n",
    "    r = r2Compute(u, v, X)\n",
    "    \n",
    "\n",
    "    # Append values to the list\n",
    "    if minr2 is None or r >= minr2:\n",
    "        uList.append(u)\n",
    "        vList.append(v)\n",
    "        dList.append(d)\n",
    "        rSquare.append(r)\n",
    "\n",
    "    # Update Correlation Matrix\n",
    "    Co -= d * (np.matmul(u.T,v) + np.matmul(v.T,u))\n",
    "    if orthogonality:\n",
    "        selection = np.ones_like(Co)\n",
    "        notNull = (np.abs(u) + np.abs(v) != 0).flatten()\n",
    "        selection[notNull,:] = 0\n",
    "        selection[:,notNull] = 0\n",
    "        Co[selection == 0] = 0\n",
    "\n",
    "result = CAA(uList, vList, dList, rSquare, penalty1, penalty2, data)"
   ]
  },
  {
   "cell_type": "code",
   "execution_count": 32,
   "metadata": {},
   "outputs": [
    {
     "name": "stdout",
     "output_type": "stream",
     "text": [
      "CAA\n",
      "Projection \n",
      "\t u => [[0.0 1.0442764297686224e-05 -0.8335308812040942 0.0 -0.5524728680850081\n",
      "  0.0]]\n",
      "\t v => [[0.0 0.0 0.0 0.9999999999806073 0.0 -6.227806606510826e-06]]\n",
      "\t d => [1.2539365300600642]\n",
      "Projection \n",
      "\t u => [[0.0 -2.3566103130557086e-06 0.9999999999972232 0.0 0.0 0.0]]\n",
      "\t v => [[0.0 0.0 0.0 0.0 0.9999999999995992 8.952681107598728e-07]]\n",
      "\t d => [0.7609464538572956]\n",
      "Projection \n",
      "\t u => [[-0.8602344698905922 -0.509898672639855 0.0 0.0 2.1264198166580708e-05\n",
      "  0.0]]\n",
      "\t v => [[0.0 0.0 0.11957192241557353 -0.11955772839479199 0.0 0.985600580839379]]\n",
      "\t d => [0.4905686498054277]\n",
      "Projection \n",
      "\t u => [[0.0 -0.9999999994988227 0.0 0.0 0.0 3.165998652235883e-05]]\n",
      "\t v => [[0.0 0.0 7.940371839386965e-05 0.0 0.9999999968475247 0.0]]\n",
      "\t d => [0.31943884547107776]\n",
      "Projection \n",
      "\t u => [[0.0 0.9999999999900954 0.0 0.0 0.0 -4.450762179394732e-06]]\n",
      "\t v => [[0.0 0.0 0.0 1.0 0.0 0.0]]\n",
      "\t d => [0.2611284950146506]\n",
      "Projection \n",
      "\t u => [[0.0 -0.9999999984968208 0.0 0.0 0.0 5.483026858976103e-05]]\n",
      "\t v => [[0.0 0.0 1.0 0.0 0.0 0.0]]\n",
      "\t d => [0.2611167514791199]\n"
     ]
    }
   ],
   "source": [
    "print(result)"
   ]
  },
  {
   "cell_type": "code",
   "execution_count": 33,
   "metadata": {},
   "outputs": [],
   "source": [
    "p1 = result.projectPoints(data,1)"
   ]
  },
  {
   "cell_type": "code",
   "execution_count": 87,
   "metadata": {},
   "outputs": [
    {
     "ename": "NameError",
     "evalue": "name 'caa' is not defined",
     "output_type": "error",
     "traceback": [
      "\u001b[0;31m---------------------------------------------------------------------------\u001b[0m",
      "\u001b[0;31mNameError\u001b[0m                                 Traceback (most recent call last)",
      "\u001b[0;32m<ipython-input-87-2a8e476ef11f>\u001b[0m in \u001b[0;36m<module>\u001b[0;34m\u001b[0m\n\u001b[0;32m----> 1\u001b[0;31m \u001b[0mcaa\u001b[0m\u001b[0;34m.\u001b[0m\u001b[0mplt\u001b[0m\u001b[0;34m(\u001b[0m\u001b[0mresult\u001b[0m\u001b[0;34m.\u001b[0m\u001b[0mcolumns\u001b[0m\u001b[0;34m,\u001b[0m \u001b[0;32mTrue\u001b[0m\u001b[0;34m)\u001b[0m\u001b[0;34m\u001b[0m\u001b[0;34m\u001b[0m\u001b[0m\n\u001b[0m",
      "\u001b[0;31mNameError\u001b[0m: name 'caa' is not defined"
     ]
    }
   ],
   "source": [
    "caa.plt(result.columns, True)"
   ]
  },
  {
   "cell_type": "code",
   "execution_count": 28,
   "metadata": {},
   "outputs": [
    {
     "ename": "AssertionError",
     "evalue": "Number of manager items must equal union of block items\n# manager items: 351323, # tot_items: 6",
     "output_type": "error",
     "traceback": [
      "\u001b[0;31m---------------------------------------------------------------------------\u001b[0m",
      "\u001b[0;31mAssertionError\u001b[0m                            Traceback (most recent call last)",
      "\u001b[0;32m<ipython-input-28-58750a02ee63>\u001b[0m in \u001b[0;36m<module>\u001b[0;34m\u001b[0m\n\u001b[0;32m----> 1\u001b[0;31m \u001b[0mcaa\u001b[0m \u001b[0;34m=\u001b[0m \u001b[0mCAAComputation\u001b[0m\u001b[0;34m(\u001b[0m\u001b[0md\u001b[0m\u001b[0;34m,\u001b[0m \u001b[0;36m0.35\u001b[0m\u001b[0;34m,\u001b[0m \u001b[0;36m0.35\u001b[0m\u001b[0;34m)\u001b[0m\u001b[0;34m\u001b[0m\u001b[0;34m\u001b[0m\u001b[0m\n\u001b[0m\u001b[1;32m      2\u001b[0m \u001b[0mprint\u001b[0m\u001b[0;34m(\u001b[0m\u001b[0mcaa\u001b[0m\u001b[0;34m)\u001b[0m\u001b[0;34m\u001b[0m\u001b[0;34m\u001b[0m\u001b[0m\n\u001b[1;32m      3\u001b[0m \u001b[0mcaa\u001b[0m\u001b[0;34m.\u001b[0m\u001b[0mplt\u001b[0m\u001b[0;34m(\u001b[0m\u001b[0mdata\u001b[0m\u001b[0;34m.\u001b[0m\u001b[0mcolumns\u001b[0m\u001b[0;34m,\u001b[0m \u001b[0;32mTrue\u001b[0m\u001b[0;34m)\u001b[0m\u001b[0;34m\u001b[0m\u001b[0;34m\u001b[0m\u001b[0m\n",
      "\u001b[0;32m/rdata/Sandbox/MotivSim/lib/CanonicalAutocorrelationAnalysis/model/caa.py\u001b[0m in \u001b[0;36mCAAComputation\u001b[0;34m(dataPoints, penalty1, penalty2, maxProj, minr2, scale, doubleInit, orthogonality)\u001b[0m\n\u001b[1;32m    115\u001b[0m         \u001b[0mX\u001b[0m \u001b[0;34m=\u001b[0m \u001b[0mdataPoints\u001b[0m\u001b[0;34m\u001b[0m\u001b[0;34m\u001b[0m\u001b[0m\n\u001b[1;32m    116\u001b[0m \u001b[0;34m\u001b[0m\u001b[0m\n\u001b[0;32m--> 117\u001b[0;31m     \u001b[0mCo\u001b[0m \u001b[0;34m=\u001b[0m \u001b[0mnp\u001b[0m\u001b[0;34m.\u001b[0m\u001b[0mmatmul\u001b[0m\u001b[0;34m(\u001b[0m\u001b[0mX\u001b[0m\u001b[0;34m.\u001b[0m\u001b[0mT\u001b[0m\u001b[0;34m,\u001b[0m \u001b[0mX\u001b[0m\u001b[0;34m)\u001b[0m \u001b[0;34m/\u001b[0m \u001b[0mrow\u001b[0m\u001b[0;34m\u001b[0m\u001b[0;34m\u001b[0m\u001b[0m\n\u001b[0m\u001b[1;32m    118\u001b[0m     \u001b[0muList\u001b[0m\u001b[0;34m,\u001b[0m \u001b[0mvList\u001b[0m\u001b[0;34m,\u001b[0m \u001b[0mrSquare\u001b[0m\u001b[0;34m,\u001b[0m \u001b[0mdList\u001b[0m \u001b[0;34m=\u001b[0m \u001b[0;34m[\u001b[0m\u001b[0;34m]\u001b[0m\u001b[0;34m,\u001b[0m \u001b[0;34m[\u001b[0m\u001b[0;34m]\u001b[0m\u001b[0;34m,\u001b[0m \u001b[0;34m[\u001b[0m\u001b[0;34m]\u001b[0m\u001b[0;34m,\u001b[0m \u001b[0;34m[\u001b[0m\u001b[0;34m]\u001b[0m\u001b[0;34m\u001b[0m\u001b[0;34m\u001b[0m\u001b[0m\n\u001b[1;32m    119\u001b[0m \u001b[0;34m\u001b[0m\u001b[0m\n",
      "\u001b[0;32m/rdata/Sandbox/MotivSim/notebooks/jvenv/lib/python3.8/site-packages/pandas/core/generic.py\u001b[0m in \u001b[0;36m__array_wrap__\u001b[0;34m(self, result, context)\u001b[0m\n\u001b[1;32m   1788\u001b[0m             \u001b[0;32mreturn\u001b[0m \u001b[0mresult\u001b[0m\u001b[0;34m\u001b[0m\u001b[0;34m\u001b[0m\u001b[0m\n\u001b[1;32m   1789\u001b[0m         \u001b[0md\u001b[0m \u001b[0;34m=\u001b[0m \u001b[0mself\u001b[0m\u001b[0;34m.\u001b[0m\u001b[0m_construct_axes_dict\u001b[0m\u001b[0;34m(\u001b[0m\u001b[0mself\u001b[0m\u001b[0;34m.\u001b[0m\u001b[0m_AXIS_ORDERS\u001b[0m\u001b[0;34m,\u001b[0m \u001b[0mcopy\u001b[0m\u001b[0;34m=\u001b[0m\u001b[0;32mFalse\u001b[0m\u001b[0;34m)\u001b[0m\u001b[0;34m\u001b[0m\u001b[0;34m\u001b[0m\u001b[0m\n\u001b[0;32m-> 1790\u001b[0;31m         return self._constructor(result, **d).__finalize__(\n\u001b[0m\u001b[1;32m   1791\u001b[0m             \u001b[0mself\u001b[0m\u001b[0;34m,\u001b[0m \u001b[0mmethod\u001b[0m\u001b[0;34m=\u001b[0m\u001b[0;34m\"__array_wrap__\"\u001b[0m\u001b[0;34m\u001b[0m\u001b[0;34m\u001b[0m\u001b[0m\n\u001b[1;32m   1792\u001b[0m         )\n",
      "\u001b[0;32m/rdata/Sandbox/MotivSim/notebooks/jvenv/lib/python3.8/site-packages/pandas/core/frame.py\u001b[0m in \u001b[0;36m__init__\u001b[0;34m(self, data, index, columns, dtype, copy)\u001b[0m\n\u001b[1;32m    495\u001b[0m                 \u001b[0mmgr\u001b[0m \u001b[0;34m=\u001b[0m \u001b[0minit_dict\u001b[0m\u001b[0;34m(\u001b[0m\u001b[0;34m{\u001b[0m\u001b[0mdata\u001b[0m\u001b[0;34m.\u001b[0m\u001b[0mname\u001b[0m\u001b[0;34m:\u001b[0m \u001b[0mdata\u001b[0m\u001b[0;34m}\u001b[0m\u001b[0;34m,\u001b[0m \u001b[0mindex\u001b[0m\u001b[0;34m,\u001b[0m \u001b[0mcolumns\u001b[0m\u001b[0;34m,\u001b[0m \u001b[0mdtype\u001b[0m\u001b[0;34m=\u001b[0m\u001b[0mdtype\u001b[0m\u001b[0;34m)\u001b[0m\u001b[0;34m\u001b[0m\u001b[0;34m\u001b[0m\u001b[0m\n\u001b[1;32m    496\u001b[0m             \u001b[0;32melse\u001b[0m\u001b[0;34m:\u001b[0m\u001b[0;34m\u001b[0m\u001b[0;34m\u001b[0m\u001b[0m\n\u001b[0;32m--> 497\u001b[0;31m                 \u001b[0mmgr\u001b[0m \u001b[0;34m=\u001b[0m \u001b[0minit_ndarray\u001b[0m\u001b[0;34m(\u001b[0m\u001b[0mdata\u001b[0m\u001b[0;34m,\u001b[0m \u001b[0mindex\u001b[0m\u001b[0;34m,\u001b[0m \u001b[0mcolumns\u001b[0m\u001b[0;34m,\u001b[0m \u001b[0mdtype\u001b[0m\u001b[0;34m=\u001b[0m\u001b[0mdtype\u001b[0m\u001b[0;34m,\u001b[0m \u001b[0mcopy\u001b[0m\u001b[0;34m=\u001b[0m\u001b[0mcopy\u001b[0m\u001b[0;34m)\u001b[0m\u001b[0;34m\u001b[0m\u001b[0;34m\u001b[0m\u001b[0m\n\u001b[0m\u001b[1;32m    498\u001b[0m \u001b[0;34m\u001b[0m\u001b[0m\n\u001b[1;32m    499\u001b[0m         \u001b[0;31m# For data is list-like, or Iterable (will consume into list)\u001b[0m\u001b[0;34m\u001b[0m\u001b[0;34m\u001b[0m\u001b[0;34m\u001b[0m\u001b[0m\n",
      "\u001b[0;32m/rdata/Sandbox/MotivSim/notebooks/jvenv/lib/python3.8/site-packages/pandas/core/internals/construction.py\u001b[0m in \u001b[0;36minit_ndarray\u001b[0;34m(values, index, columns, dtype, copy)\u001b[0m\n\u001b[1;32m    232\u001b[0m         \u001b[0mblock_values\u001b[0m \u001b[0;34m=\u001b[0m \u001b[0;34m[\u001b[0m\u001b[0mvalues\u001b[0m\u001b[0;34m]\u001b[0m\u001b[0;34m\u001b[0m\u001b[0;34m\u001b[0m\u001b[0m\n\u001b[1;32m    233\u001b[0m \u001b[0;34m\u001b[0m\u001b[0m\n\u001b[0;32m--> 234\u001b[0;31m     \u001b[0;32mreturn\u001b[0m \u001b[0mcreate_block_manager_from_blocks\u001b[0m\u001b[0;34m(\u001b[0m\u001b[0mblock_values\u001b[0m\u001b[0;34m,\u001b[0m \u001b[0;34m[\u001b[0m\u001b[0mcolumns\u001b[0m\u001b[0;34m,\u001b[0m \u001b[0mindex\u001b[0m\u001b[0;34m]\u001b[0m\u001b[0;34m)\u001b[0m\u001b[0;34m\u001b[0m\u001b[0;34m\u001b[0m\u001b[0m\n\u001b[0m\u001b[1;32m    235\u001b[0m \u001b[0;34m\u001b[0m\u001b[0m\n\u001b[1;32m    236\u001b[0m \u001b[0;34m\u001b[0m\u001b[0m\n",
      "\u001b[0;32m/rdata/Sandbox/MotivSim/notebooks/jvenv/lib/python3.8/site-packages/pandas/core/internals/managers.py\u001b[0m in \u001b[0;36mcreate_block_manager_from_blocks\u001b[0;34m(blocks, axes)\u001b[0m\n\u001b[1;32m   1663\u001b[0m                 ]\n\u001b[1;32m   1664\u001b[0m \u001b[0;34m\u001b[0m\u001b[0m\n\u001b[0;32m-> 1665\u001b[0;31m         \u001b[0mmgr\u001b[0m \u001b[0;34m=\u001b[0m \u001b[0mBlockManager\u001b[0m\u001b[0;34m(\u001b[0m\u001b[0mblocks\u001b[0m\u001b[0;34m,\u001b[0m \u001b[0maxes\u001b[0m\u001b[0;34m)\u001b[0m\u001b[0;34m\u001b[0m\u001b[0;34m\u001b[0m\u001b[0m\n\u001b[0m\u001b[1;32m   1666\u001b[0m         \u001b[0mmgr\u001b[0m\u001b[0;34m.\u001b[0m\u001b[0m_consolidate_inplace\u001b[0m\u001b[0;34m(\u001b[0m\u001b[0;34m)\u001b[0m\u001b[0;34m\u001b[0m\u001b[0;34m\u001b[0m\u001b[0m\n\u001b[1;32m   1667\u001b[0m         \u001b[0;32mreturn\u001b[0m \u001b[0mmgr\u001b[0m\u001b[0;34m\u001b[0m\u001b[0;34m\u001b[0m\u001b[0m\n",
      "\u001b[0;32m/rdata/Sandbox/MotivSim/notebooks/jvenv/lib/python3.8/site-packages/pandas/core/internals/managers.py\u001b[0m in \u001b[0;36m__init__\u001b[0;34m(self, blocks, axes, do_integrity_check)\u001b[0m\n\u001b[1;32m    147\u001b[0m \u001b[0;34m\u001b[0m\u001b[0m\n\u001b[1;32m    148\u001b[0m         \u001b[0;32mif\u001b[0m \u001b[0mdo_integrity_check\u001b[0m\u001b[0;34m:\u001b[0m\u001b[0;34m\u001b[0m\u001b[0;34m\u001b[0m\u001b[0m\n\u001b[0;32m--> 149\u001b[0;31m             \u001b[0mself\u001b[0m\u001b[0;34m.\u001b[0m\u001b[0m_verify_integrity\u001b[0m\u001b[0;34m(\u001b[0m\u001b[0;34m)\u001b[0m\u001b[0;34m\u001b[0m\u001b[0;34m\u001b[0m\u001b[0m\n\u001b[0m\u001b[1;32m    150\u001b[0m \u001b[0;34m\u001b[0m\u001b[0m\n\u001b[1;32m    151\u001b[0m         \u001b[0;31m# Populate known_consolidate, blknos, and blklocs lazily\u001b[0m\u001b[0;34m\u001b[0m\u001b[0;34m\u001b[0m\u001b[0;34m\u001b[0m\u001b[0m\n",
      "\u001b[0;32m/rdata/Sandbox/MotivSim/notebooks/jvenv/lib/python3.8/site-packages/pandas/core/internals/managers.py\u001b[0m in \u001b[0;36m_verify_integrity\u001b[0;34m(self)\u001b[0m\n\u001b[1;32m    326\u001b[0m                 \u001b[0;32mraise\u001b[0m \u001b[0mconstruction_error\u001b[0m\u001b[0;34m(\u001b[0m\u001b[0mtot_items\u001b[0m\u001b[0;34m,\u001b[0m \u001b[0mblock\u001b[0m\u001b[0;34m.\u001b[0m\u001b[0mshape\u001b[0m\u001b[0;34m[\u001b[0m\u001b[0;36m1\u001b[0m\u001b[0;34m:\u001b[0m\u001b[0;34m]\u001b[0m\u001b[0;34m,\u001b[0m \u001b[0mself\u001b[0m\u001b[0;34m.\u001b[0m\u001b[0maxes\u001b[0m\u001b[0;34m)\u001b[0m\u001b[0;34m\u001b[0m\u001b[0;34m\u001b[0m\u001b[0m\n\u001b[1;32m    327\u001b[0m         \u001b[0;32mif\u001b[0m \u001b[0mlen\u001b[0m\u001b[0;34m(\u001b[0m\u001b[0mself\u001b[0m\u001b[0;34m.\u001b[0m\u001b[0mitems\u001b[0m\u001b[0;34m)\u001b[0m \u001b[0;34m!=\u001b[0m \u001b[0mtot_items\u001b[0m\u001b[0;34m:\u001b[0m\u001b[0;34m\u001b[0m\u001b[0;34m\u001b[0m\u001b[0m\n\u001b[0;32m--> 328\u001b[0;31m             raise AssertionError(\n\u001b[0m\u001b[1;32m    329\u001b[0m                 \u001b[0;34m\"Number of manager items must equal union of \"\u001b[0m\u001b[0;34m\u001b[0m\u001b[0;34m\u001b[0m\u001b[0m\n\u001b[1;32m    330\u001b[0m                 \u001b[0;34mf\"block items\\n# manager items: {len(self.items)}, # \"\u001b[0m\u001b[0;34m\u001b[0m\u001b[0;34m\u001b[0m\u001b[0m\n",
      "\u001b[0;31mAssertionError\u001b[0m: Number of manager items must equal union of block items\n# manager items: 351323, # tot_items: 6"
     ]
    }
   ],
   "source": [
    "caa = CAAComputation(d, 0.35, 0.35)\n",
    "print(caa)\n",
    "caa.plt(data.columns, True)"
   ]
  },
  {
   "cell_type": "code",
   "execution_count": 18,
   "metadata": {},
   "outputs": [
    {
     "data": {
      "text/plain": [
       "0.14285714285714285"
      ]
     },
     "execution_count": 18,
     "metadata": {},
     "output_type": "execute_result"
    }
   ],
   "source": [
    "1/7"
   ]
  },
  {
   "cell_type": "code",
   "execution_count": null,
   "metadata": {},
   "outputs": [],
   "source": []
  }
 ],
 "metadata": {
  "kernelspec": {
   "display_name": "Python 3",
   "language": "python",
   "name": "python3"
  },
  "language_info": {
   "codemirror_mode": {
    "name": "ipython",
    "version": 3
   },
   "file_extension": ".py",
   "mimetype": "text/x-python",
   "name": "python",
   "nbconvert_exporter": "python",
   "pygments_lexer": "ipython3",
   "version": "3.8.5"
  }
 },
 "nbformat": 4,
 "nbformat_minor": 4
}
