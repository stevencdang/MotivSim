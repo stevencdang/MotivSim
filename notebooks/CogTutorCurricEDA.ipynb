{
 "cells": [
  {
   "cell_type": "code",
   "execution_count": null,
   "metadata": {},
   "outputs": [],
   "source": []
  },
  {
   "cell_type": "code",
   "execution_count": null,
   "metadata": {},
   "outputs": [],
   "source": []
  },
  {
   "cell_type": "code",
   "execution_count": 1,
   "metadata": {},
   "outputs": [],
   "source": [
    "import sys\n",
    "sys.path.append(\"../\")"
   ]
  },
  {
   "cell_type": "code",
   "execution_count": 2,
   "metadata": {},
   "outputs": [],
   "source": [
    "import logging\n",
    "\n",
    "# logging.basicConfig(level=logging.DEBUG)\n",
    "logging.basicConfig(level=logging.INFO)\n",
    "logger = logging.getLogger(\"main\")"
   ]
  },
  {
   "cell_type": "code",
   "execution_count": 3,
   "metadata": {},
   "outputs": [],
   "source": [
    "from numpy import random\n",
    "import matplotlib.pyplot as plt\n",
    "import pandas as pd\n",
    "import numpy as np"
   ]
  },
  {
   "cell_type": "code",
   "execution_count": 4,
   "metadata": {},
   "outputs": [],
   "source": [
    "from tutor.cogtutor_curriculum import CogTutorCurriculum\n",
    "from tutor.domain import Domain"
   ]
  },
  {
   "cell_type": "code",
   "execution_count": 5,
   "metadata": {},
   "outputs": [],
   "source": [
    "domain = Domain()"
   ]
  },
  {
   "cell_type": "code",
   "execution_count": 6,
   "metadata": {},
   "outputs": [
    {
     "name": "stderr",
     "output_type": "stream",
     "text": [
      "INFO:tutor.cogtutor_curriculum:Generated 60 units with with a total of 1534 kcs\n"
     ]
    }
   ],
   "source": [
    "curric = CogTutorCurriculum(domain)\n",
    "curric.generate(num_units=60,\n",
    "               mean_sections=4,\n",
    "               stdev_sections=2,\n",
    "               mean_unit_kcs=22,\n",
    "               stdev_unit_kcs=23,\n",
    "               section_kcs_lambda=6,\n",
    "               mean_steps=10,\n",
    "               stdev_steps=4,\n",
    "               mean_prob_kcs=6,\n",
    "               stdev_prob_kcs=3,\n",
    "               num_practice=100)"
   ]
  },
  {
   "cell_type": "code",
   "execution_count": 7,
   "metadata": {},
   "outputs": [
    {
     "data": {
      "image/png": "[encoded data removed]",
      "text/plain": [
       "<Figure size 432x288 with 1 Axes>"
      ]
     },
     "metadata": {
      "needs_background": "light"
     },
     "output_type": "display_data"
    },
    {
     "name": "stderr",
     "output_type": "stream",
     "text": [
      "INFO:main:Total number of kcs: 1534\n",
      "INFO:main:count    60.000000\n",
      "mean     25.566667\n",
      "std      16.969930\n",
      "min       1.000000\n",
      "25%      12.750000\n",
      "50%      24.500000\n",
      "75%      33.500000\n",
      "max      77.000000\n",
      "dtype: float64\n"
     ]
    }
   ],
   "source": [
    "unit_kcs = [len(unit.kcs) for unit in curric.units]\n",
    "plt.hist(unit_kcs, bins=8)\n",
    "plt.title(\"Number of kcs in the unit\")\n",
    "plt.show()\n",
    "logger.info(\"Total number of kcs: %i\" % np.sum(unit_kcs))\n",
    "logger.info(pd.Series(unit_kcs).describe())"
   ]
  },
  {
   "cell_type": "code",
   "execution_count": 8,
   "metadata": {},
   "outputs": [
    {
     "data": {
      "image/png": "[encoded data removed]",
      "text/plain": [
       "<Figure size 432x288 with 1 Axes>"
      ]
     },
     "metadata": {
      "needs_background": "light"
     },
     "output_type": "display_data"
    },
    {
     "name": "stderr",
     "output_type": "stream",
     "text": [
      "INFO:main:Total number of sections: 261\n",
      "INFO:main:count    60.0000\n",
      "mean      4.3500\n",
      "std       1.9643\n",
      "min       1.0000\n",
      "25%       3.0000\n",
      "50%       4.5000\n",
      "75%       6.0000\n",
      "max       9.0000\n",
      "dtype: float64\n"
     ]
    }
   ],
   "source": [
    "unit_sections = [len(unit.sections) for unit in curric.units]\n",
    "plt.hist(unit_sections, bins=10)\n",
    "plt.title(\"Number of sections in the unit\")\n",
    "plt.show()\n",
    "logger.info(\"Total number of sections: %i\" % np.sum(unit_sections))\n",
    "logger.info(pd.Series(unit_sections).describe())"
   ]
  },
  {
   "cell_type": "code",
   "execution_count": 9,
   "metadata": {},
   "outputs": [
    {
     "data": {
      "image/png": "[encoded data removed]",
      "text/plain": [
       "<Figure size 432x288 with 1 Axes>"
      ]
     },
     "metadata": {
      "needs_background": "light"
     },
     "output_type": "display_data"
    },
    {
     "name": "stderr",
     "output_type": "stream",
     "text": [
      "INFO:main:count    261.000000\n",
      "mean       5.877395\n",
      "std        6.001306\n",
      "min        1.000000\n",
      "25%        2.000000\n",
      "50%        4.000000\n",
      "75%        8.000000\n",
      "max       37.000000\n",
      "dtype: float64\n"
     ]
    }
   ],
   "source": [
    "section_kcs = []\n",
    "for unit in curric.units:\n",
    "    section_kcs.extend([len(section.kcs) for section in unit.sections])\n",
    "plt.hist(section_kcs, bins=10)\n",
    "plt.title(\"Number of kcs in a section\")\n",
    "plt.show()\n",
    "logger.info(pd.Series(section_kcs).describe())"
   ]
  },
  {
   "cell_type": "code",
   "execution_count": null,
   "metadata": {},
   "outputs": [],
   "source": []
  },
  {
   "cell_type": "code",
   "execution_count": 18,
   "metadata": {},
   "outputs": [
    {
     "name": "stderr",
     "output_type": "stream",
     "text": [
      "INFO:main:Distribution of steps per problems: \n",
      "1     4642.0\n",
      "2     5333.0\n",
      "3     7503.0\n",
      "4     8796.0\n",
      "5     7781.0\n",
      "6     5424.0\n",
      "7     2897.0\n",
      "8     1228.0\n",
      "9      417.0\n",
      "10     121.0\n",
      "11      25.0\n",
      "12       5.0\n",
      "dtype: float64\n"
     ]
    },
    {
     "data": {
      "image/png": "[encoded data removed]",
      "text/plain": [
       "<Figure size 432x288 with 1 Axes>"
      ]
     },
     "metadata": {
      "needs_background": "light"
     },
     "output_type": "display_data"
    }
   ],
   "source": [
    "# steps per problem EDA\n",
    "step_counts = []\n",
    "for unit in curric.units:\n",
    "    for section in unit.sections:\n",
    " #       logger.info(\"Section with %i kcs and %i problems\" % (len(section.kcs), len(section.problems)))\n",
    "        counts = pd.Series([len(prob.steps) for prob in section.problems]).value_counts()\n",
    "#        logger.info(\"Counts of steps per problems \\n%s\" % str(counts))\n",
    "        step_counts.append(counts)\n",
    "\n",
    "    \n",
    "prob_steps = pd.DataFrame(step_counts).sum(axis=0)\n",
    "logger.info(\"Distribution of steps per problems: \\n%s\" %  str(prob_steps))\n",
    "plt.bar(prob_steps.index, prob_steps)\n",
    "plt.title(\"Steps per problem\")\n",
    "plt.show()"
   ]
  },
  {
   "cell_type": "code",
   "execution_count": 19,
   "metadata": {},
   "outputs": [
    {
     "data": {
      "image/png": "[encoded data removed]",
      "text/plain": [
       "<Figure size 144x144 with 1 Axes>"
      ]
     },
     "metadata": {
      "needs_background": "light"
     },
     "output_type": "display_data"
    },
    {
     "data": {
      "image/png": "[encoded data removed]",
      "text/plain": [
       "<Figure size 144x144 with 1 Axes>"
      ]
     },
     "metadata": {
      "needs_background": "light"
     },
     "output_type": "display_data"
    },
    {
     "data": {
      "image/png": "[encoded data removed]",
      "text/plain": [
       "<Figure size 144x144 with 1 Axes>"
      ]
     },
     "metadata": {
      "needs_background": "light"
     },
     "output_type": "display_data"
    },
    {
     "data": {
      "image/png": "[encoded data removed]",
      "text/plain": [
       "<Figure size 144x144 with 1 Axes>"
      ]
     },
     "metadata": {
      "needs_background": "light"
     },
     "output_type": "display_data"
    },
    {
     "data": {
      "image/png": "[encoded data removed]",
      "text/plain": [
       "<Figure size 144x144 with 1 Axes>"
      ]
     },
     "metadata": {
      "needs_background": "light"
     },
     "output_type": "display_data"
    },
    {
     "data": {
      "image/png": "[encoded data removed]",
      "text/plain": [
       "<Figure size 144x144 with 1 Axes>"
      ]
     },
     "metadata": {
      "needs_background": "light"
     },
     "output_type": "display_data"
    },
    {
     "data": {
      "image/png": "[encoded data removed]",
      "text/plain": [
       "<Figure size 144x144 with 1 Axes>"
      ]
     },
     "metadata": {
      "needs_background": "light"
     },
     "output_type": "display_data"
    },
    {
     "data": {
      "image/png": "[encoded data removed]",
      "text/plain": [
       "<Figure size 144x144 with 1 Axes>"
      ]
     },
     "metadata": {
      "needs_background": "light"
     },
     "output_type": "display_data"
    },
    {
     "data": {
      "image/png": "[encoded data removed]",
      "text/plain": [
       "<Figure size 144x144 with 1 Axes>"
      ]
     },
     "metadata": {
      "needs_background": "light"
     },
     "output_type": "display_data"
    },
    {
     "data": {
      "image/png": "[encoded data removed]",
      "text/plain": [
       "<Figure size 144x144 with 1 Axes>"
      ]
     },
     "metadata": {
      "needs_background": "light"
     },
     "output_type": "display_data"
    },
    {
     "data": {
      "image/png": "[encoded data removed]",
      "text/plain": [
       "<Figure size 144x144 with 1 Axes>"
      ]
     },
     "metadata": {
      "needs_background": "light"
     },
     "output_type": "display_data"
    },
    {
     "data": {
      "image/png": "[encoded data removed]",
      "text/plain": [
       "<Figure size 144x144 with 1 Axes>"
      ]
     },
     "metadata": {
      "needs_background": "light"
     },
     "output_type": "display_data"
    },
    {
     "data": {
      "image/png": "[encoded data removed]",
      "text/plain": [
       "<Figure size 144x144 with 1 Axes>"
      ]
     },
     "metadata": {
      "needs_background": "light"
     },
     "output_type": "display_data"
    },
    {
     "data": {
      "image/png": "[encoded data removed]",
      "text/plain": [
       "<Figure size 144x144 with 1 Axes>"
      ]
     },
     "metadata": {
      "needs_background": "light"
     },
     "output_type": "display_data"
    },
    {
     "data": {
      "image/png": "[encoded data removed]",
      "text/plain": [
       "<Figure size 144x144 with 1 Axes>"
      ]
     },
     "metadata": {
      "needs_background": "light"
     },
     "output_type": "display_data"
    }
   ],
   "source": [
    "size = 1000\n",
    "# Experiment with exponential curve parameters\n",
    "for k in np.linspace(1,4,15):\n",
    "    #print(k)\n",
    "    d = random.exponential(k, size) \n",
    "    plt.figure(figsize=(2,2))\n",
    "    plt.hist(d, bins=20)\n",
    "    plt.title(\"k=%f\" % k)\n",
    "    plt.show()\n"
   ]
  },
  {
   "cell_type": "code",
   "execution_count": null,
   "metadata": {},
   "outputs": [],
   "source": []
  }
 ],
 "metadata": {
  "kernelspec": {
   "display_name": "Python 3",
   "language": "python",
   "name": "python3"
  },
  "language_info": {
   "codemirror_mode": {
    "name": "ipython",
    "version": 3
   },
   "file_extension": ".py",
   "mimetype": "text/x-python",
   "name": "python",
   "nbconvert_exporter": "python",
   "pygments_lexer": "ipython3",
   "version": "3.8.5"
  }
 },
 "nbformat": 4,
 "nbformat_minor": 4
}
