{
 "cells": [
  {
   "cell_type": "markdown",
   "metadata": {},
   "source": [
    "# Tuning hyperparameters for domain"
   ]
  },
  {
   "cell_type": "markdown",
   "metadata": {},
   "source": [
    "This notebook explores the hyperparameters for generating a domain. The domain as assumed to be a simply non-hierarchical structure where all kc's are independent."
   ]
  },
  {
   "cell_type": "code",
   "execution_count": 1,
   "metadata": {},
   "outputs": [],
   "source": [
    "import sys\n",
    "sys.path.append(\"../\")"
   ]
  },
  {
   "cell_type": "code",
   "execution_count": 2,
   "metadata": {},
   "outputs": [],
   "source": [
    "import math\n",
    "import random\n",
    "import uuid\n",
    "import os\n",
    "import copy\n",
    "from collections.abc import Iterable\n",
    "from datetime import datetime as dt\n",
    "\n",
    "import numpy as np\n",
    "import pandas as pd\n",
    "import matplotlib.pyplot as plt\n",
    "from scipy.optimize import Bounds\n",
    "from scipy.optimize import minimize\n",
    "from scipy import optimize"
   ]
  },
  {
   "cell_type": "code",
   "execution_count": 3,
   "metadata": {},
   "outputs": [],
   "source": [
    "import logging\n",
    "\n",
    "#logging.basicConfig(level=logging.DEBUG)\n",
    "#logging.basicConfig(level=logging.INFO)\n",
    "logging.basicConfig(level=logging.WARNING)\n",
    "\n",
    "logger = logging.getLogger(\"main\")"
   ]
  },
  {
   "cell_type": "code",
   "execution_count": 4,
   "metadata": {},
   "outputs": [],
   "source": [
    "from tutor.domain import Domain\n",
    "from tutor.cogtutor_curriculum import CogTutorCurriculum\n",
    "from tutor.tutor import SimpleTutor\n",
    "from tutor.action import Attempt, HintRequest\n",
    "from learner.domain_tuner import DomainTuner\n",
    "\n",
    "from simulate.self_eff_simulation import SelfEffSimulation\n",
    "from log_db import mongo\n",
    "from log_db.curriculum_mapper import DB_Curriculum_Mapper"
   ]
  },
  {
   "cell_type": "code",
   "execution_count": 5,
   "metadata": {},
   "outputs": [],
   "source": [
    "# Get path to current project directory\n",
    "cwd = os.path.abspath(\".\")\n",
    "base_dir = os.path.abspath(os.path.join(cwd, os.pardir))\n",
    "logger.debug(\"Base directory for the project:\\n%s\" % base_dir)"
   ]
  },
  {
   "cell_type": "code",
   "execution_count": 6,
   "metadata": {},
   "outputs": [],
   "source": [
    "# Setup connection to database\n",
    "data_out = \"sim-%s\" % str(uuid.uuid4())\n",
    "data_path = os.path.join(base_dir,\"test\", \"data\", data_out)\n",
    "logger.info(\"Writing simulation results to directory: %s\" % data_path)\n",
    "db_name = \"motivsim\"\n",
    "db_params  = mongo.get_db_params(db_name)\n",
    "logger.info(\"got db params: %s\" % str(db_params))\n",
    "db_util = mongo.Data_Utility(data_path, db_params)\n",
    "db = db_util.db"
   ]
  },
  {
   "cell_type": "code",
   "execution_count": 7,
   "metadata": {},
   "outputs": [],
   "source": [
    "logger.info(\"Clearing database before starting new simulation\")\n",
    "db_util.clear_db()"
   ]
  },
  {
   "cell_type": "markdown",
   "metadata": {},
   "source": [
    "## Exploratory pass for Generating Data"
   ]
  },
  {
   "cell_type": "markdown",
   "metadata": {},
   "source": [
    "### Generating Domain & Curriculum"
   ]
  },
  {
   "cell_type": "code",
   "execution_count": null,
   "metadata": {},
   "outputs": [],
   "source": [
    "# Generating empty domain\n",
    "domain = Domain()"
   ]
  },
  {
   "cell_type": "code",
   "execution_count": null,
   "metadata": {},
   "outputs": [],
   "source": [
    "# Generating the Curriculum and domain together\n",
    "curric = CogTutorCurriculum(domain)\n",
    "curric.generate(num_units=1,\n",
    "               mean_sections=1,\n",
    "               stdev_sections=0,\n",
    "               mean_unit_kcs=5,\n",
    "               stdev_unit_kcs=1,\n",
    "               section_kcs_lambda=6,\n",
    "               mean_steps=4,\n",
    "               stdev_steps=1,\n",
    "               mean_prob_kcs=3,\n",
    "               stdev_prob_kcs=1,\n",
    "               num_practice=100)"
   ]
  },
  {
   "cell_type": "code",
   "execution_count": null,
   "metadata": {},
   "outputs": [],
   "source": [
    "# Insert domain to db\n",
    "db.domains.insert_one(domain.to_dict())\n",
    "db.kcs.insert_many([kc.__dict__ for kc in domain.kcs])\n",
    "\n",
    "# Insert Curriculum to db\n",
    "curric_util = DB_Curriculum_Mapper(db_params)\n",
    "curric_util.write_to_db(curric)"
   ]
  },
  {
   "cell_type": "markdown",
   "metadata": {},
   "source": [
    "### Generating Learners"
   ]
  },
  {
   "cell_type": "code",
   "execution_count": null,
   "metadata": {},
   "outputs": [],
   "source": [
    "num_students = 2\n",
    "students = [DomainTuner(domain) for i in range(num_students)]\n",
    "logger.info(\"Sample student:\\n%s\" % str(students[0]))\n",
    "logger.info(\"Inserting %i students to db\" % len(students))\n",
    "result = db.students.insert_many([stu.to_dict() for stu in students])\n",
    "logger.info(\"Db insert success: %s\" % result.acknowledged)"
   ]
  },
  {
   "cell_type": "markdown",
   "metadata": {},
   "source": [
    "### Simulating Learning"
   ]
  },
  {
   "cell_type": "code",
   "execution_count": null,
   "metadata": {},
   "outputs": [],
   "source": [
    "for i, stu in enumerate(students):\n",
    "    logger.info(\"Simulating student #%i\" % i)\n",
    "    sim = SelfEffSimulation(domain, curric, stu)\n",
    "    sim.run()"
   ]
  },
  {
   "cell_type": "markdown",
   "metadata": {},
   "source": [
    "## EDA of simulated Data"
   ]
  },
  {
   "cell_type": "code",
   "execution_count": null,
   "metadata": {},
   "outputs": [],
   "source": [
    "# List size of all collections\n",
    "db_util.peak()"
   ]
  },
  {
   "cell_type": "markdown",
   "metadata": {},
   "source": [
    "### Domain & Cirriculum EDA"
   ]
  },
  {
   "cell_type": "code",
   "execution_count": null,
   "metadata": {},
   "outputs": [],
   "source": [
    "kc_counts = []\n",
    "prob_counts = []\n",
    "for j, unit in enumerate(curric.units):\n",
    "    logger.info(\"$$$$$$$$$$$$$$$$$$$$$$$$$$$$$$$$$$$$$$$$$$\")\n",
    "    logger.info(\"$$$$$$$$$$$$$$$$$$$$$$$$$$$$$$$$$$$$$$$$$$\")\n",
    "    logger.info(\"Unit #%i\" % j)\n",
    "    for i, section in enumerate(unit.sections):\n",
    "        logger.info(\"##########################################\")\n",
    "        logger.info(\"Section #%i: %s\" % (i, section._id))\n",
    "        logger.info(\"Number of kcs: %i\" % len(section.kcs))\n",
    "        kc_counts.append(len(section.kcs))\n",
    "        logger.info(\"Number of Problems: %i\" % len(section.problems))\n",
    "        prob_counts.append(len(section.problems))\n",
    "        step_counts = [len(prob.steps) for prob in section.problems]\n",
    "        \n",
    "        step_dist = {val: step_counts.count(val) for val in set(step_counts)}\n",
    "        logger.info(\"Distribution of steps across problems: %s\" % str(step_dist))\n",
    "    \n",
    "kc_dist = {val: kc_counts.count(val) for val in set(kc_counts)}\n",
    "prob_dist = {val: prob_counts.count(val) for val in set(prob_counts)}\n",
    "logger.info(\"------------------- Total Curric stats --------------------------\")\n",
    "logger.info(\"Distribution of kcs per section: %s\" % str(kc_dist))\n",
    "logger.info(\"Distribution of prob per section: %s\" % str(prob_dist))"
   ]
  },
  {
   "cell_type": "markdown",
   "metadata": {},
   "source": [
    "#### Unit EDA"
   ]
  },
  {
   "cell_type": "code",
   "execution_count": null,
   "metadata": {},
   "outputs": [],
   "source": [
    "unit_kcs = [len(unit.kcs) for unit in curric.units]\n",
    "plt.hist(unit_kcs, bins=8)\n",
    "plt.title(\"Number of kcs in the unit\")\n",
    "plt.show()\n",
    "logger.info(\"Total number of kcs: %i\" % np.sum(unit_kcs))\n",
    "logger.info(pd.Series(unit_kcs).describe())"
   ]
  },
  {
   "cell_type": "markdown",
   "metadata": {},
   "source": [
    "#### Section EDA"
   ]
  },
  {
   "cell_type": "code",
   "execution_count": null,
   "metadata": {},
   "outputs": [],
   "source": [
    "section_kcs = []\n",
    "for unit in curric.units:\n",
    "    section_kcs.extend([len(section.kcs) for section in unit.sections])\n",
    "plt.hist(section_kcs, bins=10)\n",
    "plt.title(\"Number of kcs in a section\")\n",
    "plt.show()\n",
    "logger.info(pd.Series(section_kcs).describe())"
   ]
  },
  {
   "cell_type": "markdown",
   "metadata": {},
   "source": [
    "#### steps per problem EDA"
   ]
  },
  {
   "cell_type": "code",
   "execution_count": null,
   "metadata": {},
   "outputs": [],
   "source": [
    "step_counts = []\n",
    "for unit in curric.units:\n",
    "    for section in unit.sections:\n",
    " #       logger.info(\"Section with %i kcs and %i problems\" % (len(section.kcs), len(section.problems)))\n",
    "        counts = pd.Series([len(prob.steps) for prob in section.problems]).value_counts()\n",
    "#        logger.info(\"Counts of steps per problems \\n%s\" % str(counts))\n",
    "        step_counts.append(counts)\n",
    "\n",
    "    \n",
    "prob_steps = pd.DataFrame(step_counts).sum(axis=0)\n",
    "logger.info(\"Distribution of steps per problems: \\n%s\" %  str(prob_steps))\n",
    "plt.bar(prob_steps.index, prob_steps)\n",
    "plt.title(\"Steps per problem\")\n",
    "plt.show()"
   ]
  },
  {
   "cell_type": "markdown",
   "metadata": {},
   "source": [
    "### Learner EDA"
   ]
  },
  {
   "cell_type": "markdown",
   "metadata": {},
   "source": [
    "#### Decision EDA"
   ]
  },
  {
   "cell_type": "markdown",
   "metadata": {},
   "source": [
    "#### Action EDA"
   ]
  },
  {
   "cell_type": "markdown",
   "metadata": {},
   "source": [
    "#### Transaction EDA"
   ]
  },
  {
   "cell_type": "code",
   "execution_count": null,
   "metadata": {},
   "outputs": [],
   "source": [
    "# Get learner transactions\n",
    "tx = pd.DataFrame(db.tutor_events.find({'type': \"Tutor Input\"}))\n",
    "logger.info(\"Learner Transactions: %s\" % str(tx.shape))\n",
    "tx.head()"
   ]
  },
  {
   "cell_type": "code",
   "execution_count": null,
   "metadata": {},
   "outputs": [],
   "source": [
    "# Add kc field that reduces list of kcs to 1 kc\n",
    "tx['kc'] = tx.apply(lambda x: x['kcs'][0]['_id'], axis=1)"
   ]
  },
  {
   "cell_type": "code",
   "execution_count": null,
   "metadata": {},
   "outputs": [],
   "source": [
    "# Aggregate Learner transaction stats\n",
    "\n",
    "# Total Transaction counts\n",
    "stu_stats = tx.groupby('stu_id').agg({'_id': 'count', \n",
    "                                      'duration': np.sum,\n",
    "                                     })\n",
    "stu_stats.rename(columns={'_id': \"Total Tx\",\n",
    "                          'duration': 'Total Time'}, \n",
    "                         inplace = True)\n",
    "stu_stats['Total Time(hours)'] = stu_stats['Total Time'].apply(lambda x: x / 3600)\n",
    "logger.info(\"Number of students: %i\" % stu_stats.shape[0])\n",
    "logger.info(stu_stats[\"Total Tx\"].describe())\n",
    "\n",
    "# Total of each outcome\n",
    "d = tx.groupby(['stu_id','outcome'])['_id'].count().reset_index().pivot(index='stu_id', columns='outcome', values='_id')\n",
    "\n",
    "# Prorporation of each outcome\n",
    "if len(d.columns) > 1:\n",
    "    d['Total'] = d.sum(axis=1)\n",
    "else:\n",
    "    d['Total'] = d.iloc[:,0]\n",
    "    \n",
    "for col in d.columns:\n",
    "    if col != 'Total':\n",
    "        d['Pct %s' % col] = d[col] / d['Total']\n",
    "stu_stats = pd.concat([stu_stats, d], axis=1)\n",
    "logger.info(stu_stats.shape)\n",
    "\n",
    "logger.info(stu_stats.columns)"
   ]
  },
  {
   "cell_type": "code",
   "execution_count": null,
   "metadata": {},
   "outputs": [],
   "source": [
    "plt.figure(figsize=(10,2))\n",
    "plt.subplot(121)\n",
    "plt.hist(stu_stats['Total Tx'], bins=10)\n",
    "plt.title(\"Total Tx\")\n",
    "\n",
    "plt.subplot(122)\n",
    "plt.hist(stu_stats['Total Time(hours)'], bins=10)\n",
    "plt.title(\"Total Time(hours)\")\n",
    "plt.show()\n",
    "\n",
    "num_pct = np.sum([\"Pct\" in col for col in stu_stats.columns])\n",
    "width = 4\n",
    "plt.figure(figsize=(width*num_pct + num_pct, 2))\n",
    "for i, col in enumerate([c for c in stu_stats.columns if \"Pct\" in c]):\n",
    "    plt.subplot(1,num_pct,i+1)\n",
    "    plt.hist(stu_stats[col], bins=10)\n",
    "    plt.title(col)\n",
    "plt.show()\n",
    "\n",
    "plt.figure(figsize=(3,2))\n",
    "plt.hist(tx['duration'],bins=50)\n",
    "plt.title(\"Tx duration\")\n",
    "plt.show()"
   ]
  },
  {
   "cell_type": "code",
   "execution_count": null,
   "metadata": {},
   "outputs": [],
   "source": [
    "step_stats = tx.groupby(['stu_id', 'unit_id', 'section_id', 'prob_id', 'step_id'])['duration'].agg(['sum', 'count']).reset_index()\n",
    "stu_prob_stats = step_stats.groupby('stu_id')['count'].describe()\n",
    "stu_prob_stats.columns = [\"Step Attempt %s\" % col for col in stu_prob_stats.columns]\n",
    "d = step_stats.groupby('stu_id')['sum'].describe()\n",
    "d.columns = [\"Step Duration %s\" % col for col in d.columns]\n",
    "stu_prob_stats = pd.concat([stu_prob_stats, d], axis=1)\n",
    "stu_prob_stats.head()\n",
    "\n",
    "# kc_stats = tx[['stu_id', 'kc', 'step_id']].drop_duplicates().groupby(['stu_id', 'kc']).count()\n",
    "stu_kc_stats = tx[['stu_id', 'kc', 'step_id']].drop_duplicates().groupby(['stu_id', 'kc']).count().reset_index()\n",
    "stu_kc_stats.rename(columns={'step_id': 'kc opportunities'}, inplace=True)\n",
    "kc_stats = stu_kc_stats.groupby('kc').describe()\n"
   ]
  },
  {
   "cell_type": "code",
   "execution_count": null,
   "metadata": {},
   "outputs": [],
   "source": [
    "# Number of transactions with negative duration\n",
    "# This is a sanity check\n",
    "count = np.sum(tx['duration'] < 0)\n",
    "logger.info(\"Number of transactions with negative duration: %i out of %i(%.2f%%)\" % (count, tx.shape[0], count * 100 / tx.shape[0]))"
   ]
  },
  {
   "cell_type": "code",
   "execution_count": null,
   "metadata": {},
   "outputs": [],
   "source": [
    "num_bins = 10\n",
    "num_rows = 3\n",
    "num_cols = 6\n",
    "row_height = 3\n",
    "col_width = 3\n",
    "plt.figure(figsize=(col_width*num_cols, row_height*num_rows+num_rows))\n",
    "\n",
    "row = 0\n",
    "plt.subplot(num_rows,num_cols,num_cols*row + 1)\n",
    "plt.hist(stu_prob_stats['Step Attempt mean'], bins=num_bins)\n",
    "plt.title(\"Mean Attempts per step\")\n",
    "plt.subplot(num_rows,num_cols,num_cols*row + 2)\n",
    "plt.hist(stu_prob_stats['Step Attempt std'], bins=num_bins)\n",
    "plt.title(\"Standard Dev Attempts per step\")\n",
    "\n",
    "\n",
    "plt.subplot(num_rows,num_cols,num_cols*row + 3)\n",
    "plt.hist(stu_prob_stats['Step Attempt 25%'], bins=num_bins)\n",
    "plt.title(\"Q1 Attempts per step\")\n",
    "plt.subplot(num_rows,num_cols,num_cols*row + 4)\n",
    "plt.hist(stu_prob_stats['Step Attempt 50%'], bins=num_bins)\n",
    "plt.title(\"Q2 Attempts per step\")\n",
    "plt.subplot(num_rows,num_cols,num_cols*row + 5)\n",
    "plt.hist(stu_prob_stats['Step Attempt 75%'], bins=num_bins)\n",
    "plt.title(\"Q3 Attempts per step\")\n",
    "plt.subplot(num_rows,num_cols,num_cols*row + 6)\n",
    "plt.hist(stu_prob_stats['Step Attempt max'], bins=num_bins)\n",
    "plt.title(\"Max Attempts per step\")\n",
    "\n",
    "row = 1\n",
    "plt.subplot(num_rows,num_cols,num_cols*row + 1)\n",
    "plt.hist(stu_prob_stats['Step Duration mean'], bins=num_bins)\n",
    "plt.title(\"Mean Time per step\")\n",
    "plt.subplot(num_rows,num_cols,num_cols*row + 2)\n",
    "plt.hist(stu_prob_stats['Step Duration std'], bins=num_bins)\n",
    "plt.title(\"Standard Dev Time per step\")\n",
    "\n",
    "\n",
    "plt.subplot(num_rows,num_cols,num_cols*row + 3)\n",
    "plt.hist(stu_prob_stats['Step Duration 25%'], bins=num_bins)\n",
    "plt.title(\"Q1 Time per step\")\n",
    "plt.subplot(num_rows,num_cols,num_cols*row + 4)\n",
    "plt.hist(stu_prob_stats['Step Duration 50%'], bins=num_bins)\n",
    "plt.title(\"Q2 Time per step\")\n",
    "plt.subplot(num_rows,num_cols,num_cols*row + 5)\n",
    "plt.hist(stu_prob_stats['Step Duration 75%'], bins=num_bins)\n",
    "plt.title(\"Q3 Time per step\")\n",
    "plt.subplot(num_rows,num_cols,num_cols*row + 6)\n",
    "plt.hist(stu_prob_stats['Step Duration max'], bins=num_bins)\n",
    "plt.title(\"Max Time per step\")\n",
    "\n",
    "row = 2\n",
    "plt.subplot(num_rows,num_cols,num_cols*row + 1)\n",
    "plt.hist(kc_stats[('kc opportunities', 'mean')], bins=num_bins)\n",
    "plt.title(\"Mean opportunities per kc\")\n",
    "plt.subplot(num_rows,num_cols,num_cols*row + 2)\n",
    "plt.hist(kc_stats[('kc opportunities', 'std')], bins=num_bins)\n",
    "plt.title(\"Standard Dev opportunities per kc\")\n",
    "\n",
    "\n",
    "plt.subplot(num_rows,num_cols,num_cols*row + 3)\n",
    "plt.hist(kc_stats[('kc opportunities', '25%')], bins=num_bins)\n",
    "plt.title(\"Q1 opportunities per kc\")\n",
    "plt.subplot(num_rows,num_cols,num_cols*row + 4)\n",
    "plt.hist(kc_stats[('kc opportunities', '50%')], bins=num_bins)\n",
    "plt.title(\"Q2 opportunities per kc\")\n",
    "plt.subplot(num_rows,num_cols,num_cols*row + 5)\n",
    "plt.hist(kc_stats[('kc opportunities', '75%')], bins=num_bins)\n",
    "plt.title(\"Q3 opportunities per kc\")\n",
    "plt.subplot(num_rows,num_cols,num_cols*row + 6)\n",
    "plt.hist(kc_stats[('kc opportunities', 'max')], bins=num_bins)\n",
    "plt.title(\"Max opportunities per kc\")\n",
    "\n",
    "plt.show()"
   ]
  }
 ],
 "metadata": {
  "kernelspec": {
   "display_name": "Python 3",
   "language": "python",
   "name": "python3"
  },
  "language_info": {
   "codemirror_mode": {
    "name": "ipython",
    "version": 3
   },
   "file_extension": ".py",
   "mimetype": "text/x-python",
   "name": "python",
   "nbconvert_exporter": "python",
   "pygments_lexer": "ipython3",
   "version": "3.8.5"
  }
 },
 "nbformat": 4,
 "nbformat_minor": 4
}
