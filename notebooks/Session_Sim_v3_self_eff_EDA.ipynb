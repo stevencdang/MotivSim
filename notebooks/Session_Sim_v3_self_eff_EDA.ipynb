{
 "cells": [
  {
   "cell_type": "markdown",
   "metadata": {},
   "source": [
    "EDA of new simulation to validate expected relationships given new simulation changes"
   ]
  },
  {
   "cell_type": "markdown",
   "metadata": {},
   "source": [
    "# Setup"
   ]
  },
  {
   "cell_type": "code",
   "execution_count": 1,
   "metadata": {},
   "outputs": [],
   "source": [
    "import sys\n",
    "sys.path.append(\"../lib\")"
   ]
  },
  {
   "cell_type": "code",
   "execution_count": 2,
   "metadata": {},
   "outputs": [],
   "source": [
    "import math\n",
    "import random\n",
    "import uuid\n",
    "import os\n",
    "import copy\n",
    "import itertools\n",
    "from collections.abc import Iterable\n",
    "import datetime as dt\n",
    "\n",
    "import numpy as np\n",
    "import pandas as pd\n",
    "import matplotlib.pyplot as plt\n",
    "\n",
    "from scipy.optimize import Bounds\n",
    "from scipy.optimize import minimize\n",
    "from scipy import optimize\n",
    "from scipy.stats import pearsonr\n",
    "\n",
    "from sklearn.cluster import DBSCAN\n",
    "from sklearn.metrics import mean_squared_error\n",
    "from sklearn.decomposition import FactorAnalysis\n",
    "\n",
    "from factor_analyzer.factor_analyzer import calculate_kmo\n",
    "from factor_analyzer import FactorAnalyzer\n",
    "\n",
    "import statsmodels.api as sm\n",
    "\n"
   ]
  },
  {
   "cell_type": "code",
   "execution_count": 3,
   "metadata": {},
   "outputs": [],
   "source": [
    "import logging\n",
    "\n",
    "#logging.basicConfig(level=logging.DEBUG)\n",
    "logging.basicConfig(level=logging.INFO)\n",
    "#logging.basicConfig(level=logging.WARNING)\n",
    "\n",
    "logger = logging.getLogger(\"main\")"
   ]
  },
  {
   "cell_type": "code",
   "execution_count": 4,
   "metadata": {},
   "outputs": [
    {
     "name": "stderr",
     "output_type": "stream",
     "text": [
      "INFO:main:Test info\n",
      "WARNING:main:Test warning\n"
     ]
    }
   ],
   "source": [
    "#logging.getLogger().setLevel(logging.DEBUG)\n",
    "logging.getLogger().setLevel(logging.INFO)\n",
    "#logging.getLogger().setLevel(logging.WARNING)\n",
    "logger.debug(\"Test debug\")\n",
    "logger.info(\"Test info\")\n",
    "logger.warning(\"Test warning\")"
   ]
  },
  {
   "cell_type": "code",
   "execution_count": 5,
   "metadata": {},
   "outputs": [],
   "source": [
    "# from tutor.domain import Domain\n",
    "from tutor.curriculum_factory import CurriculumFactory\n",
    "from tutor.simple_curriculum import SimpleCurriculum\n",
    "from tutor.tutor import SimpleTutor\n",
    "from tutor.action import Attempt, HintRequest"
   ]
  },
  {
   "cell_type": "code",
   "execution_count": 6,
   "metadata": {},
   "outputs": [],
   "source": [
    "from learner.selfeff_learner import SelfEfficacyLearner\n",
    "from learner.modular_learner import ModularLearner\n",
    "from learner.cognition import *\n",
    "from learner.decider import *"
   ]
  },
  {
   "cell_type": "code",
   "execution_count": 7,
   "metadata": {},
   "outputs": [],
   "source": [
    "from simulate.modlearner_simulation import ModLearnerSimulation\n",
    "from simulate.simulation import *\n",
    "from simulate.script_helpers import SimHelper"
   ]
  },
  {
   "cell_type": "code",
   "execution_count": 8,
   "metadata": {},
   "outputs": [],
   "source": [
    "from analytics.student_stats import *\n",
    "from analytics.cae import *\n",
    "from analytics.featurization import *\n",
    "from analytics.batch import *\n",
    "from analytics.step import *\n",
    "from analytics.transaction import *\n",
    "from analytics.session import *"
   ]
  },
  {
   "cell_type": "code",
   "execution_count": 9,
   "metadata": {},
   "outputs": [],
   "source": [
    "from log_db import mongo\n",
    "from log_db.curriculum_mapper import DB_Curriculum_Mapper\n",
    "from log_db.learner_mapper import DBLearnerMapper"
   ]
  },
  {
   "cell_type": "code",
   "execution_count": 10,
   "metadata": {},
   "outputs": [],
   "source": [
    "from CanonicalAutocorrelationAnalysis.model.caa import CAAComputation\n",
    "from CanonicalAutocorrelationAnalysis.model.caaObject import *\n",
    "from CanonicalAutocorrelationAnalysis.model.utils import l1Norm, l2Norm, r2Compute"
   ]
  },
  {
   "cell_type": "code",
   "execution_count": 11,
   "metadata": {},
   "outputs": [],
   "source": [
    "# AFM imports\n",
    "from scipy.sparse import hstack\n",
    "from sklearn.feature_extraction import DictVectorizer\n",
    "\n",
    "from pyafm.util import invlogit\n",
    "from pyafm.custom_logistic import CustomLogistic"
   ]
  },
  {
   "cell_type": "code",
   "execution_count": 12,
   "metadata": {},
   "outputs": [
    {
     "name": "stderr",
     "output_type": "stream",
     "text": [
      "INFO:analytics.session:Base directory for the project:\n",
      "/rdata/Sandbox/MotivSim\n"
     ]
    }
   ],
   "source": [
    "# Get path to current project directory\n",
    "cwd = os.path.abspath(\".\")\n",
    "base_dir = os.path.abspath(os.path.join(cwd, os.pardir))\n",
    "logger.info(\"Base directory for the project:\\n%s\" % base_dir)"
   ]
  },
  {
   "cell_type": "code",
   "execution_count": 13,
   "metadata": {},
   "outputs": [
    {
     "name": "stderr",
     "output_type": "stream",
     "text": [
      "INFO:analytics.session:Writing simulation results to directory: /rdata/Sandbox/MotivSim/test/data/sim-05763f36-fbb6-4358-b1be-87fa8d79ee57\n",
      "INFO:analytics.session:got db params: {'settingId': 'motivsim', 'url': 'localhost', 'port': 27018, 'name': 'motivsim', 'user': '', 'pswd': ''}\n"
     ]
    }
   ],
   "source": [
    "# Setup connection to database\n",
    "data_out = \"sim-%s\" % str(uuid.uuid4())\n",
    "data_path = os.path.join(base_dir,\"test\", \"data\", data_out)\n",
    "logger.info(\"Writing simulation results to directory: %s\" % data_path)\n",
    "db_name = \"motivsim\"\n",
    "db_params  = mongo.get_db_params(db_name)\n",
    "db_params['port'] = 27018\n",
    "logger.info(\"got db params: %s\" % str(db_params))\n",
    "db_util = mongo.Data_Utility(data_path, db_params)\n",
    "db = db_util.db"
   ]
  },
  {
   "cell_type": "code",
   "execution_count": 14,
   "metadata": {},
   "outputs": [
    {
     "name": "stderr",
     "output_type": "stream",
     "text": [
      "INFO:log_db.mongo:collection name, steps, has 56625 documents\n",
      "INFO:log_db.mongo:collection name, problems, has 13535 documents\n",
      "INFO:log_db.mongo:collection name, curriculums, has 1 documents\n",
      "INFO:log_db.mongo:collection name, kcs, has 488 documents\n",
      "INFO:log_db.mongo:collection name, students, has 20 documents\n",
      "INFO:log_db.mongo:collection name, units, has 20 documents\n",
      "INFO:log_db.mongo:collection name, simbatches, has 1 documents\n",
      "INFO:log_db.mongo:collection name, tutor_events, has 28741 documents\n",
      "INFO:log_db.mongo:collection name, domains, has 1 documents\n",
      "INFO:log_db.mongo:collection name, sessions, has 200 documents\n",
      "INFO:log_db.mongo:collection name, decisions, has 33541 documents\n",
      "INFO:log_db.mongo:collection name, actions, has 33541 documents\n",
      "INFO:log_db.mongo:collection name, sections, has 75 documents\n",
      "INFO:log_db.mongo:collection name, finalsimstudents, has 20 documents\n"
     ]
    }
   ],
   "source": [
    "# Test db connection\n",
    "db_util.peak()"
   ]
  },
  {
   "cell_type": "code",
   "execution_count": 15,
   "metadata": {},
   "outputs": [
    {
     "name": "stderr",
     "output_type": "stream",
     "text": [
      "INFO:analytics.session:Clearing database before starting new simulation\n"
     ]
    }
   ],
   "source": [
    "clear_db = True\n",
    "if clear_db:\n",
    "    logger.info(\"Clearing database before starting new simulation\")\n",
    "    db_util.clear_db()\n",
    "else:\n",
    "    logger.info(\"Skipping Clearing database\")"
   ]
  },
  {
   "cell_type": "markdown",
   "metadata": {},
   "source": [
    "# 1. Simulating learners"
   ]
  },
  {
   "cell_type": "code",
   "execution_count": 16,
   "metadata": {},
   "outputs": [],
   "source": [
    "num_students = 20\n",
    "num_sessions = 20"
   ]
  },
  {
   "cell_type": "code",
   "execution_count": 17,
   "metadata": {},
   "outputs": [],
   "source": [
    "sim_helper = SimHelper(db)"
   ]
  },
  {
   "cell_type": "code",
   "execution_count": 18,
   "metadata": {},
   "outputs": [],
   "source": [
    "def get_cog_params():\n",
    "    ability = -2\n",
    "    while (ability < -1) or (ability > 1):\n",
    "        ability = np.random.normal(0, 0.6)\n",
    "    return {\"ability\": ability}\n",
    "\n",
    "def gen_students(num_students, domain, curric, \n",
    "                 cog_mod, cog_params, dec_mod, dec_params):\n",
    "    stus = []\n",
    "    for i in range(num_students):\n",
    "        cp = cog_params()\n",
    "        cog = cog_mod(domain, **cp)\n",
    "        dp = dec_params()\n",
    "        dec = dec_mod(**dp)\n",
    "        decider = DiligentDecider(dec)\n",
    "        stu = ModularLearner(domain, cog, decider)\n",
    "        stus.append(stu)\n",
    "        \n",
    "    return stus\n",
    "\n",
    "def simulate_students(curric, students, batch):    \n",
    "    \n",
    "    env = simpy.Environment()\n",
    "\n",
    "    mastery_thres = 0.95\n",
    "    m_ses_len = 45\n",
    "    sd_ses_len = 8\n",
    "    max_ses_len = 60\n",
    "    sim_start = dt.datetime.now()\n",
    "\n",
    "#     mod = round(len(students) / 10)\n",
    "    mod = 1\n",
    "    for i, stu in enumerate(students):\n",
    "        if i % mod == 0:\n",
    "            logger.info(\"Simulating student #%i\" % i)\n",
    "        # Create associated tutor\n",
    "        tutor = SimpleTutor(curric, stu._id, mastery_thres)\n",
    "\n",
    "        # Initialize simulation processes\n",
    "        sim = SingleStudentSim(db, env, sim_start, stu, tutor,\n",
    "                               num_sessions, m_ses_len, sd_ses_len, max_ses_len)\n",
    "        batch.add_sim(sim)\n",
    "\n",
    "        env.process(sim.run())\n",
    "\n",
    "    env.run()\n",
    "                \n",
    "    logger.info(\"Inserting %i simulated students to db\" % len(students))\n",
    "    result = db.finalsimstudents.insert_many([stu.to_dict() for stu in students])\n",
    "    logger.info(\"Db insert success: %s\" % result.acknowledged)\n",
    "\n",
    "    logger.info(\"Inserting simulation batch to db\")\n",
    "    result = db.simbatches.insert_one(batch.to_dict())\n",
    "    logger.info(\"Db insert success: %s\" % result.acknowledged)\n",
    "\n",
    "    return batch, students\n"
   ]
  },
  {
   "cell_type": "code",
   "execution_count": 19,
   "metadata": {},
   "outputs": [],
   "source": [
    "new_curric = None\n",
    "new_domain = None"
   ]
  },
  {
   "cell_type": "code",
   "execution_count": 20,
   "metadata": {},
   "outputs": [],
   "source": [
    "def get_domain_params(params=None):\n",
    "    if params is None:\n",
    "        #params = [0.7 , 0.05, 0.05, 0.01, 0.15, 0.05, 0.3 , 0.1 , 0.5 , 0.02]\n",
    "        params = [0.4 , 0.1, 0.1, 0.03, 0.1, 0.05, 0.1 , 0.05 , 0.1 , 0.07]\n",
    "    param_keys = ['m_l0', 'sd_l0', 'm_l0_sd', 'sd_l0_sd', 'm_t',\n",
    "                'sd_t', 'm_s','sd_s', 'm_g', 'sd_g']\n",
    "    domain_params = {k:v for k,v in zip(param_keys, params)}\n",
    "    return domain_params\n",
    "\n",
    "def gen_test_curric(db, db_params):\n",
    "    global new_curric, new_domain\n",
    "    if new_curric is None:\n",
    "        logger.info(\"Generating new curriculum\")\n",
    "        \n",
    "        domain_params = get_domain_params()\n",
    "\n",
    "\n",
    "        curric_params = {'num_units': 20,\n",
    "                         'mean_sections': 4,\n",
    "                         'stdev_sections': 2,\n",
    "                         'mean_unit_kcs': 22,\n",
    "                         'stdev_unit_kcs': 23,\n",
    "                         'section_kcs_lambda': 6,\n",
    "                         'mean_steps': 10,\n",
    "                         'stdev_steps': 4,\n",
    "                         'mean_prob_kcs': 6,\n",
    "                         'stdev_prob_kcs': 3,\n",
    "                         'num_practice': 100\n",
    "                        }\n",
    "\n",
    "        domain, curric = CurriculumFactory.gen_curriculum(domain_params, curric_params)\n",
    "        db.domains.insert_one(domain.to_dict())\n",
    "        db.kcs.insert_many([kc.__dict__ for kc in domain.kcs])\n",
    "        curric_util = DB_Curriculum_Mapper(db_params)\n",
    "        curric_util.write_to_db(curric)\n",
    "        \n",
    "        new_curric = curric\n",
    "        new_domain = domain\n",
    "\n",
    "        return domain, curric\n",
    "    else:\n",
    "        logger.info(\"New curriculum already generated\")\n",
    "        return new_domain, new_curric"
   ]
  },
  {
   "cell_type": "code",
   "execution_count": 21,
   "metadata": {},
   "outputs": [],
   "source": [
    "def get_sim_batch(desc):\n",
    "    simbatch = db.simbatches.find_one({\"desc\": desc})\n",
    "    if simbatch is None:\n",
    "        logger.info(\"Generating new simulation. None found in db\")\n",
    "\n",
    "        # generate simualted data for test\n",
    "        domain, curric = gen_test_curric(db, db_params)\n",
    "        students = gen_students(num_students, domain, curric, \n",
    "                                cog_mod, get_cog_params, \n",
    "                                dec_mod, get_dec_params)   \n",
    "        logger.info(f\"Persisting {len(students)} initialized students to db\")\n",
    "        db.students.insert_many([stu.to_dict() for stu in students])\n",
    "        batch = SimulationBatch(desc)\n",
    "        simulate_students(curric, students, batch)    \n",
    "        logger.info(f\"Simulated {len(students)} in batch with id: {batch._id}\")\n",
    "    else:\n",
    "        logger.info(f\"Found simulation batch: {str(simbatch['desc'])}\")\n",
    "        lmapper = DBLearnerMapper(db)\n",
    "        students = [lmapper.get_modlearner_from_db(sid) for sid in simbatch['student_ids']]\n",
    "        batch = SimulationBatch.from_dict(simbatch)\n",
    "        logger.info(f\"Recovered {len(students)} students from batch with id: {batch._id}\")\n",
    "        \n",
    "    return students, batch"
   ]
  },
  {
   "cell_type": "markdown",
   "metadata": {},
   "source": [
    "## Self Efficacy Diligent students"
   ]
  },
  {
   "cell_type": "code",
   "execution_count": 22,
   "metadata": {},
   "outputs": [],
   "source": [
    "sim_batch_desc = \"Self-Efficacy students\"\n",
    "cog_mod = BiasSkillCognition\n",
    "dec_mod = DomainSelfEffDecider\n",
    "\n",
    "def get_cog_params():\n",
    "    # Helper for getting parameters for BiasSkillCognition Module\n",
    "    return {'ability': random.triangular(-1,1)}\n",
    "\n",
    "def get_dec_params():\n",
    "    se = -1\n",
    "    while (se <= 0) or (se >1):\n",
    "        se = random.gauss(0.5, 0.2)\n",
    "    return {'attr': {'self_eff': se}}"
   ]
  },
  {
   "cell_type": "code",
   "execution_count": 23,
   "metadata": {},
   "outputs": [
    {
     "name": "stderr",
     "output_type": "stream",
     "text": [
      "INFO:analytics.session:Generating new simulation. None found in db\n",
      "INFO:analytics.session:Generating new curriculum\n",
      "INFO:tutor.cogtutor_curriculum:Generated 20 units with with a total of 590 kcs\n",
      "INFO:log_db.curriculum_mapper:Writing curriculum with id, b8a3cdcc-86ea-433e-aaee-1cbae2999dde, to db\n",
      "INFO:log_db.curriculum_mapper:Writing 16603 problem to db\n",
      "INFO:log_db.curriculum_mapper:Writing 69700 steps to db\n",
      "INFO:analytics.session:Persisting 20 initialized students to db\n",
      "INFO:analytics.session:Simulating student #0\n",
      "INFO:analytics.session:Simulating student #1\n",
      "INFO:analytics.session:Simulating student #2\n",
      "INFO:analytics.session:Simulating student #3\n",
      "INFO:analytics.session:Simulating student #4\n",
      "INFO:analytics.session:Simulating student #5\n",
      "INFO:analytics.session:Simulating student #6\n",
      "INFO:analytics.session:Simulating student #7\n",
      "INFO:analytics.session:Simulating student #8\n",
      "INFO:analytics.session:Simulating student #9\n",
      "INFO:analytics.session:Simulating student #10\n",
      "INFO:analytics.session:Simulating student #11\n",
      "INFO:analytics.session:Simulating student #12\n",
      "INFO:analytics.session:Simulating student #13\n",
      "INFO:analytics.session:Simulating student #14\n",
      "INFO:analytics.session:Simulating student #15\n",
      "INFO:analytics.session:Simulating student #16\n",
      "INFO:analytics.session:Simulating student #17\n",
      "INFO:analytics.session:Simulating student #18\n",
      "INFO:analytics.session:Simulating student #19\n",
      "INFO:analytics.session:Inserting 20 simulated students to db\n",
      "INFO:analytics.session:Db insert success: True\n",
      "INFO:analytics.session:Inserting simulation batch to db\n",
      "INFO:analytics.session:Db insert success: True\n",
      "INFO:analytics.session:Simulated 20 in batch with id: 9802c796-c0b1-407d-80cc-3b094b6c5e41\n"
     ]
    }
   ],
   "source": [
    "students, batch = get_sim_batch(sim_batch_desc)"
   ]
  },
  {
   "cell_type": "markdown",
   "metadata": {},
   "source": [
    "# Validation EDA"
   ]
  },
  {
   "cell_type": "markdown",
   "metadata": {},
   "source": [
    "## Setup"
   ]
  },
  {
   "cell_type": "code",
   "execution_count": 24,
   "metadata": {},
   "outputs": [],
   "source": [
    "def get_stu_parameters(sids, mastery_thres):\n",
    "    sim_students = calc.get_stu_attributes(sids)\n",
    "    sim_students = pd.concat([sim_students, calc.get_mastery(sids, mastery_thres)], axis=1)\n",
    "    return sim_students\n"
   ]
  },
  {
   "cell_type": "code",
   "execution_count": 25,
   "metadata": {},
   "outputs": [],
   "source": [
    "def get_tx_fields(sids, fields=None):\n",
    "    tx = pd.DataFrame(db.tutor_events.find({\"stu_id\": {'$in': sids}, \"type\": \"TutorInput\"}))\n",
    "    # Add kc field that reduces list of kcs to 1 kc\n",
    "    tx['kc'] = tx.apply(lambda x: x['kcs'][0]['_id'], axis=1)\n",
    "    if fields is None:\n",
    "        return tx\n",
    "    else:\n",
    "        return tx.loc[:, fields]"
   ]
  },
  {
   "cell_type": "code",
   "execution_count": 26,
   "metadata": {},
   "outputs": [],
   "source": [
    "def get_tx(sids):\n",
    "    tx = pd.DataFrame(db.tutor_events.find({\"stu_id\": {'$in': sids}, 'type': \"TutorInput\"}))\n",
    "    tx.index = tx['_id']\n",
    "    tx['kc'] = tx.explode('kcs')['kcs'].apply(lambda x: x['_id'])\n",
    "    return tx\n",
    "\n",
    "def lbl_nondil_tx(tx):\n",
    "    detector = Detector(db) \n",
    "    gt_lblr = TransactionAnnotator(db)\n",
    "    \n",
    "    kc_long_tx = detector.get_kc_long_cutoff(tx)\n",
    "    kc_short_tx = detector.get_kc_short_cutoff(tx)\n",
    "\n",
    "    # Add Ground truth labels (using global db var)\n",
    "\n",
    "    tx['is_offtask'] = gt_lblr.label_offtask_tx(tx)\n",
    "    tx['is_guess'] = gt_lblr.label_guess_tx(tx)\n",
    "\n",
    "    # Add detector labels\n",
    "    tx['detect_offtask'] = detector.is_off_task(tx, kc_stats=kc_long_tx)\n",
    "    tx['detect_guess'] = detector.is_guess(tx, kc_stats=kc_short_tx)\n",
    "    return tx\n",
    "    \n"
   ]
  },
  {
   "cell_type": "code",
   "execution_count": 27,
   "metadata": {},
   "outputs": [],
   "source": [
    "def calc_accuracy(tx_stats):\n",
    "    d =  tx_stats['Correct']/ tx_stats['Total Tx']\n",
    "    d.rename(\"accuracy\", inplace=True)\n",
    "    return d\n",
    "\n",
    "def calc_step_accuracy(steps):\n",
    "    steps['is_correct'] = steps['outcome'] == 'Correct'\n",
    "    step_acc = steps.groupby('stu_id')['is_correct'].apply(lambda x: np.sum(x) / len(x)).rename(\"step_accuracy\")\n",
    "    return step_acc\n",
    "    \n",
    "\n",
    "def calc_err_on_1_opp(tx):\n",
    "    d = tx[tx['attempt'] == 0]\n",
    "    # Get 1st opportunity\n",
    "    cols = [col for col in d.columns if col not in ['stu_id', 'kc']]\n",
    "    opp1 = d.groupby(['stu_id', 'kc']).apply(lambda x: x.iloc[0][cols]).reset_index()\n",
    "    opp1['is_correct'] = opp1['outcome'] == \"Correct\"\n",
    "    ## Calculate P(Correct) per student\n",
    "    opp1 =  opp1.groupby('stu_id')['is_correct'].apply(lambda x: np.sum(x) / len(x))\n",
    "    opp1.rename(\"err_on_1_opp\", inplace=True)\n",
    "    return opp1\n",
    "\n",
    "def calc_avg_prac_opp(tx, mastery_thres=0.9):\n",
    "    # Get the learner knowledge at the end of each practice step\n",
    "    d = tx.groupby(['stu_id', 'kc', 'step_id'])['plt1'].apply(lambda x: x[-1]).reset_index()\n",
    "    d['has_mastered'] = d['plt1'] >= mastery_thres\n",
    "    # Getting student-kc pairings for analysis\n",
    "    stu_kc = d.loc[d['has_mastered'], ['stu_id','kc']].drop_duplicates()\n",
    "    # Get just tx for relevant stu-kc's\n",
    "    d = pd.merge(tx, stu_kc, on=['stu_id', 'kc'], how='inner')\n",
    "    d = tx[['stu_id', 'kc', 'step_id']].drop_duplicates().groupby(['stu_id', 'kc']).count().reset_index()\n",
    "    d = d.groupby('stu_id')['step_id'].mean()\n",
    "    d.rename('avg_prac_opp', inplace=True)\n",
    "    return d\n",
    "\n",
    "def calc_p_guess(tx):\n",
    "    d = tx.groupby('stu_id')['detect_guess'].apply(lambda x: np.sum(x) / len(x))\n",
    "    d.rename(\"p_guess\", inplace=True)\n",
    "    return d\n",
    "\n",
    "def calc_detected_offtask(tx):\n",
    "    if \"detect_offtask\" not in tx:\n",
    "        tx = lbl_nondil_tx(tx)\n",
    "    # Student-level off-task vs detected off-task\n",
    "    d = tx.groupby(\"stu_id\")['detect_offtask'].mean()\n",
    "\n",
    "    d.rename(\"mean_detect_offtask\", inplace=True)\n",
    "    return d\n",
    "\n",
    "def calc_detected_guess(tx):\n",
    "    if \"detect_guess\" not in tx:\n",
    "        tx = lbl_nondil_tx(tx)\n",
    "    # Student-level off-task vs detected off-task\n",
    "    d = tx.groupby(\"stu_id\")['detect_guess'].mean()\n",
    "\n",
    "    d.rename(\"mean_detect_guess\", inplace=True)\n",
    "    return d\n",
    "\n",
    "def calc_time_on_task(tx):\n",
    "    d = tx.pivot_table(index=\"stu_id\", columns=\"is_offtask\", values=\"duration\", fill_value=0, aggfunc=np.sum).reset_index()\n",
    "    d.index = d['stu_id']\n",
    "    d.rename(columns={False: \"time_on_task\", True: \"time_off_task\"}, inplace=True)\n",
    "    d.drop(columns=['stu_id'], inplace=True)\n",
    "    d['time_on_task'] = d['time_on_task'] / 3600\n",
    "    d['time_off_task'] = d['time_off_task'] / 3600\n",
    "    return d\n",
    "\n",
    "    \n",
    "    \n"
   ]
  },
  {
   "cell_type": "code",
   "execution_count": 28,
   "metadata": {},
   "outputs": [],
   "source": [
    "def get_student_sessions(sids):\n",
    "    # Get login-logout transactions for students\n",
    "    tx = pd.DataFrame(db.tutor_events.find({\"stu_id\": {'$in': sid}, \"type\": {\"$in\": [\"SessionStart\", \"SessionEnd\"]}}))\n",
    "    ses_ids = tx['session_id'].unique().tolist()\n",
    "    # Append session metadata\n",
    "    sessions = pd.DataFrame(db.sessions.find({\"_id\": {'$in': ses_ids}}))\n",
    "    sessions.drop(columns=['type'], inplace=True)\n",
    "    sessions.rename(columns={\"_id\": \"session_id\"}, inplace=True)\n",
    "    tx = pd.merge(tx, sessions, on=\"session_id\", how='inner')\n",
    "    return tx\n",
    "\n",
    "def calc_session_stats(sids):\n",
    "    tx = get_student_sessions(sids)\n",
    "    \n",
    "    # Calc student-session stats\n",
    "    session_stats = tx.pivot(index=['stu_id', 'session_id'], columns='type', values='time').reset_index()\n",
    "    session_stats = pd.merge(tx.loc[:, ['stu_id', 'session_id', 'start', 'end']].drop_duplicates(), session_stats, on=['stu_id', 'session_id'])\n",
    "\n",
    "    # Start/end speed\n",
    "    session_stats['start speed'] = session_stats.apply(lambda x: (x['SessionStart'] - x['start']).total_seconds()/60, axis=1)\n",
    "    session_stats['early finish'] = session_stats.apply(lambda x: (x['end'] - x['SessionEnd']).total_seconds()/60, axis=1)\n",
    "\n",
    "    # session length\n",
    "    session_stats['session length'] = session_stats.apply(lambda x: (x['SessionEnd'] - x['SessionStart']).total_seconds()/60, axis=1)\n",
    "    session_stats['class length'] = session_stats.apply(lambda x: (x['end'] - x['start']).total_seconds()/60, axis=1)\n",
    "    session_stats['pct class'] = session_stats['session length'] / session_stats['class length']\n",
    "    \n",
    "    return session_stats\n",
    "\n",
    "def calc_stu_session_stats(sids):\n",
    "    session_stats = calc_session_stats(sids)\n",
    "    stu_session_stats = session_stats.groupby('stu_id')['start speed', 'early finish', 'session length', 'pct class'].agg('mean', 'std')\n",
    "    return stu_session_stats\n",
    "\n",
    "\n",
    "def calc_student_dil_stats(sids):\n",
    "    tx = get_tx(sid)\n",
    "    tx = lbl_nondil_tx(tx)\n",
    "\n",
    "    detect_offtask = calc_detected_offtask(tx)\n",
    "    detect_guess = calc_detected_guess(tx)\n",
    "    time_on_task = calc_time_on_task(tx)\n",
    "\n",
    "    return pd.concat([detect_guess, detect_offtask, time_on_task], axis=1)\n",
    "\n"
   ]
  },
  {
   "cell_type": "code",
   "execution_count": 29,
   "metadata": {},
   "outputs": [],
   "source": [
    "def calc_stats(ids):\n",
    "\n",
    "    tx = get_tx(ids)\n",
    "    tx = pd.concat([tx, tx_lblr.label_nondil_tx(tx)], axis=1)\n",
    "    # Merge decisions with tx\n",
    "    decisions, actions = tx_lblr.get_tx_decisions(tx)\n",
    "    tx = tx_lblr.merge_decisions(tx, actions, decisions)\n",
    "\n",
    "    # Get step rollup\n",
    "    steps = step_calc.rollup_tx(tx)\n",
    "    steps = pd.concat([steps, step_calc.label_knowledge(steps)], axis=1)\n",
    "    \n",
    "\n",
    "    # Calculate student non-diligent stats\n",
    "    detect_offtask = calc.calc_detected_offtask(tx)\n",
    "    detect_guess = calc.calc_detected_guess(tx)\n",
    "    time_on_task = calc.calc_time_on_task(tx)\n",
    "\n",
    "\n",
    "    # Count opportunities at each knowledge level\n",
    "    kc_prac = step_calc.count_practice_challenge(steps)\n",
    "    over_prac = kc_prac.apply(lambda x: x['high_knowledge'] / np.sum(x), axis=1)\n",
    "\n",
    "    # Calculate accuracy\n",
    "    step_accuracy = calc_step_accuracy(steps)\n",
    "\n",
    "    # Calculate work rate:\n",
    "    work_rate = calc.calc_avg_work_rate(steps)\n",
    "    # Calculate expected work time\n",
    "    d = pd.DataFrame(db.kcs.find({\"_id\": {\"$in\": steps['kc'].tolist()}})).rename(columns={'_id': \"kc\"})\n",
    "    steps = pd.merge(steps, d, on=\"kc\", how=\"outer\")\n",
    "    steps['expected_duration'] = steps['Attempts'] * steps['m_time']\n",
    "    exp_work_rate = steps.groupby('stu_id')['duration'].sum() / steps.groupby('stu_id')['expected_duration'].sum()\n",
    "\n",
    "    # Calculate hint usage by knowledge level\n",
    "    stu_level_hints = steps.groupby(['stu_id', 'knowledge_level'])['Hint'].mean()\n",
    "\n",
    "    # Fit line for each student tendency to request hint\n",
    "    \n",
    "\n",
    "    \n",
    "    # Calculate detector error\n",
    "    # Plot Detector vs ground truth\n",
    "    tx['offtask_tp'] = (tx['is_offtask'] == True) & (tx['detect_offtask'] == True)\n",
    "    tx['offtask_fp'] = (tx['is_offtask'] == False) & (tx['detect_offtask'] == True)\n",
    "    tx['offtask_tn'] = (tx['is_offtask'] == False) & (tx['detect_offtask'] == False)\n",
    "    tx['offtask_fn'] = (tx['is_offtask'] == True) & (tx['detect_offtask'] == False)\n",
    "    tx['guess_tp'] = (tx['is_guess'] == True) & (tx['detect_guess'] == True)\n",
    "    tx['guess_fp'] = (tx['is_guess'] == False) & (tx['detect_guess'] == True)\n",
    "    tx['guess_tn'] = (tx['is_guess'] == False) & (tx['detect_guess'] == False)\n",
    "    tx['guess_fn'] = (tx['is_guess'] == True) & (tx['detect_guess'] == False)\n",
    "    \n",
    "\n",
    "    ot_err = tx.groupby('stu_id')[['offtask_tp', 'offtask_fp', 'offtask_tn', 'offtask_fn']].sum()\n",
    "\n",
    "    g_err = tx.groupby('stu_id')[['guess_tp', 'guess_fp', 'guess_tn', 'guess_fn']].sum()\n",
    "\n",
    "    stats = pd.concat([detect_offtask, detect_guess, time_on_task, kc_prac, \n",
    "                       step_accuracy, over_prac, work_rate, exp_work_rate, \n",
    "                       ot_err, g_err], axis=1)\n",
    "\n",
    "    return stats\n"
   ]
  },
  {
   "cell_type": "code",
   "execution_count": 30,
   "metadata": {},
   "outputs": [],
   "source": [
    "def afm_stu_intercept(kcs, opps, actuals, stu, student_label, item_label, nfolds=3,\n",
    "        seed=None):\n",
    "    \"\"\"\n",
    "    Executes AFM on the provided data and returns model fits and parameter\n",
    "    estimates\n",
    "    \"\"\"\n",
    "    sv = DictVectorizer()\n",
    "    qv = DictVectorizer()\n",
    "    ov = DictVectorizer()\n",
    "\n",
    "    S = sv.fit_transform(stu)\n",
    "    Q = qv.fit_transform(kcs)\n",
    "    O = ov.fit_transform(opps)\n",
    "\n",
    "    X = hstack((S, Q, O))\n",
    "    y = np.array(actuals)\n",
    "\n",
    "    l2 = [1.0 for i in range(S.shape[1])]\n",
    "    l2 += [0.0 for i in range(Q.shape[1])]\n",
    "    l2 += [0.0 for i in range(O.shape[1])]\n",
    "\n",
    "    bounds = [(None, None) for i in range(S.shape[1])]\n",
    "    bounds += [(None, None) for i in range(Q.shape[1])]\n",
    "    bounds += [(0, None) for i in range(O.shape[1])]\n",
    "\n",
    "    X = X.toarray()\n",
    "    X2 = Q.toarray()\n",
    "\n",
    "    model = CustomLogistic(bounds=bounds, l2=l2, fit_intercept=False)\n",
    "    model.fit(X, y)\n",
    "\n",
    "    coef_s = model.coef_[0:S.shape[1]]\n",
    "    coef_s = [[k, v, invlogit(v)]\n",
    "              for k, v in sv.inverse_transform([coef_s])[0].items()]\n",
    "\n",
    "    return coef_s"
   ]
  },
  {
   "cell_type": "code",
   "execution_count": 31,
   "metadata": {},
   "outputs": [],
   "source": [
    "def get_afm_steps(sids):\n",
    "    tx = get_tx(sids)\n",
    "    \n",
    "    # Rollup steps\n",
    "    #Step outcome\n",
    "    step_outcomes = tx.sort_values('time').groupby(['stu_id', 'unit_id', 'section_id', 'prob_id', 'step_id'])['outcome'].first()\n",
    "    # Get time stamp for last tx\n",
    "    time = tx.groupby(['stu_id', 'unit_id', 'section_id', 'prob_id', 'step_id'])['time'].agg(lambda x: x.sort_values().iloc[-1])\n",
    "    steps = pd.concat([step_outcomes, time], axis=1)\n",
    "    # Get kc\n",
    "    steps = pd.merge(steps, tx.loc[:, ['stu_id', 'unit_id', 'section_id', 'prob_id', 'step_id', 'kc' ]].drop_duplicates(), on=['stu_id', 'unit_id', 'section_id', 'prob_id', 'step_id'], how='inner')\n",
    "    # Label each step opportunity\n",
    "    steps['opportunity'] = steps.groupby(['stu_id', 'kc']).cumcount()\n",
    "    steps['opportunity'] += 1\n",
    "    \n",
    "    return steps\n",
    "\n",
    "def run_afm(steps):\n",
    "    student_label = steps['stu_id'].tolist()\n",
    "    stu = [{s: 1} for s in student_label]\n",
    "    item_label = steps[['unit_id', 'section_id', 'prob_id', 'step_id']].apply(lambda x: \"##\".join(x), axis=1).tolist()\n",
    "    y = steps['outcome'].apply(lambda x: 1 if x == 'Correct' else 0)\n",
    "    opps = [{kc: o} for kc, o in zip(steps['kc'].tolist(), steps['opportunity'].tolist())]\n",
    "    kcs = [{kc: 1} for kc in steps['kc'].tolist()]\n",
    "    \n",
    "    nfolds = 3\n",
    "    seed = None\n",
    "#     scores, kc_vals, coef_s = afm(kcs, opps, y, stu,\n",
    "#                                   student_label, item_label, nfolds, seed)\n",
    "    coef_s = afm_stu_intercept(kcs, opps, y, stu,\n",
    "                                  student_label, item_label, nfolds, seed)\n",
    "    stu_intercepts = pd.DataFrame(coef_s, columns=['stu_id', 'Intercept (logit)', 'Intercept (prob)'])\n",
    "    stu_intercepts.index = stu_intercepts['stu_id']\n",
    "    stu_intercepts.drop(columns=['stu_id'], inplace=True)\n",
    "    return stu_intercepts"
   ]
  },
  {
   "cell_type": "markdown",
   "metadata": {},
   "source": [
    "## Setup 2"
   ]
  },
  {
   "cell_type": "code",
   "execution_count": 53,
   "metadata": {},
   "outputs": [],
   "source": [
    "def get_split_stu_parameters(sids, mastery_thres):\n",
    "    sim_students = calc.get_stu_attributes(sids)\n",
    "    sim_students = pd.concat([sim_students, calc.get_mastery(sids, mastery_thres)], axis=1)\n",
    "    return sim_students\n",
    "\n",
    "\n",
    "def get_action_counts(tx):\n",
    "    action_dist = tx.groupby('student_id')['action_type'].value_counts().reset_index(name=\"count\")\n",
    "    action_dist = action_dist.pivot_table(index='student_id', columns='action_type', values='count', fill_value=0)\n",
    "    action_dist['total actions'] = action_dist.sum(axis=1)\n",
    "    for col in action_dist.columns:\n",
    "        if col != 'total actions':\n",
    "            action_dist['Pct %s' % col] = action_dist.apply(lambda x: x[col]/x['total actions'], axis=1)\n",
    "            action_dist.head()\n",
    "\n",
    "    return action_dist\n",
    "\n",
    "def total_tx_stats(tx):\n",
    "\n",
    "    # Total Transaction counts\n",
    "    stu_stats = tx.groupby('stu_id').agg({'_id': 'count',\n",
    "                                          'duration': np.sum,\n",
    "                                         })\n",
    "    stu_stats.rename(columns={'_id': \"Total Tx\",\n",
    "                              'duration': 'Total Time'},\n",
    "                              inplace = True)\n",
    "    stu_stats['Total Time(hours)'] = stu_stats['Total Time'].apply(lambda x: x / 3600)\n",
    "    logger.debug(\"Number of students: %i\" % stu_stats.shape[0])\n",
    "    logger.debug(stu_stats[\"Total Tx\"].describe())\n",
    "\n",
    "    # Total of each outcome\n",
    "    d = tx.groupby(['stu_id','outcome'])['_id'].count().reset_index().pivot_table(\n",
    "            index='stu_id', columns='outcome', values='_id', fill_value=0)\n",
    "\n",
    "    # Prorporation of each outcome\n",
    "    stu_stats = pd.concat([stu_stats, d], axis=1)\n",
    "    stu_stats['Pct Correct'] = stu_stats['Correct'] / stu_stats['Total Tx']\n",
    "    stu_stats['Pct Hint'] = stu_stats['Hint'] / stu_stats['Total Tx']\n",
    "    stu_stats['Pct Incorrect'] = stu_stats['Incorrect'] / stu_stats['Total Tx']\n",
    "\n",
    "    return stu_stats\n",
    "\n",
    "def calc_stu_session_stats(tx):\n",
    "    session_stats = calc_session_stats(tx)\n",
    "    stu_session_stats = session_stats.groupby('stu_id')[['start speed', 'early finish', 'session length', 'pct class']].agg('mean', 'std')\n",
    "    stu_session_stats['total opportunity'] = session_stats.groupby('stu_id')['session length'].sum()\n",
    "    return stu_session_stats\n",
    "\n",
    "\n",
    "def get_student_sessions(tx):\n",
    "    ses_ids = tx['session_id'].unique().tolist()\n",
    "    sids = tx['stu_id'].unique().tolist()\n",
    "    # Get login-logout transactions for students\n",
    "    d = pd.DataFrame(db.tutor_events.find({\"stu_id\": {'$in': sids}, \n",
    "                                         \"type\": {\"$in\": [\"SessionStart\", \"SessionEnd\"]}, \n",
    "                                         'session_id': {\"$in\": ses_ids}}))\n",
    "    # Append session metadata\n",
    "    sessions = pd.DataFrame(db.sessions.find({\"_id\": {'$in': ses_ids}}))\n",
    "    sessions.drop(columns=['type'], inplace=True)\n",
    "    sessions.rename(columns={\"_id\": \"session_id\"}, inplace=True)\n",
    "    d = pd.merge(d, sessions, on=\"session_id\", how='inner')\n",
    "    return d\n",
    "\n",
    "\n",
    "def calc_session_stats(tx):\n",
    "    d = get_student_sessions(tx)\n",
    "\n",
    "    # Calc student-session stats\n",
    "    session_stats = d.pivot(index=['stu_id', 'session_id'], columns='type', values='time').reset_index()\n",
    "    session_stats = pd.merge(d.loc[:, ['stu_id', 'session_id', 'start', 'end']].drop_duplicates(), session_stats, on=['stu_id', 'session_id'])\n",
    "\n",
    "    # Start/end speed\n",
    "    session_stats['start speed'] = session_stats.apply(lambda x: (x['SessionStart'] - x['start']).total_seconds()/60, axis=1)\n",
    "    session_stats['early finish'] = session_stats.apply(lambda x: (x['end'] - x['SessionEnd']).total_seconds()/60, axis=1)\n",
    "\n",
    "    # session length\n",
    "    session_stats['session length'] = session_stats.apply(lambda x: (x['SessionEnd'] - x['SessionStart']).total_seconds()/60, axis=1)\n",
    "    session_stats['class length'] = session_stats.apply(lambda x: (x['end'] - x['start']).total_seconds()/60, axis=1)\n",
    "    session_stats['pct class'] = session_stats['session length'] / session_stats['class length']\n",
    "\n",
    "    return session_stats\n",
    "\n",
    "\n"
   ]
  },
  {
   "cell_type": "code",
   "execution_count": 54,
   "metadata": {},
   "outputs": [],
   "source": [
    "def calc_expected_work_rate(steps):\n",
    "    # Calculate expected work time\n",
    "    d = pd.DataFrame(db.kcs.find({\"_id\": {\"$in\": steps['kc'].tolist()}})).rename(columns={'_id': \"kc\"})\n",
    "    d = pd.merge(steps, d, on=\"kc\", how=\"outer\")\n",
    "    d['expected_duration'] = d['Attempts'] * d['m_time']\n",
    "    exp_work_rate = d.groupby('stu_id')['duration'].sum() / d.groupby('stu_id')['expected_duration'].sum()\n",
    "    return exp_work_rate\n"
   ]
  },
  {
   "cell_type": "code",
   "execution_count": 55,
   "metadata": {},
   "outputs": [],
   "source": [
    "def rand_split(x):\n",
    "    k = int(len(x)/2)\n",
    "    s1 = random.sample(x.tolist(), k)\n",
    "    return x.apply(lambda d: 0 if d in s1 else 1)\n",
    "    "
   ]
  },
  {
   "cell_type": "code",
   "execution_count": 88,
   "metadata": {},
   "outputs": [],
   "source": [
    "def calc_stu_stats(ids):\n",
    "    \n",
    "    # Get all tx\n",
    "    tx = get_tx(ids)\n",
    "    tx = pd.concat([tx, tx_lblr.label_nondil_tx(tx)], axis=1)\n",
    "    # Merge decisions with tx\n",
    "    decisions, actions = tx_lblr.get_tx_decisions(tx)\n",
    "    tx = tx_lblr.merge_decisions(tx, actions, decisions)\n",
    "    \n",
    "    # Get step rollup\n",
    "    steps = step_calc.rollup_tx(tx)\n",
    "    steps = pd.concat([steps, step_calc.label_knowledge(steps)], axis=1)\n",
    "\n",
    "    # Calculate student non-diligent stats\n",
    "    detect_offtask = calc.calc_detected_offtask(tx)\n",
    "    detect_guess = calc.calc_detected_guess(tx)\n",
    "    time_on_task = calc.calc_time_on_task(tx)\n",
    "\n",
    "\n",
    "    # Count opportunities at each knowledge level\n",
    "    kc_prac = step_calc.count_practice_challenge(steps)\n",
    "    over_prac = kc_prac.apply(lambda x: x['high_knowledge'] / np.sum(x), axis=1).rename(\"over_practice\")\n",
    "#     kc_prac.columns = [f\"{col}_practice\" for col in kc_prac.columns.tolist()]\n",
    "\n",
    "    # Calculate accuracy\n",
    "    step_accuracy = calc_step_accuracy(steps)\n",
    "\n",
    "    # Calculate work rate:\n",
    "    work_rate = calc.calc_avg_work_rate(steps)\n",
    "    exp_work_rate = calc_expected_work_rate(steps)\n",
    "\n",
    "    # Calculate hint usage by knowledge level\n",
    "    stu_level_hints = steps.groupby(['stu_id', 'knowledge_level'])['Hint'].mean().unstack()\n",
    "#     stu_level_hints.columns = [f\"{col}_mean_num_hints\" for col in stu_level_hints.columns.tolist()]\n",
    "    \n",
    "    # Action stats\n",
    "    action_dist = get_action_counts(tx)\n",
    "#     action_dist.index = action_dist.index.swaplevel()\n",
    "    \n",
    "    # Total Tx Stats\n",
    "    tx_stats = total_tx_stats(tx)\n",
    "#     tx_stats.index = tx_stats.index.swaplevel()\n",
    "    \n",
    "    # Session stats\n",
    "    ses_stats = calc_stu_session_stats(tx)\n",
    "#     ses_stats.index = ses_stats.index.swaplevel()\n",
    "    \n",
    "    \n",
    "    \n",
    "    stats = pd.concat([detect_offtask, detect_guess, time_on_task, kc_prac,\n",
    "                       step_accuracy, over_prac, work_rate, exp_work_rate, \n",
    "                       stu_level_hints, action_dist, tx_stats, ses_stats], axis=1)\n",
    "\n",
    "    return stats\n",
    "    "
   ]
  },
  {
   "cell_type": "markdown",
   "metadata": {},
   "source": [
    "## Calculate Stats"
   ]
  },
  {
   "cell_type": "code",
   "execution_count": 32,
   "metadata": {},
   "outputs": [],
   "source": [
    "# Calculating stats with analytic methods\n",
    "\n",
    "calc = StudentStatCalc(db)\n",
    "batch_calc = BatchCalculator()\n",
    "detector = Detector(db)\n",
    "tx_lblr = TransactionAnnotator(db)\n",
    "step_calc = StepCalculator(db)\n",
    "tx_calc = TransactionCalculator(db)\n",
    "session_calc = SessionCalculator(db)"
   ]
  },
  {
   "cell_type": "code",
   "execution_count": 33,
   "metadata": {},
   "outputs": [
    {
     "name": "stderr",
     "output_type": "stream",
     "text": [
      "INFO:analytics.session:batch #0: \n",
      "ID: 9802c796-c0b1-407d-80cc-3b094b6c5e41\n",
      "desc: Self-Efficacy students\n",
      "INFO:analytics.session:recovered 20 student ids for batch Self-Efficacy students\n"
     ]
    }
   ],
   "source": [
    "# Get students batches\n",
    "batches = [batch for batch in db.simbatches.find()]\n",
    "batch_descs = [\"Self-Efficacy students\",\n",
    "              ]\n",
    "sids = {desc: [] for desc in batch_descs}\n",
    "for i, batch in enumerate(batches):\n",
    "    logger.info(f\"batch #{i}: \\nID: {batch['_id']}\\ndesc: {batch['desc']}\")\n",
    "    if batch['desc'] in batch_descs:\n",
    "        logger.info(f\"recovered {len(batch['student_ids'])} student ids for batch {batch['desc']}\")\n",
    "        sids[batch['desc']].append(batch['student_ids'])"
   ]
  },
  {
   "cell_type": "code",
   "execution_count": 89,
   "metadata": {},
   "outputs": [
    {
     "name": "stderr",
     "output_type": "stream",
     "text": [
      "INFO:analytics.session:Starting calculation\n",
      "INFO:analytics.session:EDA of 20 students for batch, Self-Efficacy students\n",
      "INFO:analytics.session:Completed calculated and merging reliability stats: {split_stu_stats.shape}\n",
      "INFO:analytics.session:Completed calculated and merging reliability stats: {split_stu_stats.shape}\n",
      "INFO:analytics.session:Calculated student stats: (20, 63)\tRuntime: 36.227743 seconds\n"
     ]
    }
   ],
   "source": [
    "\n",
    "stu_stats = {desc: {} for desc in batch_descs}\n",
    "mastery_thres = 0.9\n",
    "stu_prob_stats = {desc: {} for desc in batch_descs}\n",
    "kc_stats = {desc: {} for desc in batch_descs}\n",
    "det_err = {desc: {} for desc in batch_descs}\n",
    "logger.info(\"Starting calculation\")\n",
    "\n",
    "batch_size = 10\n",
    "for desc in batch_descs:\n",
    "    ids = sids[desc][0]\n",
    "    logger.info(f\"EDA of {len(sid)} students for batch, {desc}\")\n",
    "    \n",
    "    \n",
    "    def calc_all_stats(sids):\n",
    "        d = calc_stu_stats(sids)\n",
    "#         d.index.rename(\"stu_id\", level=0, inplace=True)\n",
    "#         d.index.rename(\"split_half\", level=1, inplace=True)\n",
    "\n",
    "        args = [get_stu_parameters, sids, batch_size, [mastery_thres]]\n",
    "        sim_students, runtime = batch_calc.time_calc(batch_calc.batch_calc, args)\n",
    "#         logger.info(f\"Calculated student params: {sim_students.shape}\\tRuntime: {runtime} seconds\")\n",
    "        sim_students.index.rename(\"stu_id\", inplace=True)\n",
    "\n",
    "        result = pd.merge(sim_students, d, left_index=True, right_index=True)\n",
    "\n",
    "        logger.info(f\"Completed calculating and merging stats: {stu_stats.shape}\")\n",
    "        return result\n",
    "    \n",
    "    args = [calc_all_stats, ids, batch_size]\n",
    "    stu_stats[desc], runtime = batch_calc.time_calc(batch_calc.batch_calc, args)\n",
    "    logger.info(f\"Calculated student stats: {stu_stats[desc].shape}\\tRuntime: {runtime} seconds\")\n",
    "    \n",
    "    \n"
   ]
  },
  {
   "cell_type": "code",
   "execution_count": 34,
   "metadata": {},
   "outputs": [
    {
     "name": "stderr",
     "output_type": "stream",
     "text": [
      "INFO:analytics.session:Starting calculation\n",
      "INFO:analytics.session:EDA of 20 students for batch, Self-Efficacy students\n",
      "INFO:analytics.session:Calculating for student set:\tSelf-Efficacy students\n",
      "INFO:analytics.session:Calculated student params: (20, 20)\tRuntime: 0.138623 seconds\n",
      "INFO:analytics.session:Calculated student action stats: (20, 13)\tRuntime: 2.503753 seconds\n",
      "INFO:analytics.session:Calculated student activity stats: (20, 9)\tRuntime: 1.986602 seconds\n",
      "INFO:analytics.session:Calculated student session stats: (20, 5)\tRuntime: 0.251389 seconds\n",
      "INFO:analytics.session:Calculated diligence stats: (20, 21)\tRuntime: 33.351645 seconds\n",
      "INFO:analytics.session:Merged new stats together: (20, 68)\n"
     ]
    }
   ],
   "source": [
    "\n",
    "stu_stats = {desc: {} for desc in batch_descs}\n",
    "mastery_thres = 0.9\n",
    "\n",
    "logger.info(\"Starting calculation\")\n",
    "\n",
    "batch_size = 10\n",
    "for desc in batch_descs:\n",
    "\n",
    "\n",
    "    sid = sids[desc][0]\n",
    "    logger.info(f\"EDA of {len(sid)} students for batch, {desc}\")\n",
    "\n",
    "    logger.info(f\"Calculating for student set:\\t{desc}\")\n",
    "    args = [get_stu_parameters, sid, batch_size, [mastery_thres]]\n",
    "    sim_students, runtime = batch_calc.time_calc(batch_calc.batch_calc, args)\n",
    "    logger.info(f\"Calculated student params: {sim_students.shape}\\tRuntime: {runtime} seconds\")\n",
    "\n",
    "    args = [calc.get_action_counts, sid, batch_size]\n",
    "    action_dist, runtime = batch_calc.time_calc(batch_calc.batch_calc, args)\n",
    "    logger.info(f\"Calculated student action stats: {action_dist.shape}\\tRuntime: {runtime} seconds\")\n",
    "\n",
    "    args = [calc.total_tx_stats, sid, batch_size]\n",
    "    tx_stats, runtime = batch_calc.time_calc(batch_calc.batch_calc, args)\n",
    "    logger.info(f\"Calculated student activity stats: {tx_stats.shape}\\tRuntime: {runtime} seconds\")\n",
    "\n",
    "\n",
    "    args = [session_calc.calc_stu_session_stats, sid, batch_size]\n",
    "    ses_stats, runtime = batch_calc.time_calc(batch_calc.batch_calc, args)\n",
    "    logger.info(f\"Calculated student session stats: {ses_stats.shape}\\tRuntime: {runtime} seconds\")\n",
    "\n",
    "    args = [calc_stats, sid, batch_size]\n",
    "    dil_stats, runtime = batch_calc.time_calc(batch_calc.batch_calc, args)\n",
    "    logger.info(f\"Calculated diligence stats: {dil_stats.shape}\\tRuntime: {runtime} seconds\")\n",
    "    \n",
    "#     args = [get_afm_steps, sid, batch_size]\n",
    "#     afm_steps, runtime = batch_calc.time_calc(batch_calc.batch_calc, args)\n",
    "#     logger.info(f\"Calculated Step rollup for afm: {afm_steps.shape}\\tRuntime: {runtime} seconds\")\n",
    "\n",
    "# #    stu_afm = run_afm(afm_steps)\n",
    "#     stu_afm, runtime = batch_calc.time_calc(run_afm, [afm_steps])\n",
    "#     logger.info(f\"Calculated afm intercepts: {stu_afm.shape}\\tRuntime: {runtime} seconds\")\n",
    "\n",
    "\n",
    "#     stu_stats[desc] = pd.concat([sim_students, action_dist, tx_stats, ses_stats, \n",
    "#                                  dil_stats, stu_afm], axis=1)\n",
    "\n",
    "\n",
    "    stu_stats[desc] = pd.concat([sim_students, action_dist, tx_stats, ses_stats, \n",
    "                                 dil_stats], axis=1)\n",
    "    logger.info(f\"Merged new stats together: {stu_stats[desc].shape}\")\n"
   ]
  },
  {
   "cell_type": "markdown",
   "metadata": {},
   "source": [
    "## Student Parameters EDA"
   ]
  },
  {
   "cell_type": "markdown",
   "metadata": {},
   "source": [
    "### Correlation Matrix of Measures"
   ]
  },
  {
   "cell_type": "code",
   "execution_count": 90,
   "metadata": {},
   "outputs": [
    {
     "name": "stderr",
     "output_type": "stream",
     "text": [
      "INFO:analytics.session:Comparing student sim: Self-Efficacy students\n",
      "INFO:analytics.session:\n",
      "             pct class Pct OffTask start speed early finish\n",
      "pct class            1   -0.485532   -0.723531    -0.764825\n",
      "Pct OffTask  -0.485532           1    0.194774     0.578085\n",
      "start speed  -0.723531    0.194774           1     0.172635\n",
      "early finish -0.764825    0.578085    0.172635            1\n"
     ]
    }
   ],
   "source": [
    "measures = ['pct class', 'Pct OffTask', 'start speed', 'early finish']\n",
    "cor_mat = {desc: pd.DataFrame(index=measures, columns = measures) for desc in batch_descs}\n",
    "for i, desc in enumerate(batch_descs):\n",
    "    logger.info(f\"Comparing student sim: {desc}\")\n",
    "    ss = stu_stats[desc]\n",
    "    for m_i in measures:\n",
    "        for m_j in measures:\n",
    "            corr, pval = pearsonr(ss[m_i],ss[m_j])\n",
    "            cor_mat[desc].loc[m_i, m_j] = corr\n",
    "    logger.info(f\"\\n{cor_mat[desc]}\")\n",
    "\n",
    "        "
   ]
  },
  {
   "cell_type": "code",
   "execution_count": null,
   "metadata": {},
   "outputs": [],
   "source": []
  },
  {
   "cell_type": "code",
   "execution_count": 91,
   "metadata": {},
   "outputs": [
    {
     "name": "stderr",
     "output_type": "stream",
     "text": [
      "INFO:analytics.session:Self-Efficacy students\n"
     ]
    },
    {
     "name": "stdout",
     "output_type": "stream",
     "text": [
      "['diligence', 'cog_ability', 'dec_self_eff']\n"
     ]
    },
    {
     "data": {
      "image/png": "[encoded data removed]",
      "text/plain": [
       "<Figure size 720x1080 with 6 Axes>"
      ]
     },
     "metadata": {
      "needs_background": "light"
     },
     "output_type": "display_data"
    }
   ],
   "source": [
    "\n",
    "\n",
    "cols = ['diligence', 'cog_ability', 'dec_self_eff']\n",
    "for i,desc in enumerate(batch_descs):\n",
    "    sstats = stu_stats[desc]\n",
    "    i = 1\n",
    "    avail_cols = [c for c in cols if c in sstats.columns.tolist()]\n",
    "    print(avail_cols)\n",
    "    l = len(avail_cols)\n",
    "    plt.figure(figsize=(5*(l-1),5*(l)))\n",
    "    logger.info(desc)\n",
    "    for xcol in avail_cols:\n",
    "        other_cols = [c for c in avail_cols if xcol != c]\n",
    "        for ycol in other_cols:\n",
    "            x = sstats[xcol]\n",
    "            y = sstats[ycol]\n",
    "            plt.subplot(len(avail_cols), len(other_cols), i)\n",
    "            plt.scatter(y,x)\n",
    "            plt.xlabel(xcol)\n",
    "            plt.ylabel(ycol)\n",
    "            plt.title(desc)    \n",
    "            i += 1\n",
    "    plt.show()\n",
    "    "
   ]
  },
  {
   "cell_type": "markdown",
   "metadata": {},
   "source": [
    "## Simulation Noise"
   ]
  },
  {
   "cell_type": "markdown",
   "metadata": {},
   "source": [
    "### Session Opportunity"
   ]
  },
  {
   "cell_type": "code",
   "execution_count": 92,
   "metadata": {},
   "outputs": [
    {
     "data": {
      "image/png": "[encoded data removed]",
      "text/plain": [
       "<Figure size 1080x288 with 1 Axes>"
      ]
     },
     "metadata": {
      "needs_background": "light"
     },
     "output_type": "display_data"
    }
   ],
   "source": [
    "plt.figure(figsize=(15,4))\n",
    "l = len(batch_descs)\n",
    "for i,desc in enumerate(batch_descs):\n",
    "    sstats = stu_stats[desc]\n",
    "    col = 'total opportunity'\n",
    "    plt.subplot(1,l, i+1)\n",
    "    plt.hist(sstats['total opportunity'])\n",
    "    plt.title(desc)    \n",
    "plt.show()\n",
    "    "
   ]
  },
  {
   "cell_type": "markdown",
   "metadata": {},
   "source": [
    "### Detector error rates"
   ]
  },
  {
   "cell_type": "code",
   "execution_count": 93,
   "metadata": {},
   "outputs": [
    {
     "name": "stderr",
     "output_type": "stream",
     "text": [
      "INFO:analytics.session:************** Self-Efficacy students ******************\n"
     ]
    },
    {
     "ename": "KeyError",
     "evalue": "'offtask_tp'",
     "output_type": "error",
     "traceback": [
      "\u001b[0;31m---------------------------------------------------------------------------\u001b[0m",
      "\u001b[0;31mKeyError\u001b[0m                                  Traceback (most recent call last)",
      "\u001b[0;32m/rdata/Sandbox/MotivSim/notebooks/jvenv/lib/python3.8/site-packages/pandas/core/indexes/base.py\u001b[0m in \u001b[0;36mget_loc\u001b[0;34m(self, key, method, tolerance)\u001b[0m\n\u001b[1;32m   2894\u001b[0m             \u001b[0;32mtry\u001b[0m\u001b[0;34m:\u001b[0m\u001b[0;34m\u001b[0m\u001b[0;34m\u001b[0m\u001b[0m\n\u001b[0;32m-> 2895\u001b[0;31m                 \u001b[0;32mreturn\u001b[0m \u001b[0mself\u001b[0m\u001b[0;34m.\u001b[0m\u001b[0m_engine\u001b[0m\u001b[0;34m.\u001b[0m\u001b[0mget_loc\u001b[0m\u001b[0;34m(\u001b[0m\u001b[0mcasted_key\u001b[0m\u001b[0;34m)\u001b[0m\u001b[0;34m\u001b[0m\u001b[0;34m\u001b[0m\u001b[0m\n\u001b[0m\u001b[1;32m   2896\u001b[0m             \u001b[0;32mexcept\u001b[0m \u001b[0mKeyError\u001b[0m \u001b[0;32mas\u001b[0m \u001b[0merr\u001b[0m\u001b[0;34m:\u001b[0m\u001b[0;34m\u001b[0m\u001b[0;34m\u001b[0m\u001b[0m\n",
      "\u001b[0;32mpandas/_libs/index.pyx\u001b[0m in \u001b[0;36mpandas._libs.index.IndexEngine.get_loc\u001b[0;34m()\u001b[0m\n",
      "\u001b[0;32mpandas/_libs/index.pyx\u001b[0m in \u001b[0;36mpandas._libs.index.IndexEngine.get_loc\u001b[0;34m()\u001b[0m\n",
      "\u001b[0;32mpandas/_libs/hashtable_class_helper.pxi\u001b[0m in \u001b[0;36mpandas._libs.hashtable.PyObjectHashTable.get_item\u001b[0;34m()\u001b[0m\n",
      "\u001b[0;32mpandas/_libs/hashtable_class_helper.pxi\u001b[0m in \u001b[0;36mpandas._libs.hashtable.PyObjectHashTable.get_item\u001b[0;34m()\u001b[0m\n",
      "\u001b[0;31mKeyError\u001b[0m: 'offtask_tp'",
      "\nThe above exception was the direct cause of the following exception:\n",
      "\u001b[0;31mKeyError\u001b[0m                                  Traceback (most recent call last)",
      "\u001b[0;32m<ipython-input-93-6e4df6d35f42>\u001b[0m in \u001b[0;36m<module>\u001b[0;34m\u001b[0m\n\u001b[1;32m      7\u001b[0m     \u001b[0mtotal\u001b[0m \u001b[0;34m=\u001b[0m \u001b[0mnp\u001b[0m\u001b[0;34m.\u001b[0m\u001b[0msum\u001b[0m\u001b[0;34m(\u001b[0m\u001b[0mdsum\u001b[0m\u001b[0;34m)\u001b[0m\u001b[0;34m\u001b[0m\u001b[0;34m\u001b[0m\u001b[0m\n\u001b[1;32m      8\u001b[0m     \u001b[0mdpct\u001b[0m \u001b[0;34m=\u001b[0m \u001b[0mdsum\u001b[0m\u001b[0;34m.\u001b[0m\u001b[0mapply\u001b[0m\u001b[0;34m(\u001b[0m\u001b[0;32mlambda\u001b[0m \u001b[0mx\u001b[0m\u001b[0;34m:\u001b[0m \u001b[0mx\u001b[0m\u001b[0;34m/\u001b[0m\u001b[0mtotal\u001b[0m\u001b[0;34m)\u001b[0m\u001b[0;34m\u001b[0m\u001b[0;34m\u001b[0m\u001b[0m\n\u001b[0;32m----> 9\u001b[0;31m     \u001b[0mlogger\u001b[0m\u001b[0;34m.\u001b[0m\u001b[0minfo\u001b[0m\u001b[0;34m(\u001b[0m\u001b[0;34mf\"Offtask Error Rates: \\nTP: {dpct['offtask_tp']}\\tFP: {dpct['offtask_fp']}\\tTN: {dpct['offtask_tn']}\\tFN: {dpct['offtask_fn']}\"\u001b[0m\u001b[0;34m)\u001b[0m\u001b[0;34m\u001b[0m\u001b[0;34m\u001b[0m\u001b[0m\n\u001b[0m\u001b[1;32m     10\u001b[0m     \u001b[0mcols\u001b[0m \u001b[0;34m=\u001b[0m \u001b[0;34m[\u001b[0m\u001b[0mcol\u001b[0m \u001b[0;32mfor\u001b[0m \u001b[0mcol\u001b[0m \u001b[0;32min\u001b[0m \u001b[0md\u001b[0m\u001b[0;34m.\u001b[0m\u001b[0mcolumns\u001b[0m\u001b[0;34m.\u001b[0m\u001b[0mtolist\u001b[0m\u001b[0;34m(\u001b[0m\u001b[0;34m)\u001b[0m \u001b[0;32mif\u001b[0m \u001b[0;34m\"guess_\"\u001b[0m \u001b[0;32min\u001b[0m \u001b[0mstr\u001b[0m\u001b[0;34m(\u001b[0m\u001b[0mcol\u001b[0m\u001b[0;34m)\u001b[0m\u001b[0;34m]\u001b[0m\u001b[0;34m\u001b[0m\u001b[0;34m\u001b[0m\u001b[0m\n\u001b[1;32m     11\u001b[0m     \u001b[0mdsum\u001b[0m \u001b[0;34m=\u001b[0m \u001b[0md\u001b[0m\u001b[0;34m.\u001b[0m\u001b[0mloc\u001b[0m\u001b[0;34m[\u001b[0m\u001b[0;34m:\u001b[0m\u001b[0;34m,\u001b[0m\u001b[0mcols\u001b[0m\u001b[0;34m]\u001b[0m\u001b[0;34m.\u001b[0m\u001b[0mapply\u001b[0m\u001b[0;34m(\u001b[0m\u001b[0mnp\u001b[0m\u001b[0;34m.\u001b[0m\u001b[0msum\u001b[0m\u001b[0;34m,\u001b[0m \u001b[0maxis\u001b[0m\u001b[0;34m=\u001b[0m\u001b[0;36m0\u001b[0m\u001b[0;34m)\u001b[0m\u001b[0;34m\u001b[0m\u001b[0;34m\u001b[0m\u001b[0m\n",
      "\u001b[0;32m/rdata/Sandbox/MotivSim/notebooks/jvenv/lib/python3.8/site-packages/pandas/core/series.py\u001b[0m in \u001b[0;36m__getitem__\u001b[0;34m(self, key)\u001b[0m\n\u001b[1;32m    880\u001b[0m \u001b[0;34m\u001b[0m\u001b[0m\n\u001b[1;32m    881\u001b[0m         \u001b[0;32melif\u001b[0m \u001b[0mkey_is_scalar\u001b[0m\u001b[0;34m:\u001b[0m\u001b[0;34m\u001b[0m\u001b[0;34m\u001b[0m\u001b[0m\n\u001b[0;32m--> 882\u001b[0;31m             \u001b[0;32mreturn\u001b[0m \u001b[0mself\u001b[0m\u001b[0;34m.\u001b[0m\u001b[0m_get_value\u001b[0m\u001b[0;34m(\u001b[0m\u001b[0mkey\u001b[0m\u001b[0;34m)\u001b[0m\u001b[0;34m\u001b[0m\u001b[0;34m\u001b[0m\u001b[0m\n\u001b[0m\u001b[1;32m    883\u001b[0m \u001b[0;34m\u001b[0m\u001b[0m\n\u001b[1;32m    884\u001b[0m         \u001b[0;32mif\u001b[0m \u001b[0mis_hashable\u001b[0m\u001b[0;34m(\u001b[0m\u001b[0mkey\u001b[0m\u001b[0;34m)\u001b[0m\u001b[0;34m:\u001b[0m\u001b[0;34m\u001b[0m\u001b[0;34m\u001b[0m\u001b[0m\n",
      "\u001b[0;32m/rdata/Sandbox/MotivSim/notebooks/jvenv/lib/python3.8/site-packages/pandas/core/series.py\u001b[0m in \u001b[0;36m_get_value\u001b[0;34m(self, label, takeable)\u001b[0m\n\u001b[1;32m    987\u001b[0m \u001b[0;34m\u001b[0m\u001b[0m\n\u001b[1;32m    988\u001b[0m         \u001b[0;31m# Similar to Index.get_value, but we do not fall back to positional\u001b[0m\u001b[0;34m\u001b[0m\u001b[0;34m\u001b[0m\u001b[0;34m\u001b[0m\u001b[0m\n\u001b[0;32m--> 989\u001b[0;31m         \u001b[0mloc\u001b[0m \u001b[0;34m=\u001b[0m \u001b[0mself\u001b[0m\u001b[0;34m.\u001b[0m\u001b[0mindex\u001b[0m\u001b[0;34m.\u001b[0m\u001b[0mget_loc\u001b[0m\u001b[0;34m(\u001b[0m\u001b[0mlabel\u001b[0m\u001b[0;34m)\u001b[0m\u001b[0;34m\u001b[0m\u001b[0;34m\u001b[0m\u001b[0m\n\u001b[0m\u001b[1;32m    990\u001b[0m         \u001b[0;32mreturn\u001b[0m \u001b[0mself\u001b[0m\u001b[0;34m.\u001b[0m\u001b[0mindex\u001b[0m\u001b[0;34m.\u001b[0m\u001b[0m_get_values_for_loc\u001b[0m\u001b[0;34m(\u001b[0m\u001b[0mself\u001b[0m\u001b[0;34m,\u001b[0m \u001b[0mloc\u001b[0m\u001b[0;34m,\u001b[0m \u001b[0mlabel\u001b[0m\u001b[0;34m)\u001b[0m\u001b[0;34m\u001b[0m\u001b[0;34m\u001b[0m\u001b[0m\n\u001b[1;32m    991\u001b[0m \u001b[0;34m\u001b[0m\u001b[0m\n",
      "\u001b[0;32m/rdata/Sandbox/MotivSim/notebooks/jvenv/lib/python3.8/site-packages/pandas/core/indexes/base.py\u001b[0m in \u001b[0;36mget_loc\u001b[0;34m(self, key, method, tolerance)\u001b[0m\n\u001b[1;32m   2895\u001b[0m                 \u001b[0;32mreturn\u001b[0m \u001b[0mself\u001b[0m\u001b[0;34m.\u001b[0m\u001b[0m_engine\u001b[0m\u001b[0;34m.\u001b[0m\u001b[0mget_loc\u001b[0m\u001b[0;34m(\u001b[0m\u001b[0mcasted_key\u001b[0m\u001b[0;34m)\u001b[0m\u001b[0;34m\u001b[0m\u001b[0;34m\u001b[0m\u001b[0m\n\u001b[1;32m   2896\u001b[0m             \u001b[0;32mexcept\u001b[0m \u001b[0mKeyError\u001b[0m \u001b[0;32mas\u001b[0m \u001b[0merr\u001b[0m\u001b[0;34m:\u001b[0m\u001b[0;34m\u001b[0m\u001b[0;34m\u001b[0m\u001b[0m\n\u001b[0;32m-> 2897\u001b[0;31m                 \u001b[0;32mraise\u001b[0m \u001b[0mKeyError\u001b[0m\u001b[0;34m(\u001b[0m\u001b[0mkey\u001b[0m\u001b[0;34m)\u001b[0m \u001b[0;32mfrom\u001b[0m \u001b[0merr\u001b[0m\u001b[0;34m\u001b[0m\u001b[0;34m\u001b[0m\u001b[0m\n\u001b[0m\u001b[1;32m   2898\u001b[0m \u001b[0;34m\u001b[0m\u001b[0m\n\u001b[1;32m   2899\u001b[0m         \u001b[0;32mif\u001b[0m \u001b[0mtolerance\u001b[0m \u001b[0;32mis\u001b[0m \u001b[0;32mnot\u001b[0m \u001b[0;32mNone\u001b[0m\u001b[0;34m:\u001b[0m\u001b[0;34m\u001b[0m\u001b[0;34m\u001b[0m\u001b[0m\n",
      "\u001b[0;31mKeyError\u001b[0m: 'offtask_tp'"
     ]
    }
   ],
   "source": [
    "\n",
    "l = len(batch_descs)\n",
    "for i,desc in enumerate(batch_descs):\n",
    "    logger.info(f\"************** {desc} ******************\")\n",
    "    d = stu_stats[desc]\n",
    "    cols = [col for col in d.columns.tolist() if \"offtask_\" in str(col)]\n",
    "    dsum = d.loc[:,cols].apply(np.sum, axis=0)\n",
    "    total = np.sum(dsum)\n",
    "    dpct = dsum.apply(lambda x: x/total)\n",
    "    logger.info(f\"Offtask Error Rates: \\nTP: {dpct['offtask_tp']}\\tFP: {dpct['offtask_fp']}\\tTN: {dpct['offtask_tn']}\\tFN: {dpct['offtask_fn']}\")\n",
    "    cols = [col for col in d.columns.tolist() if \"guess_\" in str(col)]\n",
    "    dsum = d.loc[:,cols].apply(np.sum, axis=0)\n",
    "    total = np.sum(dsum)\n",
    "    dpct = dsum.apply(lambda x: x/total)\n",
    "    logger.info(f\"Guess Error Rates: \\nTP: {dpct['guess_tp']}\\tFP: {dpct['guess_fp']}\\tTN: {dpct['guess_tn']}\\tFN: {dpct['guess_fn']}\")\n"
   ]
  },
  {
   "cell_type": "markdown",
   "metadata": {},
   "source": [
    "### Work Rate - Tutor Policy Overpractice"
   ]
  },
  {
   "cell_type": "code",
   "execution_count": 94,
   "metadata": {},
   "outputs": [
    {
     "name": "stderr",
     "output_type": "stream",
     "text": [
      "INFO:analytics.session:************** Self-Efficacy students ******************\n"
     ]
    },
    {
     "data": {
      "image/png": "[encoded data removed]",
      "text/plain": [
       "<Figure size 1080x288 with 5 Axes>"
      ]
     },
     "metadata": {
      "needs_background": "light"
     },
     "output_type": "display_data"
    }
   ],
   "source": [
    "\n",
    "know_lvls = ['low_knowledge', 'low-mid_knowledge','mid_knowledge', 'mid-high_knowledge', 'high_knowledge']\n",
    "for i,desc in enumerate(batch_descs):\n",
    "    sstats = stu_stats[desc]\n",
    "    logger.info(f\"************** {desc} ******************\")\n",
    "    plt.figure(figsize=(15,4))    \n",
    "    for j, col in enumerate(know_lvls):\n",
    "        plt.subplot(1,len(know_lvls), j+1)\n",
    "        plt.hist(sstats[col])\n",
    "        plt.xlabel(col)\n",
    "        plt.title(col)\n",
    "\n",
    "    plt.show()"
   ]
  },
  {
   "cell_type": "markdown",
   "metadata": {},
   "source": [
    "## Diligence"
   ]
  },
  {
   "cell_type": "markdown",
   "metadata": {},
   "source": [
    "### Help-seeking"
   ]
  },
  {
   "cell_type": "code",
   "execution_count": 95,
   "metadata": {},
   "outputs": [
    {
     "name": "stderr",
     "output_type": "stream",
     "text": [
      "INFO:analytics.session:************** Self-Efficacy students ******************\n",
      "INFO:analytics.session:Pct HintRequest Correlation with diligence: \n",
      "R = 0.3102288152853977\t pval = 0.1831304658318691\n",
      "INFO:analytics.session:Pct Attempt Correlation with diligence: \n",
      "R = -0.10462895096897248\t pval = 0.6606655326324482\n",
      "INFO:analytics.session:Pct FailedAttempt Correlation with diligence: \n",
      "R = -0.028984971177206813\t pval = 0.9034509357819345\n",
      "INFO:analytics.session:Pct Guess Correlation with diligence: \n",
      "R = -0.8450774151229477\t pval = 2.7429017443313326e-06\n",
      "INFO:analytics.session:Total Tx Correlation with diligence: \n",
      "R = 0.5851142416617048\t pval = 0.006727017235928018\n"
     ]
    },
    {
     "data": {
      "image/png": "[encoded data removed]",
      "text/plain": [
       "<Figure size 1440x288 with 5 Axes>"
      ]
     },
     "metadata": {
      "needs_background": "light"
     },
     "output_type": "display_data"
    }
   ],
   "source": [
    "\n",
    "cols = ['Pct HintRequest', 'Pct Attempt', 'Pct FailedAttempt', 'Pct Guess', 'Total Tx']\n",
    "for i,desc in enumerate(batch_descs):\n",
    "    sstats = stu_stats[desc]\n",
    "    logger.info(f\"************** {desc} ******************\")\n",
    "    plt.figure(figsize=(20,4))    \n",
    "    for j, ycol in enumerate(cols):\n",
    "        plt.subplot(1,len(cols), j+1)\n",
    "        xcol = 'diligence'\n",
    "        x = sstats[xcol]\n",
    "        y = sstats[ycol]\n",
    "        plt.scatter(x,y)\n",
    "        plt.xlabel(xcol)\n",
    "        plt.ylabel(ycol)\n",
    "        corr, pval = pearsonr(x,y)\n",
    "        logger.info(f\"{ycol} Correlation with {xcol}: \\nR = {corr}\\t pval = {pval}\")\n",
    "\n",
    "\n",
    "    plt.show()"
   ]
  },
  {
   "cell_type": "markdown",
   "metadata": {},
   "source": [
    "### Total Time"
   ]
  },
  {
   "cell_type": "code",
   "execution_count": 96,
   "metadata": {},
   "outputs": [
    {
     "name": "stderr",
     "output_type": "stream",
     "text": [
      "INFO:analytics.session:************** Self-Efficacy students ******************\n",
      "INFO:analytics.session:Total Time(hours) Correlation with diligence: \n",
      "R = 0.5382807521334814\t pval = 0.014349534186288855\n",
      "INFO:analytics.session:pct class Correlation with diligence: \n",
      "R = 0.7994033646862327\t pval = 2.3496790344777014e-05\n",
      "INFO:analytics.session:start speed Correlation with diligence: \n",
      "R = -0.6984567221271936\t pval = 0.0006140417864149766\n",
      "INFO:analytics.session:early finish Correlation with diligence: \n",
      "R = -0.4764217227030261\t pval = 0.03369886318317356\n",
      "INFO:analytics.session:session length Correlation with diligence: \n",
      "R = 0.7743717348589229\t pval = 6.13374413111472e-05\n"
     ]
    },
    {
     "data": {
      "image/png": "[encoded data removed]",
      "text/plain": [
       "<Figure size 1440x288 with 5 Axes>"
      ]
     },
     "metadata": {
      "needs_background": "light"
     },
     "output_type": "display_data"
    }
   ],
   "source": [
    "\n",
    "cols = ['Total Time(hours)', 'pct class', 'start speed', 'early finish', 'session length']\n",
    "for i,desc in enumerate(batch_descs):\n",
    "    sstats = stu_stats[desc]\n",
    "    logger.info(f\"************** {desc} ******************\")\n",
    "    plt.figure(figsize=(20,4))    \n",
    "    for j, ycol in enumerate(cols):\n",
    "        plt.subplot(1,len(cols), j+1)\n",
    "        xcol = 'diligence'\n",
    "        x = sstats[xcol]\n",
    "        y = sstats[ycol]\n",
    "        plt.scatter(x,y)\n",
    "        plt.xlabel(xcol)\n",
    "        plt.ylabel(ycol)\n",
    "        corr, pval = pearsonr(x,y)\n",
    "        logger.info(f\"{ycol} Correlation with {xcol}: \\nR = {corr}\\t pval = {pval}\")\n",
    "\n",
    "\n",
    "    plt.show()"
   ]
  },
  {
   "cell_type": "markdown",
   "metadata": {},
   "source": [
    "### Off-task & Guessing"
   ]
  },
  {
   "cell_type": "code",
   "execution_count": 97,
   "metadata": {},
   "outputs": [
    {
     "name": "stderr",
     "output_type": "stream",
     "text": [
      "INFO:analytics.session:************** Self-Efficacy students ******************\n",
      "INFO:analytics.session:OffTask Correlation with diligence: \n",
      "R = -0.3642004338082919\t pval = 0.11441413297812275\n",
      "INFO:analytics.session:Pct OffTask Correlation with diligence: \n",
      "R = -0.5276037626655818\t pval = 0.016812039623754917\n",
      "INFO:analytics.session:Pct Guess Correlation with diligence: \n",
      "R = -0.8450774151229477\t pval = 2.7429017443313326e-06\n",
      "INFO:analytics.session:mean_detect_offtask Correlation with diligence: \n",
      "R = -0.2611266197477137\t pval = 0.2661238761453653\n",
      "INFO:analytics.session:mean_detect_guess Correlation with diligence: \n",
      "R = -0.30578689679201726\t pval = 0.18981103098925728\n"
     ]
    },
    {
     "data": {
      "image/png": "[encoded data removed]",
      "text/plain": [
       "<Figure size 1800x288 with 5 Axes>"
      ]
     },
     "metadata": {
      "needs_background": "light"
     },
     "output_type": "display_data"
    }
   ],
   "source": [
    "\n",
    "cols = [\"OffTask\", 'Pct OffTask', 'Pct Guess', 'mean_detect_offtask', 'mean_detect_guess']\n",
    "for i,desc in enumerate(batch_descs):\n",
    "    sstats = stu_stats[desc]\n",
    "    logger.info(f\"************** {desc} ******************\")\n",
    "    plt.figure(figsize=(25,4))    \n",
    "    for j, ycol in enumerate(cols):\n",
    "        plt.subplot(1,len(cols), j+1)\n",
    "        xcol = 'diligence'\n",
    "        x = sstats[xcol]\n",
    "        y = sstats[ycol]\n",
    "        plt.scatter(x,y)\n",
    "        plt.xlabel(xcol)\n",
    "        plt.ylabel(ycol)\n",
    "        corr, pval = pearsonr(x,y)\n",
    "        logger.info(f\"{ycol} Correlation with {xcol}: \\nR = {corr}\\t pval = {pval}\")\n",
    "\n",
    "\n",
    "    plt.show()"
   ]
  },
  {
   "cell_type": "markdown",
   "metadata": {},
   "source": [
    "### Time-on-task"
   ]
  },
  {
   "cell_type": "code",
   "execution_count": 98,
   "metadata": {},
   "outputs": [
    {
     "name": "stderr",
     "output_type": "stream",
     "text": [
      "INFO:analytics.session:************** Self-Efficacy students ******************\n",
      "INFO:analytics.session:Total Time(hours) Correlation with diligence: \n",
      "R = 0.5382807521334814\t pval = 0.014349534186288855\n",
      "INFO:analytics.session:time_on_task Correlation with diligence: \n",
      "R = 0.5976990248005399\t pval = 0.005382911702551819\n",
      "INFO:analytics.session:time_off_task Correlation with diligence: \n",
      "R = -0.20342776678991925\t pval = 0.38966503122214036\n"
     ]
    },
    {
     "data": {
      "image/png": "[encoded data removed]",
      "text/plain": [
       "<Figure size 1440x288 with 3 Axes>"
      ]
     },
     "metadata": {
      "needs_background": "light"
     },
     "output_type": "display_data"
    }
   ],
   "source": [
    "\n",
    "cols = ['Total Time(hours)', 'time_on_task', 'time_off_task']\n",
    "for i,desc in enumerate(batch_descs):\n",
    "    sstats = stu_stats[desc]\n",
    "    logger.info(f\"************** {desc} ******************\")\n",
    "    plt.figure(figsize=(20,4))    \n",
    "    for j, ycol in enumerate(cols):\n",
    "        plt.subplot(1,len(cols), j+1)\n",
    "        xcol = 'diligence'\n",
    "        x = sstats[xcol]\n",
    "        y = sstats[ycol]\n",
    "        plt.scatter(x,y)\n",
    "        plt.xlabel(xcol)\n",
    "        plt.ylabel(ycol)\n",
    "        corr, pval = pearsonr(x,y)\n",
    "        logger.info(f\"{ycol} Correlation with {xcol}: \\nR = {corr}\\t pval = {pval}\")\n",
    "\n",
    "\n",
    "    plt.show()"
   ]
  },
  {
   "cell_type": "markdown",
   "metadata": {},
   "source": [
    "### Knowledge & Learning"
   ]
  },
  {
   "cell_type": "code",
   "execution_count": 99,
   "metadata": {},
   "outputs": [
    {
     "name": "stderr",
     "output_type": "stream",
     "text": [
      "INFO:analytics.session:************** Self-Efficacy students ******************\n",
      "INFO:analytics.session:pre-sim total skill Correlation with diligence: \n",
      "R = -0.21449624531926934\t pval = 0.3638125607688459\n",
      "INFO:analytics.session:final-sim total skill Correlation with diligence: \n",
      "R = -0.08611177619689397\t pval = 0.7181154409616304\n",
      "INFO:analytics.session:final-sim total mastery Correlation with diligence: \n",
      "R = 0.20877683993012344\t pval = 0.37704639833230824\n",
      "INFO:analytics.session:total learning Correlation with diligence: \n",
      "R = 0.5560254165013917\t pval = 0.010904919251545821\n",
      "INFO:analytics.session:total mastered Correlation with diligence: \n",
      "R = 0.3122668704258357\t pval = 0.1801192200407459\n"
     ]
    },
    {
     "data": {
      "image/png": "[encoded data removed]",
      "text/plain": [
       "<Figure size 1440x288 with 5 Axes>"
      ]
     },
     "metadata": {
      "needs_background": "light"
     },
     "output_type": "display_data"
    }
   ],
   "source": [
    "\n",
    "cols = ['pre-sim total skill', 'final-sim total skill', 'final-sim total mastery', 'total learning', 'total mastered']\n",
    "for i,desc in enumerate(batch_descs):\n",
    "    sstats = stu_stats[desc]\n",
    "    logger.info(f\"************** {desc} ******************\")\n",
    "    plt.figure(figsize=(20,4))    \n",
    "    for j, ycol in enumerate(cols):\n",
    "        plt.subplot(1,len(cols), j+1)\n",
    "        xcol = 'diligence'\n",
    "        x = sstats[xcol]\n",
    "        y = sstats[ycol]\n",
    "        plt.scatter(x,y)\n",
    "        plt.xlabel(xcol)\n",
    "        plt.ylabel(ycol)\n",
    "        corr, pval = pearsonr(x,y)\n",
    "        logger.info(f\"{ycol} Correlation with {xcol}: \\nR = {corr}\\t pval = {pval}\")\n",
    "\n",
    "\n",
    "    plt.show()"
   ]
  },
  {
   "cell_type": "markdown",
   "metadata": {},
   "source": []
  },
  {
   "cell_type": "markdown",
   "metadata": {},
   "source": [
    "## Cog Ability"
   ]
  },
  {
   "cell_type": "markdown",
   "metadata": {},
   "source": [
    "### Knowledge & Learning"
   ]
  },
  {
   "cell_type": "code",
   "execution_count": 100,
   "metadata": {},
   "outputs": [
    {
     "name": "stderr",
     "output_type": "stream",
     "text": [
      "INFO:analytics.session:************** Self-Efficacy students ******************\n",
      "INFO:analytics.session:pre-sim total skill Correlation with cog_ability: \n",
      "R = 0.9955801313515195\t pval = 6.016065818316818e-20\n",
      "INFO:analytics.session:final-sim total skill Correlation with cog_ability: \n",
      "R = 0.9659457355558743\t pval = 5.1696811990201086e-12\n",
      "INFO:analytics.session:final-sim total mastery Correlation with cog_ability: \n",
      "R = 0.6652725679018281\t pval = 0.0013696753867695431\n",
      "INFO:analytics.session:total learning Correlation with cog_ability: \n",
      "R = 0.014711747417180399\t pval = 0.9509136000945327\n",
      "INFO:analytics.session:total mastered Correlation with cog_ability: \n",
      "R = 0.5607431817455515\t pval = 0.010112260159956855\n"
     ]
    },
    {
     "data": {
      "image/png": "[encoded data removed]",
      "text/plain": [
       "<Figure size 1440x288 with 5 Axes>"
      ]
     },
     "metadata": {
      "needs_background": "light"
     },
     "output_type": "display_data"
    }
   ],
   "source": [
    "\n",
    "cols = ['pre-sim total skill', 'final-sim total skill', 'final-sim total mastery', 'total learning', 'total mastered']\n",
    "for i,desc in enumerate(batch_descs):\n",
    "    sstats = stu_stats[desc]\n",
    "    logger.info(f\"************** {desc} ******************\")\n",
    "    plt.figure(figsize=(20,4))    \n",
    "    for j, ycol in enumerate(cols):\n",
    "        plt.subplot(1,len(cols), j+1)\n",
    "        xcol = 'cog_ability'\n",
    "        x = sstats[xcol]\n",
    "        y = sstats[ycol]\n",
    "        plt.scatter(x,y)\n",
    "        plt.xlabel(xcol)\n",
    "        plt.ylabel(ycol)\n",
    "        corr, pval = pearsonr(x,y)\n",
    "        logger.info(f\"{ycol} Correlation with {xcol}: \\nR = {corr}\\t pval = {pval}\")\n",
    "\n",
    "\n",
    "    plt.show()"
   ]
  },
  {
   "cell_type": "markdown",
   "metadata": {},
   "source": [
    "### Help-seeking"
   ]
  },
  {
   "cell_type": "code",
   "execution_count": 101,
   "metadata": {},
   "outputs": [
    {
     "name": "stderr",
     "output_type": "stream",
     "text": [
      "INFO:analytics.session:************** Self-Efficacy students ******************\n",
      "INFO:analytics.session:Pct HintRequest Correlation with cog_ability: \n",
      "R = -0.32817863414082293\t pval = 0.15776160269155332\n",
      "INFO:analytics.session:Pct Attempt Correlation with cog_ability: \n",
      "R = 0.8244178639377773\t pval = 7.813162273360803e-06\n",
      "INFO:analytics.session:Pct FailedAttempt Correlation with cog_ability: \n",
      "R = -0.4017804357399538\t pval = 0.07909048310699571\n",
      "INFO:analytics.session:Pct Guess Correlation with cog_ability: \n",
      "R = -0.003993345280404324\t pval = 0.9866689016564903\n",
      "INFO:analytics.session:Total Tx Correlation with cog_ability: \n",
      "R = -0.11066560660355294\t pval = 0.6423069429633275\n"
     ]
    },
    {
     "data": {
      "image/png": "[encoded data removed]",
      "text/plain": [
       "<Figure size 1440x288 with 5 Axes>"
      ]
     },
     "metadata": {
      "needs_background": "light"
     },
     "output_type": "display_data"
    }
   ],
   "source": [
    "\n",
    "cols = ['Pct HintRequest', 'Pct Attempt', 'Pct FailedAttempt', 'Pct Guess', 'Total Tx']\n",
    "for i,desc in enumerate(batch_descs):\n",
    "    sstats = stu_stats[desc]\n",
    "    logger.info(f\"************** {desc} ******************\")\n",
    "    plt.figure(figsize=(20,4))    \n",
    "    for j, ycol in enumerate(cols):\n",
    "        plt.subplot(1,len(cols), j+1)\n",
    "        xcol = 'cog_ability'\n",
    "        x = sstats[xcol]\n",
    "        y = sstats[ycol]\n",
    "        plt.scatter(x,y)\n",
    "        plt.xlabel(xcol)\n",
    "        plt.ylabel(ycol)\n",
    "        corr, pval = pearsonr(x,y)\n",
    "        logger.info(f\"{ycol} Correlation with {xcol}: \\nR = {corr}\\t pval = {pval}\")\n",
    "\n",
    "\n",
    "    plt.show()"
   ]
  },
  {
   "cell_type": "markdown",
   "metadata": {},
   "source": [
    "### Early Finish"
   ]
  },
  {
   "cell_type": "code",
   "execution_count": 102,
   "metadata": {},
   "outputs": [
    {
     "name": "stderr",
     "output_type": "stream",
     "text": [
      "INFO:analytics.session:************** Self-Efficacy students ******************\n",
      "INFO:analytics.session:start speed Correlation with cog_ability: \n",
      "R = 0.19380906204683793\t pval = 0.41293601338294156\n",
      "INFO:analytics.session:early finish Correlation with cog_ability: \n",
      "R = 0.06122628417323888\t pval = 0.7976251495062938\n",
      "INFO:analytics.session:pct class Correlation with cog_ability: \n",
      "R = -0.15428598153756187\t pval = 0.5160367654860099\n",
      "INFO:analytics.session:session length Correlation with cog_ability: \n",
      "R = -0.20968596120062066\t pval = 0.3749249135500304\n"
     ]
    },
    {
     "data": {
      "image/png": "[encoded data removed]",
      "text/plain": [
       "<Figure size 1440x288 with 4 Axes>"
      ]
     },
     "metadata": {
      "needs_background": "light"
     },
     "output_type": "display_data"
    }
   ],
   "source": [
    "\n",
    "cols = ['start speed', 'early finish', 'pct class', 'session length']\n",
    "for i,desc in enumerate(batch_descs):\n",
    "    sstats = stu_stats[desc]\n",
    "    logger.info(f\"************** {desc} ******************\")\n",
    "    plt.figure(figsize=(20,4))    \n",
    "    for j, ycol in enumerate(cols):\n",
    "        plt.subplot(1,len(cols), j+1)\n",
    "        xcol = 'cog_ability'\n",
    "        x = sstats[xcol]\n",
    "        y = sstats[ycol]\n",
    "        plt.scatter(x,y)\n",
    "        plt.xlabel(xcol)\n",
    "        plt.ylabel(ycol)\n",
    "        corr, pval = pearsonr(x,y)\n",
    "        logger.info(f\"{ycol} Correlation with {xcol}: \\nR = {corr}\\t pval = {pval}\")\n",
    "\n",
    "\n",
    "    plt.show()"
   ]
  },
  {
   "cell_type": "markdown",
   "metadata": {},
   "source": [
    "### Work Rate"
   ]
  },
  {
   "cell_type": "markdown",
   "metadata": {},
   "source": [
    "### Offtask"
   ]
  },
  {
   "cell_type": "code",
   "execution_count": 103,
   "metadata": {},
   "outputs": [
    {
     "name": "stderr",
     "output_type": "stream",
     "text": [
      "INFO:analytics.session:************** Self-Efficacy students ******************\n",
      "INFO:analytics.session:Pct OffTask Correlation with cog_ability: \n",
      "R = -0.1275416378931465\t pval = 0.5920597189061537\n",
      "INFO:analytics.session:time_off_task Correlation with cog_ability: \n",
      "R = -0.14733697669969598\t pval = 0.5353354144945817\n",
      "INFO:analytics.session:mean_detect_offtask Correlation with cog_ability: \n",
      "R = -0.23147990771190208\t pval = 0.32611140808727185\n",
      "INFO:analytics.session:time_on_task Correlation with cog_ability: \n",
      "R = -0.2860532734881716\t pval = 0.22146281658506597\n"
     ]
    },
    {
     "data": {
      "image/png": "[encoded data removed]",
      "text/plain": [
       "<Figure size 1440x288 with 4 Axes>"
      ]
     },
     "metadata": {
      "needs_background": "light"
     },
     "output_type": "display_data"
    }
   ],
   "source": [
    "\n",
    "cols = ['Pct OffTask', 'time_off_task', 'mean_detect_offtask', 'time_on_task']\n",
    "for i,desc in enumerate(batch_descs):\n",
    "    sstats = stu_stats[desc]\n",
    "    logger.info(f\"************** {desc} ******************\")\n",
    "    plt.figure(figsize=(20,4))    \n",
    "    for j, ycol in enumerate(cols):\n",
    "        plt.subplot(1,len(cols), j+1)\n",
    "        xcol = 'cog_ability'\n",
    "        x = sstats[xcol]\n",
    "        y = sstats[ycol]\n",
    "        plt.scatter(x,y)\n",
    "        plt.xlabel(xcol)\n",
    "        plt.ylabel(ycol)\n",
    "        corr, pval = pearsonr(x,y)\n",
    "        logger.info(f\"{ycol} Correlation with {xcol}: \\nR = {corr}\\t pval = {pval}\")\n",
    "\n",
    "\n",
    "    plt.show()"
   ]
  },
  {
   "cell_type": "markdown",
   "metadata": {},
   "source": [
    "## Self-Efficacy"
   ]
  },
  {
   "cell_type": "markdown",
   "metadata": {},
   "source": [
    "### Work Rate"
   ]
  },
  {
   "cell_type": "markdown",
   "metadata": {},
   "source": [
    "### Offtask"
   ]
  },
  {
   "cell_type": "code",
   "execution_count": 104,
   "metadata": {},
   "outputs": [
    {
     "name": "stderr",
     "output_type": "stream",
     "text": [
      "INFO:analytics.session:************** Self-Efficacy students ******************\n",
      "INFO:analytics.session:Pct OffTask Correlation with dec_self_eff: \n",
      "R = -0.37091448594521303\t pval = 0.10739500093056674\n",
      "INFO:analytics.session:time_off_task Correlation with dec_self_eff: \n",
      "R = -0.36359138223355986\t pval = 0.11506677806781694\n",
      "INFO:analytics.session:mean_detect_offtask Correlation with dec_self_eff: \n",
      "R = 0.29205822647209206\t pval = 0.2114876933535883\n",
      "INFO:analytics.session:time_on_task Correlation with dec_self_eff: \n",
      "R = 0.3067385556615484\t pval = 0.18836614533771803\n"
     ]
    },
    {
     "data": {
      "image/png": "[encoded data removed]",
      "text/plain": [
       "<Figure size 1440x288 with 4 Axes>"
      ]
     },
     "metadata": {
      "needs_background": "light"
     },
     "output_type": "display_data"
    }
   ],
   "source": [
    "\n",
    "cols = ['Pct OffTask', 'time_off_task', 'mean_detect_offtask', 'time_on_task']\n",
    "\n",
    "for i,desc in enumerate(batch_descs):\n",
    "        sstats = stu_stats[desc]  \n",
    "        logger.info(f\"************** {desc} ******************\")\n",
    "        plt.figure(figsize=(20,4))    \n",
    "        for j, ycol in enumerate(cols):\n",
    "            plt.subplot(1,len(cols), j+1)\n",
    "            xcol = 'dec_self_eff'\n",
    "            x = sstats[xcol]\n",
    "            y = sstats[ycol]\n",
    "            plt.scatter(x,y)\n",
    "            plt.xlabel(xcol)\n",
    "            plt.ylabel(ycol)\n",
    "            corr, pval = pearsonr(x,y)\n",
    "            logger.info(f\"{ycol} Correlation with {xcol}: \\nR = {corr}\\t pval = {pval}\")\n",
    "\n",
    "\n",
    "        plt.show()"
   ]
  },
  {
   "cell_type": "markdown",
   "metadata": {},
   "source": [
    "### Help-seeking"
   ]
  },
  {
   "cell_type": "code",
   "execution_count": 105,
   "metadata": {},
   "outputs": [
    {
     "name": "stderr",
     "output_type": "stream",
     "text": [
      "INFO:analytics.session:************** Self-Efficacy students ******************\n",
      "INFO:analytics.session:Pct HintRequest Correlation with dec_self_eff: \n",
      "R = -0.858861108206497\t pval = 1.2501366910349447e-06\n",
      "INFO:analytics.session:Pct Attempt Correlation with dec_self_eff: \n",
      "R = 0.28240730104009404\t pval = 0.22766710088510259\n",
      "INFO:analytics.session:Pct FailedAttempt Correlation with dec_self_eff: \n",
      "R = 0.8102006258554373\t pval = 1.4897432179202529e-05\n",
      "INFO:analytics.session:Pct Guess Correlation with dec_self_eff: \n",
      "R = -0.24192893449734384\t pval = 0.30411828013404574\n",
      "INFO:analytics.session:Total Tx Correlation with dec_self_eff: \n",
      "R = -0.22984877883912364\t pval = 0.329627655874654\n"
     ]
    },
    {
     "data": {
      "image/png": "[encoded data removed]",
      "text/plain": [
       "<Figure size 1440x288 with 5 Axes>"
      ]
     },
     "metadata": {
      "needs_background": "light"
     },
     "output_type": "display_data"
    }
   ],
   "source": [
    "\n",
    "cols = ['Pct HintRequest', 'Pct Attempt', 'Pct FailedAttempt', 'Pct Guess', 'Total Tx']\n",
    "for i,desc in enumerate(batch_descs):\n",
    "    sstats = stu_stats[desc]\n",
    "    logger.info(f\"************** {desc} ******************\")\n",
    "    plt.figure(figsize=(20,4))    \n",
    "    for j, ycol in enumerate(cols):\n",
    "        plt.subplot(1,len(cols), j+1)\n",
    "        xcol = 'dec_self_eff'\n",
    "        x = sstats[xcol]\n",
    "        y = sstats[ycol]\n",
    "        plt.scatter(x,y)\n",
    "        plt.xlabel(xcol)\n",
    "        plt.ylabel(ycol)\n",
    "        corr, pval = pearsonr(x,y)\n",
    "        logger.info(f\"{ycol} Correlation with {xcol}: \\nR = {corr}\\t pval = {pval}\")\n",
    "\n",
    "\n",
    "    plt.show()"
   ]
  },
  {
   "cell_type": "markdown",
   "metadata": {},
   "source": [
    "### Knowledge & Learning"
   ]
  },
  {
   "cell_type": "code",
   "execution_count": 106,
   "metadata": {},
   "outputs": [
    {
     "name": "stderr",
     "output_type": "stream",
     "text": [
      "INFO:analytics.session:************** Self-Efficacy students ******************\n",
      "INFO:analytics.session:pre-sim total skill Correlation with dec_self_eff: \n",
      "R = -0.0028791888777955008\t pval = 0.9903881254661917\n",
      "INFO:analytics.session:final-sim total skill Correlation with dec_self_eff: \n",
      "R = 0.01800297109976972\t pval = 0.9399495230770587\n",
      "INFO:analytics.session:final-sim total mastery Correlation with dec_self_eff: \n",
      "R = 0.09073931164162566\t pval = 0.7036070679623513\n",
      "INFO:analytics.session:total learning Correlation with dec_self_eff: \n",
      "R = 0.09527956017196373\t pval = 0.6894675266847954\n",
      "INFO:analytics.session:total mastered Correlation with dec_self_eff: \n",
      "R = 0.07061592541984008\t pval = 0.7673531273664232\n"
     ]
    },
    {
     "data": {
      "image/png": "[encoded data removed]",
      "text/plain": [
       "<Figure size 1440x288 with 5 Axes>"
      ]
     },
     "metadata": {
      "needs_background": "light"
     },
     "output_type": "display_data"
    }
   ],
   "source": [
    "\n",
    "cols = ['pre-sim total skill', 'final-sim total skill', 'final-sim total mastery', 'total learning', 'total mastered']\n",
    "for i,desc in enumerate(batch_descs):\n",
    "    sstats = stu_stats[desc]\n",
    "    logger.info(f\"************** {desc} ******************\")\n",
    "    plt.figure(figsize=(20,4))    \n",
    "    for j, ycol in enumerate(cols):\n",
    "        plt.subplot(1,len(cols), j+1)\n",
    "        xcol = 'dec_self_eff'\n",
    "        x = sstats[xcol]\n",
    "        y = sstats[ycol]\n",
    "        plt.scatter(x,y)\n",
    "        plt.xlabel(xcol)\n",
    "        plt.ylabel(ycol)\n",
    "        corr, pval = pearsonr(x,y)\n",
    "        logger.info(f\"{ycol} Correlation with {xcol}: \\nR = {corr}\\t pval = {pval}\")\n",
    "\n",
    "\n",
    "    plt.show()"
   ]
  },
  {
   "cell_type": "markdown",
   "metadata": {},
   "source": [
    "# Reliability Analysis"
   ]
  },
  {
   "cell_type": "markdown",
   "metadata": {},
   "source": [
    "## Setup"
   ]
  },
  {
   "cell_type": "code",
   "execution_count": 53,
   "metadata": {},
   "outputs": [],
   "source": [
    "def get_split_stu_parameters(sids, mastery_thres):\n",
    "    sim_students = calc.get_stu_attributes(sids)\n",
    "    sim_students = pd.concat([sim_students, calc.get_mastery(sids, mastery_thres)], axis=1)\n",
    "    return sim_students\n",
    "\n",
    "\n",
    "def get_action_counts(tx):\n",
    "    action_dist = tx.groupby('student_id')['action_type'].value_counts().reset_index(name=\"count\")\n",
    "    action_dist = action_dist.pivot_table(index='student_id', columns='action_type', values='count', fill_value=0)\n",
    "    action_dist['total actions'] = action_dist.sum(axis=1)\n",
    "    for col in action_dist.columns:\n",
    "        if col != 'total actions':\n",
    "            action_dist['Pct %s' % col] = action_dist.apply(lambda x: x[col]/x['total actions'], axis=1)\n",
    "            action_dist.head()\n",
    "\n",
    "    return action_dist\n",
    "\n",
    "def total_tx_stats(tx):\n",
    "\n",
    "    # Total Transaction counts\n",
    "    stu_stats = tx.groupby('stu_id').agg({'_id': 'count',\n",
    "                                          'duration': np.sum,\n",
    "                                         })\n",
    "    stu_stats.rename(columns={'_id': \"Total Tx\",\n",
    "                              'duration': 'Total Time'},\n",
    "                              inplace = True)\n",
    "    stu_stats['Total Time(hours)'] = stu_stats['Total Time'].apply(lambda x: x / 3600)\n",
    "    logger.debug(\"Number of students: %i\" % stu_stats.shape[0])\n",
    "    logger.debug(stu_stats[\"Total Tx\"].describe())\n",
    "\n",
    "    # Total of each outcome\n",
    "    d = tx.groupby(['stu_id','outcome'])['_id'].count().reset_index().pivot_table(\n",
    "            index='stu_id', columns='outcome', values='_id', fill_value=0)\n",
    "\n",
    "    # Prorporation of each outcome\n",
    "    stu_stats = pd.concat([stu_stats, d], axis=1)\n",
    "    stu_stats['Pct Correct'] = stu_stats['Correct'] / stu_stats['Total Tx']\n",
    "    stu_stats['Pct Hint'] = stu_stats['Hint'] / stu_stats['Total Tx']\n",
    "    stu_stats['Pct Incorrect'] = stu_stats['Incorrect'] / stu_stats['Total Tx']\n",
    "\n",
    "    return stu_stats\n",
    "\n",
    "def calc_stu_session_stats(tx):\n",
    "    session_stats = calc_session_stats(tx)\n",
    "    stu_session_stats = session_stats.groupby('stu_id')[['start speed', 'early finish', 'session length', 'pct class']].agg('mean', 'std')\n",
    "    stu_session_stats['total opportunity'] = session_stats.groupby('stu_id')['session length'].sum()\n",
    "    return stu_session_stats\n",
    "\n",
    "\n",
    "def get_student_sessions(tx):\n",
    "    ses_ids = tx['session_id'].unique().tolist()\n",
    "    sids = tx['stu_id'].unique().tolist()\n",
    "    # Get login-logout transactions for students\n",
    "    d = pd.DataFrame(db.tutor_events.find({\"stu_id\": {'$in': sids}, \n",
    "                                         \"type\": {\"$in\": [\"SessionStart\", \"SessionEnd\"]}, \n",
    "                                         'session_id': {\"$in\": ses_ids}}))\n",
    "    # Append session metadata\n",
    "    sessions = pd.DataFrame(db.sessions.find({\"_id\": {'$in': ses_ids}}))\n",
    "    sessions.drop(columns=['type'], inplace=True)\n",
    "    sessions.rename(columns={\"_id\": \"session_id\"}, inplace=True)\n",
    "    d = pd.merge(d, sessions, on=\"session_id\", how='inner')\n",
    "    return d\n",
    "\n",
    "\n",
    "def calc_session_stats(tx):\n",
    "    d = get_student_sessions(tx)\n",
    "\n",
    "    # Calc student-session stats\n",
    "    session_stats = d.pivot(index=['stu_id', 'session_id'], columns='type', values='time').reset_index()\n",
    "    session_stats = pd.merge(d.loc[:, ['stu_id', 'session_id', 'start', 'end']].drop_duplicates(), session_stats, on=['stu_id', 'session_id'])\n",
    "\n",
    "    # Start/end speed\n",
    "    session_stats['start speed'] = session_stats.apply(lambda x: (x['SessionStart'] - x['start']).total_seconds()/60, axis=1)\n",
    "    session_stats['early finish'] = session_stats.apply(lambda x: (x['end'] - x['SessionEnd']).total_seconds()/60, axis=1)\n",
    "\n",
    "    # session length\n",
    "    session_stats['session length'] = session_stats.apply(lambda x: (x['SessionEnd'] - x['SessionStart']).total_seconds()/60, axis=1)\n",
    "    session_stats['class length'] = session_stats.apply(lambda x: (x['end'] - x['start']).total_seconds()/60, axis=1)\n",
    "    session_stats['pct class'] = session_stats['session length'] / session_stats['class length']\n",
    "\n",
    "    return session_stats\n",
    "\n",
    "\n"
   ]
  },
  {
   "cell_type": "code",
   "execution_count": 54,
   "metadata": {},
   "outputs": [],
   "source": [
    "def calc_expected_work_rate(steps):\n",
    "    # Calculate expected work time\n",
    "    d = pd.DataFrame(db.kcs.find({\"_id\": {\"$in\": steps['kc'].tolist()}})).rename(columns={'_id': \"kc\"})\n",
    "    d = pd.merge(steps, d, on=\"kc\", how=\"outer\")\n",
    "    d['expected_duration'] = d['Attempts'] * d['m_time']\n",
    "    exp_work_rate = d.groupby('stu_id')['duration'].sum() / d.groupby('stu_id')['expected_duration'].sum()\n",
    "    return exp_work_rate\n"
   ]
  },
  {
   "cell_type": "code",
   "execution_count": 55,
   "metadata": {},
   "outputs": [],
   "source": [
    "def rand_split(x):\n",
    "    k = int(len(x)/2)\n",
    "    s1 = random.sample(x.tolist(), k)\n",
    "    return x.apply(lambda d: 0 if d in s1 else 1)\n",
    "    "
   ]
  },
  {
   "cell_type": "code",
   "execution_count": 56,
   "metadata": {},
   "outputs": [],
   "source": [
    "def calc_split_half_stats(ids):\n",
    "    \n",
    "    # Get all tx\n",
    "    tx = get_tx(ids)\n",
    "    tx = pd.concat([tx, tx_lblr.label_nondil_tx(tx)], axis=1)\n",
    "    # Merge decisions with tx\n",
    "    decisions, actions = tx_lblr.get_tx_decisions(tx)\n",
    "    tx = tx_lblr.merge_decisions(tx, actions, decisions)\n",
    "\n",
    "    # Split tx by random half sessions\n",
    "    idx = tx.loc[:, ['stu_id', 'session_id']].drop_duplicates()\n",
    "    idx['split_half'] = idx.groupby('stu_id')['session_id'].apply(rand_split)\n",
    "    # Index tx by split half\n",
    "    tx = pd.merge(tx, idx, on=['stu_id', 'session_id'], how='inner')\n",
    "    \n",
    "    # Get step rollup\n",
    "    steps = tx.groupby('split_half').apply(step_calc.rollup_tx).reset_index()\n",
    "    steps = pd.concat([steps, step_calc.label_knowledge(steps)], axis=1)\n",
    "\n",
    "    # Calculate student non-diligent stats\n",
    "    detect_offtask = tx.groupby('split_half').apply(calc.calc_detected_offtask).unstack().rename('detect_offtask')\n",
    "    detect_guess = tx.groupby('split_half').apply(calc.calc_detected_guess).unstack().rename('detect_guess')\n",
    "    time_on_task = tx.groupby('split_half').apply(calc.calc_time_on_task)\n",
    "    time_on_task.index = time_on_task.index.swaplevel()\n",
    "\n",
    "    # Count opportunities at each knowledge level\n",
    "    kc_prac = steps.groupby('split_half').apply(step_calc.count_practice_challenge)\n",
    "    kc_prac.index = kc_prac.index.swaplevel()\n",
    "    over_prac = kc_prac.apply(lambda x: x['high_knowledge'] / np.sum(x), axis=1).rename(\"over_practice\")\n",
    "    kc_prac.columns = [f\"{col}_practice\" for col in kc_prac.columns.tolist()]\n",
    "\n",
    "    # Calculate accuracy\n",
    "    step_accuracy = steps.groupby('split_half').apply(calc_step_accuracy).unstack().rename('accuracy')\n",
    "\n",
    "    # Calculate work rate:\n",
    "    work_rate = steps.groupby('split_half').apply(calc.calc_avg_work_rate).unstack().rename('work rate')\n",
    "    exp_work_rate = steps.groupby('split_half').apply(calc_expected_work_rate).unstack().rename('exp_work_rate')\n",
    "\n",
    "    # Calculate hint usage by knowledge level\n",
    "    stu_level_hints = steps.groupby(['stu_id', 'split_half', 'knowledge_level'])['Hint'].mean().unstack(level=2)\n",
    "    stu_level_hints.columns = [f\"{col}_mean_num_hints\" for col in stu_level_hints.columns.tolist()]\n",
    "    \n",
    "    # Action stats\n",
    "    action_dist = tx.groupby('split_half').apply(get_action_counts)\n",
    "    action_dist.index = action_dist.index.swaplevel()\n",
    "    \n",
    "    # Total Tx Stats\n",
    "    tx_stats = tx.groupby('split_half').apply(total_tx_stats)\n",
    "    tx_stats.index = tx_stats.index.swaplevel()\n",
    "    \n",
    "    # Session stats\n",
    "    ses_stats = tx.groupby('split_half').apply(calc_stu_session_stats)\n",
    "    ses_stats.index = ses_stats.index.swaplevel()\n",
    "    \n",
    "    \n",
    "    \n",
    "    stats = pd.concat([detect_offtask, detect_guess, time_on_task, kc_prac,\n",
    "                       step_accuracy, over_prac, work_rate, exp_work_rate, \n",
    "                       stu_level_hints, action_dist, tx_stats, ses_stats], axis=1)\n",
    "\n",
    "    return stats#, action_dist, tx_stats, ses_stats\n",
    "    "
   ]
  },
  {
   "cell_type": "code",
   "execution_count": 57,
   "metadata": {},
   "outputs": [],
   "source": [
    "def cronbach_alpha(df):    # 1. Transform the df into a correlation matrix\n",
    "    df_corr = df.corr()\n",
    "    \n",
    "    # 2.1 Calculate N\n",
    "    # The number of variables equals the number of columns in the df\n",
    "    N = df.shape[1]\n",
    "    \n",
    "    # 2.2 Calculate R\n",
    "    # For this, we'll loop through the columns and append every\n",
    "    # relevant correlation to an array calles \"r_s\". Then, we'll\n",
    "    # calculate the mean of \"r_s\"\n",
    "    rs = np.array([])\n",
    "    for i, col in enumerate(df_corr.columns):\n",
    "        sum_ = df_corr[col][i+1:].values\n",
    "        rs = np.append(sum_, rs)\n",
    "    mean_r = np.mean(rs)\n",
    "    \n",
    "   # 3. Use the formula to calculate Cronbach's Alpha \n",
    "    cronbach_alpha = (N * mean_r) / (1 + (N - 1) * mean_r)\n",
    "    return cronbach_alpha\n",
    "\n",
    "def CronbachAlpha(itemscores):\n",
    "    itemscores = np.asarray(itemscores)\n",
    "    itemvars = itemscores.var(axis=0, ddof=1)\n",
    "    tscores = itemscores.sum(axis=1)\n",
    "    nitems = itemscores.shape[1]\n",
    "\n",
    "    return (nitems / (nitems-1)) * (1 - (itemvars.sum() / tscores.var(ddof=1)))"
   ]
  },
  {
   "cell_type": "markdown",
   "metadata": {},
   "source": [
    "## Calculate Split-half Reliability"
   ]
  },
  {
   "cell_type": "code",
   "execution_count": 58,
   "metadata": {},
   "outputs": [],
   "source": [
    "ses_calc = SessionCalculator(db)"
   ]
  },
  {
   "cell_type": "code",
   "execution_count": 59,
   "metadata": {},
   "outputs": [
    {
     "name": "stderr",
     "output_type": "stream",
     "text": [
      "INFO:analytics.session:Calculating split-half reliability of 20 students for batch, Self-Efficacy students\n",
      "INFO:analytics.session:Completed calculated and merging reliability stats: {split_stu_stats.shape}\n",
      "INFO:analytics.session:Completed calculated and merging reliability stats: {split_stu_stats.shape}\n",
      "INFO:analytics.session:Completed calculated and merging reliability stats: {split_stu_stats.shape}\n",
      "INFO:analytics.session:Completed calculated and merging reliability stats: {split_stu_stats.shape}\n",
      "INFO:analytics.session:Completed calculated and merging reliability stats: {split_stu_stats.shape}\n",
      "INFO:analytics.session:Completed calculated and merging reliability stats: {split_stu_stats.shape}\n",
      "INFO:analytics.session:Completed calculated and merging reliability stats: {split_stu_stats.shape}\n",
      "INFO:analytics.session:Completed calculated and merging reliability stats: {split_stu_stats.shape}\n",
      "INFO:analytics.session:Completed calculated and merging reliability stats: {split_stu_stats.shape}\n",
      "INFO:analytics.session:Completed calculated and merging reliability stats: {split_stu_stats.shape}\n",
      "INFO:analytics.session:Calculated student split half stats: (40, 63)\tRuntime: 40.622377 seconds\n"
     ]
    }
   ],
   "source": [
    "split_stu_stats = {desc: {} for desc in batch_descs}\n",
    "batch_size=2\n",
    "for desc in batch_descs:\n",
    "    ids = sids[desc][0]\n",
    "    logger.info(f\"Calculating split-half reliability of {len(sid)} students for batch, {desc}\")\n",
    "    \n",
    "    \n",
    "    def calc_split_stats(sids):\n",
    "        d = calc_split_half_stats(sids)\n",
    "        d.index.rename(\"stu_id\", level=0, inplace=True)\n",
    "        d.index.rename(\"split_half\", level=1, inplace=True)\n",
    "\n",
    "        args = [get_stu_parameters, sids, batch_size, [mastery_thres]]\n",
    "        sim_students, runtime = batch_calc.time_calc(batch_calc.batch_calc, args)\n",
    "#         logger.info(f\"Calculated student params: {sim_students.shape}\\tRuntime: {runtime} seconds\")\n",
    "        sim_students.index.rename(\"stu_id\", inplace=True)\n",
    "\n",
    "        result = pd.merge(sim_students, d, left_index=True, right_index=True)\n",
    "\n",
    "        logger.info(\"Completed calculated and merging reliability stats: {split_stu_stats.shape}\")\n",
    "        return result\n",
    "    \n",
    "    args = [calc_split_stats, ids, batch_size]\n",
    "    split_stu_stats[desc], runtime = batch_calc.time_calc(batch_calc.batch_calc, args)\n",
    "    logger.info(f\"Calculated student split half stats: {split_stu_stats[desc].shape}\\tRuntime: {runtime} seconds\")\n",
    "    \n",
    "    \n"
   ]
  },
  {
   "cell_type": "markdown",
   "metadata": {},
   "source": [
    "## Compare Reliability of estimators"
   ]
  },
  {
   "cell_type": "markdown",
   "metadata": {},
   "source": [
    "### Align direction of measures and scale"
   ]
  },
  {
   "cell_type": "code",
   "execution_count": 60,
   "metadata": {},
   "outputs": [
    {
     "name": "stderr",
     "output_type": "stream",
     "text": [
      "INFO:analytics.session:Aligning columns for student sim: Self-Efficacy students\n",
      "INFO:analytics.session:Added new columns: dict_values(['align pct class', 'align Pct OffTask', 'align start speed', 'align early finish'])\n"
     ]
    }
   ],
   "source": [
    "measures = ['pct class', 'Pct OffTask', 'start speed', 'early finish']\n",
    "scaled_measures = {m: f\"align {m}\" for m in measures}\n",
    "# Align these columns so greater value == greater diligence\n",
    "align_measures = {\"pct class\": 1, \"Pct OffTask\": -1, 'start speed': -1, 'early finish': -1}\n",
    "for i, desc in enumerate(batch_descs):\n",
    "    logger.info(f\"Aligning columns for student sim: {desc}\")\n",
    "    ss = split_stu_stats[desc]\n",
    "    for m in measures:\n",
    "        d = ss[m]\n",
    "        split_stu_stats[desc][scaled_measures[m]] = align_measures[m] * (d - d.mean())/d.std() \n",
    "\n",
    "logger.info(f\"Added new columns: {scaled_measures.values()}\")"
   ]
  },
  {
   "cell_type": "code",
   "execution_count": 61,
   "metadata": {},
   "outputs": [
    {
     "name": "stderr",
     "output_type": "stream",
     "text": [
      "INFO:analytics.session:Calculating alpha for factors: pct class\n",
      "INFO:analytics.session:Alpha: 0.6047065623720131\n",
      "INFO:analytics.session:Reliability: 0.4342033706751982\n",
      "INFO:analytics.session:Calculating alpha for factors: Pct OffTask\n",
      "INFO:analytics.session:Alpha: 0.507582402388564\n",
      "INFO:analytics.session:Reliability: 0.3531166228361925\n",
      "INFO:analytics.session:Calculating alpha for factors: start speed\n",
      "INFO:analytics.session:Alpha: 0.5754791263018688\n",
      "INFO:analytics.session:Reliability: 0.4117549310265362\n",
      "INFO:analytics.session:Calculating alpha for factors: early finish\n",
      "INFO:analytics.session:Alpha: 0.4150610206664962\n",
      "INFO:analytics.session:Reliability: 0.2852912060370882\n"
     ]
    }
   ],
   "source": [
    "measures = ['pct class', 'Pct OffTask', 'start speed', 'early finish']\n",
    "scaled_measures = {m: f\"align {m}\" for m in measures}\n",
    "# Align these columns so greater value == greater diligence\n",
    "align_measures = {\"pct class\": 1, \"Pct OffTask\": -1, 'start speed': -1, 'early finish': -1}\n",
    "for desc in batch_descs:\n",
    "    ss = split_stu_stats[desc].unstack(level=1)\n",
    "    # Calculate reliability of each measu\n",
    "    for m in measures:\n",
    "        logger.info(f\"Calculating alpha for factors: {m}\")\n",
    "        alpha = CronbachAlpha(ss[m])    \n",
    "        logger.info(f\"Alpha: {alpha}\")\n",
    "        corr, pval = pearsonr(ss[m][0],ss[m][1])\n",
    "        logger.info(f\"Reliability: {abs(corr)}\")"
   ]
  },
  {
   "cell_type": "code",
   "execution_count": 62,
   "metadata": {},
   "outputs": [
    {
     "name": "stderr",
     "output_type": "stream",
     "text": [
      "INFO:analytics.session:Calculating Cronbachs for factor with measures: ['align pct class', 'align Pct OffTask', 'align start speed', 'align early finish']\n",
      "INFO:analytics.session:***************************************************\n",
      "INFO:analytics.session:Comparing student sim: Self-Efficacy students\n",
      "INFO:analytics.session:Calculating factor for split_half: 0\n",
      "INFO:analytics.session:(20, 3)\n",
      "INFO:analytics.session:Calculating factor for split_half: 1\n",
      "INFO:analytics.session:(20, 3)\n",
      "INFO:analytics.session:Reliability: 0.5049755485010815\n",
      "INFO:analytics.session:Alpha: 0.6681433996375366\n"
     ]
    }
   ],
   "source": [
    "dil_factors = ['pct class', 'Pct OffTask', 'start speed', 'early finish']\n",
    "dil_factors = [f\"align {f}\" for f in dil_factors]\n",
    "\n",
    "n = len(batch_descs)\n",
    "# plt.figure(figsize=(5*n,4))\n",
    "logger.info(f\"Calculating Cronbachs for factor with measures: {dil_factors}\")\n",
    "for i, desc in enumerate(batch_descs):\n",
    "    logger.info(\"***************************************************\")\n",
    "    logger.info(f\"Comparing student sim: {desc}\")\n",
    "    ss = split_stu_stats[desc]\n",
    "#    cog_cols = ['accuracy', 'err_on_1_opp', 'avg_prac_opp', 'final-sim total mastery']\n",
    "\n",
    "    xcols = dil_factors\n",
    "    ycol = \"diligence\"\n",
    "    vals = []\n",
    "    #Factor analysis\n",
    "    for i in range(2):\n",
    "        logger.info(f\"Calculating factor for split_half: {i}\")\n",
    "        df = ss.loc[(slice(None),i),xcols]\n",
    "        kmo_all, kmo_model = calculate_kmo(df)\n",
    "#         logger.info(f\"Overall Model Kaiser-Meyer-Olkin (KMO) Test: {kmo_model}\")\n",
    "        fa = FactorAnalyzer(rotation=None,  n_factors=1)\n",
    "        fa.fit(df)\n",
    "        # Check Eigenvalues\n",
    "        ev, v = fa.get_eigenvalues()\n",
    "#         logger.info(f\"EigenValues: {ev}\")\n",
    "#         logger.info(f\"Factor Loadings: {fa.loadings_}\")\n",
    "#         logger.info(f\"Factor Variance: {fa.get_factor_variance()}\")\n",
    "\n",
    "        loadings = pd.Series([x[0] for x in fa.loadings_], index=df.columns)\n",
    "#         logger.info(f\"Factor loadings: {loadings}\")\n",
    "        X = df.mul(loadings).apply('sum', axis=1).reset_index(name=i)\n",
    "        vals.append(X.drop(columns=[col for col in X.columns if col == 'split_half']))\n",
    "        logger.info(X.shape)\n",
    "        Y = ss.loc[(slice(None), i),ycol]\n",
    "#         corr, pval = pearsonr(X,Y)\n",
    "#         logger.info(\"******************* Pearson ********************\")\n",
    "#         logger.info(f\"R = {corr}\\t pval = {pval}\")\n",
    "    X = pd.merge(vals[0], vals[1], on=['stu_id'], how='outer')\n",
    "    X.index = X['stu_id']\n",
    "    X.drop(columns=[col for col in X.columns if type(col) != int], inplace=True)\n",
    "    corr, pval = pearsonr(X[0],X[1])\n",
    "    logger.info(f\"Reliability: {abs(corr)}\")\n",
    "    alpha = CronbachAlpha(X)    \n",
    "    logger.info(f\"Alpha: {alpha}\")\n",
    "    \n",
    "#     plt.subplot(1,n,i+1)\n",
    "#     plt.scatter(X, Y)\n",
    "#     plt.title(desc)\n",
    "#     plt.xlabel(\"estimated diligence\")\n",
    "#     plt.ylabel(ycol)\n",
    "# plt.show()"
   ]
  },
  {
   "cell_type": "code",
   "execution_count": null,
   "metadata": {},
   "outputs": [],
   "source": []
  }
 ],
 "metadata": {
  "kernelspec": {
   "display_name": "Python 3",
   "language": "python",
   "name": "python3"
  },
  "language_info": {
   "codemirror_mode": {
    "name": "ipython",
    "version": 3
   },
   "file_extension": ".py",
   "mimetype": "text/x-python",
   "name": "python",
   "nbconvert_exporter": "python",
   "pygments_lexer": "ipython3",
   "version": "3.8.5"
  },
  "toc-autonumbering": true
 },
 "nbformat": 4,
 "nbformat_minor": 4
}
