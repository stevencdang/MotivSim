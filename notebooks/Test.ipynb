{
 "cells": [
  {
   "cell_type": "code",
   "execution_count": 1,
   "metadata": {},
   "outputs": [],
   "source": [
    "# This notebook is for testing segments of code that requires more complex testing"
   ]
  },
  {
   "cell_type": "markdown",
   "metadata": {},
   "source": [
    "# Imports"
   ]
  },
  {
   "cell_type": "code",
   "execution_count": 2,
   "metadata": {},
   "outputs": [],
   "source": [
    "import sys\n",
    "sys.path.append(\"../lib\")"
   ]
  },
  {
   "cell_type": "code",
   "execution_count": 3,
   "metadata": {},
   "outputs": [],
   "source": [
    "import math\n",
    "import random\n",
    "import uuid\n",
    "import os\n",
    "import copy\n",
    "import itertools\n",
    "from collections.abc import Iterable\n",
    "from datetime import datetime as dt\n",
    "\n",
    "import numpy as np\n",
    "import pandas as pd\n",
    "import matplotlib.pyplot as plt\n",
    "\n",
    "from scipy.optimize import Bounds\n",
    "from scipy.optimize import minimize\n",
    "from scipy import optimize\n",
    "from scipy.stats import pearsonr\n",
    "\n",
    "from sklearn.cluster import DBSCAN\n",
    "from sklearn.metrics import mean_squared_error\n",
    "\n",
    "import statsmodels.api as sm\n",
    "\n"
   ]
  },
  {
   "cell_type": "code",
   "execution_count": 4,
   "metadata": {},
   "outputs": [],
   "source": [
    "import logging\n",
    "\n",
    "#logging.basicConfig(level=logging.DEBUG)\n",
    "logging.basicConfig(level=logging.INFO)\n",
    "#logging.basicConfig(level=logging.WARNING)\n",
    "\n",
    "logger = logging.getLogger(\"main\")"
   ]
  },
  {
   "cell_type": "code",
   "execution_count": 5,
   "metadata": {},
   "outputs": [
    {
     "name": "stderr",
     "output_type": "stream",
     "text": [
      "INFO:main:Test info\n",
      "WARNING:main:Test warning\n"
     ]
    }
   ],
   "source": [
    "#logging.getLogger().setLevel(logging.DEBUG)\n",
    "logging.getLogger().setLevel(logging.INFO)\n",
    "#logging.getLogger().setLevel(logging.WARNING)\n",
    "logger.debug(\"Test debug\")\n",
    "logger.info(\"Test info\")\n",
    "logger.warning(\"Test warning\")"
   ]
  },
  {
   "cell_type": "code",
   "execution_count": 6,
   "metadata": {},
   "outputs": [],
   "source": [
    "from tutor.domain import Domain\n",
    "from tutor.curriculum_factory import CurriculumFactory\n",
    "from tutor.simple_curriculum import SimpleCurriculum\n",
    "from tutor.tutor import SimpleTutor\n",
    "from tutor.action import Attempt, HintRequest\n",
    "\n",
    "from learner.selfeff_learner import SelfEfficacyLearner\n",
    "from learner.modular_learner import ModularLearner\n",
    "from learner.cognition import *\n",
    "from learner.decider import *\n",
    "\n",
    "from simulate.modlearner_simulation import ModLearnerSimulation\n",
    "from simulate.simulation import SimulationBatch\n",
    "\n",
    "from analytics.batch import *\n",
    "from analytics.student_stats import StudentStatCalc\n",
    "from analytics.featurization import *\n",
    "from analytics.cae import *\n",
    "\n",
    "from log_db import mongo\n",
    "from log_db.curriculum_mapper import DB_Curriculum_Mapper\n",
    "from log_db.learner_mapper import DBLearnerMapper\n"
   ]
  },
  {
   "cell_type": "code",
   "execution_count": 7,
   "metadata": {},
   "outputs": [],
   "source": [
    "from CanonicalAutocorrelationAnalysis.model.caa import CAAComputation\n",
    "from CanonicalAutocorrelationAnalysis.model.caaObject import *\n",
    "from CanonicalAutocorrelationAnalysis.model.utils import l1Norm, l2Norm, r2Compute"
   ]
  },
  {
   "cell_type": "code",
   "execution_count": 8,
   "metadata": {},
   "outputs": [
    {
     "name": "stderr",
     "output_type": "stream",
     "text": [
      "INFO:analytics.cae:Base directory for the project:\n",
      "/rdata/Sandbox/MotivSim\n"
     ]
    }
   ],
   "source": [
    "# Get path to current project directory\n",
    "cwd = os.path.abspath(\".\")\n",
    "base_dir = os.path.abspath(os.path.join(cwd, os.pardir))\n",
    "logger.info(\"Base directory for the project:\\n%s\" % base_dir)"
   ]
  },
  {
   "cell_type": "code",
   "execution_count": 9,
   "metadata": {},
   "outputs": [
    {
     "name": "stderr",
     "output_type": "stream",
     "text": [
      "INFO:analytics.cae:Writing simulation results to directory: /rdata/Sandbox/MotivSim/test/data/sim-444394ac-9c66-4d8e-951e-c735624b7efe\n",
      "INFO:analytics.cae:got db params: {'settingId': 'motivsim', 'url': 'localhost', 'port': '27017', 'name': 'motivsim', 'user': '', 'pswd': ''}\n"
     ]
    }
   ],
   "source": [
    "# Setup connection to database\n",
    "data_out = \"sim-%s\" % str(uuid.uuid4())\n",
    "data_path = os.path.join(base_dir,\"test\", \"data\", data_out)\n",
    "logger.info(\"Writing simulation results to directory: %s\" % data_path)\n",
    "db_name = \"motivsim\"\n",
    "db_params  = mongo.get_db_params(db_name)\n",
    "logger.info(\"got db params: %s\" % str(db_params))\n",
    "db_util = mongo.Data_Utility(data_path, db_params)\n",
    "db = db_util.db"
   ]
  },
  {
   "cell_type": "code",
   "execution_count": 10,
   "metadata": {},
   "outputs": [
    {
     "name": "stderr",
     "output_type": "stream",
     "text": [
      "INFO:log_db.mongo:collection name, kcs, has 69 documents\n",
      "INFO:log_db.mongo:collection name, caa_batches, has 0 documents\n",
      "INFO:log_db.mongo:collection name, simbatches, has 0 documents\n",
      "INFO:log_db.mongo:collection name, caa_models, has 0 documents\n",
      "INFO:log_db.mongo:collection name, domains, has 1 documents\n",
      "INFO:log_db.mongo:collection name, students, has 200 documents\n",
      "INFO:log_db.mongo:collection name, units, has 2 documents\n",
      "INFO:log_db.mongo:collection name, decisions, has 12651 documents\n",
      "INFO:log_db.mongo:collection name, curriculums, has 1 documents\n",
      "INFO:log_db.mongo:collection name, steps, has 8339 documents\n",
      "INFO:log_db.mongo:collection name, finalsimstudents, has 0 documents\n",
      "INFO:log_db.mongo:collection name, problems, has 2044 documents\n",
      "INFO:log_db.mongo:collection name, actions, has 12651 documents\n",
      "INFO:log_db.mongo:collection name, sections, has 9 documents\n",
      "INFO:log_db.mongo:collection name, tutor_events, has 11584 documents\n"
     ]
    }
   ],
   "source": [
    "# Test db connection\n",
    "db_util.peak()"
   ]
  },
  {
   "cell_type": "markdown",
   "metadata": {},
   "source": [
    "# 1. Test Ability KC Learner"
   ]
  },
  {
   "cell_type": "code",
   "execution_count": 11,
   "metadata": {},
   "outputs": [
    {
     "name": "stderr",
     "output_type": "stream",
     "text": [
      "INFO:analytics.cae:Clearing database before starting new simulation\n",
      "INFO:log_db.mongo:Clearing all documents from collection kcs\n",
      "INFO:log_db.mongo:Clearing all documents from collection caa_batches\n",
      "INFO:log_db.mongo:Clearing all documents from collection simbatches\n",
      "INFO:log_db.mongo:Clearing all documents from collection caa_models\n",
      "INFO:log_db.mongo:Clearing all documents from collection domains\n",
      "INFO:log_db.mongo:Clearing all documents from collection students\n",
      "INFO:log_db.mongo:Clearing all documents from collection units\n",
      "INFO:log_db.mongo:Clearing all documents from collection decisions\n",
      "INFO:log_db.mongo:Clearing all documents from collection curriculums\n",
      "INFO:log_db.mongo:Clearing all documents from collection steps\n",
      "INFO:log_db.mongo:Clearing all documents from collection finalsimstudents\n",
      "INFO:log_db.mongo:Clearing all documents from collection problems\n",
      "INFO:log_db.mongo:Clearing all documents from collection actions\n",
      "INFO:log_db.mongo:Clearing all documents from collection sections\n",
      "INFO:log_db.mongo:Clearing all documents from collection tutor_events\n"
     ]
    }
   ],
   "source": [
    "clear_db = True\n",
    "if clear_db:\n",
    "    logger.info(\"Clearing database before starting new simulation\")\n",
    "    db_util.clear_db()\n",
    "else:\n",
    "    logger.info(\"Skipping Clearing database\")"
   ]
  },
  {
   "cell_type": "markdown",
   "metadata": {},
   "source": [
    "## Simulating learners"
   ]
  },
  {
   "cell_type": "markdown",
   "metadata": {},
   "source": [
    "### Helpers"
   ]
  },
  {
   "cell_type": "code",
   "execution_count": 12,
   "metadata": {},
   "outputs": [],
   "source": [
    "\n",
    "\n",
    "def gen_students(num_students, domain, curric, \n",
    "                 cog_mod, cog_params, dec_mod, dec_params):\n",
    "    stus = []\n",
    "    for i in range(num_students):\n",
    "        cp = cog_params()\n",
    "        cog = cog_mod(domain, **cp)\n",
    "        dp = dec_params()\n",
    "        dec = dec_mod(**dp)\n",
    "        decider = DiligentDecider(dec)\n",
    "        stu = ModularLearner(domain, cog, decider)\n",
    "        stus.append(stu)\n",
    "        \n",
    "    return stus\n",
    "\n",
    "def simulate_students(domain, curric, students, batch):    \n",
    "    for i, stu in enumerate(students):\n",
    "        logger.info(\"Simulating student #%i\" % i)\n",
    "        sim = ModLearnerSimulation(domain, curric, stu)\n",
    "        batch.add_sim(sim)\n",
    "        sim.run()\n",
    "        \n",
    "    logger.info(\"Inserting %i simulated students to db\" % len(students))\n",
    "    result = db.finalsimstudents.insert_many([stu.to_dict() for stu in students])\n",
    "    logger.info(\"Db insert success: %s\" % result.acknowledged)\n",
    "\n",
    "    logger.info(\"Inserting simulation batch to db\")\n",
    "    result = db.simbatches.insert_one(batch.to_dict())\n",
    "    logger.info(\"Db insert success: %s\" % result.acknowledged)\n",
    "\n",
    "    return batch, students\n"
   ]
  },
  {
   "cell_type": "code",
   "execution_count": 13,
   "metadata": {},
   "outputs": [],
   "source": [
    "new_curric = None\n",
    "new_domain = None"
   ]
  },
  {
   "cell_type": "code",
   "execution_count": 14,
   "metadata": {},
   "outputs": [],
   "source": [
    "def gen_test_curric(db, db_params):\n",
    "    global new_curric, new_domain\n",
    "    if new_curric is None:\n",
    "        logger.info(\"Generating new curriculum\")\n",
    "        domain_params = {'m_l0': 0.45,\n",
    "                         'sd_l0': 0.155,\n",
    "                         'm_l0_sd': 0.1,\n",
    "                         'sd_l0_sd': 0.03,\n",
    "                         'm_t': 0.1,\n",
    "                         'sd_t': 0.05,\n",
    "                         'm_s': 0.155,\n",
    "                         'sd_s': 0.055,\n",
    "                         'm_g': 0.15,#0.6,\n",
    "                         'sd_g': 0.105\n",
    "                        }\n",
    "        curric_params = {'num_units': 2,\n",
    "                         'mean_sections': 4,\n",
    "                         'stdev_sections': 2,\n",
    "                         'mean_unit_kcs': 22,\n",
    "                         'stdev_unit_kcs': 23,\n",
    "                         'section_kcs_lambda': 6,\n",
    "                         'mean_steps': 10,\n",
    "                         'stdev_steps': 4,\n",
    "                         'mean_prob_kcs': 6,\n",
    "                         'stdev_prob_kcs': 3,\n",
    "                         'num_practice': 100\n",
    "                        }\n",
    "\n",
    "        domain, curric = CurriculumFactory.gen_curriculum(domain_params, curric_params)\n",
    "        db.domains.insert_one(domain.to_dict())\n",
    "        db.kcs.insert_many([kc.__dict__ for kc in domain.kcs])\n",
    "        curric_util = DB_Curriculum_Mapper(db_params)\n",
    "        curric_util.write_to_db(curric)\n",
    "        \n",
    "        new_curric = curric\n",
    "        new_domain = domain\n",
    "\n",
    "        return domain, curric\n",
    "    else:\n",
    "        logger.info(\"New curriculum already generated\")\n",
    "        return new_domain, new_curric"
   ]
  },
  {
   "cell_type": "markdown",
   "metadata": {},
   "source": [
    "### Simulating Students"
   ]
  },
  {
   "cell_type": "code",
   "execution_count": 15,
   "metadata": {},
   "outputs": [],
   "source": [
    "num_students = 20"
   ]
  },
  {
   "cell_type": "code",
   "execution_count": 16,
   "metadata": {},
   "outputs": [],
   "source": [
    "sim_batch_desc = \"Test Bias Skill Cognition Learners\"\n",
    "cog_mod = BiasSkillCognition\n",
    "dec_mod = DomainTunerDecider\n",
    "def get_cog_params():\n",
    "    # Helper for getting parameters for BiasSkillCognition Module\n",
    "    return {'ability': random.triangular(-1,1)}\n",
    "\n",
    "def get_dec_params():\n",
    "    return {}"
   ]
  },
  {
   "cell_type": "code",
   "execution_count": 17,
   "metadata": {},
   "outputs": [
    {
     "name": "stderr",
     "output_type": "stream",
     "text": [
      "INFO:analytics.cae:Generating new simulation. None found in db\n",
      "INFO:analytics.cae:Generating new curriculum\n",
      "INFO:tutor.cogtutor_curriculum:Generated 2 units with with a total of 62 kcs\n",
      "INFO:log_db.curriculum_mapper:Writing curriculum with id, 34460589-aee9-407f-8cc2-2f0d4c935bbd, to db\n",
      "INFO:log_db.curriculum_mapper:Writing 1826 problem to db\n",
      "INFO:log_db.curriculum_mapper:Writing 7348 steps to db\n",
      "INFO:analytics.cae:Persisting 20 initialized students to db\n",
      "INFO:analytics.cae:Simulating student #0\n",
      "INFO:simulate.simulation:Starting simulation. Logging student into new session\n",
      "INFO:tutor.tutor:Completed last unit. No more units in curriculum\n",
      "INFO:simulate.simulation:Ending simulation. Logging out of active session\n",
      "INFO:analytics.cae:Simulating student #1\n",
      "INFO:simulate.simulation:Starting simulation. Logging student into new session\n",
      "INFO:tutor.tutor:Completed last unit. No more units in curriculum\n",
      "INFO:simulate.simulation:Ending simulation. Logging out of active session\n",
      "INFO:analytics.cae:Simulating student #2\n",
      "INFO:simulate.simulation:Starting simulation. Logging student into new session\n",
      "INFO:tutor.tutor:Completed last unit. No more units in curriculum\n",
      "INFO:simulate.simulation:Ending simulation. Logging out of active session\n",
      "INFO:analytics.cae:Simulating student #3\n",
      "INFO:simulate.simulation:Starting simulation. Logging student into new session\n",
      "INFO:tutor.tutor:Completed last unit. No more units in curriculum\n",
      "INFO:simulate.simulation:Ending simulation. Logging out of active session\n",
      "INFO:analytics.cae:Simulating student #4\n",
      "INFO:simulate.simulation:Starting simulation. Logging student into new session\n",
      "INFO:tutor.tutor:Completed last unit. No more units in curriculum\n",
      "INFO:simulate.simulation:Ending simulation. Logging out of active session\n",
      "INFO:analytics.cae:Simulating student #5\n",
      "INFO:simulate.simulation:Starting simulation. Logging student into new session\n",
      "INFO:tutor.tutor:Completed last unit. No more units in curriculum\n",
      "INFO:simulate.simulation:Ending simulation. Logging out of active session\n",
      "INFO:analytics.cae:Simulating student #6\n",
      "INFO:simulate.simulation:Starting simulation. Logging student into new session\n",
      "INFO:tutor.tutor:Completed last unit. No more units in curriculum\n",
      "INFO:simulate.simulation:Ending simulation. Logging out of active session\n",
      "INFO:analytics.cae:Simulating student #7\n",
      "INFO:simulate.simulation:Starting simulation. Logging student into new session\n",
      "INFO:tutor.tutor:Completed last unit. No more units in curriculum\n",
      "INFO:simulate.simulation:Ending simulation. Logging out of active session\n",
      "INFO:analytics.cae:Simulating student #8\n",
      "INFO:simulate.simulation:Starting simulation. Logging student into new session\n",
      "INFO:tutor.tutor:Completed last unit. No more units in curriculum\n",
      "INFO:simulate.simulation:Ending simulation. Logging out of active session\n",
      "INFO:analytics.cae:Simulating student #9\n",
      "INFO:simulate.simulation:Starting simulation. Logging student into new session\n",
      "INFO:tutor.tutor:Completed last unit. No more units in curriculum\n",
      "INFO:simulate.simulation:Ending simulation. Logging out of active session\n",
      "INFO:analytics.cae:Simulating student #10\n",
      "INFO:simulate.simulation:Starting simulation. Logging student into new session\n",
      "INFO:tutor.tutor:Completed last unit. No more units in curriculum\n",
      "INFO:simulate.simulation:Ending simulation. Logging out of active session\n",
      "INFO:analytics.cae:Simulating student #11\n",
      "INFO:simulate.simulation:Starting simulation. Logging student into new session\n",
      "INFO:tutor.tutor:Completed last unit. No more units in curriculum\n",
      "INFO:simulate.simulation:Ending simulation. Logging out of active session\n",
      "INFO:analytics.cae:Simulating student #12\n",
      "INFO:simulate.simulation:Starting simulation. Logging student into new session\n",
      "INFO:tutor.tutor:Completed last unit. No more units in curriculum\n",
      "INFO:simulate.simulation:Ending simulation. Logging out of active session\n",
      "INFO:analytics.cae:Simulating student #13\n",
      "INFO:simulate.simulation:Starting simulation. Logging student into new session\n",
      "INFO:tutor.tutor:Completed last unit. No more units in curriculum\n",
      "INFO:simulate.simulation:Ending simulation. Logging out of active session\n",
      "INFO:analytics.cae:Simulating student #14\n",
      "INFO:simulate.simulation:Starting simulation. Logging student into new session\n",
      "INFO:tutor.tutor:Completed last unit. No more units in curriculum\n",
      "INFO:simulate.simulation:Ending simulation. Logging out of active session\n",
      "INFO:analytics.cae:Simulating student #15\n",
      "INFO:simulate.simulation:Starting simulation. Logging student into new session\n",
      "INFO:tutor.tutor:Completed last unit. No more units in curriculum\n",
      "INFO:simulate.simulation:Ending simulation. Logging out of active session\n",
      "INFO:analytics.cae:Simulating student #16\n",
      "INFO:simulate.simulation:Starting simulation. Logging student into new session\n",
      "INFO:tutor.tutor:Completed last unit. No more units in curriculum\n",
      "INFO:simulate.simulation:Ending simulation. Logging out of active session\n",
      "INFO:analytics.cae:Simulating student #17\n",
      "INFO:simulate.simulation:Starting simulation. Logging student into new session\n",
      "INFO:tutor.tutor:Completed last unit. No more units in curriculum\n",
      "INFO:simulate.simulation:Ending simulation. Logging out of active session\n",
      "INFO:analytics.cae:Simulating student #18\n",
      "INFO:simulate.simulation:Starting simulation. Logging student into new session\n",
      "INFO:tutor.tutor:Completed last unit. No more units in curriculum\n",
      "INFO:simulate.simulation:Ending simulation. Logging out of active session\n",
      "INFO:analytics.cae:Simulating student #19\n",
      "INFO:simulate.simulation:Starting simulation. Logging student into new session\n",
      "INFO:tutor.tutor:Completed last unit. No more units in curriculum\n",
      "INFO:simulate.simulation:Ending simulation. Logging out of active session\n",
      "INFO:analytics.cae:Inserting 20 simulated students to db\n",
      "INFO:analytics.cae:Db insert success: True\n",
      "INFO:analytics.cae:Inserting simulation batch to db\n",
      "INFO:analytics.cae:Db insert success: True\n",
      "INFO:analytics.cae:Simulated 20 in batch with id: bf89915b-035c-4ad2-8a30-908ae34bcfba\n"
     ]
    }
   ],
   "source": [
    "simbatch = db.simbatches.find_one({\"desc\": sim_batch_desc})\n",
    "if simbatch is None:\n",
    "    logger.info(\"Generating new simulation. None found in db\")\n",
    "\n",
    "    # generate simualted data for test\n",
    "    domain, curric = gen_test_curric(db, db_params)\n",
    "    students = gen_students(num_students, domain, curric, \n",
    "                            cog_mod, get_cog_params, \n",
    "                            dec_mod, get_dec_params) \n",
    "    logger.info(f\"Persisting {len(students)} initialized students to db\")\n",
    "    db.students.insert_many([stu.to_dict() for stu in students])\n",
    "    batch = SimulationBatch(sim_batch_desc)\n",
    "    simulate_students(domain, curric, students, batch)    \n",
    "    logger.info(f\"Simulated {len(students)} in batch with id: {batch._id}\")\n",
    "else:\n",
    "    logger.info(f\"Found simulation batch: {str(simbatch)}\")\n",
    "    lmapper = DBLearnerMapper(db)\n",
    "    students = [lmapper.get_modlearner_from_db(sid) for sid in simbatch['student_ids']]\n",
    "    batch = SimulationBatch.from_dict(simbatch)\n",
    "    logger.info(f\"Recovered {len(students)} students from batch with id: {batch._id}\")\n"
   ]
  },
  {
   "cell_type": "markdown",
   "metadata": {},
   "source": [
    "## EDA of simulated Data"
   ]
  },
  {
   "cell_type": "markdown",
   "metadata": {},
   "source": [
    "### Helper Functions"
   ]
  },
  {
   "cell_type": "code",
   "execution_count": 33,
   "metadata": {},
   "outputs": [],
   "source": [
    "def get_tx_fields(sids):\n",
    "    tx = pd.DataFrame(db.tutor_events.find({\"stu_id\": {'$in': sids}}))\n",
    "    # Add kc field that reduces list of kcs to 1 kc\n",
    "    tx['kc'] = tx.apply(lambda x: x['kcs'][0]['_id'], axis=1)\n",
    "    return tx.loc[:, [\"_id\", 'stu_id', 'kc', 'unit_id', 'section_id', 'prob_id', 'step_id', \"duration\"]]"
   ]
  },
  {
   "cell_type": "code",
   "execution_count": 18,
   "metadata": {},
   "outputs": [],
   "source": [
    "def get_stu_parameters(sids, db, mastery_thres):\n",
    "        presim_students = pd.DataFrame(db.students.find({\"_id\": {'$in':  sids}}))\n",
    "        sim_students = pd.DataFrame(db.finalsimstudents.find({\"_id\": {'$in':  sids}}))\n",
    "        sim_students.rename(columns={'skills': 'final skills',\n",
    "                                     'total_attempts': 'final total attempts',\n",
    "                                     'total_success': 'final total success'}, inplace=True)\n",
    "        logger.debug(\"pre-sim students: %s\" % str(presim_students.shape))\n",
    "        logger.debug(\"post-sim students: %s\" % str(sim_students.shape))\n",
    "\n",
    "        sim_students = presim_students.merge(sim_students[['_id', 'final skills', 'final total attempts', 'final total success']], how='right', on=['_id'])\n",
    "        sim_students['pre-sim total mastery'] = sim_students.apply(lambda x: np.sum([1 if d >= mastery_thres else 0 for d in list(x['skills'].values())]), axis=1)\n",
    "        sim_students['final-sim total mastery'] = sim_students.apply(lambda x: np.sum([1 if d >= mastery_thres else 0 for d in list(x['final skills'].values())]), axis=1)\n",
    "        sim_students['total skills'] = sim_students.apply(lambda x: len(list(x['skills'].values())), axis=1)\n",
    "        sim_students['pre-sim pct mastery'] = sim_students.apply(lambda x: x['pre-sim total mastery'] / x['total skills'], axis=1)\n",
    "        sim_students['final-sim pct mastery'] = sim_students.apply(lambda x: x['final-sim total mastery'] / x['total skills'], axis=1)\n",
    "        sim_students['final-sim total unmastered'] = sim_students.apply(lambda x: x['total skills'] - x['final-sim total mastery'], axis=1)\n",
    "        sim_students['pct success'] = sim_students.apply(lambda x: x['final total success'] / x['final total attempts'], axis=1)\n",
    "\n",
    "        sim_students['values'] = sim_students.apply(lambda x: x['decider']['values'], axis=1)\n",
    "        sim_students['diligence'] = sim_students.apply(lambda x: x['decider']['diligence'], axis=1)\n",
    "        sim_students['cog_ability'] = sim_students.apply(lambda x: x['cog']['ability'], axis=1)\n",
    "        sim_students.index = sim_students['_id']\n",
    "        sim_students.drop(['_id'], axis=1, inplace=True)\n",
    "        return sim_students"
   ]
  },
  {
   "cell_type": "code",
   "execution_count": 19,
   "metadata": {},
   "outputs": [
    {
     "name": "stderr",
     "output_type": "stream",
     "text": [
      "INFO:analytics.cae:batch #0: \n",
      "ID: bf89915b-035c-4ad2-8a30-908ae34bcfba\n",
      "desc: Test Bias Skill Cognition Learners\n",
      "INFO:analytics.cae:recovered 20 student ids for batch Test Bias Skill Cognition Learners\n"
     ]
    }
   ],
   "source": [
    "# Get students batches\n",
    "batches = [batch for batch in db.simbatches.find()]\n",
    "batch_desc = [\"Test Bias Skill Cognition Learners\"]\n",
    "sids_dict = {desc: [] for desc in batch_desc}\n",
    "for i, batch in enumerate(batches):\n",
    "    logger.info(f\"batch #{i}: \\nID: {batch['_id']}\\ndesc: {batch['desc']}\")\n",
    "    if batch['desc'] in batch_desc:\n",
    "        logger.info(f\"recovered {len(batch['student_ids'])} student ids for batch {batch['desc']}\")\n",
    "        sids_dict[batch['desc']].append(batch['student_ids'])"
   ]
  },
  {
   "cell_type": "markdown",
   "metadata": {},
   "source": [
    "#### Student Parameters"
   ]
  },
  {
   "cell_type": "code",
   "execution_count": 20,
   "metadata": {},
   "outputs": [],
   "source": [
    "sids = sids_dict[batch_desc[0]][0]"
   ]
  },
  {
   "cell_type": "code",
   "execution_count": 21,
   "metadata": {},
   "outputs": [],
   "source": [
    "calc = StudentStatCalc(db)\n",
    "batch_calc = BatchCalculator()"
   ]
  },
  {
   "cell_type": "code",
   "execution_count": 22,
   "metadata": {},
   "outputs": [
    {
     "name": "stderr",
     "output_type": "stream",
     "text": [
      "INFO:analytics.cae:Calculated student params: (20, 30)\tRuntime: 0.058311 seconds\n"
     ]
    }
   ],
   "source": [
    "mastery_thres = 0.9\n",
    "args = [get_stu_parameters, sids, 10, [db, mastery_thres]]\n",
    "sim_students, runtime = batch_calc.time_calc(batch_calc.batch_calc, args)\n",
    "logger.info(f\"Calculated student params: {sim_students.shape}\\tRuntime: {runtime} seconds\")"
   ]
  },
  {
   "cell_type": "code",
   "execution_count": 23,
   "metadata": {},
   "outputs": [
    {
     "name": "stderr",
     "output_type": "stream",
     "text": [
      "INFO:analytics.cae:Calculated student action stats: (20, 9)\tRuntime: 2.366701 seconds\n"
     ]
    }
   ],
   "source": [
    "args = [calc.action_stats, sids, 10]\n",
    "action_dist, runtime = batch_calc.time_calc(batch_calc.batch_calc, args)\n",
    "logger.info(f\"Calculated student action stats: {action_dist.shape}\\tRuntime: {runtime} seconds\")"
   ]
  },
  {
   "cell_type": "code",
   "execution_count": 24,
   "metadata": {},
   "outputs": [
    {
     "name": "stderr",
     "output_type": "stream",
     "text": [
      "INFO:analytics.cae:Calculated student activity stats: (20, 9)\tRuntime: 2.059044 seconds\n"
     ]
    }
   ],
   "source": [
    "args = [calc.total_tx_stats, sids, 10]\n",
    "tx_stats, runtime = batch_calc.time_calc(batch_calc.batch_calc, args)\n",
    "logger.info(f\"Calculated student activity stats: {tx_stats.shape}\\tRuntime: {runtime} seconds\")"
   ]
  },
  {
   "cell_type": "code",
   "execution_count": 25,
   "metadata": {},
   "outputs": [
    {
     "name": "stderr",
     "output_type": "stream",
     "text": [
      "INFO:analytics.cae:Merged new stats together: (20, 48)\n"
     ]
    }
   ],
   "source": [
    "    \n",
    "stu_stats = pd.concat([sim_students, action_dist, tx_stats], axis=1)\n",
    "logger.info(f\"Merged new stats together: {stu_stats.shape}\")"
   ]
  },
  {
   "cell_type": "code",
   "execution_count": 26,
   "metadata": {},
   "outputs": [
    {
     "data": {
      "text/html": [
       "<div>\n",
       "<style scoped>\n",
       "    .dataframe tbody tr th:only-of-type {\n",
       "        vertical-align: middle;\n",
       "    }\n",
       "\n",
       "    .dataframe tbody tr th {\n",
       "        vertical-align: top;\n",
       "    }\n",
       "\n",
       "    .dataframe thead th {\n",
       "        text-align: right;\n",
       "    }\n",
       "</style>\n",
       "<table border=\"1\" class=\"dataframe\">\n",
       "  <thead>\n",
       "    <tr style=\"text-align: right;\">\n",
       "      <th></th>\n",
       "      <th>domain_id</th>\n",
       "      <th>type</th>\n",
       "      <th>skills</th>\n",
       "      <th>cog</th>\n",
       "      <th>decider</th>\n",
       "      <th>off_task</th>\n",
       "      <th>attempted</th>\n",
       "      <th>total_attempts</th>\n",
       "      <th>total_success</th>\n",
       "      <th>state_fields</th>\n",
       "      <th>...</th>\n",
       "      <th>pre-sim total mastery</th>\n",
       "      <th>final-sim total mastery</th>\n",
       "      <th>total skills</th>\n",
       "      <th>pre-sim pct mastery</th>\n",
       "      <th>final-sim pct mastery</th>\n",
       "      <th>final-sim total unmastered</th>\n",
       "      <th>pct success</th>\n",
       "      <th>values</th>\n",
       "      <th>diligence</th>\n",
       "      <th>cog_ability</th>\n",
       "    </tr>\n",
       "    <tr>\n",
       "      <th>_id</th>\n",
       "      <th></th>\n",
       "      <th></th>\n",
       "      <th></th>\n",
       "      <th></th>\n",
       "      <th></th>\n",
       "      <th></th>\n",
       "      <th></th>\n",
       "      <th></th>\n",
       "      <th></th>\n",
       "      <th></th>\n",
       "      <th></th>\n",
       "      <th></th>\n",
       "      <th></th>\n",
       "      <th></th>\n",
       "      <th></th>\n",
       "      <th></th>\n",
       "      <th></th>\n",
       "      <th></th>\n",
       "      <th></th>\n",
       "      <th></th>\n",
       "      <th></th>\n",
       "    </tr>\n",
       "  </thead>\n",
       "  <tbody>\n",
       "    <tr>\n",
       "      <th>01f95557-fc43-47af-86d2-6dc19168d42b</th>\n",
       "      <td>14867f05-5078-46e9-a964-796e2fed9a3a</td>\n",
       "      <td>ModularLearner</td>\n",
       "      <td>{'9eaca52b-a9be-402e-b60e-b2e7e93722a3': 0.040...</td>\n",
       "      <td>{'ability': 0.5081414986134651, 'domain_id': '...</td>\n",
       "      <td>{'type': 'DomainTunerDecider', 'values': {'att...</td>\n",
       "      <td>False</td>\n",
       "      <td>False</td>\n",
       "      <td>0</td>\n",
       "      <td>0</td>\n",
       "      <td>[off_task, attempted, total_attempts, total_su...</td>\n",
       "      <td>...</td>\n",
       "      <td>0</td>\n",
       "      <td>62</td>\n",
       "      <td>62</td>\n",
       "      <td>0.000000</td>\n",
       "      <td>1.0</td>\n",
       "      <td>0</td>\n",
       "      <td>0.411168</td>\n",
       "      <td>{'attempt': 10, 'guess': 2.5, 'hint request': ...</td>\n",
       "      <td>2.046148</td>\n",
       "      <td>0.508141</td>\n",
       "    </tr>\n",
       "    <tr>\n",
       "      <th>2b65ed35-cc69-480b-99bd-3ff18f0dd435</th>\n",
       "      <td>14867f05-5078-46e9-a964-796e2fed9a3a</td>\n",
       "      <td>ModularLearner</td>\n",
       "      <td>{'9eaca52b-a9be-402e-b60e-b2e7e93722a3': 0.347...</td>\n",
       "      <td>{'ability': -0.2385001382800338, 'domain_id': ...</td>\n",
       "      <td>{'type': 'DomainTunerDecider', 'values': {'att...</td>\n",
       "      <td>False</td>\n",
       "      <td>False</td>\n",
       "      <td>0</td>\n",
       "      <td>0</td>\n",
       "      <td>[off_task, attempted, total_attempts, total_su...</td>\n",
       "      <td>...</td>\n",
       "      <td>1</td>\n",
       "      <td>62</td>\n",
       "      <td>62</td>\n",
       "      <td>0.016129</td>\n",
       "      <td>1.0</td>\n",
       "      <td>0</td>\n",
       "      <td>0.510372</td>\n",
       "      <td>{'attempt': 10, 'guess': 2.5, 'hint request': ...</td>\n",
       "      <td>2.041625</td>\n",
       "      <td>-0.238500</td>\n",
       "    </tr>\n",
       "    <tr>\n",
       "      <th>34444917-c6a6-4e90-b2d6-68fb2e17dda9</th>\n",
       "      <td>14867f05-5078-46e9-a964-796e2fed9a3a</td>\n",
       "      <td>ModularLearner</td>\n",
       "      <td>{'9eaca52b-a9be-402e-b60e-b2e7e93722a3': 0.280...</td>\n",
       "      <td>{'ability': 0.07658434688220583, 'domain_id': ...</td>\n",
       "      <td>{'type': 'DomainTunerDecider', 'values': {'att...</td>\n",
       "      <td>False</td>\n",
       "      <td>False</td>\n",
       "      <td>0</td>\n",
       "      <td>0</td>\n",
       "      <td>[off_task, attempted, total_attempts, total_su...</td>\n",
       "      <td>...</td>\n",
       "      <td>0</td>\n",
       "      <td>62</td>\n",
       "      <td>62</td>\n",
       "      <td>0.000000</td>\n",
       "      <td>1.0</td>\n",
       "      <td>0</td>\n",
       "      <td>0.501256</td>\n",
       "      <td>{'attempt': 10, 'guess': 2.5, 'hint request': ...</td>\n",
       "      <td>2.294587</td>\n",
       "      <td>0.076584</td>\n",
       "    </tr>\n",
       "    <tr>\n",
       "      <th>4b64866c-e0b2-4783-b4c5-b268648f2c63</th>\n",
       "      <td>14867f05-5078-46e9-a964-796e2fed9a3a</td>\n",
       "      <td>ModularLearner</td>\n",
       "      <td>{'9eaca52b-a9be-402e-b60e-b2e7e93722a3': 0.385...</td>\n",
       "      <td>{'ability': 0.11174449024894562, 'domain_id': ...</td>\n",
       "      <td>{'type': 'DomainTunerDecider', 'values': {'att...</td>\n",
       "      <td>False</td>\n",
       "      <td>False</td>\n",
       "      <td>0</td>\n",
       "      <td>0</td>\n",
       "      <td>[off_task, attempted, total_attempts, total_su...</td>\n",
       "      <td>...</td>\n",
       "      <td>0</td>\n",
       "      <td>62</td>\n",
       "      <td>62</td>\n",
       "      <td>0.000000</td>\n",
       "      <td>1.0</td>\n",
       "      <td>0</td>\n",
       "      <td>0.474401</td>\n",
       "      <td>{'attempt': 10, 'guess': 2.5, 'hint request': ...</td>\n",
       "      <td>2.151195</td>\n",
       "      <td>0.111744</td>\n",
       "    </tr>\n",
       "    <tr>\n",
       "      <th>621b004a-9b54-4962-b911-8b7aff1a49b1</th>\n",
       "      <td>14867f05-5078-46e9-a964-796e2fed9a3a</td>\n",
       "      <td>ModularLearner</td>\n",
       "      <td>{'9eaca52b-a9be-402e-b60e-b2e7e93722a3': 0.684...</td>\n",
       "      <td>{'ability': -0.5987971007746173, 'domain_id': ...</td>\n",
       "      <td>{'type': 'DomainTunerDecider', 'values': {'att...</td>\n",
       "      <td>False</td>\n",
       "      <td>False</td>\n",
       "      <td>0</td>\n",
       "      <td>0</td>\n",
       "      <td>[off_task, attempted, total_attempts, total_su...</td>\n",
       "      <td>...</td>\n",
       "      <td>2</td>\n",
       "      <td>62</td>\n",
       "      <td>62</td>\n",
       "      <td>0.032258</td>\n",
       "      <td>1.0</td>\n",
       "      <td>0</td>\n",
       "      <td>0.496633</td>\n",
       "      <td>{'attempt': 10, 'guess': 2.5, 'hint request': ...</td>\n",
       "      <td>2.224792</td>\n",
       "      <td>-0.598797</td>\n",
       "    </tr>\n",
       "  </tbody>\n",
       "</table>\n",
       "<p>5 rows × 30 columns</p>\n",
       "</div>"
      ],
      "text/plain": [
       "                                                                 domain_id  \\\n",
       "_id                                                                          \n",
       "01f95557-fc43-47af-86d2-6dc19168d42b  14867f05-5078-46e9-a964-796e2fed9a3a   \n",
       "2b65ed35-cc69-480b-99bd-3ff18f0dd435  14867f05-5078-46e9-a964-796e2fed9a3a   \n",
       "34444917-c6a6-4e90-b2d6-68fb2e17dda9  14867f05-5078-46e9-a964-796e2fed9a3a   \n",
       "4b64866c-e0b2-4783-b4c5-b268648f2c63  14867f05-5078-46e9-a964-796e2fed9a3a   \n",
       "621b004a-9b54-4962-b911-8b7aff1a49b1  14867f05-5078-46e9-a964-796e2fed9a3a   \n",
       "\n",
       "                                                type  \\\n",
       "_id                                                    \n",
       "01f95557-fc43-47af-86d2-6dc19168d42b  ModularLearner   \n",
       "2b65ed35-cc69-480b-99bd-3ff18f0dd435  ModularLearner   \n",
       "34444917-c6a6-4e90-b2d6-68fb2e17dda9  ModularLearner   \n",
       "4b64866c-e0b2-4783-b4c5-b268648f2c63  ModularLearner   \n",
       "621b004a-9b54-4962-b911-8b7aff1a49b1  ModularLearner   \n",
       "\n",
       "                                                                                 skills  \\\n",
       "_id                                                                                       \n",
       "01f95557-fc43-47af-86d2-6dc19168d42b  {'9eaca52b-a9be-402e-b60e-b2e7e93722a3': 0.040...   \n",
       "2b65ed35-cc69-480b-99bd-3ff18f0dd435  {'9eaca52b-a9be-402e-b60e-b2e7e93722a3': 0.347...   \n",
       "34444917-c6a6-4e90-b2d6-68fb2e17dda9  {'9eaca52b-a9be-402e-b60e-b2e7e93722a3': 0.280...   \n",
       "4b64866c-e0b2-4783-b4c5-b268648f2c63  {'9eaca52b-a9be-402e-b60e-b2e7e93722a3': 0.385...   \n",
       "621b004a-9b54-4962-b911-8b7aff1a49b1  {'9eaca52b-a9be-402e-b60e-b2e7e93722a3': 0.684...   \n",
       "\n",
       "                                                                                    cog  \\\n",
       "_id                                                                                       \n",
       "01f95557-fc43-47af-86d2-6dc19168d42b  {'ability': 0.5081414986134651, 'domain_id': '...   \n",
       "2b65ed35-cc69-480b-99bd-3ff18f0dd435  {'ability': -0.2385001382800338, 'domain_id': ...   \n",
       "34444917-c6a6-4e90-b2d6-68fb2e17dda9  {'ability': 0.07658434688220583, 'domain_id': ...   \n",
       "4b64866c-e0b2-4783-b4c5-b268648f2c63  {'ability': 0.11174449024894562, 'domain_id': ...   \n",
       "621b004a-9b54-4962-b911-8b7aff1a49b1  {'ability': -0.5987971007746173, 'domain_id': ...   \n",
       "\n",
       "                                                                                decider  \\\n",
       "_id                                                                                       \n",
       "01f95557-fc43-47af-86d2-6dc19168d42b  {'type': 'DomainTunerDecider', 'values': {'att...   \n",
       "2b65ed35-cc69-480b-99bd-3ff18f0dd435  {'type': 'DomainTunerDecider', 'values': {'att...   \n",
       "34444917-c6a6-4e90-b2d6-68fb2e17dda9  {'type': 'DomainTunerDecider', 'values': {'att...   \n",
       "4b64866c-e0b2-4783-b4c5-b268648f2c63  {'type': 'DomainTunerDecider', 'values': {'att...   \n",
       "621b004a-9b54-4962-b911-8b7aff1a49b1  {'type': 'DomainTunerDecider', 'values': {'att...   \n",
       "\n",
       "                                      off_task  attempted  total_attempts  \\\n",
       "_id                                                                         \n",
       "01f95557-fc43-47af-86d2-6dc19168d42b     False      False               0   \n",
       "2b65ed35-cc69-480b-99bd-3ff18f0dd435     False      False               0   \n",
       "34444917-c6a6-4e90-b2d6-68fb2e17dda9     False      False               0   \n",
       "4b64866c-e0b2-4783-b4c5-b268648f2c63     False      False               0   \n",
       "621b004a-9b54-4962-b911-8b7aff1a49b1     False      False               0   \n",
       "\n",
       "                                      total_success  \\\n",
       "_id                                                   \n",
       "01f95557-fc43-47af-86d2-6dc19168d42b              0   \n",
       "2b65ed35-cc69-480b-99bd-3ff18f0dd435              0   \n",
       "34444917-c6a6-4e90-b2d6-68fb2e17dda9              0   \n",
       "4b64866c-e0b2-4783-b4c5-b268648f2c63              0   \n",
       "621b004a-9b54-4962-b911-8b7aff1a49b1              0   \n",
       "\n",
       "                                                                           state_fields  \\\n",
       "_id                                                                                       \n",
       "01f95557-fc43-47af-86d2-6dc19168d42b  [off_task, attempted, total_attempts, total_su...   \n",
       "2b65ed35-cc69-480b-99bd-3ff18f0dd435  [off_task, attempted, total_attempts, total_su...   \n",
       "34444917-c6a6-4e90-b2d6-68fb2e17dda9  [off_task, attempted, total_attempts, total_su...   \n",
       "4b64866c-e0b2-4783-b4c5-b268648f2c63  [off_task, attempted, total_attempts, total_su...   \n",
       "621b004a-9b54-4962-b911-8b7aff1a49b1  [off_task, attempted, total_attempts, total_su...   \n",
       "\n",
       "                                      ...  pre-sim total mastery  \\\n",
       "_id                                   ...                          \n",
       "01f95557-fc43-47af-86d2-6dc19168d42b  ...                      0   \n",
       "2b65ed35-cc69-480b-99bd-3ff18f0dd435  ...                      1   \n",
       "34444917-c6a6-4e90-b2d6-68fb2e17dda9  ...                      0   \n",
       "4b64866c-e0b2-4783-b4c5-b268648f2c63  ...                      0   \n",
       "621b004a-9b54-4962-b911-8b7aff1a49b1  ...                      2   \n",
       "\n",
       "                                      final-sim total mastery  total skills  \\\n",
       "_id                                                                           \n",
       "01f95557-fc43-47af-86d2-6dc19168d42b                       62            62   \n",
       "2b65ed35-cc69-480b-99bd-3ff18f0dd435                       62            62   \n",
       "34444917-c6a6-4e90-b2d6-68fb2e17dda9                       62            62   \n",
       "4b64866c-e0b2-4783-b4c5-b268648f2c63                       62            62   \n",
       "621b004a-9b54-4962-b911-8b7aff1a49b1                       62            62   \n",
       "\n",
       "                                      pre-sim pct mastery  \\\n",
       "_id                                                         \n",
       "01f95557-fc43-47af-86d2-6dc19168d42b             0.000000   \n",
       "2b65ed35-cc69-480b-99bd-3ff18f0dd435             0.016129   \n",
       "34444917-c6a6-4e90-b2d6-68fb2e17dda9             0.000000   \n",
       "4b64866c-e0b2-4783-b4c5-b268648f2c63             0.000000   \n",
       "621b004a-9b54-4962-b911-8b7aff1a49b1             0.032258   \n",
       "\n",
       "                                      final-sim pct mastery  \\\n",
       "_id                                                           \n",
       "01f95557-fc43-47af-86d2-6dc19168d42b                    1.0   \n",
       "2b65ed35-cc69-480b-99bd-3ff18f0dd435                    1.0   \n",
       "34444917-c6a6-4e90-b2d6-68fb2e17dda9                    1.0   \n",
       "4b64866c-e0b2-4783-b4c5-b268648f2c63                    1.0   \n",
       "621b004a-9b54-4962-b911-8b7aff1a49b1                    1.0   \n",
       "\n",
       "                                      final-sim total unmastered pct success  \\\n",
       "_id                                                                            \n",
       "01f95557-fc43-47af-86d2-6dc19168d42b                           0    0.411168   \n",
       "2b65ed35-cc69-480b-99bd-3ff18f0dd435                           0    0.510372   \n",
       "34444917-c6a6-4e90-b2d6-68fb2e17dda9                           0    0.501256   \n",
       "4b64866c-e0b2-4783-b4c5-b268648f2c63                           0    0.474401   \n",
       "621b004a-9b54-4962-b911-8b7aff1a49b1                           0    0.496633   \n",
       "\n",
       "                                                                                 values  \\\n",
       "_id                                                                                       \n",
       "01f95557-fc43-47af-86d2-6dc19168d42b  {'attempt': 10, 'guess': 2.5, 'hint request': ...   \n",
       "2b65ed35-cc69-480b-99bd-3ff18f0dd435  {'attempt': 10, 'guess': 2.5, 'hint request': ...   \n",
       "34444917-c6a6-4e90-b2d6-68fb2e17dda9  {'attempt': 10, 'guess': 2.5, 'hint request': ...   \n",
       "4b64866c-e0b2-4783-b4c5-b268648f2c63  {'attempt': 10, 'guess': 2.5, 'hint request': ...   \n",
       "621b004a-9b54-4962-b911-8b7aff1a49b1  {'attempt': 10, 'guess': 2.5, 'hint request': ...   \n",
       "\n",
       "                                      diligence  cog_ability  \n",
       "_id                                                           \n",
       "01f95557-fc43-47af-86d2-6dc19168d42b   2.046148     0.508141  \n",
       "2b65ed35-cc69-480b-99bd-3ff18f0dd435   2.041625    -0.238500  \n",
       "34444917-c6a6-4e90-b2d6-68fb2e17dda9   2.294587     0.076584  \n",
       "4b64866c-e0b2-4783-b4c5-b268648f2c63   2.151195     0.111744  \n",
       "621b004a-9b54-4962-b911-8b7aff1a49b1   2.224792    -0.598797  \n",
       "\n",
       "[5 rows x 30 columns]"
      ]
     },
     "execution_count": 26,
     "metadata": {},
     "output_type": "execute_result"
    }
   ],
   "source": [
    "\n",
    "sim_students.head()"
   ]
  },
  {
   "cell_type": "code",
   "execution_count": 27,
   "metadata": {},
   "outputs": [
    {
     "data": {
      "image/png": "[encoded data removed]",
      "text/plain": [
       "<Figure size 720x144 with 4 Axes>"
      ]
     },
     "metadata": {
      "needs_background": "light"
     },
     "output_type": "display_data"
    },
    {
     "name": "stderr",
     "output_type": "stream",
     "text": [
      "INFO:analytics.cae:Total skills: 62\n"
     ]
    }
   ],
   "source": [
    "# Plot mastery\n",
    "plt.figure(figsize=(10,2))\n",
    "plt.subplot(141)\n",
    "plt.hist(sim_students['pre-sim pct mastery'], bins=10)\n",
    "plt.title(\"pre-sim pct mastery\")\n",
    "\n",
    "plt.subplot(142)\n",
    "plt.hist(sim_students['final-sim pct mastery'], bins=10)\n",
    "plt.title(\"final-sim pct mastery\")\n",
    "\n",
    "plt.subplot(143)\n",
    "plt.hist(sim_students['final-sim total unmastered'], bins=10)\n",
    "plt.title(\"final-sim total unmastered\")\n",
    "\n",
    "plt.subplot(144)\n",
    "plt.hist(sim_students['cog_ability'], bins=10)\n",
    "plt.title(\"Cognitive Ability\")\n",
    "\n",
    "plt.show()\n",
    "\n",
    "logger.info(\"Total skills: %i\" % sim_students['total skills'][0])\n"
   ]
  },
  {
   "cell_type": "code",
   "execution_count": 28,
   "metadata": {},
   "outputs": [
    {
     "name": "stdout",
     "output_type": "stream",
     "text": [
      "0: attempt\n",
      "1: guess\n",
      "2: hint request\n",
      "3: off task\n"
     ]
    },
    {
     "data": {
      "image/png": "[encoded data removed]",
      "text/plain": [
       "<Figure size 576x504 with 4 Axes>"
      ]
     },
     "metadata": {
      "needs_background": "light"
     },
     "output_type": "display_data"
    },
    {
     "data": {
      "image/png": "[encoded data removed]",
      "text/plain": [
       "<Figure size 288x216 with 1 Axes>"
      ]
     },
     "metadata": {
      "needs_background": "light"
     },
     "output_type": "display_data"
    }
   ],
   "source": [
    "# Plot Values & Diligence\n",
    "plt.figure(figsize=(8,7))\n",
    "for i,val in enumerate(sim_students['values'][0].keys()):\n",
    "    print(\"%i: %s\" % (i, val))\n",
    "    plt.subplot(2,2,i+1)\n",
    "    plt.hist(sim_students['values'].apply(lambda x: x[val]), bins=10)\n",
    "    plt.title('Student value for %s' % val)\n",
    "\n",
    "plt.show()\n",
    "\n",
    "plt.figure(figsize=(4,3))\n",
    "plt.hist(sim_students['diligence'], bins=10)\n",
    "plt.title(\"Diligence\")\n",
    "plt.show()\n",
    "\n"
   ]
  },
  {
   "cell_type": "markdown",
   "metadata": {},
   "source": [
    "#### Learner Decisions EDA"
   ]
  },
  {
   "cell_type": "code",
   "execution_count": 29,
   "metadata": {},
   "outputs": [
    {
     "data": {
      "text/html": [
       "<div>\n",
       "<style scoped>\n",
       "    .dataframe tbody tr th:only-of-type {\n",
       "        vertical-align: middle;\n",
       "    }\n",
       "\n",
       "    .dataframe tbody tr th {\n",
       "        vertical-align: top;\n",
       "    }\n",
       "\n",
       "    .dataframe thead th {\n",
       "        text-align: right;\n",
       "    }\n",
       "</style>\n",
       "<table border=\"1\" class=\"dataframe\">\n",
       "  <thead>\n",
       "    <tr style=\"text-align: right;\">\n",
       "      <th></th>\n",
       "      <th>_id</th>\n",
       "      <th>student_id</th>\n",
       "      <th>choice</th>\n",
       "      <th>time</th>\n",
       "      <th>action_evs</th>\n",
       "      <th>pev</th>\n",
       "      <th>problem</th>\n",
       "      <th>step</th>\n",
       "      <th>kc</th>\n",
       "      <th>learner_knowledge</th>\n",
       "      <th>attempt</th>\n",
       "      <th>hints_avail</th>\n",
       "      <th>hints_used</th>\n",
       "      <th>learner_off_task</th>\n",
       "      <th>self_eff</th>\n",
       "      <th>kcid</th>\n",
       "    </tr>\n",
       "  </thead>\n",
       "  <tbody>\n",
       "    <tr>\n",
       "      <th>0</th>\n",
       "      <td>82c6303d-3782-4947-bf80-38908536fb17</td>\n",
       "      <td>2b65ed35-cc69-480b-99bd-3ff18f0dd435</td>\n",
       "      <td>Attempt</td>\n",
       "      <td>2021-01-22 06:52:45.860</td>\n",
       "      <td>{'Attempt': {'expectancy': 0.5, 'value': 10, '...</td>\n",
       "      <td>[0.7858846007342745, 0.01924654183111688, 0.11...</td>\n",
       "      <td>d87ec986-f552-4d18-bc74-c830f13577b1</td>\n",
       "      <td>429ed3eb-f078-4446-afda-e2fed3337f24</td>\n",
       "      <td>{'_id': 'd357c58f-1eaa-4e29-839d-b7a835f65005'...</td>\n",
       "      <td>0.693735</td>\n",
       "      <td>0</td>\n",
       "      <td>3</td>\n",
       "      <td>0</td>\n",
       "      <td>False</td>\n",
       "      <td></td>\n",
       "      <td>d357c58f-1eaa-4e29-839d-b7a835f65005</td>\n",
       "    </tr>\n",
       "    <tr>\n",
       "      <th>1</th>\n",
       "      <td>b23d5110-302b-44d3-9944-9af2639f6f13</td>\n",
       "      <td>2b65ed35-cc69-480b-99bd-3ff18f0dd435</td>\n",
       "      <td>Attempt</td>\n",
       "      <td>2021-01-22 06:52:53.251</td>\n",
       "      <td>{'Attempt': {'expectancy': 0.5, 'value': 10, '...</td>\n",
       "      <td>[0.7858846007342745, 0.01924654183111688, 0.11...</td>\n",
       "      <td>d87ec986-f552-4d18-bc74-c830f13577b1</td>\n",
       "      <td>429ed3eb-f078-4446-afda-e2fed3337f24</td>\n",
       "      <td>{'_id': 'd357c58f-1eaa-4e29-839d-b7a835f65005'...</td>\n",
       "      <td>0.790403</td>\n",
       "      <td>1</td>\n",
       "      <td>3</td>\n",
       "      <td>0</td>\n",
       "      <td>False</td>\n",
       "      <td></td>\n",
       "      <td>d357c58f-1eaa-4e29-839d-b7a835f65005</td>\n",
       "    </tr>\n",
       "    <tr>\n",
       "      <th>2</th>\n",
       "      <td>210bef93-94bb-421f-a8d0-c9061f1a4de8</td>\n",
       "      <td>2b65ed35-cc69-480b-99bd-3ff18f0dd435</td>\n",
       "      <td>HintRequest</td>\n",
       "      <td>2021-01-22 06:53:00.648</td>\n",
       "      <td>{'Attempt': {'expectancy': 0.5, 'value': 10, '...</td>\n",
       "      <td>[0.7858846007342745, 0.01924654183111688, 0.11...</td>\n",
       "      <td>d87ec986-f552-4d18-bc74-c830f13577b1</td>\n",
       "      <td>429ed3eb-f078-4446-afda-e2fed3337f24</td>\n",
       "      <td>{'_id': 'd357c58f-1eaa-4e29-839d-b7a835f65005'...</td>\n",
       "      <td>0.790403</td>\n",
       "      <td>2</td>\n",
       "      <td>3</td>\n",
       "      <td>0</td>\n",
       "      <td>False</td>\n",
       "      <td></td>\n",
       "      <td>d357c58f-1eaa-4e29-839d-b7a835f65005</td>\n",
       "    </tr>\n",
       "    <tr>\n",
       "      <th>3</th>\n",
       "      <td>95617b1a-b2d8-46e4-8802-fe3d235d1d91</td>\n",
       "      <td>2b65ed35-cc69-480b-99bd-3ff18f0dd435</td>\n",
       "      <td>HintRequest</td>\n",
       "      <td>2021-01-22 06:53:05.376</td>\n",
       "      <td>{'Attempt': {'expectancy': 0.6666666666666666,...</td>\n",
       "      <td>[0.8303312790694695, 0.01525129040704305, 0.09...</td>\n",
       "      <td>d87ec986-f552-4d18-bc74-c830f13577b1</td>\n",
       "      <td>429ed3eb-f078-4446-afda-e2fed3337f24</td>\n",
       "      <td>{'_id': 'd357c58f-1eaa-4e29-839d-b7a835f65005'...</td>\n",
       "      <td>0.790403</td>\n",
       "      <td>3</td>\n",
       "      <td>2</td>\n",
       "      <td>1</td>\n",
       "      <td>False</td>\n",
       "      <td></td>\n",
       "      <td>d357c58f-1eaa-4e29-839d-b7a835f65005</td>\n",
       "    </tr>\n",
       "    <tr>\n",
       "      <th>4</th>\n",
       "      <td>cef12672-e3c8-47c9-bf57-9f554b39ebac</td>\n",
       "      <td>2b65ed35-cc69-480b-99bd-3ff18f0dd435</td>\n",
       "      <td>Attempt</td>\n",
       "      <td>2021-01-22 06:53:09.639</td>\n",
       "      <td>{'Attempt': {'expectancy': 0.8333333333333333,...</td>\n",
       "      <td>[0.8594972384890204, 0.012629602009393531, 0.0...</td>\n",
       "      <td>d87ec986-f552-4d18-bc74-c830f13577b1</td>\n",
       "      <td>429ed3eb-f078-4446-afda-e2fed3337f24</td>\n",
       "      <td>{'_id': 'd357c58f-1eaa-4e29-839d-b7a835f65005'...</td>\n",
       "      <td>0.790403</td>\n",
       "      <td>4</td>\n",
       "      <td>1</td>\n",
       "      <td>2</td>\n",
       "      <td>False</td>\n",
       "      <td></td>\n",
       "      <td>d357c58f-1eaa-4e29-839d-b7a835f65005</td>\n",
       "    </tr>\n",
       "  </tbody>\n",
       "</table>\n",
       "</div>"
      ],
      "text/plain": [
       "                                    _id                            student_id  \\\n",
       "0  82c6303d-3782-4947-bf80-38908536fb17  2b65ed35-cc69-480b-99bd-3ff18f0dd435   \n",
       "1  b23d5110-302b-44d3-9944-9af2639f6f13  2b65ed35-cc69-480b-99bd-3ff18f0dd435   \n",
       "2  210bef93-94bb-421f-a8d0-c9061f1a4de8  2b65ed35-cc69-480b-99bd-3ff18f0dd435   \n",
       "3  95617b1a-b2d8-46e4-8802-fe3d235d1d91  2b65ed35-cc69-480b-99bd-3ff18f0dd435   \n",
       "4  cef12672-e3c8-47c9-bf57-9f554b39ebac  2b65ed35-cc69-480b-99bd-3ff18f0dd435   \n",
       "\n",
       "        choice                    time  \\\n",
       "0      Attempt 2021-01-22 06:52:45.860   \n",
       "1      Attempt 2021-01-22 06:52:53.251   \n",
       "2  HintRequest 2021-01-22 06:53:00.648   \n",
       "3  HintRequest 2021-01-22 06:53:05.376   \n",
       "4      Attempt 2021-01-22 06:53:09.639   \n",
       "\n",
       "                                          action_evs  \\\n",
       "0  {'Attempt': {'expectancy': 0.5, 'value': 10, '...   \n",
       "1  {'Attempt': {'expectancy': 0.5, 'value': 10, '...   \n",
       "2  {'Attempt': {'expectancy': 0.5, 'value': 10, '...   \n",
       "3  {'Attempt': {'expectancy': 0.6666666666666666,...   \n",
       "4  {'Attempt': {'expectancy': 0.8333333333333333,...   \n",
       "\n",
       "                                                 pev  \\\n",
       "0  [0.7858846007342745, 0.01924654183111688, 0.11...   \n",
       "1  [0.7858846007342745, 0.01924654183111688, 0.11...   \n",
       "2  [0.7858846007342745, 0.01924654183111688, 0.11...   \n",
       "3  [0.8303312790694695, 0.01525129040704305, 0.09...   \n",
       "4  [0.8594972384890204, 0.012629602009393531, 0.0...   \n",
       "\n",
       "                                problem                                  step  \\\n",
       "0  d87ec986-f552-4d18-bc74-c830f13577b1  429ed3eb-f078-4446-afda-e2fed3337f24   \n",
       "1  d87ec986-f552-4d18-bc74-c830f13577b1  429ed3eb-f078-4446-afda-e2fed3337f24   \n",
       "2  d87ec986-f552-4d18-bc74-c830f13577b1  429ed3eb-f078-4446-afda-e2fed3337f24   \n",
       "3  d87ec986-f552-4d18-bc74-c830f13577b1  429ed3eb-f078-4446-afda-e2fed3337f24   \n",
       "4  d87ec986-f552-4d18-bc74-c830f13577b1  429ed3eb-f078-4446-afda-e2fed3337f24   \n",
       "\n",
       "                                                  kc  learner_knowledge  \\\n",
       "0  {'_id': 'd357c58f-1eaa-4e29-839d-b7a835f65005'...           0.693735   \n",
       "1  {'_id': 'd357c58f-1eaa-4e29-839d-b7a835f65005'...           0.790403   \n",
       "2  {'_id': 'd357c58f-1eaa-4e29-839d-b7a835f65005'...           0.790403   \n",
       "3  {'_id': 'd357c58f-1eaa-4e29-839d-b7a835f65005'...           0.790403   \n",
       "4  {'_id': 'd357c58f-1eaa-4e29-839d-b7a835f65005'...           0.790403   \n",
       "\n",
       "   attempt  hints_avail  hints_used  learner_off_task self_eff  \\\n",
       "0        0            3           0             False            \n",
       "1        1            3           0             False            \n",
       "2        2            3           0             False            \n",
       "3        3            2           1             False            \n",
       "4        4            1           2             False            \n",
       "\n",
       "                                   kcid  \n",
       "0  d357c58f-1eaa-4e29-839d-b7a835f65005  \n",
       "1  d357c58f-1eaa-4e29-839d-b7a835f65005  \n",
       "2  d357c58f-1eaa-4e29-839d-b7a835f65005  \n",
       "3  d357c58f-1eaa-4e29-839d-b7a835f65005  \n",
       "4  d357c58f-1eaa-4e29-839d-b7a835f65005  "
      ]
     },
     "execution_count": 29,
     "metadata": {},
     "output_type": "execute_result"
    }
   ],
   "source": [
    "# Get Learner decisions\n",
    "if \"stus_1\" in globals():\n",
    "    decisions = pd.DataFrame(db.decisions.find({\"student_id\": {'$in': [stu._id for stu in stus_1]}}))\n",
    "else:\n",
    "    decisions = pd.DataFrame(db.decisions.find({\"student_id\": {'$in': sids}}))\n",
    "decisions['learner_knowledge'] = decisions['learner_knowledge'].apply(lambda x: x[0] if isinstance(x, Iterable) else x)\n",
    "decisions['kcid'] = decisions['kc'].apply(lambda x: x['_id'])\n",
    "decisions.head()"
   ]
  },
  {
   "cell_type": "markdown",
   "metadata": {},
   "source": [
    "#### Learner Actions EDA"
   ]
  },
  {
   "cell_type": "code",
   "execution_count": 30,
   "metadata": {},
   "outputs": [
    {
     "data": {
      "text/html": [
       "<div>\n",
       "<style scoped>\n",
       "    .dataframe tbody tr th:only-of-type {\n",
       "        vertical-align: middle;\n",
       "    }\n",
       "\n",
       "    .dataframe tbody tr th {\n",
       "        vertical-align: top;\n",
       "    }\n",
       "\n",
       "    .dataframe thead th {\n",
       "        text-align: right;\n",
       "    }\n",
       "</style>\n",
       "<table border=\"1\" class=\"dataframe\">\n",
       "  <thead>\n",
       "    <tr style=\"text-align: right;\">\n",
       "      <th>type</th>\n",
       "      <th>Attempt</th>\n",
       "      <th>Guess</th>\n",
       "      <th>Hint Request</th>\n",
       "      <th>Off Task</th>\n",
       "      <th>total actions</th>\n",
       "      <th>Pct Attempt</th>\n",
       "      <th>Pct Guess</th>\n",
       "      <th>Pct Hint Request</th>\n",
       "      <th>Pct Off Task</th>\n",
       "    </tr>\n",
       "    <tr>\n",
       "      <th>student_id</th>\n",
       "      <th></th>\n",
       "      <th></th>\n",
       "      <th></th>\n",
       "      <th></th>\n",
       "      <th></th>\n",
       "      <th></th>\n",
       "      <th></th>\n",
       "      <th></th>\n",
       "      <th></th>\n",
       "    </tr>\n",
       "  </thead>\n",
       "  <tbody>\n",
       "    <tr>\n",
       "      <th>01f95557-fc43-47af-86d2-6dc19168d42b</th>\n",
       "      <td>2880</td>\n",
       "      <td>75</td>\n",
       "      <td>411</td>\n",
       "      <td>281</td>\n",
       "      <td>3647</td>\n",
       "      <td>0.789690</td>\n",
       "      <td>0.020565</td>\n",
       "      <td>0.112695</td>\n",
       "      <td>0.077050</td>\n",
       "    </tr>\n",
       "    <tr>\n",
       "      <th>2b65ed35-cc69-480b-99bd-3ff18f0dd435</th>\n",
       "      <td>2497</td>\n",
       "      <td>58</td>\n",
       "      <td>341</td>\n",
       "      <td>225</td>\n",
       "      <td>3121</td>\n",
       "      <td>0.800064</td>\n",
       "      <td>0.018584</td>\n",
       "      <td>0.109260</td>\n",
       "      <td>0.072092</td>\n",
       "    </tr>\n",
       "    <tr>\n",
       "      <th>34444917-c6a6-4e90-b2d6-68fb2e17dda9</th>\n",
       "      <td>2737</td>\n",
       "      <td>50</td>\n",
       "      <td>412</td>\n",
       "      <td>220</td>\n",
       "      <td>3419</td>\n",
       "      <td>0.800526</td>\n",
       "      <td>0.014624</td>\n",
       "      <td>0.120503</td>\n",
       "      <td>0.064346</td>\n",
       "    </tr>\n",
       "    <tr>\n",
       "      <th>4b64866c-e0b2-4783-b4c5-b268648f2c63</th>\n",
       "      <td>3315</td>\n",
       "      <td>64</td>\n",
       "      <td>461</td>\n",
       "      <td>315</td>\n",
       "      <td>4155</td>\n",
       "      <td>0.797834</td>\n",
       "      <td>0.015403</td>\n",
       "      <td>0.110951</td>\n",
       "      <td>0.075812</td>\n",
       "    </tr>\n",
       "    <tr>\n",
       "      <th>621b004a-9b54-4962-b911-8b7aff1a49b1</th>\n",
       "      <td>2319</td>\n",
       "      <td>57</td>\n",
       "      <td>335</td>\n",
       "      <td>181</td>\n",
       "      <td>2892</td>\n",
       "      <td>0.801867</td>\n",
       "      <td>0.019710</td>\n",
       "      <td>0.115837</td>\n",
       "      <td>0.062586</td>\n",
       "    </tr>\n",
       "  </tbody>\n",
       "</table>\n",
       "</div>"
      ],
      "text/plain": [
       "type                                  Attempt  Guess  Hint Request  Off Task  \\\n",
       "student_id                                                                     \n",
       "01f95557-fc43-47af-86d2-6dc19168d42b     2880     75           411       281   \n",
       "2b65ed35-cc69-480b-99bd-3ff18f0dd435     2497     58           341       225   \n",
       "34444917-c6a6-4e90-b2d6-68fb2e17dda9     2737     50           412       220   \n",
       "4b64866c-e0b2-4783-b4c5-b268648f2c63     3315     64           461       315   \n",
       "621b004a-9b54-4962-b911-8b7aff1a49b1     2319     57           335       181   \n",
       "\n",
       "type                                  total actions  Pct Attempt  Pct Guess  \\\n",
       "student_id                                                                    \n",
       "01f95557-fc43-47af-86d2-6dc19168d42b           3647     0.789690   0.020565   \n",
       "2b65ed35-cc69-480b-99bd-3ff18f0dd435           3121     0.800064   0.018584   \n",
       "34444917-c6a6-4e90-b2d6-68fb2e17dda9           3419     0.800526   0.014624   \n",
       "4b64866c-e0b2-4783-b4c5-b268648f2c63           4155     0.797834   0.015403   \n",
       "621b004a-9b54-4962-b911-8b7aff1a49b1           2892     0.801867   0.019710   \n",
       "\n",
       "type                                  Pct Hint Request  Pct Off Task  \n",
       "student_id                                                            \n",
       "01f95557-fc43-47af-86d2-6dc19168d42b          0.112695      0.077050  \n",
       "2b65ed35-cc69-480b-99bd-3ff18f0dd435          0.109260      0.072092  \n",
       "34444917-c6a6-4e90-b2d6-68fb2e17dda9          0.120503      0.064346  \n",
       "4b64866c-e0b2-4783-b4c5-b268648f2c63          0.110951      0.075812  \n",
       "621b004a-9b54-4962-b911-8b7aff1a49b1          0.115837      0.062586  "
      ]
     },
     "execution_count": 30,
     "metadata": {},
     "output_type": "execute_result"
    }
   ],
   "source": [
    "action_dist.head()"
   ]
  },
  {
   "cell_type": "code",
   "execution_count": 31,
   "metadata": {},
   "outputs": [
    {
     "data": {
      "image/png": "[encoded data removed]",
      "text/plain": [
       "<Figure size 720x144 with 4 Axes>"
      ]
     },
     "metadata": {
      "needs_background": "light"
     },
     "output_type": "display_data"
    }
   ],
   "source": [
    "plt.figure(figsize=(10,2))\n",
    "plt.subplot(141)\n",
    "plt.hist(action_dist['Pct Attempt'], bins=10)\n",
    "plt.title(\"Pct Attempt\")\n",
    "\n",
    "plt.subplot(142)\n",
    "plt.hist(action_dist['Pct Guess'], bins=10)\n",
    "plt.title(\"Pct Guess\")\n",
    "\n",
    "plt.subplot(143)\n",
    "plt.hist(action_dist['Pct Hint Request'], bins=10)\n",
    "plt.title(\"Pct Hint Request\")\n",
    "\n",
    "plt.subplot(144)\n",
    "plt.hist(action_dist['Pct Off Task'], bins=10)\n",
    "plt.title(\"Pct Off Task\")\n",
    "\n",
    "plt.show()"
   ]
  },
  {
   "cell_type": "markdown",
   "metadata": {},
   "source": [
    "#### Learner Transactions EDA"
   ]
  },
  {
   "cell_type": "code",
   "execution_count": 36,
   "metadata": {},
   "outputs": [
    {
     "name": "stderr",
     "output_type": "stream",
     "text": [
      "INFO:analytics.cae:Extracted tx for set of students in 2.357335 seconds: (62348, 8)\n"
     ]
    }
   ],
   "source": [
    "args = [get_tx_fields, sids, 10]\n",
    "tx, runtime = batch_calc.time_calc(batch_calc.batch_calc, args)\n",
    "logger.info(f\"Extracted tx for set of students in {runtime} seconds: {tx.shape}\")"
   ]
  },
  {
   "cell_type": "code",
   "execution_count": 37,
   "metadata": {},
   "outputs": [],
   "source": [
    "step_stats = tx.groupby(['stu_id', 'unit_id', 'section_id', 'prob_id', 'step_id'])['duration'].agg(['sum', 'count']).reset_index()\n",
    "stu_prob_stats = step_stats.groupby('stu_id')['count'].describe()\n",
    "stu_prob_stats.columns = [\"Step Attempt %s\" % col for col in stu_prob_stats.columns]\n",
    "d = step_stats.groupby('stu_id')['sum'].describe()\n",
    "d.columns = [\"Step Duration %s\" % col for col in d.columns]\n",
    "stu_prob_stats = pd.concat([stu_prob_stats, d], axis=1)\n",
    "stu_prob_stats.head()\n",
    "\n",
    "# kc_stats = tx[['stu_id', 'kc', 'step_id']].drop_duplicates().groupby(['stu_id', 'kc']).count()\n",
    "stu_kc_stats = tx[['stu_id', 'kc', 'step_id']].drop_duplicates().groupby(['stu_id', 'kc']).count().reset_index()\n",
    "stu_kc_stats.rename(columns={'step_id': 'kc opportunities'}, inplace=True)\n",
    "kc_stats = stu_kc_stats.groupby('kc').describe()"
   ]
  },
  {
   "cell_type": "code",
   "execution_count": 38,
   "metadata": {},
   "outputs": [
    {
     "data": {
      "image/png": "[encoded data removed]",
      "text/plain": [
       "<Figure size 720x144 with 2 Axes>"
      ]
     },
     "metadata": {
      "needs_background": "light"
     },
     "output_type": "display_data"
    },
    {
     "data": {
      "image/png": "[encoded data removed]",
      "text/plain": [
       "<Figure size 1080x144 with 3 Axes>"
      ]
     },
     "metadata": {
      "needs_background": "light"
     },
     "output_type": "display_data"
    },
    {
     "data": {
      "image/png": "[encoded data removed]",
      "text/plain": [
       "<Figure size 216x144 with 1 Axes>"
      ]
     },
     "metadata": {
      "needs_background": "light"
     },
     "output_type": "display_data"
    }
   ],
   "source": [
    "plt.figure(figsize=(10,2))\n",
    "plt.subplot(121)\n",
    "plt.hist(tx_stats['Total Tx'], bins=10)\n",
    "plt.title(\"Total Tx\")\n",
    "\n",
    "plt.subplot(122)\n",
    "plt.hist(tx_stats['Total Time(hours)'], bins=10)\n",
    "plt.title(\"Total Time(hours)\")\n",
    "plt.show()\n",
    "\n",
    "plt.figure(figsize=(15,2))\n",
    "plt.subplot(131)\n",
    "plt.hist(tx_stats['Pct Correct'], bins=10)\n",
    "plt.title(\"Pct Correct Tx\")\n",
    "\n",
    "plt.subplot(132)\n",
    "plt.hist(tx_stats['Pct Incorrect'], bins=10)\n",
    "plt.title(\"Pct Incorrect Tx\")\n",
    "\n",
    "plt.subplot(133)\n",
    "plt.hist(tx_stats['Pct Hint'], bins=10)\n",
    "plt.title(\"Pct Hint Tx\")\n",
    "plt.show()\n",
    "\n",
    "plt.figure(figsize=(3,2))\n",
    "plt.hist(tx['duration'],bins=50)\n",
    "plt.title(\"Tx duration\")\n",
    "plt.show()"
   ]
  },
  {
   "cell_type": "code",
   "execution_count": 39,
   "metadata": {},
   "outputs": [
    {
     "data": {
      "image/png": "[encoded data removed]",
      "text/plain": [
       "<Figure size 1296x864 with 18 Axes>"
      ]
     },
     "metadata": {
      "needs_background": "light"
     },
     "output_type": "display_data"
    }
   ],
   "source": [
    "num_bins = 10\n",
    "num_rows = 3\n",
    "num_cols = 6\n",
    "row_height = 3\n",
    "col_width = 3\n",
    "plt.figure(figsize=(col_width*num_cols, row_height*num_rows+num_rows))\n",
    "\n",
    "row = 0\n",
    "plt.subplot(num_rows,num_cols,num_cols*row + 1)\n",
    "plt.hist(stu_prob_stats['Step Attempt mean'], bins=num_bins)\n",
    "plt.title(\"Mean Attempts per step\")\n",
    "plt.subplot(num_rows,num_cols,num_cols*row + 2)\n",
    "plt.hist(stu_prob_stats['Step Attempt std'], bins=num_bins)\n",
    "plt.title(\"Standard Dev Attempts per step\")\n",
    "\n",
    "\n",
    "plt.subplot(num_rows,num_cols,num_cols*row + 3)\n",
    "plt.hist(stu_prob_stats['Step Attempt 25%'], bins=num_bins)\n",
    "plt.title(\"Q1 Attempts per step\")\n",
    "plt.subplot(num_rows,num_cols,num_cols*row + 4)\n",
    "plt.hist(stu_prob_stats['Step Attempt 50%'], bins=num_bins)\n",
    "plt.title(\"Q2 Attempts per step\")\n",
    "plt.subplot(num_rows,num_cols,num_cols*row + 5)\n",
    "plt.hist(stu_prob_stats['Step Attempt 75%'], bins=num_bins)\n",
    "plt.title(\"Q3 Attempts per step\")\n",
    "plt.subplot(num_rows,num_cols,num_cols*row + 6)\n",
    "plt.hist(stu_prob_stats['Step Attempt max'], bins=num_bins)\n",
    "plt.title(\"Max Attempts per step\")\n",
    "\n",
    "row = 1\n",
    "plt.subplot(num_rows,num_cols,num_cols*row + 1)\n",
    "plt.hist(stu_prob_stats['Step Duration mean'], bins=num_bins)\n",
    "plt.title(\"Mean Time per step\")\n",
    "plt.subplot(num_rows,num_cols,num_cols*row + 2)\n",
    "plt.hist(stu_prob_stats['Step Duration std'], bins=num_bins)\n",
    "plt.title(\"Standard Dev Time per step\")\n",
    "\n",
    "\n",
    "plt.subplot(num_rows,num_cols,num_cols*row + 3)\n",
    "plt.hist(stu_prob_stats['Step Duration 25%'], bins=num_bins)\n",
    "plt.title(\"Q1 Time per step\")\n",
    "plt.subplot(num_rows,num_cols,num_cols*row + 4)\n",
    "plt.hist(stu_prob_stats['Step Duration 50%'], bins=num_bins)\n",
    "plt.title(\"Q2 Time per step\")\n",
    "plt.subplot(num_rows,num_cols,num_cols*row + 5)\n",
    "plt.hist(stu_prob_stats['Step Duration 75%'], bins=num_bins)\n",
    "plt.title(\"Q3 Time per step\")\n",
    "plt.subplot(num_rows,num_cols,num_cols*row + 6)\n",
    "plt.hist(stu_prob_stats['Step Duration max'], bins=num_bins)\n",
    "plt.title(\"Max Time per step\")\n",
    "\n",
    "row = 2\n",
    "plt.subplot(num_rows,num_cols,num_cols*row + 1)\n",
    "plt.hist(kc_stats[('kc opportunities', 'mean')], bins=num_bins)\n",
    "plt.title(\"Mean opportunities per kc\")\n",
    "plt.subplot(num_rows,num_cols,num_cols*row + 2)\n",
    "plt.hist(kc_stats[('kc opportunities', 'std')], bins=num_bins)\n",
    "plt.title(\"Standard Dev opportunities per kc\")\n",
    "\n",
    "\n",
    "plt.subplot(num_rows,num_cols,num_cols*row + 3)\n",
    "plt.hist(kc_stats[('kc opportunities', '25%')], bins=num_bins)\n",
    "plt.title(\"Q1 opportunities per kc\")\n",
    "plt.subplot(num_rows,num_cols,num_cols*row + 4)\n",
    "plt.hist(kc_stats[('kc opportunities', '50%')], bins=num_bins)\n",
    "plt.title(\"Q2 opportunities per kc\")\n",
    "plt.subplot(num_rows,num_cols,num_cols*row + 5)\n",
    "plt.hist(kc_stats[('kc opportunities', '75%')], bins=num_bins)\n",
    "plt.title(\"Q3 opportunities per kc\")\n",
    "plt.subplot(num_rows,num_cols,num_cols*row + 6)\n",
    "plt.hist(kc_stats[('kc opportunities', 'max')], bins=num_bins)\n",
    "plt.title(\"Max opportunities per kc\")\n",
    "\n",
    "plt.show()\n"
   ]
  },
  {
   "cell_type": "markdown",
   "metadata": {},
   "source": [
    "# 2. Test Timed Simulation"
   ]
  },
  {
   "cell_type": "code",
   "execution_count": null,
   "metadata": {},
   "outputs": [],
   "source": []
  }
 ],
 "metadata": {
  "kernelspec": {
   "display_name": "Python 3",
   "language": "python",
   "name": "python3"
  },
  "language_info": {
   "codemirror_mode": {
    "name": "ipython",
    "version": 3
   },
   "file_extension": ".py",
   "mimetype": "text/x-python",
   "name": "python",
   "nbconvert_exporter": "python",
   "pygments_lexer": "ipython3",
   "version": "3.8.5"
  }
 },
 "nbformat": 4,
 "nbformat_minor": 4
}
