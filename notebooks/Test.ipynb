{
 "cells": [
  {
   "cell_type": "code",
   "execution_count": 1,
   "metadata": {},
   "outputs": [],
   "source": [
    "# This notebook is for testing segments of code that requires more complex testing"
   ]
  },
  {
   "cell_type": "code",
   "execution_count": 2,
   "metadata": {},
   "outputs": [],
   "source": [
    "import sys\n",
    "sys.path.append(\"../lib\")"
   ]
  },
  {
   "cell_type": "code",
   "execution_count": 3,
   "metadata": {},
   "outputs": [],
   "source": [
    "import math\n",
    "import random\n",
    "import uuid\n",
    "import os\n",
    "import copy\n",
    "import itertools\n",
    "from collections.abc import Iterable\n",
    "from datetime import datetime as dt\n",
    "\n",
    "import numpy as np\n",
    "import pandas as pd\n",
    "import matplotlib.pyplot as plt\n",
    "\n",
    "from scipy.optimize import Bounds\n",
    "from scipy.optimize import minimize\n",
    "from scipy import optimize\n",
    "from scipy.stats import pearsonr\n",
    "\n",
    "from sklearn.cluster import DBSCAN\n",
    "from sklearn.metrics import mean_squared_error\n",
    "\n",
    "import statsmodels.api as sm\n",
    "\n"
   ]
  },
  {
   "cell_type": "code",
   "execution_count": 4,
   "metadata": {},
   "outputs": [],
   "source": [
    "import logging\n",
    "\n",
    "#logging.basicConfig(level=logging.DEBUG)\n",
    "logging.basicConfig(level=logging.INFO)\n",
    "#logging.basicConfig(level=logging.WARNING)\n",
    "\n",
    "logger = logging.getLogger(\"main\")"
   ]
  },
  {
   "cell_type": "code",
   "execution_count": 5,
   "metadata": {},
   "outputs": [
    {
     "name": "stderr",
     "output_type": "stream",
     "text": [
      "INFO:main:Test info\n",
      "WARNING:main:Test warning\n"
     ]
    }
   ],
   "source": [
    "#logging.getLogger().setLevel(logging.DEBUG)\n",
    "logging.getLogger().setLevel(logging.INFO)\n",
    "#logging.getLogger().setLevel(logging.WARNING)\n",
    "logger.debug(\"Test debug\")\n",
    "logger.info(\"Test info\")\n",
    "logger.warning(\"Test warning\")"
   ]
  },
  {
   "cell_type": "code",
   "execution_count": 6,
   "metadata": {},
   "outputs": [],
   "source": [
    "from tutor.domain import Domain\n",
    "from tutor.curriculum_factory import CurriculumFactory\n",
    "from tutor.simple_curriculum import SimpleCurriculum\n",
    "from tutor.tutor import SimpleTutor\n",
    "from tutor.action import Attempt, HintRequest\n",
    "\n",
    "from learner.selfeff_learner import SelfEfficacyLearner\n",
    "from learner.modular_learner import ModularLearner\n",
    "from learner.binary_skill_cog import BinarySkillCognition\n",
    "from learner.cognition import *\n",
    "from learner.decider import *\n",
    "\n",
    "from simulate.modlearner_simulation import ModLearnerSimulation\n",
    "from simulate.simulation import SimulationBatch\n",
    "\n",
    "from analytics.batch import *\n",
    "from analytics.student_stats import StudentStatCalc\n",
    "from analytics.featurization import *\n",
    "from analytics.cae import *\n",
    "\n",
    "from log_db import mongo\n",
    "from log_db.curriculum_mapper import DB_Curriculum_Mapper\n",
    "from log_db.learner_mapper import DBLearnerMapper\n"
   ]
  },
  {
   "cell_type": "code",
   "execution_count": 7,
   "metadata": {},
   "outputs": [],
   "source": [
    "from CanonicalAutocorrelationAnalysis.model.caa import CAAComputation\n",
    "from CanonicalAutocorrelationAnalysis.model.caaObject import *\n",
    "from CanonicalAutocorrelationAnalysis.model.utils import l1Norm, l2Norm, r2Compute"
   ]
  },
  {
   "cell_type": "code",
   "execution_count": 8,
   "metadata": {},
   "outputs": [
    {
     "name": "stderr",
     "output_type": "stream",
     "text": [
      "INFO:analytics.cae:Base directory for the project:\n",
      "/rdata/Sandbox/MotivSim\n"
     ]
    }
   ],
   "source": [
    "# Get path to current project directory\n",
    "cwd = os.path.abspath(\".\")\n",
    "base_dir = os.path.abspath(os.path.join(cwd, os.pardir))\n",
    "logger.info(\"Base directory for the project:\\n%s\" % base_dir)"
   ]
  },
  {
   "cell_type": "code",
   "execution_count": 9,
   "metadata": {},
   "outputs": [
    {
     "name": "stderr",
     "output_type": "stream",
     "text": [
      "INFO:analytics.cae:Writing simulation results to directory: /rdata/Sandbox/MotivSim/test/data/sim-fb52fc5c-ee1a-4d18-89de-f96b8685a48b\n",
      "INFO:analytics.cae:got db params: {'settingId': 'motivsim', 'url': 'localhost', 'port': '27017', 'name': 'motivsim', 'user': '', 'pswd': ''}\n"
     ]
    }
   ],
   "source": [
    "# Setup connection to database\n",
    "data_out = \"sim-%s\" % str(uuid.uuid4())\n",
    "data_path = os.path.join(base_dir,\"test\", \"data\", data_out)\n",
    "logger.info(\"Writing simulation results to directory: %s\" % data_path)\n",
    "db_name = \"motivsim\"\n",
    "db_params  = mongo.get_db_params(db_name)\n",
    "logger.info(\"got db params: %s\" % str(db_params))\n",
    "db_util = mongo.Data_Utility(data_path, db_params)\n",
    "db = db_util.db"
   ]
  },
  {
   "cell_type": "code",
   "execution_count": 10,
   "metadata": {},
   "outputs": [
    {
     "name": "stderr",
     "output_type": "stream",
     "text": [
      "INFO:log_db.mongo:collection name, kcs, has 50 documents\n",
      "INFO:log_db.mongo:collection name, caa_batches, has 0 documents\n",
      "INFO:log_db.mongo:collection name, simbatches, has 1 documents\n",
      "INFO:log_db.mongo:collection name, caa_models, has 0 documents\n",
      "INFO:log_db.mongo:collection name, domains, has 1 documents\n",
      "INFO:log_db.mongo:collection name, students, has 2 documents\n",
      "INFO:log_db.mongo:collection name, units, has 2 documents\n",
      "INFO:log_db.mongo:collection name, decisions, has 6470 documents\n",
      "INFO:log_db.mongo:collection name, curriculums, has 1 documents\n",
      "INFO:log_db.mongo:collection name, steps, has 5785 documents\n",
      "INFO:log_db.mongo:collection name, finalsimstudents, has 2 documents\n",
      "INFO:log_db.mongo:collection name, problems, has 1387 documents\n",
      "INFO:log_db.mongo:collection name, actions, has 6470 documents\n",
      "INFO:log_db.mongo:collection name, sections, has 9 documents\n",
      "INFO:log_db.mongo:collection name, tutor_events, has 6156 documents\n"
     ]
    }
   ],
   "source": [
    "# Test db connection\n",
    "db_util.peak()"
   ]
  },
  {
   "cell_type": "markdown",
   "metadata": {},
   "source": [
    "# Test Ability KC Learner"
   ]
  },
  {
   "cell_type": "code",
   "execution_count": 11,
   "metadata": {},
   "outputs": [
    {
     "name": "stderr",
     "output_type": "stream",
     "text": [
      "INFO:analytics.cae:Clearing database before starting new simulation\n",
      "INFO:log_db.mongo:Clearing all documents from collection kcs\n",
      "INFO:log_db.mongo:Clearing all documents from collection caa_batches\n",
      "INFO:log_db.mongo:Clearing all documents from collection simbatches\n",
      "INFO:log_db.mongo:Clearing all documents from collection caa_models\n",
      "INFO:log_db.mongo:Clearing all documents from collection domains\n",
      "INFO:log_db.mongo:Clearing all documents from collection students\n",
      "INFO:log_db.mongo:Clearing all documents from collection units\n",
      "INFO:log_db.mongo:Clearing all documents from collection decisions\n",
      "INFO:log_db.mongo:Clearing all documents from collection curriculums\n",
      "INFO:log_db.mongo:Clearing all documents from collection steps\n",
      "INFO:log_db.mongo:Clearing all documents from collection finalsimstudents\n",
      "INFO:log_db.mongo:Clearing all documents from collection problems\n",
      "INFO:log_db.mongo:Clearing all documents from collection actions\n",
      "INFO:log_db.mongo:Clearing all documents from collection sections\n",
      "INFO:log_db.mongo:Clearing all documents from collection tutor_events\n"
     ]
    }
   ],
   "source": [
    "clear_db = True\n",
    "if clear_db:\n",
    "    logger.info(\"Clearing database before starting new simulation\")\n",
    "    db_util.clear_db()\n",
    "else:\n",
    "    logger.info(\"Skipping Clearing database\")"
   ]
  },
  {
   "cell_type": "markdown",
   "metadata": {},
   "source": [
    "## 1. Simulating learners"
   ]
  },
  {
   "cell_type": "markdown",
   "metadata": {},
   "source": [
    "### Helpers"
   ]
  },
  {
   "cell_type": "code",
   "execution_count": 12,
   "metadata": {},
   "outputs": [],
   "source": [
    "\n",
    "\n",
    "def gen_students(num_students, domain, curric, \n",
    "                 cog_mod, cog_params, dec_mod, dec_params):\n",
    "    stus = []\n",
    "    for i in range(num_students):\n",
    "        cp = cog_params()\n",
    "        cog = cog_mod(domain, **cp)\n",
    "        dp = dec_params()\n",
    "        dec = dec_mod(**dp)\n",
    "        decider = DiligentDecider(dec)\n",
    "        stu = ModularLearner(domain, cog, decider)\n",
    "        stus.append(stu)\n",
    "        \n",
    "    return stus\n",
    "\n",
    "def simulate_students(domain, curric, students, batch):    \n",
    "    for i, stu in enumerate(students):\n",
    "        logger.info(\"Simulating student #%i\" % i)\n",
    "        sim = ModLearnerSimulation(domain, curric, stu)\n",
    "        batch.add_sim(sim)\n",
    "        sim.run()\n",
    "        \n",
    "    logger.info(\"Inserting %i simulated students to db\" % len(students))\n",
    "    result = db.finalsimstudents.insert_many([stu.to_dict() for stu in students])\n",
    "    logger.info(\"Db insert success: %s\" % result.acknowledged)\n",
    "\n",
    "    logger.info(\"Inserting simulation batch to db\")\n",
    "    result = db.simbatches.insert_one(batch.to_dict())\n",
    "    logger.info(\"Db insert success: %s\" % result.acknowledged)\n",
    "\n",
    "    return batch, students\n"
   ]
  },
  {
   "cell_type": "code",
   "execution_count": 13,
   "metadata": {},
   "outputs": [],
   "source": [
    "new_curric = None\n",
    "new_domain = None"
   ]
  },
  {
   "cell_type": "code",
   "execution_count": 14,
   "metadata": {},
   "outputs": [],
   "source": [
    "def gen_test_curric(db, db_params):\n",
    "    global new_curric, new_domain\n",
    "    if new_curric is None:\n",
    "        logger.info(\"Generating new curriculum\")\n",
    "        domain_params = {'m_l0': 0.45,\n",
    "                         'sd_l0': 0.155,\n",
    "                         'm_l0_sd': 0.1,\n",
    "                         'sd_l0_sd': 0.03,\n",
    "                         'm_t': 0.1,\n",
    "                         'sd_t': 0.05,\n",
    "                         'm_s': 0.155,\n",
    "                         'sd_s': 0.055,\n",
    "                         'm_g': 0.15,#0.6,\n",
    "                         'sd_g': 0.105\n",
    "                        }\n",
    "        curric_params = {'num_units': 2,\n",
    "                         'mean_sections': 4,\n",
    "                         'stdev_sections': 2,\n",
    "                         'mean_unit_kcs': 22,\n",
    "                         'stdev_unit_kcs': 23,\n",
    "                         'section_kcs_lambda': 6,\n",
    "                         'mean_steps': 10,\n",
    "                         'stdev_steps': 4,\n",
    "                         'mean_prob_kcs': 6,\n",
    "                         'stdev_prob_kcs': 3,\n",
    "                         'num_practice': 100\n",
    "                        }\n",
    "\n",
    "        domain, curric = CurriculumFactory.gen_curriculum(domain_params, curric_params)\n",
    "        db.domains.insert_one(domain.to_dict())\n",
    "        db.kcs.insert_many([kc.__dict__ for kc in domain.kcs])\n",
    "        curric_util = DB_Curriculum_Mapper(db_params)\n",
    "        curric_util.write_to_db(curric)\n",
    "        \n",
    "        new_curric = curric\n",
    "        new_domain = domain\n",
    "\n",
    "        return domain, curric\n",
    "    else:\n",
    "        logger.info(\"New curriculum already generated\")\n",
    "        return new_domain, new_curric"
   ]
  },
  {
   "cell_type": "markdown",
   "metadata": {},
   "source": [
    "### Simulating Students"
   ]
  },
  {
   "cell_type": "code",
   "execution_count": 15,
   "metadata": {},
   "outputs": [],
   "source": [
    "num_students = 2"
   ]
  },
  {
   "cell_type": "code",
   "execution_count": 16,
   "metadata": {},
   "outputs": [],
   "source": [
    "sim_batch_desc = \"Test Bias Skill Cognition Learners\"\n",
    "cog_mod = BiasSkillCognition\n",
    "dec_mod = DomainTunerDecider\n",
    "def get_cog_params():\n",
    "    # Helper for getting parameters for BiasSkillCognition Module\n",
    "    return {'ability': random.triangular(-1,1)}\n",
    "\n",
    "def get_dec_params():\n",
    "    return {}"
   ]
  },
  {
   "cell_type": "code",
   "execution_count": 17,
   "metadata": {},
   "outputs": [
    {
     "name": "stderr",
     "output_type": "stream",
     "text": [
      "INFO:analytics.cae:Generating new simulation. None found in db\n",
      "INFO:analytics.cae:Generating new curriculum\n",
      "INFO:tutor.cogtutor_curriculum:Generated 2 units with with a total of 52 kcs\n",
      "INFO:log_db.curriculum_mapper:Writing curriculum with id, 02ae9c48-421f-4c31-9d75-56cb64821028, to db\n",
      "INFO:log_db.curriculum_mapper:Writing 1517 problem to db\n",
      "INFO:log_db.curriculum_mapper:Writing 6059 steps to db\n",
      "INFO:analytics.cae:Persisting 2 initialized students to db\n",
      "INFO:analytics.cae:Simulating student #0\n",
      "INFO:simulate.simulation:Starting simulation. Logging student into new session\n",
      "INFO:tutor.tutor:Completed last unit. No more units in curriculum\n",
      "INFO:simulate.simulation:Ending simulation. Logging out of active session\n",
      "INFO:analytics.cae:Simulating student #1\n",
      "INFO:simulate.simulation:Starting simulation. Logging student into new session\n",
      "INFO:tutor.tutor:Completed last unit. No more units in curriculum\n",
      "INFO:simulate.simulation:Ending simulation. Logging out of active session\n",
      "INFO:analytics.cae:Inserting 2 simulated students to db\n",
      "INFO:analytics.cae:Db insert success: True\n",
      "INFO:analytics.cae:Inserting simulation batch to db\n",
      "INFO:analytics.cae:Db insert success: True\n",
      "INFO:analytics.cae:Simulated 2 in batch with id: d29911d6-aade-40b1-beea-011f285b259f\n"
     ]
    }
   ],
   "source": [
    "simbatch = db.simbatches.find_one({\"desc\": sim_batch_desc})\n",
    "if simbatch is None:\n",
    "    logger.info(\"Generating new simulation. None found in db\")\n",
    "\n",
    "    # generate simualted data for test\n",
    "    domain, curric = gen_test_curric(db, db_params)\n",
    "    students = gen_students(num_students, domain, curric, \n",
    "                            cog_mod, get_cog_params, \n",
    "                            dec_mod, get_dec_params) \n",
    "    logger.info(f\"Persisting {len(students)} initialized students to db\")\n",
    "    db.students.insert_many([stu.to_dict() for stu in students])\n",
    "    batch = SimulationBatch(sim_batch_desc)\n",
    "    simulate_students(domain, curric, students, batch)    \n",
    "    logger.info(f\"Simulated {len(students)} in batch with id: {batch._id}\")\n",
    "else:\n",
    "    logger.info(f\"Found simulation batch: {str(simbatch)}\")\n",
    "    lmapper = DBLearnerMapper(db)\n",
    "    students = [lmapper.get_modlearner_from_db(sid) for sid in simbatch['student_ids']]\n",
    "    batch = SimulationBatch.from_dict(simbatch)\n",
    "    logger.info(f\"Recovered {len(students)} students from batch with id: {batch._id}\")\n"
   ]
  },
  {
   "cell_type": "markdown",
   "metadata": {},
   "source": [
    "## 2. EDA of simulated Data"
   ]
  },
  {
   "cell_type": "markdown",
   "metadata": {},
   "source": [
    "### Helper Functions"
   ]
  },
  {
   "cell_type": "code",
   "execution_count": 18,
   "metadata": {},
   "outputs": [],
   "source": [
    "def get_stu_parameters(sids, db, mastery_thres):\n",
    "        presim_students = pd.DataFrame(db.students.find({\"_id\": {'$in':  sids}}))\n",
    "        sim_students = pd.DataFrame(db.finalsimstudents.find({\"_id\": {'$in':  sids}}))\n",
    "        sim_students.rename(columns={'skills': 'final skills',\n",
    "                                     'total_attempts': 'final total attempts',\n",
    "                                     'total_success': 'final total success'}, inplace=True)\n",
    "        logger.debug(\"pre-sim students: %s\" % str(presim_students.shape))\n",
    "        logger.debug(\"post-sim students: %s\" % str(sim_students.shape))\n",
    "\n",
    "        sim_students = presim_students.merge(sim_students[['_id', 'final skills', 'final total attempts', 'final total success']], how='right', on=['_id'])\n",
    "        sim_students['pre-sim total mastery'] = sim_students.apply(lambda x: np.sum([1 if d >= mastery_thres else 0 for d in list(x['skills'].values())]), axis=1)\n",
    "        sim_students['final-sim total mastery'] = sim_students.apply(lambda x: np.sum([1 if d >= mastery_thres else 0 for d in list(x['final skills'].values())]), axis=1)\n",
    "        sim_students['total skills'] = sim_students.apply(lambda x: len(list(x['skills'].values())), axis=1)\n",
    "        sim_students['pre-sim pct mastery'] = sim_students.apply(lambda x: x['pre-sim total mastery'] / x['total skills'], axis=1)\n",
    "        sim_students['final-sim pct mastery'] = sim_students.apply(lambda x: x['final-sim total mastery'] / x['total skills'], axis=1)\n",
    "        sim_students['final-sim total unmastered'] = sim_students.apply(lambda x: x['total skills'] - x['final-sim total mastery'], axis=1)\n",
    "        sim_students['pct success'] = sim_students.apply(lambda x: x['final total success'] / x['final total attempts'], axis=1)\n",
    "\n",
    "        sim_students['values'] = sim_students.apply(lambda x: x['decider']['values'], axis=1)\n",
    "        sim_students['diligence'] = sim_students.apply(lambda x: x['decider']['diligence'], axis=1)\n",
    "        sim_students['cog_ability'] = sim_students.apply(lambda x: x['cog']['ability'], axis=1)\n",
    "        sim_students.index = sim_students['_id']\n",
    "        sim_students.drop(['_id'], axis=1, inplace=True)\n",
    "        return sim_students"
   ]
  },
  {
   "cell_type": "code",
   "execution_count": 19,
   "metadata": {},
   "outputs": [
    {
     "name": "stderr",
     "output_type": "stream",
     "text": [
      "INFO:analytics.cae:batch #0: \n",
      "ID: d29911d6-aade-40b1-beea-011f285b259f\n",
      "desc: Test Bias Skill Cognition Learners\n",
      "INFO:analytics.cae:recovered 2 student ids for batch Test Bias Skill Cognition Learners\n"
     ]
    }
   ],
   "source": [
    "# Get students batches\n",
    "batches = [batch for batch in db.simbatches.find()]\n",
    "batch_desc = [\"Test Bias Skill Cognition Learners\"]\n",
    "sids_dict = {desc: [] for desc in batch_desc}\n",
    "for i, batch in enumerate(batches):\n",
    "    logger.info(f\"batch #{i}: \\nID: {batch['_id']}\\ndesc: {batch['desc']}\")\n",
    "    if batch['desc'] in batch_desc:\n",
    "        logger.info(f\"recovered {len(batch['student_ids'])} student ids for batch {batch['desc']}\")\n",
    "        sids_dict[batch['desc']].append(batch['student_ids'])"
   ]
  },
  {
   "cell_type": "markdown",
   "metadata": {},
   "source": [
    "#### Student Parameters"
   ]
  },
  {
   "cell_type": "code",
   "execution_count": 20,
   "metadata": {},
   "outputs": [],
   "source": [
    "sids = sids_dict[batch_desc[0]][0]"
   ]
  },
  {
   "cell_type": "code",
   "execution_count": 21,
   "metadata": {},
   "outputs": [],
   "source": [
    "calc = StudentStatCalc(db)\n",
    "batch_calc = BatchCalculator()"
   ]
  },
  {
   "cell_type": "code",
   "execution_count": 22,
   "metadata": {},
   "outputs": [
    {
     "name": "stderr",
     "output_type": "stream",
     "text": [
      "INFO:analytics.cae:Calculated student params: (2, 24)\tRuntime: 0.02883 seconds\n"
     ]
    }
   ],
   "source": [
    "mastery_thres = 0.9\n",
    "args = [get_stu_parameters, sids, 10, [db, mastery_thres]]\n",
    "sim_students, runtime = batch_calc.time_calc(batch_calc.batch_calc, args)\n",
    "logger.info(f\"Calculated student params: {sim_students.shape}\\tRuntime: {runtime} seconds\")"
   ]
  },
  {
   "cell_type": "code",
   "execution_count": 23,
   "metadata": {},
   "outputs": [
    {
     "name": "stderr",
     "output_type": "stream",
     "text": [
      "INFO:analytics.cae:Calculated student action stats: (2, 9)\tRuntime: 0.310313 seconds\n"
     ]
    }
   ],
   "source": [
    "args = [calc.action_stats, sids, 10]\n",
    "action_dist, runtime = batch_calc.time_calc(batch_calc.batch_calc, args)\n",
    "logger.info(f\"Calculated student action stats: {action_dist.shape}\\tRuntime: {runtime} seconds\")"
   ]
  },
  {
   "cell_type": "code",
   "execution_count": 24,
   "metadata": {},
   "outputs": [
    {
     "name": "stderr",
     "output_type": "stream",
     "text": [
      "INFO:analytics.cae:Calculated student activity stats: (2, 9)\tRuntime: 0.220157 seconds\n"
     ]
    }
   ],
   "source": [
    "args = [calc.total_tx_stats, sids, 10]\n",
    "tx_stats, runtime = batch_calc.time_calc(batch_calc.batch_calc, args)\n",
    "logger.info(f\"Calculated student activity stats: {tx_stats.shape}\\tRuntime: {runtime} seconds\")"
   ]
  },
  {
   "cell_type": "code",
   "execution_count": 25,
   "metadata": {},
   "outputs": [
    {
     "name": "stderr",
     "output_type": "stream",
     "text": [
      "INFO:analytics.cae:Merged new stats together: (2, 42)\n"
     ]
    }
   ],
   "source": [
    "    \n",
    "stu_stats = pd.concat([sim_students, action_dist, tx_stats], axis=1)\n",
    "logger.info(f\"Merged new stats together: {stu_stats.shape}\")"
   ]
  },
  {
   "cell_type": "code",
   "execution_count": 26,
   "metadata": {},
   "outputs": [
    {
     "data": {
      "text/html": [
       "<div>\n",
       "<style scoped>\n",
       "    .dataframe tbody tr th:only-of-type {\n",
       "        vertical-align: middle;\n",
       "    }\n",
       "\n",
       "    .dataframe tbody tr th {\n",
       "        vertical-align: top;\n",
       "    }\n",
       "\n",
       "    .dataframe thead th {\n",
       "        text-align: right;\n",
       "    }\n",
       "</style>\n",
       "<table border=\"1\" class=\"dataframe\">\n",
       "  <thead>\n",
       "    <tr style=\"text-align: right;\">\n",
       "      <th></th>\n",
       "      <th>domain_id</th>\n",
       "      <th>type</th>\n",
       "      <th>skills</th>\n",
       "      <th>min_off_task</th>\n",
       "      <th>max_off_task</th>\n",
       "      <th>mean_guess_time</th>\n",
       "      <th>sd_guess_time</th>\n",
       "      <th>cog</th>\n",
       "      <th>decider</th>\n",
       "      <th>total_attempts</th>\n",
       "      <th>...</th>\n",
       "      <th>pre-sim total mastery</th>\n",
       "      <th>final-sim total mastery</th>\n",
       "      <th>total skills</th>\n",
       "      <th>pre-sim pct mastery</th>\n",
       "      <th>final-sim pct mastery</th>\n",
       "      <th>final-sim total unmastered</th>\n",
       "      <th>pct success</th>\n",
       "      <th>values</th>\n",
       "      <th>diligence</th>\n",
       "      <th>cog_ability</th>\n",
       "    </tr>\n",
       "    <tr>\n",
       "      <th>_id</th>\n",
       "      <th></th>\n",
       "      <th></th>\n",
       "      <th></th>\n",
       "      <th></th>\n",
       "      <th></th>\n",
       "      <th></th>\n",
       "      <th></th>\n",
       "      <th></th>\n",
       "      <th></th>\n",
       "      <th></th>\n",
       "      <th></th>\n",
       "      <th></th>\n",
       "      <th></th>\n",
       "      <th></th>\n",
       "      <th></th>\n",
       "      <th></th>\n",
       "      <th></th>\n",
       "      <th></th>\n",
       "      <th></th>\n",
       "      <th></th>\n",
       "      <th></th>\n",
       "    </tr>\n",
       "  </thead>\n",
       "  <tbody>\n",
       "    <tr>\n",
       "      <th>1a31e0b9-1927-4ae6-84c4-85df36f75cb3</th>\n",
       "      <td>299841cf-ca94-42c7-beca-473925ab9ad9</td>\n",
       "      <td>Modular Learner</td>\n",
       "      <td>{'b005cd94-2368-4622-9fc3-b76d6dc90bf8': False...</td>\n",
       "      <td>30</td>\n",
       "      <td>1800</td>\n",
       "      <td>3</td>\n",
       "      <td>1</td>\n",
       "      <td>{'ability': -0.19039087581115288, 'domain_id':...</td>\n",
       "      <td>{'type': 'DomainTunerDecider', 'values': {'att...</td>\n",
       "      <td>0</td>\n",
       "      <td>...</td>\n",
       "      <td>23</td>\n",
       "      <td>52</td>\n",
       "      <td>52</td>\n",
       "      <td>0.442308</td>\n",
       "      <td>1.0</td>\n",
       "      <td>0</td>\n",
       "      <td>0.533793</td>\n",
       "      <td>{'attempt': 10, 'guess': 2.5, 'hint request': ...</td>\n",
       "      <td>2.581700</td>\n",
       "      <td>-0.190391</td>\n",
       "    </tr>\n",
       "    <tr>\n",
       "      <th>ec6bf9c5-966d-4ad7-b117-8861e5274471</th>\n",
       "      <td>299841cf-ca94-42c7-beca-473925ab9ad9</td>\n",
       "      <td>Modular Learner</td>\n",
       "      <td>{'b005cd94-2368-4622-9fc3-b76d6dc90bf8': True,...</td>\n",
       "      <td>30</td>\n",
       "      <td>1800</td>\n",
       "      <td>3</td>\n",
       "      <td>1</td>\n",
       "      <td>{'ability': -0.4382420199688021, 'domain_id': ...</td>\n",
       "      <td>{'type': 'DomainTunerDecider', 'values': {'att...</td>\n",
       "      <td>0</td>\n",
       "      <td>...</td>\n",
       "      <td>26</td>\n",
       "      <td>52</td>\n",
       "      <td>52</td>\n",
       "      <td>0.500000</td>\n",
       "      <td>1.0</td>\n",
       "      <td>0</td>\n",
       "      <td>0.524924</td>\n",
       "      <td>{'attempt': 10, 'guess': 2.5, 'hint request': ...</td>\n",
       "      <td>1.645863</td>\n",
       "      <td>-0.438242</td>\n",
       "    </tr>\n",
       "  </tbody>\n",
       "</table>\n",
       "<p>2 rows × 24 columns</p>\n",
       "</div>"
      ],
      "text/plain": [
       "                                                                 domain_id  \\\n",
       "_id                                                                          \n",
       "1a31e0b9-1927-4ae6-84c4-85df36f75cb3  299841cf-ca94-42c7-beca-473925ab9ad9   \n",
       "ec6bf9c5-966d-4ad7-b117-8861e5274471  299841cf-ca94-42c7-beca-473925ab9ad9   \n",
       "\n",
       "                                                 type  \\\n",
       "_id                                                     \n",
       "1a31e0b9-1927-4ae6-84c4-85df36f75cb3  Modular Learner   \n",
       "ec6bf9c5-966d-4ad7-b117-8861e5274471  Modular Learner   \n",
       "\n",
       "                                                                                 skills  \\\n",
       "_id                                                                                       \n",
       "1a31e0b9-1927-4ae6-84c4-85df36f75cb3  {'b005cd94-2368-4622-9fc3-b76d6dc90bf8': False...   \n",
       "ec6bf9c5-966d-4ad7-b117-8861e5274471  {'b005cd94-2368-4622-9fc3-b76d6dc90bf8': True,...   \n",
       "\n",
       "                                      min_off_task  max_off_task  \\\n",
       "_id                                                                \n",
       "1a31e0b9-1927-4ae6-84c4-85df36f75cb3            30          1800   \n",
       "ec6bf9c5-966d-4ad7-b117-8861e5274471            30          1800   \n",
       "\n",
       "                                      mean_guess_time  sd_guess_time  \\\n",
       "_id                                                                    \n",
       "1a31e0b9-1927-4ae6-84c4-85df36f75cb3                3              1   \n",
       "ec6bf9c5-966d-4ad7-b117-8861e5274471                3              1   \n",
       "\n",
       "                                                                                    cog  \\\n",
       "_id                                                                                       \n",
       "1a31e0b9-1927-4ae6-84c4-85df36f75cb3  {'ability': -0.19039087581115288, 'domain_id':...   \n",
       "ec6bf9c5-966d-4ad7-b117-8861e5274471  {'ability': -0.4382420199688021, 'domain_id': ...   \n",
       "\n",
       "                                                                                decider  \\\n",
       "_id                                                                                       \n",
       "1a31e0b9-1927-4ae6-84c4-85df36f75cb3  {'type': 'DomainTunerDecider', 'values': {'att...   \n",
       "ec6bf9c5-966d-4ad7-b117-8861e5274471  {'type': 'DomainTunerDecider', 'values': {'att...   \n",
       "\n",
       "                                      total_attempts  ...  \\\n",
       "_id                                                   ...   \n",
       "1a31e0b9-1927-4ae6-84c4-85df36f75cb3               0  ...   \n",
       "ec6bf9c5-966d-4ad7-b117-8861e5274471               0  ...   \n",
       "\n",
       "                                      pre-sim total mastery  \\\n",
       "_id                                                           \n",
       "1a31e0b9-1927-4ae6-84c4-85df36f75cb3                     23   \n",
       "ec6bf9c5-966d-4ad7-b117-8861e5274471                     26   \n",
       "\n",
       "                                     final-sim total mastery  total skills  \\\n",
       "_id                                                                          \n",
       "1a31e0b9-1927-4ae6-84c4-85df36f75cb3                      52            52   \n",
       "ec6bf9c5-966d-4ad7-b117-8861e5274471                      52            52   \n",
       "\n",
       "                                      pre-sim pct mastery  \\\n",
       "_id                                                         \n",
       "1a31e0b9-1927-4ae6-84c4-85df36f75cb3             0.442308   \n",
       "ec6bf9c5-966d-4ad7-b117-8861e5274471             0.500000   \n",
       "\n",
       "                                      final-sim pct mastery  \\\n",
       "_id                                                           \n",
       "1a31e0b9-1927-4ae6-84c4-85df36f75cb3                    1.0   \n",
       "ec6bf9c5-966d-4ad7-b117-8861e5274471                    1.0   \n",
       "\n",
       "                                      final-sim total unmastered  pct success  \\\n",
       "_id                                                                             \n",
       "1a31e0b9-1927-4ae6-84c4-85df36f75cb3                           0     0.533793   \n",
       "ec6bf9c5-966d-4ad7-b117-8861e5274471                           0     0.524924   \n",
       "\n",
       "                                                                                 values  \\\n",
       "_id                                                                                       \n",
       "1a31e0b9-1927-4ae6-84c4-85df36f75cb3  {'attempt': 10, 'guess': 2.5, 'hint request': ...   \n",
       "ec6bf9c5-966d-4ad7-b117-8861e5274471  {'attempt': 10, 'guess': 2.5, 'hint request': ...   \n",
       "\n",
       "                                      diligence  cog_ability  \n",
       "_id                                                           \n",
       "1a31e0b9-1927-4ae6-84c4-85df36f75cb3   2.581700    -0.190391  \n",
       "ec6bf9c5-966d-4ad7-b117-8861e5274471   1.645863    -0.438242  \n",
       "\n",
       "[2 rows x 24 columns]"
      ]
     },
     "execution_count": 26,
     "metadata": {},
     "output_type": "execute_result"
    }
   ],
   "source": [
    "\n",
    "sim_students.head()"
   ]
  },
  {
   "cell_type": "code",
   "execution_count": 27,
   "metadata": {},
   "outputs": [
    {
     "data": {
      "image/png": "[encoded data removed]",
      "text/plain": [
       "<Figure size 720x144 with 4 Axes>"
      ]
     },
     "metadata": {
      "needs_background": "light"
     },
     "output_type": "display_data"
    },
    {
     "name": "stderr",
     "output_type": "stream",
     "text": [
      "INFO:analytics.cae:Total skills: 52\n"
     ]
    }
   ],
   "source": [
    "# Plot mastery\n",
    "plt.figure(figsize=(10,2))\n",
    "plt.subplot(141)\n",
    "plt.hist(sim_students['pre-sim pct mastery'], bins=10)\n",
    "plt.title(\"pre-sim pct mastery\")\n",
    "\n",
    "plt.subplot(142)\n",
    "plt.hist(sim_students['final-sim pct mastery'], bins=10)\n",
    "plt.title(\"final-sim pct mastery\")\n",
    "\n",
    "plt.subplot(143)\n",
    "plt.hist(sim_students['final-sim total unmastered'], bins=10)\n",
    "plt.title(\"final-sim total unmastered\")\n",
    "\n",
    "plt.subplot(144)\n",
    "plt.hist(sim_students['cog_ability'], bins=10)\n",
    "plt.title(\"Cognitive Ability\")\n",
    "\n",
    "plt.show()\n",
    "\n",
    "logger.info(\"Total skills: %i\" % sim_students['total skills'][0])\n"
   ]
  },
  {
   "cell_type": "code",
   "execution_count": 28,
   "metadata": {},
   "outputs": [
    {
     "name": "stdout",
     "output_type": "stream",
     "text": [
      "0: attempt\n",
      "1: guess\n",
      "2: hint request\n",
      "3: off task\n"
     ]
    },
    {
     "data": {
      "image/png": "[encoded data removed]",
      "text/plain": [
       "<Figure size 576x504 with 4 Axes>"
      ]
     },
     "metadata": {
      "needs_background": "light"
     },
     "output_type": "display_data"
    },
    {
     "data": {
      "image/png": "[encoded data removed]",
      "text/plain": [
       "<Figure size 288x216 with 1 Axes>"
      ]
     },
     "metadata": {
      "needs_background": "light"
     },
     "output_type": "display_data"
    }
   ],
   "source": [
    "# Plot Values & Diligence\n",
    "plt.figure(figsize=(8,7))\n",
    "for i,val in enumerate(sim_students['values'][0].keys()):\n",
    "    print(\"%i: %s\" % (i, val))\n",
    "    plt.subplot(2,2,i+1)\n",
    "    plt.hist(sim_students['values'].apply(lambda x: x[val]), bins=10)\n",
    "    plt.title('Student value for %s' % val)\n",
    "\n",
    "plt.show()\n",
    "\n",
    "plt.figure(figsize=(4,3))\n",
    "plt.hist(sim_students['diligence'], bins=10)\n",
    "plt.title(\"Diligence\")\n",
    "plt.show()\n",
    "\n"
   ]
  },
  {
   "cell_type": "markdown",
   "metadata": {},
   "source": [
    "#### Learner Decisions EDA"
   ]
  },
  {
   "cell_type": "code",
   "execution_count": 29,
   "metadata": {},
   "outputs": [
    {
     "ename": "NameError",
     "evalue": "name 'sid' is not defined",
     "output_type": "error",
     "traceback": [
      "\u001b[0;31m---------------------------------------------------------------------------\u001b[0m",
      "\u001b[0;31mNameError\u001b[0m                                 Traceback (most recent call last)",
      "\u001b[0;32m<ipython-input-29-23d55d6bc72c>\u001b[0m in \u001b[0;36m<module>\u001b[0;34m\u001b[0m\n\u001b[1;32m      3\u001b[0m     \u001b[0mdecisions\u001b[0m \u001b[0;34m=\u001b[0m \u001b[0mpd\u001b[0m\u001b[0;34m.\u001b[0m\u001b[0mDataFrame\u001b[0m\u001b[0;34m(\u001b[0m\u001b[0mdb\u001b[0m\u001b[0;34m.\u001b[0m\u001b[0mdecisions\u001b[0m\u001b[0;34m.\u001b[0m\u001b[0mfind\u001b[0m\u001b[0;34m(\u001b[0m\u001b[0;34m{\u001b[0m\u001b[0;34m\"student_id\"\u001b[0m\u001b[0;34m:\u001b[0m \u001b[0;34m{\u001b[0m\u001b[0;34m'$in'\u001b[0m\u001b[0;34m:\u001b[0m \u001b[0;34m[\u001b[0m\u001b[0mstu\u001b[0m\u001b[0;34m.\u001b[0m\u001b[0m_id\u001b[0m \u001b[0;32mfor\u001b[0m \u001b[0mstu\u001b[0m \u001b[0;32min\u001b[0m \u001b[0mstus_1\u001b[0m\u001b[0;34m]\u001b[0m\u001b[0;34m}\u001b[0m\u001b[0;34m}\u001b[0m\u001b[0;34m)\u001b[0m\u001b[0;34m)\u001b[0m\u001b[0;34m\u001b[0m\u001b[0;34m\u001b[0m\u001b[0m\n\u001b[1;32m      4\u001b[0m \u001b[0;32melse\u001b[0m\u001b[0;34m:\u001b[0m\u001b[0;34m\u001b[0m\u001b[0;34m\u001b[0m\u001b[0m\n\u001b[0;32m----> 5\u001b[0;31m     \u001b[0mdecisions\u001b[0m \u001b[0;34m=\u001b[0m \u001b[0mpd\u001b[0m\u001b[0;34m.\u001b[0m\u001b[0mDataFrame\u001b[0m\u001b[0;34m(\u001b[0m\u001b[0mdb\u001b[0m\u001b[0;34m.\u001b[0m\u001b[0mdecisions\u001b[0m\u001b[0;34m.\u001b[0m\u001b[0mfind\u001b[0m\u001b[0;34m(\u001b[0m\u001b[0;34m{\u001b[0m\u001b[0;34m\"student_id\"\u001b[0m\u001b[0;34m:\u001b[0m \u001b[0;34m{\u001b[0m\u001b[0;34m'$in'\u001b[0m\u001b[0;34m:\u001b[0m \u001b[0msid\u001b[0m\u001b[0;34m}\u001b[0m\u001b[0;34m}\u001b[0m\u001b[0;34m)\u001b[0m\u001b[0;34m)\u001b[0m\u001b[0;34m\u001b[0m\u001b[0;34m\u001b[0m\u001b[0m\n\u001b[0m\u001b[1;32m      6\u001b[0m \u001b[0mdecisions\u001b[0m\u001b[0;34m[\u001b[0m\u001b[0;34m'learner_knowledge'\u001b[0m\u001b[0;34m]\u001b[0m \u001b[0;34m=\u001b[0m \u001b[0mdecisions\u001b[0m\u001b[0;34m[\u001b[0m\u001b[0;34m'learner_knowledge'\u001b[0m\u001b[0;34m]\u001b[0m\u001b[0;34m.\u001b[0m\u001b[0mapply\u001b[0m\u001b[0;34m(\u001b[0m\u001b[0;32mlambda\u001b[0m \u001b[0mx\u001b[0m\u001b[0;34m:\u001b[0m \u001b[0mx\u001b[0m\u001b[0;34m[\u001b[0m\u001b[0;36m0\u001b[0m\u001b[0;34m]\u001b[0m \u001b[0;32mif\u001b[0m \u001b[0misinstance\u001b[0m\u001b[0;34m(\u001b[0m\u001b[0mx\u001b[0m\u001b[0;34m,\u001b[0m \u001b[0mIterable\u001b[0m\u001b[0;34m)\u001b[0m \u001b[0;32melse\u001b[0m \u001b[0mx\u001b[0m\u001b[0;34m)\u001b[0m\u001b[0;34m\u001b[0m\u001b[0;34m\u001b[0m\u001b[0m\n\u001b[1;32m      7\u001b[0m \u001b[0mdecisions\u001b[0m\u001b[0;34m[\u001b[0m\u001b[0;34m'kcid'\u001b[0m\u001b[0;34m]\u001b[0m \u001b[0;34m=\u001b[0m \u001b[0mdecisions\u001b[0m\u001b[0;34m[\u001b[0m\u001b[0;34m'kc'\u001b[0m\u001b[0;34m]\u001b[0m\u001b[0;34m.\u001b[0m\u001b[0mapply\u001b[0m\u001b[0;34m(\u001b[0m\u001b[0;32mlambda\u001b[0m \u001b[0mx\u001b[0m\u001b[0;34m:\u001b[0m \u001b[0mx\u001b[0m\u001b[0;34m[\u001b[0m\u001b[0;34m'_id'\u001b[0m\u001b[0;34m]\u001b[0m\u001b[0;34m)\u001b[0m\u001b[0;34m\u001b[0m\u001b[0;34m\u001b[0m\u001b[0m\n",
      "\u001b[0;31mNameError\u001b[0m: name 'sid' is not defined"
     ]
    }
   ],
   "source": [
    "# Get Learner decisions\n",
    "if \"stus_1\" in globals():\n",
    "    decisions = pd.DataFrame(db.decisions.find({\"student_id\": {'$in': [stu._id for stu in stus_1]}}))\n",
    "else:\n",
    "    decisions = pd.DataFrame(db.decisions.find({\"student_id\": {'$in': sid}}))\n",
    "decisions['learner_knowledge'] = decisions['learner_knowledge'].apply(lambda x: x[0] if isinstance(x, Iterable) else x)\n",
    "decisions['kcid'] = decisions['kc'].apply(lambda x: x['_id'])\n",
    "decisions.head()"
   ]
  },
  {
   "cell_type": "markdown",
   "metadata": {},
   "source": [
    "#### Learner Actions EDA"
   ]
  },
  {
   "cell_type": "code",
   "execution_count": null,
   "metadata": {},
   "outputs": [],
   "source": [
    "action_dist.head()"
   ]
  },
  {
   "cell_type": "code",
   "execution_count": null,
   "metadata": {},
   "outputs": [],
   "source": [
    "plt.figure(figsize=(10,2))\n",
    "plt.subplot(141)\n",
    "plt.hist(action_dist['Pct Attempt'], bins=10)\n",
    "plt.title(\"Pct Attempt\")\n",
    "\n",
    "plt.subplot(142)\n",
    "plt.hist(action_dist['Pct Guess'], bins=10)\n",
    "plt.title(\"Pct Guess\")\n",
    "\n",
    "plt.subplot(143)\n",
    "plt.hist(action_dist['Pct Hint Request'], bins=10)\n",
    "plt.title(\"Pct Hint Request\")\n",
    "\n",
    "plt.subplot(144)\n",
    "plt.hist(action_dist['Pct Off Task'], bins=10)\n",
    "plt.title(\"Pct Off Task\")\n",
    "\n",
    "plt.show()"
   ]
  },
  {
   "cell_type": "markdown",
   "metadata": {},
   "source": [
    "#### Learner Transactions EDA"
   ]
  },
  {
   "cell_type": "code",
   "execution_count": null,
   "metadata": {},
   "outputs": [],
   "source": [
    "args = [db, get_tx_fields, sid, 10]\n",
    "tx, runtime = time_calc(batch_calc, args)\n",
    "logger.info(f\"Extracted tx for set of students in {runtime} seconds: {tx.shape}\")"
   ]
  },
  {
   "cell_type": "code",
   "execution_count": null,
   "metadata": {},
   "outputs": [],
   "source": [
    "step_stats = tx.groupby(['stu_id', 'unit_id', 'section_id', 'prob_id', 'step_id'])['duration'].agg(['sum', 'count']).reset_index()\n",
    "stu_prob_stats = step_stats.groupby('stu_id')['count'].describe()\n",
    "stu_prob_stats.columns = [\"Step Attempt %s\" % col for col in stu_prob_stats.columns]\n",
    "d = step_stats.groupby('stu_id')['sum'].describe()\n",
    "d.columns = [\"Step Duration %s\" % col for col in d.columns]\n",
    "stu_prob_stats = pd.concat([stu_prob_stats, d], axis=1)\n",
    "stu_prob_stats.head()\n",
    "\n",
    "# kc_stats = tx[['stu_id', 'kc', 'step_id']].drop_duplicates().groupby(['stu_id', 'kc']).count()\n",
    "stu_kc_stats = tx[['stu_id', 'kc', 'step_id']].drop_duplicates().groupby(['stu_id', 'kc']).count().reset_index()\n",
    "stu_kc_stats.rename(columns={'step_id': 'kc opportunities'}, inplace=True)\n",
    "kc_stats = stu_kc_stats.groupby('kc').describe()"
   ]
  },
  {
   "cell_type": "code",
   "execution_count": null,
   "metadata": {},
   "outputs": [],
   "source": [
    "plt.figure(figsize=(10,2))\n",
    "plt.subplot(121)\n",
    "plt.hist(tx_stats['Total Tx'], bins=10)\n",
    "plt.title(\"Total Tx\")\n",
    "\n",
    "plt.subplot(122)\n",
    "plt.hist(tx_stats['Total Time(hours)'], bins=10)\n",
    "plt.title(\"Total Time(hours)\")\n",
    "plt.show()\n",
    "\n",
    "plt.figure(figsize=(15,2))\n",
    "plt.subplot(131)\n",
    "plt.hist(tx_stats['Pct Correct'], bins=10)\n",
    "plt.title(\"Pct Correct Tx\")\n",
    "\n",
    "plt.subplot(132)\n",
    "plt.hist(tx_stats['Pct Incorrect'], bins=10)\n",
    "plt.title(\"Pct Incorrect Tx\")\n",
    "\n",
    "plt.subplot(133)\n",
    "plt.hist(tx_stats['Pct Hint'], bins=10)\n",
    "plt.title(\"Pct Hint Tx\")\n",
    "plt.show()\n",
    "\n",
    "plt.figure(figsize=(3,2))\n",
    "plt.hist(tx['duration'],bins=50)\n",
    "plt.title(\"Tx duration\")\n",
    "plt.show()"
   ]
  },
  {
   "cell_type": "code",
   "execution_count": null,
   "metadata": {},
   "outputs": [],
   "source": [
    "num_bins = 10\n",
    "num_rows = 3\n",
    "num_cols = 6\n",
    "row_height = 3\n",
    "col_width = 3\n",
    "plt.figure(figsize=(col_width*num_cols, row_height*num_rows+num_rows))\n",
    "\n",
    "row = 0\n",
    "plt.subplot(num_rows,num_cols,num_cols*row + 1)\n",
    "plt.hist(stu_prob_stats['Step Attempt mean'], bins=num_bins)\n",
    "plt.title(\"Mean Attempts per step\")\n",
    "plt.subplot(num_rows,num_cols,num_cols*row + 2)\n",
    "plt.hist(stu_prob_stats['Step Attempt std'], bins=num_bins)\n",
    "plt.title(\"Standard Dev Attempts per step\")\n",
    "\n",
    "\n",
    "plt.subplot(num_rows,num_cols,num_cols*row + 3)\n",
    "plt.hist(stu_prob_stats['Step Attempt 25%'], bins=num_bins)\n",
    "plt.title(\"Q1 Attempts per step\")\n",
    "plt.subplot(num_rows,num_cols,num_cols*row + 4)\n",
    "plt.hist(stu_prob_stats['Step Attempt 50%'], bins=num_bins)\n",
    "plt.title(\"Q2 Attempts per step\")\n",
    "plt.subplot(num_rows,num_cols,num_cols*row + 5)\n",
    "plt.hist(stu_prob_stats['Step Attempt 75%'], bins=num_bins)\n",
    "plt.title(\"Q3 Attempts per step\")\n",
    "plt.subplot(num_rows,num_cols,num_cols*row + 6)\n",
    "plt.hist(stu_prob_stats['Step Attempt max'], bins=num_bins)\n",
    "plt.title(\"Max Attempts per step\")\n",
    "\n",
    "row = 1\n",
    "plt.subplot(num_rows,num_cols,num_cols*row + 1)\n",
    "plt.hist(stu_prob_stats['Step Duration mean'], bins=num_bins)\n",
    "plt.title(\"Mean Time per step\")\n",
    "plt.subplot(num_rows,num_cols,num_cols*row + 2)\n",
    "plt.hist(stu_prob_stats['Step Duration std'], bins=num_bins)\n",
    "plt.title(\"Standard Dev Time per step\")\n",
    "\n",
    "\n",
    "plt.subplot(num_rows,num_cols,num_cols*row + 3)\n",
    "plt.hist(stu_prob_stats['Step Duration 25%'], bins=num_bins)\n",
    "plt.title(\"Q1 Time per step\")\n",
    "plt.subplot(num_rows,num_cols,num_cols*row + 4)\n",
    "plt.hist(stu_prob_stats['Step Duration 50%'], bins=num_bins)\n",
    "plt.title(\"Q2 Time per step\")\n",
    "plt.subplot(num_rows,num_cols,num_cols*row + 5)\n",
    "plt.hist(stu_prob_stats['Step Duration 75%'], bins=num_bins)\n",
    "plt.title(\"Q3 Time per step\")\n",
    "plt.subplot(num_rows,num_cols,num_cols*row + 6)\n",
    "plt.hist(stu_prob_stats['Step Duration max'], bins=num_bins)\n",
    "plt.title(\"Max Time per step\")\n",
    "\n",
    "row = 2\n",
    "plt.subplot(num_rows,num_cols,num_cols*row + 1)\n",
    "plt.hist(kc_stats[('kc opportunities', 'mean')], bins=num_bins)\n",
    "plt.title(\"Mean opportunities per kc\")\n",
    "plt.subplot(num_rows,num_cols,num_cols*row + 2)\n",
    "plt.hist(kc_stats[('kc opportunities', 'std')], bins=num_bins)\n",
    "plt.title(\"Standard Dev opportunities per kc\")\n",
    "\n",
    "\n",
    "plt.subplot(num_rows,num_cols,num_cols*row + 3)\n",
    "plt.hist(kc_stats[('kc opportunities', '25%')], bins=num_bins)\n",
    "plt.title(\"Q1 opportunities per kc\")\n",
    "plt.subplot(num_rows,num_cols,num_cols*row + 4)\n",
    "plt.hist(kc_stats[('kc opportunities', '50%')], bins=num_bins)\n",
    "plt.title(\"Q2 opportunities per kc\")\n",
    "plt.subplot(num_rows,num_cols,num_cols*row + 5)\n",
    "plt.hist(kc_stats[('kc opportunities', '75%')], bins=num_bins)\n",
    "plt.title(\"Q3 opportunities per kc\")\n",
    "plt.subplot(num_rows,num_cols,num_cols*row + 6)\n",
    "plt.hist(kc_stats[('kc opportunities', 'max')], bins=num_bins)\n",
    "plt.title(\"Max opportunities per kc\")\n",
    "\n",
    "plt.show()\n"
   ]
  }
 ],
 "metadata": {
  "kernelspec": {
   "display_name": "Python 3",
   "language": "python",
   "name": "python3"
  },
  "language_info": {
   "codemirror_mode": {
    "name": "ipython",
    "version": 3
   },
   "file_extension": ".py",
   "mimetype": "text/x-python",
   "name": "python",
   "nbconvert_exporter": "python",
   "pygments_lexer": "ipython3",
   "version": "3.8.5"
  }
 },
 "nbformat": 4,
 "nbformat_minor": 4
}
