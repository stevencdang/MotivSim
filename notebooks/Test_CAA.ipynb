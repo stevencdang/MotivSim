{
 "cells": [
  {
   "cell_type": "markdown",
   "metadata": {},
   "source": [
    "## Setup"
   ]
  },
  {
   "cell_type": "markdown",
   "metadata": {},
   "source": [
    "Testing CAA Library"
   ]
  },
  {
   "cell_type": "code",
   "execution_count": 1,
   "metadata": {},
   "outputs": [],
   "source": [
    "import sys\n",
    "sys.path.append(\"../lib\")"
   ]
  },
  {
   "cell_type": "code",
   "execution_count": 2,
   "metadata": {},
   "outputs": [],
   "source": [
    "import math\n",
    "import random\n",
    "import uuid\n",
    "import os\n",
    "import copy\n",
    "import itertools\n",
    "from collections.abc import Iterable\n",
    "from datetime import datetime as dt\n",
    "\n",
    "import numpy as np\n",
    "import pandas as pd\n",
    "import matplotlib.pyplot as plt\n",
    "from scipy.optimize import Bounds\n",
    "from scipy.optimize import minimize\n",
    "from scipy import optimize"
   ]
  },
  {
   "cell_type": "code",
   "execution_count": 3,
   "metadata": {},
   "outputs": [],
   "source": [
    "import logging\n",
    "\n",
    "#logging.basicConfig(level=logging.DEBUG)\n",
    "logging.basicConfig(level=logging.INFO)\n",
    "#logging.basicConfig(level=logging.WARNING)\n",
    "\n",
    "logger = logging.getLogger(\"main\")"
   ]
  },
  {
   "cell_type": "code",
   "execution_count": 4,
   "metadata": {},
   "outputs": [
    {
     "name": "stderr",
     "output_type": "stream",
     "text": [
      "INFO:main:Test info\n",
      "WARNING:main:Test warning\n"
     ]
    }
   ],
   "source": [
    "#logging.getLogger().setLevel(logging.DEBUG)\n",
    "logging.getLogger().setLevel(logging.INFO)\n",
    "#logging.getLogger().setLevel(logging.WARNING)\n",
    "logger.debug(\"Test debug\")\n",
    "logger.info(\"Test info\")\n",
    "logger.warning(\"Test warning\")"
   ]
  },
  {
   "cell_type": "code",
   "execution_count": 5,
   "metadata": {},
   "outputs": [],
   "source": [
    "from tutor.domain import Domain\n",
    "from tutor.curriculum_factory import CurriculumFactory\n",
    "from tutor.simple_curriculum import SimpleCurriculum\n",
    "from tutor.tutor import SimpleTutor\n",
    "from tutor.action import Attempt, HintRequest\n",
    "\n",
    "from learner.selfeff_learner import SelfEfficacyLearner\n",
    "from learner.modular_learner import ModularLearner\n",
    "from learner.binary_skill_cog import BinarySkillCognition\n",
    "from learner.decider import *\n",
    "\n",
    "from simulate.modlearner_simulation import ModLearnerSimulation\n",
    "from simulate.simulation import SimulationBatch\n",
    "\n",
    "from analytics.batch import BatchCalculator\n",
    "from analytics.student_stats import StudentStatCalc\n",
    "\n",
    "from log_db import mongo\n",
    "from log_db.curriculum_mapper import DB_Curriculum_Mapper"
   ]
  },
  {
   "cell_type": "code",
   "execution_count": 6,
   "metadata": {},
   "outputs": [],
   "source": [
    "from CanonicalAutocorrelationAnalysis.model.caa import CAAComputation"
   ]
  },
  {
   "cell_type": "code",
   "execution_count": 7,
   "metadata": {},
   "outputs": [],
   "source": [
    "from CanonicalAutocorrelationAnalysis.model.caa import *\n",
    "from CanonicalAutocorrelationAnalysis.model.caaObject import *\n",
    "from CanonicalAutocorrelationAnalysis.model.utils import l1Norm, l2Norm, r2Compute"
   ]
  },
  {
   "cell_type": "code",
   "execution_count": 8,
   "metadata": {},
   "outputs": [],
   "source": [
    "# Get path to current project directory\n",
    "cwd = os.path.abspath(\".\")\n",
    "base_dir = os.path.abspath(os.path.join(cwd, os.pardir))\n",
    "logger.debug(\"Base directory for the project:\\n%s\" % base_dir)"
   ]
  },
  {
   "cell_type": "code",
   "execution_count": 9,
   "metadata": {},
   "outputs": [
    {
     "name": "stderr",
     "output_type": "stream",
     "text": [
      "INFO:learner.decider:Writing simulation results to directory: /rdata/Sandbox/MotivSim/test/data/sim-190871b3-acf7-4c5b-af9f-2b325f979de5\n",
      "INFO:learner.decider:got db params: {'settingId': 'motivsim', 'url': 'localhost', 'port': '27017', 'name': 'motivsim', 'user': '', 'pswd': ''}\n"
     ]
    }
   ],
   "source": [
    "# Setup connection to database\n",
    "data_out = \"sim-%s\" % str(uuid.uuid4())\n",
    "data_path = os.path.join(base_dir,\"test\", \"data\", data_out)\n",
    "logger.info(\"Writing simulation results to directory: %s\" % data_path)\n",
    "db_name = \"motivsim\"\n",
    "db_params  = mongo.get_db_params(db_name)\n",
    "logger.info(\"got db params: %s\" % str(db_params))\n",
    "db_util = mongo.Data_Utility(data_path, db_params)\n",
    "db = db_util.db"
   ]
  },
  {
   "cell_type": "code",
   "execution_count": null,
   "metadata": {},
   "outputs": [],
   "source": [
    "logger.info(\"Clearing database before starting new simulation\")\n",
    "db_util.clear_db()"
   ]
  },
  {
   "cell_type": "markdown",
   "metadata": {},
   "source": [
    "## 2. EDA of simulated Data"
   ]
  },
  {
   "cell_type": "code",
   "execution_count": 10,
   "metadata": {},
   "outputs": [
    {
     "name": "stderr",
     "output_type": "stream",
     "text": [
      "INFO:log_db.mongo:collection name, kcs, has 1126 documents\n",
      "INFO:log_db.mongo:collection name, simbatches, has 4 documents\n",
      "INFO:log_db.mongo:collection name, domains, has 56 documents\n",
      "INFO:log_db.mongo:collection name, students, has 707 documents\n",
      "INFO:log_db.mongo:collection name, units, has 9 documents\n",
      "INFO:log_db.mongo:collection name, decisions, has 3144520 documents\n",
      "INFO:log_db.mongo:collection name, curriculums, has 3 documents\n",
      "INFO:log_db.mongo:collection name, steps, has 25107 documents\n",
      "INFO:log_db.mongo:collection name, finalsimstudents, has 697 documents\n",
      "INFO:log_db.mongo:collection name, problems, has 6178 documents\n",
      "INFO:log_db.mongo:collection name, actions, has 3144520 documents\n",
      "INFO:log_db.mongo:collection name, sections, has 44 documents\n",
      "INFO:log_db.mongo:collection name, tutor_events, has 2835296 documents\n"
     ]
    }
   ],
   "source": [
    "# Test db connection\n",
    "db_util.peak()"
   ]
  },
  {
   "cell_type": "code",
   "execution_count": 14,
   "metadata": {},
   "outputs": [
    {
     "name": "stderr",
     "output_type": "stream",
     "text": [
      "INFO:learner.decider:batch #0: \tID: 21fe12a8-82d3-46c6-8638-ee1ee80961e2\tdesc: Simple diligent students\n",
      "INFO:learner.decider:1 batch(s) with description: Simple diligent students\n",
      "INFO:learner.decider:batch #1: \tID: de394fe3-bd4d-4dc0-a165-020ff208bba2\tdesc: Diligent Students with variable values\n",
      "INFO:learner.decider:1 batch(s) with description: Diligent Students with variable values\n",
      "INFO:learner.decider:batch #2: \tID: 9d8a46e8-b52c-406e-8b59-b595b443e64a\tdesc: Diligent Students with domain-level self-efficacy\n",
      "INFO:learner.decider:1 batch(s) with description: Diligent Students with domain-level self-efficacy\n",
      "INFO:learner.decider:batch #3: \tID: 4e54dd98-7ec5-455e-81c4-7fc643e0d37f\tdesc: Test BIRT Batch\n",
      "INFO:learner.decider:1 batch(s) with description: Test BIRT Batch\n"
     ]
    }
   ],
   "source": [
    "# Get available batches of simulated students\n",
    "batch_list = [batch for batch in db.simbatches.find()]\n",
    "batch_desc = [\"Simple diligent students\",\n",
    "              \"Diligent Students with variable values\",\n",
    "              \"Diligent Students with domain-level self-efficacy\",\n",
    "              \"Test BIRT Batch\"\n",
    "             ]\n",
    "batches = {}\n",
    "for i, batch in enumerate(batch_list):\n",
    "    logger.info(f\"batch #{i}: \\tID: {batch['_id']}\\tdesc: {batch['desc']}\")\n",
    "    \n",
    "    if batch['desc'] not in batches:\n",
    "        batches[batch['desc']] = [batch]\n",
    "    else:\n",
    "        batches[batch['desc']].append(batch)\n",
    "    logger.info(f\"{len(batches[batch['desc']])} batch(s) with description: {batch['desc']}\")"
   ]
  },
  {
   "cell_type": "code",
   "execution_count": 13,
   "metadata": {},
   "outputs": [],
   "source": [
    "# Calculating stats with analytic methods\n",
    "\n",
    "calc = StudentStatCalc(db)\n",
    "batcher = BatchCalculator()"
   ]
  },
  {
   "cell_type": "code",
   "execution_count": 21,
   "metadata": {},
   "outputs": [
    {
     "name": "stderr",
     "output_type": "stream",
     "text": [
      "INFO:learner.decider:Got 2 student IDs\n"
     ]
    }
   ],
   "source": [
    "sid = batches[batch_desc[3]][0]['student_ids']\n",
    "logger.info(f\"Got {len(sid)} student IDs\")"
   ]
  },
  {
   "cell_type": "code",
   "execution_count": 26,
   "metadata": {},
   "outputs": [
    {
     "name": "stderr",
     "output_type": "stream",
     "text": [
      "INFO:learner.decider:Calculated student params: (2, 23)\tRuntime: 0.024755 seconds\n"
     ]
    }
   ],
   "source": [
    "sim_students, runtime = batcher.time_batch(calc.get_stu_parameters, sid, 2)\n",
    "logger.info(f\"Calculated student params: {sim_students.shape}\\tRuntime: {runtime} seconds\")"
   ]
  },
  {
   "cell_type": "code",
   "execution_count": 27,
   "metadata": {},
   "outputs": [
    {
     "name": "stderr",
     "output_type": "stream",
     "text": [
      "INFO:learner.decider:Calculated student action stats: (2, 9)\tRuntime: 2.972665 seconds\n"
     ]
    }
   ],
   "source": [
    "action_dist, runtime = batcher.time_batch(calc.action_stats, sid, 2)\n",
    "logger.info(f\"Calculated student action stats: {action_dist.shape}\\tRuntime: {runtime} seconds\")"
   ]
  },
  {
   "cell_type": "code",
   "execution_count": 25,
   "metadata": {
    "collapsed": true,
    "jupyter": {
     "outputs_hidden": true
    }
   },
   "outputs": [
    {
     "ename": "ValueError",
     "evalue": "Wrong number of items passed 0, placement implies 1",
     "output_type": "error",
     "traceback": [
      "\u001b[0;31m---------------------------------------------------------------------------\u001b[0m",
      "\u001b[0;31mKeyError\u001b[0m                                  Traceback (most recent call last)",
      "\u001b[0;32m/rdata/Sandbox/MotivSim/notebooks/jvenv/lib/python3.8/site-packages/pandas/core/indexes/base.py\u001b[0m in \u001b[0;36mget_loc\u001b[0;34m(self, key, method, tolerance)\u001b[0m\n\u001b[1;32m   2894\u001b[0m             \u001b[0;32mtry\u001b[0m\u001b[0;34m:\u001b[0m\u001b[0;34m\u001b[0m\u001b[0;34m\u001b[0m\u001b[0m\n\u001b[0;32m-> 2895\u001b[0;31m                 \u001b[0;32mreturn\u001b[0m \u001b[0mself\u001b[0m\u001b[0;34m.\u001b[0m\u001b[0m_engine\u001b[0m\u001b[0;34m.\u001b[0m\u001b[0mget_loc\u001b[0m\u001b[0;34m(\u001b[0m\u001b[0mcasted_key\u001b[0m\u001b[0;34m)\u001b[0m\u001b[0;34m\u001b[0m\u001b[0;34m\u001b[0m\u001b[0m\n\u001b[0m\u001b[1;32m   2896\u001b[0m             \u001b[0;32mexcept\u001b[0m \u001b[0mKeyError\u001b[0m \u001b[0;32mas\u001b[0m \u001b[0merr\u001b[0m\u001b[0;34m:\u001b[0m\u001b[0;34m\u001b[0m\u001b[0;34m\u001b[0m\u001b[0m\n",
      "\u001b[0;32mpandas/_libs/index.pyx\u001b[0m in \u001b[0;36mpandas._libs.index.IndexEngine.get_loc\u001b[0;34m()\u001b[0m\n",
      "\u001b[0;32mpandas/_libs/index.pyx\u001b[0m in \u001b[0;36mpandas._libs.index.IndexEngine.get_loc\u001b[0;34m()\u001b[0m\n",
      "\u001b[0;32mpandas/_libs/hashtable_class_helper.pxi\u001b[0m in \u001b[0;36mpandas._libs.hashtable.PyObjectHashTable.get_item\u001b[0;34m()\u001b[0m\n",
      "\u001b[0;32mpandas/_libs/hashtable_class_helper.pxi\u001b[0m in \u001b[0;36mpandas._libs.hashtable.PyObjectHashTable.get_item\u001b[0;34m()\u001b[0m\n",
      "\u001b[0;31mKeyError\u001b[0m: 'kc'",
      "\nThe above exception was the direct cause of the following exception:\n",
      "\u001b[0;31mKeyError\u001b[0m                                  Traceback (most recent call last)",
      "\u001b[0;32m/rdata/Sandbox/MotivSim/notebooks/jvenv/lib/python3.8/site-packages/pandas/core/generic.py\u001b[0m in \u001b[0;36m_set_item\u001b[0;34m(self, key, value)\u001b[0m\n\u001b[1;32m   3573\u001b[0m         \u001b[0;32mtry\u001b[0m\u001b[0;34m:\u001b[0m\u001b[0;34m\u001b[0m\u001b[0;34m\u001b[0m\u001b[0m\n\u001b[0;32m-> 3574\u001b[0;31m             \u001b[0mloc\u001b[0m \u001b[0;34m=\u001b[0m \u001b[0mself\u001b[0m\u001b[0;34m.\u001b[0m\u001b[0m_info_axis\u001b[0m\u001b[0;34m.\u001b[0m\u001b[0mget_loc\u001b[0m\u001b[0;34m(\u001b[0m\u001b[0mkey\u001b[0m\u001b[0;34m)\u001b[0m\u001b[0;34m\u001b[0m\u001b[0;34m\u001b[0m\u001b[0m\n\u001b[0m\u001b[1;32m   3575\u001b[0m         \u001b[0;32mexcept\u001b[0m \u001b[0mKeyError\u001b[0m\u001b[0;34m:\u001b[0m\u001b[0;34m\u001b[0m\u001b[0;34m\u001b[0m\u001b[0m\n",
      "\u001b[0;32m/rdata/Sandbox/MotivSim/notebooks/jvenv/lib/python3.8/site-packages/pandas/core/indexes/base.py\u001b[0m in \u001b[0;36mget_loc\u001b[0;34m(self, key, method, tolerance)\u001b[0m\n\u001b[1;32m   2896\u001b[0m             \u001b[0;32mexcept\u001b[0m \u001b[0mKeyError\u001b[0m \u001b[0;32mas\u001b[0m \u001b[0merr\u001b[0m\u001b[0;34m:\u001b[0m\u001b[0;34m\u001b[0m\u001b[0;34m\u001b[0m\u001b[0m\n\u001b[0;32m-> 2897\u001b[0;31m                 \u001b[0;32mraise\u001b[0m \u001b[0mKeyError\u001b[0m\u001b[0;34m(\u001b[0m\u001b[0mkey\u001b[0m\u001b[0;34m)\u001b[0m \u001b[0;32mfrom\u001b[0m \u001b[0merr\u001b[0m\u001b[0;34m\u001b[0m\u001b[0;34m\u001b[0m\u001b[0m\n\u001b[0m\u001b[1;32m   2898\u001b[0m \u001b[0;34m\u001b[0m\u001b[0m\n",
      "\u001b[0;31mKeyError\u001b[0m: 'kc'",
      "\nDuring handling of the above exception, another exception occurred:\n",
      "\u001b[0;31mValueError\u001b[0m                                Traceback (most recent call last)",
      "\u001b[0;32m<ipython-input-25-681448eae67e>\u001b[0m in \u001b[0;36m<module>\u001b[0;34m\u001b[0m\n\u001b[0;32m----> 1\u001b[0;31m \u001b[0mtx_stats\u001b[0m\u001b[0;34m,\u001b[0m \u001b[0mruntime\u001b[0m \u001b[0;34m=\u001b[0m \u001b[0mbatcher\u001b[0m\u001b[0;34m.\u001b[0m\u001b[0mtime_batch\u001b[0m\u001b[0;34m(\u001b[0m\u001b[0mcalc\u001b[0m\u001b[0;34m.\u001b[0m\u001b[0mtotal_tx_stats\u001b[0m\u001b[0;34m,\u001b[0m \u001b[0msid\u001b[0m\u001b[0;34m,\u001b[0m \u001b[0;36m2\u001b[0m\u001b[0;34m)\u001b[0m\u001b[0;34m\u001b[0m\u001b[0;34m\u001b[0m\u001b[0m\n\u001b[0m\u001b[1;32m      2\u001b[0m \u001b[0mlogger\u001b[0m\u001b[0;34m.\u001b[0m\u001b[0minfo\u001b[0m\u001b[0;34m(\u001b[0m\u001b[0;34mf\"Calculated student activity stats: {tx_stats.shape}\\tRuntime: {runtime} seconds\"\u001b[0m\u001b[0;34m)\u001b[0m\u001b[0;34m\u001b[0m\u001b[0;34m\u001b[0m\u001b[0m\n",
      "\u001b[0;32m/rdata/Sandbox/MotivSim/lib/analytics/batch.py\u001b[0m in \u001b[0;36mtime_batch\u001b[0;34m(self, calc, idx, batch_size, calc_args)\u001b[0m\n\u001b[1;32m     39\u001b[0m         \u001b[0;31m# Convenience wrapper to time a batch\u001b[0m\u001b[0;34m\u001b[0m\u001b[0;34m\u001b[0m\u001b[0;34m\u001b[0m\u001b[0m\n\u001b[1;32m     40\u001b[0m         \u001b[0margs\u001b[0m \u001b[0;34m=\u001b[0m \u001b[0;34m(\u001b[0m\u001b[0mcalc\u001b[0m\u001b[0;34m,\u001b[0m \u001b[0midx\u001b[0m\u001b[0;34m,\u001b[0m \u001b[0mbatch_size\u001b[0m\u001b[0;34m,\u001b[0m \u001b[0mcalc_args\u001b[0m\u001b[0;34m)\u001b[0m\u001b[0;34m\u001b[0m\u001b[0;34m\u001b[0m\u001b[0m\n\u001b[0;32m---> 41\u001b[0;31m         \u001b[0mresult\u001b[0m\u001b[0;34m,\u001b[0m \u001b[0mruntime\u001b[0m \u001b[0;34m=\u001b[0m \u001b[0mself\u001b[0m\u001b[0;34m.\u001b[0m\u001b[0mtime_calc\u001b[0m\u001b[0;34m(\u001b[0m\u001b[0mself\u001b[0m\u001b[0;34m.\u001b[0m\u001b[0mbatch_calc\u001b[0m\u001b[0;34m,\u001b[0m \u001b[0margs\u001b[0m\u001b[0;34m)\u001b[0m\u001b[0;34m\u001b[0m\u001b[0;34m\u001b[0m\u001b[0m\n\u001b[0m\u001b[1;32m     42\u001b[0m         \u001b[0;32mreturn\u001b[0m \u001b[0mresult\u001b[0m\u001b[0;34m,\u001b[0m \u001b[0mruntime\u001b[0m\u001b[0;34m\u001b[0m\u001b[0;34m\u001b[0m\u001b[0m\n\u001b[1;32m     43\u001b[0m \u001b[0;34m\u001b[0m\u001b[0m\n",
      "\u001b[0;32m/rdata/Sandbox/MotivSim/lib/analytics/batch.py\u001b[0m in \u001b[0;36mtime_calc\u001b[0;34m(self, calc, args)\u001b[0m\n\u001b[1;32m     30\u001b[0m     \u001b[0;32mdef\u001b[0m \u001b[0mtime_calc\u001b[0m\u001b[0;34m(\u001b[0m\u001b[0mself\u001b[0m\u001b[0;34m,\u001b[0m \u001b[0mcalc\u001b[0m\u001b[0;34m,\u001b[0m \u001b[0margs\u001b[0m\u001b[0;34m)\u001b[0m\u001b[0;34m:\u001b[0m\u001b[0;34m\u001b[0m\u001b[0;34m\u001b[0m\u001b[0m\n\u001b[1;32m     31\u001b[0m         \u001b[0mstart\u001b[0m \u001b[0;34m=\u001b[0m \u001b[0mdt\u001b[0m\u001b[0;34m.\u001b[0m\u001b[0mnow\u001b[0m\u001b[0;34m(\u001b[0m\u001b[0;34m)\u001b[0m\u001b[0;34m\u001b[0m\u001b[0;34m\u001b[0m\u001b[0m\n\u001b[0;32m---> 32\u001b[0;31m         \u001b[0mresult\u001b[0m \u001b[0;34m=\u001b[0m \u001b[0mcalc\u001b[0m\u001b[0;34m(\u001b[0m\u001b[0;34m*\u001b[0m\u001b[0margs\u001b[0m\u001b[0;34m)\u001b[0m\u001b[0;34m\u001b[0m\u001b[0;34m\u001b[0m\u001b[0m\n\u001b[0m\u001b[1;32m     33\u001b[0m         \u001b[0mend\u001b[0m \u001b[0;34m=\u001b[0m \u001b[0mdt\u001b[0m\u001b[0;34m.\u001b[0m\u001b[0mnow\u001b[0m\u001b[0;34m(\u001b[0m\u001b[0;34m)\u001b[0m\u001b[0;34m\u001b[0m\u001b[0;34m\u001b[0m\u001b[0m\n\u001b[1;32m     34\u001b[0m         \u001b[0mruntime\u001b[0m \u001b[0;34m=\u001b[0m \u001b[0;34m(\u001b[0m\u001b[0mend\u001b[0m \u001b[0;34m-\u001b[0m \u001b[0mstart\u001b[0m\u001b[0;34m)\u001b[0m\u001b[0;34m.\u001b[0m\u001b[0mtotal_seconds\u001b[0m\u001b[0;34m(\u001b[0m\u001b[0;34m)\u001b[0m\u001b[0;34m\u001b[0m\u001b[0;34m\u001b[0m\u001b[0m\n",
      "\u001b[0;32m/rdata/Sandbox/MotivSim/lib/analytics/batch.py\u001b[0m in \u001b[0;36mbatch_calc\u001b[0;34m(self, calc, idx, batch_size, calc_args)\u001b[0m\n\u001b[1;32m     22\u001b[0m         \u001b[0;32mfor\u001b[0m \u001b[0mbatch\u001b[0m \u001b[0;32min\u001b[0m \u001b[0mbatches\u001b[0m\u001b[0;34m:\u001b[0m\u001b[0;34m\u001b[0m\u001b[0;34m\u001b[0m\u001b[0m\n\u001b[1;32m     23\u001b[0m             \u001b[0;32mif\u001b[0m \u001b[0mcalc_args\u001b[0m \u001b[0;32mis\u001b[0m \u001b[0;32mNone\u001b[0m\u001b[0;34m:\u001b[0m\u001b[0;34m\u001b[0m\u001b[0;34m\u001b[0m\u001b[0m\n\u001b[0;32m---> 24\u001b[0;31m                 \u001b[0mresults\u001b[0m\u001b[0;34m.\u001b[0m\u001b[0mappend\u001b[0m\u001b[0;34m(\u001b[0m\u001b[0mcalc\u001b[0m\u001b[0;34m(\u001b[0m\u001b[0mbatch\u001b[0m\u001b[0;34m)\u001b[0m\u001b[0;34m)\u001b[0m\u001b[0;34m\u001b[0m\u001b[0;34m\u001b[0m\u001b[0m\n\u001b[0m\u001b[1;32m     25\u001b[0m             \u001b[0;32melse\u001b[0m\u001b[0;34m:\u001b[0m\u001b[0;34m\u001b[0m\u001b[0;34m\u001b[0m\u001b[0m\n\u001b[1;32m     26\u001b[0m                 \u001b[0mresults\u001b[0m\u001b[0;34m.\u001b[0m\u001b[0mappend\u001b[0m\u001b[0;34m(\u001b[0m\u001b[0mcalc\u001b[0m\u001b[0;34m(\u001b[0m\u001b[0mbatch\u001b[0m\u001b[0;34m,\u001b[0m \u001b[0mcalc_args\u001b[0m\u001b[0;34m)\u001b[0m\u001b[0;34m)\u001b[0m\u001b[0;34m\u001b[0m\u001b[0;34m\u001b[0m\u001b[0m\n",
      "\u001b[0;32m/rdata/Sandbox/MotivSim/lib/analytics/student_stats.py\u001b[0m in \u001b[0;36mtotal_tx_stats\u001b[0;34m(self, sids)\u001b[0m\n\u001b[1;32m     95\u001b[0m         \u001b[0mtx\u001b[0m \u001b[0;34m=\u001b[0m \u001b[0mpd\u001b[0m\u001b[0;34m.\u001b[0m\u001b[0mDataFrame\u001b[0m\u001b[0;34m(\u001b[0m\u001b[0mself\u001b[0m\u001b[0;34m.\u001b[0m\u001b[0mdb\u001b[0m\u001b[0;34m.\u001b[0m\u001b[0mtutor_events\u001b[0m\u001b[0;34m.\u001b[0m\u001b[0mfind\u001b[0m\u001b[0;34m(\u001b[0m\u001b[0;34m{\u001b[0m\u001b[0;34m\"stu_id\"\u001b[0m\u001b[0;34m:\u001b[0m \u001b[0;34m{\u001b[0m\u001b[0;34m'$in'\u001b[0m\u001b[0;34m:\u001b[0m \u001b[0msids\u001b[0m\u001b[0;34m}\u001b[0m\u001b[0;34m,\u001b[0m \u001b[0;34m'type'\u001b[0m\u001b[0;34m:\u001b[0m \u001b[0;34m\"Tutor Input\"\u001b[0m\u001b[0;34m}\u001b[0m\u001b[0;34m)\u001b[0m\u001b[0;34m)\u001b[0m\u001b[0;34m\u001b[0m\u001b[0;34m\u001b[0m\u001b[0m\n\u001b[1;32m     96\u001b[0m         \u001b[0;31m# Add kc field that reduces list of kcs to 1 kc\u001b[0m\u001b[0;34m\u001b[0m\u001b[0;34m\u001b[0m\u001b[0;34m\u001b[0m\u001b[0m\n\u001b[0;32m---> 97\u001b[0;31m         \u001b[0mtx\u001b[0m\u001b[0;34m[\u001b[0m\u001b[0;34m'kc'\u001b[0m\u001b[0;34m]\u001b[0m \u001b[0;34m=\u001b[0m \u001b[0mtx\u001b[0m\u001b[0;34m.\u001b[0m\u001b[0mapply\u001b[0m\u001b[0;34m(\u001b[0m\u001b[0;32mlambda\u001b[0m \u001b[0mx\u001b[0m\u001b[0;34m:\u001b[0m \u001b[0mx\u001b[0m\u001b[0;34m[\u001b[0m\u001b[0;34m'kcs'\u001b[0m\u001b[0;34m]\u001b[0m\u001b[0;34m[\u001b[0m\u001b[0;36m0\u001b[0m\u001b[0;34m]\u001b[0m\u001b[0;34m[\u001b[0m\u001b[0;34m'_id'\u001b[0m\u001b[0;34m]\u001b[0m\u001b[0;34m,\u001b[0m \u001b[0maxis\u001b[0m\u001b[0;34m=\u001b[0m\u001b[0;36m1\u001b[0m\u001b[0;34m)\u001b[0m\u001b[0;34m\u001b[0m\u001b[0;34m\u001b[0m\u001b[0m\n\u001b[0m\u001b[1;32m     98\u001b[0m \u001b[0;34m\u001b[0m\u001b[0m\n\u001b[1;32m     99\u001b[0m         \u001b[0;31m# Total Transaction counts\u001b[0m\u001b[0;34m\u001b[0m\u001b[0;34m\u001b[0m\u001b[0;34m\u001b[0m\u001b[0m\n",
      "\u001b[0;32m/rdata/Sandbox/MotivSim/notebooks/jvenv/lib/python3.8/site-packages/pandas/core/frame.py\u001b[0m in \u001b[0;36m__setitem__\u001b[0;34m(self, key, value)\u001b[0m\n\u001b[1;32m   3038\u001b[0m         \u001b[0;32melse\u001b[0m\u001b[0;34m:\u001b[0m\u001b[0;34m\u001b[0m\u001b[0;34m\u001b[0m\u001b[0m\n\u001b[1;32m   3039\u001b[0m             \u001b[0;31m# set column\u001b[0m\u001b[0;34m\u001b[0m\u001b[0;34m\u001b[0m\u001b[0;34m\u001b[0m\u001b[0m\n\u001b[0;32m-> 3040\u001b[0;31m             \u001b[0mself\u001b[0m\u001b[0;34m.\u001b[0m\u001b[0m_set_item\u001b[0m\u001b[0;34m(\u001b[0m\u001b[0mkey\u001b[0m\u001b[0;34m,\u001b[0m \u001b[0mvalue\u001b[0m\u001b[0;34m)\u001b[0m\u001b[0;34m\u001b[0m\u001b[0;34m\u001b[0m\u001b[0m\n\u001b[0m\u001b[1;32m   3041\u001b[0m \u001b[0;34m\u001b[0m\u001b[0m\n\u001b[1;32m   3042\u001b[0m     \u001b[0;32mdef\u001b[0m \u001b[0m_setitem_slice\u001b[0m\u001b[0;34m(\u001b[0m\u001b[0mself\u001b[0m\u001b[0;34m,\u001b[0m \u001b[0mkey\u001b[0m\u001b[0;34m:\u001b[0m \u001b[0mslice\u001b[0m\u001b[0;34m,\u001b[0m \u001b[0mvalue\u001b[0m\u001b[0;34m)\u001b[0m\u001b[0;34m:\u001b[0m\u001b[0;34m\u001b[0m\u001b[0;34m\u001b[0m\u001b[0m\n",
      "\u001b[0;32m/rdata/Sandbox/MotivSim/notebooks/jvenv/lib/python3.8/site-packages/pandas/core/frame.py\u001b[0m in \u001b[0;36m_set_item\u001b[0;34m(self, key, value)\u001b[0m\n\u001b[1;32m   3115\u001b[0m         \u001b[0mself\u001b[0m\u001b[0;34m.\u001b[0m\u001b[0m_ensure_valid_index\u001b[0m\u001b[0;34m(\u001b[0m\u001b[0mvalue\u001b[0m\u001b[0;34m)\u001b[0m\u001b[0;34m\u001b[0m\u001b[0;34m\u001b[0m\u001b[0m\n\u001b[1;32m   3116\u001b[0m         \u001b[0mvalue\u001b[0m \u001b[0;34m=\u001b[0m \u001b[0mself\u001b[0m\u001b[0;34m.\u001b[0m\u001b[0m_sanitize_column\u001b[0m\u001b[0;34m(\u001b[0m\u001b[0mkey\u001b[0m\u001b[0;34m,\u001b[0m \u001b[0mvalue\u001b[0m\u001b[0;34m)\u001b[0m\u001b[0;34m\u001b[0m\u001b[0;34m\u001b[0m\u001b[0m\n\u001b[0;32m-> 3117\u001b[0;31m         \u001b[0mNDFrame\u001b[0m\u001b[0;34m.\u001b[0m\u001b[0m_set_item\u001b[0m\u001b[0;34m(\u001b[0m\u001b[0mself\u001b[0m\u001b[0;34m,\u001b[0m \u001b[0mkey\u001b[0m\u001b[0;34m,\u001b[0m \u001b[0mvalue\u001b[0m\u001b[0;34m)\u001b[0m\u001b[0;34m\u001b[0m\u001b[0;34m\u001b[0m\u001b[0m\n\u001b[0m\u001b[1;32m   3118\u001b[0m \u001b[0;34m\u001b[0m\u001b[0m\n\u001b[1;32m   3119\u001b[0m         \u001b[0;31m# check if we are modifying a copy\u001b[0m\u001b[0;34m\u001b[0m\u001b[0;34m\u001b[0m\u001b[0;34m\u001b[0m\u001b[0m\n",
      "\u001b[0;32m/rdata/Sandbox/MotivSim/notebooks/jvenv/lib/python3.8/site-packages/pandas/core/generic.py\u001b[0m in \u001b[0;36m_set_item\u001b[0;34m(self, key, value)\u001b[0m\n\u001b[1;32m   3575\u001b[0m         \u001b[0;32mexcept\u001b[0m \u001b[0mKeyError\u001b[0m\u001b[0;34m:\u001b[0m\u001b[0;34m\u001b[0m\u001b[0;34m\u001b[0m\u001b[0m\n\u001b[1;32m   3576\u001b[0m             \u001b[0;31m# This item wasn't present, just insert at end\u001b[0m\u001b[0;34m\u001b[0m\u001b[0;34m\u001b[0m\u001b[0;34m\u001b[0m\u001b[0m\n\u001b[0;32m-> 3577\u001b[0;31m             \u001b[0mself\u001b[0m\u001b[0;34m.\u001b[0m\u001b[0m_mgr\u001b[0m\u001b[0;34m.\u001b[0m\u001b[0minsert\u001b[0m\u001b[0;34m(\u001b[0m\u001b[0mlen\u001b[0m\u001b[0;34m(\u001b[0m\u001b[0mself\u001b[0m\u001b[0;34m.\u001b[0m\u001b[0m_info_axis\u001b[0m\u001b[0;34m)\u001b[0m\u001b[0;34m,\u001b[0m \u001b[0mkey\u001b[0m\u001b[0;34m,\u001b[0m \u001b[0mvalue\u001b[0m\u001b[0;34m)\u001b[0m\u001b[0;34m\u001b[0m\u001b[0;34m\u001b[0m\u001b[0m\n\u001b[0m\u001b[1;32m   3578\u001b[0m             \u001b[0;32mreturn\u001b[0m\u001b[0;34m\u001b[0m\u001b[0;34m\u001b[0m\u001b[0m\n\u001b[1;32m   3579\u001b[0m \u001b[0;34m\u001b[0m\u001b[0m\n",
      "\u001b[0;32m/rdata/Sandbox/MotivSim/notebooks/jvenv/lib/python3.8/site-packages/pandas/core/internals/managers.py\u001b[0m in \u001b[0;36minsert\u001b[0;34m(self, loc, item, value, allow_duplicates)\u001b[0m\n\u001b[1;32m   1187\u001b[0m             \u001b[0mvalue\u001b[0m \u001b[0;34m=\u001b[0m \u001b[0m_safe_reshape\u001b[0m\u001b[0;34m(\u001b[0m\u001b[0mvalue\u001b[0m\u001b[0;34m,\u001b[0m \u001b[0;34m(\u001b[0m\u001b[0;36m1\u001b[0m\u001b[0;34m,\u001b[0m\u001b[0;34m)\u001b[0m \u001b[0;34m+\u001b[0m \u001b[0mvalue\u001b[0m\u001b[0;34m.\u001b[0m\u001b[0mshape\u001b[0m\u001b[0;34m)\u001b[0m\u001b[0;34m\u001b[0m\u001b[0;34m\u001b[0m\u001b[0m\n\u001b[1;32m   1188\u001b[0m \u001b[0;34m\u001b[0m\u001b[0m\n\u001b[0;32m-> 1189\u001b[0;31m         \u001b[0mblock\u001b[0m \u001b[0;34m=\u001b[0m \u001b[0mmake_block\u001b[0m\u001b[0;34m(\u001b[0m\u001b[0mvalues\u001b[0m\u001b[0;34m=\u001b[0m\u001b[0mvalue\u001b[0m\u001b[0;34m,\u001b[0m \u001b[0mndim\u001b[0m\u001b[0;34m=\u001b[0m\u001b[0mself\u001b[0m\u001b[0;34m.\u001b[0m\u001b[0mndim\u001b[0m\u001b[0;34m,\u001b[0m \u001b[0mplacement\u001b[0m\u001b[0;34m=\u001b[0m\u001b[0mslice\u001b[0m\u001b[0;34m(\u001b[0m\u001b[0mloc\u001b[0m\u001b[0;34m,\u001b[0m \u001b[0mloc\u001b[0m \u001b[0;34m+\u001b[0m \u001b[0;36m1\u001b[0m\u001b[0;34m)\u001b[0m\u001b[0;34m)\u001b[0m\u001b[0;34m\u001b[0m\u001b[0;34m\u001b[0m\u001b[0m\n\u001b[0m\u001b[1;32m   1190\u001b[0m \u001b[0;34m\u001b[0m\u001b[0m\n\u001b[1;32m   1191\u001b[0m         \u001b[0;32mfor\u001b[0m \u001b[0mblkno\u001b[0m\u001b[0;34m,\u001b[0m \u001b[0mcount\u001b[0m \u001b[0;32min\u001b[0m \u001b[0m_fast_count_smallints\u001b[0m\u001b[0;34m(\u001b[0m\u001b[0mself\u001b[0m\u001b[0;34m.\u001b[0m\u001b[0mblknos\u001b[0m\u001b[0;34m[\u001b[0m\u001b[0mloc\u001b[0m\u001b[0;34m:\u001b[0m\u001b[0;34m]\u001b[0m\u001b[0;34m)\u001b[0m\u001b[0;34m:\u001b[0m\u001b[0;34m\u001b[0m\u001b[0;34m\u001b[0m\u001b[0m\n",
      "\u001b[0;32m/rdata/Sandbox/MotivSim/notebooks/jvenv/lib/python3.8/site-packages/pandas/core/internals/blocks.py\u001b[0m in \u001b[0;36mmake_block\u001b[0;34m(values, placement, klass, ndim, dtype)\u001b[0m\n\u001b[1;32m   2720\u001b[0m         \u001b[0mvalues\u001b[0m \u001b[0;34m=\u001b[0m \u001b[0mDatetimeArray\u001b[0m\u001b[0;34m.\u001b[0m\u001b[0m_simple_new\u001b[0m\u001b[0;34m(\u001b[0m\u001b[0mvalues\u001b[0m\u001b[0;34m,\u001b[0m \u001b[0mdtype\u001b[0m\u001b[0;34m=\u001b[0m\u001b[0mdtype\u001b[0m\u001b[0;34m)\u001b[0m\u001b[0;34m\u001b[0m\u001b[0;34m\u001b[0m\u001b[0m\n\u001b[1;32m   2721\u001b[0m \u001b[0;34m\u001b[0m\u001b[0m\n\u001b[0;32m-> 2722\u001b[0;31m     \u001b[0;32mreturn\u001b[0m \u001b[0mklass\u001b[0m\u001b[0;34m(\u001b[0m\u001b[0mvalues\u001b[0m\u001b[0;34m,\u001b[0m \u001b[0mndim\u001b[0m\u001b[0;34m=\u001b[0m\u001b[0mndim\u001b[0m\u001b[0;34m,\u001b[0m \u001b[0mplacement\u001b[0m\u001b[0;34m=\u001b[0m\u001b[0mplacement\u001b[0m\u001b[0;34m)\u001b[0m\u001b[0;34m\u001b[0m\u001b[0;34m\u001b[0m\u001b[0m\n\u001b[0m\u001b[1;32m   2723\u001b[0m \u001b[0;34m\u001b[0m\u001b[0m\n\u001b[1;32m   2724\u001b[0m \u001b[0;34m\u001b[0m\u001b[0m\n",
      "\u001b[0;32m/rdata/Sandbox/MotivSim/notebooks/jvenv/lib/python3.8/site-packages/pandas/core/internals/blocks.py\u001b[0m in \u001b[0;36m__init__\u001b[0;34m(self, values, placement, ndim)\u001b[0m\n\u001b[1;32m    128\u001b[0m \u001b[0;34m\u001b[0m\u001b[0m\n\u001b[1;32m    129\u001b[0m         \u001b[0;32mif\u001b[0m \u001b[0mself\u001b[0m\u001b[0;34m.\u001b[0m\u001b[0m_validate_ndim\u001b[0m \u001b[0;32mand\u001b[0m \u001b[0mself\u001b[0m\u001b[0;34m.\u001b[0m\u001b[0mndim\u001b[0m \u001b[0;32mand\u001b[0m \u001b[0mlen\u001b[0m\u001b[0;34m(\u001b[0m\u001b[0mself\u001b[0m\u001b[0;34m.\u001b[0m\u001b[0mmgr_locs\u001b[0m\u001b[0;34m)\u001b[0m \u001b[0;34m!=\u001b[0m \u001b[0mlen\u001b[0m\u001b[0;34m(\u001b[0m\u001b[0mself\u001b[0m\u001b[0;34m.\u001b[0m\u001b[0mvalues\u001b[0m\u001b[0;34m)\u001b[0m\u001b[0;34m:\u001b[0m\u001b[0;34m\u001b[0m\u001b[0;34m\u001b[0m\u001b[0m\n\u001b[0;32m--> 130\u001b[0;31m             raise ValueError(\n\u001b[0m\u001b[1;32m    131\u001b[0m                 \u001b[0;34mf\"Wrong number of items passed {len(self.values)}, \"\u001b[0m\u001b[0;34m\u001b[0m\u001b[0;34m\u001b[0m\u001b[0m\n\u001b[1;32m    132\u001b[0m                 \u001b[0;34mf\"placement implies {len(self.mgr_locs)}\"\u001b[0m\u001b[0;34m\u001b[0m\u001b[0;34m\u001b[0m\u001b[0m\n",
      "\u001b[0;31mValueError\u001b[0m: Wrong number of items passed 0, placement implies 1"
     ]
    }
   ],
   "source": [
    "tx_stats, runtime = batcher.time_batch(calc.total_tx_stats, sid, 2)\n",
    "logger.info(f\"Calculated student activity stats: {tx_stats.shape}\\tRuntime: {runtime} seconds\")"
   ]
  },
  {
   "cell_type": "code",
   "execution_count": 46,
   "metadata": {},
   "outputs": [
    {
     "name": "stderr",
     "output_type": "stream",
     "text": [
      "INFO:learner.decider:Calculating for student set 0\n",
      "INFO:learner.decider:Calculated student params: (100, 23)\tRuntime: 0.330774 seconds\n",
      "INFO:learner.decider:Calculated student action stats: (100, 9)\tRuntime: 206.061496 seconds\n",
      "INFO:learner.decider:Calculated student activity stats: (100, 9)\tRuntime: 200.856345 seconds\n",
      "INFO:learner.decider:Merged new stats together: (100, 41)\n",
      "INFO:learner.decider:Calculating for student set 1\n",
      "INFO:learner.decider:Calculated student params: (100, 23)\tRuntime: 0.272403 seconds\n",
      "INFO:learner.decider:Calculated student action stats: (100, 9)\tRuntime: 239.062265 seconds\n",
      "INFO:learner.decider:Calculated student activity stats: (100, 9)\tRuntime: 214.651635 seconds\n",
      "INFO:learner.decider:Merged new stats together: (100, 41)\n",
      "INFO:learner.decider:Calculating for student set 2\n",
      "INFO:learner.decider:Calculated student params: (100, 23)\tRuntime: 0.295801 seconds\n",
      "INFO:learner.decider:Calculated student action stats: (100, 9)\tRuntime: 200.429601 seconds\n",
      "INFO:learner.decider:Calculated student activity stats: (100, 9)\tRuntime: 196.516757 seconds\n",
      "INFO:learner.decider:Merged new stats together: (100, 41)\n"
     ]
    }
   ],
   "source": [
    "    \n",
    "stu_stats = pd.concat([sim_students, action_dist, tx_stats], axis=1)\n",
    "logger.info(f\"Merged new stats together: {stu_stats.shape}\")"
   ]
  },
  {
   "cell_type": "code",
   "execution_count": 19,
   "metadata": {},
   "outputs": [],
   "source": [
    "import itertools"
   ]
  },
  {
   "cell_type": "code",
   "execution_count": 53,
   "metadata": {},
   "outputs": [],
   "source": [
    "def get_tx_fields(sids, fields):\n",
    "    tx = pd.DataFrame(db.tutor_events.find({\"stu_id\": {'$in': sids}}))\n",
    "    # Add kc field that reduces list of kcs to 1 kc\n",
    "    tx['kc'] = tx.apply(lambda x: x['kcs'][0]['_id'], axis=1)\n",
    "    return tx.loc[:, fields]"
   ]
  },
  {
   "cell_type": "code",
   "execution_count": 54,
   "metadata": {},
   "outputs": [
    {
     "name": "stderr",
     "output_type": "stream",
     "text": [
      "INFO:learner.decider:Extracted tx for set of students in 4.580158 seconds: (37023, 8)\n"
     ]
    }
   ],
   "source": [
    "fields = [\"_id\", 'stu_id', 'kc', 'unit_id', 'section_id', 'prob_id', 'step_id', \"duration\"]\n",
    "tx, runtime = batcher.time_batch(get_tx_fields, sid[:2], 1, fields)\n",
    "logger.info(f\"Extracted tx for set of students in {runtime} seconds: {tx.shape}\")"
   ]
  },
  {
   "cell_type": "code",
   "execution_count": 55,
   "metadata": {},
   "outputs": [
    {
     "name": "stderr",
     "output_type": "stream",
     "text": [
      "INFO:learner.decider:getting tx for student with id: 009f2978-63e8-4a1c-ae5f-bb6c0627fd19\n"
     ]
    },
    {
     "name": "stdout",
     "output_type": "stream",
     "text": [
      "(18256, 17)\n",
      "Index(['_id', 'type', 'time', 'curric_id', 'unit_id', 'section_id', 'prob_id',\n",
      "       'step_id', 'stu_id', 'duration', 'outcome', 'kcs', 'plt', 'plt1',\n",
      "       'hints_used', 'hints_avail', 'attempt'],\n",
      "      dtype='object')\n"
     ]
    }
   ],
   "source": [
    "stu_id = random.choice(sid)\n",
    "logger.info(f\"getting tx for student with id: {stu_id}\")\n",
    "tx = pd.DataFrame(db.tutor_events.find({\"stu_id\": stu_id}))\n",
    "print(tx.shape)\n",
    "print(tx.columns)\n",
    "tx.index = tx[\"_id\"]"
   ]
  },
  {
   "cell_type": "code",
   "execution_count": 56,
   "metadata": {},
   "outputs": [],
   "source": [
    "cols = [\"duration\", \"outcome\", \"plt\", \"plt1\", \"hints_used\", \"hints_avail\", \"attempt\"]\n",
    "d = tx.loc[:, cols] "
   ]
  },
  {
   "cell_type": "code",
   "execution_count": 57,
   "metadata": {
    "collapsed": true,
    "jupyter": {
     "outputs_hidden": true
    }
   },
   "outputs": [
    {
     "ename": "KeyError",
     "evalue": "'time'",
     "output_type": "error",
     "traceback": [
      "\u001b[0;31m---------------------------------------------------------------------------\u001b[0m",
      "\u001b[0;31mKeyError\u001b[0m                                  Traceback (most recent call last)",
      "\u001b[0;32m/rdata/Sandbox/MotivSim/notebooks/jvenv/lib/python3.8/site-packages/pandas/core/indexes/base.py\u001b[0m in \u001b[0;36mget_loc\u001b[0;34m(self, key, method, tolerance)\u001b[0m\n\u001b[1;32m   2894\u001b[0m             \u001b[0;32mtry\u001b[0m\u001b[0;34m:\u001b[0m\u001b[0;34m\u001b[0m\u001b[0;34m\u001b[0m\u001b[0m\n\u001b[0;32m-> 2895\u001b[0;31m                 \u001b[0;32mreturn\u001b[0m \u001b[0mself\u001b[0m\u001b[0;34m.\u001b[0m\u001b[0m_engine\u001b[0m\u001b[0;34m.\u001b[0m\u001b[0mget_loc\u001b[0m\u001b[0;34m(\u001b[0m\u001b[0mcasted_key\u001b[0m\u001b[0;34m)\u001b[0m\u001b[0;34m\u001b[0m\u001b[0;34m\u001b[0m\u001b[0m\n\u001b[0m\u001b[1;32m   2896\u001b[0m             \u001b[0;32mexcept\u001b[0m \u001b[0mKeyError\u001b[0m \u001b[0;32mas\u001b[0m \u001b[0merr\u001b[0m\u001b[0;34m:\u001b[0m\u001b[0;34m\u001b[0m\u001b[0;34m\u001b[0m\u001b[0m\n",
      "\u001b[0;32mpandas/_libs/index.pyx\u001b[0m in \u001b[0;36mpandas._libs.index.IndexEngine.get_loc\u001b[0;34m()\u001b[0m\n",
      "\u001b[0;32mpandas/_libs/index.pyx\u001b[0m in \u001b[0;36mpandas._libs.index.IndexEngine.get_loc\u001b[0;34m()\u001b[0m\n",
      "\u001b[0;32mpandas/_libs/hashtable_class_helper.pxi\u001b[0m in \u001b[0;36mpandas._libs.hashtable.PyObjectHashTable.get_item\u001b[0;34m()\u001b[0m\n",
      "\u001b[0;32mpandas/_libs/hashtable_class_helper.pxi\u001b[0m in \u001b[0;36mpandas._libs.hashtable.PyObjectHashTable.get_item\u001b[0;34m()\u001b[0m\n",
      "\u001b[0;31mKeyError\u001b[0m: 'time'",
      "\nThe above exception was the direct cause of the following exception:\n",
      "\u001b[0;31mKeyError\u001b[0m                                  Traceback (most recent call last)",
      "\u001b[0;32m<ipython-input-57-5e582e17c183>\u001b[0m in \u001b[0;36m<module>\u001b[0;34m\u001b[0m\n\u001b[1;32m      1\u001b[0m \u001b[0;31m#Change time field to time since first tx\u001b[0m\u001b[0;34m\u001b[0m\u001b[0;34m\u001b[0m\u001b[0;34m\u001b[0m\u001b[0m\n\u001b[0;32m----> 2\u001b[0;31m \u001b[0mmin_time\u001b[0m \u001b[0;34m=\u001b[0m \u001b[0md\u001b[0m\u001b[0;34m[\u001b[0m\u001b[0;34m\"time\"\u001b[0m\u001b[0;34m]\u001b[0m\u001b[0;34m.\u001b[0m\u001b[0mmin\u001b[0m\u001b[0;34m(\u001b[0m\u001b[0;34m)\u001b[0m\u001b[0;34m\u001b[0m\u001b[0;34m\u001b[0m\u001b[0m\n\u001b[0m\u001b[1;32m      3\u001b[0m \u001b[0mtts\u001b[0m \u001b[0;34m=\u001b[0m \u001b[0;34m(\u001b[0m\u001b[0md\u001b[0m\u001b[0;34m[\u001b[0m\u001b[0;34m\"time\"\u001b[0m\u001b[0;34m]\u001b[0m \u001b[0;34m-\u001b[0m \u001b[0mmin_time\u001b[0m\u001b[0;34m)\u001b[0m\u001b[0;34m.\u001b[0m\u001b[0mapply\u001b[0m\u001b[0;34m(\u001b[0m\u001b[0;32mlambda\u001b[0m \u001b[0mx\u001b[0m\u001b[0;34m:\u001b[0m \u001b[0mx\u001b[0m\u001b[0;34m.\u001b[0m\u001b[0mtotal_seconds\u001b[0m\u001b[0;34m(\u001b[0m\u001b[0;34m)\u001b[0m\u001b[0;34m)\u001b[0m\u001b[0;34m\u001b[0m\u001b[0;34m\u001b[0m\u001b[0m\n\u001b[1;32m      4\u001b[0m \u001b[0md\u001b[0m\u001b[0;34m[\u001b[0m\u001b[0;34m\"time\"\u001b[0m\u001b[0;34m]\u001b[0m \u001b[0;34m=\u001b[0m \u001b[0mtts\u001b[0m\u001b[0;34m\u001b[0m\u001b[0;34m\u001b[0m\u001b[0m\n",
      "\u001b[0;32m/rdata/Sandbox/MotivSim/notebooks/jvenv/lib/python3.8/site-packages/pandas/core/frame.py\u001b[0m in \u001b[0;36m__getitem__\u001b[0;34m(self, key)\u001b[0m\n\u001b[1;32m   2900\u001b[0m             \u001b[0;32mif\u001b[0m \u001b[0mself\u001b[0m\u001b[0;34m.\u001b[0m\u001b[0mcolumns\u001b[0m\u001b[0;34m.\u001b[0m\u001b[0mnlevels\u001b[0m \u001b[0;34m>\u001b[0m \u001b[0;36m1\u001b[0m\u001b[0;34m:\u001b[0m\u001b[0;34m\u001b[0m\u001b[0;34m\u001b[0m\u001b[0m\n\u001b[1;32m   2901\u001b[0m                 \u001b[0;32mreturn\u001b[0m \u001b[0mself\u001b[0m\u001b[0;34m.\u001b[0m\u001b[0m_getitem_multilevel\u001b[0m\u001b[0;34m(\u001b[0m\u001b[0mkey\u001b[0m\u001b[0;34m)\u001b[0m\u001b[0;34m\u001b[0m\u001b[0;34m\u001b[0m\u001b[0m\n\u001b[0;32m-> 2902\u001b[0;31m             \u001b[0mindexer\u001b[0m \u001b[0;34m=\u001b[0m \u001b[0mself\u001b[0m\u001b[0;34m.\u001b[0m\u001b[0mcolumns\u001b[0m\u001b[0;34m.\u001b[0m\u001b[0mget_loc\u001b[0m\u001b[0;34m(\u001b[0m\u001b[0mkey\u001b[0m\u001b[0;34m)\u001b[0m\u001b[0;34m\u001b[0m\u001b[0;34m\u001b[0m\u001b[0m\n\u001b[0m\u001b[1;32m   2903\u001b[0m             \u001b[0;32mif\u001b[0m \u001b[0mis_integer\u001b[0m\u001b[0;34m(\u001b[0m\u001b[0mindexer\u001b[0m\u001b[0;34m)\u001b[0m\u001b[0;34m:\u001b[0m\u001b[0;34m\u001b[0m\u001b[0;34m\u001b[0m\u001b[0m\n\u001b[1;32m   2904\u001b[0m                 \u001b[0mindexer\u001b[0m \u001b[0;34m=\u001b[0m \u001b[0;34m[\u001b[0m\u001b[0mindexer\u001b[0m\u001b[0;34m]\u001b[0m\u001b[0;34m\u001b[0m\u001b[0;34m\u001b[0m\u001b[0m\n",
      "\u001b[0;32m/rdata/Sandbox/MotivSim/notebooks/jvenv/lib/python3.8/site-packages/pandas/core/indexes/base.py\u001b[0m in \u001b[0;36mget_loc\u001b[0;34m(self, key, method, tolerance)\u001b[0m\n\u001b[1;32m   2895\u001b[0m                 \u001b[0;32mreturn\u001b[0m \u001b[0mself\u001b[0m\u001b[0;34m.\u001b[0m\u001b[0m_engine\u001b[0m\u001b[0;34m.\u001b[0m\u001b[0mget_loc\u001b[0m\u001b[0;34m(\u001b[0m\u001b[0mcasted_key\u001b[0m\u001b[0;34m)\u001b[0m\u001b[0;34m\u001b[0m\u001b[0;34m\u001b[0m\u001b[0m\n\u001b[1;32m   2896\u001b[0m             \u001b[0;32mexcept\u001b[0m \u001b[0mKeyError\u001b[0m \u001b[0;32mas\u001b[0m \u001b[0merr\u001b[0m\u001b[0;34m:\u001b[0m\u001b[0;34m\u001b[0m\u001b[0;34m\u001b[0m\u001b[0m\n\u001b[0;32m-> 2897\u001b[0;31m                 \u001b[0;32mraise\u001b[0m \u001b[0mKeyError\u001b[0m\u001b[0;34m(\u001b[0m\u001b[0mkey\u001b[0m\u001b[0;34m)\u001b[0m \u001b[0;32mfrom\u001b[0m \u001b[0merr\u001b[0m\u001b[0;34m\u001b[0m\u001b[0;34m\u001b[0m\u001b[0m\n\u001b[0m\u001b[1;32m   2898\u001b[0m \u001b[0;34m\u001b[0m\u001b[0m\n\u001b[1;32m   2899\u001b[0m         \u001b[0;32mif\u001b[0m \u001b[0mtolerance\u001b[0m \u001b[0;32mis\u001b[0m \u001b[0;32mnot\u001b[0m \u001b[0;32mNone\u001b[0m\u001b[0;34m:\u001b[0m\u001b[0;34m\u001b[0m\u001b[0;34m\u001b[0m\u001b[0m\n",
      "\u001b[0;31mKeyError\u001b[0m: 'time'"
     ]
    }
   ],
   "source": [
    "#Change time field to time since first tx\n",
    "min_time = d[\"time\"].min()\n",
    "tts = (d[\"time\"] - min_time).apply(lambda x: x.total_seconds())\n",
    "d[\"time\"] = tts\n"
   ]
  },
  {
   "cell_type": "code",
   "execution_count": 58,
   "metadata": {},
   "outputs": [
    {
     "name": "stdout",
     "output_type": "stream",
     "text": [
      "(18256, 7)\n",
      "(18256, 9)\n",
      "(18256, 8)\n"
     ]
    }
   ],
   "source": [
    "# One-hot encode \"outcome\"\n",
    "print(d.shape)\n",
    "outcome_cols = pd.get_dummies(d['outcome'], drop_first=True)\n",
    "d = pd.concat([d, outcome_cols], axis=1)\n",
    "print(d.shape)\n",
    "d.drop(columns=[\"outcome\"], inplace=True)\n",
    "print(d.shape)"
   ]
  },
  {
   "cell_type": "code",
   "execution_count": 59,
   "metadata": {},
   "outputs": [
    {
     "data": {
      "text/html": [
       "<div>\n",
       "<style scoped>\n",
       "    .dataframe tbody tr th:only-of-type {\n",
       "        vertical-align: middle;\n",
       "    }\n",
       "\n",
       "    .dataframe tbody tr th {\n",
       "        vertical-align: top;\n",
       "    }\n",
       "\n",
       "    .dataframe thead th {\n",
       "        text-align: right;\n",
       "    }\n",
       "</style>\n",
       "<table border=\"1\" class=\"dataframe\">\n",
       "  <thead>\n",
       "    <tr style=\"text-align: right;\">\n",
       "      <th></th>\n",
       "      <th>duration</th>\n",
       "      <th>plt</th>\n",
       "      <th>plt1</th>\n",
       "      <th>hints_used</th>\n",
       "      <th>hints_avail</th>\n",
       "      <th>attempt</th>\n",
       "      <th>Hint</th>\n",
       "      <th>Incorrect</th>\n",
       "    </tr>\n",
       "    <tr>\n",
       "      <th>_id</th>\n",
       "      <th></th>\n",
       "      <th></th>\n",
       "      <th></th>\n",
       "      <th></th>\n",
       "      <th></th>\n",
       "      <th></th>\n",
       "      <th></th>\n",
       "      <th></th>\n",
       "    </tr>\n",
       "  </thead>\n",
       "  <tbody>\n",
       "    <tr>\n",
       "      <th>02f737e4-bb7b-4145-a270-26b26c55c70b</th>\n",
       "      <td>0.25</td>\n",
       "      <td>0.980979</td>\n",
       "      <td>0.980979</td>\n",
       "      <td>0</td>\n",
       "      <td>3</td>\n",
       "      <td>0</td>\n",
       "      <td>0</td>\n",
       "      <td>0</td>\n",
       "    </tr>\n",
       "    <tr>\n",
       "      <th>45f31967-1eb2-4f74-81ab-1ddddf74b388</th>\n",
       "      <td>0.25</td>\n",
       "      <td>0.976403</td>\n",
       "      <td>0.976403</td>\n",
       "      <td>1</td>\n",
       "      <td>2</td>\n",
       "      <td>2</td>\n",
       "      <td>0</td>\n",
       "      <td>1</td>\n",
       "    </tr>\n",
       "    <tr>\n",
       "      <th>23be2baa-8a65-4d86-83ae-3d1e6169d5dc</th>\n",
       "      <td>0.25</td>\n",
       "      <td>0.347849</td>\n",
       "      <td>0.347849</td>\n",
       "      <td>0</td>\n",
       "      <td>3</td>\n",
       "      <td>1</td>\n",
       "      <td>0</td>\n",
       "      <td>0</td>\n",
       "    </tr>\n",
       "    <tr>\n",
       "      <th>9ea6aa42-2ebc-456d-991a-3096d82dd373</th>\n",
       "      <td>0.25</td>\n",
       "      <td>0.947491</td>\n",
       "      <td>0.947491</td>\n",
       "      <td>0</td>\n",
       "      <td>3</td>\n",
       "      <td>0</td>\n",
       "      <td>0</td>\n",
       "      <td>0</td>\n",
       "    </tr>\n",
       "    <tr>\n",
       "      <th>c6788fde-69a4-426a-b429-041853ca1fa3</th>\n",
       "      <td>0.25</td>\n",
       "      <td>0.415144</td>\n",
       "      <td>0.415144</td>\n",
       "      <td>0</td>\n",
       "      <td>3</td>\n",
       "      <td>1</td>\n",
       "      <td>0</td>\n",
       "      <td>0</td>\n",
       "    </tr>\n",
       "  </tbody>\n",
       "</table>\n",
       "</div>"
      ],
      "text/plain": [
       "                                      duration       plt      plt1  \\\n",
       "_id                                                                  \n",
       "02f737e4-bb7b-4145-a270-26b26c55c70b      0.25  0.980979  0.980979   \n",
       "45f31967-1eb2-4f74-81ab-1ddddf74b388      0.25  0.976403  0.976403   \n",
       "23be2baa-8a65-4d86-83ae-3d1e6169d5dc      0.25  0.347849  0.347849   \n",
       "9ea6aa42-2ebc-456d-991a-3096d82dd373      0.25  0.947491  0.947491   \n",
       "c6788fde-69a4-426a-b429-041853ca1fa3      0.25  0.415144  0.415144   \n",
       "\n",
       "                                      hints_used  hints_avail  attempt  Hint  \\\n",
       "_id                                                                            \n",
       "02f737e4-bb7b-4145-a270-26b26c55c70b           0            3        0     0   \n",
       "45f31967-1eb2-4f74-81ab-1ddddf74b388           1            2        2     0   \n",
       "23be2baa-8a65-4d86-83ae-3d1e6169d5dc           0            3        1     0   \n",
       "9ea6aa42-2ebc-456d-991a-3096d82dd373           0            3        0     0   \n",
       "c6788fde-69a4-426a-b429-041853ca1fa3           0            3        1     0   \n",
       "\n",
       "                                      Incorrect  \n",
       "_id                                              \n",
       "02f737e4-bb7b-4145-a270-26b26c55c70b          0  \n",
       "45f31967-1eb2-4f74-81ab-1ddddf74b388          1  \n",
       "23be2baa-8a65-4d86-83ae-3d1e6169d5dc          0  \n",
       "9ea6aa42-2ebc-456d-991a-3096d82dd373          0  \n",
       "c6788fde-69a4-426a-b429-041853ca1fa3          0  "
      ]
     },
     "execution_count": 59,
     "metadata": {},
     "output_type": "execute_result"
    }
   ],
   "source": [
    "d.sort_values(by=\"duration\").head()"
   ]
  },
  {
   "cell_type": "markdown",
   "metadata": {},
   "source": [
    "### Notes\n",
    "\n"
   ]
  },
  {
   "cell_type": "markdown",
   "metadata": {},
   "source": [
    "* Matrix must me all numerical\n",
    "** Convert categorical columns to one-hot encoded\n",
    "** Ensure one-hot encoding drops one value to remove multi-colinearity\n",
    "* Convert Dataframe to numpy array (DataFrame.to_numpy())\n"
   ]
  },
  {
   "cell_type": "markdown",
   "metadata": {},
   "source": [
    "## Test CAA Code"
   ]
  },
  {
   "cell_type": "code",
   "execution_count": 62,
   "metadata": {},
   "outputs": [
    {
     "data": {
      "text/plain": [
       "(18256, 8)"
      ]
     },
     "execution_count": 62,
     "metadata": {},
     "output_type": "execute_result"
    }
   ],
   "source": [
    "d.shape"
   ]
  },
  {
   "cell_type": "code",
   "execution_count": 63,
   "metadata": {},
   "outputs": [
    {
     "data": {
      "text/html": [
       "<div>\n",
       "<style scoped>\n",
       "    .dataframe tbody tr th:only-of-type {\n",
       "        vertical-align: middle;\n",
       "    }\n",
       "\n",
       "    .dataframe tbody tr th {\n",
       "        vertical-align: top;\n",
       "    }\n",
       "\n",
       "    .dataframe thead th {\n",
       "        text-align: right;\n",
       "    }\n",
       "</style>\n",
       "<table border=\"1\" class=\"dataframe\">\n",
       "  <thead>\n",
       "    <tr style=\"text-align: right;\">\n",
       "      <th></th>\n",
       "      <th>duration</th>\n",
       "      <th>plt</th>\n",
       "      <th>plt1</th>\n",
       "      <th>hints_used</th>\n",
       "      <th>hints_avail</th>\n",
       "      <th>attempt</th>\n",
       "      <th>Hint</th>\n",
       "      <th>Incorrect</th>\n",
       "    </tr>\n",
       "    <tr>\n",
       "      <th>_id</th>\n",
       "      <th></th>\n",
       "      <th></th>\n",
       "      <th></th>\n",
       "      <th></th>\n",
       "      <th></th>\n",
       "      <th></th>\n",
       "      <th></th>\n",
       "      <th></th>\n",
       "    </tr>\n",
       "  </thead>\n",
       "  <tbody>\n",
       "    <tr>\n",
       "      <th>6b55c262-9caa-4ff6-a9f1-94375314c9b5</th>\n",
       "      <td>21.183020</td>\n",
       "      <td>0.297174</td>\n",
       "      <td>0.747215</td>\n",
       "      <td>0</td>\n",
       "      <td>3</td>\n",
       "      <td>0</td>\n",
       "      <td>0</td>\n",
       "      <td>0</td>\n",
       "    </tr>\n",
       "    <tr>\n",
       "      <th>62f10773-0a66-40a9-9aba-8db48957f369</th>\n",
       "      <td>5.896010</td>\n",
       "      <td>0.242252</td>\n",
       "      <td>0.317893</td>\n",
       "      <td>0</td>\n",
       "      <td>3</td>\n",
       "      <td>0</td>\n",
       "      <td>0</td>\n",
       "      <td>1</td>\n",
       "    </tr>\n",
       "    <tr>\n",
       "      <th>bf73be9e-229f-47ae-8c72-595d6e741b45</th>\n",
       "      <td>4.781048</td>\n",
       "      <td>0.317893</td>\n",
       "      <td>0.317893</td>\n",
       "      <td>0</td>\n",
       "      <td>3</td>\n",
       "      <td>1</td>\n",
       "      <td>0</td>\n",
       "      <td>1</td>\n",
       "    </tr>\n",
       "    <tr>\n",
       "      <th>3a4c0baf-356f-4e87-bff3-8db3fcb3a635</th>\n",
       "      <td>7.516365</td>\n",
       "      <td>0.317893</td>\n",
       "      <td>0.317893</td>\n",
       "      <td>0</td>\n",
       "      <td>3</td>\n",
       "      <td>2</td>\n",
       "      <td>0</td>\n",
       "      <td>1</td>\n",
       "    </tr>\n",
       "    <tr>\n",
       "      <th>6a5062a2-60af-4ee9-b84e-d25de82143f2</th>\n",
       "      <td>2.406777</td>\n",
       "      <td>0.317893</td>\n",
       "      <td>0.317893</td>\n",
       "      <td>0</td>\n",
       "      <td>3</td>\n",
       "      <td>3</td>\n",
       "      <td>1</td>\n",
       "      <td>0</td>\n",
       "    </tr>\n",
       "  </tbody>\n",
       "</table>\n",
       "</div>"
      ],
      "text/plain": [
       "                                       duration       plt      plt1  \\\n",
       "_id                                                                   \n",
       "6b55c262-9caa-4ff6-a9f1-94375314c9b5  21.183020  0.297174  0.747215   \n",
       "62f10773-0a66-40a9-9aba-8db48957f369   5.896010  0.242252  0.317893   \n",
       "bf73be9e-229f-47ae-8c72-595d6e741b45   4.781048  0.317893  0.317893   \n",
       "3a4c0baf-356f-4e87-bff3-8db3fcb3a635   7.516365  0.317893  0.317893   \n",
       "6a5062a2-60af-4ee9-b84e-d25de82143f2   2.406777  0.317893  0.317893   \n",
       "\n",
       "                                      hints_used  hints_avail  attempt  Hint  \\\n",
       "_id                                                                            \n",
       "6b55c262-9caa-4ff6-a9f1-94375314c9b5           0            3        0     0   \n",
       "62f10773-0a66-40a9-9aba-8db48957f369           0            3        0     0   \n",
       "bf73be9e-229f-47ae-8c72-595d6e741b45           0            3        1     0   \n",
       "3a4c0baf-356f-4e87-bff3-8db3fcb3a635           0            3        2     0   \n",
       "6a5062a2-60af-4ee9-b84e-d25de82143f2           0            3        3     1   \n",
       "\n",
       "                                      Incorrect  \n",
       "_id                                              \n",
       "6b55c262-9caa-4ff6-a9f1-94375314c9b5          0  \n",
       "62f10773-0a66-40a9-9aba-8db48957f369          1  \n",
       "bf73be9e-229f-47ae-8c72-595d6e741b45          1  \n",
       "3a4c0baf-356f-4e87-bff3-8db3fcb3a635          1  \n",
       "6a5062a2-60af-4ee9-b84e-d25de82143f2          0  "
      ]
     },
     "execution_count": 63,
     "metadata": {},
     "output_type": "execute_result"
    }
   ],
   "source": [
    "d.head()"
   ]
  },
  {
   "cell_type": "code",
   "execution_count": 60,
   "metadata": {},
   "outputs": [],
   "source": [
    "caa = CAAComputation(d.to_numpy(), 0.35, 0.35)"
   ]
  },
  {
   "cell_type": "code",
   "execution_count": 66,
   "metadata": {},
   "outputs": [
    {
     "name": "stdout",
     "output_type": "stream",
     "text": [
      "US\n",
      "VS\n",
      "projections\n",
      "ds\n",
      "rs\n",
      "penalty1\n",
      "penalty2\n",
      "trainingData\n",
      "mean\n",
      "std\n"
     ]
    }
   ],
   "source": [
    "for key in caa.__dict__:\n",
    "    print(key)"
   ]
  },
  {
   "cell_type": "code",
   "execution_count": 61,
   "metadata": {},
   "outputs": [
    {
     "name": "stderr",
     "output_type": "stream",
     "text": [
      "INFO:learner.decider:Projection #0\n",
      "INFO:learner.decider:---- U ----\n",
      "INFO:learner.decider:Column: duration\t-0.0\n",
      "INFO:learner.decider:Column: plt\t0.0\n",
      "INFO:learner.decider:Column: plt1\t7.325756281035037e-06\n",
      "INFO:learner.decider:Column: hints_used\t-0.9559014333753064\n",
      "INFO:learner.decider:Column: hints_avail\t0.0\n",
      "INFO:learner.decider:Column: attempt\t-0.29368767358772113\n",
      "INFO:learner.decider:Column: Hint\t0.0\n",
      "INFO:learner.decider:Column: Incorrect\t0.0\n",
      "INFO:learner.decider:---- V ----\n",
      "INFO:learner.decider:Column: duration\t-0.0\n",
      "INFO:learner.decider:Column: plt\t0.0\n",
      "INFO:learner.decider:Column: plt1\t0.0\n",
      "INFO:learner.decider:Column: hints_used\t-0.0\n",
      "INFO:learner.decider:Column: hints_avail\t1.0\n",
      "INFO:learner.decider:Column: attempt\t-0.0\n",
      "INFO:learner.decider:Column: Hint\t0.0\n",
      "INFO:learner.decider:Column: Incorrect\t0.0\n",
      "INFO:learner.decider:Projection #1\n",
      "INFO:learner.decider:---- U ----\n",
      "INFO:learner.decider:Column: duration\t0.0\n",
      "INFO:learner.decider:Column: plt\t1.0\n",
      "INFO:learner.decider:Column: plt1\t0.0\n",
      "INFO:learner.decider:Column: hints_used\t-0.0\n",
      "INFO:learner.decider:Column: hints_avail\t0.0\n",
      "INFO:learner.decider:Column: attempt\t-0.0\n",
      "INFO:learner.decider:Column: Hint\t-0.0\n",
      "INFO:learner.decider:Column: Incorrect\t-0.0\n",
      "INFO:learner.decider:---- V ----\n",
      "INFO:learner.decider:Column: duration\t0.0\n",
      "INFO:learner.decider:Column: plt\t0.0\n",
      "INFO:learner.decider:Column: plt1\t1.0\n",
      "INFO:learner.decider:Column: hints_used\t-0.0\n",
      "INFO:learner.decider:Column: hints_avail\t0.0\n",
      "INFO:learner.decider:Column: attempt\t-0.0\n",
      "INFO:learner.decider:Column: Hint\t0.0\n",
      "INFO:learner.decider:Column: Incorrect\t-0.0\n",
      "INFO:learner.decider:Projection #2\n",
      "INFO:learner.decider:---- U ----\n",
      "INFO:learner.decider:Column: duration\t0.0\n",
      "INFO:learner.decider:Column: plt\t-0.4801379899701821\n",
      "INFO:learner.decider:Column: plt1\t-0.6162264833683353\n",
      "INFO:learner.decider:Column: hints_used\t-0.0\n",
      "INFO:learner.decider:Column: hints_avail\t0.0\n",
      "INFO:learner.decider:Column: attempt\t2.0219778917878362e-05\n",
      "INFO:learner.decider:Column: Hint\t-0.6242855367330313\n",
      "INFO:learner.decider:Column: Incorrect\t0.0\n",
      "INFO:learner.decider:---- V ----\n",
      "INFO:learner.decider:Column: duration\t0.0\n",
      "INFO:learner.decider:Column: plt\t-0.0\n",
      "INFO:learner.decider:Column: plt1\t0.0\n",
      "INFO:learner.decider:Column: hints_used\t0.0\n",
      "INFO:learner.decider:Column: hints_avail\t-0.0\n",
      "INFO:learner.decider:Column: attempt\t0.0\n",
      "INFO:learner.decider:Column: Hint\t0.0\n",
      "INFO:learner.decider:Column: Incorrect\t1.0\n",
      "INFO:learner.decider:Projection #3\n",
      "INFO:learner.decider:---- U ----\n",
      "INFO:learner.decider:Column: duration\t0.0\n",
      "INFO:learner.decider:Column: plt\t-0.0\n",
      "INFO:learner.decider:Column: plt1\t-0.9999999263175684\n",
      "INFO:learner.decider:Column: hints_used\t0.0003838813068786079\n",
      "INFO:learner.decider:Column: hints_avail\t-0.0\n",
      "INFO:learner.decider:Column: attempt\t0.0\n",
      "INFO:learner.decider:Column: Hint\t-0.0\n",
      "INFO:learner.decider:Column: Incorrect\t0.0\n",
      "INFO:learner.decider:---- V ----\n",
      "INFO:learner.decider:Column: duration\t-0.0\n",
      "INFO:learner.decider:Column: plt\t-0.0\n",
      "INFO:learner.decider:Column: plt1\t-0.0\n",
      "INFO:learner.decider:Column: hints_used\t0.0\n",
      "INFO:learner.decider:Column: hints_avail\t-1.1092969422602268e-05\n",
      "INFO:learner.decider:Column: attempt\t0.999999999938473\n",
      "INFO:learner.decider:Column: Hint\t0.0\n",
      "INFO:learner.decider:Column: Incorrect\t-0.0\n",
      "INFO:learner.decider:Projection #4\n",
      "INFO:learner.decider:---- U ----\n",
      "INFO:learner.decider:Column: duration\t-0.9999999994392\n",
      "INFO:learner.decider:Column: plt\t0.0\n",
      "INFO:learner.decider:Column: plt1\t-0.0\n",
      "INFO:learner.decider:Column: hints_used\t-2.368121700424366e-05\n",
      "INFO:learner.decider:Column: hints_avail\t2.3681217004193707e-05\n",
      "INFO:learner.decider:Column: attempt\t-0.0\n",
      "INFO:learner.decider:Column: Hint\t0.0\n",
      "INFO:learner.decider:Column: Incorrect\t0.0\n",
      "INFO:learner.decider:---- V ----\n",
      "INFO:learner.decider:Column: duration\t-0.0\n",
      "INFO:learner.decider:Column: plt\t-0.0\n",
      "INFO:learner.decider:Column: plt1\t-0.0\n",
      "INFO:learner.decider:Column: hints_used\t-0.0\n",
      "INFO:learner.decider:Column: hints_avail\t0.0\n",
      "INFO:learner.decider:Column: attempt\t-0.0\n",
      "INFO:learner.decider:Column: Hint\t1.0\n",
      "INFO:learner.decider:Column: Incorrect\t-0.0\n",
      "INFO:learner.decider:Projection #5\n",
      "INFO:learner.decider:---- U ----\n",
      "INFO:learner.decider:Column: duration\t0.0\n",
      "INFO:learner.decider:Column: plt\t-0.0\n",
      "INFO:learner.decider:Column: plt1\t0.0\n",
      "INFO:learner.decider:Column: hints_used\t1.0\n",
      "INFO:learner.decider:Column: hints_avail\t-0.0\n",
      "INFO:learner.decider:Column: attempt\t-0.0\n",
      "INFO:learner.decider:Column: Hint\t-0.0\n",
      "INFO:learner.decider:Column: Incorrect\t0.0\n",
      "INFO:learner.decider:---- V ----\n",
      "INFO:learner.decider:Column: duration\t0.0\n",
      "INFO:learner.decider:Column: plt\t-0.0\n",
      "INFO:learner.decider:Column: plt1\t-1.0314559377134056e-06\n",
      "INFO:learner.decider:Column: hints_used\t0.0\n",
      "INFO:learner.decider:Column: hints_avail\t0.0\n",
      "INFO:learner.decider:Column: attempt\t0.9999999999994681\n",
      "INFO:learner.decider:Column: Hint\t-0.0\n",
      "INFO:learner.decider:Column: Incorrect\t-0.0\n",
      "INFO:learner.decider:Projection #6\n",
      "INFO:learner.decider:---- U ----\n",
      "INFO:learner.decider:Column: duration\t0.0\n",
      "INFO:learner.decider:Column: plt\t-0.9999999995027221\n",
      "INFO:learner.decider:Column: plt1\t0.0\n",
      "INFO:learner.decider:Column: hints_used\t-0.0\n",
      "INFO:learner.decider:Column: hints_avail\t-0.0\n",
      "INFO:learner.decider:Column: attempt\t0.0\n",
      "INFO:learner.decider:Column: Hint\t-0.0\n",
      "INFO:learner.decider:Column: Incorrect\t3.153657818599493e-05\n",
      "INFO:learner.decider:---- V ----\n",
      "INFO:learner.decider:Column: duration\t-0.0\n",
      "INFO:learner.decider:Column: plt\t-0.0\n",
      "INFO:learner.decider:Column: plt1\t0.0\n",
      "INFO:learner.decider:Column: hints_used\t0.0\n",
      "INFO:learner.decider:Column: hints_avail\t-0.0\n",
      "INFO:learner.decider:Column: attempt\t1.0\n",
      "INFO:learner.decider:Column: Hint\t-0.0\n",
      "INFO:learner.decider:Column: Incorrect\t0.0\n",
      "INFO:learner.decider:Projection #7\n",
      "INFO:learner.decider:---- U ----\n",
      "INFO:learner.decider:Column: duration\t0.0\n",
      "INFO:learner.decider:Column: plt\t-0.0\n",
      "INFO:learner.decider:Column: plt1\t0.0\n",
      "INFO:learner.decider:Column: hints_used\t-3.616248618488883e-05\n",
      "INFO:learner.decider:Column: hints_avail\t3.6162486185349925e-05\n",
      "INFO:learner.decider:Column: attempt\t0.9999999986922746\n",
      "INFO:learner.decider:Column: Hint\t0.0\n",
      "INFO:learner.decider:Column: Incorrect\t0.0\n",
      "INFO:learner.decider:---- V ----\n",
      "INFO:learner.decider:Column: duration\t0.0\n",
      "INFO:learner.decider:Column: plt\t0.0\n",
      "INFO:learner.decider:Column: plt1\t0.0\n",
      "INFO:learner.decider:Column: hints_used\t0.0\n",
      "INFO:learner.decider:Column: hints_avail\t-0.0\n",
      "INFO:learner.decider:Column: attempt\t-0.0\n",
      "INFO:learner.decider:Column: Hint\t-0.0\n",
      "INFO:learner.decider:Column: Incorrect\t1.0\n"
     ]
    }
   ],
   "source": [
    "for i, proj in enumerate(caa.projections):\n",
    "    logger.info(f\"Projection #{i}\")\n",
    "    logger.info(\"---- U ----\")\n",
    "    for col, val in zip(d.columns, proj.u.tolist()[0]):\n",
    "        logger.info(f\"Column: {col}\\t{val}\")\n",
    "        \n",
    "    logger.info(\"---- V ----\")\n",
    "    for col, val in zip(d.columns, proj.v.tolist()[0]):\n",
    "        logger.info(f\"Column: {col}\\t{val}\")\n"
   ]
  },
  {
   "cell_type": "code",
   "execution_count": 121,
   "metadata": {},
   "outputs": [
    {
     "data": {
      "text/plain": [
       "2.8284208332643277"
      ]
     },
     "execution_count": 121,
     "metadata": {},
     "output_type": "execute_result"
    }
   ],
   "source": [
    "Projection.distance(caa.projections[0], caa.projections[1])"
   ]
  },
  {
   "cell_type": "markdown",
   "metadata": {},
   "source": [
    "## Test CAA Implementation"
   ]
  },
  {
   "cell_type": "code",
   "execution_count": 76,
   "metadata": {},
   "outputs": [],
   "source": [
    "dataPoints = d.to_numpy()"
   ]
  },
  {
   "cell_type": "code",
   "execution_count": 77,
   "metadata": {},
   "outputs": [],
   "source": [
    "penalty1 = 0.35\n",
    "penalty2 = 0.35\n",
    "maxProj = None\n",
    "minr2 = None\n",
    "scale = True\n",
    "doubleInit = True\n",
    "orthogonality = False"
   ]
  },
  {
   "cell_type": "code",
   "execution_count": 78,
   "metadata": {},
   "outputs": [],
   "source": [
    "row, features = dataPoints.shape\n"
   ]
  },
  {
   "cell_type": "code",
   "execution_count": 79,
   "metadata": {},
   "outputs": [
    {
     "data": {
      "text/html": [
       "<div>\n",
       "<style scoped>\n",
       "    .dataframe tbody tr th:only-of-type {\n",
       "        vertical-align: middle;\n",
       "    }\n",
       "\n",
       "    .dataframe tbody tr th {\n",
       "        vertical-align: top;\n",
       "    }\n",
       "\n",
       "    .dataframe thead th {\n",
       "        text-align: right;\n",
       "    }\n",
       "</style>\n",
       "<table border=\"1\" class=\"dataframe\">\n",
       "  <thead>\n",
       "    <tr style=\"text-align: right;\">\n",
       "      <th></th>\n",
       "      <th>time</th>\n",
       "      <th>plt</th>\n",
       "      <th>plt1</th>\n",
       "      <th>hints_used</th>\n",
       "      <th>hints_avail</th>\n",
       "      <th>attempt</th>\n",
       "      <th>Hint</th>\n",
       "      <th>Incorrect</th>\n",
       "      <th>Hint</th>\n",
       "      <th>Incorrect</th>\n",
       "    </tr>\n",
       "    <tr>\n",
       "      <th>_id</th>\n",
       "      <th></th>\n",
       "      <th></th>\n",
       "      <th></th>\n",
       "      <th></th>\n",
       "      <th></th>\n",
       "      <th></th>\n",
       "      <th></th>\n",
       "      <th></th>\n",
       "      <th></th>\n",
       "      <th></th>\n",
       "    </tr>\n",
       "  </thead>\n",
       "  <tbody>\n",
       "    <tr>\n",
       "      <th>2e0f5ecf-47de-4cc3-9df1-39a90d924387</th>\n",
       "      <td>0.000</td>\n",
       "      <td>0.445192</td>\n",
       "      <td>0.284751</td>\n",
       "      <td>0</td>\n",
       "      <td>3</td>\n",
       "      <td>0</td>\n",
       "      <td>1</td>\n",
       "      <td>0</td>\n",
       "      <td>1</td>\n",
       "      <td>0</td>\n",
       "    </tr>\n",
       "    <tr>\n",
       "      <th>3dba0c56-d692-4934-9854-c9364eeba6a4</th>\n",
       "      <td>16.982</td>\n",
       "      <td>0.284751</td>\n",
       "      <td>0.284751</td>\n",
       "      <td>1</td>\n",
       "      <td>2</td>\n",
       "      <td>1</td>\n",
       "      <td>0</td>\n",
       "      <td>0</td>\n",
       "      <td>0</td>\n",
       "      <td>0</td>\n",
       "    </tr>\n",
       "    <tr>\n",
       "      <th>998b39d9-e9d6-458a-bc4b-9ee72f76dc2d</th>\n",
       "      <td>21.078</td>\n",
       "      <td>0.333106</td>\n",
       "      <td>0.664600</td>\n",
       "      <td>0</td>\n",
       "      <td>3</td>\n",
       "      <td>0</td>\n",
       "      <td>0</td>\n",
       "      <td>0</td>\n",
       "      <td>0</td>\n",
       "      <td>0</td>\n",
       "    </tr>\n",
       "    <tr>\n",
       "      <th>c47e1913-77b0-493e-9132-f51fa9c76104</th>\n",
       "      <td>23.704</td>\n",
       "      <td>0.664600</td>\n",
       "      <td>0.874762</td>\n",
       "      <td>0</td>\n",
       "      <td>3</td>\n",
       "      <td>0</td>\n",
       "      <td>0</td>\n",
       "      <td>0</td>\n",
       "      <td>0</td>\n",
       "      <td>0</td>\n",
       "    </tr>\n",
       "    <tr>\n",
       "      <th>adfd1a8a-45ef-4a8b-945c-3117edc683f6</th>\n",
       "      <td>27.320</td>\n",
       "      <td>0.874762</td>\n",
       "      <td>0.959800</td>\n",
       "      <td>0</td>\n",
       "      <td>3</td>\n",
       "      <td>0</td>\n",
       "      <td>0</td>\n",
       "      <td>0</td>\n",
       "      <td>0</td>\n",
       "      <td>0</td>\n",
       "    </tr>\n",
       "  </tbody>\n",
       "</table>\n",
       "</div>"
      ],
      "text/plain": [
       "                                        time       plt      plt1  hints_used  \\\n",
       "_id                                                                            \n",
       "2e0f5ecf-47de-4cc3-9df1-39a90d924387   0.000  0.445192  0.284751           0   \n",
       "3dba0c56-d692-4934-9854-c9364eeba6a4  16.982  0.284751  0.284751           1   \n",
       "998b39d9-e9d6-458a-bc4b-9ee72f76dc2d  21.078  0.333106  0.664600           0   \n",
       "c47e1913-77b0-493e-9132-f51fa9c76104  23.704  0.664600  0.874762           0   \n",
       "adfd1a8a-45ef-4a8b-945c-3117edc683f6  27.320  0.874762  0.959800           0   \n",
       "\n",
       "                                      hints_avail  attempt  Hint  Incorrect  \\\n",
       "_id                                                                           \n",
       "2e0f5ecf-47de-4cc3-9df1-39a90d924387            3        0     1          0   \n",
       "3dba0c56-d692-4934-9854-c9364eeba6a4            2        1     0          0   \n",
       "998b39d9-e9d6-458a-bc4b-9ee72f76dc2d            3        0     0          0   \n",
       "c47e1913-77b0-493e-9132-f51fa9c76104            3        0     0          0   \n",
       "adfd1a8a-45ef-4a8b-945c-3117edc683f6            3        0     0          0   \n",
       "\n",
       "                                      Hint  Incorrect  \n",
       "_id                                                    \n",
       "2e0f5ecf-47de-4cc3-9df1-39a90d924387     1          0  \n",
       "3dba0c56-d692-4934-9854-c9364eeba6a4     0          0  \n",
       "998b39d9-e9d6-458a-bc4b-9ee72f76dc2d     0          0  \n",
       "c47e1913-77b0-493e-9132-f51fa9c76104     0          0  \n",
       "adfd1a8a-45ef-4a8b-945c-3117edc683f6     0          0  "
      ]
     },
     "execution_count": 79,
     "metadata": {},
     "output_type": "execute_result"
    }
   ],
   "source": [
    "d.head()"
   ]
  },
  {
   "cell_type": "code",
   "execution_count": 80,
   "metadata": {},
   "outputs": [],
   "source": [
    "\n",
    "assert(1./features <= penalty1 and penalty1 <= 1)\n",
    "assert(1./features <= penalty2 and penalty2 <= 1)\n",
    "assert(minr2 is None or minr2 <= 1)\n",
    "\n",
    "if maxProj is None:\n",
    "    maxProj = features\n",
    "\n",
    "if scale:\n",
    "    std = np.std(dataPoints, axis = 0)\n",
    "    std[std == 0] = 1\n",
    "    X = (dataPoints - np.mean(dataPoints, axis = 0)) / std\n",
    "else:\n",
    "    X = dataPoints\n"
   ]
  },
  {
   "cell_type": "code",
   "execution_count": 81,
   "metadata": {},
   "outputs": [
    {
     "data": {
      "text/plain": [
       "array([[ 31092.        ,  -1516.57698521,  -1461.46821528,\n",
       "          -810.88843529,    810.88843529,   3210.69349333,\n",
       "         -1062.32213109,   2372.14097455,  -1062.32213109,\n",
       "          2372.14097455],\n",
       "       [ -1516.57698521,  31092.        ,  30256.6237758 ,\n",
       "         -3184.94173363,   3184.94173363, -11203.40741957,\n",
       "           507.48670871, -11155.51382826,    507.48670871,\n",
       "        -11155.51382826],\n",
       "       [ -1461.46821528,  30256.6237758 ,  31092.        ,\n",
       "         -3658.96062114,   3658.96062114, -11556.04766753,\n",
       "          -750.50939885, -12162.01882203,   -750.50939885,\n",
       "        -12162.01882203],\n",
       "       [  -810.88843529,  -3184.94173363,  -3658.96062114,\n",
       "         31092.        , -31092.        ,   8740.81697747,\n",
       "         -3332.15589369,  -2527.94222145,  -3332.15589369,\n",
       "         -2527.94222145],\n",
       "       [   810.88843529,   3184.94173363,   3658.96062114,\n",
       "        -31092.        ,  31092.        ,  -8740.81697747,\n",
       "          3332.15589369,   2527.94222145,   3332.15589369,\n",
       "          2527.94222145],\n",
       "       [  3210.69349333, -11203.40741957, -11556.04766753,\n",
       "          8740.81697747,  -8740.81697747,  31092.        ,\n",
       "         -2740.25516597,   7044.94459965,  -2740.25516597,\n",
       "          7044.94459965],\n",
       "       [ -1062.32213109,    507.48670871,   -750.50939885,\n",
       "         -3332.15589369,   3332.15589369,  -2740.25516597,\n",
       "         31092.        , -11674.51458242,  31092.        ,\n",
       "        -11674.51458242],\n",
       "       [  2372.14097455, -11155.51382826, -12162.01882203,\n",
       "         -2527.94222145,   2527.94222145,   7044.94459965,\n",
       "        -11674.51458242,  31092.        , -11674.51458242,\n",
       "         31092.        ],\n",
       "       [ -1062.32213109,    507.48670871,   -750.50939885,\n",
       "         -3332.15589369,   3332.15589369,  -2740.25516597,\n",
       "         31092.        , -11674.51458242,  31092.        ,\n",
       "        -11674.51458242],\n",
       "       [  2372.14097455, -11155.51382826, -12162.01882203,\n",
       "         -2527.94222145,   2527.94222145,   7044.94459965,\n",
       "        -11674.51458242,  31092.        , -11674.51458242,\n",
       "         31092.        ]])"
      ]
     },
     "execution_count": 81,
     "metadata": {},
     "output_type": "execute_result"
    }
   ],
   "source": [
    "np.matmul(X.T, X)"
   ]
  },
  {
   "cell_type": "code",
   "execution_count": 82,
   "metadata": {},
   "outputs": [],
   "source": [
    "Co = np.matmul(X.T, X) / row\n",
    "uList, vList, rSquare, dList = [], [], [], []"
   ]
  },
  {
   "cell_type": "code",
   "execution_count": 83,
   "metadata": {},
   "outputs": [],
   "source": [
    "# Remove diagonal values to avoid max\n",
    "Co[np.diag_indices_from(Co)] = 0\n"
   ]
  },
  {
   "cell_type": "code",
   "execution_count": 89,
   "metadata": {},
   "outputs": [
    {
     "name": "stderr",
     "output_type": "stream",
     "text": [
      "INFO:learner.decider:Return CAA 2\n",
      "INFO:learner.decider:Return CAA 1\n",
      "INFO:learner.decider:Return CAA 1\n",
      "INFO:learner.decider:Return CAA 2\n",
      "INFO:learner.decider:Return CAA 1\n",
      "INFO:learner.decider:Return CAA 2\n"
     ]
    }
   ],
   "source": [
    "\n",
    "    \n",
    "for _ in range(maxProj):\n",
    "    maxCorr = np.unravel_index(np.argmax(np.abs(Co), axis=None), Co.shape)\n",
    "\n",
    "    u, v = np.zeros((1, features)), np.zeros((1, features))\n",
    "    u[0, maxCorr[0]] = 1.\n",
    "    v[0, maxCorr[1]] = 1.\n",
    "\n",
    "    if doubleInit:\n",
    "        c1 = c2 = 0.5 * np.sqrt(features)\n",
    "        try:\n",
    "            u, v = computeProjection(Co, u, v, c1, c2)\n",
    "        except:\n",
    "            logger.info(\"Return CAA 1\")\n",
    "\n",
    "            #return CAA(uList, vList, dList, rSquare, penalty1, penalty2, dataPoints)\n",
    "\n",
    "    c1 = penalty1 * np.sqrt(features)\n",
    "    c2 = penalty2 * np.sqrt(features)\n",
    "    try:\n",
    "        u, v = computeProjection(Co, u, v, c1, c2)\n",
    "    except:\n",
    "        logger.info(\"Return CAA 2\")\n",
    "        # return CAA(uList, vList, dList, rSquare, penalty1, penalty2, dataPoints)\n",
    "    d = np.dot(np.dot(u,Co),v.T).flatten()\n",
    "    r = r2Compute(u, v, X).flatten()\n",
    "\n",
    "    # Append values to the list\n",
    "    if minr2 is None or r >= minr2:\n",
    "        uList.append(u)\n",
    "        vList.append(v)\n",
    "        dList.append(d)\n",
    "        rSquare.append(r)\n",
    "        \n",
    "    # Update Correlation Matrix\n",
    "    Co -= d * (np.matmul(u.T,v) + np.matmul(v.T,u))\n",
    "    if orthogonality:\n",
    "        selection = np.ones_like(Co)\n",
    "        notNull = (np.abs(u) + np.abs(v) != 0).flatten()\n",
    "        selection[notNull,:] = 0\n",
    "        selection[:,notNull] = 0\n",
    "        Co[selection == 0] = 0"
   ]
  },
  {
   "cell_type": "code",
   "execution_count": null,
   "metadata": {},
   "outputs": [],
   "source": []
  }
 ],
 "metadata": {
  "kernelspec": {
   "display_name": "Python 3",
   "language": "python",
   "name": "python3"
  },
  "language_info": {
   "codemirror_mode": {
    "name": "ipython",
    "version": 3
   },
   "file_extension": ".py",
   "mimetype": "text/x-python",
   "name": "python",
   "nbconvert_exporter": "python",
   "pygments_lexer": "ipython3",
   "version": "3.8.5"
  }
 },
 "nbformat": 4,
 "nbformat_minor": 4
}
