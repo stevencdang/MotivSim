{
 "cells": [
  {
   "cell_type": "markdown",
   "metadata": {},
   "source": [
    "# Compare Diligence Estimates"
   ]
  },
  {
   "cell_type": "markdown",
   "metadata": {},
   "source": [
    "Simulate multiple models of students with varying noise and compare diligence estimates with each"
   ]
  },
  {
   "cell_type": "markdown",
   "metadata": {},
   "source": [
    "## Setup"
   ]
  },
  {
   "cell_type": "code",
   "execution_count": 1,
   "metadata": {},
   "outputs": [],
   "source": [
    "import sys\n",
    "sys.path.append(\"../lib\")"
   ]
  },
  {
   "cell_type": "code",
   "execution_count": 2,
   "metadata": {},
   "outputs": [],
   "source": [
    "import math\n",
    "import random\n",
    "import uuid\n",
    "import os\n",
    "import copy\n",
    "import itertools\n",
    "from collections.abc import Iterable\n",
    "from datetime import datetime as dt\n",
    "\n",
    "import numpy as np\n",
    "import pandas as pd\n",
    "import matplotlib.pyplot as plt\n",
    "\n",
    "from scipy.optimize import Bounds\n",
    "from scipy.optimize import minimize\n",
    "from scipy import optimize\n",
    "from scipy.stats import pearsonr\n",
    "\n",
    "from sklearn.cluster import DBSCAN\n",
    "from sklearn.metrics import mean_squared_error\n",
    "\n",
    "import statsmodels.api as sm\n",
    "\n"
   ]
  },
  {
   "cell_type": "code",
   "execution_count": 3,
   "metadata": {},
   "outputs": [],
   "source": [
    "import logging\n",
    "\n",
    "#logging.basicConfig(level=logging.DEBUG)\n",
    "logging.basicConfig(level=logging.INFO)\n",
    "#logging.basicConfig(level=logging.WARNING)\n",
    "\n",
    "logger = logging.getLogger(\"main\")"
   ]
  },
  {
   "cell_type": "code",
   "execution_count": 4,
   "metadata": {},
   "outputs": [
    {
     "name": "stderr",
     "output_type": "stream",
     "text": [
      "INFO:main:Test info\n",
      "WARNING:main:Test warning\n"
     ]
    }
   ],
   "source": [
    "#logging.getLogger().setLevel(logging.DEBUG)\n",
    "logging.getLogger().setLevel(logging.INFO)\n",
    "#logging.getLogger().setLevel(logging.WARNING)\n",
    "logger.debug(\"Test debug\")\n",
    "logger.info(\"Test info\")\n",
    "logger.warning(\"Test warning\")"
   ]
  },
  {
   "cell_type": "code",
   "execution_count": 6,
   "metadata": {},
   "outputs": [],
   "source": [
    "from tutor.domain import Domain\n",
    "from tutor.curriculum_factory import CurriculumFactory\n",
    "from tutor.simple_curriculum import SimpleCurriculum\n",
    "from tutor.tutor import SimpleTutor\n",
    "from tutor.action import Attempt, HintRequest\n",
    "\n",
    "from learner.selfeff_learner import SelfEfficacyLearner\n",
    "from learner.modular_learner import ModularLearner\n",
    "from learner.binary_skill_cog import BinarySkillCognition\n",
    "from learner.decider import *\n",
    "\n",
    "from simulate.modlearner_simulation import ModLearnerSimulation\n",
    "from simulate.simulation import SimulationBatch\n",
    "\n",
    "from analytics.batch import *\n",
    "from analytics.student_stats import StudentStatCalc\n",
    "from analytics.featurization import *\n",
    "from analytics.cae import *\n",
    "\n",
    "from log_db import mongo\n",
    "from log_db.curriculum_mapper import DB_Curriculum_Mapper\n",
    "from log_db.learner_mapper import DBLearnerMapper\n"
   ]
  },
  {
   "cell_type": "code",
   "execution_count": 7,
   "metadata": {},
   "outputs": [],
   "source": [
    "from CanonicalAutocorrelationAnalysis.model.caa import CAAComputation\n",
    "from CanonicalAutocorrelationAnalysis.model.caaObject import *\n",
    "from CanonicalAutocorrelationAnalysis.model.utils import l1Norm, l2Norm, r2Compute"
   ]
  },
  {
   "cell_type": "code",
   "execution_count": 13,
   "metadata": {},
   "outputs": [
    {
     "name": "stderr",
     "output_type": "stream",
     "text": [
      "INFO:analytics.cae:Base directory for the project:\n",
      "/rdata/Sandbox/MotivSim\n"
     ]
    }
   ],
   "source": [
    "# Get path to current project directory\n",
    "cwd = os.path.abspath(\".\")\n",
    "base_dir = os.path.abspath(os.path.join(cwd, os.pardir))\n",
    "logger.info(\"Base directory for the project:\\n%s\" % base_dir)"
   ]
  },
  {
   "cell_type": "code",
   "execution_count": 9,
   "metadata": {},
   "outputs": [
    {
     "name": "stderr",
     "output_type": "stream",
     "text": [
      "INFO:analytics.cae:Writing simulation results to directory: /rdata/Sandbox/MotivSim/test/data/sim-dbe9c7fc-3df7-48b3-8df1-39ec82148452\n",
      "INFO:analytics.cae:got db params: {'settingId': 'motivsim', 'url': 'localhost', 'port': '27017', 'name': 'motivsim', 'user': '', 'pswd': ''}\n"
     ]
    }
   ],
   "source": [
    "# Setup connection to database\n",
    "data_out = \"sim-%s\" % str(uuid.uuid4())\n",
    "data_path = os.path.join(base_dir,\"test\", \"data\", data_out)\n",
    "logger.info(\"Writing simulation results to directory: %s\" % data_path)\n",
    "db_name = \"motivsim\"\n",
    "db_params  = mongo.get_db_params(db_name)\n",
    "logger.info(\"got db params: %s\" % str(db_params))\n",
    "db_util = mongo.Data_Utility(data_path, db_params)\n",
    "db = db_util.db"
   ]
  },
  {
   "cell_type": "code",
   "execution_count": 10,
   "metadata": {},
   "outputs": [
    {
     "name": "stderr",
     "output_type": "stream",
     "text": [
      "INFO:log_db.mongo:collection name, kcs, has 67 documents\n",
      "INFO:log_db.mongo:collection name, caa_batches, has 8 documents\n",
      "INFO:log_db.mongo:collection name, simbatches, has 3 documents\n",
      "INFO:log_db.mongo:collection name, caa_models, has 800 documents\n",
      "INFO:log_db.mongo:collection name, domains, has 1 documents\n",
      "INFO:log_db.mongo:collection name, students, has 600 documents\n",
      "INFO:log_db.mongo:collection name, units, has 2 documents\n",
      "INFO:log_db.mongo:collection name, decisions, has 1589503 documents\n",
      "INFO:log_db.mongo:collection name, curriculums, has 1 documents\n",
      "INFO:log_db.mongo:collection name, steps, has 7577 documents\n",
      "INFO:log_db.mongo:collection name, finalsimstudents, has 600 documents\n",
      "INFO:log_db.mongo:collection name, problems, has 1904 documents\n",
      "INFO:log_db.mongo:collection name, actions, has 1589503 documents\n",
      "INFO:log_db.mongo:collection name, sections, has 14 documents\n",
      "INFO:log_db.mongo:collection name, tutor_events, has 1433293 documents\n"
     ]
    }
   ],
   "source": [
    "# Test db connection\n",
    "db_util.peak()"
   ]
  },
  {
   "cell_type": "code",
   "execution_count": 10,
   "metadata": {},
   "outputs": [
    {
     "name": "stderr",
     "output_type": "stream",
     "text": [
      "INFO:analytics.cae:Skipping Clearing database\n"
     ]
    }
   ],
   "source": [
    "clear_db = False\n",
    "if clear_db:\n",
    "    logger.info(\"Clearing database before starting new simulation\")\n",
    "    db_util.clear_db()\n",
    "else:\n",
    "    logger.info(\"Skipping Clearing database\")"
   ]
  },
  {
   "cell_type": "markdown",
   "metadata": {},
   "source": [
    "## 1. Simulating learners"
   ]
  },
  {
   "cell_type": "code",
   "execution_count": 11,
   "metadata": {},
   "outputs": [],
   "source": [
    "num_students = 200"
   ]
  },
  {
   "cell_type": "code",
   "execution_count": 12,
   "metadata": {},
   "outputs": [],
   "source": [
    "def gen_students(num_students, domain, curric, \n",
    "                 cog_mod, dec_mod):\n",
    "    stus = []\n",
    "    for i in range(num_students):\n",
    "        cog = cog_mod(domain)\n",
    "        dec = dec_mod()\n",
    "        decider = DiligentDecider(dec)\n",
    "        stu = ModularLearner(domain, cog, decider)\n",
    "        stus.append(stu)\n",
    "        \n",
    "    return stus\n",
    "\n",
    "def simulate_students(domain, curric, students, batch):    \n",
    "    for i, stu in enumerate(students):\n",
    "        logger.info(\"Simulating student #%i\" % i)\n",
    "        sim = ModLearnerSimulation(domain, curric, stu)\n",
    "        batch.add_sim(sim)\n",
    "        sim.run()\n",
    "        \n",
    "    logger.info(\"Inserting %i simulated students to db\" % len(students))\n",
    "    result = db.finalsimstudents.insert_many([stu.to_dict() for stu in students])\n",
    "    logger.info(\"Db insert success: %s\" % result.acknowledged)\n",
    "\n",
    "    logger.info(\"Inserting simulation batch to db\")\n",
    "    result = db.simbatches.insert_one(batch.to_dict())\n",
    "    logger.info(\"Db insert success: %s\" % result.acknowledged)\n",
    "\n",
    "    return batch, students\n"
   ]
  },
  {
   "cell_type": "markdown",
   "metadata": {},
   "source": [
    "### Generate Curriculum"
   ]
  },
  {
   "cell_type": "code",
   "execution_count": 13,
   "metadata": {},
   "outputs": [],
   "source": [
    "new_curric = None\n",
    "new_domain = None"
   ]
  },
  {
   "cell_type": "code",
   "execution_count": 14,
   "metadata": {},
   "outputs": [],
   "source": [
    "def gen_test_curric(db, db_params):\n",
    "    global new_curric, new_domain\n",
    "    if new_curric is None:\n",
    "        logger.info(\"Generating new curriculum\")\n",
    "        domain_params = {'m_l0': 0.45,\n",
    "                         'sd_l0': 0.155,\n",
    "                         'm_t': 0.25,\n",
    "                         'sd_t': 0.13,#0.03,\n",
    "                         'm_s': 0.155,\n",
    "                         'sd_s': 0.055,\n",
    "                         'm_g': 0.15,#0.6,\n",
    "                         'sd_g': 0.105\n",
    "                        }\n",
    "        curric_params = {'num_units': 2,\n",
    "                         'mean_sections': 4,\n",
    "                         'stdev_sections': 2,\n",
    "                         'mean_unit_kcs': 22,\n",
    "                         'stdev_unit_kcs': 23,\n",
    "                         'section_kcs_lambda': 6,\n",
    "                         'mean_steps': 10,\n",
    "                         'stdev_steps': 4,\n",
    "                         'mean_prob_kcs': 6,\n",
    "                         'stdev_prob_kcs': 3,\n",
    "                         'num_practice': 100\n",
    "                        }\n",
    "\n",
    "        domain, curric = CurriculumFactory.gen_curriculum(domain_params, curric_params)\n",
    "        db.domains.insert_one(domain.to_dict())\n",
    "        db.kcs.insert_many([kc.__dict__ for kc in domain.kcs])\n",
    "        curric_util = DB_Curriculum_Mapper(db_params)\n",
    "        curric_util.write_to_db(curric)\n",
    "        \n",
    "        new_curric = curric\n",
    "        new_domain = domain\n",
    "\n",
    "        return domain, curric\n",
    "    else:\n",
    "        logger.info(\"New curriculum already generated\")\n",
    "        return new_domain, new_curric"
   ]
  },
  {
   "cell_type": "markdown",
   "metadata": {},
   "source": [
    "### Simple Diligent students"
   ]
  },
  {
   "cell_type": "code",
   "execution_count": 15,
   "metadata": {},
   "outputs": [],
   "source": [
    "sim_batch_desc = \"Simple diligent students\"\n",
    "cog_mod = BinarySkillCognition\n",
    "dec_mod = EVDecider"
   ]
  },
  {
   "cell_type": "code",
   "execution_count": 16,
   "metadata": {},
   "outputs": [
    {
     "name": "stderr",
     "output_type": "stream",
     "text": [
      "INFO:analytics.cae:Found simulation batch: {'_id': '54935595-da2e-4e72-a71d-e1497f4c0bb3', 'run_time': datetime.datetime(2021, 1, 8, 5, 32, 45, 859000), 'desc': 'Simple diligent students', 'student_ids': ['3d74792e-e397-49d8-822f-c5ab8b01e1f0', 'd319c5a9-dee5-48be-8dcb-22dd6c1fdb6f', 'a3c1a477-36a9-421d-b022-59de0e383642', 'b8e2b263-4e5a-421a-aabe-8551624b79d4', '99aa2c7a-7808-4e31-bda4-590e9ccb41da', '008ad67c-1766-4921-8f5c-f82090b7faf7', '74b7f8b0-c7ad-47b3-9806-e8ed1795cd5c', '1d035537-71a8-4343-bdeb-f8d77fcb9c89', '1fa35783-062f-4189-b985-ec4e4bada1e9', 'aefd3f3a-255f-4540-9a66-3fadf798bc01', 'ae730e6f-6cb0-4d12-8711-2e7225eaba14', '4fef3a78-fcf3-4c9e-9c0a-7b793574dc0f', '35643369-d216-44bf-b47a-e873495adc4d', 'e37f9f87-22aa-4329-ab20-0c8d1b233fdc', 'd2657734-68c9-4f74-9f49-ca3eeed2ce85', '5f8308ea-bfc5-49b7-8d35-ced038735dc6', '9b97b7a5-1407-496a-ad67-6c115f5093ca', 'b456057f-02ec-4926-b4fb-bb3b9a1a1cb5', '9654063f-8344-4d69-953f-4613e2c8e487', 'c425b472-66ae-4d37-868c-5bfcab33f17c', '1d47ac2b-cf7c-45ef-9d61-c7ba3df49f53', '19df5d03-fec2-41cd-9722-2dbbe7398e41', 'f6fad2b1-893a-4cbc-bc25-86b63d7b794f', 'a79a3ab7-05a7-4773-b7f4-40c5c3eae35d', 'd95977d3-00b2-42dd-a64a-ffc024bbb652', '3aeee38e-a70f-4f79-8422-81e7a545d10a', '2eadcad5-ca2e-409e-b164-0a657991be44', 'ab6d8387-0518-4fed-b1fe-b06500479cca', 'b7825c0f-656f-4386-9d12-59a143ca6a2c', '12ee9120-3d2e-4d65-8ede-9ad6f50230da', '13438bd5-8f5a-4343-a518-03865d05d70e', '0227f010-6303-41c2-b920-87a558f30aa1', '9b9752b4-7098-4d7a-8a1a-f0f9115b3b55', '1b461478-5f71-4b7d-b0cf-ad9fa681c186', 'c8684592-7286-417d-ab63-a90216e85b1b', '46f91dbe-9be3-47cc-bd49-526efd01642f', '6a1569a7-d1e2-4d41-97cf-57753feaf78f', '016bd40e-4b34-4c03-bf90-1486274a1029', '1e69e3ff-a7d0-4b67-8989-70f7024106ad', 'db5cd99c-5e6b-4003-937e-482266d4620c', '020dfd05-22a9-44ae-8a5d-48cb87e2c637', 'cbc76647-fc84-4283-82b6-3b8b234beaf4', '4859ffc6-fba4-4f50-820f-a56093adb597', '934a6285-b822-4c65-b908-b165991b2934', '0dbd6c84-f5d6-4264-9730-6e1bc978162c', '67e1e55c-0209-482f-bcee-4a96df760bfe', '77d5a4a0-a2f7-4932-be72-5c56d5963349', '14211b98-9d30-4dd2-9422-e5a20622d580', '6d4dbd39-ac36-4715-851b-7aa0c6a3e841', '6e440267-d0fc-4c4b-a814-a18562b42d3d', 'c2646839-8d4c-44bb-a96d-7ba146213ad1', '39f5ae5d-8418-450f-a0a2-e9ed275e8f27', '10fc9185-3c28-447d-8f99-39e67ac3d3f9', 'c740242d-fc60-4c8d-b7a5-00ba2fb3ee28', 'f6098683-575a-48fa-8a73-a700c147de0f', '8c5442e9-bbb9-4a74-9332-4b3e26f3ad32', 'cfa40f20-3db5-441c-b199-9cbbbc560631', '22f09ffb-463a-4781-9e94-3f048e4ff154', '46041fbd-8220-4565-9ba8-ed4436d4b19e', 'b9ba6155-b808-4484-a86a-4645c7124024', '8fe36bae-ae8e-4597-9f1a-1dbce6a4aa2f', 'e24a466b-a124-4183-a55a-8734bcd5b80d', '02d89e0e-978e-48c9-a9c2-92f7c7d2cb25', 'dc5b112d-f7b8-4261-9222-e00612ff81f5', 'b9435b6a-3bc4-413b-b8c2-781d5f2135db', 'e1429fa2-89c2-40ad-a1e9-31129ed54e46', '841f6de1-19fd-4b52-b902-7491095b9e08', '17f67ba7-e668-4c04-8578-0e01ab2551a3', 'e725c361-103b-41f6-99ea-9321d6f91df8', 'e0573f75-c225-439e-8902-83e236a8dc8a', 'c3e2add4-c091-4c89-8763-e4be027909ac', '2d561f13-7b25-4cda-8926-7d9c45473c33', '42477506-5093-4984-94b5-f0f6c63d59a0', '1a36f3f9-9704-4727-8cdb-764354791e9f', 'f6e51ee1-8379-44ce-aafa-66f95b12c290', 'd99bb5d6-60b7-48da-a039-92fabb8ce987', '2172a6e8-5831-42f2-a723-5afb11cebdea', '69352822-9941-41e3-89fc-c74345ec9692', '75fb8bfa-21fc-443b-820a-811040690c5e', '04fde0b4-a6bc-4382-bfe5-e3b9794e435b', 'a617c3e7-c9f4-41c5-94f4-01b9171af84a', '95392a93-8bba-43b7-b0cd-a4799496220b', '5bc0795a-08cb-4783-a6e9-5390a32e27bd', 'dd2389df-52c1-4f9b-8771-1a30f019e236', '7ade7842-a99e-47e1-827d-e3a032459be6', '60ea1f7c-719b-4561-8d3d-6f4e135125ff', 'bc6ba387-aedd-414f-b82f-e4e7575df777', 'ab2e2862-5067-4dfe-ad52-c68fc603b668', 'cb0fd18d-035c-4eb1-8c34-c462bd69aae3', 'e8db7cf6-05e7-455c-877b-4229e832c2d0', '054a0bd1-b5a3-40c9-ac1d-bc786184ecf3', 'c0ae6f3e-7fa2-486b-ba88-60ce387cb35b', '378c7153-54d8-4e55-971f-cea109ca909c', 'c1c857df-d49a-461a-b4c4-300df812825d', 'de29ad72-080e-4a4c-a5fd-4b6597490228', 'fabf14f6-3546-403b-9747-055712de02ec', '185c5897-6670-412c-bb1d-37c7ffaff98c', '3af0f7d3-6d24-41f5-a948-949f07dc0afa', 'f4eb0bf0-1746-4b6b-874d-6f00cb58a5ba', '595e21fa-744f-4759-b723-8dad2cbdf9e3', '2d187c8f-2252-4a69-b0be-45edef2b0bbc', '7a33af5d-ee63-4245-a6b0-4db23e6e1117', 'c3feb0fa-582d-4cf9-a3c6-c4f3ea137b57', '899be4db-c49e-40a3-b4f8-e624fa4ed62b', '60bc1bbb-9472-482d-ab2d-0291a64cc9eb', 'a2fbbe97-f6ff-4aa8-8f64-a63caca52501', '5a03ee3d-d353-4f22-be67-c846b284249e', '699e4302-4ddc-4591-a219-2720dd001869', 'e4003296-60ba-4773-ba33-4b4bfa38eae5', '086cac26-0927-4978-89d6-04ea62d2cfb7', '8ed04f22-717a-4d1d-be24-ef4874271332', '0aa28d02-4900-45cd-844f-ec3f119e98e0', '87477381-9430-456a-8fe1-0367cf799e48', '435e09c4-59fe-47c7-873e-32289aee3eef', 'd5463f97-c833-4fee-9dff-3b43895f8ad9', '44cd5781-1151-4cb7-843d-58cfa5a85f74', '3fe4e47f-a398-401a-8646-a1e2df976761', 'cff6f1b1-a924-4d23-91a4-e4d19187c517', '9bb07364-005f-41d7-97eb-dbd44c53e42e', '86c8b2da-2fb6-4dd6-a485-65d7f32aff2b', '250916c7-36dc-4e06-ae56-ba447ba6505e', '1bb651a8-48a0-4735-92bb-dd6c5e161894', '84bb4d94-5643-439d-bed9-995a63ae4e65', '79c3e2f4-56fe-4f4e-a56d-b9c52378acae', 'dd5280a5-f28f-4a14-bf92-da33bb75d0f9', 'bd46a8fb-85a6-4865-8422-048ebf79db66', 'c9d355d4-b4ae-4023-aa74-1376bfb66e88', 'a46c20fa-9b14-48e7-83fa-95eff81c5940', '36064bbd-06e6-41cb-b05c-c390d2d13ce9', 'ecba2e54-59cf-4ebe-8f36-aa05069ebe64', '94b9255c-851c-43db-aa64-361265775f99', '43dd9602-cf71-41ee-8a83-28766fa52fa2', '5107f099-f803-4e9b-84be-4e330969e18e', '9570bd7d-e750-4ed7-8efd-313c736ed52d', '1b64754b-23a4-4c2f-a661-d973763a0ac4', '0d0632e9-945b-49fc-81dd-6c7cd34d12c0', '5ea61944-ca62-476e-b5a9-5356e7edff45', '17300c45-2ec1-4121-9d0c-a2ee7192aa9d', '58208445-4094-425b-b23d-160b023840dd', 'af4f10e0-8950-4c20-a38d-839e874db9d8', 'b6cdd3c2-977a-421e-802e-f7ea30028e55', '11c7a2b6-7b8b-463d-840b-28ea843b3c51', 'b96352b8-4026-41f3-9749-12adcf9e3300', '76de2467-bcbf-41f4-8ec1-82e4a75f4f13', 'a1b1eb42-aff7-406c-89df-261fbe0e30ea', '2ca96d34-6cd7-4433-a3d4-2d393a2abcd5', '4b0fe502-059d-403a-9943-4ec034aa9df4', '0e8fc6f6-3af0-4bf7-bddc-6627eefae810', '177af4f6-951a-4d9e-9e73-7688a0019950', '368e1c26-ff05-4827-84e1-c633337459a3', '626b50ed-2012-4f85-89db-03f088f837d3', '01c4d0e3-a7ef-4e60-bfbe-e9435cff9a63', 'd19cf801-5a0b-42e6-ad33-f6b5ad420254', '169ea4ec-1849-45a8-a6cb-d933704ad4e3', 'abbbd401-5275-475e-9c9a-62c06b0fc2c2', 'c3a3c559-f575-41e7-bea7-8c9aaa92c125', 'cd31d7ce-e64d-442c-be8a-0c84d270a4a0', '1b5bf5c7-6fff-4349-9187-43ea959e27e5', 'c848f98f-b46a-4432-a1df-0ebe47ada161', 'cd5ae790-aead-4d9d-9ad4-70e23855f9e7', 'd23bcd2c-42c6-4d80-8822-6edbca62a320', '417e92da-e8c6-4da0-9f21-6f2f83a2eaa5', '136a0820-647a-4c51-8ad6-2e6162015455', '6bdcd155-23cf-42f2-8d4a-f2eaa9d5652a', 'c263e712-03da-46ac-a799-f54c75133687', '7e36cd3d-6d3a-438b-96cb-ecf20f6611b5', 'a1079d39-2abb-4d38-9193-ecfe26ddaebd', '1596f962-6326-44ad-bfee-439dc46f27fe', 'f8285808-0eec-44d9-b844-5627ab9757de', '3c5e503f-22bd-44dd-89fb-00797ec179f3', '783b6086-9cb8-40f5-8309-fa311fe90955', '73963a24-0a48-472d-b5c6-71db34b5c5b7', '72962c8d-8b4f-4b21-9a26-5bfe1ba1ee47', 'fb8feed0-9f8a-46f7-a61f-412455365e69', '73a1810d-d512-4089-8a76-1cc8e313974a', 'f89e38bb-623d-4a39-b965-4daa6ad3eb4a', 'ed73e3ac-5dac-40c1-8963-eff654988d14', '3efec5d3-8980-46f4-8797-57252c8e196f', '71f3920f-335b-4f31-9782-e6db9591d591', 'b68bc59d-4726-4a13-86fa-d7ec34a74a64', '6a1276a0-f4e1-49f9-8de3-d66a2dbe72eb', 'c2e43ef4-3db9-4311-a80c-e0bed399cab0', '5368e6dd-656c-4818-b30d-88006e5fc36a', '22279d58-366f-41fb-8610-32c8c6ba1924', 'd3796444-ed5e-40ee-8860-4d97b7a93af0', 'ce41fb53-51fa-4f76-8d0a-ecb7d30cc98a', 'd45322ea-4750-4281-aec8-33b54ee8b20a', '8cc11359-3b7a-45ca-a4c4-a535f07da0c7', '5fa184ba-5c0d-4d14-ae46-89ffaa07c24e', 'f802a45e-3afc-46b6-a274-ae6c0743a027', 'bb549a3e-4261-4329-8dca-06d18036b4f0', '2bd4b369-9ada-4a6f-8d2d-82b6dcfbb760', 'c510414a-7110-4685-9f7e-f9019066cb53', '2ea009c1-dc0e-42f8-a5ca-d69a3dd79d5c', 'a1950b4f-fdb6-4674-8190-07161f5e707a', '29aabb43-e225-4bb0-b067-2a315a6455b1', '357e8b89-927d-44dc-9e6f-5b061d8718e6', '6817054d-5a17-4554-8a1d-1c51dc9458d1', 'e682b426-b755-43e9-adb8-b44cda3717fe', '20169dc6-d5c0-4f9e-b117-f28104a8c397']}\n",
      "INFO:analytics.cae:Recovered 200 students from batch with id: 54935595-da2e-4e72-a71d-e1497f4c0bb3\n"
     ]
    }
   ],
   "source": [
    "simbatch = db.simbatches.find_one({\"desc\": sim_batch_desc})\n",
    "if simbatch is None:\n",
    "    logger.info(\"Generating new simulation. None found in db\")\n",
    "\n",
    "    # generate simualted data for test\n",
    "    domain, curric = gen_test_curric(db, db_params)\n",
    "    students = gen_students(num_students, \n",
    "                            domain, curric,\n",
    "                            cog_mod, dec_mod)    \n",
    "    logger.info(f\"Persisting {len(students)} initialized students to db\")\n",
    "    db.students.insert_many([stu.to_dict() for stu in students])\n",
    "    batch = SimulationBatch(sim_batch_desc)\n",
    "    simulate_students(domain, curric, students, batch)    \n",
    "    logger.info(f\"Simulated {len(students)} in batch with id: {batch._id}\")\n",
    "else:\n",
    "    logger.info(f\"Found simulation batch: {str(simbatch)}\")\n",
    "    lmapper = DBLearnerMapper(db)\n",
    "    students = [lmapper.get_modlearner_from_db(sid) for sid in simbatch['student_ids']]\n",
    "    batch = SimulationBatch.from_dict(simbatch)\n",
    "    logger.info(f\"Recovered {len(students)} students from batch with id: {batch._id}\")\n"
   ]
  },
  {
   "cell_type": "markdown",
   "metadata": {},
   "source": [
    "### Diligent Students with variable values"
   ]
  },
  {
   "cell_type": "code",
   "execution_count": 17,
   "metadata": {},
   "outputs": [],
   "source": [
    "sim_batch_desc = \"Diligent Students with variable values\"\n",
    "cog_mod = BinarySkillCognition\n",
    "dec_mod = RandValDecider"
   ]
  },
  {
   "cell_type": "code",
   "execution_count": 18,
   "metadata": {},
   "outputs": [
    {
     "name": "stderr",
     "output_type": "stream",
     "text": [
      "INFO:analytics.cae:Found simulation batch: {'_id': '78ea7cc5-d11b-46c8-b705-d6aebb5a1123', 'run_time': datetime.datetime(2021, 1, 8, 5, 55, 18, 580000), 'desc': 'Diligent Students with variable values', 'student_ids': ['bbee4d23-9cbd-4375-a9cd-ca942cc57f03', '57f87f30-afe3-49c1-ac27-dd05f66be88b', '11ccf625-bfa9-40a5-8d27-f8576da8c7d0', 'c6698a16-1577-47ae-8619-1d63f7de4f31', '7f642220-464f-4594-8702-a2a65310eaba', '4912a065-91fc-4590-81b0-80fbf257ff54', '14b0b0b6-7c54-4f8a-af93-bd3958223015', '5602c672-e856-4652-9608-23656a939403', '908f6423-cf31-4c77-9764-fb42eab68d96', '0b2c8645-adea-4acf-8310-2a12266edb7d', 'e08c6269-9df2-4d23-98d3-27f3a1ef1486', '99419972-27ed-402f-be2a-488a2652b078', '7de4997b-a89e-4a1e-a415-d96f688a56d7', 'd5e3fcc9-359a-40a8-add8-aec66abd2451', 'a6f7b9b6-e916-4869-ae48-ae55af37e0fc', '0112b916-c447-43e2-8b56-9e94b34d1fed', '7b6ab041-7fbd-4446-8b94-41a3cb4fbb73', '5b87770d-e04d-4ace-b7d7-3200779a13e2', '8bd15e58-b8dc-4a1f-9dce-eaa4575bcaf3', '2b7010fe-975d-480f-abed-845e80faf818', '04a16d33-a154-450b-9a5d-307ae7adc0e4', 'ad46e66a-253b-4ff3-8b25-2cf0a7b4bb26', '2c0e313a-16e1-4431-b961-ad056bde58fc', '410232a4-8998-4db3-849e-32eceafa859e', '4aa4aae1-65d0-4b63-8a01-72b76164733c', 'c36f8061-ac9c-46da-8191-9a4027e7f900', '44bd07d2-1331-45fb-8628-ae46a81f32eb', '984d6c6f-3ca1-4e1f-9a30-089a918ee1fc', '441cfbad-2f76-4187-8b34-436989050de5', '308da094-2877-4611-9613-b0242ebf6026', '37582d57-aa40-47e3-bb00-b892943394a7', 'ff874130-26ce-4024-8b61-ed07d6b067be', '3778b95b-b346-4840-b2ec-f367f8576a4b', '349a9725-8c48-40df-8b15-4d47e116f546', 'cf30c8c9-ab2f-4cbc-95d0-73c00c5a65f5', '27a5f4d4-da0a-48fb-a97b-514463ea1ffe', '00b50ef0-dd6d-40b6-a45f-419383dd987e', '808c9418-379a-49e0-84f8-101228860365', '5eb9fb1d-4dbd-4971-9d0b-ac2b4c7c7142', 'f0bed9a7-9591-4b4a-ac26-2233924e7dc8', 'fb48f9dd-2834-47ce-b68f-28536a2ddcb4', '7eeff894-c1b4-4bbd-87fc-6d39faf79005', '9d549f42-af81-46c7-9768-902980330681', '09ff72af-12e1-4ad2-ada7-5ba61feb70d4', '0e7abfa7-33c5-4669-b27f-ef4799bb1165', 'b9d112dd-1abf-4cee-aca2-bc27847ce177', 'c0104c61-c8d3-4952-8674-28c009d14b3d', '6e7526a7-d4e8-47b5-bfc6-cba08424dcda', 'fce51cf7-ee8e-4c13-a89c-5ec1e75698c5', '8f093f25-f7b5-4bc8-bd63-5b44aa5ab2e5', '7ce35ce7-d321-4698-87cb-1d3960ff6a3a', '04e402d5-5772-459d-9391-5eec8567eeff', '7afd110d-9f6b-42a8-9f1f-753f86f2ba2f', '8e37b29c-40bc-4401-9c5d-40d7d87521d9', '9066b858-89b5-4018-9c62-0d1b4c1d6605', '0546e338-6f9b-424d-ab3b-50a041380fc9', '6ab3e41b-26cc-40ab-a89a-075b2398a9c6', '17f56e81-159c-467c-a52f-17ae7f2f4b20', '17360cc6-11e7-498f-b9fb-75ee0388283b', '80d9c60c-8cb7-43ea-bbbb-ed1ac1775141', '2b07c36b-43da-4630-b6dc-e39e788e0ffe', '417f20a2-421a-4be7-aed9-cc7599301beb', '9f0d9a07-dfd4-4549-baf6-b08b9a11d3bb', '7961bc93-38ae-4e5a-ad5f-172f85ced549', '46bff15a-c502-472b-8401-4c17e1f2eadf', 'f649d03c-cb1f-4036-8305-801606bbbde1', 'a153115a-5c19-43f6-b394-b2c7d385a2ee', 'f4a2fd9e-f3f7-4886-91f3-bb9737c06c95', '4ecea9ec-80db-4d4a-b4f4-599fdf7d95db', '67b96111-f7f0-4452-a164-7882ee8c3383', '2655104a-25c4-41bf-a1dd-80409d91c16e', 'aeb2bd4b-9f21-4f88-abe3-1db27a566af3', 'fd8bbe0e-901f-405e-88e9-1a57455c6a2d', '3a41251b-e162-46fd-b3cb-7ebfb722a3f3', '1c58eb03-65b1-4089-86c5-8f14f33a34e3', 'd1170d93-352d-463b-8352-28fbdc873a53', 'e385763e-d42b-4aa9-a7ee-a0145a0a04a9', '906e34de-013c-4a90-a26f-9c84d9744451', '5b3b8441-81d9-4830-a215-6029760dc421', 'c26a8450-1045-4ff3-a0fd-87b331c2c4ed', '35601173-c8aa-40f8-b729-d942ea0ae02f', '5dfe9fea-cb25-4ec4-bc35-d265c321f8f2', 'a6999cf9-c81d-4635-bf7c-e3b0494610bb', '9f936b99-e5b8-4e79-8848-50e6004b20fc', '22251bcb-f39a-4432-9577-cf599031840d', '6a5ebc1c-2202-4602-88e0-d20f35720ffa', '80240bcd-dc83-42e0-998b-51624a71eda8', '6ccda26c-5e66-4ddc-9c8a-5bab5fc2348f', '5261bc4b-2fea-45cd-b734-d55584cbadc2', '80ebfab8-b9f0-49b1-9937-d64450fd342d', '00014d87-fc7e-4370-85ae-d091727043ca', 'a1ef1d28-bc3f-4661-a3f5-cef96a57b39f', 'a1cc3c80-2078-418a-a27c-7f35ed64005e', '0636cc17-cc74-43e7-9eaf-6dd573c3db93', '00711989-41c5-49cd-b127-c59d5e9461e6', '25234447-e7fb-4a36-a475-a6da463c5b1c', '684662d4-15f0-4e39-b625-ebc0e1f3ad55', 'd3b22eba-dc1f-45cb-9902-efd26e574e39', '80149ea4-e129-4755-8f12-686dd436f079', '2f1a20b2-5f6b-4230-bbc7-d3d30de259bc', '4e4bc668-8a3d-452e-a79d-c48d5fa5613d', '5b38d04d-e7c3-4bb7-827e-9442801f4ada', '032a4c58-5a12-436f-85f9-f7a7b59ac31b', '81ff3733-b314-474d-9511-dfed6e566432', '2b9ba79f-2a85-44f8-ac9c-94171fdcedae', '779a59cf-48e3-4e79-9c42-b1760f358275', 'f4e2e1c4-8897-4766-9d39-e572b0e9500d', '2cd80ec6-0dd0-490e-a940-7c152447fe10', '1e2150b3-e462-4b4b-acad-c353a662fe6a', '303c525a-8707-44f8-b6e7-4eaf06a38245', '916ab994-894a-4c6c-8850-85d7f25266ee', '0ec6a438-53c2-4ff8-b699-bdabce5aa395', 'd4d31c41-45fc-4012-bab6-68e932dd9689', '38474039-a13d-4755-9f50-e9da9158eddb', 'ae0f7adc-5093-4b27-a09e-c3e80ce16f78', '1da34ba8-22be-4041-afc2-b367f74c156b', '17aedb1d-27fa-4805-b0f7-6fa19d6cb70e', '9a0b1753-3a09-4a4f-82ea-210f90bab949', 'e8846416-2b3f-41bd-8cd7-22b0d4545c84', 'f45645ea-1497-41c3-8c6f-a097e90a66ce', 'b1f25000-d9b6-42d8-9e7f-f3a88419ab9f', '2f346487-de19-4497-b8ae-3a421921063c', '2f825609-41fe-4176-a5e0-b4f2b193efdc', 'cafe0187-7fbb-4973-8750-829e6bad8995', '4c27a29d-c383-4c7d-b1af-7dfc440f4d99', 'b5e22a36-08bb-4cb3-a86c-a2cfd11e5f84', 'b76685f3-48f6-4050-9267-9005e247b58d', '83aaf858-a75c-4de4-82b3-64e13fddd345', 'd7ece691-8e7e-4e0d-93bc-34d174801570', '32d27714-f04e-4842-980f-2172ce3e0d7d', 'd0ca7865-0b45-4879-a265-fc0d32889a3b', '5cb3ce1d-5f12-4ef9-bb88-78b3913144aa', '5e107aaf-c6f9-40c1-a932-00689d8ab548', 'b2f11477-0b7a-4161-828e-7ba27176c6cd', '3608f556-52e9-4d05-bf6d-ecc7e3cbf5d1', 'c9b75fb2-24fb-4171-8d99-edcf904c68f1', 'aedbb62f-e61e-494e-9e34-1e76d259315c', '0ef0e831-abf8-47cb-b646-fc878ab76be9', 'f63c125d-85f5-4164-a3e4-bf678d51e79a', 'd204f304-8ffe-418b-9aff-b3d1388ae76b', '1212249f-4a54-4773-90c2-d117fad9728c', 'fb39b400-ebe6-4f33-a411-08e5817af43e', '86127299-c0e1-4623-a587-8777433ff80e', 'f77a90c2-f1ee-4541-8a45-8a974a10aaa3', '76319fb9-96c3-49fe-a209-da31a45d8999', 'd4237de9-4ad2-478e-8993-138ca5009fcc', '3218dccb-7a49-41b1-8cbc-5ac609673b25', 'ec7e0045-e704-48d6-a392-b11fe3851b03', 'f584df39-bdd8-4fac-9e61-a92b2e0e12a2', '52414f6e-a268-47b4-9799-3c5864f7ec99', 'cdddeb30-c716-47f0-a04e-c95898d5532f', '5733bd74-dc91-4747-82b8-d0efe63b9054', '048b011b-d1bb-4a04-834f-3c50876e2b91', 'd3555524-9756-4795-a8a3-573aa7d945f3', '060376d8-2df5-4802-838d-a96e56daa1ed', 'c5bbba24-7ea4-468f-b87d-d815629c8838', 'f33d6021-e5f4-4d32-b6c4-49461b410e0d', '97feb9a4-2608-4b54-b2ca-679b3b517a90', '0fbfc6b5-812e-42ea-aeb2-0007b6f3518a', '7d8b5ec7-76b2-4afc-a5eb-2ec06709d65f', '618d785d-d9e9-4b54-ac21-bb5741725023', '899f9475-6ef2-4a97-8240-8ab94df37f85', '8f13fa14-caa6-40f8-a554-ffdd3fa14afe', 'e0da4119-ea87-44f0-8827-14bd41bde77a', '2838f58b-1bec-439c-98ca-c7400be56693', 'd893ae92-70be-440f-9810-f97bd4637fde', '938f87c3-f1b8-490b-bf44-6e804a9115aa', 'c7ea43d8-2fc3-4d4c-93ee-6abfe368fda6', '0448d145-87b8-4740-bd37-b186dfa3fda9', '40f519e6-7ed5-488e-86e8-6fe97f1238f2', 'c2f60fa2-497e-46d8-8865-fbd06e060eb3', '94378d70-1deb-4c97-bb76-e9cbbd295555', 'b87815b8-daa5-46a8-8b1c-300c4b524169', 'a95d921c-7bef-468d-bb0b-a9fa5a709177', '7ff9e1a7-2ef8-48b9-bcf5-1155ccc4ead9', '719522a3-cc05-4dd6-bcb8-723424c60c22', 'a36f9a01-5454-4ba9-b0a9-cdc565b1248a', '15de9bdd-1baf-4814-a166-4a6bcc4d6931', 'e3b707e0-4bdf-4581-b3bc-c44c69188b12', 'a473988d-a032-4791-9022-fcb42b2f91eb', 'f77596f2-d524-499d-bae3-710b3960f55f', 'cd22b89a-4f78-4de8-8efc-32c27c60a4e4', 'bfe6b952-a58c-4424-a8ca-133fc5b7902a', '40d2fbbf-b3bf-47ef-b652-10e6980f6473', 'a3ba97b7-6d9c-4912-a23a-7caa2e7c99ac', 'df03c00b-1889-4ada-b762-bac57cdb5bcb', '1da4f81f-5448-478d-9ac2-a1d9cace1f46', 'a5c3f4b5-76ab-4028-9052-1d6039fd5713', '46ba7b03-9481-4e7c-a1e8-c937b7a262ce', '31b5a5d5-6151-43b1-addf-01ad1405de43', '9d5e9f14-fdba-42ec-ba3f-d93e56253010', 'f13ba986-e955-4c77-bda5-9dd463c7f0a8', '2742cfd1-56c6-4766-9092-547293f22625', 'c818ab3e-1894-4a9d-9d2e-b3c75ddb5e3f', 'aef46cbe-35fe-4799-bb74-a28d33d02c9a', 'a21da6c4-2a81-4380-a7eb-a58f1d7dcd47', '133dde4a-ae1e-4682-b7cf-f1b707d1ea0b', '35da21e8-b001-414e-9201-d3776ddd2c7f', '557375ac-4205-44d4-be70-e746ff63e820', '9c5c5e3d-0d62-44ca-8665-5f4d3eedda3d']}\n",
      "INFO:analytics.cae:Recovered 200 students from batch with id: 78ea7cc5-d11b-46c8-b705-d6aebb5a1123\n"
     ]
    }
   ],
   "source": [
    "simbatch = db.simbatches.find_one({\"desc\": sim_batch_desc})\n",
    "if simbatch is None:\n",
    "    logger.info(\"Generating new simulation. None found in db\")\n",
    "\n",
    "    # generate simualted data for test\n",
    "    domain, curric = gen_test_curric(db, db_params)\n",
    "    students = gen_students(num_students, \n",
    "                            domain, curric,\n",
    "                            cog_mod, dec_mod)    \n",
    "    logger.info(f\"Persisting {len(students)} initialized students to db\")\n",
    "    db.students.insert_many([stu.to_dict() for stu in students])\n",
    "    batch = SimulationBatch(sim_batch_desc)\n",
    "    simulate_students(domain, curric, students, batch)    \n",
    "    logger.info(f\"Simulated {len(students)} in batch with id: {batch._id}\")\n",
    "else:\n",
    "    logger.info(f\"Found simulation batch: {str(simbatch)}\")\n",
    "    lmapper = DBLearnerMapper(db)\n",
    "    students = [lmapper.get_modlearner_from_db(sid) for sid in simbatch['student_ids']]\n",
    "    batch = SimulationBatch.from_dict(simbatch)\n",
    "    logger.info(f\"Recovered {len(students)} students from batch with id: {batch._id}\")\n"
   ]
  },
  {
   "cell_type": "markdown",
   "metadata": {},
   "source": [
    "### Diligent Students with domain-level self-efficacy"
   ]
  },
  {
   "cell_type": "code",
   "execution_count": 19,
   "metadata": {},
   "outputs": [],
   "source": [
    "sim_batch_desc = \"Diligent Students with domain-level self-efficacy\"\n",
    "cog_mod = BinarySkillCognition\n",
    "dec_mod = DomainSelfEffDecider"
   ]
  },
  {
   "cell_type": "code",
   "execution_count": 20,
   "metadata": {},
   "outputs": [
    {
     "name": "stderr",
     "output_type": "stream",
     "text": [
      "INFO:analytics.cae:Found simulation batch: {'_id': '78f11a8c-24d4-43bf-aaf8-5855d5bf2908', 'run_time': datetime.datetime(2021, 1, 8, 6, 23, 14, 365000), 'desc': 'Diligent Students with domain-level self-efficacy', 'student_ids': ['94e09bca-7dd3-4a07-9fa8-0fbaaec4743b', '28bc4471-cbe9-4f14-8d13-34c79f4b2359', 'cdfe5967-5c9d-4459-bb93-c64ed8530516', 'd956a72e-f4a7-4a31-803c-ef917d976ac5', 'da400001-e2da-4c73-b7c0-5cf0e37704dd', '1311cc72-a12b-4093-8b71-a390484d658d', 'f2a0f3ea-ff9b-41a4-9d49-a338ae23078a', '14e090a5-1988-476c-b48b-f83b975636f8', 'f0141baf-2e94-4951-b17a-ecf0c3e45f9a', 'e8bf5821-3cba-4916-beee-bb2c6177aea6', '65939fc6-44f3-4282-94d6-fbb26c49fa49', '41a3a415-e3af-47f1-adfb-a4ffe4dfd3f9', 'c8ba9276-c258-4b71-a260-b4fb63f31489', '2cd16efd-4d2b-4920-a780-f88bc4927d57', '0cc59748-6184-485a-8f57-efa8c65d31c2', '19165a5f-fa3b-42a7-a377-b07d8541340e', 'fe07b70a-d87c-4963-a040-85e868065bc4', 'b3eacd7d-e86d-4a86-8c4b-bd9303eb07b0', '0ea33c28-df1d-4570-b1c0-ac03f49ac054', '6318da57-bd86-4a87-81e0-a3ab2bd691b4', '7959243c-1427-4281-ae91-f361a6e4a40e', '61429fd9-b89b-4239-a9d3-820bb59750a7', '9edb34dc-dfa9-40d6-bf55-027bf96beee2', 'bf54e00f-4539-4733-b64b-d01bc4048008', '5b61b652-f586-4b1f-ab85-6abfb2191098', '8392bce0-f77e-4059-8fb0-77ed2738992e', '78a96f5c-3bfc-4362-9c08-80398b51583d', 'e7e04c0d-23c7-48ce-a769-4cb0e1eb511a', 'b79543b8-aace-4c26-812c-d4474a713329', 'aace17b1-9edc-4f3d-9a9a-a54f174b05f9', '831037ce-3e29-409b-85b3-ccbc262ab201', 'ef5cc235-db57-4cb3-bf3c-47ac8b68c06b', 'cd5e8c0a-b263-4ca2-afe8-457c453d3bd5', '038ad8df-9b60-465e-83e5-b0f867150f37', '16de8668-3c78-4089-83b4-ba534470403b', '83b05229-3e0e-4e03-ac93-410a740141bc', '09edd0ff-2741-4409-9d96-8373f3638b12', '2cded597-d6be-411d-af65-ad972b19a4d6', 'b912b317-e043-4640-a22b-d90c5988a7d0', 'f00d1b13-cf49-4e17-ae28-462f9eaf7c21', '79986a2c-f12f-497d-9418-457f1790b31c', 'afe2cdd7-1ef7-4f3f-8a80-6f91be2fb389', 'c8f03276-ee27-41d0-813e-c7c4037bac0f', 'f2411352-159f-489a-bf61-e89c47f790fd', '890709f2-58b0-405f-a283-e4fab1c9ba59', 'e983da43-8a18-46fb-81af-24395987d383', 'f33a98ce-3bde-4ba9-8fcc-f86120ad62b3', '44531fd3-cef4-41a6-b85b-2026bbe4400f', 'b4e70483-4271-4a86-afee-99f9fcd986cd', '328d089e-1f5a-4766-b292-585df31172a2', '3ba7913b-3854-4fb9-a49e-9d89dcd33b8d', '0414c3a7-f8f1-4afd-a38a-7e745e7c7d74', 'e40b5278-0639-4111-b259-f27a6d9795d3', '75d7d291-5996-47e2-b749-5a9ece9d8275', 'b5c51259-c0ed-4268-83b5-3878c6c2d192', '5d755af3-3d76-4b7e-9902-ce831c7400ed', '19a8e7dc-b3b4-472a-b554-8d1cef2710e4', '9eeabd57-5258-4510-9b59-2027fec50ec3', '06625bc6-67c8-46f6-8486-e8c586117fb6', '92820455-23be-43c5-9f38-d6c093a091b1', '19d30f4f-5243-4192-ad44-0e5b4ff968de', '3b87910d-e0a1-4ca2-9692-a1fc9432222f', '92a78c45-8ff8-41c2-a930-5f51b048144b', '47dbb18b-0dd4-45bb-986f-bf9acaeeee11', '8f5d9b50-1330-4fcb-9c31-b8e62f4e1590', '9482b251-7a9e-4cb0-b00b-f33bd81374b8', '73187a4d-587a-4a55-b6f9-84f40697be18', 'acf471c0-e2a7-480f-9cfe-9807e7c53a2e', '3d428472-ec12-4f7d-8767-5834d8d4a80f', '60af519d-7473-404a-9733-190fad7c7632', 'b93d6231-03c9-45f6-92e9-4cfcaf8bf976', '3e3db0e9-68eb-4063-bf8c-f7350152c58d', '846dc557-5373-45bd-bb35-4a2c072b1165', 'b6da7edf-d619-49ee-bd40-98627b89c1a3', 'e3ebb457-460f-4c5f-a9bc-deeb6a3732f4', 'cad671b5-e6c3-43d2-a70e-3ea58a133b05', '627f5999-04b3-4ed9-ac10-eee69cf11659', 'c9a49484-1ce6-4277-950f-2b1bdd42e0e9', '4e17097f-469d-4d70-99dc-1bc6cab35790', '3e97ff32-9730-441f-92e8-0957128e8dd5', '5ba68c54-b296-44af-bee3-a07ea00e78ff', '302e0b65-1ead-4bf5-adf7-9937d203043a', '5436fcc2-9ec8-4f25-bb1f-6c325a02b77a', '69f29f84-0477-4163-a013-031077d3bb68', 'a9f8d8dc-4a62-4e80-be71-6182d9981ba5', 'cca6df66-daf0-44af-a1b6-0fb225a60549', 'ec830bb8-ed7c-4548-8331-97b5bb9e7bf4', '667a6d43-98c5-482d-b3f0-e75f33cab1cd', '41958d0b-0c3f-4a98-8126-66299b8c11dc', '48e81fd3-d599-4ece-a00e-6678a517bc2e', 'a9973e2e-2357-4b2e-8aa3-c48f74a1a3ca', 'a19375f2-b471-4752-8797-b9321fb7aa63', '7daeb776-aa94-48db-bc29-83bb66e41ed6', 'e455decf-02b9-4993-87a7-d088e70df700', 'fc428495-35b3-42f6-8719-fd0f26afa125', '92fe180b-4a84-41cc-afcd-7939c8d9a309', '12afbee0-d95c-470e-95b1-0ff7301ca949', 'fe7378b8-6512-4ecd-99e1-bb275fc19d79', '42da6446-4898-4549-be4c-f0c80ef1afb2', 'a813265b-1202-441b-8ac5-dfe44b82dccc', '09a2928a-ea10-4f62-8d2e-c711a9b0aa21', 'c1dcf717-3ac2-4bec-b08e-8459a4d951bd', 'bf93200e-a1cf-40c5-9621-64266a2a1f05', '565a56d5-a3be-4ec5-a0d3-547ecaccc6b2', 'd8a4c7af-5a51-4b82-a0c9-0832779a53e0', '9bb06d81-ffbc-4f48-b077-8c99427560b0', '0d8fc1c3-723d-4144-9278-2ddf440cf79d', 'bd500a3a-b0f2-4e62-acca-067e56a9e697', 'b3ad32af-d9aa-4bed-bc2c-1eb64cabc1b6', 'f7007389-0138-4107-9ffa-fd832cb690da', 'aca5cf18-4344-4dda-89b9-cd64b9202d53', '47c6ab42-385f-4365-8829-61019466a442', '7f513f5e-e8c8-4c88-8723-4bb9e9f148f4', 'd527f3e9-b261-4fc0-93a7-a009964dcb6d', 'a20c1ce2-a469-41b3-9c70-b7b51808c375', 'e509785e-b660-4be5-b4f7-1debe1b5e70a', '16d1deb1-ae52-41bd-95a3-9588ecda311f', 'a116c50a-25de-433f-ac8d-3de78c4382c6', '2b29191b-5fe7-440f-8767-e89ac664f929', 'c11711fb-2773-4411-84f0-c164fd4d17ae', '703e8958-febf-4717-a022-6b6034e51aed', 'cd00a8b2-7e1e-41dd-89e3-433acd752edb', '0c49a9f1-d7cd-47bb-b083-c93a1ae85219', 'dcd4c26d-02eb-4349-ba48-1b5090a0f19c', '4c55e1a6-885c-489f-af86-eb6fe5f6f3ba', '3e7ddd2e-f990-4ed0-aabc-cfb3a3db5ddb', '2e8b9876-8672-4aef-ba9b-c96817025d5a', '692f734b-1831-49f2-a9e1-910090202dc0', '4529bf32-7be3-46f5-8cca-0431e5e5423c', '9c63ceb2-b3dc-4dd5-94e7-5fdc2cc28c9d', '0b8010fc-05bf-4ab4-9c53-5e5ca4739252', 'aae430b3-1659-4b0a-81f3-314c05c30203', '25014dbe-6a60-427e-877f-dca2ffb79c14', '7673936b-1c4c-4c28-b2c7-206d2421be7b', '00ba7c80-7975-4355-8479-0ccc0911f282', '91e3881a-ed63-4dc7-b472-ccb6d3989b3b', 'ebd2dedd-5426-48fc-9439-7904a8a6db64', 'c580cbc2-7c48-46c4-81e8-07e199592fd4', '7856727e-18cc-4202-a3f6-d83a93e90890', '461c1c9d-d7a8-4f38-8de3-69561455bb4d', '87233b78-4147-479a-801f-867b189aa985', '0583ac2a-ab67-47a2-b6c4-ad7bd38b658b', 'e21cb35a-8670-47aa-adf5-90c7ece85232', 'c014146c-87c8-4de2-8c9e-68d1301a01ca', '13671f27-d196-483f-a6b1-c80c0fd8b7e7', '3dc7bee4-cfbf-4f32-83bc-47eaf5c5985c', 'd6626a39-4667-4389-96fa-e67d44d1f14f', '20415ea3-708b-4747-a12f-ebdf2580bd7b', '24e58cf3-988d-4ab6-8cb9-218c47c43446', 'ba1002b2-b22a-48bd-9f5b-22a3719d3206', '96d2ecbe-a709-4ca0-927c-13a7f235d416', '01a990b1-99dd-4ab5-82e2-cd4cd4d6ef9d', 'ba6f82a7-9769-48f9-b6e6-e2375e1f80b7', '0ebff13d-5bd3-432e-aeea-49ceb9ff4aac', 'd13e3bc6-62ea-423f-94e6-6d1f2353a87c', 'bb56a5ff-32fe-4c25-8280-e948fa794ebb', '34d43cd0-90b9-43f4-be1f-63cb4ed0df74', '2d966d4d-cd6d-4332-ba4c-223329cf4b72', '5c10c4ba-7bc4-4787-bbbf-50e2b07b0aa2', '92e713c3-f87a-46e3-a45b-1c48a007bd32', '0fc6ed93-460d-4dc1-96cf-4001d7438760', '0437c50b-7672-45a9-8340-89246a39befa', '91c1d2af-8dca-4935-9f3c-cea245d06505', 'f0bd74cc-b8ca-4aa8-a912-ceaae7aea83e', '4b496b7a-4884-445a-abcc-500a36b0a2f2', '8018d97f-6702-4c81-b246-7a838f966c68', '7c8d3568-de48-4300-b3eb-fce4857f3e6c', 'ac4410b7-21b4-4e1b-9837-ffa527f8f3c0', 'ed9e08ba-23a0-4171-9341-2e028b4a9b25', '51dd9244-1ad2-4bc0-9f34-0213aee7b1f0', '071de6fc-92a7-4fd3-b12e-76a8143e0425', '26bf513f-0486-4b91-9df7-45e09cf96b08', 'd274c994-9b82-4d82-addd-bf7be391b603', '8d10bd64-bd5b-4029-ace0-dadd23c403f8', 'db07706f-fbbb-4414-805c-6d105ebfb781', '3246a33b-07e5-41b8-b757-4798146677d3', '61ea0c3e-f7df-45ba-a98e-8169f13b9c28', '13cb8473-d5aa-4d93-b18e-295d09bc3f34', 'd5305041-6365-422c-94e3-dfbc79b80ba5', '326f79a9-068f-4175-9da2-6421101f6759', 'd6aba9ac-c547-4cc8-a6db-2afb2d746bc4', 'a26444f0-0673-4ec3-a743-5d24cded3a60', '2fbbfd01-8346-4419-9e7c-071b88ff4e8d', '894d1b46-8617-4e51-bf51-ad7247b1e70d', 'bb6c2112-035e-4b78-af13-1b505ec60984', '3f698aad-ce43-4e2d-99d2-702e391e9a37', '5edbec3f-514b-49d4-8765-ad640e96e90f', 'b6f6dd61-ab19-4471-81c6-8bab98122ebe', 'fbe84419-2d57-4a6f-a06c-7a434e97c4ee', 'd99ba661-6c65-4f2f-b1c1-23100295c4d3', '1788504d-ed5e-45c3-8c08-26ee055961f8', '2579491b-91e5-4dc3-9995-dea2125f1223', '20650cd7-f74e-49e3-b7aa-9e5db436fecf', '1e819d0d-e091-4d65-b8f5-b2130727ee13', '8130339c-6394-41d9-87d0-d3256ed59b8c', '0d209542-1beb-4e14-88c7-ddfd145fb1bb', 'eb23fcd5-5c07-4ffb-b7d5-ad5c6cd3be36', '93aefade-3e40-464d-9f86-fc9b9ee5c62b', '3ea3738f-c2ce-4d7d-8719-4725f623b37d', '459f063e-cf57-431e-98e0-dd3c32ed3048']}\n",
      "INFO:analytics.cae:Recovered 200 students from batch with id: 78f11a8c-24d4-43bf-aaf8-5855d5bf2908\n"
     ]
    }
   ],
   "source": [
    "simbatch = db.simbatches.find_one({\"desc\": sim_batch_desc})\n",
    "if simbatch is None:\n",
    "    logger.info(\"Generating new simulation. None found in db\")\n",
    "\n",
    "    # generate simualted data for test\n",
    "    domain, curric = gen_test_curric(db, db_params)\n",
    "    students = gen_students(num_students, \n",
    "                            domain, curric,\n",
    "                            cog_mod, dec_mod)    \n",
    "    logger.info(f\"Persisting {len(students)} initialized students to db\")\n",
    "    db.students.insert_many([stu.to_dict() for stu in students])\n",
    "    batch = SimulationBatch(sim_batch_desc)\n",
    "    simulate_students(domain, curric, students, batch)    \n",
    "    logger.info(f\"Simulated {len(students)} in batch with id: {batch._id}\")\n",
    "else:\n",
    "    logger.info(f\"Found simulation batch: {str(simbatch)}\")\n",
    "    lmapper = DBLearnerMapper(db)\n",
    "    students = [lmapper.get_modlearner_from_db(sid) for sid in simbatch['student_ids']]\n",
    "    batch = SimulationBatch.from_dict(simbatch)\n",
    "    logger.info(f\"Recovered {len(students)} students from batch with id: {batch._id}\")\n"
   ]
  },
  {
   "cell_type": "markdown",
   "metadata": {},
   "source": [
    "## 2. EDA of simulated Data"
   ]
  },
  {
   "cell_type": "code",
   "execution_count": 114,
   "metadata": {},
   "outputs": [
    {
     "name": "stderr",
     "output_type": "stream",
     "text": [
      "INFO:log_db.mongo:collection name, kcs, has 67 documents\n",
      "INFO:log_db.mongo:collection name, caa_batches, has 0 documents\n",
      "INFO:log_db.mongo:collection name, simbatches, has 3 documents\n",
      "INFO:log_db.mongo:collection name, caa_models, has 0 documents\n",
      "INFO:log_db.mongo:collection name, domains, has 1 documents\n",
      "INFO:log_db.mongo:collection name, students, has 600 documents\n",
      "INFO:log_db.mongo:collection name, units, has 2 documents\n",
      "INFO:log_db.mongo:collection name, decisions, has 1589503 documents\n",
      "INFO:log_db.mongo:collection name, curriculums, has 1 documents\n",
      "INFO:log_db.mongo:collection name, steps, has 7577 documents\n",
      "INFO:log_db.mongo:collection name, finalsimstudents, has 600 documents\n",
      "INFO:log_db.mongo:collection name, problems, has 1904 documents\n",
      "INFO:log_db.mongo:collection name, actions, has 1589503 documents\n",
      "INFO:log_db.mongo:collection name, sections, has 14 documents\n",
      "INFO:log_db.mongo:collection name, tutor_events, has 1433293 documents\n"
     ]
    }
   ],
   "source": [
    "# List size of all collections\n",
    "db_util.peak()"
   ]
  },
  {
   "cell_type": "code",
   "execution_count": 115,
   "metadata": {},
   "outputs": [
    {
     "name": "stderr",
     "output_type": "stream",
     "text": [
      "INFO:analytics.cae:batch #0: \n",
      "ID: 54935595-da2e-4e72-a71d-e1497f4c0bb3\n",
      "desc: Simple diligent students\n",
      "INFO:analytics.cae:recovered 200 student ids for batch Simple diligent students\n",
      "INFO:analytics.cae:batch #1: \n",
      "ID: 78ea7cc5-d11b-46c8-b705-d6aebb5a1123\n",
      "desc: Diligent Students with variable values\n",
      "INFO:analytics.cae:recovered 200 student ids for batch Diligent Students with variable values\n",
      "INFO:analytics.cae:batch #2: \n",
      "ID: 78f11a8c-24d4-43bf-aaf8-5855d5bf2908\n",
      "desc: Diligent Students with domain-level self-efficacy\n",
      "INFO:analytics.cae:recovered 200 student ids for batch Diligent Students with domain-level self-efficacy\n"
     ]
    }
   ],
   "source": [
    "# Get students batches\n",
    "batches = [batch for batch in db.simbatches.find()]\n",
    "batch_desc = [\"Simple diligent students\",\n",
    "              \"Diligent Students with variable values\",\n",
    "              \"Diligent Students with domain-level self-efficacy\"]\n",
    "sids = {desc: [] for desc in batch_desc}\n",
    "for i, batch in enumerate(batches):\n",
    "    logger.info(f\"batch #{i}: \\nID: {batch['_id']}\\ndesc: {batch['desc']}\")\n",
    "    if batch['desc'] in batch_desc:\n",
    "        logger.info(f\"recovered {len(batch['student_ids'])} student ids for batch {batch['desc']}\")\n",
    "        sids[batch['desc']].append(batch['student_ids'])"
   ]
  },
  {
   "cell_type": "code",
   "execution_count": 139,
   "metadata": {},
   "outputs": [],
   "source": [
    "# Batch analytic calculation\n",
    "def batch_calc(db, calc, filt, batch_size, ):\n",
    "    #filt is a list of ids\n",
    "    batches = (filt[i:i+batch_size] for i in range(0, len(filt), batch_size))\n",
    "    results = []\n",
    "    for batch in batches:\n",
    "        results.append(calc(batch))\n",
    "    return pd.concat(results, axis=0)"
   ]
  },
  {
   "cell_type": "code",
   "execution_count": 140,
   "metadata": {},
   "outputs": [],
   "source": [
    "def time_calc(calc, args):\n",
    "    start = dt.now()\n",
    "    result = calc(*args)\n",
    "    end = dt.now()\n",
    "    runtime = (end - start).total_seconds()\n",
    "    return result, runtime"
   ]
  },
  {
   "cell_type": "code",
   "execution_count": 141,
   "metadata": {},
   "outputs": [],
   "source": [
    "def get_tx_fields(sids):\n",
    "    tx = pd.DataFrame(db.tutor_events.find({\"stu_id\": {'$in': sids}}))\n",
    "    # Add kc field that reduces list of kcs to 1 kc\n",
    "    tx['kc'] = tx.apply(lambda x: x['kcs'][0]['_id'], axis=1)\n",
    "    return tx.loc[:, [\"_id\", 'stu_id', 'kc', 'unit_id', 'section_id', 'prob_id', 'step_id', \"duration\"]]"
   ]
  },
  {
   "cell_type": "code",
   "execution_count": 142,
   "metadata": {},
   "outputs": [],
   "source": [
    "# Calculating stats with analytic methods\n",
    "\n",
    "calc = StudentStatCalc(db)"
   ]
  },
  {
   "cell_type": "markdown",
   "metadata": {},
   "source": [
    "### Simple Diligent Students"
   ]
  },
  {
   "cell_type": "markdown",
   "metadata": {},
   "source": [
    "#### Student Parameters"
   ]
  },
  {
   "cell_type": "code",
   "execution_count": null,
   "metadata": {},
   "outputs": [],
   "source": [
    "sid = sids[batch_desc[0]][0]"
   ]
  },
  {
   "cell_type": "code",
   "execution_count": null,
   "metadata": {},
   "outputs": [
    {
     "name": "stderr",
     "output_type": "stream",
     "text": [
      "INFO:analytics.cae:Calculated student params: (200, 23)\tRuntime: 0.46909 seconds\n"
     ]
    }
   ],
   "source": [
    "args = [db, calc.get_stu_parameters, sid, 10]\n",
    "sim_students, runtime = time_calc(batch_calc, args)\n",
    "logger.info(f\"Calculated student params: {sim_students.shape}\\tRuntime: {runtime} seconds\")"
   ]
  },
  {
   "cell_type": "code",
   "execution_count": null,
   "metadata": {},
   "outputs": [
    {
     "name": "stderr",
     "output_type": "stream",
     "text": [
      "INFO:analytics.cae:Calculated student action stats: (200, 9)\tRuntime: 37.022773 seconds\n"
     ]
    }
   ],
   "source": [
    "args = [db, calc.action_stats, sid, 10]\n",
    "action_dist, runtime = time_calc(batch_calc, args)\n",
    "logger.info(f\"Calculated student action stats: {action_dist.shape}\\tRuntime: {runtime} seconds\")"
   ]
  },
  {
   "cell_type": "code",
   "execution_count": null,
   "metadata": {},
   "outputs": [
    {
     "name": "stderr",
     "output_type": "stream",
     "text": [
      "INFO:analytics.cae:Calculated student activity stats: (200, 9)\tRuntime: 39.443621 seconds\n"
     ]
    }
   ],
   "source": [
    "args = [db, calc.total_tx_stats, sid, 10]\n",
    "tx_stats, runtime = time_calc(batch_calc, args)\n",
    "logger.info(f\"Calculated student activity stats: {tx_stats.shape}\\tRuntime: {runtime} seconds\")"
   ]
  },
  {
   "cell_type": "code",
   "execution_count": null,
   "metadata": {},
   "outputs": [
    {
     "name": "stderr",
     "output_type": "stream",
     "text": [
      "INFO:analytics.cae:Merged new stats together: (200, 41)\n"
     ]
    }
   ],
   "source": [
    "    \n",
    "stu_stats = pd.concat([sim_students, action_dist, tx_stats], axis=1)\n",
    "logger.info(f\"Merged new stats together: {stu_stats.shape}\")"
   ]
  },
  {
   "cell_type": "code",
   "execution_count": null,
   "metadata": {},
   "outputs": [
    {
     "data": {
      "text/html": [
       "<div>\n",
       "<style scoped>\n",
       "    .dataframe tbody tr th:only-of-type {\n",
       "        vertical-align: middle;\n",
       "    }\n",
       "\n",
       "    .dataframe tbody tr th {\n",
       "        vertical-align: top;\n",
       "    }\n",
       "\n",
       "    .dataframe thead th {\n",
       "        text-align: right;\n",
       "    }\n",
       "</style>\n",
       "<table border=\"1\" class=\"dataframe\">\n",
       "  <thead>\n",
       "    <tr style=\"text-align: right;\">\n",
       "      <th></th>\n",
       "      <th>domain_id</th>\n",
       "      <th>type</th>\n",
       "      <th>skills</th>\n",
       "      <th>min_off_task</th>\n",
       "      <th>max_off_task</th>\n",
       "      <th>mean_guess_time</th>\n",
       "      <th>sd_guess_time</th>\n",
       "      <th>cog</th>\n",
       "      <th>decider</th>\n",
       "      <th>total_attempts</th>\n",
       "      <th>...</th>\n",
       "      <th>final total success</th>\n",
       "      <th>pre-sim total mastery</th>\n",
       "      <th>final-sim total mastery</th>\n",
       "      <th>total skills</th>\n",
       "      <th>pre-sim pct mastery</th>\n",
       "      <th>final-sim pct mastery</th>\n",
       "      <th>final-sim total unmastered</th>\n",
       "      <th>pct success</th>\n",
       "      <th>values</th>\n",
       "      <th>diligence</th>\n",
       "    </tr>\n",
       "    <tr>\n",
       "      <th>_id</th>\n",
       "      <th></th>\n",
       "      <th></th>\n",
       "      <th></th>\n",
       "      <th></th>\n",
       "      <th></th>\n",
       "      <th></th>\n",
       "      <th></th>\n",
       "      <th></th>\n",
       "      <th></th>\n",
       "      <th></th>\n",
       "      <th></th>\n",
       "      <th></th>\n",
       "      <th></th>\n",
       "      <th></th>\n",
       "      <th></th>\n",
       "      <th></th>\n",
       "      <th></th>\n",
       "      <th></th>\n",
       "      <th></th>\n",
       "      <th></th>\n",
       "      <th></th>\n",
       "    </tr>\n",
       "  </thead>\n",
       "  <tbody>\n",
       "    <tr>\n",
       "      <th>008ad67c-1766-4921-8f5c-f82090b7faf7</th>\n",
       "      <td>2116d859-d39d-4b11-8da8-28b22b15ff33</td>\n",
       "      <td>Modular Learner</td>\n",
       "      <td>{'903f30ec-c530-494b-bccb-540fb4146c46': False...</td>\n",
       "      <td>30</td>\n",
       "      <td>1800</td>\n",
       "      <td>3</td>\n",
       "      <td>1</td>\n",
       "      <td>{'domain_id': '2116d859-d39d-4b11-8da8-28b22b1...</td>\n",
       "      <td>{'type': 'EVDecider', 'values': {'attempt': 10...</td>\n",
       "      <td>0</td>\n",
       "      <td>...</td>\n",
       "      <td>602</td>\n",
       "      <td>34</td>\n",
       "      <td>67</td>\n",
       "      <td>67</td>\n",
       "      <td>0.507463</td>\n",
       "      <td>1.000000</td>\n",
       "      <td>0</td>\n",
       "      <td>0.571700</td>\n",
       "      <td>{'attempt': 10, 'guess': 2.5, 'hint request': ...</td>\n",
       "      <td>1.978019</td>\n",
       "    </tr>\n",
       "    <tr>\n",
       "      <th>1d035537-71a8-4343-bdeb-f8d77fcb9c89</th>\n",
       "      <td>2116d859-d39d-4b11-8da8-28b22b15ff33</td>\n",
       "      <td>Modular Learner</td>\n",
       "      <td>{'903f30ec-c530-494b-bccb-540fb4146c46': True,...</td>\n",
       "      <td>30</td>\n",
       "      <td>1800</td>\n",
       "      <td>3</td>\n",
       "      <td>1</td>\n",
       "      <td>{'domain_id': '2116d859-d39d-4b11-8da8-28b22b1...</td>\n",
       "      <td>{'type': 'EVDecider', 'values': {'attempt': 10...</td>\n",
       "      <td>0</td>\n",
       "      <td>...</td>\n",
       "      <td>730</td>\n",
       "      <td>29</td>\n",
       "      <td>66</td>\n",
       "      <td>67</td>\n",
       "      <td>0.432836</td>\n",
       "      <td>0.985075</td>\n",
       "      <td>1</td>\n",
       "      <td>0.574351</td>\n",
       "      <td>{'attempt': 10, 'guess': 2.5, 'hint request': ...</td>\n",
       "      <td>2.272757</td>\n",
       "    </tr>\n",
       "    <tr>\n",
       "      <th>1fa35783-062f-4189-b985-ec4e4bada1e9</th>\n",
       "      <td>2116d859-d39d-4b11-8da8-28b22b15ff33</td>\n",
       "      <td>Modular Learner</td>\n",
       "      <td>{'903f30ec-c530-494b-bccb-540fb4146c46': False...</td>\n",
       "      <td>30</td>\n",
       "      <td>1800</td>\n",
       "      <td>3</td>\n",
       "      <td>1</td>\n",
       "      <td>{'domain_id': '2116d859-d39d-4b11-8da8-28b22b1...</td>\n",
       "      <td>{'type': 'EVDecider', 'values': {'attempt': 10...</td>\n",
       "      <td>0</td>\n",
       "      <td>...</td>\n",
       "      <td>1351</td>\n",
       "      <td>26</td>\n",
       "      <td>67</td>\n",
       "      <td>67</td>\n",
       "      <td>0.388060</td>\n",
       "      <td>1.000000</td>\n",
       "      <td>0</td>\n",
       "      <td>0.619441</td>\n",
       "      <td>{'attempt': 10, 'guess': 2.5, 'hint request': ...</td>\n",
       "      <td>1.884053</td>\n",
       "    </tr>\n",
       "    <tr>\n",
       "      <th>3d74792e-e397-49d8-822f-c5ab8b01e1f0</th>\n",
       "      <td>2116d859-d39d-4b11-8da8-28b22b15ff33</td>\n",
       "      <td>Modular Learner</td>\n",
       "      <td>{'903f30ec-c530-494b-bccb-540fb4146c46': False...</td>\n",
       "      <td>30</td>\n",
       "      <td>1800</td>\n",
       "      <td>3</td>\n",
       "      <td>1</td>\n",
       "      <td>{'domain_id': '2116d859-d39d-4b11-8da8-28b22b1...</td>\n",
       "      <td>{'type': 'EVDecider', 'values': {'attempt': 10...</td>\n",
       "      <td>0</td>\n",
       "      <td>...</td>\n",
       "      <td>776</td>\n",
       "      <td>33</td>\n",
       "      <td>65</td>\n",
       "      <td>67</td>\n",
       "      <td>0.492537</td>\n",
       "      <td>0.970149</td>\n",
       "      <td>2</td>\n",
       "      <td>0.627324</td>\n",
       "      <td>{'attempt': 10, 'guess': 2.5, 'hint request': ...</td>\n",
       "      <td>1.831674</td>\n",
       "    </tr>\n",
       "    <tr>\n",
       "      <th>74b7f8b0-c7ad-47b3-9806-e8ed1795cd5c</th>\n",
       "      <td>2116d859-d39d-4b11-8da8-28b22b15ff33</td>\n",
       "      <td>Modular Learner</td>\n",
       "      <td>{'903f30ec-c530-494b-bccb-540fb4146c46': False...</td>\n",
       "      <td>30</td>\n",
       "      <td>1800</td>\n",
       "      <td>3</td>\n",
       "      <td>1</td>\n",
       "      <td>{'domain_id': '2116d859-d39d-4b11-8da8-28b22b1...</td>\n",
       "      <td>{'type': 'EVDecider', 'values': {'attempt': 10...</td>\n",
       "      <td>0</td>\n",
       "      <td>...</td>\n",
       "      <td>1157</td>\n",
       "      <td>35</td>\n",
       "      <td>67</td>\n",
       "      <td>67</td>\n",
       "      <td>0.522388</td>\n",
       "      <td>1.000000</td>\n",
       "      <td>0</td>\n",
       "      <td>0.497849</td>\n",
       "      <td>{'attempt': 10, 'guess': 2.5, 'hint request': ...</td>\n",
       "      <td>2.109031</td>\n",
       "    </tr>\n",
       "  </tbody>\n",
       "</table>\n",
       "<p>5 rows × 23 columns</p>\n",
       "</div>"
      ],
      "text/plain": [
       "                                                                 domain_id  \\\n",
       "_id                                                                          \n",
       "008ad67c-1766-4921-8f5c-f82090b7faf7  2116d859-d39d-4b11-8da8-28b22b15ff33   \n",
       "1d035537-71a8-4343-bdeb-f8d77fcb9c89  2116d859-d39d-4b11-8da8-28b22b15ff33   \n",
       "1fa35783-062f-4189-b985-ec4e4bada1e9  2116d859-d39d-4b11-8da8-28b22b15ff33   \n",
       "3d74792e-e397-49d8-822f-c5ab8b01e1f0  2116d859-d39d-4b11-8da8-28b22b15ff33   \n",
       "74b7f8b0-c7ad-47b3-9806-e8ed1795cd5c  2116d859-d39d-4b11-8da8-28b22b15ff33   \n",
       "\n",
       "                                                 type  \\\n",
       "_id                                                     \n",
       "008ad67c-1766-4921-8f5c-f82090b7faf7  Modular Learner   \n",
       "1d035537-71a8-4343-bdeb-f8d77fcb9c89  Modular Learner   \n",
       "1fa35783-062f-4189-b985-ec4e4bada1e9  Modular Learner   \n",
       "3d74792e-e397-49d8-822f-c5ab8b01e1f0  Modular Learner   \n",
       "74b7f8b0-c7ad-47b3-9806-e8ed1795cd5c  Modular Learner   \n",
       "\n",
       "                                                                                 skills  \\\n",
       "_id                                                                                       \n",
       "008ad67c-1766-4921-8f5c-f82090b7faf7  {'903f30ec-c530-494b-bccb-540fb4146c46': False...   \n",
       "1d035537-71a8-4343-bdeb-f8d77fcb9c89  {'903f30ec-c530-494b-bccb-540fb4146c46': True,...   \n",
       "1fa35783-062f-4189-b985-ec4e4bada1e9  {'903f30ec-c530-494b-bccb-540fb4146c46': False...   \n",
       "3d74792e-e397-49d8-822f-c5ab8b01e1f0  {'903f30ec-c530-494b-bccb-540fb4146c46': False...   \n",
       "74b7f8b0-c7ad-47b3-9806-e8ed1795cd5c  {'903f30ec-c530-494b-bccb-540fb4146c46': False...   \n",
       "\n",
       "                                      min_off_task  max_off_task  \\\n",
       "_id                                                                \n",
       "008ad67c-1766-4921-8f5c-f82090b7faf7            30          1800   \n",
       "1d035537-71a8-4343-bdeb-f8d77fcb9c89            30          1800   \n",
       "1fa35783-062f-4189-b985-ec4e4bada1e9            30          1800   \n",
       "3d74792e-e397-49d8-822f-c5ab8b01e1f0            30          1800   \n",
       "74b7f8b0-c7ad-47b3-9806-e8ed1795cd5c            30          1800   \n",
       "\n",
       "                                      mean_guess_time  sd_guess_time  \\\n",
       "_id                                                                    \n",
       "008ad67c-1766-4921-8f5c-f82090b7faf7                3              1   \n",
       "1d035537-71a8-4343-bdeb-f8d77fcb9c89                3              1   \n",
       "1fa35783-062f-4189-b985-ec4e4bada1e9                3              1   \n",
       "3d74792e-e397-49d8-822f-c5ab8b01e1f0                3              1   \n",
       "74b7f8b0-c7ad-47b3-9806-e8ed1795cd5c                3              1   \n",
       "\n",
       "                                                                                    cog  \\\n",
       "_id                                                                                       \n",
       "008ad67c-1766-4921-8f5c-f82090b7faf7  {'domain_id': '2116d859-d39d-4b11-8da8-28b22b1...   \n",
       "1d035537-71a8-4343-bdeb-f8d77fcb9c89  {'domain_id': '2116d859-d39d-4b11-8da8-28b22b1...   \n",
       "1fa35783-062f-4189-b985-ec4e4bada1e9  {'domain_id': '2116d859-d39d-4b11-8da8-28b22b1...   \n",
       "3d74792e-e397-49d8-822f-c5ab8b01e1f0  {'domain_id': '2116d859-d39d-4b11-8da8-28b22b1...   \n",
       "74b7f8b0-c7ad-47b3-9806-e8ed1795cd5c  {'domain_id': '2116d859-d39d-4b11-8da8-28b22b1...   \n",
       "\n",
       "                                                                                decider  \\\n",
       "_id                                                                                       \n",
       "008ad67c-1766-4921-8f5c-f82090b7faf7  {'type': 'EVDecider', 'values': {'attempt': 10...   \n",
       "1d035537-71a8-4343-bdeb-f8d77fcb9c89  {'type': 'EVDecider', 'values': {'attempt': 10...   \n",
       "1fa35783-062f-4189-b985-ec4e4bada1e9  {'type': 'EVDecider', 'values': {'attempt': 10...   \n",
       "3d74792e-e397-49d8-822f-c5ab8b01e1f0  {'type': 'EVDecider', 'values': {'attempt': 10...   \n",
       "74b7f8b0-c7ad-47b3-9806-e8ed1795cd5c  {'type': 'EVDecider', 'values': {'attempt': 10...   \n",
       "\n",
       "                                      total_attempts  ...  \\\n",
       "_id                                                   ...   \n",
       "008ad67c-1766-4921-8f5c-f82090b7faf7               0  ...   \n",
       "1d035537-71a8-4343-bdeb-f8d77fcb9c89               0  ...   \n",
       "1fa35783-062f-4189-b985-ec4e4bada1e9               0  ...   \n",
       "3d74792e-e397-49d8-822f-c5ab8b01e1f0               0  ...   \n",
       "74b7f8b0-c7ad-47b3-9806-e8ed1795cd5c               0  ...   \n",
       "\n",
       "                                      final total success  \\\n",
       "_id                                                         \n",
       "008ad67c-1766-4921-8f5c-f82090b7faf7                  602   \n",
       "1d035537-71a8-4343-bdeb-f8d77fcb9c89                  730   \n",
       "1fa35783-062f-4189-b985-ec4e4bada1e9                 1351   \n",
       "3d74792e-e397-49d8-822f-c5ab8b01e1f0                  776   \n",
       "74b7f8b0-c7ad-47b3-9806-e8ed1795cd5c                 1157   \n",
       "\n",
       "                                     pre-sim total mastery  \\\n",
       "_id                                                          \n",
       "008ad67c-1766-4921-8f5c-f82090b7faf7                    34   \n",
       "1d035537-71a8-4343-bdeb-f8d77fcb9c89                    29   \n",
       "1fa35783-062f-4189-b985-ec4e4bada1e9                    26   \n",
       "3d74792e-e397-49d8-822f-c5ab8b01e1f0                    33   \n",
       "74b7f8b0-c7ad-47b3-9806-e8ed1795cd5c                    35   \n",
       "\n",
       "                                      final-sim total mastery  total skills  \\\n",
       "_id                                                                           \n",
       "008ad67c-1766-4921-8f5c-f82090b7faf7                       67            67   \n",
       "1d035537-71a8-4343-bdeb-f8d77fcb9c89                       66            67   \n",
       "1fa35783-062f-4189-b985-ec4e4bada1e9                       67            67   \n",
       "3d74792e-e397-49d8-822f-c5ab8b01e1f0                       65            67   \n",
       "74b7f8b0-c7ad-47b3-9806-e8ed1795cd5c                       67            67   \n",
       "\n",
       "                                      pre-sim pct mastery  \\\n",
       "_id                                                         \n",
       "008ad67c-1766-4921-8f5c-f82090b7faf7             0.507463   \n",
       "1d035537-71a8-4343-bdeb-f8d77fcb9c89             0.432836   \n",
       "1fa35783-062f-4189-b985-ec4e4bada1e9             0.388060   \n",
       "3d74792e-e397-49d8-822f-c5ab8b01e1f0             0.492537   \n",
       "74b7f8b0-c7ad-47b3-9806-e8ed1795cd5c             0.522388   \n",
       "\n",
       "                                      final-sim pct mastery  \\\n",
       "_id                                                           \n",
       "008ad67c-1766-4921-8f5c-f82090b7faf7               1.000000   \n",
       "1d035537-71a8-4343-bdeb-f8d77fcb9c89               0.985075   \n",
       "1fa35783-062f-4189-b985-ec4e4bada1e9               1.000000   \n",
       "3d74792e-e397-49d8-822f-c5ab8b01e1f0               0.970149   \n",
       "74b7f8b0-c7ad-47b3-9806-e8ed1795cd5c               1.000000   \n",
       "\n",
       "                                      final-sim total unmastered  pct success  \\\n",
       "_id                                                                             \n",
       "008ad67c-1766-4921-8f5c-f82090b7faf7                           0     0.571700   \n",
       "1d035537-71a8-4343-bdeb-f8d77fcb9c89                           1     0.574351   \n",
       "1fa35783-062f-4189-b985-ec4e4bada1e9                           0     0.619441   \n",
       "3d74792e-e397-49d8-822f-c5ab8b01e1f0                           2     0.627324   \n",
       "74b7f8b0-c7ad-47b3-9806-e8ed1795cd5c                           0     0.497849   \n",
       "\n",
       "                                                                                 values  \\\n",
       "_id                                                                                       \n",
       "008ad67c-1766-4921-8f5c-f82090b7faf7  {'attempt': 10, 'guess': 2.5, 'hint request': ...   \n",
       "1d035537-71a8-4343-bdeb-f8d77fcb9c89  {'attempt': 10, 'guess': 2.5, 'hint request': ...   \n",
       "1fa35783-062f-4189-b985-ec4e4bada1e9  {'attempt': 10, 'guess': 2.5, 'hint request': ...   \n",
       "3d74792e-e397-49d8-822f-c5ab8b01e1f0  {'attempt': 10, 'guess': 2.5, 'hint request': ...   \n",
       "74b7f8b0-c7ad-47b3-9806-e8ed1795cd5c  {'attempt': 10, 'guess': 2.5, 'hint request': ...   \n",
       "\n",
       "                                      diligence  \n",
       "_id                                              \n",
       "008ad67c-1766-4921-8f5c-f82090b7faf7   1.978019  \n",
       "1d035537-71a8-4343-bdeb-f8d77fcb9c89   2.272757  \n",
       "1fa35783-062f-4189-b985-ec4e4bada1e9   1.884053  \n",
       "3d74792e-e397-49d8-822f-c5ab8b01e1f0   1.831674  \n",
       "74b7f8b0-c7ad-47b3-9806-e8ed1795cd5c   2.109031  \n",
       "\n",
       "[5 rows x 23 columns]"
      ]
     },
     "execution_count": 125,
     "metadata": {},
     "output_type": "execute_result"
    }
   ],
   "source": [
    "\n",
    "sim_students.head()"
   ]
  },
  {
   "cell_type": "code",
   "execution_count": null,
   "metadata": {},
   "outputs": [
    {
     "data": {
      "image/png": "[encoded data removed]",
      "text/plain": [
       "<Figure size 720x144 with 3 Axes>"
      ]
     },
     "metadata": {
      "needs_background": "light"
     },
     "output_type": "display_data"
    },
    {
     "name": "stderr",
     "output_type": "stream",
     "text": [
      "INFO:analytics.cae:Total skills: 67\n"
     ]
    }
   ],
   "source": [
    "# Plot mastery\n",
    "plt.figure(figsize=(10,2))\n",
    "plt.subplot(131)\n",
    "plt.hist(sim_students['pre-sim pct mastery'], bins=10)\n",
    "plt.title(\"pre-sim pct mastery\")\n",
    "\n",
    "plt.subplot(132)\n",
    "plt.hist(sim_students['final-sim pct mastery'], bins=10)\n",
    "plt.title(\"final-sim pct mastery\")\n",
    "\n",
    "plt.subplot(133)\n",
    "plt.hist(sim_students['final-sim total unmastered'], bins=10)\n",
    "plt.title(\"final-sim total unmastered\")\n",
    "\n",
    "plt.show()\n",
    "logger.info(\"Total skills: %i\" % sim_students['total skills'][0])"
   ]
  },
  {
   "cell_type": "code",
   "execution_count": null,
   "metadata": {},
   "outputs": [
    {
     "name": "stdout",
     "output_type": "stream",
     "text": [
      "0: attempt\n",
      "1: guess\n",
      "2: hint request\n",
      "3: off task\n"
     ]
    },
    {
     "data": {
      "image/png": "[encoded data removed]",
      "text/plain": [
       "<Figure size 576x504 with 4 Axes>"
      ]
     },
     "metadata": {
      "needs_background": "light"
     },
     "output_type": "display_data"
    },
    {
     "data": {
      "image/png": "[encoded data removed]",
      "text/plain": [
       "<Figure size 288x216 with 1 Axes>"
      ]
     },
     "metadata": {
      "needs_background": "light"
     },
     "output_type": "display_data"
    }
   ],
   "source": [
    "# Plot Values & Diligence\n",
    "plt.figure(figsize=(8,7))\n",
    "for i,val in enumerate(sim_students['values'][0].keys()):\n",
    "    print(\"%i: %s\" % (i, val))\n",
    "    plt.subplot(2,2,i+1)\n",
    "    plt.hist(sim_students['values'].apply(lambda x: x[val]), bins=10)\n",
    "    plt.title('Student value for %s' % val)\n",
    "\n",
    "plt.show()\n",
    "\n",
    "plt.figure(figsize=(4,3))\n",
    "plt.hist(sim_students['diligence'], bins=10)\n",
    "plt.title(\"Diligence\")\n",
    "plt.show()\n",
    "\n"
   ]
  },
  {
   "cell_type": "markdown",
   "metadata": {},
   "source": [
    "#### Learner Decisions EDA"
   ]
  },
  {
   "cell_type": "code",
   "execution_count": null,
   "metadata": {},
   "outputs": [
    {
     "data": {
      "text/html": [
       "<div>\n",
       "<style scoped>\n",
       "    .dataframe tbody tr th:only-of-type {\n",
       "        vertical-align: middle;\n",
       "    }\n",
       "\n",
       "    .dataframe tbody tr th {\n",
       "        vertical-align: top;\n",
       "    }\n",
       "\n",
       "    .dataframe thead th {\n",
       "        text-align: right;\n",
       "    }\n",
       "</style>\n",
       "<table border=\"1\" class=\"dataframe\">\n",
       "  <thead>\n",
       "    <tr style=\"text-align: right;\">\n",
       "      <th></th>\n",
       "      <th>_id</th>\n",
       "      <th>student_id</th>\n",
       "      <th>choice</th>\n",
       "      <th>time</th>\n",
       "      <th>action_evs</th>\n",
       "      <th>pev</th>\n",
       "      <th>problem</th>\n",
       "      <th>step</th>\n",
       "      <th>kc</th>\n",
       "      <th>learner_knowledge</th>\n",
       "      <th>attempt</th>\n",
       "      <th>hints_avail</th>\n",
       "      <th>hints_used</th>\n",
       "      <th>learner_off_task</th>\n",
       "      <th>self_eff</th>\n",
       "      <th>kcid</th>\n",
       "    </tr>\n",
       "  </thead>\n",
       "  <tbody>\n",
       "    <tr>\n",
       "      <th>0</th>\n",
       "      <td>3a5c9aaa-f5c1-4b87-ab63-2832241ea5dc</td>\n",
       "      <td>f6098683-575a-48fa-8a73-a700c147de0f</td>\n",
       "      <td>Attempt</td>\n",
       "      <td>2021-01-08 05:32:45.863</td>\n",
       "      <td>{'Attempt': {'expectancy': 0.5, 'value': 10, '...</td>\n",
       "      <td>[0.5712467813888631, 0.028668383259273005, 0.3...</td>\n",
       "      <td>5f8cc19c-0d51-46c5-97f7-27f13a6a157d</td>\n",
       "      <td>2718ab37-51d1-4fde-9ff1-d5b6d2e04461</td>\n",
       "      <td>{'_id': '903f30ec-c530-494b-bccb-540fb4146c46'...</td>\n",
       "      <td>False</td>\n",
       "      <td>0</td>\n",
       "      <td>3</td>\n",
       "      <td>0</td>\n",
       "      <td>False</td>\n",
       "      <td></td>\n",
       "      <td>903f30ec-c530-494b-bccb-540fb4146c46</td>\n",
       "    </tr>\n",
       "    <tr>\n",
       "      <th>1</th>\n",
       "      <td>1391023a-b1ce-45b8-9ca5-ba79def86b2a</td>\n",
       "      <td>f6098683-575a-48fa-8a73-a700c147de0f</td>\n",
       "      <td>Attempt</td>\n",
       "      <td>2021-01-08 05:32:49.735</td>\n",
       "      <td>{'Attempt': {'expectancy': 0.5, 'value': 10, '...</td>\n",
       "      <td>[0.5712467813888631, 0.028668383259273005, 0.3...</td>\n",
       "      <td>5f8cc19c-0d51-46c5-97f7-27f13a6a157d</td>\n",
       "      <td>34845c1a-bf7b-4bde-8551-086476aa56f9</td>\n",
       "      <td>{'_id': 'da3d056a-6a7c-4ca0-9b00-6b50d5466d0a'...</td>\n",
       "      <td>False</td>\n",
       "      <td>0</td>\n",
       "      <td>3</td>\n",
       "      <td>0</td>\n",
       "      <td>False</td>\n",
       "      <td></td>\n",
       "      <td>da3d056a-6a7c-4ca0-9b00-6b50d5466d0a</td>\n",
       "    </tr>\n",
       "    <tr>\n",
       "      <th>2</th>\n",
       "      <td>3738999f-04ee-4509-8894-cfbc5c1f2d6d</td>\n",
       "      <td>f6098683-575a-48fa-8a73-a700c147de0f</td>\n",
       "      <td>Attempt</td>\n",
       "      <td>2021-01-08 05:32:53.446</td>\n",
       "      <td>{'Attempt': {'expectancy': 0.5, 'value': 10, '...</td>\n",
       "      <td>[0.5712467813888631, 0.028668383259273005, 0.3...</td>\n",
       "      <td>5f8cc19c-0d51-46c5-97f7-27f13a6a157d</td>\n",
       "      <td>34845c1a-bf7b-4bde-8551-086476aa56f9</td>\n",
       "      <td>{'_id': 'da3d056a-6a7c-4ca0-9b00-6b50d5466d0a'...</td>\n",
       "      <td>False</td>\n",
       "      <td>1</td>\n",
       "      <td>3</td>\n",
       "      <td>0</td>\n",
       "      <td>False</td>\n",
       "      <td></td>\n",
       "      <td>da3d056a-6a7c-4ca0-9b00-6b50d5466d0a</td>\n",
       "    </tr>\n",
       "    <tr>\n",
       "      <th>3</th>\n",
       "      <td>f26076f6-19ba-4d66-ab0f-8c124413b409</td>\n",
       "      <td>f6098683-575a-48fa-8a73-a700c147de0f</td>\n",
       "      <td>Attempt</td>\n",
       "      <td>2021-01-08 05:32:55.182</td>\n",
       "      <td>{'Attempt': {'expectancy': 0.5, 'value': 10, '...</td>\n",
       "      <td>[0.5712467813888631, 0.028668383259273005, 0.3...</td>\n",
       "      <td>5f8cc19c-0d51-46c5-97f7-27f13a6a157d</td>\n",
       "      <td>ae1c3486-0fdf-48e9-bb4b-a2c463678419</td>\n",
       "      <td>{'_id': '8df4441b-e702-450a-a20b-5d712b9fafb8'...</td>\n",
       "      <td>False</td>\n",
       "      <td>0</td>\n",
       "      <td>3</td>\n",
       "      <td>0</td>\n",
       "      <td>False</td>\n",
       "      <td></td>\n",
       "      <td>8df4441b-e702-450a-a20b-5d712b9fafb8</td>\n",
       "    </tr>\n",
       "    <tr>\n",
       "      <th>4</th>\n",
       "      <td>032a0c8b-90d7-4f31-b5c3-0f9f91ebe5bd</td>\n",
       "      <td>f6098683-575a-48fa-8a73-a700c147de0f</td>\n",
       "      <td>Attempt</td>\n",
       "      <td>2021-01-08 05:33:07.882</td>\n",
       "      <td>{'Attempt': {'expectancy': 0.5, 'value': 10, '...</td>\n",
       "      <td>[0.5712467813888631, 0.028668383259273005, 0.3...</td>\n",
       "      <td>5f8cc19c-0d51-46c5-97f7-27f13a6a157d</td>\n",
       "      <td>ae1c3486-0fdf-48e9-bb4b-a2c463678419</td>\n",
       "      <td>{'_id': '8df4441b-e702-450a-a20b-5d712b9fafb8'...</td>\n",
       "      <td>False</td>\n",
       "      <td>1</td>\n",
       "      <td>3</td>\n",
       "      <td>0</td>\n",
       "      <td>False</td>\n",
       "      <td></td>\n",
       "      <td>8df4441b-e702-450a-a20b-5d712b9fafb8</td>\n",
       "    </tr>\n",
       "  </tbody>\n",
       "</table>\n",
       "</div>"
      ],
      "text/plain": [
       "                                    _id                            student_id  \\\n",
       "0  3a5c9aaa-f5c1-4b87-ab63-2832241ea5dc  f6098683-575a-48fa-8a73-a700c147de0f   \n",
       "1  1391023a-b1ce-45b8-9ca5-ba79def86b2a  f6098683-575a-48fa-8a73-a700c147de0f   \n",
       "2  3738999f-04ee-4509-8894-cfbc5c1f2d6d  f6098683-575a-48fa-8a73-a700c147de0f   \n",
       "3  f26076f6-19ba-4d66-ab0f-8c124413b409  f6098683-575a-48fa-8a73-a700c147de0f   \n",
       "4  032a0c8b-90d7-4f31-b5c3-0f9f91ebe5bd  f6098683-575a-48fa-8a73-a700c147de0f   \n",
       "\n",
       "    choice                    time  \\\n",
       "0  Attempt 2021-01-08 05:32:45.863   \n",
       "1  Attempt 2021-01-08 05:32:49.735   \n",
       "2  Attempt 2021-01-08 05:32:53.446   \n",
       "3  Attempt 2021-01-08 05:32:55.182   \n",
       "4  Attempt 2021-01-08 05:33:07.882   \n",
       "\n",
       "                                          action_evs  \\\n",
       "0  {'Attempt': {'expectancy': 0.5, 'value': 10, '...   \n",
       "1  {'Attempt': {'expectancy': 0.5, 'value': 10, '...   \n",
       "2  {'Attempt': {'expectancy': 0.5, 'value': 10, '...   \n",
       "3  {'Attempt': {'expectancy': 0.5, 'value': 10, '...   \n",
       "4  {'Attempt': {'expectancy': 0.5, 'value': 10, '...   \n",
       "\n",
       "                                                 pev  \\\n",
       "0  [0.5712467813888631, 0.028668383259273005, 0.3...   \n",
       "1  [0.5712467813888631, 0.028668383259273005, 0.3...   \n",
       "2  [0.5712467813888631, 0.028668383259273005, 0.3...   \n",
       "3  [0.5712467813888631, 0.028668383259273005, 0.3...   \n",
       "4  [0.5712467813888631, 0.028668383259273005, 0.3...   \n",
       "\n",
       "                                problem                                  step  \\\n",
       "0  5f8cc19c-0d51-46c5-97f7-27f13a6a157d  2718ab37-51d1-4fde-9ff1-d5b6d2e04461   \n",
       "1  5f8cc19c-0d51-46c5-97f7-27f13a6a157d  34845c1a-bf7b-4bde-8551-086476aa56f9   \n",
       "2  5f8cc19c-0d51-46c5-97f7-27f13a6a157d  34845c1a-bf7b-4bde-8551-086476aa56f9   \n",
       "3  5f8cc19c-0d51-46c5-97f7-27f13a6a157d  ae1c3486-0fdf-48e9-bb4b-a2c463678419   \n",
       "4  5f8cc19c-0d51-46c5-97f7-27f13a6a157d  ae1c3486-0fdf-48e9-bb4b-a2c463678419   \n",
       "\n",
       "                                                  kc  learner_knowledge  \\\n",
       "0  {'_id': '903f30ec-c530-494b-bccb-540fb4146c46'...              False   \n",
       "1  {'_id': 'da3d056a-6a7c-4ca0-9b00-6b50d5466d0a'...              False   \n",
       "2  {'_id': 'da3d056a-6a7c-4ca0-9b00-6b50d5466d0a'...              False   \n",
       "3  {'_id': '8df4441b-e702-450a-a20b-5d712b9fafb8'...              False   \n",
       "4  {'_id': '8df4441b-e702-450a-a20b-5d712b9fafb8'...              False   \n",
       "\n",
       "   attempt  hints_avail  hints_used  learner_off_task self_eff  \\\n",
       "0        0            3           0             False            \n",
       "1        0            3           0             False            \n",
       "2        1            3           0             False            \n",
       "3        0            3           0             False            \n",
       "4        1            3           0             False            \n",
       "\n",
       "                                   kcid  \n",
       "0  903f30ec-c530-494b-bccb-540fb4146c46  \n",
       "1  da3d056a-6a7c-4ca0-9b00-6b50d5466d0a  \n",
       "2  da3d056a-6a7c-4ca0-9b00-6b50d5466d0a  \n",
       "3  8df4441b-e702-450a-a20b-5d712b9fafb8  \n",
       "4  8df4441b-e702-450a-a20b-5d712b9fafb8  "
      ]
     },
     "execution_count": 128,
     "metadata": {},
     "output_type": "execute_result"
    }
   ],
   "source": [
    "# Get Learner decisions\n",
    "if \"stus_1\" in globals():\n",
    "    decisions = pd.DataFrame(db.decisions.find({\"student_id\": {'$in': [stu._id for stu in stus_1]}}))\n",
    "else:\n",
    "    decisions = pd.DataFrame(db.decisions.find({\"student_id\": {'$in': sid}}))\n",
    "decisions['learner_knowledge'] = decisions['learner_knowledge'].apply(lambda x: x[0] if isinstance(x, Iterable) else x)\n",
    "decisions['kcid'] = decisions['kc'].apply(lambda x: x['_id'])\n",
    "decisions.head()"
   ]
  },
  {
   "cell_type": "markdown",
   "metadata": {},
   "source": [
    "#### Learner Actions EDA"
   ]
  },
  {
   "cell_type": "code",
   "execution_count": null,
   "metadata": {},
   "outputs": [
    {
     "data": {
      "text/html": [
       "<div>\n",
       "<style scoped>\n",
       "    .dataframe tbody tr th:only-of-type {\n",
       "        vertical-align: middle;\n",
       "    }\n",
       "\n",
       "    .dataframe tbody tr th {\n",
       "        vertical-align: top;\n",
       "    }\n",
       "\n",
       "    .dataframe thead th {\n",
       "        text-align: right;\n",
       "    }\n",
       "</style>\n",
       "<table border=\"1\" class=\"dataframe\">\n",
       "  <thead>\n",
       "    <tr style=\"text-align: right;\">\n",
       "      <th>type</th>\n",
       "      <th>Attempt</th>\n",
       "      <th>Guess</th>\n",
       "      <th>Hint Request</th>\n",
       "      <th>Off Task</th>\n",
       "      <th>total actions</th>\n",
       "      <th>Pct Attempt</th>\n",
       "      <th>Pct Guess</th>\n",
       "      <th>Pct Hint Request</th>\n",
       "      <th>Pct Off Task</th>\n",
       "    </tr>\n",
       "    <tr>\n",
       "      <th>student_id</th>\n",
       "      <th></th>\n",
       "      <th></th>\n",
       "      <th></th>\n",
       "      <th></th>\n",
       "      <th></th>\n",
       "      <th></th>\n",
       "      <th></th>\n",
       "      <th></th>\n",
       "      <th></th>\n",
       "    </tr>\n",
       "  </thead>\n",
       "  <tbody>\n",
       "    <tr>\n",
       "      <th>008ad67c-1766-4921-8f5c-f82090b7faf7</th>\n",
       "      <td>1024</td>\n",
       "      <td>29</td>\n",
       "      <td>224</td>\n",
       "      <td>86</td>\n",
       "      <td>1363</td>\n",
       "      <td>0.751284</td>\n",
       "      <td>0.021277</td>\n",
       "      <td>0.164343</td>\n",
       "      <td>0.063096</td>\n",
       "    </tr>\n",
       "    <tr>\n",
       "      <th>1d035537-71a8-4343-bdeb-f8d77fcb9c89</th>\n",
       "      <td>1238</td>\n",
       "      <td>33</td>\n",
       "      <td>391</td>\n",
       "      <td>104</td>\n",
       "      <td>1766</td>\n",
       "      <td>0.701019</td>\n",
       "      <td>0.018686</td>\n",
       "      <td>0.221404</td>\n",
       "      <td>0.058890</td>\n",
       "    </tr>\n",
       "    <tr>\n",
       "      <th>1fa35783-062f-4189-b985-ec4e4bada1e9</th>\n",
       "      <td>2109</td>\n",
       "      <td>72</td>\n",
       "      <td>724</td>\n",
       "      <td>184</td>\n",
       "      <td>3089</td>\n",
       "      <td>0.682745</td>\n",
       "      <td>0.023309</td>\n",
       "      <td>0.234380</td>\n",
       "      <td>0.059566</td>\n",
       "    </tr>\n",
       "    <tr>\n",
       "      <th>3d74792e-e397-49d8-822f-c5ab8b01e1f0</th>\n",
       "      <td>1198</td>\n",
       "      <td>39</td>\n",
       "      <td>367</td>\n",
       "      <td>124</td>\n",
       "      <td>1728</td>\n",
       "      <td>0.693287</td>\n",
       "      <td>0.022569</td>\n",
       "      <td>0.212384</td>\n",
       "      <td>0.071759</td>\n",
       "    </tr>\n",
       "    <tr>\n",
       "      <th>74b7f8b0-c7ad-47b3-9806-e8ed1795cd5c</th>\n",
       "      <td>2262</td>\n",
       "      <td>62</td>\n",
       "      <td>549</td>\n",
       "      <td>227</td>\n",
       "      <td>3100</td>\n",
       "      <td>0.729677</td>\n",
       "      <td>0.020000</td>\n",
       "      <td>0.177097</td>\n",
       "      <td>0.073226</td>\n",
       "    </tr>\n",
       "  </tbody>\n",
       "</table>\n",
       "</div>"
      ],
      "text/plain": [
       "type                                  Attempt  Guess  Hint Request  Off Task  \\\n",
       "student_id                                                                     \n",
       "008ad67c-1766-4921-8f5c-f82090b7faf7     1024     29           224        86   \n",
       "1d035537-71a8-4343-bdeb-f8d77fcb9c89     1238     33           391       104   \n",
       "1fa35783-062f-4189-b985-ec4e4bada1e9     2109     72           724       184   \n",
       "3d74792e-e397-49d8-822f-c5ab8b01e1f0     1198     39           367       124   \n",
       "74b7f8b0-c7ad-47b3-9806-e8ed1795cd5c     2262     62           549       227   \n",
       "\n",
       "type                                  total actions  Pct Attempt  Pct Guess  \\\n",
       "student_id                                                                    \n",
       "008ad67c-1766-4921-8f5c-f82090b7faf7           1363     0.751284   0.021277   \n",
       "1d035537-71a8-4343-bdeb-f8d77fcb9c89           1766     0.701019   0.018686   \n",
       "1fa35783-062f-4189-b985-ec4e4bada1e9           3089     0.682745   0.023309   \n",
       "3d74792e-e397-49d8-822f-c5ab8b01e1f0           1728     0.693287   0.022569   \n",
       "74b7f8b0-c7ad-47b3-9806-e8ed1795cd5c           3100     0.729677   0.020000   \n",
       "\n",
       "type                                  Pct Hint Request  Pct Off Task  \n",
       "student_id                                                            \n",
       "008ad67c-1766-4921-8f5c-f82090b7faf7          0.164343      0.063096  \n",
       "1d035537-71a8-4343-bdeb-f8d77fcb9c89          0.221404      0.058890  \n",
       "1fa35783-062f-4189-b985-ec4e4bada1e9          0.234380      0.059566  \n",
       "3d74792e-e397-49d8-822f-c5ab8b01e1f0          0.212384      0.071759  \n",
       "74b7f8b0-c7ad-47b3-9806-e8ed1795cd5c          0.177097      0.073226  "
      ]
     },
     "execution_count": 129,
     "metadata": {},
     "output_type": "execute_result"
    }
   ],
   "source": [
    "action_dist.head()"
   ]
  },
  {
   "cell_type": "code",
   "execution_count": null,
   "metadata": {},
   "outputs": [
    {
     "data": {
      "image/png": "[encoded data removed]",
      "text/plain": [
       "<Figure size 720x144 with 4 Axes>"
      ]
     },
     "metadata": {
      "needs_background": "light"
     },
     "output_type": "display_data"
    }
   ],
   "source": [
    "plt.figure(figsize=(10,2))\n",
    "plt.subplot(141)\n",
    "plt.hist(action_dist['Pct Attempt'], bins=10)\n",
    "plt.title(\"Pct Attempt\")\n",
    "\n",
    "plt.subplot(142)\n",
    "plt.hist(action_dist['Pct Guess'], bins=10)\n",
    "plt.title(\"Pct Guess\")\n",
    "\n",
    "plt.subplot(143)\n",
    "plt.hist(action_dist['Pct Hint Request'], bins=10)\n",
    "plt.title(\"Pct Hint Request\")\n",
    "\n",
    "plt.subplot(144)\n",
    "plt.hist(action_dist['Pct Off Task'], bins=10)\n",
    "plt.title(\"Pct Off Task\")\n",
    "\n",
    "plt.show()"
   ]
  },
  {
   "cell_type": "markdown",
   "metadata": {},
   "source": [
    "#### Learner Transactions EDA"
   ]
  },
  {
   "cell_type": "code",
   "execution_count": null,
   "metadata": {},
   "outputs": [
    {
     "name": "stderr",
     "output_type": "stream",
     "text": [
      "INFO:analytics.cae:Extracted tx for set of students in 36.315992 seconds: (442114, 8)\n"
     ]
    }
   ],
   "source": [
    "args = [db, get_tx_fields, sid, 10]\n",
    "tx, runtime = time_calc(batch_calc, args)\n",
    "logger.info(f\"Extracted tx for set of students in {runtime} seconds: {tx.shape}\")"
   ]
  },
  {
   "cell_type": "code",
   "execution_count": null,
   "metadata": {},
   "outputs": [],
   "source": [
    "step_stats = tx.groupby(['stu_id', 'unit_id', 'section_id', 'prob_id', 'step_id'])['duration'].agg(['sum', 'count']).reset_index()\n",
    "stu_prob_stats = step_stats.groupby('stu_id')['count'].describe()\n",
    "stu_prob_stats.columns = [\"Step Attempt %s\" % col for col in stu_prob_stats.columns]\n",
    "d = step_stats.groupby('stu_id')['sum'].describe()\n",
    "d.columns = [\"Step Duration %s\" % col for col in d.columns]\n",
    "stu_prob_stats = pd.concat([stu_prob_stats, d], axis=1)\n",
    "stu_prob_stats.head()\n",
    "\n",
    "# kc_stats = tx[['stu_id', 'kc', 'step_id']].drop_duplicates().groupby(['stu_id', 'kc']).count()\n",
    "stu_kc_stats = tx[['stu_id', 'kc', 'step_id']].drop_duplicates().groupby(['stu_id', 'kc']).count().reset_index()\n",
    "stu_kc_stats.rename(columns={'step_id': 'kc opportunities'}, inplace=True)\n",
    "kc_stats = stu_kc_stats.groupby('kc').describe()"
   ]
  },
  {
   "cell_type": "code",
   "execution_count": null,
   "metadata": {},
   "outputs": [
    {
     "data": {
      "image/png": "[encoded data removed]",
      "text/plain": [
       "<Figure size 720x144 with 2 Axes>"
      ]
     },
     "metadata": {
      "needs_background": "light"
     },
     "output_type": "display_data"
    },
    {
     "data": {
      "image/png": "[encoded data removed]",
      "text/plain": [
       "<Figure size 1080x144 with 3 Axes>"
      ]
     },
     "metadata": {
      "needs_background": "light"
     },
     "output_type": "display_data"
    },
    {
     "data": {
      "image/png": "[encoded data removed]",
      "text/plain": [
       "<Figure size 216x144 with 1 Axes>"
      ]
     },
     "metadata": {
      "needs_background": "light"
     },
     "output_type": "display_data"
    }
   ],
   "source": [
    "plt.figure(figsize=(10,2))\n",
    "plt.subplot(121)\n",
    "plt.hist(tx_stats['Total Tx'], bins=10)\n",
    "plt.title(\"Total Tx\")\n",
    "\n",
    "plt.subplot(122)\n",
    "plt.hist(tx_stats['Total Time(hours)'], bins=10)\n",
    "plt.title(\"Total Time(hours)\")\n",
    "plt.show()\n",
    "\n",
    "plt.figure(figsize=(15,2))\n",
    "plt.subplot(131)\n",
    "plt.hist(tx_stats['Pct Correct'], bins=10)\n",
    "plt.title(\"Pct Correct Tx\")\n",
    "\n",
    "plt.subplot(132)\n",
    "plt.hist(tx_stats['Pct Incorrect'], bins=10)\n",
    "plt.title(\"Pct Incorrect Tx\")\n",
    "\n",
    "plt.subplot(133)\n",
    "plt.hist(tx_stats['Pct Hint'], bins=10)\n",
    "plt.title(\"Pct Hint Tx\")\n",
    "plt.show()\n",
    "\n",
    "plt.figure(figsize=(3,2))\n",
    "plt.hist(tx['duration'],bins=50)\n",
    "plt.title(\"Tx duration\")\n",
    "plt.show()"
   ]
  },
  {
   "cell_type": "code",
   "execution_count": null,
   "metadata": {},
   "outputs": [
    {
     "data": {
      "image/png": "[encoded data removed]",
      "text/plain": [
       "<Figure size 1296x864 with 18 Axes>"
      ]
     },
     "metadata": {
      "needs_background": "light"
     },
     "output_type": "display_data"
    }
   ],
   "source": [
    "num_bins = 10\n",
    "num_rows = 3\n",
    "num_cols = 6\n",
    "row_height = 3\n",
    "col_width = 3\n",
    "plt.figure(figsize=(col_width*num_cols, row_height*num_rows+num_rows))\n",
    "\n",
    "row = 0\n",
    "plt.subplot(num_rows,num_cols,num_cols*row + 1)\n",
    "plt.hist(stu_prob_stats['Step Attempt mean'], bins=num_bins)\n",
    "plt.title(\"Mean Attempts per step\")\n",
    "plt.subplot(num_rows,num_cols,num_cols*row + 2)\n",
    "plt.hist(stu_prob_stats['Step Attempt std'], bins=num_bins)\n",
    "plt.title(\"Standard Dev Attempts per step\")\n",
    "\n",
    "\n",
    "plt.subplot(num_rows,num_cols,num_cols*row + 3)\n",
    "plt.hist(stu_prob_stats['Step Attempt 25%'], bins=num_bins)\n",
    "plt.title(\"Q1 Attempts per step\")\n",
    "plt.subplot(num_rows,num_cols,num_cols*row + 4)\n",
    "plt.hist(stu_prob_stats['Step Attempt 50%'], bins=num_bins)\n",
    "plt.title(\"Q2 Attempts per step\")\n",
    "plt.subplot(num_rows,num_cols,num_cols*row + 5)\n",
    "plt.hist(stu_prob_stats['Step Attempt 75%'], bins=num_bins)\n",
    "plt.title(\"Q3 Attempts per step\")\n",
    "plt.subplot(num_rows,num_cols,num_cols*row + 6)\n",
    "plt.hist(stu_prob_stats['Step Attempt max'], bins=num_bins)\n",
    "plt.title(\"Max Attempts per step\")\n",
    "\n",
    "row = 1\n",
    "plt.subplot(num_rows,num_cols,num_cols*row + 1)\n",
    "plt.hist(stu_prob_stats['Step Duration mean'], bins=num_bins)\n",
    "plt.title(\"Mean Time per step\")\n",
    "plt.subplot(num_rows,num_cols,num_cols*row + 2)\n",
    "plt.hist(stu_prob_stats['Step Duration std'], bins=num_bins)\n",
    "plt.title(\"Standard Dev Time per step\")\n",
    "\n",
    "\n",
    "plt.subplot(num_rows,num_cols,num_cols*row + 3)\n",
    "plt.hist(stu_prob_stats['Step Duration 25%'], bins=num_bins)\n",
    "plt.title(\"Q1 Time per step\")\n",
    "plt.subplot(num_rows,num_cols,num_cols*row + 4)\n",
    "plt.hist(stu_prob_stats['Step Duration 50%'], bins=num_bins)\n",
    "plt.title(\"Q2 Time per step\")\n",
    "plt.subplot(num_rows,num_cols,num_cols*row + 5)\n",
    "plt.hist(stu_prob_stats['Step Duration 75%'], bins=num_bins)\n",
    "plt.title(\"Q3 Time per step\")\n",
    "plt.subplot(num_rows,num_cols,num_cols*row + 6)\n",
    "plt.hist(stu_prob_stats['Step Duration max'], bins=num_bins)\n",
    "plt.title(\"Max Time per step\")\n",
    "\n",
    "row = 2\n",
    "plt.subplot(num_rows,num_cols,num_cols*row + 1)\n",
    "plt.hist(kc_stats[('kc opportunities', 'mean')], bins=num_bins)\n",
    "plt.title(\"Mean opportunities per kc\")\n",
    "plt.subplot(num_rows,num_cols,num_cols*row + 2)\n",
    "plt.hist(kc_stats[('kc opportunities', 'std')], bins=num_bins)\n",
    "plt.title(\"Standard Dev opportunities per kc\")\n",
    "\n",
    "\n",
    "plt.subplot(num_rows,num_cols,num_cols*row + 3)\n",
    "plt.hist(kc_stats[('kc opportunities', '25%')], bins=num_bins)\n",
    "plt.title(\"Q1 opportunities per kc\")\n",
    "plt.subplot(num_rows,num_cols,num_cols*row + 4)\n",
    "plt.hist(kc_stats[('kc opportunities', '50%')], bins=num_bins)\n",
    "plt.title(\"Q2 opportunities per kc\")\n",
    "plt.subplot(num_rows,num_cols,num_cols*row + 5)\n",
    "plt.hist(kc_stats[('kc opportunities', '75%')], bins=num_bins)\n",
    "plt.title(\"Q3 opportunities per kc\")\n",
    "plt.subplot(num_rows,num_cols,num_cols*row + 6)\n",
    "plt.hist(kc_stats[('kc opportunities', 'max')], bins=num_bins)\n",
    "plt.title(\"Max opportunities per kc\")\n",
    "\n",
    "plt.show()\n"
   ]
  },
  {
   "cell_type": "code",
   "execution_count": null,
   "metadata": {},
   "outputs": [],
   "source": []
  },
  {
   "cell_type": "markdown",
   "metadata": {},
   "source": [
    "### Diligent with variable values"
   ]
  },
  {
   "cell_type": "code",
   "execution_count": null,
   "metadata": {},
   "outputs": [],
   "source": [
    "sid = sids[batch_desc[1]][0]"
   ]
  },
  {
   "cell_type": "code",
   "execution_count": null,
   "metadata": {},
   "outputs": [
    {
     "name": "stderr",
     "output_type": "stream",
     "text": [
      "INFO:analytics.cae:Calculated student params: (200, 23)\tRuntime: 0.453909 seconds\n"
     ]
    }
   ],
   "source": [
    "args = [db, calc.get_stu_parameters, sid, 10]\n",
    "sim_students, runtime = time_calc(batch_calc, args)\n",
    "logger.info(f\"Calculated student params: {sim_students.shape}\\tRuntime: {runtime} seconds\")"
   ]
  },
  {
   "cell_type": "code",
   "execution_count": null,
   "metadata": {},
   "outputs": [
    {
     "name": "stderr",
     "output_type": "stream",
     "text": [
      "INFO:analytics.cae:Calculated student action stats: (200, 9)\tRuntime: 44.205446 seconds\n"
     ]
    }
   ],
   "source": [
    "args = [db, calc.action_stats, sid, 10]\n",
    "action_dist, runtime = time_calc(batch_calc, args)\n",
    "logger.info(f\"Calculated student action stats: {action_dist.shape}\\tRuntime: {runtime} seconds\")"
   ]
  },
  {
   "cell_type": "code",
   "execution_count": null,
   "metadata": {},
   "outputs": [
    {
     "ename": "KeyboardInterrupt",
     "evalue": "",
     "output_type": "error",
     "traceback": [
      "\u001b[0;31m---------------------------------------------------------------------------\u001b[0m",
      "\u001b[0;31mKeyboardInterrupt\u001b[0m                         Traceback (most recent call last)",
      "\u001b[0;32m<ipython-input-138-904c56693d0b>\u001b[0m in \u001b[0;36m<module>\u001b[0;34m\u001b[0m\n\u001b[1;32m      1\u001b[0m \u001b[0margs\u001b[0m \u001b[0;34m=\u001b[0m \u001b[0;34m[\u001b[0m\u001b[0mdb\u001b[0m\u001b[0;34m,\u001b[0m \u001b[0mcalc\u001b[0m\u001b[0;34m.\u001b[0m\u001b[0mtotal_tx_stats\u001b[0m\u001b[0;34m,\u001b[0m \u001b[0msid\u001b[0m\u001b[0;34m,\u001b[0m \u001b[0;36m10\u001b[0m\u001b[0;34m]\u001b[0m\u001b[0;34m\u001b[0m\u001b[0;34m\u001b[0m\u001b[0m\n\u001b[0;32m----> 2\u001b[0;31m \u001b[0mtx_stats\u001b[0m\u001b[0;34m,\u001b[0m \u001b[0mruntime\u001b[0m \u001b[0;34m=\u001b[0m \u001b[0mtime_calc\u001b[0m\u001b[0;34m(\u001b[0m\u001b[0mbatch_calc\u001b[0m\u001b[0;34m,\u001b[0m \u001b[0margs\u001b[0m\u001b[0;34m)\u001b[0m\u001b[0;34m\u001b[0m\u001b[0;34m\u001b[0m\u001b[0m\n\u001b[0m\u001b[1;32m      3\u001b[0m \u001b[0mlogger\u001b[0m\u001b[0;34m.\u001b[0m\u001b[0minfo\u001b[0m\u001b[0;34m(\u001b[0m\u001b[0;34mf\"Calculated student activity stats: {tx_stats.shape}\\tRuntime: {runtime} seconds\"\u001b[0m\u001b[0;34m)\u001b[0m\u001b[0;34m\u001b[0m\u001b[0;34m\u001b[0m\u001b[0m\n",
      "\u001b[0;32m<ipython-input-117-9cfb8536379e>\u001b[0m in \u001b[0;36mtime_calc\u001b[0;34m(calc, args)\u001b[0m\n\u001b[1;32m      1\u001b[0m \u001b[0;32mdef\u001b[0m \u001b[0mtime_calc\u001b[0m\u001b[0;34m(\u001b[0m\u001b[0mcalc\u001b[0m\u001b[0;34m,\u001b[0m \u001b[0margs\u001b[0m\u001b[0;34m)\u001b[0m\u001b[0;34m:\u001b[0m\u001b[0;34m\u001b[0m\u001b[0;34m\u001b[0m\u001b[0m\n\u001b[1;32m      2\u001b[0m     \u001b[0mstart\u001b[0m \u001b[0;34m=\u001b[0m \u001b[0mdt\u001b[0m\u001b[0;34m.\u001b[0m\u001b[0mnow\u001b[0m\u001b[0;34m(\u001b[0m\u001b[0;34m)\u001b[0m\u001b[0;34m\u001b[0m\u001b[0;34m\u001b[0m\u001b[0m\n\u001b[0;32m----> 3\u001b[0;31m     \u001b[0mresult\u001b[0m \u001b[0;34m=\u001b[0m \u001b[0mcalc\u001b[0m\u001b[0;34m(\u001b[0m\u001b[0;34m*\u001b[0m\u001b[0margs\u001b[0m\u001b[0;34m)\u001b[0m\u001b[0;34m\u001b[0m\u001b[0;34m\u001b[0m\u001b[0m\n\u001b[0m\u001b[1;32m      4\u001b[0m     \u001b[0mend\u001b[0m \u001b[0;34m=\u001b[0m \u001b[0mdt\u001b[0m\u001b[0;34m.\u001b[0m\u001b[0mnow\u001b[0m\u001b[0;34m(\u001b[0m\u001b[0;34m)\u001b[0m\u001b[0;34m\u001b[0m\u001b[0;34m\u001b[0m\u001b[0m\n\u001b[1;32m      5\u001b[0m     \u001b[0mruntime\u001b[0m \u001b[0;34m=\u001b[0m \u001b[0;34m(\u001b[0m\u001b[0mend\u001b[0m \u001b[0;34m-\u001b[0m \u001b[0mstart\u001b[0m\u001b[0;34m)\u001b[0m\u001b[0;34m.\u001b[0m\u001b[0mtotal_seconds\u001b[0m\u001b[0;34m(\u001b[0m\u001b[0;34m)\u001b[0m\u001b[0;34m\u001b[0m\u001b[0;34m\u001b[0m\u001b[0m\n",
      "\u001b[0;32m<ipython-input-116-f6b36695def2>\u001b[0m in \u001b[0;36mbatch_calc\u001b[0;34m(db, calc, filt, batch_size)\u001b[0m\n\u001b[1;32m      5\u001b[0m     \u001b[0mresults\u001b[0m \u001b[0;34m=\u001b[0m \u001b[0;34m[\u001b[0m\u001b[0;34m]\u001b[0m\u001b[0;34m\u001b[0m\u001b[0;34m\u001b[0m\u001b[0m\n\u001b[1;32m      6\u001b[0m     \u001b[0;32mfor\u001b[0m \u001b[0mbatch\u001b[0m \u001b[0;32min\u001b[0m \u001b[0mbatches\u001b[0m\u001b[0;34m:\u001b[0m\u001b[0;34m\u001b[0m\u001b[0;34m\u001b[0m\u001b[0m\n\u001b[0;32m----> 7\u001b[0;31m         \u001b[0mresults\u001b[0m\u001b[0;34m.\u001b[0m\u001b[0mappend\u001b[0m\u001b[0;34m(\u001b[0m\u001b[0mcalc\u001b[0m\u001b[0;34m(\u001b[0m\u001b[0mbatch\u001b[0m\u001b[0;34m)\u001b[0m\u001b[0;34m)\u001b[0m\u001b[0;34m\u001b[0m\u001b[0;34m\u001b[0m\u001b[0m\n\u001b[0m\u001b[1;32m      8\u001b[0m     \u001b[0;32mreturn\u001b[0m \u001b[0mpd\u001b[0m\u001b[0;34m.\u001b[0m\u001b[0mconcat\u001b[0m\u001b[0;34m(\u001b[0m\u001b[0mresults\u001b[0m\u001b[0;34m,\u001b[0m \u001b[0maxis\u001b[0m\u001b[0;34m=\u001b[0m\u001b[0;36m0\u001b[0m\u001b[0;34m)\u001b[0m\u001b[0;34m\u001b[0m\u001b[0;34m\u001b[0m\u001b[0m\n",
      "\u001b[0;32m/rdata/Sandbox/MotivSim/lib/analytics/student_stats.py\u001b[0m in \u001b[0;36mtotal_tx_stats\u001b[0;34m(self, sids)\u001b[0m\n\u001b[1;32m     93\u001b[0m     \u001b[0;32mdef\u001b[0m \u001b[0mtotal_tx_stats\u001b[0m\u001b[0;34m(\u001b[0m\u001b[0mself\u001b[0m\u001b[0;34m,\u001b[0m \u001b[0msids\u001b[0m\u001b[0;34m)\u001b[0m\u001b[0;34m:\u001b[0m\u001b[0;34m\u001b[0m\u001b[0;34m\u001b[0m\u001b[0m\n\u001b[1;32m     94\u001b[0m         \u001b[0;31m# Calculates total time, activity, and proportions of outcomes\u001b[0m\u001b[0;34m\u001b[0m\u001b[0;34m\u001b[0m\u001b[0;34m\u001b[0m\u001b[0m\n\u001b[0;32m---> 95\u001b[0;31m         \u001b[0mtx\u001b[0m \u001b[0;34m=\u001b[0m \u001b[0mpd\u001b[0m\u001b[0;34m.\u001b[0m\u001b[0mDataFrame\u001b[0m\u001b[0;34m(\u001b[0m\u001b[0mself\u001b[0m\u001b[0;34m.\u001b[0m\u001b[0mdb\u001b[0m\u001b[0;34m.\u001b[0m\u001b[0mtutor_events\u001b[0m\u001b[0;34m.\u001b[0m\u001b[0mfind\u001b[0m\u001b[0;34m(\u001b[0m\u001b[0;34m{\u001b[0m\u001b[0;34m\"stu_id\"\u001b[0m\u001b[0;34m:\u001b[0m \u001b[0;34m{\u001b[0m\u001b[0;34m'$in'\u001b[0m\u001b[0;34m:\u001b[0m \u001b[0msids\u001b[0m\u001b[0;34m}\u001b[0m\u001b[0;34m,\u001b[0m \u001b[0;34m'type'\u001b[0m\u001b[0;34m:\u001b[0m \u001b[0;34m\"TutorInput\"\u001b[0m\u001b[0;34m}\u001b[0m\u001b[0;34m)\u001b[0m\u001b[0;34m)\u001b[0m\u001b[0;34m\u001b[0m\u001b[0;34m\u001b[0m\u001b[0m\n\u001b[0m\u001b[1;32m     96\u001b[0m         \u001b[0;31m# Add kc field that reduces list of kcs to 1 kc\u001b[0m\u001b[0;34m\u001b[0m\u001b[0;34m\u001b[0m\u001b[0;34m\u001b[0m\u001b[0m\n\u001b[1;32m     97\u001b[0m         \u001b[0mtx\u001b[0m\u001b[0;34m[\u001b[0m\u001b[0;34m'kc'\u001b[0m\u001b[0;34m]\u001b[0m \u001b[0;34m=\u001b[0m \u001b[0mtx\u001b[0m\u001b[0;34m.\u001b[0m\u001b[0mapply\u001b[0m\u001b[0;34m(\u001b[0m\u001b[0;32mlambda\u001b[0m \u001b[0mx\u001b[0m\u001b[0;34m:\u001b[0m \u001b[0mx\u001b[0m\u001b[0;34m[\u001b[0m\u001b[0;34m'kcs'\u001b[0m\u001b[0;34m]\u001b[0m\u001b[0;34m[\u001b[0m\u001b[0;36m0\u001b[0m\u001b[0;34m]\u001b[0m\u001b[0;34m[\u001b[0m\u001b[0;34m'_id'\u001b[0m\u001b[0;34m]\u001b[0m\u001b[0;34m,\u001b[0m \u001b[0maxis\u001b[0m\u001b[0;34m=\u001b[0m\u001b[0;36m1\u001b[0m\u001b[0;34m)\u001b[0m\u001b[0;34m\u001b[0m\u001b[0;34m\u001b[0m\u001b[0m\n",
      "\u001b[0;32m/rdata/Sandbox/MotivSim/notebooks/jvenv/lib/python3.8/site-packages/pandas/core/frame.py\u001b[0m in \u001b[0;36m__init__\u001b[0;34m(self, data, index, columns, dtype, copy)\u001b[0m\n\u001b[1;32m    500\u001b[0m         \u001b[0;32melif\u001b[0m \u001b[0misinstance\u001b[0m\u001b[0;34m(\u001b[0m\u001b[0mdata\u001b[0m\u001b[0;34m,\u001b[0m \u001b[0mabc\u001b[0m\u001b[0;34m.\u001b[0m\u001b[0mIterable\u001b[0m\u001b[0;34m)\u001b[0m \u001b[0;32mand\u001b[0m \u001b[0;32mnot\u001b[0m \u001b[0misinstance\u001b[0m\u001b[0;34m(\u001b[0m\u001b[0mdata\u001b[0m\u001b[0;34m,\u001b[0m \u001b[0;34m(\u001b[0m\u001b[0mstr\u001b[0m\u001b[0;34m,\u001b[0m \u001b[0mbytes\u001b[0m\u001b[0;34m)\u001b[0m\u001b[0;34m)\u001b[0m\u001b[0;34m:\u001b[0m\u001b[0;34m\u001b[0m\u001b[0;34m\u001b[0m\u001b[0m\n\u001b[1;32m    501\u001b[0m             \u001b[0;32mif\u001b[0m \u001b[0;32mnot\u001b[0m \u001b[0misinstance\u001b[0m\u001b[0;34m(\u001b[0m\u001b[0mdata\u001b[0m\u001b[0;34m,\u001b[0m \u001b[0;34m(\u001b[0m\u001b[0mabc\u001b[0m\u001b[0;34m.\u001b[0m\u001b[0mSequence\u001b[0m\u001b[0;34m,\u001b[0m \u001b[0mExtensionArray\u001b[0m\u001b[0;34m)\u001b[0m\u001b[0;34m)\u001b[0m\u001b[0;34m:\u001b[0m\u001b[0;34m\u001b[0m\u001b[0;34m\u001b[0m\u001b[0m\n\u001b[0;32m--> 502\u001b[0;31m                 \u001b[0mdata\u001b[0m \u001b[0;34m=\u001b[0m \u001b[0mlist\u001b[0m\u001b[0;34m(\u001b[0m\u001b[0mdata\u001b[0m\u001b[0;34m)\u001b[0m\u001b[0;34m\u001b[0m\u001b[0;34m\u001b[0m\u001b[0m\n\u001b[0m\u001b[1;32m    503\u001b[0m             \u001b[0;32mif\u001b[0m \u001b[0mlen\u001b[0m\u001b[0;34m(\u001b[0m\u001b[0mdata\u001b[0m\u001b[0;34m)\u001b[0m \u001b[0;34m>\u001b[0m \u001b[0;36m0\u001b[0m\u001b[0;34m:\u001b[0m\u001b[0;34m\u001b[0m\u001b[0;34m\u001b[0m\u001b[0m\n\u001b[1;32m    504\u001b[0m                 \u001b[0;32mif\u001b[0m \u001b[0mis_dataclass\u001b[0m\u001b[0;34m(\u001b[0m\u001b[0mdata\u001b[0m\u001b[0;34m[\u001b[0m\u001b[0;36m0\u001b[0m\u001b[0;34m]\u001b[0m\u001b[0;34m)\u001b[0m\u001b[0;34m:\u001b[0m\u001b[0;34m\u001b[0m\u001b[0;34m\u001b[0m\u001b[0m\n",
      "\u001b[0;32m/rdata/Sandbox/MotivSim/notebooks/jvenv/lib/python3.8/site-packages/pymongo/cursor.py\u001b[0m in \u001b[0;36mnext\u001b[0;34m(self)\u001b[0m\n\u001b[1;32m   1205\u001b[0m         \u001b[0;32mif\u001b[0m \u001b[0mself\u001b[0m\u001b[0;34m.\u001b[0m\u001b[0m__empty\u001b[0m\u001b[0;34m:\u001b[0m\u001b[0;34m\u001b[0m\u001b[0;34m\u001b[0m\u001b[0m\n\u001b[1;32m   1206\u001b[0m             \u001b[0;32mraise\u001b[0m \u001b[0mStopIteration\u001b[0m\u001b[0;34m\u001b[0m\u001b[0;34m\u001b[0m\u001b[0m\n\u001b[0;32m-> 1207\u001b[0;31m         \u001b[0;32mif\u001b[0m \u001b[0mlen\u001b[0m\u001b[0;34m(\u001b[0m\u001b[0mself\u001b[0m\u001b[0;34m.\u001b[0m\u001b[0m__data\u001b[0m\u001b[0;34m)\u001b[0m \u001b[0;32mor\u001b[0m \u001b[0mself\u001b[0m\u001b[0;34m.\u001b[0m\u001b[0m_refresh\u001b[0m\u001b[0;34m(\u001b[0m\u001b[0;34m)\u001b[0m\u001b[0;34m:\u001b[0m\u001b[0;34m\u001b[0m\u001b[0;34m\u001b[0m\u001b[0m\n\u001b[0m\u001b[1;32m   1208\u001b[0m             \u001b[0;32mif\u001b[0m \u001b[0mself\u001b[0m\u001b[0;34m.\u001b[0m\u001b[0m__manipulate\u001b[0m\u001b[0;34m:\u001b[0m\u001b[0;34m\u001b[0m\u001b[0;34m\u001b[0m\u001b[0m\n\u001b[1;32m   1209\u001b[0m                 \u001b[0m_db\u001b[0m \u001b[0;34m=\u001b[0m \u001b[0mself\u001b[0m\u001b[0;34m.\u001b[0m\u001b[0m__collection\u001b[0m\u001b[0;34m.\u001b[0m\u001b[0mdatabase\u001b[0m\u001b[0;34m\u001b[0m\u001b[0;34m\u001b[0m\u001b[0m\n",
      "\u001b[0;32m/rdata/Sandbox/MotivSim/notebooks/jvenv/lib/python3.8/site-packages/pymongo/cursor.py\u001b[0m in \u001b[0;36m_refresh\u001b[0;34m(self)\u001b[0m\n\u001b[1;32m   1122\u001b[0m                                   \u001b[0mself\u001b[0m\u001b[0;34m.\u001b[0m\u001b[0m__collection\u001b[0m\u001b[0;34m.\u001b[0m\u001b[0mdatabase\u001b[0m\u001b[0;34m.\u001b[0m\u001b[0mclient\u001b[0m\u001b[0;34m,\u001b[0m\u001b[0;34m\u001b[0m\u001b[0;34m\u001b[0m\u001b[0m\n\u001b[1;32m   1123\u001b[0m                                   self.__allow_disk_use)\n\u001b[0;32m-> 1124\u001b[0;31m             \u001b[0mself\u001b[0m\u001b[0;34m.\u001b[0m\u001b[0m__send_message\u001b[0m\u001b[0;34m(\u001b[0m\u001b[0mq\u001b[0m\u001b[0;34m)\u001b[0m\u001b[0;34m\u001b[0m\u001b[0;34m\u001b[0m\u001b[0m\n\u001b[0m\u001b[1;32m   1125\u001b[0m         \u001b[0;32melif\u001b[0m \u001b[0mself\u001b[0m\u001b[0;34m.\u001b[0m\u001b[0m__id\u001b[0m\u001b[0;34m:\u001b[0m  \u001b[0;31m# Get More\u001b[0m\u001b[0;34m\u001b[0m\u001b[0;34m\u001b[0m\u001b[0m\n\u001b[1;32m   1126\u001b[0m             \u001b[0;32mif\u001b[0m \u001b[0mself\u001b[0m\u001b[0;34m.\u001b[0m\u001b[0m__limit\u001b[0m\u001b[0;34m:\u001b[0m\u001b[0;34m\u001b[0m\u001b[0;34m\u001b[0m\u001b[0m\n",
      "\u001b[0;32m/rdata/Sandbox/MotivSim/notebooks/jvenv/lib/python3.8/site-packages/pymongo/cursor.py\u001b[0m in \u001b[0;36m__send_message\u001b[0;34m(self, operation)\u001b[0m\n\u001b[1;32m    997\u001b[0m \u001b[0;34m\u001b[0m\u001b[0m\n\u001b[1;32m    998\u001b[0m         \u001b[0;32mtry\u001b[0m\u001b[0;34m:\u001b[0m\u001b[0;34m\u001b[0m\u001b[0;34m\u001b[0m\u001b[0m\n\u001b[0;32m--> 999\u001b[0;31m             response = client._run_operation_with_response(\n\u001b[0m\u001b[1;32m   1000\u001b[0m                 \u001b[0moperation\u001b[0m\u001b[0;34m,\u001b[0m \u001b[0mself\u001b[0m\u001b[0;34m.\u001b[0m\u001b[0m_unpack_response\u001b[0m\u001b[0;34m,\u001b[0m \u001b[0mexhaust\u001b[0m\u001b[0;34m=\u001b[0m\u001b[0mself\u001b[0m\u001b[0;34m.\u001b[0m\u001b[0m__exhaust\u001b[0m\u001b[0;34m,\u001b[0m\u001b[0;34m\u001b[0m\u001b[0;34m\u001b[0m\u001b[0m\n\u001b[1;32m   1001\u001b[0m                 address=self.__address)\n",
      "\u001b[0;32m/rdata/Sandbox/MotivSim/notebooks/jvenv/lib/python3.8/site-packages/pymongo/mongo_client.py\u001b[0m in \u001b[0;36m_run_operation_with_response\u001b[0;34m(self, operation, unpack_res, exhaust, address)\u001b[0m\n\u001b[1;32m   1366\u001b[0m                 unpack_res)\n\u001b[1;32m   1367\u001b[0m \u001b[0;34m\u001b[0m\u001b[0m\n\u001b[0;32m-> 1368\u001b[0;31m         return self._retryable_read(\n\u001b[0m\u001b[1;32m   1369\u001b[0m             \u001b[0m_cmd\u001b[0m\u001b[0;34m,\u001b[0m \u001b[0moperation\u001b[0m\u001b[0;34m.\u001b[0m\u001b[0mread_preference\u001b[0m\u001b[0;34m,\u001b[0m \u001b[0moperation\u001b[0m\u001b[0;34m.\u001b[0m\u001b[0msession\u001b[0m\u001b[0;34m,\u001b[0m\u001b[0;34m\u001b[0m\u001b[0;34m\u001b[0m\u001b[0m\n\u001b[1;32m   1370\u001b[0m             \u001b[0maddress\u001b[0m\u001b[0;34m=\u001b[0m\u001b[0maddress\u001b[0m\u001b[0;34m,\u001b[0m\u001b[0;34m\u001b[0m\u001b[0;34m\u001b[0m\u001b[0m\n",
      "\u001b[0;32m/rdata/Sandbox/MotivSim/notebooks/jvenv/lib/python3.8/site-packages/pymongo/mongo_client.py\u001b[0m in \u001b[0;36m_retryable_read\u001b[0;34m(self, func, read_pref, session, address, retryable, exhaust)\u001b[0m\n\u001b[1;32m   1469\u001b[0m                         \u001b[0;31m# not support retryable reads, raise the last error.\u001b[0m\u001b[0;34m\u001b[0m\u001b[0;34m\u001b[0m\u001b[0;34m\u001b[0m\u001b[0m\n\u001b[1;32m   1470\u001b[0m                         \u001b[0;32mraise\u001b[0m \u001b[0mlast_error\u001b[0m\u001b[0;34m\u001b[0m\u001b[0;34m\u001b[0m\u001b[0m\n\u001b[0;32m-> 1471\u001b[0;31m                     \u001b[0;32mreturn\u001b[0m \u001b[0mfunc\u001b[0m\u001b[0;34m(\u001b[0m\u001b[0msession\u001b[0m\u001b[0;34m,\u001b[0m \u001b[0mserver\u001b[0m\u001b[0;34m,\u001b[0m \u001b[0msock_info\u001b[0m\u001b[0;34m,\u001b[0m \u001b[0mslave_ok\u001b[0m\u001b[0;34m)\u001b[0m\u001b[0;34m\u001b[0m\u001b[0;34m\u001b[0m\u001b[0m\n\u001b[0m\u001b[1;32m   1472\u001b[0m             \u001b[0;32mexcept\u001b[0m \u001b[0mServerSelectionTimeoutError\u001b[0m\u001b[0;34m:\u001b[0m\u001b[0;34m\u001b[0m\u001b[0;34m\u001b[0m\u001b[0m\n\u001b[1;32m   1473\u001b[0m                 \u001b[0;32mif\u001b[0m \u001b[0mretrying\u001b[0m\u001b[0;34m:\u001b[0m\u001b[0;34m\u001b[0m\u001b[0;34m\u001b[0m\u001b[0m\n",
      "\u001b[0;32m/rdata/Sandbox/MotivSim/notebooks/jvenv/lib/python3.8/site-packages/pymongo/mongo_client.py\u001b[0m in \u001b[0;36m_cmd\u001b[0;34m(session, server, sock_info, slave_ok)\u001b[0m\n\u001b[1;32m   1358\u001b[0m \u001b[0;34m\u001b[0m\u001b[0m\n\u001b[1;32m   1359\u001b[0m         \u001b[0;32mdef\u001b[0m \u001b[0m_cmd\u001b[0m\u001b[0;34m(\u001b[0m\u001b[0msession\u001b[0m\u001b[0;34m,\u001b[0m \u001b[0mserver\u001b[0m\u001b[0;34m,\u001b[0m \u001b[0msock_info\u001b[0m\u001b[0;34m,\u001b[0m \u001b[0mslave_ok\u001b[0m\u001b[0;34m)\u001b[0m\u001b[0;34m:\u001b[0m\u001b[0;34m\u001b[0m\u001b[0;34m\u001b[0m\u001b[0m\n\u001b[0;32m-> 1360\u001b[0;31m             return server.run_operation_with_response(\n\u001b[0m\u001b[1;32m   1361\u001b[0m                 \u001b[0msock_info\u001b[0m\u001b[0;34m,\u001b[0m\u001b[0;34m\u001b[0m\u001b[0;34m\u001b[0m\u001b[0m\n\u001b[1;32m   1362\u001b[0m                 \u001b[0moperation\u001b[0m\u001b[0;34m,\u001b[0m\u001b[0;34m\u001b[0m\u001b[0;34m\u001b[0m\u001b[0m\n",
      "\u001b[0;32m/rdata/Sandbox/MotivSim/notebooks/jvenv/lib/python3.8/site-packages/pymongo/server.py\u001b[0m in \u001b[0;36mrun_operation_with_response\u001b[0;34m(self, sock_info, operation, set_slave_okay, listeners, exhaust, unpack_res)\u001b[0m\n\u001b[1;32m    115\u001b[0m             \u001b[0;32mif\u001b[0m \u001b[0msend_message\u001b[0m\u001b[0;34m:\u001b[0m\u001b[0;34m\u001b[0m\u001b[0;34m\u001b[0m\u001b[0m\n\u001b[1;32m    116\u001b[0m                 \u001b[0msock_info\u001b[0m\u001b[0;34m.\u001b[0m\u001b[0msend_message\u001b[0m\u001b[0;34m(\u001b[0m\u001b[0mdata\u001b[0m\u001b[0;34m,\u001b[0m \u001b[0mmax_doc_size\u001b[0m\u001b[0;34m)\u001b[0m\u001b[0;34m\u001b[0m\u001b[0;34m\u001b[0m\u001b[0m\n\u001b[0;32m--> 117\u001b[0;31m                 \u001b[0mreply\u001b[0m \u001b[0;34m=\u001b[0m \u001b[0msock_info\u001b[0m\u001b[0;34m.\u001b[0m\u001b[0mreceive_message\u001b[0m\u001b[0;34m(\u001b[0m\u001b[0mrequest_id\u001b[0m\u001b[0;34m)\u001b[0m\u001b[0;34m\u001b[0m\u001b[0;34m\u001b[0m\u001b[0m\n\u001b[0m\u001b[1;32m    118\u001b[0m             \u001b[0;32melse\u001b[0m\u001b[0;34m:\u001b[0m\u001b[0;34m\u001b[0m\u001b[0;34m\u001b[0m\u001b[0m\n\u001b[1;32m    119\u001b[0m                 \u001b[0mreply\u001b[0m \u001b[0;34m=\u001b[0m \u001b[0msock_info\u001b[0m\u001b[0;34m.\u001b[0m\u001b[0mreceive_message\u001b[0m\u001b[0;34m(\u001b[0m\u001b[0;32mNone\u001b[0m\u001b[0;34m)\u001b[0m\u001b[0;34m\u001b[0m\u001b[0;34m\u001b[0m\u001b[0m\n",
      "\u001b[0;32m/rdata/Sandbox/MotivSim/notebooks/jvenv/lib/python3.8/site-packages/pymongo/pool.py\u001b[0m in \u001b[0;36mreceive_message\u001b[0;34m(self, request_id)\u001b[0m\n\u001b[1;32m    724\u001b[0m             \u001b[0;32mreturn\u001b[0m \u001b[0mreceive_message\u001b[0m\u001b[0;34m(\u001b[0m\u001b[0mself\u001b[0m\u001b[0;34m,\u001b[0m \u001b[0mrequest_id\u001b[0m\u001b[0;34m,\u001b[0m \u001b[0mself\u001b[0m\u001b[0;34m.\u001b[0m\u001b[0mmax_message_size\u001b[0m\u001b[0;34m)\u001b[0m\u001b[0;34m\u001b[0m\u001b[0;34m\u001b[0m\u001b[0m\n\u001b[1;32m    725\u001b[0m         \u001b[0;32mexcept\u001b[0m \u001b[0mBaseException\u001b[0m \u001b[0;32mas\u001b[0m \u001b[0merror\u001b[0m\u001b[0;34m:\u001b[0m\u001b[0;34m\u001b[0m\u001b[0;34m\u001b[0m\u001b[0m\n\u001b[0;32m--> 726\u001b[0;31m             \u001b[0mself\u001b[0m\u001b[0;34m.\u001b[0m\u001b[0m_raise_connection_failure\u001b[0m\u001b[0;34m(\u001b[0m\u001b[0merror\u001b[0m\u001b[0;34m)\u001b[0m\u001b[0;34m\u001b[0m\u001b[0;34m\u001b[0m\u001b[0m\n\u001b[0m\u001b[1;32m    727\u001b[0m \u001b[0;34m\u001b[0m\u001b[0m\n\u001b[1;32m    728\u001b[0m     \u001b[0;32mdef\u001b[0m \u001b[0m_raise_if_not_writable\u001b[0m\u001b[0;34m(\u001b[0m\u001b[0mself\u001b[0m\u001b[0;34m,\u001b[0m \u001b[0munacknowledged\u001b[0m\u001b[0;34m)\u001b[0m\u001b[0;34m:\u001b[0m\u001b[0;34m\u001b[0m\u001b[0;34m\u001b[0m\u001b[0m\n",
      "\u001b[0;32m/rdata/Sandbox/MotivSim/notebooks/jvenv/lib/python3.8/site-packages/pymongo/pool.py\u001b[0m in \u001b[0;36mreceive_message\u001b[0;34m(self, request_id)\u001b[0m\n\u001b[1;32m    722\u001b[0m         \"\"\"\n\u001b[1;32m    723\u001b[0m         \u001b[0;32mtry\u001b[0m\u001b[0;34m:\u001b[0m\u001b[0;34m\u001b[0m\u001b[0;34m\u001b[0m\u001b[0m\n\u001b[0;32m--> 724\u001b[0;31m             \u001b[0;32mreturn\u001b[0m \u001b[0mreceive_message\u001b[0m\u001b[0;34m(\u001b[0m\u001b[0mself\u001b[0m\u001b[0;34m,\u001b[0m \u001b[0mrequest_id\u001b[0m\u001b[0;34m,\u001b[0m \u001b[0mself\u001b[0m\u001b[0;34m.\u001b[0m\u001b[0mmax_message_size\u001b[0m\u001b[0;34m)\u001b[0m\u001b[0;34m\u001b[0m\u001b[0;34m\u001b[0m\u001b[0m\n\u001b[0m\u001b[1;32m    725\u001b[0m         \u001b[0;32mexcept\u001b[0m \u001b[0mBaseException\u001b[0m \u001b[0;32mas\u001b[0m \u001b[0merror\u001b[0m\u001b[0;34m:\u001b[0m\u001b[0;34m\u001b[0m\u001b[0;34m\u001b[0m\u001b[0m\n\u001b[1;32m    726\u001b[0m             \u001b[0mself\u001b[0m\u001b[0;34m.\u001b[0m\u001b[0m_raise_connection_failure\u001b[0m\u001b[0;34m(\u001b[0m\u001b[0merror\u001b[0m\u001b[0;34m)\u001b[0m\u001b[0;34m\u001b[0m\u001b[0;34m\u001b[0m\u001b[0m\n",
      "\u001b[0;32m/rdata/Sandbox/MotivSim/notebooks/jvenv/lib/python3.8/site-packages/pymongo/network.py\u001b[0m in \u001b[0;36mreceive_message\u001b[0;34m(sock_info, request_id, max_message_size)\u001b[0m\n\u001b[1;32m    194\u001b[0m     \u001b[0;31m# Ignore the response's request id.\u001b[0m\u001b[0;34m\u001b[0m\u001b[0;34m\u001b[0m\u001b[0;34m\u001b[0m\u001b[0m\n\u001b[1;32m    195\u001b[0m     length, _, response_to, op_code = _UNPACK_HEADER(\n\u001b[0;32m--> 196\u001b[0;31m         _receive_data_on_socket(sock_info, 16, deadline))\n\u001b[0m\u001b[1;32m    197\u001b[0m     \u001b[0;31m# No request_id for exhaust cursor \"getMore\".\u001b[0m\u001b[0;34m\u001b[0m\u001b[0;34m\u001b[0m\u001b[0;34m\u001b[0m\u001b[0m\n\u001b[1;32m    198\u001b[0m     \u001b[0;32mif\u001b[0m \u001b[0mrequest_id\u001b[0m \u001b[0;32mis\u001b[0m \u001b[0;32mnot\u001b[0m \u001b[0;32mNone\u001b[0m\u001b[0;34m:\u001b[0m\u001b[0;34m\u001b[0m\u001b[0;34m\u001b[0m\u001b[0m\n",
      "\u001b[0;32m/rdata/Sandbox/MotivSim/notebooks/jvenv/lib/python3.8/site-packages/pymongo/network.py\u001b[0m in \u001b[0;36m_receive_data_on_socket\u001b[0;34m(sock_info, length, deadline)\u001b[0m\n\u001b[1;32m    285\u001b[0m             \u001b[0;32mtry\u001b[0m\u001b[0;34m:\u001b[0m\u001b[0;34m\u001b[0m\u001b[0;34m\u001b[0m\u001b[0m\n\u001b[1;32m    286\u001b[0m                 \u001b[0mwait_for_read\u001b[0m\u001b[0;34m(\u001b[0m\u001b[0msock_info\u001b[0m\u001b[0;34m,\u001b[0m \u001b[0mdeadline\u001b[0m\u001b[0;34m)\u001b[0m\u001b[0;34m\u001b[0m\u001b[0;34m\u001b[0m\u001b[0m\n\u001b[0;32m--> 287\u001b[0;31m                 \u001b[0mchunk_length\u001b[0m \u001b[0;34m=\u001b[0m \u001b[0msock_info\u001b[0m\u001b[0;34m.\u001b[0m\u001b[0msock\u001b[0m\u001b[0;34m.\u001b[0m\u001b[0mrecv_into\u001b[0m\u001b[0;34m(\u001b[0m\u001b[0mmv\u001b[0m\u001b[0;34m[\u001b[0m\u001b[0mbytes_read\u001b[0m\u001b[0;34m:\u001b[0m\u001b[0;34m]\u001b[0m\u001b[0;34m)\u001b[0m\u001b[0;34m\u001b[0m\u001b[0;34m\u001b[0m\u001b[0m\n\u001b[0m\u001b[1;32m    288\u001b[0m             \u001b[0;32mexcept\u001b[0m \u001b[0;34m(\u001b[0m\u001b[0mIOError\u001b[0m\u001b[0;34m,\u001b[0m \u001b[0mOSError\u001b[0m\u001b[0;34m)\u001b[0m \u001b[0;32mas\u001b[0m \u001b[0mexc\u001b[0m\u001b[0;34m:\u001b[0m\u001b[0;34m\u001b[0m\u001b[0;34m\u001b[0m\u001b[0m\n\u001b[1;32m    289\u001b[0m                 \u001b[0;32mif\u001b[0m \u001b[0m_errno_from_exception\u001b[0m\u001b[0;34m(\u001b[0m\u001b[0mexc\u001b[0m\u001b[0;34m)\u001b[0m \u001b[0;34m==\u001b[0m \u001b[0merrno\u001b[0m\u001b[0;34m.\u001b[0m\u001b[0mEINTR\u001b[0m\u001b[0;34m:\u001b[0m\u001b[0;34m\u001b[0m\u001b[0;34m\u001b[0m\u001b[0m\n",
      "\u001b[0;31mKeyboardInterrupt\u001b[0m: "
     ]
    }
   ],
   "source": [
    "args = [db, calc.total_tx_stats, sid, 10]\n",
    "tx_stats, runtime = time_calc(batch_calc, args)\n",
    "logger.info(f\"Calculated student activity stats: {tx_stats.shape}\\tRuntime: {runtime} seconds\")"
   ]
  },
  {
   "cell_type": "code",
   "execution_count": null,
   "metadata": {},
   "outputs": [],
   "source": [
    "    \n",
    "stu_stats = pd.concat([sim_students, action_dist, tx_stats], axis=1)\n",
    "logger.info(f\"Merged new stats together: {stu_stats.shape}\")"
   ]
  },
  {
   "cell_type": "markdown",
   "metadata": {},
   "source": [
    "#### Student Parameters"
   ]
  },
  {
   "cell_type": "code",
   "execution_count": null,
   "metadata": {},
   "outputs": [],
   "source": [
    "sim_students.head()"
   ]
  },
  {
   "cell_type": "code",
   "execution_count": null,
   "metadata": {},
   "outputs": [],
   "source": [
    "# Plot mastery\n",
    "plt.figure(figsize=(10,2))\n",
    "plt.subplot(131)\n",
    "plt.hist(sim_students['pre-sim pct mastery'], bins=10)\n",
    "plt.title(\"pre-sim pct mastery\")\n",
    "\n",
    "plt.subplot(132)\n",
    "plt.hist(sim_students['final-sim pct mastery'], bins=10)\n",
    "plt.title(\"final-sim pct mastery\")\n",
    "\n",
    "plt.subplot(133)\n",
    "plt.hist(sim_students['final-sim total unmastered'], bins=10)\n",
    "plt.title(\"final-sim total unmastered\")\n",
    "\n",
    "plt.show()\n",
    "logger.info(\"Total skills: %i\" % sim_students['total skills'][0])"
   ]
  },
  {
   "cell_type": "code",
   "execution_count": null,
   "metadata": {},
   "outputs": [],
   "source": [
    "# Plot Values & Diligence\n",
    "plt.figure(figsize=(8,7))\n",
    "for i,val in enumerate(sim_students['values'][0].keys()):\n",
    "    print(\"%i: %s\" % (i, val))\n",
    "    plt.subplot(2,2,i+1)\n",
    "    plt.hist(sim_students['values'].apply(lambda x: x[val]), bins=10)\n",
    "    plt.title('Student value for %s' % val)\n",
    "\n",
    "plt.show()\n",
    "\n",
    "plt.figure(figsize=(4,3))\n",
    "plt.hist(sim_students['diligence'], bins=10)\n",
    "plt.title(\"Diligence\")\n",
    "plt.show()\n",
    "\n"
   ]
  },
  {
   "cell_type": "markdown",
   "metadata": {},
   "source": [
    "#### Learner Actions EDA"
   ]
  },
  {
   "cell_type": "code",
   "execution_count": null,
   "metadata": {},
   "outputs": [],
   "source": [
    "action_dist.head()"
   ]
  },
  {
   "cell_type": "code",
   "execution_count": null,
   "metadata": {},
   "outputs": [],
   "source": [
    "plt.figure(figsize=(10,2))\n",
    "plt.subplot(141)\n",
    "plt.hist(action_dist['Pct Attempt'], bins=10)\n",
    "plt.title(\"Pct Attempt\")\n",
    "\n",
    "plt.subplot(142)\n",
    "plt.hist(action_dist['Pct Guess'], bins=10)\n",
    "plt.title(\"Pct Guess\")\n",
    "\n",
    "plt.subplot(143)\n",
    "plt.hist(action_dist['Pct Hint Request'], bins=10)\n",
    "plt.title(\"Pct Hint Request\")\n",
    "\n",
    "plt.subplot(144)\n",
    "plt.hist(action_dist['Pct Off Task'], bins=10)\n",
    "plt.title(\"Pct Off Task\")\n",
    "\n",
    "plt.show()"
   ]
  },
  {
   "cell_type": "markdown",
   "metadata": {},
   "source": [
    "#### Learner Transactions EDA"
   ]
  },
  {
   "cell_type": "code",
   "execution_count": null,
   "metadata": {},
   "outputs": [],
   "source": [
    "args = [db, get_tx_fields, sid, 10]\n",
    "tx, runtime = time_calc(batch_calc, args)\n",
    "logger.info(f\"Extracted tx for set of students in {runtime} seconds: {tx.shape}\")"
   ]
  },
  {
   "cell_type": "code",
   "execution_count": null,
   "metadata": {},
   "outputs": [],
   "source": [
    "step_stats = tx.groupby(['stu_id', 'unit_id', 'section_id', 'prob_id', 'step_id'])['duration'].agg(['sum', 'count']).reset_index()\n",
    "stu_prob_stats = step_stats.groupby('stu_id')['count'].describe()\n",
    "stu_prob_stats.columns = [\"Step Attempt %s\" % col for col in stu_prob_stats.columns]\n",
    "d = step_stats.groupby('stu_id')['sum'].describe()\n",
    "d.columns = [\"Step Duration %s\" % col for col in d.columns]\n",
    "stu_prob_stats = pd.concat([stu_prob_stats, d], axis=1)\n",
    "stu_prob_stats.head()\n",
    "\n",
    "# kc_stats = tx[['stu_id', 'kc', 'step_id']].drop_duplicates().groupby(['stu_id', 'kc']).count()\n",
    "stu_kc_stats = tx[['stu_id', 'kc', 'step_id']].drop_duplicates().groupby(['stu_id', 'kc']).count().reset_index()\n",
    "stu_kc_stats.rename(columns={'step_id': 'kc opportunities'}, inplace=True)\n",
    "kc_stats = stu_kc_stats.groupby('kc').describe()"
   ]
  },
  {
   "cell_type": "code",
   "execution_count": null,
   "metadata": {},
   "outputs": [],
   "source": [
    "plt.figure(figsize=(10,2))\n",
    "plt.subplot(121)\n",
    "plt.hist(stu_stats['Total Tx'], bins=10)\n",
    "plt.title(\"Total Tx\")\n",
    "\n",
    "plt.subplot(122)\n",
    "plt.hist(stu_stats['Total Time(hours)'], bins=10)\n",
    "plt.title(\"Total Time(hours)\")\n",
    "plt.show()\n",
    "\n",
    "plt.figure(figsize=(15,2))\n",
    "plt.subplot(131)\n",
    "plt.hist(stu_stats['Pct Correct'], bins=10)\n",
    "plt.title(\"Pct Correct Tx\")\n",
    "\n",
    "plt.subplot(132)\n",
    "plt.hist(stu_stats['Pct Incorrect'], bins=10)\n",
    "plt.title(\"Pct Incorrect Tx\")\n",
    "\n",
    "plt.subplot(133)\n",
    "plt.hist(stu_stats['Pct Hint'], bins=10)\n",
    "plt.title(\"Pct Hint Tx\")\n",
    "plt.show()\n",
    "\n",
    "plt.figure(figsize=(3,2))\n",
    "plt.hist(tx['duration'],bins=50)\n",
    "plt.title(\"Tx duration\")\n",
    "plt.show()"
   ]
  },
  {
   "cell_type": "code",
   "execution_count": null,
   "metadata": {},
   "outputs": [],
   "source": [
    "num_bins = 10\n",
    "num_rows = 3\n",
    "num_cols = 6\n",
    "row_height = 3\n",
    "col_width = 3\n",
    "plt.figure(figsize=(col_width*num_cols, row_height*num_rows+num_rows))\n",
    "\n",
    "row = 0\n",
    "plt.subplot(num_rows,num_cols,num_cols*row + 1)\n",
    "plt.hist(stu_prob_stats['Step Attempt mean'], bins=num_bins)\n",
    "plt.title(\"Mean Attempts per step\")\n",
    "plt.subplot(num_rows,num_cols,num_cols*row + 2)\n",
    "plt.hist(stu_prob_stats['Step Attempt std'], bins=num_bins)\n",
    "plt.title(\"Standard Dev Attempts per step\")\n",
    "\n",
    "\n",
    "plt.subplot(num_rows,num_cols,num_cols*row + 3)\n",
    "plt.hist(stu_prob_stats['Step Attempt 25%'], bins=num_bins)\n",
    "plt.title(\"Q1 Attempts per step\")\n",
    "plt.subplot(num_rows,num_cols,num_cols*row + 4)\n",
    "plt.hist(stu_prob_stats['Step Attempt 50%'], bins=num_bins)\n",
    "plt.title(\"Q2 Attempts per step\")\n",
    "plt.subplot(num_rows,num_cols,num_cols*row + 5)\n",
    "plt.hist(stu_prob_stats['Step Attempt 75%'], bins=num_bins)\n",
    "plt.title(\"Q3 Attempts per step\")\n",
    "plt.subplot(num_rows,num_cols,num_cols*row + 6)\n",
    "plt.hist(stu_prob_stats['Step Attempt max'], bins=num_bins)\n",
    "plt.title(\"Max Attempts per step\")\n",
    "\n",
    "row = 1\n",
    "plt.subplot(num_rows,num_cols,num_cols*row + 1)\n",
    "plt.hist(stu_prob_stats['Step Duration mean'], bins=num_bins)\n",
    "plt.title(\"Mean Time per step\")\n",
    "plt.subplot(num_rows,num_cols,num_cols*row + 2)\n",
    "plt.hist(stu_prob_stats['Step Duration std'], bins=num_bins)\n",
    "plt.title(\"Standard Dev Time per step\")\n",
    "\n",
    "\n",
    "plt.subplot(num_rows,num_cols,num_cols*row + 3)\n",
    "plt.hist(stu_prob_stats['Step Duration 25%'], bins=num_bins)\n",
    "plt.title(\"Q1 Time per step\")\n",
    "plt.subplot(num_rows,num_cols,num_cols*row + 4)\n",
    "plt.hist(stu_prob_stats['Step Duration 50%'], bins=num_bins)\n",
    "plt.title(\"Q2 Time per step\")\n",
    "plt.subplot(num_rows,num_cols,num_cols*row + 5)\n",
    "plt.hist(stu_prob_stats['Step Duration 75%'], bins=num_bins)\n",
    "plt.title(\"Q3 Time per step\")\n",
    "plt.subplot(num_rows,num_cols,num_cols*row + 6)\n",
    "plt.hist(stu_prob_stats['Step Duration max'], bins=num_bins)\n",
    "plt.title(\"Max Time per step\")\n",
    "\n",
    "row = 2\n",
    "plt.subplot(num_rows,num_cols,num_cols*row + 1)\n",
    "plt.hist(kc_stats[('kc opportunities', 'mean')], bins=num_bins)\n",
    "plt.title(\"Mean opportunities per kc\")\n",
    "plt.subplot(num_rows,num_cols,num_cols*row + 2)\n",
    "plt.hist(kc_stats[('kc opportunities', 'std')], bins=num_bins)\n",
    "plt.title(\"Standard Dev opportunities per kc\")\n",
    "\n",
    "\n",
    "plt.subplot(num_rows,num_cols,num_cols*row + 3)\n",
    "plt.hist(kc_stats[('kc opportunities', '25%')], bins=num_bins)\n",
    "plt.title(\"Q1 opportunities per kc\")\n",
    "plt.subplot(num_rows,num_cols,num_cols*row + 4)\n",
    "plt.hist(kc_stats[('kc opportunities', '50%')], bins=num_bins)\n",
    "plt.title(\"Q2 opportunities per kc\")\n",
    "plt.subplot(num_rows,num_cols,num_cols*row + 5)\n",
    "plt.hist(kc_stats[('kc opportunities', '75%')], bins=num_bins)\n",
    "plt.title(\"Q3 opportunities per kc\")\n",
    "plt.subplot(num_rows,num_cols,num_cols*row + 6)\n",
    "plt.hist(kc_stats[('kc opportunities', 'max')], bins=num_bins)\n",
    "plt.title(\"Max opportunities per kc\")\n",
    "\n",
    "plt.show()\n"
   ]
  },
  {
   "cell_type": "markdown",
   "metadata": {},
   "source": [
    "### Diligent with domain-level self-eff"
   ]
  },
  {
   "cell_type": "code",
   "execution_count": null,
   "metadata": {},
   "outputs": [],
   "source": [
    "sid = sids[batch_desc[2]][0]"
   ]
  },
  {
   "cell_type": "code",
   "execution_count": null,
   "metadata": {},
   "outputs": [],
   "source": [
    "args = [db, calc.get_stu_parameters, sid, 10]\n",
    "sim_students, runtime = time_calc(batch_calc, args)\n",
    "logger.info(f\"Calculated student params: {sim_students.shape}\\tRuntime: {runtime} seconds\")"
   ]
  },
  {
   "cell_type": "code",
   "execution_count": null,
   "metadata": {},
   "outputs": [],
   "source": [
    "args = [db, calc.action_stats, sid, 10]\n",
    "action_dist, runtime = time_calc(batch_calc, args)\n",
    "logger.info(f\"Calculated student action stats: {action_dist.shape}\\tRuntime: {runtime} seconds\")"
   ]
  },
  {
   "cell_type": "code",
   "execution_count": null,
   "metadata": {},
   "outputs": [],
   "source": [
    "args = [db, calc.total_tx_stats, sid, 10]\n",
    "tx_stats, runtime = time_calc(batch_calc, args)\n",
    "logger.info(f\"Calculated student activity stats: {tx_stats.shape}\\tRuntime: {runtime} seconds\")"
   ]
  },
  {
   "cell_type": "code",
   "execution_count": null,
   "metadata": {},
   "outputs": [],
   "source": [
    "    \n",
    "stu_stats = pd.concat([sim_students, action_dist, tx_stats], axis=1)\n",
    "logger.info(f\"Merged new stats together: {stu_stats.shape}\")"
   ]
  },
  {
   "cell_type": "markdown",
   "metadata": {},
   "source": [
    "#### Student Parameters"
   ]
  },
  {
   "cell_type": "code",
   "execution_count": null,
   "metadata": {},
   "outputs": [],
   "source": [
    "sim_students.head()"
   ]
  },
  {
   "cell_type": "code",
   "execution_count": null,
   "metadata": {},
   "outputs": [],
   "source": [
    "# Plot mastery\n",
    "plt.figure(figsize=(10,2))\n",
    "plt.subplot(131)\n",
    "plt.hist(sim_students['pre-sim pct mastery'], bins=10)\n",
    "plt.title(\"pre-sim pct mastery\")\n",
    "\n",
    "plt.subplot(132)\n",
    "plt.hist(sim_students['final-sim pct mastery'], bins=10)\n",
    "plt.title(\"final-sim pct mastery\")\n",
    "\n",
    "plt.subplot(133)\n",
    "plt.hist(sim_students['final-sim total unmastered'], bins=10)\n",
    "plt.title(\"final-sim total unmastered\")\n",
    "\n",
    "plt.show()\n",
    "logger.info(\"Total skills: %i\" % sim_students['total skills'][0])"
   ]
  },
  {
   "cell_type": "code",
   "execution_count": null,
   "metadata": {},
   "outputs": [],
   "source": [
    "# Plot Values & Diligence\n",
    "plt.figure(figsize=(8,7))\n",
    "for i,val in enumerate(sim_students['values'][0].keys()):\n",
    "    print(\"%i: %s\" % (i, val))\n",
    "    plt.subplot(2,2,i+1)\n",
    "    plt.hist(sim_students['values'].apply(lambda x: x[val]), bins=10)\n",
    "    plt.title('Student value for %s' % val)\n",
    "\n",
    "plt.show()\n",
    "\n",
    "plt.figure(figsize=(4,3))\n",
    "plt.hist(sim_students['diligence'], bins=10)\n",
    "plt.title(\"Diligence\")\n",
    "plt.show()\n",
    "\n"
   ]
  },
  {
   "cell_type": "markdown",
   "metadata": {},
   "source": [
    "#### Learner Actions EDA"
   ]
  },
  {
   "cell_type": "code",
   "execution_count": null,
   "metadata": {},
   "outputs": [],
   "source": [
    "plt.figure(figsize=(10,2))\n",
    "plt.subplot(141)\n",
    "plt.hist(action_dist['Pct Attempt'], bins=10)\n",
    "plt.title(\"Pct Attempt\")\n",
    "\n",
    "plt.subplot(142)\n",
    "plt.hist(action_dist['Pct Guess'], bins=10)\n",
    "plt.title(\"Pct Guess\")\n",
    "\n",
    "plt.subplot(143)\n",
    "plt.hist(action_dist['Pct Hint Request'], bins=10)\n",
    "plt.title(\"Pct Hint Request\")\n",
    "\n",
    "plt.subplot(144)\n",
    "plt.hist(action_dist['Pct Off Task'], bins=10)\n",
    "plt.title(\"Pct Off Task\")\n",
    "\n",
    "plt.show()"
   ]
  },
  {
   "cell_type": "markdown",
   "metadata": {},
   "source": [
    "#### Learner Transactions EDA"
   ]
  },
  {
   "cell_type": "code",
   "execution_count": null,
   "metadata": {},
   "outputs": [],
   "source": [
    "args = [db, get_tx_fields, sid, 10]\n",
    "tx, runtime = time_calc(batch_calc, args)\n",
    "logger.info(f\"Extracted tx for set of students in {runtime} seconds: {tx.shape}\")"
   ]
  },
  {
   "cell_type": "code",
   "execution_count": null,
   "metadata": {},
   "outputs": [],
   "source": [
    "step_stats = tx.groupby(['stu_id', 'unit_id', 'section_id', 'prob_id', 'step_id'])['duration'].agg(['sum', 'count']).reset_index()\n",
    "stu_prob_stats = step_stats.groupby('stu_id')['count'].describe()\n",
    "stu_prob_stats.columns = [\"Step Attempt %s\" % col for col in stu_prob_stats.columns]\n",
    "d = step_stats.groupby('stu_id')['sum'].describe()\n",
    "d.columns = [\"Step Duration %s\" % col for col in d.columns]\n",
    "stu_prob_stats = pd.concat([stu_prob_stats, d], axis=1)\n",
    "stu_prob_stats.head()\n",
    "\n",
    "# kc_stats = tx[['stu_id', 'kc', 'step_id']].drop_duplicates().groupby(['stu_id', 'kc']).count()\n",
    "stu_kc_stats = tx[['stu_id', 'kc', 'step_id']].drop_duplicates().groupby(['stu_id', 'kc']).count().reset_index()\n",
    "stu_kc_stats.rename(columns={'step_id': 'kc opportunities'}, inplace=True)\n",
    "kc_stats = stu_kc_stats.groupby('kc').describe()"
   ]
  },
  {
   "cell_type": "code",
   "execution_count": null,
   "metadata": {},
   "outputs": [],
   "source": [
    "plt.figure(figsize=(10,2))\n",
    "plt.subplot(121)\n",
    "plt.hist(stu_stats['Total Tx'], bins=10)\n",
    "plt.title(\"Total Tx\")\n",
    "\n",
    "plt.subplot(122)\n",
    "plt.hist(stu_stats['Total Time(hours)'], bins=10)\n",
    "plt.title(\"Total Time(hours)\")\n",
    "plt.show()\n",
    "\n",
    "plt.figure(figsize=(15,2))\n",
    "plt.subplot(131)\n",
    "plt.hist(stu_stats['Pct Correct'], bins=10)\n",
    "plt.title(\"Pct Correct Tx\")\n",
    "\n",
    "plt.subplot(132)\n",
    "plt.hist(stu_stats['Pct Incorrect'], bins=10)\n",
    "plt.title(\"Pct Incorrect Tx\")\n",
    "\n",
    "plt.subplot(133)\n",
    "plt.hist(stu_stats['Pct Hint'], bins=10)\n",
    "plt.title(\"Pct Hint Tx\")\n",
    "plt.show()\n",
    "\n",
    "plt.figure(figsize=(3,2))\n",
    "plt.hist(tx['duration'],bins=50)\n",
    "plt.title(\"Tx duration\")\n",
    "plt.show()"
   ]
  },
  {
   "cell_type": "code",
   "execution_count": null,
   "metadata": {},
   "outputs": [],
   "source": [
    "num_bins = 10\n",
    "num_rows = 3\n",
    "num_cols = 6\n",
    "row_height = 3\n",
    "col_width = 3\n",
    "plt.figure(figsize=(col_width*num_cols, row_height*num_rows+num_rows))\n",
    "\n",
    "row = 0\n",
    "plt.subplot(num_rows,num_cols,num_cols*row + 1)\n",
    "plt.hist(stu_prob_stats['Step Attempt mean'], bins=num_bins)\n",
    "plt.title(\"Mean Attempts per step\")\n",
    "plt.subplot(num_rows,num_cols,num_cols*row + 2)\n",
    "plt.hist(stu_prob_stats['Step Attempt std'], bins=num_bins)\n",
    "plt.title(\"Standard Dev Attempts per step\")\n",
    "\n",
    "\n",
    "plt.subplot(num_rows,num_cols,num_cols*row + 3)\n",
    "plt.hist(stu_prob_stats['Step Attempt 25%'], bins=num_bins)\n",
    "plt.title(\"Q1 Attempts per step\")\n",
    "plt.subplot(num_rows,num_cols,num_cols*row + 4)\n",
    "plt.hist(stu_prob_stats['Step Attempt 50%'], bins=num_bins)\n",
    "plt.title(\"Q2 Attempts per step\")\n",
    "plt.subplot(num_rows,num_cols,num_cols*row + 5)\n",
    "plt.hist(stu_prob_stats['Step Attempt 75%'], bins=num_bins)\n",
    "plt.title(\"Q3 Attempts per step\")\n",
    "plt.subplot(num_rows,num_cols,num_cols*row + 6)\n",
    "plt.hist(stu_prob_stats['Step Attempt max'], bins=num_bins)\n",
    "plt.title(\"Max Attempts per step\")\n",
    "\n",
    "row = 1\n",
    "plt.subplot(num_rows,num_cols,num_cols*row + 1)\n",
    "plt.hist(stu_prob_stats['Step Duration mean'], bins=num_bins)\n",
    "plt.title(\"Mean Time per step\")\n",
    "plt.subplot(num_rows,num_cols,num_cols*row + 2)\n",
    "plt.hist(stu_prob_stats['Step Duration std'], bins=num_bins)\n",
    "plt.title(\"Standard Dev Time per step\")\n",
    "\n",
    "\n",
    "plt.subplot(num_rows,num_cols,num_cols*row + 3)\n",
    "plt.hist(stu_prob_stats['Step Duration 25%'], bins=num_bins)\n",
    "plt.title(\"Q1 Time per step\")\n",
    "plt.subplot(num_rows,num_cols,num_cols*row + 4)\n",
    "plt.hist(stu_prob_stats['Step Duration 50%'], bins=num_bins)\n",
    "plt.title(\"Q2 Time per step\")\n",
    "plt.subplot(num_rows,num_cols,num_cols*row + 5)\n",
    "plt.hist(stu_prob_stats['Step Duration 75%'], bins=num_bins)\n",
    "plt.title(\"Q3 Time per step\")\n",
    "plt.subplot(num_rows,num_cols,num_cols*row + 6)\n",
    "plt.hist(stu_prob_stats['Step Duration max'], bins=num_bins)\n",
    "plt.title(\"Max Time per step\")\n",
    "\n",
    "row = 2\n",
    "plt.subplot(num_rows,num_cols,num_cols*row + 1)\n",
    "plt.hist(kc_stats[('kc opportunities', 'mean')], bins=num_bins)\n",
    "plt.title(\"Mean opportunities per kc\")\n",
    "plt.subplot(num_rows,num_cols,num_cols*row + 2)\n",
    "plt.hist(kc_stats[('kc opportunities', 'std')], bins=num_bins)\n",
    "plt.title(\"Standard Dev opportunities per kc\")\n",
    "\n",
    "\n",
    "plt.subplot(num_rows,num_cols,num_cols*row + 3)\n",
    "plt.hist(kc_stats[('kc opportunities', '25%')], bins=num_bins)\n",
    "plt.title(\"Q1 opportunities per kc\")\n",
    "plt.subplot(num_rows,num_cols,num_cols*row + 4)\n",
    "plt.hist(kc_stats[('kc opportunities', '50%')], bins=num_bins)\n",
    "plt.title(\"Q2 opportunities per kc\")\n",
    "plt.subplot(num_rows,num_cols,num_cols*row + 5)\n",
    "plt.hist(kc_stats[('kc opportunities', '75%')], bins=num_bins)\n",
    "plt.title(\"Q3 opportunities per kc\")\n",
    "plt.subplot(num_rows,num_cols,num_cols*row + 6)\n",
    "plt.hist(kc_stats[('kc opportunities', 'max')], bins=num_bins)\n",
    "plt.title(\"Max opportunities per kc\")\n",
    "\n",
    "plt.show()\n"
   ]
  },
  {
   "cell_type": "markdown",
   "metadata": {},
   "source": [
    "## 3. Estimating Diligence"
   ]
  },
  {
   "cell_type": "code",
   "execution_count": null,
   "metadata": {},
   "outputs": [],
   "source": []
  },
  {
   "cell_type": "markdown",
   "metadata": {},
   "source": [
    "#### Train-test split"
   ]
  },
  {
   "cell_type": "code",
   "execution_count": 21,
   "metadata": {},
   "outputs": [
    {
     "name": "stderr",
     "output_type": "stream",
     "text": [
      "INFO:analytics.cae:batch #0: \n",
      "ID: 54935595-da2e-4e72-a71d-e1497f4c0bb3\n",
      "desc: Simple diligent students\n",
      "INFO:analytics.cae:recovered 200 student ids for batch Simple diligent students\n",
      "INFO:analytics.cae:batch #1: \n",
      "ID: 78ea7cc5-d11b-46c8-b705-d6aebb5a1123\n",
      "desc: Diligent Students with variable values\n",
      "INFO:analytics.cae:recovered 200 student ids for batch Diligent Students with variable values\n",
      "INFO:analytics.cae:batch #2: \n",
      "ID: 78f11a8c-24d4-43bf-aaf8-5855d5bf2908\n",
      "desc: Diligent Students with domain-level self-efficacy\n",
      "INFO:analytics.cae:recovered 200 student ids for batch Diligent Students with domain-level self-efficacy\n"
     ]
    }
   ],
   "source": [
    "# Get students batches\n",
    "batches = [batch for batch in db.simbatches.find()]\n",
    "batch_desc = [\"Simple diligent students\",\n",
    "              \"Diligent Students with variable values\",\n",
    "              \"Diligent Students with domain-level self-efficacy\"]\n",
    "sids = {desc: [] for desc in batch_desc}\n",
    "for i, batch in enumerate(batches):\n",
    "    logger.info(f\"batch #{i}: \\nID: {batch['_id']}\\ndesc: {batch['desc']}\")\n",
    "    if batch['desc'] in batch_desc:\n",
    "        logger.info(f\"recovered {len(batch['student_ids'])} student ids for batch {batch['desc']}\")\n",
    "        sids[batch['desc']].append(batch['student_ids'])"
   ]
  },
  {
   "cell_type": "code",
   "execution_count": 22,
   "metadata": {},
   "outputs": [
    {
     "name": "stderr",
     "output_type": "stream",
     "text": [
      "INFO:analytics.cae:Spliting data batch Simple diligent students\n",
      "Total: 200\tTest: 40\tTrain: 160\n",
      "INFO:analytics.cae:Spliting data batch Diligent Students with variable values\n",
      "Total: 200\tTest: 40\tTrain: 160\n",
      "INFO:analytics.cae:Spliting data batch Diligent Students with domain-level self-efficacy\n",
      "Total: 200\tTest: 40\tTrain: 160\n"
     ]
    }
   ],
   "source": [
    "# Random train-test split\n",
    "test_ratio = 0.2\n",
    "tt_split_sids = {}\n",
    "for desc, sid in sids.items():\n",
    "    n = len(sid[0])\n",
    "    ntest = round(test_ratio*n)\n",
    "    ntrain = n - ntest\n",
    "    logger.info(f\"Spliting data batch {desc}\\nTotal: {n}\\tTest: {ntest}\\tTrain: {ntrain}\")\n",
    "    \n",
    "                \n",
    "    test_sids = random.sample(sid[0], ntest)\n",
    "    train_sids = [s for s in sid[0] if s not in test_sids]\n",
    "    tt_split_sids[desc] = {'train': train_sids, 'test': test_sids}\n",
    "\n",
    "def get_train_data(desc):\n",
    "    return tt_split_sids[desc]['train']\n",
    "\n",
    "def get_test_data(desc):\n",
    "    return tt_split_sids[desc]['test']\n"
   ]
  },
  {
   "cell_type": "code",
   "execution_count": 23,
   "metadata": {},
   "outputs": [],
   "source": [
    "# Batch analytic calculation\n",
    "def batch_calc(db, calc, filt, batch_size, ):\n",
    "    #filt is a list of ids\n",
    "    batches = (filt[i:i+batch_size] for i in range(0, len(filt), batch_size))\n",
    "    results = []\n",
    "    for batch in batches:\n",
    "        results.append(calc(batch))\n",
    "    return pd.concat(results, axis=0)"
   ]
  },
  {
   "cell_type": "code",
   "execution_count": 24,
   "metadata": {},
   "outputs": [],
   "source": [
    "def time_calc(calc, args):\n",
    "    start = dt.now()\n",
    "    result = calc(*args)\n",
    "    end = dt.now()\n",
    "    runtime = (end - start).total_seconds()\n",
    "    return result, runtime"
   ]
  },
  {
   "cell_type": "code",
   "execution_count": 25,
   "metadata": {},
   "outputs": [],
   "source": [
    "# Calculating stats with analytic methods\n",
    "\n",
    "calc = StudentStatCalc(db)"
   ]
  },
  {
   "cell_type": "code",
   "execution_count": 30,
   "metadata": {},
   "outputs": [
    {
     "name": "stderr",
     "output_type": "stream",
     "text": [
      "INFO:analytics.cae:Calculating for student set Simple diligent students\t train-split\n",
      "INFO:analytics.cae:Calculated student params: (160, 23)\tRuntime: 0.358984 seconds\n",
      "INFO:analytics.cae:Calculated student action stats: (160, 9)\tRuntime: 28.562652 seconds\n",
      "INFO:analytics.cae:Calculated student activity stats: (160, 9)\tRuntime: 30.796908 seconds\n",
      "INFO:analytics.cae:Merged new stats together: (160, 41)\n",
      "INFO:analytics.cae:Calculating for student set Simple diligent students\t test-split\n",
      "INFO:analytics.cae:Calculated student params: (40, 23)\tRuntime: 0.086236 seconds\n",
      "INFO:analytics.cae:Calculated student action stats: (40, 9)\tRuntime: 7.150041 seconds\n",
      "INFO:analytics.cae:Calculated student activity stats: (40, 9)\tRuntime: 7.93522 seconds\n",
      "INFO:analytics.cae:Merged new stats together: (40, 41)\n",
      "INFO:analytics.cae:Calculating for student set Diligent Students with variable values\t train-split\n",
      "INFO:analytics.cae:Calculated student params: (160, 23)\tRuntime: 0.321135 seconds\n",
      "INFO:analytics.cae:Calculated student action stats: (160, 9)\tRuntime: 32.494497 seconds\n",
      "INFO:analytics.cae:Calculated student activity stats: (160, 9)\tRuntime: 33.306133 seconds\n",
      "INFO:analytics.cae:Merged new stats together: (160, 41)\n",
      "INFO:analytics.cae:Calculating for student set Diligent Students with variable values\t test-split\n",
      "INFO:analytics.cae:Calculated student params: (40, 23)\tRuntime: 0.080906 seconds\n",
      "INFO:analytics.cae:Calculated student action stats: (40, 9)\tRuntime: 7.709785 seconds\n",
      "INFO:analytics.cae:Calculated student activity stats: (40, 9)\tRuntime: 7.941562 seconds\n",
      "INFO:analytics.cae:Merged new stats together: (40, 41)\n",
      "INFO:analytics.cae:Calculating for student set Diligent Students with domain-level self-efficacy\t train-split\n",
      "INFO:analytics.cae:Calculated student params: (160, 23)\tRuntime: 0.334767 seconds\n",
      "INFO:analytics.cae:Calculated student action stats: (160, 9)\tRuntime: 29.739125 seconds\n",
      "INFO:analytics.cae:Calculated student activity stats: (160, 9)\tRuntime: 32.153184 seconds\n",
      "INFO:analytics.cae:Merged new stats together: (160, 41)\n",
      "INFO:analytics.cae:Calculating for student set Diligent Students with domain-level self-efficacy\t test-split\n",
      "INFO:analytics.cae:Calculated student params: (40, 23)\tRuntime: 0.084518 seconds\n",
      "INFO:analytics.cae:Calculated student action stats: (40, 9)\tRuntime: 7.204411 seconds\n",
      "INFO:analytics.cae:Calculated student activity stats: (40, 9)\tRuntime: 7.909874 seconds\n",
      "INFO:analytics.cae:Merged new stats together: (40, 41)\n"
     ]
    }
   ],
   "source": [
    "\n",
    "stu_stats = {desc: {} for desc in tt_split_sids.keys()}\n",
    "for desc, split_d in tt_split_sids.items():\n",
    "    for key, d in split_d.items():\n",
    "        logger.info(f\"Calculating for student set {desc}\\t {key}-split\")\n",
    "        args = [db, calc.get_stu_parameters, d, 10]\n",
    "        sim_students, runtime = time_calc(batch_calc, args)\n",
    "        logger.info(f\"Calculated student params: {sim_students.shape}\\tRuntime: {runtime} seconds\")\n",
    "\n",
    "        args = [db, calc.action_stats, d, 10]\n",
    "        action_dist, runtime = time_calc(batch_calc, args)\n",
    "        logger.info(f\"Calculated student action stats: {action_dist.shape}\\tRuntime: {runtime} seconds\")\n",
    "\n",
    "        args = [db, calc.total_tx_stats, d, 10]\n",
    "        tx_stats, runtime = time_calc(batch_calc, args)\n",
    "        logger.info(f\"Calculated student activity stats: {tx_stats.shape}\\tRuntime: {runtime} seconds\")\n",
    "\n",
    "\n",
    "        stu_stats[desc][key] = pd.concat([sim_students, action_dist, tx_stats], axis=1)\n",
    "        logger.info(f\"Merged new stats together: {stu_stats[desc][key].shape}\")\n"
   ]
  },
  {
   "cell_type": "markdown",
   "metadata": {},
   "source": [
    "### Time on Task"
   ]
  },
  {
   "cell_type": "code",
   "execution_count": 121,
   "metadata": {},
   "outputs": [
    {
     "data": {
      "image/png": "[encoded data removed]",
      "text/plain": [
       "<Figure size 864x216 with 2 Axes>"
      ]
     },
     "metadata": {
      "needs_background": "light"
     },
     "output_type": "display_data"
    },
    {
     "data": {
      "image/png": "[encoded data removed]",
      "text/plain": [
       "<Figure size 864x216 with 2 Axes>"
      ]
     },
     "metadata": {
      "needs_background": "light"
     },
     "output_type": "display_data"
    },
    {
     "data": {
      "image/png": "[encoded data removed]",
      "text/plain": [
       "<Figure size 864x216 with 2 Axes>"
      ]
     },
     "metadata": {
      "needs_background": "light"
     },
     "output_type": "display_data"
    }
   ],
   "source": [
    "xcol = \"diligence\"\n",
    "ycol = \"Total Time(hours)\"\n",
    "\n",
    "for desc, splits in stu_stats.items():\n",
    "    i=0\n",
    "    plt.figure(figsize=(12,3))\n",
    "    for split, stat in splits.items():\n",
    "        plt.subplot(1,len(splits.keys()),i+1)\n",
    "        plt.title(f\"{desc}-{split} data\")\n",
    "        plt.scatter(stat[xcol], stat[ycol])\n",
    "        plt.xlabel(xcol)\n",
    "        plt.ylabel(ycol)\n",
    "        i += 1\n",
    "    plt.show()"
   ]
  },
  {
   "cell_type": "code",
   "execution_count": 122,
   "metadata": {},
   "outputs": [
    {
     "data": {
      "image/png": "[encoded data removed]",
      "text/plain": [
       "<Figure size 864x216 with 2 Axes>"
      ]
     },
     "metadata": {
      "needs_background": "light"
     },
     "output_type": "display_data"
    },
    {
     "data": {
      "image/png": "[encoded data removed]",
      "text/plain": [
       "<Figure size 864x216 with 2 Axes>"
      ]
     },
     "metadata": {
      "needs_background": "light"
     },
     "output_type": "display_data"
    },
    {
     "data": {
      "image/png": "[encoded data removed]",
      "text/plain": [
       "<Figure size 864x216 with 2 Axes>"
      ]
     },
     "metadata": {
      "needs_background": "light"
     },
     "output_type": "display_data"
    }
   ],
   "source": [
    "xcol = \"pre-sim pct mastery\"\n",
    "ycol = \"Total Time(hours)\"\n",
    "\n",
    "for desc, splits in stu_stats.items():\n",
    "    i=0\n",
    "    plt.figure(figsize=(12,3))\n",
    "    for split, stat in splits.items():\n",
    "        plt.subplot(1,len(splits.keys()),i+1)\n",
    "        plt.title(f\"{desc}-{split} data\")\n",
    "        plt.scatter(stat[xcol], stat[ycol])\n",
    "        plt.xlabel(xcol)\n",
    "        plt.ylabel(ycol)\n",
    "        i += 1\n",
    "    plt.show()"
   ]
  },
  {
   "cell_type": "markdown",
   "metadata": {},
   "source": [
    "### Freq of Off-task"
   ]
  },
  {
   "cell_type": "code",
   "execution_count": 123,
   "metadata": {},
   "outputs": [
    {
     "name": "stderr",
     "output_type": "stream",
     "text": [
      "INFO:analytics.cae:student set 'Simple diligent students'-train: R = -0.5178487064103199\t pval = 2.339570599096263e-12\n",
      "INFO:analytics.cae:student set 'Simple diligent students'-test: R = -0.4278118742971932\t pval = 0.005892825809272273\n"
     ]
    },
    {
     "data": {
      "image/png": "[encoded data removed]",
      "text/plain": [
       "<Figure size 864x216 with 2 Axes>"
      ]
     },
     "metadata": {
      "needs_background": "light"
     },
     "output_type": "display_data"
    },
    {
     "name": "stderr",
     "output_type": "stream",
     "text": [
      "INFO:analytics.cae:student set 'Diligent Students with variable values'-train: R = -0.3289842991016815\t pval = 2.160946664794817e-05\n",
      "INFO:analytics.cae:student set 'Diligent Students with variable values'-test: R = -0.3143949539511315\t pval = 0.048180197915681136\n"
     ]
    },
    {
     "data": {
      "image/png": "[encoded data removed]",
      "text/plain": [
       "<Figure size 864x216 with 2 Axes>"
      ]
     },
     "metadata": {
      "needs_background": "light"
     },
     "output_type": "display_data"
    },
    {
     "name": "stderr",
     "output_type": "stream",
     "text": [
      "INFO:analytics.cae:student set 'Diligent Students with domain-level self-efficacy'-train: R = -0.3422577287781888\t pval = 9.430119814627935e-06\n",
      "INFO:analytics.cae:student set 'Diligent Students with domain-level self-efficacy'-test: R = -0.39768397174766706\t pval = 0.011047414672359646\n"
     ]
    },
    {
     "data": {
      "image/png": "[encoded data removed]",
      "text/plain": [
       "<Figure size 864x216 with 2 Axes>"
      ]
     },
     "metadata": {
      "needs_background": "light"
     },
     "output_type": "display_data"
    }
   ],
   "source": [
    "xcol = \"Off Task\"\n",
    "ycol = \"diligence\"\n",
    "\n",
    "for desc, splits in stu_stats.items():\n",
    "    i=0\n",
    "    plt.figure(figsize=(12,3))\n",
    "    for split, stat in splits.items():\n",
    "        d1 = stat[xcol]\n",
    "        d2 = stat[ycol]\n",
    "        corr, pval = pearsonr(d1, d2)\n",
    "        logger.info(f\"student set '{desc}'-{split}: R = {corr}\\t pval = {pval}\")\n",
    "        plt.subplot(1,len(splits.keys()),i+1)\n",
    "        plt.title(f\"{desc}-{split} data\")\n",
    "        plt.scatter(stat[xcol], stat[ycol])\n",
    "        plt.xlabel(xcol)\n",
    "        plt.ylabel(ycol)\n",
    "        i += 1\n",
    "    plt.show()"
   ]
  },
  {
   "cell_type": "markdown",
   "metadata": {},
   "source": [
    "#### Regression"
   ]
  },
  {
   "cell_type": "code",
   "execution_count": 124,
   "metadata": {},
   "outputs": [
    {
     "name": "stderr",
     "output_type": "stream",
     "text": [
      "INFO:analytics.cae:****************************************************************\n",
      "INFO:analytics.cae:Model fit for Simple diligent students -- Training data\n",
      "INFO:analytics.cae:                            OLS Regression Results                            \n",
      "==============================================================================\n",
      "Dep. Variable:              diligence   R-squared:                       0.268\n",
      "Model:                            OLS   Adj. R-squared:                  0.264\n",
      "Method:                 Least Squares   F-statistic:                     57.90\n",
      "Date:                Mon, 11 Jan 2021   Prob (F-statistic):           2.34e-12\n",
      "Time:                        21:27:41   Log-Likelihood:                -22.685\n",
      "No. Observations:                 160   AIC:                             49.37\n",
      "Df Residuals:                     158   BIC:                             55.52\n",
      "Df Model:                           1                                         \n",
      "Covariance Type:            nonrobust                                         \n",
      "==============================================================================\n",
      "                 coef    std err          t      P>|t|      [0.025      0.975]\n",
      "------------------------------------------------------------------------------\n",
      "const          2.4536      0.066     37.251      0.000       2.323       2.584\n",
      "Off Task      -0.0030      0.000     -7.609      0.000      -0.004      -0.002\n",
      "==============================================================================\n",
      "Omnibus:                        4.444   Durbin-Watson:                   2.204\n",
      "Prob(Omnibus):                  0.108   Jarque-Bera (JB):                4.044\n",
      "Skew:                          -0.307   Prob(JB):                        0.132\n",
      "Kurtosis:                       3.479   Cond. No.                         492.\n",
      "==============================================================================\n",
      "\n",
      "Notes:\n",
      "[1] Standard Errors assume that the covariance matrix of the errors is correctly specified.\n",
      "INFO:analytics.cae:--- MSE train: 0.07774522739314112\t test: 0.061369836999304025 ---\n"
     ]
    },
    {
     "data": {
      "image/png": "[encoded data removed]",
      "text/plain": [
       "<Figure size 720x648 with 4 Axes>"
      ]
     },
     "metadata": {
      "needs_background": "light"
     },
     "output_type": "display_data"
    },
    {
     "name": "stderr",
     "output_type": "stream",
     "text": [
      "INFO:analytics.cae:****************************************************************\n",
      "INFO:analytics.cae:Model fit for Diligent Students with variable values -- Training data\n",
      "INFO:analytics.cae:                            OLS Regression Results                            \n",
      "==============================================================================\n",
      "Dep. Variable:              diligence   R-squared:                       0.108\n",
      "Model:                            OLS   Adj. R-squared:                  0.103\n",
      "Method:                 Least Squares   F-statistic:                     19.18\n",
      "Date:                Mon, 11 Jan 2021   Prob (F-statistic):           2.16e-05\n",
      "Time:                        21:27:42   Log-Likelihood:                -26.991\n",
      "No. Observations:                 160   AIC:                             57.98\n",
      "Df Residuals:                     158   BIC:                             64.13\n",
      "Df Model:                           1                                         \n",
      "Covariance Type:            nonrobust                                         \n",
      "==============================================================================\n",
      "                 coef    std err          t      P>|t|      [0.025      0.975]\n",
      "------------------------------------------------------------------------------\n",
      "const          2.1613      0.036     59.383      0.000       2.089       2.233\n",
      "Off Task      -0.0003   6.19e-05     -4.379      0.000      -0.000      -0.000\n",
      "==============================================================================\n",
      "Omnibus:                        1.542   Durbin-Watson:                   2.015\n",
      "Prob(Omnibus):                  0.463   Jarque-Bera (JB):                1.302\n",
      "Skew:                          -0.006   Prob(JB):                        0.522\n",
      "Kurtosis:                       2.558   Cond. No.                         939.\n",
      "==============================================================================\n",
      "\n",
      "Notes:\n",
      "[1] Standard Errors assume that the covariance matrix of the errors is correctly specified.\n",
      "INFO:analytics.cae:--- MSE train: 0.08204510192737742\t test: 0.0999426924595668 ---\n"
     ]
    },
    {
     "data": {
      "image/png": "[encoded data removed]",
      "text/plain": [
       "<Figure size 720x648 with 4 Axes>"
      ]
     },
     "metadata": {
      "needs_background": "light"
     },
     "output_type": "display_data"
    },
    {
     "name": "stderr",
     "output_type": "stream",
     "text": [
      "INFO:analytics.cae:****************************************************************\n",
      "INFO:analytics.cae:Model fit for Diligent Students with domain-level self-efficacy -- Training data\n",
      "INFO:analytics.cae:                            OLS Regression Results                            \n",
      "==============================================================================\n",
      "Dep. Variable:              diligence   R-squared:                       0.117\n",
      "Model:                            OLS   Adj. R-squared:                  0.112\n",
      "Method:                 Least Squares   F-statistic:                     20.96\n",
      "Date:                Mon, 11 Jan 2021   Prob (F-statistic):           9.43e-06\n",
      "Time:                        21:27:42   Log-Likelihood:                -18.186\n",
      "No. Observations:                 160   AIC:                             40.37\n",
      "Df Residuals:                     158   BIC:                             46.52\n",
      "Df Model:                           1                                         \n",
      "Covariance Type:            nonrobust                                         \n",
      "==============================================================================\n",
      "                 coef    std err          t      P>|t|      [0.025      0.975]\n",
      "------------------------------------------------------------------------------\n",
      "const          2.2208      0.061     36.417      0.000       2.100       2.341\n",
      "Off Task      -0.0015      0.000     -4.579      0.000      -0.002      -0.001\n",
      "==============================================================================\n",
      "Omnibus:                        1.041   Durbin-Watson:                   1.832\n",
      "Prob(Omnibus):                  0.594   Jarque-Bera (JB):                1.131\n",
      "Skew:                          -0.136   Prob(JB):                        0.568\n",
      "Kurtosis:                       2.691   Cond. No.                         518.\n",
      "==============================================================================\n",
      "\n",
      "Notes:\n",
      "[1] Standard Errors assume that the covariance matrix of the errors is correctly specified.\n",
      "INFO:analytics.cae:--- MSE train: 0.07349436743083963\t test: 0.07244362732771051 ---\n"
     ]
    },
    {
     "data": {
      "image/png": "[encoded data removed]",
      "text/plain": [
       "<Figure size 720x648 with 4 Axes>"
      ]
     },
     "metadata": {
      "needs_background": "light"
     },
     "output_type": "display_data"
    }
   ],
   "source": [
    "for desc, splits in stu_stats.items():\n",
    "    stat = splits['train']\n",
    "    X_train = stat.loc[:, [\"Off Task\"]]\n",
    "    X_train = sm.add_constant(X_train)\n",
    "    Y_train = stat.loc[:, \"diligence\"]\n",
    "    model = sm.OLS(Y_train, X_train)\n",
    "    result = model.fit()\n",
    "    Y_hat_train = result.predict(X_train)\n",
    "    err_train = mean_squared_error(Y_train, Y_hat_train)\n",
    "    logger.info(\"****************************************************************\")\n",
    "    logger.info(f\"Model fit for {desc} -- Training data\")\n",
    "    logger.info(result.summary())\n",
    "    #logger.info(result.t_test([1]))\n",
    "    \n",
    "#    sm.graphics.plot_partregress(\"diligence\", \"Off Task\", [\"Off Task\"], data=stat)\n",
    "    \n",
    "    stat = splits['test']\n",
    "    X_test = stat.loc[:, [\"Off Task\"]]\n",
    "    X_test = sm.add_constant(X_test)\n",
    "\n",
    "    Y_test = stat.loc[:, \"diligence\"]\n",
    "    Y_hat_test = result.predict(X_test)\n",
    "    \n",
    "    err_test = mean_squared_error(Y_test, Y_hat_test)\n",
    "    logger.info(f\"--- MSE train: {err_train}\\t test: {err_test} ---\")\n",
    "    \n",
    "    xmin = np.min([np.min([np.min(Y_train), np.min(Y_test)]), np.min([np.min(Y_hat_train), np.min(Y_hat_test)])])\n",
    "    xmax = np.max([np.max([np.max(Y_train), np.max(Y_test)]), np.max([np.max(Y_hat_train), np.max(Y_hat_test)])])\n",
    "\n",
    "#    xmax = np.max([np.max(Y_train), np.max(Y_test), np.max(Y_hat_train), np.max(Y_hat_test)])\n",
    "    ymin = xmin\n",
    "    ymax = xmax\n",
    "    \n",
    "    \n",
    "    plt.figure(figsize=(10,9))\n",
    "    plt.subplot(2,2,1)\n",
    "    plt.scatter(Y_train, Y_hat_train)\n",
    "    plt.title(f\"{desc} -- train est\")\n",
    "    plt.xlabel(\"Diligence\")\n",
    "    plt.ylabel(\"Estimated Diligence\")\n",
    "    plt.xlim([xmin, xmax])\n",
    "    plt.ylim([ymin, ymax])\n",
    "    \n",
    "    plt.subplot(2,2,2)\n",
    "    plt.scatter(Y_test, Y_hat_test)\n",
    "    plt.title(f\"{desc} -- test est\")\n",
    "    plt.xlabel(\"Diligence\")\n",
    "    plt.ylabel(\"Estimated Diligence\")\n",
    "    plt.xlim([xmin, xmax])\n",
    "    plt.ylim([ymin, ymax])\n",
    "\n",
    "    plt.subplot(2,2,3)\n",
    "    plt.title(f\"{desc} -- train err\")\n",
    "    plt.scatter(Y_train, Y_train - Y_hat_train)\n",
    "    plt.xlabel(\"Diligence\")\n",
    "    plt.ylabel(\"Error\")\n",
    "    \n",
    "    plt.subplot(2,2,4)\n",
    "    plt.title(f\"{desc} -- test err\")\n",
    "              \n",
    "    plt.scatter(Y_test, Y_test - Y_hat_test)\n",
    "    plt.xlabel(\"Diligence\")\n",
    "    plt.ylabel(\"Error\")\n",
    "    \n",
    "    plt.show()\n",
    "    "
   ]
  },
  {
   "cell_type": "markdown",
   "metadata": {},
   "source": [
    "### Proportion of Off-task"
   ]
  },
  {
   "cell_type": "code",
   "execution_count": 114,
   "metadata": {},
   "outputs": [
    {
     "name": "stderr",
     "output_type": "stream",
     "text": [
      "INFO:analytics.cae:student set 'Simple diligent students'-train: R = -0.8792787156243218\t pval = 9.188258408177282e-53\n",
      "INFO:analytics.cae:student set 'Simple diligent students'-test: R = -0.8613134196377444\t pval = 9.898100852398326e-13\n"
     ]
    },
    {
     "data": {
      "image/png": "[encoded data removed]",
      "text/plain": [
       "<Figure size 864x216 with 2 Axes>"
      ]
     },
     "metadata": {
      "needs_background": "light"
     },
     "output_type": "display_data"
    },
    {
     "name": "stderr",
     "output_type": "stream",
     "text": [
      "INFO:analytics.cae:student set 'Diligent Students with variable values'-train: R = -0.40894269614455386\t pval = 7.924348522127078e-08\n",
      "INFO:analytics.cae:student set 'Diligent Students with variable values'-test: R = -0.3296373085088186\t pval = 0.03778740990953083\n"
     ]
    },
    {
     "data": {
      "image/png": "[encoded data removed]",
      "text/plain": [
       "<Figure size 864x216 with 2 Axes>"
      ]
     },
     "metadata": {
      "needs_background": "light"
     },
     "output_type": "display_data"
    },
    {
     "name": "stderr",
     "output_type": "stream",
     "text": [
      "INFO:analytics.cae:student set 'Diligent Students with domain-level self-efficacy'-train: R = -0.7646018188426238\t pval = 5.944526670451013e-32\n",
      "INFO:analytics.cae:student set 'Diligent Students with domain-level self-efficacy'-test: R = -0.7621109838482867\t pval = 1.1101755699552823e-08\n"
     ]
    },
    {
     "data": {
      "image/png": "[encoded data removed]",
      "text/plain": [
       "<Figure size 864x216 with 2 Axes>"
      ]
     },
     "metadata": {
      "needs_background": "light"
     },
     "output_type": "display_data"
    }
   ],
   "source": [
    "xcol = \"Pct Off Task\"\n",
    "ycol = \"diligence\"\n",
    "\n",
    "\n",
    "for desc, splits in stu_stats.items():\n",
    "    i=0\n",
    "    plt.figure(figsize=(12,3))\n",
    "    for split, stat in splits.items():\n",
    "        d1 = stat[xcol]\n",
    "        d2 = stat[ycol]\n",
    "        corr, pval = pearsonr(d1, d2)\n",
    "        logger.info(f\"student set '{desc}'-{split}: R = {corr}\\t pval = {pval}\")\n",
    "        plt.subplot(1,len(splits.keys()),i+1)\n",
    "        plt.title(f\"{desc}-{split} data\")\n",
    "        plt.scatter(stat[xcol], stat[ycol])\n",
    "        plt.xlabel(xcol)\n",
    "        plt.ylabel(ycol)\n",
    "        i += 1\n",
    "    plt.show()"
   ]
  },
  {
   "cell_type": "markdown",
   "metadata": {},
   "source": [
    "#### Regression"
   ]
  },
  {
   "cell_type": "code",
   "execution_count": 125,
   "metadata": {},
   "outputs": [
    {
     "name": "stderr",
     "output_type": "stream",
     "text": [
      "INFO:analytics.cae:****************************************************************\n",
      "INFO:analytics.cae:Model fit for Simple diligent students -- Training data\n",
      "INFO:analytics.cae:                            OLS Regression Results                            \n",
      "==============================================================================\n",
      "Dep. Variable:              diligence   R-squared:                       0.773\n",
      "Model:                            OLS   Adj. R-squared:                  0.772\n",
      "Method:                 Least Squares   F-statistic:                     538.4\n",
      "Date:                Mon, 11 Jan 2021   Prob (F-statistic):           9.19e-53\n",
      "Time:                        21:28:11   Log-Likelihood:                 71.010\n",
      "No. Observations:                 160   AIC:                            -138.0\n",
      "Df Residuals:                     158   BIC:                            -131.9\n",
      "Df Model:                           1                                         \n",
      "Covariance Type:            nonrobust                                         \n",
      "================================================================================\n",
      "                   coef    std err          t      P>|t|      [0.025      0.975]\n",
      "--------------------------------------------------------------------------------\n",
      "const            3.5573      0.069     51.542      0.000       3.421       3.694\n",
      "Pct Off Task   -23.7765      1.025    -23.204      0.000     -25.800     -21.753\n",
      "==============================================================================\n",
      "Omnibus:                        1.638   Durbin-Watson:                   2.234\n",
      "Prob(Omnibus):                  0.441   Jarque-Bera (JB):                1.600\n",
      "Skew:                           0.159   Prob(JB):                        0.449\n",
      "Kurtosis:                       2.628   Cond. No.                         83.3\n",
      "==============================================================================\n",
      "\n",
      "Notes:\n",
      "[1] Standard Errors assume that the covariance matrix of the errors is correctly specified.\n",
      "INFO:analytics.cae:--- MSE train: 0.024101105255305937\t test: 0.01882725256654274 ---\n"
     ]
    },
    {
     "data": {
      "image/png": "[encoded data removed]",
      "text/plain": [
       "<Figure size 720x648 with 4 Axes>"
      ]
     },
     "metadata": {
      "needs_background": "light"
     },
     "output_type": "display_data"
    },
    {
     "name": "stderr",
     "output_type": "stream",
     "text": [
      "INFO:analytics.cae:****************************************************************\n",
      "INFO:analytics.cae:Model fit for Diligent Students with variable values -- Training data\n",
      "INFO:analytics.cae:                            OLS Regression Results                            \n",
      "==============================================================================\n",
      "Dep. Variable:              diligence   R-squared:                       0.167\n",
      "Model:                            OLS   Adj. R-squared:                  0.162\n",
      "Method:                 Least Squares   F-statistic:                     31.73\n",
      "Date:                Mon, 11 Jan 2021   Prob (F-statistic):           7.92e-08\n",
      "Time:                        21:28:12   Log-Likelihood:                -21.515\n",
      "No. Observations:                 160   AIC:                             47.03\n",
      "Df Residuals:                     158   BIC:                             53.18\n",
      "Df Model:                           1                                         \n",
      "Covariance Type:            nonrobust                                         \n",
      "================================================================================\n",
      "                   coef    std err          t      P>|t|      [0.025      0.975]\n",
      "--------------------------------------------------------------------------------\n",
      "const            2.2215      0.039     56.291      0.000       2.144       2.299\n",
      "Pct Off Task    -1.2874      0.229     -5.633      0.000      -1.739      -0.836\n",
      "==============================================================================\n",
      "Omnibus:                        0.290   Durbin-Watson:                   1.937\n",
      "Prob(Omnibus):                  0.865   Jarque-Bera (JB):                0.452\n",
      "Skew:                           0.010   Prob(JB):                        0.798\n",
      "Kurtosis:                       2.740   Cond. No.                         10.6\n",
      "==============================================================================\n",
      "\n",
      "Notes:\n",
      "[1] Standard Errors assume that the covariance matrix of the errors is correctly specified.\n",
      "INFO:analytics.cae:--- MSE train: 0.07661662990542648\t test: 0.09838867761509369 ---\n"
     ]
    },
    {
     "data": {
      "image/png": "[encoded data removed]",
      "text/plain": [
       "<Figure size 720x648 with 4 Axes>"
      ]
     },
     "metadata": {
      "needs_background": "light"
     },
     "output_type": "display_data"
    },
    {
     "name": "stderr",
     "output_type": "stream",
     "text": [
      "INFO:analytics.cae:****************************************************************\n",
      "INFO:analytics.cae:Model fit for Diligent Students with domain-level self-efficacy -- Training data\n",
      "INFO:analytics.cae:                            OLS Regression Results                            \n",
      "==============================================================================\n",
      "Dep. Variable:              diligence   R-squared:                       0.585\n",
      "Model:                            OLS   Adj. R-squared:                  0.582\n",
      "Method:                 Least Squares   F-statistic:                     222.4\n",
      "Date:                Mon, 11 Jan 2021   Prob (F-statistic):           5.94e-32\n",
      "Time:                        21:28:12   Log-Likelihood:                 42.131\n",
      "No. Observations:                 160   AIC:                            -80.26\n",
      "Df Residuals:                     158   BIC:                            -74.11\n",
      "Df Model:                           1                                         \n",
      "Covariance Type:            nonrobust                                         \n",
      "================================================================================\n",
      "                   coef    std err          t      P>|t|      [0.025      0.975]\n",
      "--------------------------------------------------------------------------------\n",
      "const            3.0817      0.077     40.186      0.000       2.930       3.233\n",
      "Pct Off Task   -17.0734      1.145    -14.912      0.000     -19.335     -14.812\n",
      "==============================================================================\n",
      "Omnibus:                        0.542   Durbin-Watson:                   1.918\n",
      "Prob(Omnibus):                  0.762   Jarque-Bera (JB):                0.681\n",
      "Skew:                           0.073   Prob(JB):                        0.711\n",
      "Kurtosis:                       2.716   Cond. No.                         77.7\n",
      "==============================================================================\n",
      "\n",
      "Notes:\n",
      "[1] Standard Errors assume that the covariance matrix of the errors is correctly specified.\n",
      "INFO:analytics.cae:--- MSE train: 0.03457898288803763\t test: 0.03495325673500937 ---\n"
     ]
    },
    {
     "data": {
      "image/png": "[encoded data removed]",
      "text/plain": [
       "<Figure size 720x648 with 4 Axes>"
      ]
     },
     "metadata": {
      "needs_background": "light"
     },
     "output_type": "display_data"
    }
   ],
   "source": [
    "xcols = [\"Pct Off Task\"]\n",
    "ycols = \"diligence\"\n",
    "\n",
    "for desc, splits in stu_stats.items():\n",
    "    stat = splits['train']\n",
    "    \n",
    "    # Extract student intrinsic EV value of Off Task\n",
    "    stat[val_col] = stat.apply(lambda x: x['values'][\"off task\"], axis=1)\n",
    "    \n",
    "    X_train = stat.loc[:, xcols]\n",
    "    X_train = sm.add_constant(X_train)\n",
    "    Y_train = stat.loc[:, ycol]\n",
    "    model = sm.OLS(Y_train, X_train)\n",
    "    result = model.fit()\n",
    "    Y_hat_train = result.predict(X_train)\n",
    "    err_train = mean_squared_error(Y_train, Y_hat_train)\n",
    "    logger.info(\"****************************************************************\")\n",
    "    logger.info(f\"Model fit for {desc} -- Training data\")\n",
    "    logger.info(result.summary())\n",
    "    #logger.info(result.t_test([1]))\n",
    "    \n",
    "#    sm.graphics.plot_partregress(\"diligence\", \"Off Task\", [\"Off Task\"], data=stat)\n",
    "    \n",
    "    stat = splits['test']\n",
    "    \n",
    "    # Extract student intrinsic EV value of Off Task\n",
    "    stat[val_col] = stat.apply(lambda x: x['values'][\"off task\"], axis=1)\n",
    "    \n",
    "    X_test = stat.loc[:, xcols]\n",
    "    X_test = sm.add_constant(X_test)\n",
    "\n",
    "    Y_test = stat.loc[:, ycol]\n",
    "    Y_hat_test = result.predict(X_test)\n",
    "    \n",
    "    err_test = mean_squared_error(Y_test, Y_hat_test)\n",
    "    logger.info(f\"--- MSE train: {err_train}\\t test: {err_test} ---\")\n",
    "    \n",
    "    xmin = np.min([np.min([np.min(Y_train), np.min(Y_test)]), np.min([np.min(Y_hat_train), np.min(Y_hat_test)])])\n",
    "    xmax = np.max([np.max([np.max(Y_train), np.max(Y_test)]), np.max([np.max(Y_hat_train), np.max(Y_hat_test)])])\n",
    "\n",
    "#    xmax = np.max([np.max(Y_train), np.max(Y_test), np.max(Y_hat_train), np.max(Y_hat_test)])\n",
    "    ymin = xmin\n",
    "    ymax = xmax\n",
    "    \n",
    "    \n",
    "    plt.figure(figsize=(10,9))\n",
    "    plt.subplot(2,2,1)\n",
    "    plt.scatter(Y_train, Y_hat_train)\n",
    "    plt.title(f\"{desc} -- train est\")\n",
    "    plt.xlabel(\"Diligence\")\n",
    "    plt.ylabel(\"Estimated Diligence\")\n",
    "    plt.xlim([xmin, xmax])\n",
    "    plt.ylim([ymin, ymax])\n",
    "    \n",
    "    plt.subplot(2,2,2)\n",
    "    plt.scatter(Y_test, Y_hat_test)\n",
    "    plt.title(f\"{desc} -- test est\")\n",
    "    plt.xlabel(\"Diligence\")\n",
    "    plt.ylabel(\"Estimated Diligence\")\n",
    "    plt.xlim([xmin, xmax])\n",
    "    plt.ylim([ymin, ymax])\n",
    "\n",
    "    plt.subplot(2,2,3)\n",
    "    plt.title(f\"{desc} -- train err\")\n",
    "    plt.scatter(Y_train, Y_train - Y_hat_train)\n",
    "    plt.xlabel(\"Diligence\")\n",
    "    plt.ylabel(\"Error\")\n",
    "    \n",
    "    plt.subplot(2,2,4)\n",
    "    plt.title(f\"{desc} -- test err\")\n",
    "              \n",
    "    plt.scatter(Y_test, Y_test - Y_hat_test)\n",
    "    plt.xlabel(\"Diligence\")\n",
    "    plt.ylabel(\"Error\")\n",
    "    \n",
    "    plt.show()"
   ]
  },
  {
   "cell_type": "markdown",
   "metadata": {},
   "source": [
    "#### Predicting Pct Off Task"
   ]
  },
  {
   "cell_type": "code",
   "execution_count": 159,
   "metadata": {},
   "outputs": [
    {
     "name": "stderr",
     "output_type": "stream",
     "text": [
      "INFO:analytics.cae:****************************************************************\n",
      "INFO:analytics.cae:Model fit for Diligent Students with variable values -- Training data\n",
      "INFO:analytics.cae:                            OLS Regression Results                            \n",
      "==============================================================================\n",
      "Dep. Variable:           Pct Off Task   R-squared:                       0.939\n",
      "Model:                            OLS   Adj. R-squared:                  0.938\n",
      "Method:                 Least Squares   F-statistic:                     1204.\n",
      "Date:                Mon, 11 Jan 2021   Prob (F-statistic):           5.89e-96\n",
      "Time:                        21:56:13   Log-Likelihood:                 370.80\n",
      "No. Observations:                 160   AIC:                            -735.6\n",
      "Df Residuals:                     157   BIC:                            -726.4\n",
      "Df Model:                           2                                         \n",
      "Covariance Type:            nonrobust                                         \n",
      "===================================================================================\n",
      "                      coef    std err          t      P>|t|      [0.025      0.975]\n",
      "-----------------------------------------------------------------------------------\n",
      "const               0.1433      0.002     75.316      0.000       0.140       0.147\n",
      "diligence          -0.0158      0.002     -7.964      0.000      -0.020      -0.012\n",
      "Value: Off Task     0.0882      0.002     44.483      0.000       0.084       0.092\n",
      "==============================================================================\n",
      "Omnibus:                       30.929   Durbin-Watson:                   2.166\n",
      "Prob(Omnibus):                  0.000   Jarque-Bera (JB):              119.789\n",
      "Skew:                           0.614   Prob(JB):                     9.73e-27\n",
      "Kurtosis:                       7.057   Cond. No.                         1.32\n",
      "==============================================================================\n",
      "\n",
      "Notes:\n",
      "[1] Standard Errors assume that the covariance matrix of the errors is correctly specified.\n",
      "INFO:analytics.cae:--- MSE train: 0.0005682974484949998\t test: 0.6477286923796088 ---\n"
     ]
    }
   ],
   "source": [
    "val_col = \"Value: Off Task\"\n",
    "xcols = [\"diligence\", val_col]\n",
    "ycol = \"Pct Off Task\"\n",
    "\n",
    "desc = list(stu_stats.keys())[1]\n",
    "stat = stu_stats[desc]['train'].copy()\n",
    "\n",
    "# Extract student intrinsic EV value of Off Task\n",
    "stat[val_col] = stat.apply(lambda x: x['values'][\"off task\"], axis=1)\n",
    "\n",
    "X_train = stat.loc[:, xcols]\n",
    "X_means = X_train.mean()\n",
    "X_std = X_train.std()\n",
    "X_train = (X_train - X_means) / X_std\n",
    "X_train = sm.add_constant(X_train)\n",
    "Y_train = stat.loc[:, ycol]\n",
    "Y_mean = Y_train.mean()\n",
    "Y_std = Y_train.std()\n",
    "Y_Train = (Y_train - Y_mean) / Y_std\n",
    "model = sm.OLS(Y_train, X_train)\n",
    "result = model.fit()\n",
    "Y_hat_train = result.predict(X_train)\n",
    "err_train = mean_squared_error(Y_train, Y_hat_train)\n",
    "logger.info(\"****************************************************************\")\n",
    "logger.info(f\"Model fit for {desc} -- Training data\")\n",
    "logger.info(result.summary())\n",
    "#logger.info(result.t_test([1]))\n",
    "\n",
    "stat = stu_stats[desc]['test'].copy()\n",
    "\n",
    "# Extract student intrinsic EV value of Off Task\n",
    "stat[val_col] = stat.apply(lambda x: x['values'][\"off task\"], axis=1)\n",
    "\n",
    "X_test = stat.loc[:, xcols]\n",
    "X_test = (X_test - X_means) / X_std\n",
    "X_test = sm.add_constant(X_test)\n",
    "\n",
    "Y_test = stat.loc[:, ycol]\n",
    "Y_test = (Y_test - Y_mean) / Y_std\n",
    "Y_hat_test = result.predict(X_test)\n",
    "\n",
    "err_test = mean_squared_error(Y_test, Y_hat_test)\n",
    "logger.info(f\"--- MSE train: {err_train}\\t test: {err_test} ---\")\n"
   ]
  },
  {
   "cell_type": "markdown",
   "metadata": {},
   "source": [
    "### Student-level CAE"
   ]
  },
  {
   "cell_type": "code",
   "execution_count": 161,
   "metadata": {},
   "outputs": [],
   "source": [
    "def calc_student_cae(d, penalty1, penalty):\n",
    "    logger.debug(f\"calculating CAE on data with shape: {d.shape}\")\n",
    "    stu_id = d['stu_id'][0]\n",
    "    data_proc = SimpleCAEPreprocessor(d)\n",
    "    d_proc = data_proc.process_data()\n",
    "\n",
    "    col_names = d_proc.columns.tolist()\n",
    "    logger.debug(f\"computing cae on dataframe: {d_proc.shape}\")\n",
    "    data_idx = d['_id']\n",
    "    caa = StudentCAAModel.from_caa_obj(CAAComputation(d_proc.to_numpy(), penalty1, penalty2), data_proc, data_idx, stu_id)\n",
    "    return caa, col_names\n"
   ]
  },
  {
   "cell_type": "code",
   "execution_count": 162,
   "metadata": {},
   "outputs": [],
   "source": [
    "def get_student_caes(sids, db, batch_desc, penalty1, penalty2):\n",
    "    # Calculate CAA embedding for each student\n",
    "    logger.debug(\"Building CAA embedding for each student\")\n",
    "    \n",
    "    # Get data batches to process from db\n",
    "    col = \"tutor_events\"\n",
    "    base_query = {\"stu_id\": {\"$in\": sids},\n",
    "                  \"type\": \"TutorInput\"\n",
    "                 }\n",
    "    logger.info(f\"{col} collection has {db[col].count_documents(base_query)} documents associated with {len(sids)} students\")\n",
    "    logger.debug(f\"Using query: {base_query}\")\n",
    "    segmenter = Segmenter(db[col], base_query)\n",
    "    idx_fields = ['stu_id']\n",
    "    caa_batches = segmenter.get_batches(idx_fields, 1)\n",
    "    caa_mdls = []\n",
    "    col_names = []\n",
    "    caa_batch = CAABatch(batch_desc, col_names)\n",
    "\n",
    "    # Calculate CAA embeddings\n",
    "    i = 0\n",
    "    for query, batch in caa_batches:\n",
    "        if i%25 == 0:\n",
    "            logger.info(f\"Calculating CAE on Student #{i}\")\n",
    "        caa, col_names = calc_student_cae(batch, penalty1, penalty2)\n",
    "        caa_batch.add(caa)\n",
    "        i += 1\n",
    "\n",
    "    caa_batch.col_names = col_names\n",
    "    \n",
    "    return caa_batch"
   ]
  },
  {
   "cell_type": "code",
   "execution_count": 163,
   "metadata": {},
   "outputs": [],
   "source": [
    "def cluster_caes(caa_batch, eps, min_samples):\n",
    "    logger.info(f\"****** Clustering with DBSCAN with EPS={eps} and min_sample={min_samples}******\")\n",
    "    X = caa_batch.get_distances().to_numpy()\n",
    "\n",
    "\n",
    "    clusterer = DBSCAN(eps=eps, min_samples=min_samples, metric=\"precomputed\")\n",
    "    clusters = clusterer.fit(X)\n",
    "    labels = clusters.labels_\n",
    "    n_clusters_ = len(set(labels)) - (1 if -1 in labels else 0)\n",
    "    n_noise_ = list(labels).count(-1)\n",
    "    logger.info('Estimated number of clusters: %d' % n_clusters_)\n",
    "    logger.info('Estimated number of noise points: %d' % n_noise_)\n",
    "    logger.info(f\"Cluster label counts: {pd.Series(clusters.labels_).value_counts()}\")\n",
    "    \n",
    "    return clusters\n"
   ]
  },
  {
   "cell_type": "code",
   "execution_count": 164,
   "metadata": {},
   "outputs": [],
   "source": [
    "def gridsearch_DBSCAN_hyperparams(d, eps_range, min_samples_range):\n",
    "    for eps in eps_range:\n",
    "        for min_samples in min_samples_range:\n",
    "            clusters = cluster_caes(d, eps, min_samples)\n",
    "            "
   ]
  },
  {
   "cell_type": "code",
   "execution_count": 165,
   "metadata": {},
   "outputs": [],
   "source": [
    "def get_cae_clusters(caa_batch, eps, min_samples):\n",
    "    # Map cluster labels with projection ids and original student ids\n",
    "    clusters = cluster_caes(caa_batch, eps, min_samples)\n",
    "    y = pd.DataFrame({\"proj_id\": caa_batch.get_index(), \"cluster\": clusters.labels_})\n",
    "    pid_map = {pid: proj.caa_model_id for pid, proj in caa_batch.projections.items()}\n",
    "    caa_map = {mdl._id: mdl for mdl in caa_batch.mdls}\n",
    "    pids = pid_map.keys()\n",
    "    caa_mids = [pid_map[pid] for pid in pids]\n",
    "    sids = [caa_map[mid].student_id for mid in caa_mids]\n",
    "    pid_map = pd.DataFrame({\"proj_id\": pids, \"caa_model_id\": caa_mids, \"student_id\": sids})\n",
    "\n",
    "    # Assemble dataframe with CAE projections for each student\n",
    "    logger.debug(f\"premerge shape: {y.shape}\")\n",
    "    y = pd.merge(y, pid_map, on=\"proj_id\", how=\"inner\")\n",
    "    logger.debug(f\"post-merge shape: {y.shape}\")\n",
    "    cluster_counts = y['cluster'].value_counts()\n",
    "    for lbl in cluster_counts.index: \n",
    "        logger.info(f\"Cluster label: {lbl}\\t count: {cluster_counts[lbl]}\")\n",
    "     \n",
    "    # Add columns for each projection axis(u&v) and weighting factor(d)\n",
    "    y.loc[:, 'US'] = y.apply(lambda x: caa_batch.projections[x['proj_id']].u, axis=1)\n",
    "    y.loc[:, 'VS'] = y.apply(lambda x: caa_batch.projections[x['proj_id']].v, axis=1)\n",
    "    y.loc[:, 'd'] = y.apply(lambda x: caa_batch.projections[x['proj_id']].d[0], axis=1)\n",
    "\n",
    "    # Expand CAE projection axis components into individual columns\n",
    "    us = y.apply(lambda x: pd.Series(x['US'][0].tolist(), index=caa_batch.col_names), axis=1)\n",
    "    new_colnames = {col: f\"u-{col}\" for col in us.columns}\n",
    "    u_cols = new_colnames.values()\n",
    "    us.rename(columns=new_colnames, inplace=True)\n",
    "    vs = y.apply(lambda x: pd.Series(x['VS'][0].tolist(), index=caa_batch.col_names), axis=1)\n",
    "    new_colnames = {col: f\"v-{col}\" for col in vs.columns}\n",
    "    v_cols = new_colnames.values()\n",
    "    vs.rename(columns=new_colnames, inplace=True)\n",
    "    y1 = pd.concat([y, us, vs], axis=1)\n",
    "    logger.info(y1.columns)\n",
    "    \n",
    "    return y1"
   ]
  },
  {
   "cell_type": "code",
   "execution_count": 189,
   "metadata": {},
   "outputs": [],
   "source": [
    "def calc_cae_means(cae, col_names):\n",
    "    #Calculate the mean of each cluster\n",
    "    #us = cae.apply(lambda x: pd.Series(x['US'][0].tolist(), index=col_names), axis=1)\n",
    "    new_colnames = {col: f\"u-{col}\" for col in col_names}\n",
    "    u_cols = new_colnames.values()\n",
    "    #us.rename(columns=new_colnames, inplace=True)\n",
    "    #vs = cae.apply(lambda x: pd.Series(x['VS'][0].tolist(), index=col_names), axis=1)\n",
    "    new_colnames = {col: f\"v-{col}\" for col in col_names}\n",
    "    v_cols = new_colnames.values()\n",
    "    #vs.rename(columns=new_colnames, inplace=True)\n",
    "    \n",
    "    cluster_center = cae.groupby('cluster')[list(u_cols) + list(v_cols)].mean()\n",
    "    return cluster_center"
   ]
  },
  {
   "cell_type": "code",
   "execution_count": 357,
   "metadata": {},
   "outputs": [],
   "source": [
    "def get_reg_df(cae, stu_dict, col_names=None):\n",
    "    stu_cae = cae.pivot_table(values='d', index='student_id', columns='cluster', fill_value=0, aggfunc=np.sum)\n",
    "    stu_cae.rename(columns={col: f\"cluster_{col}\" for col in stu_cae.columns}, inplace=True)\n",
    "    \n",
    "    if col_names is not None:\n",
    "        # Ensure all given columns are present\n",
    "        for col in col_names:\n",
    "            if 'cluster' in col and col not in stu_cae.columns:\n",
    "                stu_cae[col] = np.zeros(stu_cae.shape[0])\n",
    "        \n",
    "    \n",
    "    stu_cae['diligence'] = pd.Series([stu_dict[sid].decider.diligence for sid in stu_cae.index.tolist()], index=stu_cae.index)\n",
    "\n",
    "    # Drop the noise cluster (-1)\n",
    "    drop_col = 'cluster_-1'\n",
    "    if drop_col in stu_cae.columns:\n",
    "        stu_cae.drop(columns=[drop_col], inplace=True) \n",
    "    \n",
    "    return stu_cae\n",
    "\n",
    "\n",
    "    "
   ]
  },
  {
   "cell_type": "markdown",
   "metadata": {},
   "source": [
    "#### Calculate Embeddings"
   ]
  },
  {
   "cell_type": "code",
   "execution_count": 327,
   "metadata": {},
   "outputs": [
    {
     "name": "stderr",
     "output_type": "stream",
     "text": [
      "INFO:analytics.cae:tutor_events collection has 350404 documents associated with 160 students\n",
      "INFO:analytics.cae:Calculating CAE on Student #0\n",
      "INFO:analytics.cae:Calculating CAE on Student #25\n",
      "INFO:analytics.cae:Calculating CAE on Student #50\n",
      "INFO:analytics.cae:Calculating CAE on Student #75\n",
      "INFO:analytics.cae:Calculating CAE on Student #100\n",
      "INFO:analytics.cae:Calculating CAE on Student #125\n",
      "INFO:analytics.cae:Calculating CAE on Student #150\n",
      "INFO:analytics.cae:tutor_events collection has 91710 documents associated with 40 students\n",
      "INFO:analytics.cae:Calculating CAE on Student #0\n",
      "INFO:analytics.cae:Calculating CAE on Student #25\n",
      "INFO:analytics.cae:tutor_events collection has 415562 documents associated with 160 students\n",
      "INFO:analytics.cae:Calculating CAE on Student #0\n",
      "INFO:analytics.cae:Calculating CAE on Student #25\n",
      "INFO:analytics.cae:Calculating CAE on Student #50\n",
      "INFO:analytics.cae:Calculating CAE on Student #75\n",
      "INFO:analytics.cae:Calculating CAE on Student #100\n",
      "INFO:analytics.cae:Calculating CAE on Student #125\n",
      "INFO:analytics.cae:Calculating CAE on Student #150\n",
      "INFO:analytics.cae:tutor_events collection has 95944 documents associated with 40 students\n",
      "INFO:analytics.cae:Calculating CAE on Student #0\n",
      "INFO:analytics.cae:Calculating CAE on Student #25\n",
      "INFO:analytics.cae:tutor_events collection has 386560 documents associated with 160 students\n",
      "INFO:analytics.cae:Calculating CAE on Student #0\n",
      "INFO:analytics.cae:Calculating CAE on Student #25\n",
      "INFO:analytics.cae:Calculating CAE on Student #50\n",
      "INFO:analytics.cae:Calculating CAE on Student #75\n",
      "INFO:analytics.cae:Calculating CAE on Student #100\n",
      "INFO:analytics.cae:Calculating CAE on Student #125\n",
      "INFO:analytics.cae:Calculating CAE on Student #150\n",
      "INFO:analytics.cae:tutor_events collection has 91913 documents associated with 40 students\n",
      "INFO:analytics.cae:Calculating CAE on Student #0\n",
      "INFO:analytics.cae:Calculating CAE on Student #25\n"
     ]
    }
   ],
   "source": [
    "caa_batches = {desc: {\"train\": None, 'test': None} for desc in batch_desc}\n",
    "\n",
    "for bdesc in batch_desc:\n",
    "    train_sids = get_train_data(bdesc)\n",
    "    test_sids = get_test_data(bdesc) \n",
    "    \n",
    "    lmapper = DBLearnerMapper(db)\n",
    "    students = [lmapper.get_modlearner_from_db(stu_id) for stu_id in train_sids]\n",
    "    stu_dict = {stu._id: stu for stu in students}\n",
    "    \n",
    "    eps = 0.8\n",
    "    min_samples = 5\n",
    "    penalty1 = 0.35\n",
    "    penalty2 = 0.35\n",
    "    \n",
    "    caa_batches[bdesc]['train'] = get_student_caes(train_sids, db, bdesc, penalty1, penalty2)\n",
    "\n",
    "    # Presist CAE Models\n",
    "    db.caa_models.insert_many([mdl.to_dict() for mdl in caa_batches[bdesc]['train'].mdls])\n",
    "    db.caa_batches.insert_one(caa_batches[bdesc]['train'].to_dict())\n",
    "\n",
    "    caa_batches[bdesc]['test'] = get_student_caes(test_sids, db, bdesc, penalty1, penalty2)\n",
    "\n",
    "    # Presist CAE Models\n",
    "    db.caa_models.insert_many([mdl.to_dict() for mdl in caa_batches[bdesc]['test'].mdls])\n",
    "    db.caa_batches.insert_one(caa_batches[bdesc]['test'].to_dict())\n",
    "    "
   ]
  },
  {
   "cell_type": "markdown",
   "metadata": {},
   "source": [
    "#### Cluster/Label Embeddings"
   ]
  },
  {
   "cell_type": "code",
   "execution_count": 331,
   "metadata": {},
   "outputs": [
    {
     "name": "stderr",
     "output_type": "stream",
     "text": [
      "INFO:analytics.cae:****** Clustering with DBSCAN with EPS=0.8 and min_sample=5******\n",
      "INFO:analytics.cae:Estimated number of clusters: 10\n",
      "INFO:analytics.cae:Estimated number of noise points: 9\n",
      "INFO:analytics.cae:Cluster label counts:  0    154\n",
      " 1    136\n",
      " 2     91\n",
      " 3     78\n",
      " 4     47\n",
      " 6     41\n",
      " 5     22\n",
      " 8     16\n",
      " 7     10\n",
      "-1      9\n",
      " 9      7\n",
      "dtype: int64\n",
      "INFO:analytics.cae:Cluster label: 0\t count: 154\n",
      "INFO:analytics.cae:Cluster label: 1\t count: 136\n",
      "INFO:analytics.cae:Cluster label: 2\t count: 91\n",
      "INFO:analytics.cae:Cluster label: 3\t count: 78\n",
      "INFO:analytics.cae:Cluster label: 4\t count: 47\n",
      "INFO:analytics.cae:Cluster label: 6\t count: 41\n",
      "INFO:analytics.cae:Cluster label: 5\t count: 22\n",
      "INFO:analytics.cae:Cluster label: 8\t count: 16\n",
      "INFO:analytics.cae:Cluster label: 7\t count: 10\n",
      "INFO:analytics.cae:Cluster label: -1\t count: 9\n",
      "INFO:analytics.cae:Cluster label: 9\t count: 7\n",
      "INFO:analytics.cae:Index(['proj_id', 'cluster', 'caa_model_id', 'student_id', 'US', 'VS', 'd',\n",
      "       'u-duration', 'u-plt', 'u-plt1', 'u-hints_used', 'u-hints_avail',\n",
      "       'u-attempt', 'u-Hint', 'u-Incorrect', 'v-duration', 'v-plt', 'v-plt1',\n",
      "       'v-hints_used', 'v-hints_avail', 'v-attempt', 'v-Hint', 'v-Incorrect'],\n",
      "      dtype='object')\n",
      "INFO:analytics.cae:***************** Cluster centers for set: Simple diligent students *****************\n",
      "INFO:analytics.cae:         u-duration         u-plt    u-plt1  u-hints_used  u-hints_avail  \\\n",
      "cluster                                                                    \n",
      "-1        -0.111111 -2.222222e-01  0.222222     -0.000043   1.929261e-05   \n",
      " 0        -0.000522  5.712673e-08  0.000005     -0.971700   0.000000e+00   \n",
      " 1         0.000000  1.000000e+00  0.000000      0.000000   0.000000e+00   \n",
      " 2        -0.000789 -4.310665e-01 -0.654278      0.000000   3.401856e-07   \n",
      " 3         0.000000 -5.921154e-01 -0.762920      0.000157  -3.148476e-04   \n",
      " 4        -0.945160  6.369347e-07 -0.002867     -0.000035   3.149616e-05   \n",
      " 5         0.000009  0.000000e+00  0.000000     -0.000005   1.875629e-06   \n",
      " 6         0.000000 -1.441651e-06 -0.000011      0.992856  -1.724657e-02   \n",
      " 7        -0.009962 -5.355540e-01 -0.720580      0.000000   1.418657e-05   \n",
      " 8         1.000000  0.000000e+00  0.000000     -0.000006   4.845858e-06   \n",
      " 9         1.000000  0.000000e+00  0.000000      0.000000   0.000000e+00   \n",
      "\n",
      "         u-attempt    u-Hint   u-Incorrect    v-duration         v-plt  \\\n",
      "cluster                                                                  \n",
      "-1       -0.222213  0.000005  9.919941e-06 -2.222214e-01  1.301500e-04   \n",
      " 0       -0.200464  0.000001  1.840251e-06 -8.373256e-08  1.327295e-06   \n",
      " 1       -0.000002  0.000000 -2.117594e-06  0.000000e+00  0.000000e+00   \n",
      " 2        0.000031 -0.545830  0.000000e+00  8.655489e-06  0.000000e+00   \n",
      " 3        0.000000  0.000000  2.871933e-05 -1.342430e-06  0.000000e+00   \n",
      " 4       -0.008024  0.000000 -1.458029e-01  0.000000e+00  4.260965e-07   \n",
      " 5        1.000000  0.000000  0.000000e+00 -2.479770e-05  0.000000e+00   \n",
      " 6        0.000000  0.000000  4.547763e-07  0.000000e+00 -1.739789e-06   \n",
      " 7        0.000003 -0.358462 -9.117322e-02 -6.956051e-07  0.000000e+00   \n",
      " 8       -0.000020  0.000001  8.313488e-07  0.000000e+00  7.625751e-05   \n",
      " 9        0.000000  0.000003  0.000000e+00  0.000000e+00  1.000000e+00   \n",
      "\n",
      "               v-plt1  v-hints_used  v-hints_avail     v-attempt  \\\n",
      "cluster                                                            \n",
      "-1       2.222222e-01     -0.067674       0.199236  3.871258e-04   \n",
      " 0       6.677159e-07      0.000000       1.000000 -1.086647e-07   \n",
      " 1       1.000000e+00      0.000000       0.000000 -1.647897e-06   \n",
      " 2       0.000000e+00      0.000003      -0.000001  5.781606e-07   \n",
      " 3       0.000000e+00      0.000002      -0.000002  1.000000e+00   \n",
      " 4      -2.107239e-06      0.000000       0.000000 -8.434346e-07   \n",
      " 5       0.000000e+00      0.000007      -0.000008  0.000000e+00   \n",
      " 6      -4.120161e-06      0.000000       0.000000  1.000000e+00   \n",
      " 7       0.000000e+00      0.901547      -0.270224  0.000000e+00   \n",
      " 8       1.000000e+00      0.000000       0.000000  0.000000e+00   \n",
      " 9       0.000000e+00      0.000000       0.000000 -5.417812e-06   \n",
      "\n",
      "               v-Hint   v-Incorrect  \n",
      "cluster                              \n",
      "-1       0.000000e+00  3.333333e-01  \n",
      " 0       0.000000e+00  0.000000e+00  \n",
      " 1       0.000000e+00 -1.216593e-06  \n",
      " 2       0.000000e+00  1.000000e+00  \n",
      " 3       0.000000e+00  2.595827e-07  \n",
      " 4       1.000000e+00 -2.462737e-06  \n",
      " 5      -9.259166e-07  1.000000e+00  \n",
      " 6      -4.132600e-07 -1.584529e-06  \n",
      " 7       0.000000e+00  0.000000e+00  \n",
      " 8       0.000000e+00  0.000000e+00  \n",
      " 9       0.000000e+00 -4.836169e-06  \n",
      "INFO:analytics.cae:****** Clustering with DBSCAN with EPS=0.8 and min_sample=5******\n",
      "INFO:analytics.cae:Estimated number of clusters: 10\n",
      "INFO:analytics.cae:Estimated number of noise points: 18\n",
      "INFO:analytics.cae:Cluster label counts:  0    149\n",
      " 1    139\n",
      " 4     95\n",
      " 3     94\n",
      " 2     54\n",
      " 5     39\n",
      " 8     23\n",
      " 6     22\n",
      "-1     18\n",
      " 7     13\n",
      " 9      5\n",
      "dtype: int64\n",
      "INFO:analytics.cae:Cluster label: 0\t count: 149\n",
      "INFO:analytics.cae:Cluster label: 1\t count: 139\n",
      "INFO:analytics.cae:Cluster label: 4\t count: 95\n",
      "INFO:analytics.cae:Cluster label: 3\t count: 94\n",
      "INFO:analytics.cae:Cluster label: 2\t count: 54\n",
      "INFO:analytics.cae:Cluster label: 5\t count: 39\n",
      "INFO:analytics.cae:Cluster label: 8\t count: 23\n",
      "INFO:analytics.cae:Cluster label: 6\t count: 22\n",
      "INFO:analytics.cae:Cluster label: -1\t count: 18\n",
      "INFO:analytics.cae:Cluster label: 7\t count: 13\n",
      "INFO:analytics.cae:Cluster label: 9\t count: 5\n",
      "INFO:analytics.cae:Index(['proj_id', 'cluster', 'caa_model_id', 'student_id', 'US', 'VS', 'd',\n",
      "       'u-duration', 'u-plt', 'u-plt1', 'u-hints_used', 'u-hints_avail',\n",
      "       'u-attempt', 'u-Hint', 'u-Incorrect', 'v-duration', 'v-plt', 'v-plt1',\n",
      "       'v-hints_used', 'v-hints_avail', 'v-attempt', 'v-Hint', 'v-Incorrect'],\n",
      "      dtype='object')\n",
      "INFO:analytics.cae:***************** Cluster centers for set: Diligent Students with variable values *****************\n",
      "INFO:analytics.cae:         u-duration         u-plt    u-plt1  u-hints_used  u-hints_avail  \\\n",
      "cluster                                                                    \n",
      "-1        -0.329626 -3.632897e-02  0.117524 -8.340458e-02   9.556190e-02   \n",
      " 0         0.000000  6.374122e-08  0.000004 -9.656135e-01   0.000000e+00   \n",
      " 1         0.000000  1.000000e+00  0.000000  0.000000e+00   0.000000e+00   \n",
      " 2         0.000000 -7.903775e-07 -0.000023  1.000000e+00  -1.015780e-06   \n",
      " 3        -0.010456 -4.099913e-01 -0.607855 -3.516089e-07   1.628898e-07   \n",
      " 4        -0.000639 -6.042104e-01 -0.758801  5.774913e-05   0.000000e+00   \n",
      " 5        -0.980382  3.031004e-06 -0.008851 -5.066361e-05   4.131960e-05   \n",
      " 6         1.000000  0.000000e+00  0.000000 -1.005209e-05   2.489504e-06   \n",
      " 7         1.000000  0.000000e+00  0.000000  0.000000e+00   0.000000e+00   \n",
      " 8         0.000006 -3.273712e-06  0.000002 -4.244887e-06   3.195604e-06   \n",
      " 9         0.000063 -4.985668e-01 -0.827231  0.000000e+00   0.000000e+00   \n",
      "\n",
      "         u-attempt    u-Hint  u-Incorrect    v-duration         v-plt  \\\n",
      "cluster                                                                 \n",
      "-1       -0.045706 -0.022880    -0.047278 -5.555555e-02  4.525370e-02   \n",
      " 0       -0.219657  0.000002     0.000002  0.000000e+00  8.744164e-07   \n",
      " 1       -0.000001  0.000000    -0.000002  7.686547e-08  0.000000e+00   \n",
      " 2        0.000000  0.000000     0.000008  0.000000e+00  0.000000e+00   \n",
      " 3        0.000028 -0.618093     0.000000  2.467488e-06  0.000000e+00   \n",
      " 4        0.010526 -0.006239     0.000045 -2.122132e-06 -2.014649e-03   \n",
      " 5       -0.010547  0.000000    -0.059863  0.000000e+00 -2.792138e-07   \n",
      " 6       -0.000002  0.000001     0.000000  0.000000e+00  9.537633e-05   \n",
      " 7        0.000000  0.000007     0.000000  0.000000e+00  1.000000e+00   \n",
      " 8        1.000000  0.000000     0.000000 -7.416468e-06  0.000000e+00   \n",
      " 9        0.000000 -0.143611    -0.026281  0.000000e+00  0.000000e+00   \n",
      "\n",
      "               v-plt1  v-hints_used  v-hints_avail     v-attempt  \\\n",
      "cluster                                                            \n",
      "-1      -3.359270e-02 -3.951714e-02   1.592311e-01  2.222281e-01   \n",
      " 0       8.800334e-07  0.000000e+00   1.000000e+00 -1.266271e-07   \n",
      " 1       1.000000e+00 -2.766418e-08   7.207766e-08 -2.060243e-06   \n",
      " 2      -5.335382e-06  0.000000e+00   0.000000e+00  1.000000e+00   \n",
      " 3       0.000000e+00  1.529339e-06  -1.821455e-07  3.956256e-08   \n",
      " 4      -1.033172e-02  1.560103e-06  -1.319909e-06  9.894737e-01   \n",
      " 5      -7.003389e-08 -5.418420e-07   0.000000e+00  1.310020e-05   \n",
      " 6       1.000000e+00  0.000000e+00   0.000000e+00  0.000000e+00   \n",
      " 7       0.000000e+00  0.000000e+00   0.000000e+00 -1.515612e-06   \n",
      " 8       0.000000e+00  1.742709e-05  -1.683555e-06  0.000000e+00   \n",
      " 9       0.000000e+00  7.951583e-01  -5.192589e-01  0.000000e+00   \n",
      "\n",
      "               v-Hint   v-Incorrect  \n",
      "cluster                              \n",
      "-1       2.222222e-01  5.556069e-02  \n",
      " 0       9.542095e-08  2.724539e-08  \n",
      " 1       0.000000e+00 -1.309134e-06  \n",
      " 2      -1.993370e-06 -3.694632e-07  \n",
      " 3       0.000000e+00  1.000000e+00  \n",
      " 4      -2.362335e-08  5.218050e-06  \n",
      " 5       1.000000e+00  5.400523e-07  \n",
      " 6       0.000000e+00  0.000000e+00  \n",
      " 7       0.000000e+00 -1.903224e-06  \n",
      " 8      -5.079781e-06  1.000000e+00  \n",
      " 9       0.000000e+00  0.000000e+00  \n",
      "INFO:analytics.cae:****** Clustering with DBSCAN with EPS=0.8 and min_sample=5******\n",
      "INFO:analytics.cae:Estimated number of clusters: 11\n",
      "INFO:analytics.cae:Estimated number of noise points: 11\n",
      "INFO:analytics.cae:Cluster label counts:  0     152\n",
      " 1     145\n",
      " 3     106\n",
      " 2      96\n",
      " 4      58\n",
      " 6      54\n",
      " 5      28\n",
      " 9      15\n",
      "-1      11\n",
      " 8      11\n",
      " 10      7\n",
      " 7       5\n",
      "dtype: int64\n",
      "INFO:analytics.cae:Cluster label: 0\t count: 152\n",
      "INFO:analytics.cae:Cluster label: 1\t count: 145\n",
      "INFO:analytics.cae:Cluster label: 3\t count: 106\n",
      "INFO:analytics.cae:Cluster label: 2\t count: 96\n",
      "INFO:analytics.cae:Cluster label: 4\t count: 58\n",
      "INFO:analytics.cae:Cluster label: 6\t count: 54\n",
      "INFO:analytics.cae:Cluster label: 5\t count: 28\n",
      "INFO:analytics.cae:Cluster label: 9\t count: 15\n",
      "INFO:analytics.cae:Cluster label: -1\t count: 11\n",
      "INFO:analytics.cae:Cluster label: 8\t count: 11\n",
      "INFO:analytics.cae:Cluster label: 10\t count: 7\n",
      "INFO:analytics.cae:Cluster label: 7\t count: 5\n",
      "INFO:analytics.cae:Index(['proj_id', 'cluster', 'caa_model_id', 'student_id', 'US', 'VS', 'd',\n",
      "       'u-duration', 'u-plt', 'u-plt1', 'u-hints_used', 'u-hints_avail',\n",
      "       'u-attempt', 'u-Hint', 'u-Incorrect', 'v-duration', 'v-plt', 'v-plt1',\n",
      "       'v-hints_used', 'v-hints_avail', 'v-attempt', 'v-Hint', 'v-Incorrect'],\n",
      "      dtype='object')\n",
      "INFO:analytics.cae:***************** Cluster centers for set: Diligent Students with domain-level self-efficacy *****************\n",
      "INFO:analytics.cae:           u-duration         u-plt    u-plt1  u-hints_used  u-hints_avail  \\\n",
      "cluster                                                                      \n",
      "-1       9.090913e-02 -6.146767e-02  0.000000     -0.082986       0.060994   \n",
      " 0      -4.239780e-04  4.016435e-08  0.000004     -0.975002       0.000000   \n",
      " 1       3.865679e-08  1.000000e+00  0.000000      0.000000       0.000000   \n",
      " 2       3.110688e-07 -6.240465e-01 -0.757684      0.000040      -0.000014   \n",
      " 3      -1.459872e-03 -4.779787e-01 -0.678779      0.000000       0.000000   \n",
      " 4      -9.363311e-01  4.958489e-07 -0.004841     -0.000040       0.000031   \n",
      " 5       6.266353e-06 -3.706430e-06  0.000001     -0.000003       0.000000   \n",
      " 6       5.463029e-08 -1.729754e-06 -0.000031      0.994771      -0.014144   \n",
      " 7       0.000000e+00  7.864903e-07  1.000000      0.000000       0.000000   \n",
      " 8      -3.182368e-03 -5.270297e-01 -0.785661      0.000000       0.000016   \n",
      " 9       1.000000e+00  0.000000e+00  0.000000     -0.000010       0.000005   \n",
      " 10      1.000000e+00  0.000000e+00  0.000000      0.000000       0.000000   \n",
      "\n",
      "         u-attempt    u-Hint  u-Incorrect    v-duration     v-plt  \\\n",
      "cluster                                                             \n",
      "-1       -0.090909  0.000000     0.000079 -1.638539e-06 -0.000002   \n",
      " 0       -0.181182  0.000001     0.000002 -1.084520e-08  0.000001   \n",
      " 1       -0.000001  0.000000    -0.000002  0.000000e+00  0.000000   \n",
      " 2        0.000000  0.000000     0.000029 -8.962538e-06  0.000000   \n",
      " 3        0.000030 -0.508597     0.000000  5.815992e-08  0.000000   \n",
      " 4       -0.006315  0.000000    -0.165828  0.000000e+00  0.000000   \n",
      " 5        1.000000 -0.000001     0.000000 -3.918254e-06 -0.000002   \n",
      " 6        0.000000  0.000000     0.000015  0.000000e+00 -0.000001   \n",
      " 7        0.000000  0.000000     0.000000  0.000000e+00  0.000000   \n",
      " 8        0.000007 -0.233810     0.000000  0.000000e+00  0.000000   \n",
      " 9       -0.000004  0.000002     0.000000  0.000000e+00  0.000098   \n",
      " 10       0.000000  0.000008     0.000000  0.000000e+00  1.000000   \n",
      "\n",
      "               v-plt1  v-hints_used  v-hints_avail     v-attempt  \\\n",
      "cluster                                                            \n",
      "-1       1.818182e-01      0.000000       0.000000  3.636421e-01   \n",
      " 0       4.897613e-07      0.000000       1.000000 -2.837691e-07   \n",
      " 1       1.000000e+00      0.000000       0.000000 -1.876382e-06   \n",
      " 2       0.000000e+00      0.000001      -0.000002  1.000000e+00   \n",
      " 3       0.000000e+00      0.000002      -0.000001  2.013804e-07   \n",
      " 4      -1.876433e-06     -0.000001       0.000000  3.931262e-07   \n",
      " 5       0.000000e+00      0.000015      -0.000002  0.000000e+00   \n",
      " 6      -3.309587e-06      0.000000       0.000000  1.000000e+00   \n",
      " 7       0.000000e+00      0.000000       1.000000  0.000000e+00   \n",
      " 8       0.000000e+00      0.976615      -0.108382  5.516189e-07   \n",
      " 9       1.000000e+00      0.000000       0.000000  0.000000e+00   \n",
      " 10      0.000000e+00      0.000000       0.000000 -2.016009e-05   \n",
      "\n",
      "               v-Hint   v-Incorrect  \n",
      "cluster                              \n",
      "-1       9.091215e-02  3.636371e-01  \n",
      " 0       1.198350e-07  8.730963e-08  \n",
      " 1       0.000000e+00 -1.423044e-06  \n",
      " 2       1.556401e-07  2.117698e-06  \n",
      " 3       0.000000e+00  1.000000e+00  \n",
      " 4       1.000000e+00 -2.077355e-06  \n",
      " 5       0.000000e+00  1.000000e+00  \n",
      " 6      -1.942924e-06 -2.682089e-07  \n",
      " 7      -1.306064e-05  0.000000e+00  \n",
      " 8       0.000000e+00  0.000000e+00  \n",
      " 9       0.000000e+00  0.000000e+00  \n",
      " 10      0.000000e+00 -4.962192e-06  \n"
     ]
    }
   ],
   "source": [
    "caa_clusters = {desc: {'train_clusters': None, 'train_distances': None, 'test_distances': None, 'test_clusters': None} for desc in batch_desc}\n",
    "for bdesc in batch_desc:\n",
    "    # Cluster training data    \n",
    "    test_batch = caa_batches[bdesc]['test']\n",
    "    train_batch = caa_batches[bdesc]['train']\n",
    "    \n",
    "    stu_cae = get_cae_clusters(train_batch, eps, min_samples)\n",
    "    \n",
    "    cluster_centers = calc_cae_means(stu_cae, train_batch.col_names)\n",
    "    logger.info(f\"***************** Cluster centers for set: {bdesc} *****************\")\n",
    "    logger.info(cluster_centers.head(cluster_centers.shape[0]))\n",
    "    \n",
    "    train_distances = train_batch.get_distances()\n",
    "    \n",
    "    X = train_distances\n",
    "    train_cluster_labels = stu_cae.loc[:, ['proj_id', 'cluster']].copy()\n",
    "    train_cluster_labels.index = train_cluster_labels['proj_id']\n",
    "    train_cluster_labels.drop(columns=['proj_id'], inplace=True)\n",
    "    Y = pd.Series([train_cluster_labels.loc[pid][0] for pid in X.index], index=X.index)\n",
    "\n",
    "    # Calc distance of test data to train data\n",
    "    rows = test_batch.get_index()\n",
    "    cols = X.index\n",
    "    test_distances = pd.DataFrame(index=rows, columns=cols)\n",
    "    for i in rows:\n",
    "        for j in cols:\n",
    "            p1 = test_batch.projections[i]\n",
    "            p2 = train_batch.projections[j]\n",
    "            d = CAAProjection.distance(p1, p2)\n",
    "            test_distances.loc[i,j] = d\n",
    "    \n",
    "    caa_clusters[bdesc]['train_clusters'] = stu_cae\n",
    "    caa_clusters[bdesc]['train_distances'] = train_distances\n",
    "    caa_clusters[bdesc]['test_distances'] = test_distances\n",
    "    "
   ]
  },
  {
   "cell_type": "code",
   "execution_count": 332,
   "metadata": {},
   "outputs": [
    {
     "name": "stderr",
     "output_type": "stream",
     "text": [
      "INFO:analytics.cae:Cluster label: 0\t count: 40\n",
      "INFO:analytics.cae:Cluster label: 1\t count: 36\n",
      "INFO:analytics.cae:Cluster label: 2\t count: 25\n",
      "INFO:analytics.cae:Cluster label: 3\t count: 22\n",
      "INFO:analytics.cae:Cluster label: 6\t count: 13\n",
      "INFO:analytics.cae:Cluster label: 4\t count: 13\n",
      "INFO:analytics.cae:Cluster label: 5\t count: 7\n",
      "INFO:analytics.cae:Cluster label: 8\t count: 6\n",
      "INFO:analytics.cae:Cluster label: 7\t count: 4\n",
      "INFO:analytics.cae:Cluster label: 9\t count: 3\n",
      "INFO:analytics.cae:Index(['proj_id', 'cluster', 'caa_model_id', 'student_id', 'US', 'VS', 'd',\n",
      "       'u-duration', 'u-plt', 'u-plt1', 'u-hints_used', 'u-hints_avail',\n",
      "       'u-attempt', 'u-Hint', 'u-Incorrect', 'v-duration', 'v-plt', 'v-plt1',\n",
      "       'v-hints_used', 'v-hints_avail', 'v-attempt', 'v-Hint', 'v-Incorrect'],\n",
      "      dtype='object')\n",
      "INFO:analytics.cae:Cluster label: 0\t count: 39\n",
      "INFO:analytics.cae:Cluster label: 1\t count: 32\n",
      "INFO:analytics.cae:Cluster label: 4\t count: 18\n",
      "INFO:analytics.cae:Cluster label: 3\t count: 18\n",
      "INFO:analytics.cae:Cluster label: 2\t count: 12\n",
      "INFO:analytics.cae:Cluster label: 8\t count: 5\n",
      "INFO:analytics.cae:Cluster label: 5\t count: 4\n",
      "INFO:analytics.cae:Cluster label: 7\t count: 3\n",
      "INFO:analytics.cae:Cluster label: 6\t count: 3\n",
      "INFO:analytics.cae:Cluster label: 9\t count: 1\n",
      "INFO:analytics.cae:Index(['proj_id', 'cluster', 'caa_model_id', 'student_id', 'US', 'VS', 'd',\n",
      "       'u-duration', 'u-plt', 'u-plt1', 'u-hints_used', 'u-hints_avail',\n",
      "       'u-attempt', 'u-Hint', 'u-Incorrect', 'v-duration', 'v-plt', 'v-plt1',\n",
      "       'v-hints_used', 'v-hints_avail', 'v-attempt', 'v-Hint', 'v-Incorrect'],\n",
      "      dtype='object')\n",
      "INFO:analytics.cae:Cluster label: 0\t count: 37\n",
      "INFO:analytics.cae:Cluster label: 1\t count: 35\n",
      "INFO:analytics.cae:Cluster label: 2\t count: 25\n",
      "INFO:analytics.cae:Cluster label: 3\t count: 23\n",
      "INFO:analytics.cae:Cluster label: 6\t count: 11\n",
      "INFO:analytics.cae:Cluster label: 4\t count: 8\n",
      "INFO:analytics.cae:Cluster label: 9\t count: 5\n",
      "INFO:analytics.cae:Cluster label: 5\t count: 4\n",
      "INFO:analytics.cae:Cluster label: 10\t count: 3\n",
      "INFO:analytics.cae:Cluster label: 8\t count: 2\n",
      "INFO:analytics.cae:Index(['proj_id', 'cluster', 'caa_model_id', 'student_id', 'US', 'VS', 'd',\n",
      "       'u-duration', 'u-plt', 'u-plt1', 'u-hints_used', 'u-hints_avail',\n",
      "       'u-attempt', 'u-Hint', 'u-Incorrect', 'v-duration', 'v-plt', 'v-plt1',\n",
      "       'v-hints_used', 'v-hints_avail', 'v-attempt', 'v-Hint', 'v-Incorrect'],\n",
      "      dtype='object')\n"
     ]
    }
   ],
   "source": [
    "# Classify Test data\n",
    "n_neighbors = 10\n",
    "\n",
    "for bdesc in batch_desc:\n",
    "    test_batch = caa_batches[bdesc]['test']\n",
    "    train_batch = caa_batches[bdesc]['train']\n",
    "    test_distances = caa_clusters[bdesc]['test_distances']\n",
    "    \n",
    "    X = caa_clusters[bdesc]['train_distances']\n",
    "    train_cluster_labels = caa_clusters[bdesc]['train_clusters'].loc[:, ['proj_id', 'cluster']].copy()\n",
    "    train_cluster_labels.index = train_cluster_labels['proj_id']\n",
    "    train_cluster_labels.drop(columns=['proj_id'], inplace=True)\n",
    "    Y = pd.Series([train_cluster_labels.loc[pid][0] for pid in X.index], index=X.index)\n",
    "    \n",
    "    # Classify test projections with embedding cluster labels\n",
    "    clf = neighbors.KNeighborsClassifier(n_neighbors, metric='precomputed')\n",
    "    clf.fit(X.to_numpy(), Y.to_numpy())\n",
    "    Y_hat_test = clf.predict(test_distances)\n",
    "\n",
    "    #Format test data with labels for feeding to fitted regression model\n",
    "    test_clusters = pd.DataFrame({\"proj_id\": test_distances.index, \"cluster\": Y_hat_test})\n",
    "    pid_map = {pid: proj.caa_model_id for pid, proj in test_batch.projections.items()}\n",
    "    caa_map = {mdl._id: mdl for mdl in test_batch.mdls}\n",
    "    pids = pid_map.keys()\n",
    "    caa_mids = [pid_map[pid] for pid in pids]\n",
    "    sids = [caa_map[mid].student_id for mid in caa_mids]\n",
    "    pid_map = pd.DataFrame({\"proj_id\": pids, \"caa_model_id\": caa_mids, \"student_id\": sids})\n",
    "\n",
    "    # Assemble dataframe with CAE projections for each student\n",
    "    logger.debug(f\"premerge shape: {test_clusters.shape}\")\n",
    "    test_clusters = pd.merge(test_clusters, pid_map, on=\"proj_id\", how=\"inner\")\n",
    "    logger.debug(f\"post-merge shape: {test_clusters.shape}\")\n",
    "    cluster_counts = test_clusters['cluster'].value_counts()\n",
    "    for lbl in cluster_counts.index: \n",
    "        logger.info(f\"Cluster label: {lbl}\\t count: {cluster_counts[lbl]}\")\n",
    "\n",
    "    # Add columns for each projection axis(u&v) and weighting factor(d)\n",
    "    test_clusters.loc[:, 'US'] = test_clusters.apply(lambda x: test_batch.projections[x['proj_id']].u, axis=1)\n",
    "    test_clusters.loc[:, 'VS'] = test_clusters.apply(lambda x: test_batch.projections[x['proj_id']].v, axis=1)\n",
    "    test_clusters.loc[:, 'd'] = test_clusters.apply(lambda x: test_batch.projections[x['proj_id']].d[0], axis=1)\n",
    "\n",
    "    # Expand CAE projection axis components into individual columns\n",
    "    us = test_clusters.apply(lambda x: pd.Series(x['US'][0].tolist(), index=test_batch.col_names), axis=1)\n",
    "    new_colnames = {col: f\"u-{col}\" for col in us.columns}\n",
    "    u_cols = new_colnames.values()\n",
    "    us.rename(columns=new_colnames, inplace=True)\n",
    "    vs = test_clusters.apply(lambda x: pd.Series(x['VS'][0].tolist(), index=test_batch.col_names), axis=1)\n",
    "    new_colnames = {col: f\"v-{col}\" for col in vs.columns}\n",
    "    v_cols = new_colnames.values()\n",
    "    vs.rename(columns=new_colnames, inplace=True)\n",
    "    test_clusters = pd.concat([test_clusters, us, vs], axis=1)\n",
    "    logger.info(test_clusters.columns)\n",
    "    \n",
    "    caa_clusters[bdesc]['test_clusters'] = test_clusters"
   ]
  },
  {
   "cell_type": "markdown",
   "metadata": {},
   "source": [
    "#### Regression estimating Diligence"
   ]
  },
  {
   "cell_type": "code",
   "execution_count": 358,
   "metadata": {},
   "outputs": [
    {
     "name": "stderr",
     "output_type": "stream",
     "text": [
      "INFO:analytics.cae:************ Regression for student set: Simple diligent students *****************\n",
      "INFO:analytics.cae:                                 OLS Regression Results                                \n",
      "=======================================================================================\n",
      "Dep. Variable:              diligence   R-squared (uncentered):                   0.974\n",
      "Model:                            OLS   Adj. R-squared (uncentered):              0.972\n",
      "Method:                 Least Squares   F-statistic:                              543.6\n",
      "Date:                Tue, 12 Jan 2021   Prob (F-statistic):                   5.11e-109\n",
      "Time:                        18:51:46   Log-Likelihood:                         -43.722\n",
      "No. Observations:                 154   AIC:                                      107.4\n",
      "Df Residuals:                     144   BIC:                                      137.8\n",
      "Df Model:                          10                                                  \n",
      "Covariance Type:            nonrobust                                                  \n",
      "==============================================================================\n",
      "                 coef    std err          t      P>|t|      [0.025      0.975]\n",
      "------------------------------------------------------------------------------\n",
      "cluster_0      1.9168      0.073     26.214      0.000       1.772       2.061\n",
      "cluster_1      0.0115      0.097      0.118      0.906      -0.181       0.204\n",
      "cluster_2     -0.0849      0.127     -0.671      0.503      -0.335       0.165\n",
      "cluster_3     -0.0509      0.158     -0.322      0.748      -0.364       0.262\n",
      "cluster_4     -0.1387      0.203     -0.683      0.496      -0.540       0.263\n",
      "cluster_5      0.2044      0.358      0.572      0.568      -0.502       0.911\n",
      "cluster_6      0.0392      0.184      0.213      0.832      -0.325       0.403\n",
      "cluster_7     -0.5075      0.416     -1.220      0.225      -1.330       0.315\n",
      "cluster_8      0.3273      0.396      0.827      0.410      -0.455       1.110\n",
      "cluster_9     -0.3256      0.495     -0.658      0.511      -1.303       0.652\n",
      "==============================================================================\n",
      "Omnibus:                        6.536   Durbin-Watson:                   2.092\n",
      "Prob(Omnibus):                  0.038   Jarque-Bera (JB):                6.416\n",
      "Skew:                          -0.389   Prob(JB):                       0.0404\n",
      "Kurtosis:                       3.628   Cond. No.                         32.0\n",
      "==============================================================================\n",
      "\n",
      "Notes:\n",
      "[1] R² is computed without centering (uncentered) since the model does not contain a constant.\n",
      "[2] Standard Errors assume that the covariance matrix of the errors is correctly specified.\n",
      "INFO:analytics.cae:Mean square Error. Training: 0.10330573607269716\t Test: 0.06715947920995932\n"
     ]
    },
    {
     "data": {
      "image/png": "[encoded data removed]",
      "text/plain": [
       "<Figure size 864x288 with 2 Axes>"
      ]
     },
     "metadata": {
      "needs_background": "light"
     },
     "output_type": "display_data"
    },
    {
     "name": "stderr",
     "output_type": "stream",
     "text": [
      "INFO:analytics.cae:************ Regression for student set: Diligent Students with variable values *****************\n",
      "INFO:analytics.cae:                                 OLS Regression Results                                \n",
      "=======================================================================================\n",
      "Dep. Variable:              diligence   R-squared (uncentered):                   0.979\n",
      "Model:                            OLS   Adj. R-squared (uncentered):              0.978\n",
      "Method:                 Least Squares   F-statistic:                              661.6\n",
      "Date:                Tue, 12 Jan 2021   Prob (F-statistic):                   6.20e-112\n",
      "Time:                        18:51:49   Log-Likelihood:                         -30.129\n",
      "No. Observations:                 149   AIC:                                      80.26\n",
      "Df Residuals:                     139   BIC:                                      110.3\n",
      "Df Model:                          10                                                  \n",
      "Covariance Type:            nonrobust                                                  \n",
      "==============================================================================\n",
      "                 coef    std err          t      P>|t|      [0.025      0.975]\n",
      "------------------------------------------------------------------------------\n",
      "cluster_0      1.8089      0.089     20.248      0.000       1.632       1.986\n",
      "cluster_1      0.1390      0.113      1.231      0.220      -0.084       0.362\n",
      "cluster_2     -0.4651      0.159     -2.919      0.004      -0.780      -0.150\n",
      "cluster_3      0.1553      0.160      0.973      0.332      -0.160       0.471\n",
      "cluster_4      0.0198      0.186      0.106      0.915      -0.348       0.387\n",
      "cluster_5     -0.0578      0.251     -0.231      0.818      -0.554       0.438\n",
      "cluster_6     -0.5464      0.369     -1.480      0.141      -1.277       0.184\n",
      "cluster_7      0.4037      0.464      0.869      0.386      -0.514       1.322\n",
      "cluster_8      0.5987      0.342      1.750      0.082      -0.078       1.275\n",
      "cluster_9     -0.2720      0.549     -0.495      0.621      -1.358       0.814\n",
      "==============================================================================\n",
      "Omnibus:                        0.469   Durbin-Watson:                   2.287\n",
      "Prob(Omnibus):                  0.791   Jarque-Bera (JB):                0.606\n",
      "Skew:                           0.008   Prob(JB):                        0.739\n",
      "Kurtosis:                       2.688   Cond. No.                         34.2\n",
      "==============================================================================\n",
      "\n",
      "Notes:\n",
      "[1] R² is computed without centering (uncentered) since the model does not contain a constant.\n",
      "[2] Standard Errors assume that the covariance matrix of the errors is correctly specified.\n",
      "INFO:analytics.cae:Mean square Error. Training: 0.0877327981501877\t Test: 0.1069420444781655\n"
     ]
    },
    {
     "data": {
      "image/png": "[encoded data removed]",
      "text/plain": [
       "<Figure size 864x288 with 2 Axes>"
      ]
     },
     "metadata": {
      "needs_background": "light"
     },
     "output_type": "display_data"
    },
    {
     "name": "stderr",
     "output_type": "stream",
     "text": [
      "INFO:analytics.cae:************ Regression for student set: Diligent Students with domain-level self-efficacy *****************\n",
      "INFO:analytics.cae:                                 OLS Regression Results                                \n",
      "=======================================================================================\n",
      "Dep. Variable:              diligence   R-squared (uncentered):                   0.978\n",
      "Model:                            OLS   Adj. R-squared (uncentered):              0.976\n",
      "Method:                 Least Squares   F-statistic:                              569.3\n",
      "Date:                Tue, 12 Jan 2021   Prob (F-statistic):                   6.29e-111\n",
      "Time:                        18:51:51   Log-Likelihood:                         -29.471\n",
      "No. Observations:                 152   AIC:                                      80.94\n",
      "Df Residuals:                     141   BIC:                                      114.2\n",
      "Df Model:                          11                                                  \n",
      "Covariance Type:            nonrobust                                                  \n",
      "==============================================================================\n",
      "                 coef    std err          t      P>|t|      [0.025      0.975]\n",
      "------------------------------------------------------------------------------\n",
      "cluster_0      1.9334      0.110     17.600      0.000       1.716       2.151\n",
      "cluster_1     -0.0632      0.133     -0.477      0.634      -0.326       0.199\n",
      "cluster_2     -0.2080      0.159     -1.305      0.194      -0.523       0.107\n",
      "cluster_3      0.1580      0.132      1.198      0.233      -0.103       0.419\n",
      "cluster_4      0.1984      0.173      1.146      0.254      -0.144       0.541\n",
      "cluster_5      0.3499      0.303      1.156      0.250      -0.249       0.948\n",
      "cluster_6     -0.3941      0.158     -2.493      0.014      -0.707      -0.082\n",
      "cluster_7     -0.5619      0.829     -0.678      0.499      -2.201       1.077\n",
      "cluster_8      0.2437      0.446      0.547      0.585      -0.637       1.125\n",
      "cluster_9     -0.0273      0.364     -0.075      0.940      -0.746       0.692\n",
      "cluster_10     0.1211      0.480      0.253      0.801      -0.827       1.069\n",
      "==============================================================================\n",
      "Omnibus:                        0.137   Durbin-Watson:                   1.754\n",
      "Prob(Omnibus):                  0.934   Jarque-Bera (JB):                0.299\n",
      "Skew:                          -0.000   Prob(JB):                        0.861\n",
      "Kurtosis:                       2.783   Cond. No.                         54.3\n",
      "==============================================================================\n",
      "\n",
      "Notes:\n",
      "[1] R² is computed without centering (uncentered) since the model does not contain a constant.\n",
      "[2] Standard Errors assume that the covariance matrix of the errors is correctly specified.\n",
      "INFO:analytics.cae:Mean square Error. Training: 0.08628441695987324\t Test: 0.08708041617099727\n"
     ]
    },
    {
     "data": {
      "image/png": "[encoded data removed]",
      "text/plain": [
       "<Figure size 864x288 with 2 Axes>"
      ]
     },
     "metadata": {
      "needs_background": "light"
     },
     "output_type": "display_data"
    }
   ],
   "source": [
    "# Regression\n",
    "\n",
    "for bdesc in batch_desc:\n",
    "    stu_cae = caa_clusters[bdesc]['train_clusters']\n",
    "    test_sids = get_test_data(bdesc)\n",
    "    train_sids = get_train_data(bdesc)\n",
    "    test_clusters = caa_clusters[bdesc]['test_clusters']\n",
    "    \n",
    "    train_students = [lmapper.get_modlearner_from_db(stu_id) for stu_id in train_sids]\n",
    "    train_stu_dict = {stu._id: stu for stu in train_students}\n",
    "\n",
    "    # Format training data for regression\n",
    "    train_d = get_reg_df(stu_cae, train_stu_dict)\n",
    "    \n",
    "    # Regression on Training Data\n",
    "    xcols = [col for col in train_d.columns.tolist() if \"cluster\" in col]\n",
    "    ycol = \"diligence\"\n",
    "    X_train = train_d.loc[:, xcols]\n",
    "    Y_train = train_d.loc[:, ycol]\n",
    "    mdl = sm.OLS(Y_train, X_train).fit()\n",
    "    \n",
    "    logger.info(f\"************ Regression for student set: {bdesc} *****************\")\n",
    "    logger.info(mdl.summary())\n",
    "\n",
    "    Y_hat_train = mdl.predict(X_train)\n",
    "    mse_train = mean_squared_error(Y_train, Y_hat_train)\n",
    "\n",
    "    # Predictions of model on Test Data\n",
    "    test_students = [lmapper.get_modlearner_from_db(stu_id) for stu_id in test_sids]\n",
    "    test_stu_dict = {stu._id: stu for stu in test_students}\n",
    "    test_d = get_reg_df(test_clusters, test_stu_dict, train_d.columns)\n",
    "\n",
    "    xcols = [col for col in test_d.columns.tolist() if \"cluster\" in col]\n",
    "    ycol = \"diligence\"\n",
    "    X_test = test_d.loc[:, xcols]\n",
    "    Y_test = test_d.loc[:, ycol]\n",
    "    Y_hat_test = mdl.predict(X_test.to_numpy())\n",
    "    mse_test = mean_squared_error(Y_test, Y_hat_test)\n",
    "\n",
    "\n",
    "    logger.info(f\"Mean square Error. Training: {mse_train}\\t Test: {mse_test}\")\n",
    "    \n",
    "    # Plot Predictions\n",
    "    xmin = np.min([np.min([np.min(Y_train), np.min(Y_test)]), np.min([np.min(Y_hat_train), np.min(Y_hat_test)])])\n",
    "    xmax = np.max([np.max([np.max(Y_train), np.max(Y_test)]), np.max([np.max(Y_hat_train), np.max(Y_hat_test)])])\n",
    "\n",
    "    ymin = xmin\n",
    "    ymax = xmax\n",
    "\n",
    "\n",
    "    plt.figure(figsize=(12,4))\n",
    "    plt.subplot(1,2,1)\n",
    "    plt.scatter(Y_train, Y_hat_train)\n",
    "    plt.title(f\"{bdesc} -- train est\")\n",
    "    plt.xlabel(\"Diligence\")\n",
    "    plt.ylabel(\"Estimated Diligence\")\n",
    "    plt.xlim([xmin, xmax])\n",
    "    plt.ylim([ymin, ymax])\n",
    "\n",
    "    plt.subplot(1,2,2)\n",
    "    plt.scatter(Y_test, Y_hat_test)\n",
    "    plt.title(f\"{bdesc} -- test est\")\n",
    "    plt.xlabel(\"Diligence\")\n",
    "    plt.ylabel(\"Estimated Diligence\")\n",
    "    plt.xlim([xmin, xmax])\n",
    "    plt.ylim([ymin, ymax])\n",
    "    \n",
    "    plt.show()"
   ]
  },
  {
   "cell_type": "markdown",
   "metadata": {},
   "source": [
    "## Comparing Diligence Estimates"
   ]
  },
  {
   "cell_type": "code",
   "execution_count": null,
   "metadata": {},
   "outputs": [],
   "source": [
    "print(\"test\")"
   ]
  },
  {
   "cell_type": "markdown",
   "metadata": {},
   "source": [
    "# Summary of Results"
   ]
  },
  {
   "cell_type": "markdown",
   "metadata": {},
   "source": [
    "Estimating Diligence\n",
    "\n",
    "Simple Diligent Students\n",
    "Freq of Off Task\n",
    " R-squared:                       0.268             \n",
    "==============================================================================\n",
    "                 coef    std err          t      P>|t|      [0.025      0.975]\n",
    "------------------------------------------------------------------------------\n",
    "const          2.4536      0.066     37.251      0.000       2.323       2.584\n",
    "Off Task      -0.0030      0.000     -7.609      0.000      -0.004      -0.002\n",
    "\n",
    "MSE train: 0.07774522739314112\t test: 0.061369836999304025 ---\n",
    "\n",
    "Proportion of Off Task\n",
    "R-squared:                       0.773\n",
    "================================================================================\n",
    "                   coef    std err          t      P>|t|      [0.025      0.975]\n",
    "--------------------------------------------------------------------------------\n",
    "const            3.5573      0.069     51.542      0.000       3.421       3.694\n",
    "Pct Off Task   -23.7765      1.025    -23.204      0.000     -25.800     -21.753\n",
    "\n",
    "MSE train: 0.024101105255305937\t test: 0.01882725256654274 ---\n",
    "\n",
    "Student-level CAE\n",
    "R-squared:                   0.974                                 \n",
    "==============================================================================\n",
    "                 coef    std err          t      P>|t|      [0.025      0.975]\n",
    "------------------------------------------------------------------------------\n",
    "cluster_0      1.9168      0.073     26.214      0.000       1.772       2.061\n",
    "cluster_1      0.0115      0.097      0.118      0.906      -0.181       0.204\n",
    "cluster_2     -0.0849      0.127     -0.671      0.503      -0.335       0.165\n",
    "cluster_3     -0.0509      0.158     -0.322      0.748      -0.364       0.262\n",
    "cluster_4     -0.1387      0.203     -0.683      0.496      -0.540       0.263\n",
    "cluster_5      0.2044      0.358      0.572      0.568      -0.502       0.911\n",
    "cluster_6      0.0392      0.184      0.213      0.832      -0.325       0.403\n",
    "cluster_7     -0.5075      0.416     -1.220      0.225      -1.330       0.315\n",
    "cluster_8      0.3273      0.396      0.827      0.410      -0.455       1.110\n",
    "cluster_9     -0.3256      0.495     -0.658      0.511      -1.303       0.652\n",
    "\n",
    "Mean square Error. Training: 0.10330573607269716\t Test: 0.06715947920995932"
   ]
  },
  {
   "cell_type": "markdown",
   "metadata": {},
   "source": [
    "Diligent with Self Eff\n",
    "Freq of Off Task\n",
    "R-squared:                       0.117\n",
    "==============================================================================\n",
    "                 coef    std err          t      P>|t|      [0.025      0.975]\n",
    "------------------------------------------------------------------------------\n",
    "const          2.2208      0.061     36.417      0.000       2.100       2.341\n",
    "Off Task      -0.0015      0.000     -4.579      0.000      -0.002      -0.001\n",
    "MSE train: 0.07349436743083963\t test: 0.07244362732771051 ---\n",
    "\n",
    "Prportion of Off Task\n",
    "R-squared:                       0.585                                  \n",
    "================================================================================\n",
    "                   coef    std err          t      P>|t|      [0.025      0.975]\n",
    "--------------------------------------------------------------------------------\n",
    "const            3.0817      0.077     40.186      0.000       2.930       3.233\n",
    "Pct Off Task   -17.0734      1.145    -14.912      0.000     -19.335     -14.812\n",
    "MSE train: 0.03457898288803763\t test: 0.03495325673500937 ---\n",
    "\n",
    "Student-level CAE\n",
    "R-squared (uncentered):                   0.978\n",
    "==============================================================================\n",
    "                 coef    std err          t      P>|t|      [0.025      0.975]\n",
    "------------------------------------------------------------------------------\n",
    "cluster_0      1.9334      0.110     17.600      0.000       1.716       2.151\n",
    "cluster_1     -0.0632      0.133     -0.477      0.634      -0.326       0.199\n",
    "cluster_2     -0.2080      0.159     -1.305      0.194      -0.523       0.107\n",
    "cluster_3      0.1580      0.132      1.198      0.233      -0.103       0.419\n",
    "cluster_4      0.1984      0.173      1.146      0.254      -0.144       0.541\n",
    "cluster_5      0.3499      0.303      1.156      0.250      -0.249       0.948\n",
    "cluster_6     -0.3941      0.158     -2.493      0.014      -0.707      -0.082\n",
    "cluster_7     -0.5619      0.829     -0.678      0.499      -2.201       1.077\n",
    "cluster_8      0.2437      0.446      0.547      0.585      -0.637       1.125\n",
    "cluster_9     -0.0273      0.364     -0.075      0.940      -0.746       0.692\n",
    "cluster_10     0.1211      0.480      0.253      0.801      -0.827       1.069\n",
    "Mean square Error. Training: 0.08628441695987324\t Test: 0.08708041617099727"
   ]
  },
  {
   "cell_type": "markdown",
   "metadata": {},
   "source": [
    "Diligent with Variable Values\n",
    "R-squared:                       0.108\n",
    "==============================================================================\n",
    "                 coef    std err          t      P>|t|      [0.025      0.975]\n",
    "------------------------------------------------------------------------------\n",
    "const          2.1613      0.036     59.383      0.000       2.089       2.233\n",
    "Off Task      -0.0003   6.19e-05     -4.379      0.000      -0.000      -0.000\n",
    "MSE train: 0.08204510192737742\t test: 0.0999426924595668 ---\n",
    "\n",
    "Proportion of Off Task\n",
    " R-squared:                       0.167    \n",
    "================================================================================\n",
    "                   coef    std err          t      P>|t|      [0.025      0.975]\n",
    "--------------------------------------------------------------------------------\n",
    "const            2.2215      0.039     56.291      0.000       2.144       2.299\n",
    "Pct Off Task    -1.2874      0.229     -5.633      0.000      -1.739      -0.836\n",
    "MSE train: 0.07661662990542648\t test: 0.09838867761509369 ---\n",
    "\n",
    "R-squared (uncentered):                   0.979\n",
    "==============================================================================\n",
    "                 coef    std err          t      P>|t|      [0.025      0.975]\n",
    "------------------------------------------------------------------------------\n",
    "cluster_0      1.8089      0.089     20.248      0.000       1.632       1.986\n",
    "cluster_1      0.1390      0.113      1.231      0.220      -0.084       0.362\n",
    "cluster_2     -0.4651      0.159     -2.919      0.004      -0.780      -0.150\n",
    "cluster_3      0.1553      0.160      0.973      0.332      -0.160       0.471\n",
    "cluster_4      0.0198      0.186      0.106      0.915      -0.348       0.387\n",
    "cluster_5     -0.0578      0.251     -0.231      0.818      -0.554       0.438\n",
    "cluster_6     -0.5464      0.369     -1.480      0.141      -1.277       0.184\n",
    "cluster_7      0.4037      0.464      0.869      0.386      -0.514       1.322\n",
    "cluster_8      0.5987      0.342      1.750      0.082      -0.078       1.275\n",
    "cluster_9     -0.2720      0.549     -0.495      0.621      -1.358       0.814\n",
    "Mean square Error. Training: 0.0877327981501877\t Test: 0.1069420444781655"
   ]
  },
  {
   "cell_type": "markdown",
   "metadata": {},
   "source": [
    "# Write results to file"
   ]
  },
  {
   "cell_type": "code",
   "execution_count": 15,
   "metadata": {},
   "outputs": [
    {
     "name": "stderr",
     "output_type": "stream",
     "text": [
      "INFO:analytics.cae:Creating output directory: /rdata/Sandbox/MotivSim/test\n",
      "INFO:analytics.cae:Creating output directory: /rdata/Sandbox/MotivSim/test/data\n",
      "INFO:analytics.cae:Creating output directory: /rdata/Sandbox/MotivSim/test/data/simple_compare_dil_est\n",
      "INFO:analytics.cae:Writing db output to: /rdata/Sandbox/MotivSim/test/data/simple_compare_dil_est\n",
      "INFO:log_db.mongo:writing 67 documents to file: /rdata/Sandbox/MotivSim/test/data/simple_compare_dil_est/kcs.json\n",
      "INFO:log_db.mongo:writing 8 documents to file: /rdata/Sandbox/MotivSim/test/data/simple_compare_dil_est/caa_batches.json\n",
      "INFO:log_db.mongo:writing 3 documents to file: /rdata/Sandbox/MotivSim/test/data/simple_compare_dil_est/simbatches.json\n",
      "INFO:log_db.mongo:writing 800 documents to file: /rdata/Sandbox/MotivSim/test/data/simple_compare_dil_est/caa_models.json\n",
      "INFO:log_db.mongo:writing 1 documents to file: /rdata/Sandbox/MotivSim/test/data/simple_compare_dil_est/domains.json\n",
      "INFO:log_db.mongo:writing 600 documents to file: /rdata/Sandbox/MotivSim/test/data/simple_compare_dil_est/students.json\n",
      "INFO:log_db.mongo:writing 2 documents to file: /rdata/Sandbox/MotivSim/test/data/simple_compare_dil_est/units.json\n",
      "INFO:log_db.mongo:writing 1589503 documents to file: /rdata/Sandbox/MotivSim/test/data/simple_compare_dil_est/decisions.json\n",
      "INFO:log_db.mongo:writing 1 documents to file: /rdata/Sandbox/MotivSim/test/data/simple_compare_dil_est/curriculums.json\n",
      "INFO:log_db.mongo:writing 7577 documents to file: /rdata/Sandbox/MotivSim/test/data/simple_compare_dil_est/steps.json\n",
      "INFO:log_db.mongo:writing 600 documents to file: /rdata/Sandbox/MotivSim/test/data/simple_compare_dil_est/finalsimstudents.json\n",
      "INFO:log_db.mongo:writing 1904 documents to file: /rdata/Sandbox/MotivSim/test/data/simple_compare_dil_est/problems.json\n",
      "INFO:log_db.mongo:writing 1589503 documents to file: /rdata/Sandbox/MotivSim/test/data/simple_compare_dil_est/actions.json\n",
      "INFO:log_db.mongo:writing 14 documents to file: /rdata/Sandbox/MotivSim/test/data/simple_compare_dil_est/sections.json\n",
      "INFO:log_db.mongo:writing 1433293 documents to file: /rdata/Sandbox/MotivSim/test/data/simple_compare_dil_est/tutor_events.json\n",
      "INFO:analytics.cae:Done\n"
     ]
    }
   ],
   "source": [
    "#result_out = os.path.join(base_dir, )\n",
    "out_dirs = [\"test\", \"data\", \"simple_compare_dil_est\"]\n",
    "out_path = base_dir\n",
    "for out_dir in out_dirs:\n",
    "    out_path = os.path.join(out_path, out_dir)\n",
    "    if not os.path.exists(out_path):\n",
    "        logger.info(f\"Creating output directory: {out_path}\")\n",
    "        os.mkdir(out_path)\n",
    "logger.info(f\"Writing db output to: {out_path}\")\n",
    "db_util.dump_db(data_dir=out_path)\n",
    "logger.info(\"Done\")\n"
   ]
  }
 ],
 "metadata": {
  "kernelspec": {
   "display_name": "Python 3",
   "language": "python",
   "name": "python3"
  },
  "language_info": {
   "codemirror_mode": {
    "name": "ipython",
    "version": 3
   },
   "file_extension": ".py",
   "mimetype": "text/x-python",
   "name": "python",
   "nbconvert_exporter": "python",
   "pygments_lexer": "ipython3",
   "version": "3.8.5"
  }
 },
 "nbformat": 4,
 "nbformat_minor": 4
}
