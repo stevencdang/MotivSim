{
 "cells": [
  {
   "cell_type": "markdown",
   "metadata": {},
   "source": [
    "# EDA of Sim data"
   ]
  },
  {
   "cell_type": "markdown",
   "metadata": {},
   "source": [
    "Validating behavioral expectations of session sim"
   ]
  },
  {
   "cell_type": "markdown",
   "metadata": {},
   "source": [
    "## Setup"
   ]
  },
  {
   "cell_type": "code",
   "execution_count": 1,
   "metadata": {},
   "outputs": [],
   "source": [
    "import sys\n",
    "sys.path.append(\"../lib\")"
   ]
  },
  {
   "cell_type": "code",
   "execution_count": 2,
   "metadata": {},
   "outputs": [],
   "source": [
    "import math\n",
    "import random\n",
    "import uuid\n",
    "import os\n",
    "import copy\n",
    "import itertools\n",
    "from collections.abc import Iterable\n",
    "import datetime as dt\n",
    "\n",
    "import numpy as np\n",
    "import pandas as pd\n",
    "import matplotlib.pyplot as plt\n",
    "\n",
    "from scipy.optimize import Bounds\n",
    "from scipy.optimize import minimize\n",
    "from scipy import optimize\n",
    "from scipy.stats import pearsonr\n",
    "\n",
    "from sklearn.cluster import DBSCAN\n",
    "from sklearn.metrics import mean_squared_error\n",
    "from sklearn.decomposition import FactorAnalysis\n",
    "\n",
    "from factor_analyzer.factor_analyzer import calculate_kmo\n",
    "from factor_analyzer import FactorAnalyzer\n",
    "\n",
    "import statsmodels.api as sm\n",
    "\n"
   ]
  },
  {
   "cell_type": "code",
   "execution_count": 3,
   "metadata": {},
   "outputs": [],
   "source": [
    "import logging\n",
    "\n",
    "#logging.basicConfig(level=logging.DEBUG)\n",
    "logging.basicConfig(level=logging.INFO)\n",
    "#logging.basicConfig(level=logging.WARNING)\n",
    "\n",
    "logger = logging.getLogger(\"main\")"
   ]
  },
  {
   "cell_type": "code",
   "execution_count": 4,
   "metadata": {},
   "outputs": [
    {
     "name": "stderr",
     "output_type": "stream",
     "text": [
      "INFO:main:Test info\n",
      "WARNING:main:Test warning\n"
     ]
    }
   ],
   "source": [
    "#logging.getLogger().setLevel(logging.DEBUG)\n",
    "logging.getLogger().setLevel(logging.INFO)\n",
    "#logging.getLogger().setLevel(logging.WARNING)\n",
    "logger.debug(\"Test debug\")\n",
    "logger.info(\"Test info\")\n",
    "logger.warning(\"Test warning\")"
   ]
  },
  {
   "cell_type": "code",
   "execution_count": 5,
   "metadata": {},
   "outputs": [],
   "source": [
    "# from tutor.domain import Domain\n",
    "from tutor.curriculum_factory import CurriculumFactory\n",
    "from tutor.simple_curriculum import SimpleCurriculum\n",
    "from tutor.tutor import SimpleTutor\n",
    "from tutor.action import Attempt, HintRequest"
   ]
  },
  {
   "cell_type": "code",
   "execution_count": 6,
   "metadata": {},
   "outputs": [],
   "source": [
    "from learner.selfeff_learner import SelfEfficacyLearner\n",
    "from learner.modular_learner import ModularLearner\n",
    "from learner.cognition import *\n",
    "from learner.decider import *"
   ]
  },
  {
   "cell_type": "code",
   "execution_count": 7,
   "metadata": {},
   "outputs": [],
   "source": [
    "from simulate.modlearner_simulation import ModLearnerSimulation\n",
    "from simulate.simulation import *"
   ]
  },
  {
   "cell_type": "code",
   "execution_count": 8,
   "metadata": {},
   "outputs": [],
   "source": [
    "from analytics.student_stats import *\n",
    "from analytics.cae import *\n",
    "from analytics.featurization import *\n",
    "from analytics.batch import *"
   ]
  },
  {
   "cell_type": "code",
   "execution_count": 9,
   "metadata": {},
   "outputs": [],
   "source": [
    "from log_db import mongo\n",
    "from log_db.curriculum_mapper import DB_Curriculum_Mapper\n",
    "from log_db.learner_mapper import DBLearnerMapper"
   ]
  },
  {
   "cell_type": "code",
   "execution_count": 10,
   "metadata": {},
   "outputs": [],
   "source": [
    "from CanonicalAutocorrelationAnalysis.model.caa import CAAComputation\n",
    "from CanonicalAutocorrelationAnalysis.model.caaObject import *\n",
    "from CanonicalAutocorrelationAnalysis.model.utils import l1Norm, l2Norm, r2Compute"
   ]
  },
  {
   "cell_type": "code",
   "execution_count": 11,
   "metadata": {},
   "outputs": [
    {
     "name": "stderr",
     "output_type": "stream",
     "text": [
      "INFO:analytics.batch:Base directory for the project:\n",
      "/rdata/Sandbox/MotivSim\n"
     ]
    }
   ],
   "source": [
    "# Get path to current project directory\n",
    "cwd = os.path.abspath(\".\")\n",
    "base_dir = os.path.abspath(os.path.join(cwd, os.pardir))\n",
    "logger.info(\"Base directory for the project:\\n%s\" % base_dir)"
   ]
  },
  {
   "cell_type": "code",
   "execution_count": 12,
   "metadata": {},
   "outputs": [
    {
     "name": "stderr",
     "output_type": "stream",
     "text": [
      "INFO:analytics.batch:Writing simulation results to directory: /rdata/Sandbox/MotivSim/test/data/sim-96709ec6-2740-4d16-a811-29ee13b6bae0\n",
      "INFO:analytics.batch:got db params: {'settingId': 'motivsim', 'url': 'localhost', 'port': '27017', 'name': 'motivsim', 'user': '', 'pswd': ''}\n"
     ]
    }
   ],
   "source": [
    "# Setup connection to database\n",
    "data_out = \"sim-%s\" % str(uuid.uuid4())\n",
    "data_path = os.path.join(base_dir,\"test\", \"data\", data_out)\n",
    "logger.info(\"Writing simulation results to directory: %s\" % data_path)\n",
    "db_name = \"motivsim\"\n",
    "db_params  = mongo.get_db_params(db_name)\n",
    "logger.info(\"got db params: %s\" % str(db_params))\n",
    "db_util = mongo.Data_Utility(data_path, db_params)\n",
    "db = db_util.db"
   ]
  },
  {
   "cell_type": "code",
   "execution_count": 13,
   "metadata": {},
   "outputs": [
    {
     "name": "stderr",
     "output_type": "stream",
     "text": [
      "INFO:log_db.mongo:collection name, kcs, has 0 documents\n",
      "INFO:log_db.mongo:collection name, caa_batches, has 0 documents\n",
      "INFO:log_db.mongo:collection name, simbatches, has 0 documents\n",
      "INFO:log_db.mongo:collection name, sessions, has 0 documents\n",
      "INFO:log_db.mongo:collection name, caa_models, has 0 documents\n",
      "INFO:log_db.mongo:collection name, domains, has 0 documents\n",
      "INFO:log_db.mongo:collection name, students, has 0 documents\n",
      "INFO:log_db.mongo:collection name, units, has 0 documents\n",
      "INFO:log_db.mongo:collection name, decisions, has 0 documents\n",
      "INFO:log_db.mongo:collection name, curriculums, has 0 documents\n",
      "INFO:log_db.mongo:collection name, steps, has 0 documents\n",
      "INFO:log_db.mongo:collection name, finalsimstudents, has 0 documents\n",
      "INFO:log_db.mongo:collection name, problems, has 0 documents\n",
      "INFO:log_db.mongo:collection name, actions, has 0 documents\n",
      "INFO:log_db.mongo:collection name, sections, has 0 documents\n",
      "INFO:log_db.mongo:collection name, tutor_events, has 0 documents\n",
      "INFO:log_db.mongo:collection name, class_sessions, has 0 documents\n"
     ]
    }
   ],
   "source": [
    "# Test db connection\n",
    "db_util.peak()"
   ]
  },
  {
   "cell_type": "code",
   "execution_count": 14,
   "metadata": {},
   "outputs": [
    {
     "name": "stderr",
     "output_type": "stream",
     "text": [
      "INFO:analytics.batch:Clearing database before starting new simulation\n"
     ]
    }
   ],
   "source": [
    "clear_db = True\n",
    "if clear_db:\n",
    "    logger.info(\"Clearing database before starting new simulation\")\n",
    "    db_util.clear_db()\n",
    "else:\n",
    "    logger.info(\"Skipping Clearing database\")"
   ]
  },
  {
   "cell_type": "markdown",
   "metadata": {},
   "source": [
    "## 1. Simulating learners"
   ]
  },
  {
   "cell_type": "code",
   "execution_count": 15,
   "metadata": {},
   "outputs": [],
   "source": [
    "num_students = 200"
   ]
  },
  {
   "cell_type": "code",
   "execution_count": 16,
   "metadata": {},
   "outputs": [],
   "source": [
    "def get_cog_params():\n",
    "    ability = -2\n",
    "    while (ability < -1) or (ability > 1):\n",
    "        ability = np.random.normal(0, 0.6)\n",
    "    return {\"ability\": ability}\n",
    "\n",
    "def gen_students(num_students, domain, curric, \n",
    "                 cog_mod, cog_params, dec_mod, dec_params):\n",
    "    stus = []\n",
    "    for i in range(num_students):\n",
    "        cp = cog_params()\n",
    "        cog = cog_mod(domain, **cp)\n",
    "        dp = dec_params()\n",
    "        dec = dec_mod(**dp)\n",
    "        decider = DiligentDecider(dec)\n",
    "        stu = ModularLearner(domain, cog, decider)\n",
    "        stus.append(stu)\n",
    "        \n",
    "    return stus\n",
    "\n",
    "def simulate_students(curric, students, batch):    \n",
    "    \n",
    "    env = simpy.Environment()\n",
    "\n",
    "    mastery_thres = 0.9\n",
    "    m_ses_len = 40\n",
    "    sd_ses_len = 8\n",
    "    max_ses_len = 60\n",
    "    sim_start = dt.datetime.now()\n",
    "\n",
    "    mod = round(len(students) / 10)\n",
    "    for i, stu in enumerate(students):\n",
    "        if i % mod == 0:\n",
    "            logger.info(\"Simulating student #%i\" % i)\n",
    "        # Create associated tutor\n",
    "        tutor = SimpleTutor(curric, stu._id, mastery_thres)\n",
    "\n",
    "        # Initialize simulation processes\n",
    "        num_sessions = 15\n",
    "        sim = SingleStudentSim(db, env, sim_start, stu, tutor,\n",
    "                               num_sessions, m_ses_len, sd_ses_len, max_ses_len)\n",
    "        batch.add_sim(sim)\n",
    "\n",
    "        env.process(sim.run())\n",
    "\n",
    "    env.run()\n",
    "                \n",
    "    logger.info(\"Inserting %i simulated students to db\" % len(students))\n",
    "    result = db.finalsimstudents.insert_many([stu.to_dict() for stu in students])\n",
    "    logger.info(\"Db insert success: %s\" % result.acknowledged)\n",
    "\n",
    "    logger.info(\"Inserting simulation batch to db\")\n",
    "    result = db.simbatches.insert_one(batch.to_dict())\n",
    "    logger.info(\"Db insert success: %s\" % result.acknowledged)\n",
    "\n",
    "    return batch, students\n"
   ]
  },
  {
   "cell_type": "code",
   "execution_count": 17,
   "metadata": {},
   "outputs": [],
   "source": [
    "new_curric = None\n",
    "new_domain = None"
   ]
  },
  {
   "cell_type": "code",
   "execution_count": 18,
   "metadata": {},
   "outputs": [],
   "source": [
    "def get_domain_params(params=None):\n",
    "    if params is None:\n",
    "        params = [0.7 , 0.05, 0.05, 0.01, 0.25, 0.05, 0.3 , 0.1 , 0.5 , 0.02]\n",
    "    param_keys = ['m_l0', 'sd_l0', 'm_l0_sd', 'sd_l0_sd', 'm_t',\n",
    "                'sd_t', 'm_s','sd_s', 'm_g', 'sd_g']\n",
    "    domain_params = {k:v for k,v in zip(param_keys, params)}\n",
    "    return domain_params\n",
    "\n",
    "def gen_test_curric(db, db_params):\n",
    "    global new_curric, new_domain\n",
    "    if new_curric is None:\n",
    "        logger.info(\"Generating new curriculum\")\n",
    "        \n",
    "        domain_params = get_domain_params()\n",
    "\n",
    "\n",
    "        curric_params = {'num_units': 20,\n",
    "                         'mean_sections': 4,\n",
    "                         'stdev_sections': 2,\n",
    "                         'mean_unit_kcs': 22,\n",
    "                         'stdev_unit_kcs': 23,\n",
    "                         'section_kcs_lambda': 6,\n",
    "                         'mean_steps': 10,\n",
    "                         'stdev_steps': 4,\n",
    "                         'mean_prob_kcs': 6,\n",
    "                         'stdev_prob_kcs': 3,\n",
    "                         'num_practice': 100\n",
    "                        }\n",
    "\n",
    "        domain, curric = CurriculumFactory.gen_curriculum(domain_params, curric_params)\n",
    "        db.domains.insert_one(domain.to_dict())\n",
    "        db.kcs.insert_many([kc.__dict__ for kc in domain.kcs])\n",
    "        curric_util = DB_Curriculum_Mapper(db_params)\n",
    "        curric_util.write_to_db(curric)\n",
    "        \n",
    "        new_curric = curric\n",
    "        new_domain = domain\n",
    "\n",
    "        return domain, curric\n",
    "    else:\n",
    "        logger.info(\"New curriculum already generated\")\n",
    "        return new_domain, new_curric"
   ]
  },
  {
   "cell_type": "code",
   "execution_count": 19,
   "metadata": {},
   "outputs": [],
   "source": [
    "def get_sim_batch(desc):\n",
    "    simbatch = db.simbatches.find_one({\"desc\": desc})\n",
    "    if simbatch is None:\n",
    "        logger.info(\"Generating new simulation. None found in db\")\n",
    "\n",
    "        # generate simualted data for test\n",
    "        domain, curric = gen_test_curric(db, db_params)\n",
    "        students = gen_students(num_students, domain, curric, \n",
    "                                cog_mod, get_cog_params, \n",
    "                                dec_mod, get_dec_params)   \n",
    "        logger.info(f\"Persisting {len(students)} initialized students to db\")\n",
    "        db.students.insert_many([stu.to_dict() for stu in students])\n",
    "        batch = SimulationBatch(desc)\n",
    "        simulate_students(curric, students, batch)    \n",
    "        logger.info(f\"Simulated {len(students)} in batch with id: {batch._id}\")\n",
    "    else:\n",
    "        logger.info(f\"Found simulation batch: {str(simbatch['desc'])}\")\n",
    "        lmapper = DBLearnerMapper(db)\n",
    "        students = [lmapper.get_modlearner_from_db(sid) for sid in simbatch['student_ids']]\n",
    "        batch = SimulationBatch.from_dict(simbatch)\n",
    "        logger.info(f\"Recovered {len(students)} students from batch with id: {batch._id}\")\n",
    "        \n",
    "    return students, batch"
   ]
  },
  {
   "cell_type": "markdown",
   "metadata": {},
   "source": [
    "### Simple Diligent students"
   ]
  },
  {
   "cell_type": "code",
   "execution_count": 20,
   "metadata": {},
   "outputs": [],
   "source": [
    "sim_batch_desc = \"Simple diligent students\"\n",
    "cog_mod = BiasSkillCognition\n",
    "dec_mod = EVDecider\n",
    "\n",
    "def get_cog_params():\n",
    "    # Helper for getting parameters for BiasSkillCognition Module\n",
    "    return {'ability': random.triangular(-1,1)}\n",
    "\n",
    "def get_dec_params():\n",
    "    return {}"
   ]
  },
  {
   "cell_type": "code",
   "execution_count": 21,
   "metadata": {},
   "outputs": [
    {
     "name": "stderr",
     "output_type": "stream",
     "text": [
      "INFO:analytics.batch:Generating new simulation. None found in db\n",
      "INFO:analytics.batch:Generating new curriculum\n",
      "INFO:tutor.cogtutor_curriculum:Generated 20 units with with a total of 787 kcs\n",
      "INFO:log_db.curriculum_mapper:Writing curriculum with id, ff5d20df-910a-436b-a755-2855ff2026e8, to db\n",
      "INFO:log_db.curriculum_mapper:Writing 22265 problem to db\n",
      "INFO:log_db.curriculum_mapper:Writing 93257 steps to db\n",
      "INFO:analytics.batch:Persisting 200 initialized students to db\n",
      "INFO:analytics.batch:Simulating student #0\n",
      "INFO:analytics.batch:Simulating student #20\n",
      "INFO:analytics.batch:Simulating student #40\n",
      "INFO:analytics.batch:Simulating student #60\n",
      "INFO:analytics.batch:Simulating student #80\n",
      "INFO:analytics.batch:Simulating student #100\n",
      "INFO:analytics.batch:Simulating student #120\n",
      "INFO:analytics.batch:Simulating student #140\n",
      "INFO:analytics.batch:Simulating student #160\n",
      "INFO:analytics.batch:Simulating student #180\n",
      "INFO:analytics.batch:Inserting 200 simulated students to db\n",
      "INFO:analytics.batch:Db insert success: True\n",
      "INFO:analytics.batch:Inserting simulation batch to db\n",
      "INFO:analytics.batch:Db insert success: True\n",
      "INFO:analytics.batch:Simulated 200 in batch with id: 8e29893c-473f-4cd7-bb08-d619d085c9db\n"
     ]
    }
   ],
   "source": [
    "students, batch = get_sim_batch(sim_batch_desc)"
   ]
  }
 ],
 "metadata": {
  "kernelspec": {
   "display_name": "Python 3",
   "language": "python",
   "name": "python3"
  },
  "language_info": {
   "codemirror_mode": {
    "name": "ipython",
    "version": 3
   },
   "file_extension": ".py",
   "mimetype": "text/x-python",
   "name": "python",
   "nbconvert_exporter": "python",
   "pygments_lexer": "ipython3",
   "version": "3.8.5"
  }
 },
 "nbformat": 4,
 "nbformat_minor": 4
}
