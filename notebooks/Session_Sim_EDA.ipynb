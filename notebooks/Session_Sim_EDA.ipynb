{
 "cells": [
  {
   "cell_type": "markdown",
   "metadata": {},
   "source": [
    "# EDA of Sim data"
   ]
  },
  {
   "cell_type": "markdown",
   "metadata": {},
   "source": [
    "Validating behavioral expectations of simulation with session data. \n",
    "Specifically focusing on On-task/Off-task and total session time-on-task. "
   ]
  },
  {
   "cell_type": "markdown",
   "metadata": {},
   "source": [
    "## Setup"
   ]
  },
  {
   "cell_type": "code",
   "execution_count": null,
   "metadata": {},
   "outputs": [],
   "source": [
    "import sys\n",
    "sys.path.append(\"../lib\")"
   ]
  },
  {
   "cell_type": "code",
   "execution_count": 2,
   "metadata": {},
   "outputs": [],
   "source": [
    "import math\n",
    "import random\n",
    "import uuid\n",
    "import os\n",
    "import copy\n",
    "import itertools\n",
    "from collections.abc import Iterable\n",
    "import datetime as dt\n",
    "\n",
    "import numpy as np\n",
    "import pandas as pd\n",
    "import matplotlib.pyplot as plt\n",
    "\n",
    "from scipy.optimize import Bounds\n",
    "from scipy.optimize import minimize\n",
    "from scipy import optimize\n",
    "from scipy.stats import pearsonr\n",
    "\n",
    "from sklearn.cluster import DBSCAN\n",
    "from sklearn.metrics import mean_squared_error\n",
    "from sklearn.decomposition import FactorAnalysis\n",
    "\n",
    "from factor_analyzer.factor_analyzer import calculate_kmo\n",
    "from factor_analyzer import FactorAnalyzer\n",
    "\n",
    "import statsmodels.api as sm\n",
    "\n"
   ]
  },
  {
   "cell_type": "code",
   "execution_count": 3,
   "metadata": {},
   "outputs": [],
   "source": [
    "import logging\n",
    "\n",
    "#logging.basicConfig(level=logging.DEBUG)\n",
    "logging.basicConfig(level=logging.INFO)\n",
    "#logging.basicConfig(level=logging.WARNING)\n",
    "\n",
    "logger = logging.getLogger(\"main\")"
   ]
  },
  {
   "cell_type": "code",
   "execution_count": 4,
   "metadata": {},
   "outputs": [
    {
     "name": "stderr",
     "output_type": "stream",
     "text": [
      "INFO:main:Test info\n",
      "WARNING:main:Test warning\n"
     ]
    }
   ],
   "source": [
    "#logging.getLogger().setLevel(logging.DEBUG)\n",
    "logging.getLogger().setLevel(logging.INFO)\n",
    "#logging.getLogger().setLevel(logging.WARNING)\n",
    "logger.debug(\"Test debug\")\n",
    "logger.info(\"Test info\")\n",
    "logger.warning(\"Test warning\")"
   ]
  },
  {
   "cell_type": "code",
   "execution_count": 5,
   "metadata": {},
   "outputs": [],
   "source": [
    "# from tutor.domain import Domain\n",
    "from tutor.curriculum_factory import CurriculumFactory\n",
    "from tutor.simple_curriculum import SimpleCurriculum\n",
    "from tutor.tutor import SimpleTutor\n",
    "from tutor.action import Attempt, HintRequest"
   ]
  },
  {
   "cell_type": "code",
   "execution_count": 6,
   "metadata": {},
   "outputs": [],
   "source": [
    "from learner.selfeff_learner import SelfEfficacyLearner\n",
    "from learner.modular_learner import ModularLearner\n",
    "from learner.cognition import *\n",
    "from learner.decider import *"
   ]
  },
  {
   "cell_type": "code",
   "execution_count": 7,
   "metadata": {},
   "outputs": [],
   "source": [
    "from simulate.modlearner_simulation import ModLearnerSimulation\n",
    "from simulate.simulation import *"
   ]
  },
  {
   "cell_type": "code",
   "execution_count": 8,
   "metadata": {},
   "outputs": [],
   "source": [
    "from analytics.student_stats import *\n",
    "from analytics.cae import *\n",
    "from analytics.featurization import *\n",
    "from analytics.batch import *"
   ]
  },
  {
   "cell_type": "code",
   "execution_count": 9,
   "metadata": {},
   "outputs": [],
   "source": [
    "from log_db import mongo\n",
    "from log_db.curriculum_mapper import DB_Curriculum_Mapper\n",
    "from log_db.learner_mapper import DBLearnerMapper"
   ]
  },
  {
   "cell_type": "code",
   "execution_count": 10,
   "metadata": {},
   "outputs": [],
   "source": [
    "from CanonicalAutocorrelationAnalysis.model.caa import CAAComputation\n",
    "from CanonicalAutocorrelationAnalysis.model.caaObject import *\n",
    "from CanonicalAutocorrelationAnalysis.model.utils import l1Norm, l2Norm, r2Compute"
   ]
  },
  {
   "cell_type": "code",
   "execution_count": 11,
   "metadata": {},
   "outputs": [
    {
     "name": "stderr",
     "output_type": "stream",
     "text": [
      "INFO:analytics.batch:Base directory for the project:\n",
      "/rdata/Sandbox/MotivSim\n"
     ]
    }
   ],
   "source": [
    "# Get path to current project directory\n",
    "cwd = os.path.abspath(\".\")\n",
    "base_dir = os.path.abspath(os.path.join(cwd, os.pardir))\n",
    "logger.info(\"Base directory for the project:\\n%s\" % base_dir)"
   ]
  },
  {
   "cell_type": "code",
   "execution_count": 12,
   "metadata": {},
   "outputs": [
    {
     "name": "stderr",
     "output_type": "stream",
     "text": [
      "INFO:analytics.batch:Writing simulation results to directory: /rdata/Sandbox/MotivSim/test/data/sim-db66afb1-27e2-4851-a188-f2f2836fe5e8\n",
      "INFO:analytics.batch:got db params: {'settingId': 'motivsim', 'url': 'localhost', 'port': '27017', 'name': 'motivsim', 'user': '', 'pswd': ''}\n"
     ]
    }
   ],
   "source": [
    "# Setup connection to database\n",
    "data_out = \"sim-%s\" % str(uuid.uuid4())\n",
    "data_path = os.path.join(base_dir,\"test\", \"data\", data_out)\n",
    "logger.info(\"Writing simulation results to directory: %s\" % data_path)\n",
    "db_name = \"motivsim\"\n",
    "db_params  = mongo.get_db_params(db_name)\n",
    "logger.info(\"got db params: %s\" % str(db_params))\n",
    "db_util = mongo.Data_Utility(data_path, db_params)\n",
    "db = db_util.db"
   ]
  },
  {
   "cell_type": "code",
   "execution_count": 13,
   "metadata": {},
   "outputs": [
    {
     "name": "stderr",
     "output_type": "stream",
     "text": [
      "INFO:log_db.mongo:collection name, kcs, has 596 documents\n",
      "INFO:log_db.mongo:collection name, caa_batches, has 0 documents\n",
      "INFO:log_db.mongo:collection name, simbatches, has 1 documents\n",
      "INFO:log_db.mongo:collection name, sessions, has 400 documents\n",
      "INFO:log_db.mongo:collection name, caa_models, has 0 documents\n",
      "INFO:log_db.mongo:collection name, domains, has 1 documents\n",
      "INFO:log_db.mongo:collection name, students, has 20 documents\n",
      "INFO:log_db.mongo:collection name, units, has 20 documents\n",
      "INFO:log_db.mongo:collection name, decisions, has 58101 documents\n",
      "INFO:log_db.mongo:collection name, curriculums, has 1 documents\n",
      "INFO:log_db.mongo:collection name, steps, has 70380 documents\n",
      "INFO:log_db.mongo:collection name, finalsimstudents, has 20 documents\n",
      "INFO:log_db.mongo:collection name, problems, has 16764 documents\n",
      "INFO:log_db.mongo:collection name, actions, has 58101 documents\n",
      "INFO:log_db.mongo:collection name, sections, has 80 documents\n",
      "INFO:log_db.mongo:collection name, tutor_events, has 41884 documents\n",
      "INFO:log_db.mongo:collection name, class_sessions, has 0 documents\n"
     ]
    }
   ],
   "source": [
    "# Test db connection\n",
    "db_util.peak()"
   ]
  },
  {
   "cell_type": "code",
   "execution_count": 14,
   "metadata": {},
   "outputs": [
    {
     "name": "stderr",
     "output_type": "stream",
     "text": [
      "INFO:analytics.batch:Clearing database before starting new simulation\n"
     ]
    }
   ],
   "source": [
    "clear_db = True\n",
    "if clear_db:\n",
    "    logger.info(\"Clearing database before starting new simulation\")\n",
    "    db_util.clear_db()\n",
    "else:\n",
    "    logger.info(\"Skipping Clearing database\")"
   ]
  },
  {
   "cell_type": "markdown",
   "metadata": {},
   "source": [
    "## 1. Simulating learners"
   ]
  },
  {
   "cell_type": "code",
   "execution_count": 15,
   "metadata": {},
   "outputs": [],
   "source": [
    "num_students = 20\n",
    "num_sessions = 20"
   ]
  },
  {
   "cell_type": "code",
   "execution_count": 16,
   "metadata": {},
   "outputs": [],
   "source": [
    "def get_cog_params():\n",
    "    ability = -2\n",
    "    while (ability < -1) or (ability > 1):\n",
    "        ability = np.random.normal(0, 0.6)\n",
    "    return {\"ability\": ability}\n",
    "\n",
    "def gen_students(num_students, domain, curric, \n",
    "                 cog_mod, cog_params, dec_mod, dec_params):\n",
    "    stus = []\n",
    "    for i in range(num_students):\n",
    "        cp = cog_params()\n",
    "        cog = cog_mod(domain, **cp)\n",
    "        dp = dec_params()\n",
    "        dec = dec_mod(**dp)\n",
    "        ### Tmp double off-task value ###\n",
    "        dec.values['off task'] = 5*dec.values['off task']\n",
    "        decider = DiligentDecider(dec)\n",
    "        stu = ModularLearner(domain, cog, decider)\n",
    "        stus.append(stu)\n",
    "        \n",
    "    return stus\n",
    "\n",
    "def simulate_students(curric, students, batch):    \n",
    "    \n",
    "    env = simpy.Environment()\n",
    "\n",
    "    mastery_thres = 0.95\n",
    "    m_ses_len = 45\n",
    "    sd_ses_len = 8\n",
    "    max_ses_len = 60\n",
    "    sim_start = dt.datetime.now()\n",
    "\n",
    "    mod = round(len(students) / 10)\n",
    "    for i, stu in enumerate(students):\n",
    "        if i % mod == 0:\n",
    "            logger.info(\"Simulating student #%i\" % i)\n",
    "        # Create associated tutor\n",
    "        tutor = SimpleTutor(curric, stu._id, mastery_thres)\n",
    "\n",
    "        # Initialize simulation processes\n",
    "        sim = SingleStudentSim(db, env, sim_start, stu, tutor,\n",
    "                               num_sessions, m_ses_len, sd_ses_len, max_ses_len)\n",
    "        batch.add_sim(sim)\n",
    "\n",
    "        env.process(sim.run())\n",
    "\n",
    "    env.run()\n",
    "                \n",
    "    logger.info(\"Inserting %i simulated students to db\" % len(students))\n",
    "    result = db.finalsimstudents.insert_many([stu.to_dict() for stu in students])\n",
    "    logger.info(\"Db insert success: %s\" % result.acknowledged)\n",
    "\n",
    "    logger.info(\"Inserting simulation batch to db\")\n",
    "    result = db.simbatches.insert_one(batch.to_dict())\n",
    "    logger.info(\"Db insert success: %s\" % result.acknowledged)\n",
    "\n",
    "    return batch, students\n"
   ]
  },
  {
   "cell_type": "code",
   "execution_count": 17,
   "metadata": {},
   "outputs": [],
   "source": [
    "new_curric = None\n",
    "new_domain = None"
   ]
  },
  {
   "cell_type": "code",
   "execution_count": 18,
   "metadata": {},
   "outputs": [],
   "source": [
    "def get_domain_params(params=None):\n",
    "    if params is None:\n",
    "        #params = [0.7 , 0.05, 0.05, 0.01, 0.15, 0.05, 0.3 , 0.1 , 0.5 , 0.02]\n",
    "        params = [0.4 , 0.1, 0.1, 0.03, 0.1, 0.05, 0.1 , 0.05 , 0.1 , 0.07]\n",
    "    param_keys = ['m_l0', 'sd_l0', 'm_l0_sd', 'sd_l0_sd', 'm_t',\n",
    "                'sd_t', 'm_s','sd_s', 'm_g', 'sd_g']\n",
    "    domain_params = {k:v for k,v in zip(param_keys, params)}\n",
    "    return domain_params\n",
    "\n",
    "def gen_test_curric(db, db_params):\n",
    "    global new_curric, new_domain\n",
    "    if new_curric is None:\n",
    "        logger.info(\"Generating new curriculum\")\n",
    "        \n",
    "        domain_params = get_domain_params()\n",
    "\n",
    "\n",
    "        curric_params = {'num_units': 20,\n",
    "                         'mean_sections': 4,\n",
    "                         'stdev_sections': 2,\n",
    "                         'mean_unit_kcs': 22,\n",
    "                         'stdev_unit_kcs': 23,\n",
    "                         'section_kcs_lambda': 6,\n",
    "                         'mean_steps': 10,\n",
    "                         'stdev_steps': 4,\n",
    "                         'mean_prob_kcs': 6,\n",
    "                         'stdev_prob_kcs': 3,\n",
    "                         'num_practice': 100\n",
    "                        }\n",
    "\n",
    "        domain, curric = CurriculumFactory.gen_curriculum(domain_params, curric_params)\n",
    "        db.domains.insert_one(domain.to_dict())\n",
    "        db.kcs.insert_many([kc.__dict__ for kc in domain.kcs])\n",
    "        curric_util = DB_Curriculum_Mapper(db_params)\n",
    "        curric_util.write_to_db(curric)\n",
    "        \n",
    "        new_curric = curric\n",
    "        new_domain = domain\n",
    "\n",
    "        return domain, curric\n",
    "    else:\n",
    "        logger.info(\"New curriculum already generated\")\n",
    "        return new_domain, new_curric"
   ]
  },
  {
   "cell_type": "code",
   "execution_count": 19,
   "metadata": {},
   "outputs": [],
   "source": [
    "def get_sim_batch(desc):\n",
    "    simbatch = db.simbatches.find_one({\"desc\": desc})\n",
    "    if simbatch is None:\n",
    "        logger.info(\"Generating new simulation. None found in db\")\n",
    "\n",
    "        # generate simualted data for test\n",
    "        domain, curric = gen_test_curric(db, db_params)\n",
    "        students = gen_students(num_students, domain, curric, \n",
    "                                cog_mod, get_cog_params, \n",
    "                                dec_mod, get_dec_params)   \n",
    "        logger.info(f\"Persisting {len(students)} initialized students to db\")\n",
    "        db.students.insert_many([stu.to_dict() for stu in students])\n",
    "        batch = SimulationBatch(desc)\n",
    "        simulate_students(curric, students, batch)    \n",
    "        logger.info(f\"Simulated {len(students)} in batch with id: {batch._id}\")\n",
    "    else:\n",
    "        logger.info(f\"Found simulation batch: {str(simbatch['desc'])}\")\n",
    "        lmapper = DBLearnerMapper(db)\n",
    "        students = [lmapper.get_modlearner_from_db(sid) for sid in simbatch['student_ids']]\n",
    "        batch = SimulationBatch.from_dict(simbatch)\n",
    "        logger.info(f\"Recovered {len(students)} students from batch with id: {batch._id}\")\n",
    "        \n",
    "    return students, batch"
   ]
  },
  {
   "cell_type": "markdown",
   "metadata": {},
   "source": [
    "### Simple Diligent students"
   ]
  },
  {
   "cell_type": "code",
   "execution_count": 20,
   "metadata": {},
   "outputs": [],
   "source": [
    "sim_batch_desc = \"Simple diligent students\"\n",
    "cog_mod = BiasSkillCognition\n",
    "dec_mod = EVDecider\n",
    "\n",
    "def get_cog_params():\n",
    "    # Helper for getting parameters for BiasSkillCognition Module\n",
    "    return {'ability': random.triangular(-1,1)}\n",
    "\n",
    "def get_dec_params():\n",
    "    return {}"
   ]
  },
  {
   "cell_type": "code",
   "execution_count": 21,
   "metadata": {},
   "outputs": [
    {
     "name": "stderr",
     "output_type": "stream",
     "text": [
      "INFO:analytics.batch:Generating new simulation. None found in db\n",
      "INFO:analytics.batch:Generating new curriculum\n",
      "INFO:tutor.cogtutor_curriculum:Generated 20 units with with a total of 663 kcs\n",
      "INFO:log_db.curriculum_mapper:Writing curriculum with id, 5113f829-a5b1-4309-a647-724896ed36f4, to db\n",
      "INFO:log_db.curriculum_mapper:Writing 18732 problem to db\n",
      "INFO:log_db.curriculum_mapper:Writing 78369 steps to db\n",
      "INFO:analytics.batch:Persisting 20 initialized students to db\n",
      "INFO:analytics.batch:Simulating student #0\n",
      "INFO:analytics.batch:Simulating student #2\n",
      "INFO:analytics.batch:Simulating student #4\n",
      "INFO:analytics.batch:Simulating student #6\n",
      "INFO:analytics.batch:Simulating student #8\n",
      "INFO:analytics.batch:Simulating student #10\n",
      "INFO:analytics.batch:Simulating student #12\n",
      "INFO:analytics.batch:Simulating student #14\n",
      "INFO:analytics.batch:Simulating student #16\n",
      "INFO:analytics.batch:Simulating student #18\n",
      "INFO:analytics.batch:Inserting 20 simulated students to db\n",
      "INFO:analytics.batch:Db insert success: True\n",
      "INFO:analytics.batch:Inserting simulation batch to db\n",
      "INFO:analytics.batch:Db insert success: True\n",
      "INFO:analytics.batch:Simulated 20 in batch with id: e25af786-4bc3-4cfd-b2e4-0a26fed427b8\n"
     ]
    }
   ],
   "source": [
    "students, batch = get_sim_batch(sim_batch_desc)"
   ]
  },
  {
   "cell_type": "markdown",
   "metadata": {},
   "source": [
    "## EDA"
   ]
  },
  {
   "cell_type": "markdown",
   "metadata": {},
   "source": [
    "### Setup"
   ]
  },
  {
   "cell_type": "code",
   "execution_count": 22,
   "metadata": {},
   "outputs": [],
   "source": [
    "def get_stu_parameters(sids, mastery_thres):\n",
    "    sim_students = calc.get_stu_attributes(sids)\n",
    "    sim_students = pd.concat([sim_students, calc.get_mastery(sids, mastery_thres)], axis=1)\n",
    "    return sim_students\n"
   ]
  },
  {
   "cell_type": "code",
   "execution_count": 23,
   "metadata": {},
   "outputs": [],
   "source": [
    "def get_tx_fields(sids, fields=None):\n",
    "    tx = pd.DataFrame(db.tutor_events.find({\"stu_id\": {'$in': sids}, \"type\": \"TutorInput\"}))\n",
    "    # Add kc field that reduces list of kcs to 1 kc\n",
    "    tx['kc'] = tx.apply(lambda x: x['kcs'][0]['_id'], axis=1)\n",
    "    if fields is None:\n",
    "        return tx\n",
    "    else:\n",
    "        return tx.loc[:, fields]"
   ]
  },
  {
   "cell_type": "code",
   "execution_count": 24,
   "metadata": {},
   "outputs": [],
   "source": [
    "def get_tx(sids):\n",
    "    tx = pd.DataFrame(db.tutor_events.find({\"stu_id\": {'$in': sid}, 'type': \"TutorInput\"}))\n",
    "    tx.index = tx['_id']\n",
    "    tx['kc'] = tx.explode('kcs')['kcs'].apply(lambda x: x['_id'])\n",
    "    return tx\n",
    "\n",
    "def lbl_nondil_tx(tx):\n",
    "    detector = Detector(db) \n",
    "    gt_lblr = TransactionAnnotator(db)\n",
    "    \n",
    "    kc_long_tx = detector.get_kc_long_cutoff(tx)\n",
    "    kc_short_tx = detector.get_kc_short_cutoff(tx)\n",
    "\n",
    "    # Add Ground truth labels (using global db var)\n",
    "\n",
    "    tx['is_offtask'] = gt_lblr.label_offtask_tx(tx)\n",
    "    tx['is_guess'] = gt_lblr.label_guess_tx(tx)\n",
    "\n",
    "    # Add detector labels\n",
    "    tx['detect_offtask'] = detector.is_off_task(tx, kc_stats=kc_long_tx)\n",
    "    tx['detect_guess'] = detector.is_guess(tx, kc_stats=kc_short_tx)\n",
    "    return tx\n",
    "    \n"
   ]
  },
  {
   "cell_type": "code",
   "execution_count": 25,
   "metadata": {},
   "outputs": [],
   "source": [
    "def calc_accuracy(tx_stats):\n",
    "    d =  tx_stats['Correct']/ tx_stats['Total Tx']\n",
    "    d.rename(\"accuracy\", inplace=True)\n",
    "    return d\n",
    "\n",
    "def calc_err_on_1_opp(tx):\n",
    "    d = tx[tx['attempt'] == 0]\n",
    "    # Get 1st opportunity\n",
    "    cols = [col for col in d.columns if col not in ['stu_id', 'kc']]\n",
    "    opp1 = d.groupby(['stu_id', 'kc']).apply(lambda x: x.iloc[0][cols]).reset_index()\n",
    "    opp1['is_correct'] = opp1['outcome'] == \"Correct\"\n",
    "    ## Calculate P(Correct) per student\n",
    "    opp1 =  opp1.groupby('stu_id')['is_correct'].apply(lambda x: np.sum(x) / len(x))\n",
    "    opp1.rename(\"err_on_1_opp\", inplace=True)\n",
    "    return opp1\n",
    "\n",
    "def calc_avg_prac_opp(tx, mastery_thres=0.9):\n",
    "    # Get the learner knowledge at the end of each practice step\n",
    "    d = tx.groupby(['stu_id', 'kc', 'step_id'])['plt1'].apply(lambda x: x[-1]).reset_index()\n",
    "    d['has_mastered'] = d['plt1'] >= mastery_thres\n",
    "    # Getting student-kc pairings for analysis\n",
    "    stu_kc = d.loc[d['has_mastered'], ['stu_id','kc']].drop_duplicates()\n",
    "    # Get just tx for relevant stu-kc's\n",
    "    d = pd.merge(tx, stu_kc, on=['stu_id', 'kc'], how='inner')\n",
    "    d = tx[['stu_id', 'kc', 'step_id']].drop_duplicates().groupby(['stu_id', 'kc']).count().reset_index()\n",
    "    d = d.groupby('stu_id')['step_id'].mean()\n",
    "    d.rename('avg_prac_opp', inplace=True)\n",
    "    return d\n",
    "\n",
    "def calc_p_guess(tx):\n",
    "    d = tx.groupby('stu_id')['detect_guess'].apply(lambda x: np.sum(x) / len(x))\n",
    "    d.rename(\"p_guess\", inplace=True)\n",
    "    return d\n",
    "\n",
    "def calc_detected_offtask(tx):\n",
    "    if \"detect_offtask\" not in tx:\n",
    "        tx = lbl_nondil_tx(tx)\n",
    "    # Student-level off-task vs detected off-task\n",
    "    d = tx.groupby(\"stu_id\")['detect_offtask'].mean()\n",
    "\n",
    "    d.rename(\"mean_detect_offtask\", inplace=True)\n",
    "    return d\n",
    "\n",
    "def calc_detected_guess(tx):\n",
    "    if \"detect_guess\" not in tx:\n",
    "        tx = lbl_nondil_tx(tx)\n",
    "    # Student-level off-task vs detected off-task\n",
    "    d = tx.groupby(\"stu_id\")['detect_guess'].mean()\n",
    "\n",
    "    d.rename(\"mean_detect_guess\", inplace=True)\n",
    "    return d\n",
    "\n",
    "def calc_time_on_task(tx):\n",
    "    d = tx.pivot_table(index=\"stu_id\", columns=\"is_offtask\", values=\"duration\", fill_value=0, aggfunc=np.sum).reset_index()\n",
    "    d.index = d['stu_id']\n",
    "    d.rename(columns={False: \"time_on_task\", True: \"time_off_task\"}, inplace=True)\n",
    "    d.drop(columns=['stu_id'], inplace=True)\n",
    "    d['time_on_task'] = d['time_on_task'] / 3600\n",
    "    d['time_off_task'] = d['time_off_task'] / 3600\n",
    "    return d\n",
    "\n",
    "    \n",
    "    \n"
   ]
  },
  {
   "cell_type": "code",
   "execution_count": 26,
   "metadata": {},
   "outputs": [],
   "source": [
    "# Calculating stats with analytic methods\n",
    "\n",
    "calc = StudentStatCalc(db)\n",
    "batch_calc = BatchCalculator()\n",
    "detector = Detector(db)\n",
    "gt_lblr = TransactionAnnotator(db)"
   ]
  },
  {
   "cell_type": "code",
   "execution_count": 27,
   "metadata": {},
   "outputs": [
    {
     "name": "stderr",
     "output_type": "stream",
     "text": [
      "INFO:analytics.batch:batch #0: \n",
      "ID: e25af786-4bc3-4cfd-b2e4-0a26fed427b8\n",
      "desc: Simple diligent students\n",
      "INFO:analytics.batch:recovered 20 student ids for batch Simple diligent students\n"
     ]
    }
   ],
   "source": [
    "# Get students batches\n",
    "batches = [batch for batch in db.simbatches.find()]\n",
    "batch_descs = [\"Simple diligent students\",\n",
    "              ]\n",
    "sids = {desc: [] for desc in batch_descs}\n",
    "for i, batch in enumerate(batches):\n",
    "    logger.info(f\"batch #{i}: \\nID: {batch['_id']}\\ndesc: {batch['desc']}\")\n",
    "    if batch['desc'] in batch_descs:\n",
    "        logger.info(f\"recovered {len(batch['student_ids'])} student ids for batch {batch['desc']}\")\n",
    "        sids[batch['desc']].append(batch['student_ids'])"
   ]
  },
  {
   "cell_type": "code",
   "execution_count": 28,
   "metadata": {},
   "outputs": [
    {
     "name": "stderr",
     "output_type": "stream",
     "text": [
      "INFO:analytics.batch:EDA of 20 students\n",
      "INFO:analytics.batch:Calculating for student set:\tSimple diligent students\n",
      "INFO:analytics.batch:Calculated student params: (20, 18)\tRuntime: 0.111653 seconds\n",
      "INFO:analytics.batch:Calculated student params: (20, 18)\tRuntime: 0.102582 seconds\n",
      "INFO:analytics.batch:Calculated student action stats: (20, 13)\tRuntime: 2.286547 seconds\n",
      "INFO:analytics.batch:Calculated student activity stats: (20, 9)\tRuntime: 1.473189 seconds\n",
      "INFO:analytics.batch:Merged new stats together: (20, 40)\n"
     ]
    }
   ],
   "source": [
    "\n",
    "stu_stats = {desc: {} for desc in batch_descs}\n",
    "mastery_thres = 0.9\n",
    "stu_prob_stats = {desc: {} for desc in batch_descs}\n",
    "kc_stats = {desc: {} for desc in batch_descs}\n",
    "for desc in batch_descs:\n",
    "\n",
    "    sid = sids[desc][0]\n",
    "    logger.info(f\"EDA of {len(sid)} students\")\n",
    "    \n",
    "    logger.info(f\"Calculating for student set:\\t{desc}\")\n",
    "    args = [get_stu_parameters, sid, 10, [mastery_thres]]\n",
    "    sim_students, runtime = batch_calc.time_calc(batch_calc.batch_calc, args)\n",
    "    logger.info(f\"Calculated student params: {sim_students.shape}\\tRuntime: {runtime} seconds\")\n",
    "\n",
    "    mastery_thres = 0.9\n",
    "    args = [get_stu_parameters, sid, 10, [mastery_thres]]\n",
    "    sim_students, runtime = batch_calc.time_calc(batch_calc.batch_calc, args)\n",
    "    logger.info(f\"Calculated student params: {sim_students.shape}\\tRuntime: {runtime} seconds\")\n",
    "    \n",
    "    args = [calc.get_action_counts, sid, 10]\n",
    "    action_dist, runtime = batch_calc.time_calc(batch_calc.batch_calc, args)\n",
    "    logger.info(f\"Calculated student action stats: {action_dist.shape}\\tRuntime: {runtime} seconds\")\n",
    "\n",
    "    args = [calc.total_tx_stats, sid, 10]\n",
    "    tx_stats, runtime = batch_calc.time_calc(batch_calc.batch_calc, args)\n",
    "    logger.info(f\"Calculated student activity stats: {tx_stats.shape}\\tRuntime: {runtime} seconds\")\n",
    "    \n",
    "#     args = [calc.get_stu_prob_stats, sid, 10]\n",
    "#     stu_prob_stats[desc], runtime = batch_calc.time_calc(batch_calc.batch_calc, args)\n",
    "#     logger.info(f\"Calculated student activity stats: {tx_stats.shape}\\tRuntime: {runtime} seconds\")\n",
    "    \n",
    "#     args = [calc.stu_kc_stats, sid, 10]\n",
    "#     kc_stats[desc], runtime = batch_calc.time_calc(batch_calc.batch_calc, args)\n",
    "#     logger.info(f\"Calculated student activity stats: {tx_stats.shape}\\tRuntime: {runtime} seconds\")\n",
    "    \n",
    "    \n",
    "\n",
    "    stu_stats[desc] = pd.concat([sim_students, action_dist, tx_stats], axis=1)\n",
    "    logger.info(f\"Merged new stats together: {stu_stats[desc].shape}\")\n"
   ]
  },
  {
   "cell_type": "markdown",
   "metadata": {},
   "source": [
    "### Time-on-task"
   ]
  },
  {
   "cell_type": "markdown",
   "metadata": {},
   "source": [
    "#### Session EDA"
   ]
  },
  {
   "cell_type": "code",
   "execution_count": 29,
   "metadata": {},
   "outputs": [],
   "source": [
    "tx = pd.DataFrame(db.tutor_events.find({\"stu_id\": {'$in': sid}, \"type\": {\"$in\": [\"SessionStart\", \"SessionEnd\"]}}))\n",
    "ses_ids = tx['session_id'].unique().tolist()\n",
    "sessions = pd.DataFrame(db.sessions.find({\"_id\": {'$in': ses_ids}}))\n",
    "sessions.drop(columns=['type'], inplace=True)\n",
    "sessions.rename(columns={\"_id\": \"session_id\"}, inplace=True)\n",
    "d = pd.merge(tx, sessions, on=\"session_id\", how='inner')\n",
    "\n",
    "sstats = stu_stats[batch_descs[0]]"
   ]
  },
  {
   "cell_type": "code",
   "execution_count": 30,
   "metadata": {},
   "outputs": [
    {
     "data": {
      "text/html": [
       "<div>\n",
       "<style scoped>\n",
       "    .dataframe tbody tr th:only-of-type {\n",
       "        vertical-align: middle;\n",
       "    }\n",
       "\n",
       "    .dataframe tbody tr th {\n",
       "        vertical-align: top;\n",
       "    }\n",
       "\n",
       "    .dataframe thead th {\n",
       "        text-align: right;\n",
       "    }\n",
       "</style>\n",
       "<table border=\"1\" class=\"dataframe\">\n",
       "  <thead>\n",
       "    <tr style=\"text-align: right;\">\n",
       "      <th></th>\n",
       "      <th>stu_id</th>\n",
       "      <th>session_id</th>\n",
       "      <th>start</th>\n",
       "      <th>end</th>\n",
       "      <th>SessionEnd</th>\n",
       "      <th>SessionStart</th>\n",
       "      <th>start speed</th>\n",
       "      <th>early finish</th>\n",
       "      <th>session length</th>\n",
       "      <th>class length</th>\n",
       "      <th>pct class</th>\n",
       "    </tr>\n",
       "  </thead>\n",
       "  <tbody>\n",
       "    <tr>\n",
       "      <th>0</th>\n",
       "      <td>f18506b8-f1a9-4e4b-978b-1cbbea4c6aa1</td>\n",
       "      <td>9fd64588-7041-4184-b7e8-95ca83ee375b</td>\n",
       "      <td>2021-02-22 11:00:00</td>\n",
       "      <td>2021-02-22 11:43:10.486</td>\n",
       "      <td>2021-02-22 11:40:26.916</td>\n",
       "      <td>2021-02-22 11:01:35.752</td>\n",
       "      <td>1.595867</td>\n",
       "      <td>2.726167</td>\n",
       "      <td>38.852733</td>\n",
       "      <td>43.174767</td>\n",
       "      <td>0.899894</td>\n",
       "    </tr>\n",
       "    <tr>\n",
       "      <th>1</th>\n",
       "      <td>f18506b8-f1a9-4e4b-978b-1cbbea4c6aa1</td>\n",
       "      <td>ed3f1b71-1878-46c7-8f5b-34a49a2db9c7</td>\n",
       "      <td>2021-02-23 11:00:00</td>\n",
       "      <td>2021-02-23 11:43:24.148</td>\n",
       "      <td>2021-02-23 11:25:12.470</td>\n",
       "      <td>2021-02-23 11:04:09.995</td>\n",
       "      <td>4.166583</td>\n",
       "      <td>18.194633</td>\n",
       "      <td>21.041250</td>\n",
       "      <td>43.402467</td>\n",
       "      <td>0.484794</td>\n",
       "    </tr>\n",
       "    <tr>\n",
       "      <th>2</th>\n",
       "      <td>f18506b8-f1a9-4e4b-978b-1cbbea4c6aa1</td>\n",
       "      <td>2e3ef079-e67a-4de7-bb34-d2c94433b95c</td>\n",
       "      <td>2021-02-24 11:00:00</td>\n",
       "      <td>2021-02-24 11:42:46.847</td>\n",
       "      <td>2021-02-24 11:36:18.145</td>\n",
       "      <td>2021-02-24 11:00:04.708</td>\n",
       "      <td>0.078467</td>\n",
       "      <td>6.478367</td>\n",
       "      <td>36.223950</td>\n",
       "      <td>42.780783</td>\n",
       "      <td>0.846734</td>\n",
       "    </tr>\n",
       "    <tr>\n",
       "      <th>3</th>\n",
       "      <td>f18506b8-f1a9-4e4b-978b-1cbbea4c6aa1</td>\n",
       "      <td>2758ad87-abe1-4ff8-9f68-10342140a6ed</td>\n",
       "      <td>2021-02-25 11:00:00</td>\n",
       "      <td>2021-02-25 11:51:21.469</td>\n",
       "      <td>2021-02-25 11:45:04.607</td>\n",
       "      <td>2021-02-25 11:02:06.862</td>\n",
       "      <td>2.114367</td>\n",
       "      <td>6.281033</td>\n",
       "      <td>42.962417</td>\n",
       "      <td>51.357817</td>\n",
       "      <td>0.836531</td>\n",
       "    </tr>\n",
       "    <tr>\n",
       "      <th>4</th>\n",
       "      <td>f18506b8-f1a9-4e4b-978b-1cbbea4c6aa1</td>\n",
       "      <td>364edcbd-546b-499f-94ac-6641d6dbead1</td>\n",
       "      <td>2021-02-26 11:00:00</td>\n",
       "      <td>2021-02-26 11:37:41.257</td>\n",
       "      <td>2021-02-26 11:22:37.173</td>\n",
       "      <td>2021-02-26 11:02:37.645</td>\n",
       "      <td>2.627417</td>\n",
       "      <td>15.068067</td>\n",
       "      <td>19.992133</td>\n",
       "      <td>37.687617</td>\n",
       "      <td>0.530470</td>\n",
       "    </tr>\n",
       "  </tbody>\n",
       "</table>\n",
       "</div>"
      ],
      "text/plain": [
       "                                 stu_id                            session_id  \\\n",
       "0  f18506b8-f1a9-4e4b-978b-1cbbea4c6aa1  9fd64588-7041-4184-b7e8-95ca83ee375b   \n",
       "1  f18506b8-f1a9-4e4b-978b-1cbbea4c6aa1  ed3f1b71-1878-46c7-8f5b-34a49a2db9c7   \n",
       "2  f18506b8-f1a9-4e4b-978b-1cbbea4c6aa1  2e3ef079-e67a-4de7-bb34-d2c94433b95c   \n",
       "3  f18506b8-f1a9-4e4b-978b-1cbbea4c6aa1  2758ad87-abe1-4ff8-9f68-10342140a6ed   \n",
       "4  f18506b8-f1a9-4e4b-978b-1cbbea4c6aa1  364edcbd-546b-499f-94ac-6641d6dbead1   \n",
       "\n",
       "                start                     end              SessionEnd  \\\n",
       "0 2021-02-22 11:00:00 2021-02-22 11:43:10.486 2021-02-22 11:40:26.916   \n",
       "1 2021-02-23 11:00:00 2021-02-23 11:43:24.148 2021-02-23 11:25:12.470   \n",
       "2 2021-02-24 11:00:00 2021-02-24 11:42:46.847 2021-02-24 11:36:18.145   \n",
       "3 2021-02-25 11:00:00 2021-02-25 11:51:21.469 2021-02-25 11:45:04.607   \n",
       "4 2021-02-26 11:00:00 2021-02-26 11:37:41.257 2021-02-26 11:22:37.173   \n",
       "\n",
       "             SessionStart  start speed  early finish  session length  \\\n",
       "0 2021-02-22 11:01:35.752     1.595867      2.726167       38.852733   \n",
       "1 2021-02-23 11:04:09.995     4.166583     18.194633       21.041250   \n",
       "2 2021-02-24 11:00:04.708     0.078467      6.478367       36.223950   \n",
       "3 2021-02-25 11:02:06.862     2.114367      6.281033       42.962417   \n",
       "4 2021-02-26 11:02:37.645     2.627417     15.068067       19.992133   \n",
       "\n",
       "   class length  pct class  \n",
       "0     43.174767   0.899894  \n",
       "1     43.402467   0.484794  \n",
       "2     42.780783   0.846734  \n",
       "3     51.357817   0.836531  \n",
       "4     37.687617   0.530470  "
      ]
     },
     "execution_count": 30,
     "metadata": {},
     "output_type": "execute_result"
    }
   ],
   "source": [
    "# Calc Session stats\n",
    "session_stats = d.pivot(index=['stu_id', 'session_id'], columns='type', values='time').reset_index()\n",
    "session_stats = pd.merge(d.loc[:, ['stu_id', 'session_id', 'start', 'end']].drop_duplicates(), session_stats, on=['stu_id', 'session_id'])\n",
    "\n",
    "# Start/end speed\n",
    "session_stats['start speed'] = session_stats.apply(lambda x: (x['SessionStart'] - x['start']).total_seconds()/60, axis=1)\n",
    "session_stats['early finish'] = session_stats.apply(lambda x: (x['end'] - x['SessionEnd']).total_seconds()/60, axis=1)\n",
    "\n",
    "# session length\n",
    "session_stats['session length'] = session_stats.apply(lambda x: (x['SessionEnd'] - x['SessionStart']).total_seconds()/60, axis=1)\n",
    "session_stats['class length'] = session_stats.apply(lambda x: (x['end'] - x['start']).total_seconds()/60, axis=1)\n",
    "session_stats['pct class'] = session_stats['session length'] / session_stats['class length']\n",
    "session_stats.head()"
   ]
  },
  {
   "cell_type": "code",
   "execution_count": 31,
   "metadata": {},
   "outputs": [
    {
     "data": {
      "text/html": [
       "<div>\n",
       "<style scoped>\n",
       "    .dataframe tbody tr th:only-of-type {\n",
       "        vertical-align: middle;\n",
       "    }\n",
       "\n",
       "    .dataframe tbody tr th {\n",
       "        vertical-align: top;\n",
       "    }\n",
       "\n",
       "    .dataframe thead th {\n",
       "        text-align: right;\n",
       "    }\n",
       "</style>\n",
       "<table border=\"1\" class=\"dataframe\">\n",
       "  <thead>\n",
       "    <tr style=\"text-align: right;\">\n",
       "      <th></th>\n",
       "      <th>attempt_value</th>\n",
       "      <th>guess_value</th>\n",
       "      <th>hint request_value</th>\n",
       "      <th>off task_value</th>\n",
       "      <th>diligence</th>\n",
       "      <th>cog_ability</th>\n",
       "      <th>dec_self_eff</th>\n",
       "      <th>final skills</th>\n",
       "      <th>final total attempts</th>\n",
       "      <th>final total success</th>\n",
       "      <th>...</th>\n",
       "      <th>Incorrect</th>\n",
       "      <th>Pct Correct</th>\n",
       "      <th>Pct Hint</th>\n",
       "      <th>Pct Incorrect</th>\n",
       "      <th>start speed mean</th>\n",
       "      <th>start speed std</th>\n",
       "      <th>early finish mean</th>\n",
       "      <th>early finish std</th>\n",
       "      <th>pct class mean</th>\n",
       "      <th>pct class std</th>\n",
       "    </tr>\n",
       "  </thead>\n",
       "  <tbody>\n",
       "    <tr>\n",
       "      <th>247bc069-4815-4f58-9791-d7118bb32c3e</th>\n",
       "      <td>10</td>\n",
       "      <td>2.5</td>\n",
       "      <td>3</td>\n",
       "      <td>0.05</td>\n",
       "      <td>2.445459</td>\n",
       "      <td>-0.029111</td>\n",
       "      <td>0.5</td>\n",
       "      <td>{'fc749b7c-6ab1-44e5-8172-5ec98699598a': 1, 'b...</td>\n",
       "      <td>1924</td>\n",
       "      <td>1403</td>\n",
       "      <td>...</td>\n",
       "      <td>521</td>\n",
       "      <td>0.607622</td>\n",
       "      <td>0.166739</td>\n",
       "      <td>0.225639</td>\n",
       "      <td>2.685696</td>\n",
       "      <td>1.427534</td>\n",
       "      <td>9.214283</td>\n",
       "      <td>8.530541</td>\n",
       "      <td>0.736373</td>\n",
       "      <td>0.180646</td>\n",
       "    </tr>\n",
       "    <tr>\n",
       "      <th>2ace9260-60c9-41ba-965d-056a75a89df5</th>\n",
       "      <td>10</td>\n",
       "      <td>2.5</td>\n",
       "      <td>3</td>\n",
       "      <td>0.05</td>\n",
       "      <td>0.708765</td>\n",
       "      <td>0.550802</td>\n",
       "      <td>0.5</td>\n",
       "      <td>{'fc749b7c-6ab1-44e5-8172-5ec98699598a': 1, 'b...</td>\n",
       "      <td>2099</td>\n",
       "      <td>1400</td>\n",
       "      <td>...</td>\n",
       "      <td>699</td>\n",
       "      <td>0.546448</td>\n",
       "      <td>0.180718</td>\n",
       "      <td>0.272834</td>\n",
       "      <td>4.837147</td>\n",
       "      <td>2.034021</td>\n",
       "      <td>7.418657</td>\n",
       "      <td>3.599440</td>\n",
       "      <td>0.730149</td>\n",
       "      <td>0.088659</td>\n",
       "    </tr>\n",
       "    <tr>\n",
       "      <th>451f260f-439b-4596-869c-43e3045f8ced</th>\n",
       "      <td>10</td>\n",
       "      <td>2.5</td>\n",
       "      <td>3</td>\n",
       "      <td>0.05</td>\n",
       "      <td>0.796996</td>\n",
       "      <td>-0.549583</td>\n",
       "      <td>0.5</td>\n",
       "      <td>{'fc749b7c-6ab1-44e5-8172-5ec98699598a': 1, 'b...</td>\n",
       "      <td>2339</td>\n",
       "      <td>1820</td>\n",
       "      <td>...</td>\n",
       "      <td>519</td>\n",
       "      <td>0.654912</td>\n",
       "      <td>0.158330</td>\n",
       "      <td>0.186758</td>\n",
       "      <td>3.516413</td>\n",
       "      <td>1.853868</td>\n",
       "      <td>9.011062</td>\n",
       "      <td>7.760364</td>\n",
       "      <td>0.695765</td>\n",
       "      <td>0.215330</td>\n",
       "    </tr>\n",
       "    <tr>\n",
       "      <th>7c3cc44a-c5a7-49fb-9dca-ebb93aa4209e</th>\n",
       "      <td>10</td>\n",
       "      <td>2.5</td>\n",
       "      <td>3</td>\n",
       "      <td>0.05</td>\n",
       "      <td>-1.846440</td>\n",
       "      <td>-0.140159</td>\n",
       "      <td>0.5</td>\n",
       "      <td>{'fc749b7c-6ab1-44e5-8172-5ec98699598a': 1, 'b...</td>\n",
       "      <td>1385</td>\n",
       "      <td>980</td>\n",
       "      <td>...</td>\n",
       "      <td>405</td>\n",
       "      <td>0.591430</td>\n",
       "      <td>0.164152</td>\n",
       "      <td>0.244418</td>\n",
       "      <td>6.383308</td>\n",
       "      <td>3.828650</td>\n",
       "      <td>11.434955</td>\n",
       "      <td>12.002060</td>\n",
       "      <td>0.623658</td>\n",
       "      <td>0.208112</td>\n",
       "    </tr>\n",
       "    <tr>\n",
       "      <th>9b3bda12-20af-4993-a241-07da1c2fed2a</th>\n",
       "      <td>10</td>\n",
       "      <td>2.5</td>\n",
       "      <td>3</td>\n",
       "      <td>0.05</td>\n",
       "      <td>1.624294</td>\n",
       "      <td>-0.087204</td>\n",
       "      <td>0.5</td>\n",
       "      <td>{'fc749b7c-6ab1-44e5-8172-5ec98699598a': 1, 'b...</td>\n",
       "      <td>2387</td>\n",
       "      <td>1727</td>\n",
       "      <td>...</td>\n",
       "      <td>660</td>\n",
       "      <td>0.601742</td>\n",
       "      <td>0.168293</td>\n",
       "      <td>0.229965</td>\n",
       "      <td>3.534725</td>\n",
       "      <td>1.765777</td>\n",
       "      <td>6.473083</td>\n",
       "      <td>5.216450</td>\n",
       "      <td>0.775343</td>\n",
       "      <td>0.148211</td>\n",
       "    </tr>\n",
       "  </tbody>\n",
       "</table>\n",
       "<p>5 rows × 46 columns</p>\n",
       "</div>"
      ],
      "text/plain": [
       "                                      attempt_value  guess_value  \\\n",
       "247bc069-4815-4f58-9791-d7118bb32c3e             10          2.5   \n",
       "2ace9260-60c9-41ba-965d-056a75a89df5             10          2.5   \n",
       "451f260f-439b-4596-869c-43e3045f8ced             10          2.5   \n",
       "7c3cc44a-c5a7-49fb-9dca-ebb93aa4209e             10          2.5   \n",
       "9b3bda12-20af-4993-a241-07da1c2fed2a             10          2.5   \n",
       "\n",
       "                                      hint request_value  off task_value  \\\n",
       "247bc069-4815-4f58-9791-d7118bb32c3e                   3            0.05   \n",
       "2ace9260-60c9-41ba-965d-056a75a89df5                   3            0.05   \n",
       "451f260f-439b-4596-869c-43e3045f8ced                   3            0.05   \n",
       "7c3cc44a-c5a7-49fb-9dca-ebb93aa4209e                   3            0.05   \n",
       "9b3bda12-20af-4993-a241-07da1c2fed2a                   3            0.05   \n",
       "\n",
       "                                      diligence  cog_ability  dec_self_eff  \\\n",
       "247bc069-4815-4f58-9791-d7118bb32c3e   2.445459    -0.029111           0.5   \n",
       "2ace9260-60c9-41ba-965d-056a75a89df5   0.708765     0.550802           0.5   \n",
       "451f260f-439b-4596-869c-43e3045f8ced   0.796996    -0.549583           0.5   \n",
       "7c3cc44a-c5a7-49fb-9dca-ebb93aa4209e  -1.846440    -0.140159           0.5   \n",
       "9b3bda12-20af-4993-a241-07da1c2fed2a   1.624294    -0.087204           0.5   \n",
       "\n",
       "                                                                           final skills  \\\n",
       "247bc069-4815-4f58-9791-d7118bb32c3e  {'fc749b7c-6ab1-44e5-8172-5ec98699598a': 1, 'b...   \n",
       "2ace9260-60c9-41ba-965d-056a75a89df5  {'fc749b7c-6ab1-44e5-8172-5ec98699598a': 1, 'b...   \n",
       "451f260f-439b-4596-869c-43e3045f8ced  {'fc749b7c-6ab1-44e5-8172-5ec98699598a': 1, 'b...   \n",
       "7c3cc44a-c5a7-49fb-9dca-ebb93aa4209e  {'fc749b7c-6ab1-44e5-8172-5ec98699598a': 1, 'b...   \n",
       "9b3bda12-20af-4993-a241-07da1c2fed2a  {'fc749b7c-6ab1-44e5-8172-5ec98699598a': 1, 'b...   \n",
       "\n",
       "                                      final total attempts  \\\n",
       "247bc069-4815-4f58-9791-d7118bb32c3e                  1924   \n",
       "2ace9260-60c9-41ba-965d-056a75a89df5                  2099   \n",
       "451f260f-439b-4596-869c-43e3045f8ced                  2339   \n",
       "7c3cc44a-c5a7-49fb-9dca-ebb93aa4209e                  1385   \n",
       "9b3bda12-20af-4993-a241-07da1c2fed2a                  2387   \n",
       "\n",
       "                                      final total success  ...  Incorrect  \\\n",
       "247bc069-4815-4f58-9791-d7118bb32c3e                 1403  ...        521   \n",
       "2ace9260-60c9-41ba-965d-056a75a89df5                 1400  ...        699   \n",
       "451f260f-439b-4596-869c-43e3045f8ced                 1820  ...        519   \n",
       "7c3cc44a-c5a7-49fb-9dca-ebb93aa4209e                  980  ...        405   \n",
       "9b3bda12-20af-4993-a241-07da1c2fed2a                 1727  ...        660   \n",
       "\n",
       "                                      Pct Correct  Pct Hint  Pct Incorrect  \\\n",
       "247bc069-4815-4f58-9791-d7118bb32c3e     0.607622  0.166739       0.225639   \n",
       "2ace9260-60c9-41ba-965d-056a75a89df5     0.546448  0.180718       0.272834   \n",
       "451f260f-439b-4596-869c-43e3045f8ced     0.654912  0.158330       0.186758   \n",
       "7c3cc44a-c5a7-49fb-9dca-ebb93aa4209e     0.591430  0.164152       0.244418   \n",
       "9b3bda12-20af-4993-a241-07da1c2fed2a     0.601742  0.168293       0.229965   \n",
       "\n",
       "                                      start speed mean  start speed std  \\\n",
       "247bc069-4815-4f58-9791-d7118bb32c3e          2.685696         1.427534   \n",
       "2ace9260-60c9-41ba-965d-056a75a89df5          4.837147         2.034021   \n",
       "451f260f-439b-4596-869c-43e3045f8ced          3.516413         1.853868   \n",
       "7c3cc44a-c5a7-49fb-9dca-ebb93aa4209e          6.383308         3.828650   \n",
       "9b3bda12-20af-4993-a241-07da1c2fed2a          3.534725         1.765777   \n",
       "\n",
       "                                      early finish mean  early finish std  \\\n",
       "247bc069-4815-4f58-9791-d7118bb32c3e           9.214283          8.530541   \n",
       "2ace9260-60c9-41ba-965d-056a75a89df5           7.418657          3.599440   \n",
       "451f260f-439b-4596-869c-43e3045f8ced           9.011062          7.760364   \n",
       "7c3cc44a-c5a7-49fb-9dca-ebb93aa4209e          11.434955         12.002060   \n",
       "9b3bda12-20af-4993-a241-07da1c2fed2a           6.473083          5.216450   \n",
       "\n",
       "                                      pct class mean  pct class std  \n",
       "247bc069-4815-4f58-9791-d7118bb32c3e        0.736373       0.180646  \n",
       "2ace9260-60c9-41ba-965d-056a75a89df5        0.730149       0.088659  \n",
       "451f260f-439b-4596-869c-43e3045f8ced        0.695765       0.215330  \n",
       "7c3cc44a-c5a7-49fb-9dca-ebb93aa4209e        0.623658       0.208112  \n",
       "9b3bda12-20af-4993-a241-07da1c2fed2a        0.775343       0.148211  \n",
       "\n",
       "[5 rows x 46 columns]"
      ]
     },
     "execution_count": 31,
     "metadata": {},
     "output_type": "execute_result"
    }
   ],
   "source": [
    "stats = session_stats.groupby('stu_id')[['start speed', 'early finish', 'pct class']].agg(['mean', 'std'])\n",
    "stats.columns = [\" \".join(elm) for elm in stats.columns.to_flat_index()]\n",
    "\n",
    "sstats = pd.concat([sstats, stats], axis=1)\n",
    "sstats.head()"
   ]
  },
  {
   "cell_type": "code",
   "execution_count": 32,
   "metadata": {},
   "outputs": [
    {
     "data": {
      "image/png": "[encoded data removed]",
      "text/plain": [
       "<Figure size 2160x288 with 6 Axes>"
      ]
     },
     "metadata": {
      "needs_background": "light"
     },
     "output_type": "display_data"
    }
   ],
   "source": [
    "plt.figure(figsize=(30,4))\n",
    "cols = ['start speed mean', 'start speed std', 'early finish mean', 'early finish std', 'pct class mean', 'Total Time(hours)']\n",
    "xcol = 'diligence'\n",
    "for i, ycol in enumerate(cols):\n",
    "    plt.subplot(1,len(cols), i+1)\n",
    "    x = sstats[ycol]\n",
    "    y = sstats[xcol]\n",
    "    plt.scatter(y, x)\n",
    "    plt.title(ycol)\n",
    "    plt.xlabel(xcol)\n",
    "    plt.ylabel(ycol)\n",
    "plt.show()\n",
    "\n"
   ]
  },
  {
   "cell_type": "markdown",
   "metadata": {},
   "source": [
    "#### Off-task time"
   ]
  },
  {
   "cell_type": "code",
   "execution_count": 33,
   "metadata": {},
   "outputs": [
    {
     "name": "stderr",
     "output_type": "stream",
     "text": [
      "INFO:analytics.batch:Merged new stats together: (20, 50)\n"
     ]
    }
   ],
   "source": [
    "sid = sids[batch_descs[0]][0]\n",
    "\n",
    "tx = get_tx(sid)\n",
    "tx = lbl_nondil_tx(tx)\n",
    "\n",
    "detect_offtask = calc_detected_offtask(tx)\n",
    "detect_guess = calc_detected_guess(tx)\n",
    "time_on_task = calc_time_on_task(tx)\n",
    "\n",
    "sstats = pd.concat([sstats, \\\n",
    "                    detect_guess, detect_offtask, time_on_task], axis=1)\n",
    "logger.info(f\"Merged new stats together: {sstats.shape}\")\n"
   ]
  },
  {
   "cell_type": "markdown",
   "metadata": {},
   "source": [
    "##### Calculating off-task time"
   ]
  },
  {
   "cell_type": "code",
   "execution_count": 34,
   "metadata": {},
   "outputs": [
    {
     "data": {
      "image/png": "[encoded data removed]",
      "text/plain": [
       "<Figure size 1080x288 with 4 Axes>"
      ]
     },
     "metadata": {
      "needs_background": "light"
     },
     "output_type": "display_data"
    },
    {
     "data": {
      "image/png": "[encoded data removed]",
      "text/plain": [
       "<Figure size 288x288 with 1 Axes>"
      ]
     },
     "metadata": {
      "needs_background": "light"
     },
     "output_type": "display_data"
    },
    {
     "data": {
      "image/png": "[encoded data removed]",
      "text/plain": [
       "<Figure size 288x288 with 1 Axes>"
      ]
     },
     "metadata": {
      "needs_background": "light"
     },
     "output_type": "display_data"
    },
    {
     "data": {
      "image/png": "[encoded data removed]",
      "text/plain": [
       "<Figure size 288x288 with 1 Axes>"
      ]
     },
     "metadata": {
      "needs_background": "light"
     },
     "output_type": "display_data"
    },
    {
     "data": {
      "image/png": "[encoded data removed]",
      "text/plain": [
       "<Figure size 288x288 with 1 Axes>"
      ]
     },
     "metadata": {
      "needs_background": "light"
     },
     "output_type": "display_data"
    },
    {
     "data": {
      "image/png": "[encoded data removed]",
      "text/plain": [
       "<Figure size 288x288 with 1 Axes>"
      ]
     },
     "metadata": {
      "needs_background": "light"
     },
     "output_type": "display_data"
    },
    {
     "data": {
      "image/png": "[encoded data removed]",
      "text/plain": [
       "<Figure size 288x288 with 1 Axes>"
      ]
     },
     "metadata": {
      "needs_background": "light"
     },
     "output_type": "display_data"
    },
    {
     "data": {
      "image/png": "[encoded data removed]",
      "text/plain": [
       "<Figure size 288x288 with 1 Axes>"
      ]
     },
     "metadata": {
      "needs_background": "light"
     },
     "output_type": "display_data"
    },
    {
     "data": {
      "image/png": "[encoded data removed]",
      "text/plain": [
       "<Figure size 288x288 with 1 Axes>"
      ]
     },
     "metadata": {
      "needs_background": "light"
     },
     "output_type": "display_data"
    },
    {
     "data": {
      "image/png": "[encoded data removed]",
      "text/plain": [
       "<Figure size 288x288 with 1 Axes>"
      ]
     },
     "metadata": {
      "needs_background": "light"
     },
     "output_type": "display_data"
    }
   ],
   "source": [
    "plt.figure(figsize=(15,4))\n",
    "cols = ['time_on_task', 'time_off_task', 'pct class mean', 'mean_detect_offtask']\n",
    "xcol = 'diligence'\n",
    "for i, ycol in enumerate(cols):\n",
    "    plt.subplot(1,len(cols), i+1)\n",
    "    x = sstats[ycol]\n",
    "    y = sstats[xcol]\n",
    "    plt.scatter(y, x)\n",
    "    plt.title(ycol)\n",
    "    plt.xlabel(xcol)\n",
    "    plt.ylabel(ycol)\n",
    "plt.show()\n",
    "\n",
    "plots = [('mean_detect_offtask', 'time_on_task'), ('diligence', 'OffTask'),\n",
    "         ('diligence', 'Pct OffTask'), ('mean_detect_offtask', 'Pct OffTask'),\n",
    "         ('OffTask', 'time_off_task'), ('OffTask', 'time_on_task'),\n",
    "         ('diligence', 'Total Time'), ('cog_ability', 'early finish mean'),\n",
    "         ('cog_ability', 'early finish mean')\n",
    "        ]\n",
    "\n",
    "for xcol, ycol in plots:\n",
    "    plt.figure(figsize=(4,4))\n",
    "    x = sstats[xcol]\n",
    "    y = sstats[ycol]\n",
    "    plt.scatter(x, y)\n",
    "    plt.xlabel(xcol)\n",
    "    plt.ylabel(ycol)\n",
    "    plt.show()"
   ]
  },
  {
   "cell_type": "markdown",
   "metadata": {},
   "source": [
    "Note: \n",
    "\n",
    "time_on_task calculation used pivot_table, but didn't specify an aggrigation function. Need to fix this in original script."
   ]
  },
  {
   "cell_type": "code",
   "execution_count": 35,
   "metadata": {},
   "outputs": [
    {
     "data": {
      "image/png": "[encoded data removed]",
      "text/plain": [
       "<Figure size 288x288 with 1 Axes>"
      ]
     },
     "metadata": {
      "needs_background": "light"
     },
     "output_type": "display_data"
    }
   ],
   "source": [
    "d = tx.groupby(['stu_id', 'is_offtask'])['duration'].sum().reset_index()\n",
    "d = d.pivot(index='stu_id', columns='is_offtask', values='duration')\n",
    "\n",
    "d = pd.concat([sstats['diligence'], d], axis=1)\n",
    "plt.figure(figsize=(4,4))\n",
    "x = d['diligence']\n",
    "y = d[True]\n",
    "plt.scatter(x, y)\n",
    "plt.xlabel(xcol)\n",
    "plt.ylabel(ycol)\n",
    "plt.show()"
   ]
  },
  {
   "cell_type": "code",
   "execution_count": 36,
   "metadata": {},
   "outputs": [],
   "source": [
    "#sstats = stu_stats[batch_descs[0]]"
   ]
  },
  {
   "cell_type": "code",
   "execution_count": 37,
   "metadata": {},
   "outputs": [],
   "source": [
    "sid = sids[batch_descs[0]][0]\n",
    "\n",
    "tx = get_tx(sid)\n",
    "tx = lbl_nondil_tx(tx)"
   ]
  },
  {
   "cell_type": "code",
   "execution_count": 38,
   "metadata": {},
   "outputs": [],
   "source": [
    "##### Accuracy"
   ]
  },
  {
   "cell_type": "code",
   "execution_count": 39,
   "metadata": {},
   "outputs": [],
   "source": [
    "\n",
    "d = tx.groupby(['stu_id', 'outcome'])['_id'].count().reset_index(name=\"count\").pivot_table(index='stu_id', columns='outcome', values='count', fill_value=0)\n",
    "d['total tx'] = d.apply(lambda x: np.sum(x), axis=1)\n",
    "d['accuracy'] = d.apply(lambda x: x['Correct'] / x['total tx'], axis=1)\n",
    "\n",
    "sstats = pd.concat([sstats, d], axis=1)\n",
    "\n",
    "#d = tx.pivot_table(index='stu_id', columns='outcome', values=t)"
   ]
  },
  {
   "cell_type": "code",
   "execution_count": 40,
   "metadata": {},
   "outputs": [
    {
     "data": {
      "image/png": "[encoded data removed]",
      "text/plain": [
       "<Figure size 288x288 with 1 Axes>"
      ]
     },
     "metadata": {
      "needs_background": "light"
     },
     "output_type": "display_data"
    },
    {
     "data": {
      "image/png": "[encoded data removed]",
      "text/plain": [
       "<Figure size 288x288 with 1 Axes>"
      ]
     },
     "metadata": {
      "needs_background": "light"
     },
     "output_type": "display_data"
    },
    {
     "data": {
      "image/png": "[encoded data removed]",
      "text/plain": [
       "<Figure size 288x288 with 1 Axes>"
      ]
     },
     "metadata": {
      "needs_background": "light"
     },
     "output_type": "display_data"
    },
    {
     "data": {
      "image/png": "[encoded data removed]",
      "text/plain": [
       "<Figure size 288x288 with 1 Axes>"
      ]
     },
     "metadata": {
      "needs_background": "light"
     },
     "output_type": "display_data"
    },
    {
     "data": {
      "image/png": "[encoded data removed]",
      "text/plain": [
       "<Figure size 288x288 with 1 Axes>"
      ]
     },
     "metadata": {
      "needs_background": "light"
     },
     "output_type": "display_data"
    },
    {
     "data": {
      "image/png": "[encoded data removed]",
      "text/plain": [
       "<Figure size 288x288 with 1 Axes>"
      ]
     },
     "metadata": {
      "needs_background": "light"
     },
     "output_type": "display_data"
    },
    {
     "data": {
      "image/png": "[encoded data removed]",
      "text/plain": [
       "<Figure size 288x288 with 1 Axes>"
      ]
     },
     "metadata": {
      "needs_background": "light"
     },
     "output_type": "display_data"
    },
    {
     "data": {
      "image/png": "[encoded data removed]",
      "text/plain": [
       "<Figure size 288x288 with 1 Axes>"
      ]
     },
     "metadata": {
      "needs_background": "light"
     },
     "output_type": "display_data"
    }
   ],
   "source": [
    "plots = [('diligence', 'Pct Correct'), ('diligence', 'Total Tx'), \n",
    "         (\"diligence\", \"Pct Guess\"), ('diligence', 'Pct Hint'),\n",
    "         ('Total Tx', 'Pct Incorrect'), ('cog_ability', 'Pct Incorrect'),\n",
    "         ('diligence', 'Pct Incorrect'), (\"Pct Incorrect\", \"Pct Guess\")\n",
    "        ]\n",
    "\n",
    "for xcol, ycol in plots:\n",
    "    plt.figure(figsize=(4,4))\n",
    "    x = sstats[ycol]\n",
    "    y = sstats[xcol]\n",
    "    plt.scatter(y, x)\n",
    "    plt.xlabel(xcol)\n",
    "    plt.ylabel(ycol)\n",
    "    plt.show()\n",
    "\n"
   ]
  },
  {
   "cell_type": "code",
   "execution_count": 41,
   "metadata": {},
   "outputs": [
    {
     "name": "stderr",
     "output_type": "stream",
     "text": [
      "INFO:analytics.batch:Number of High error rate students: 18\n"
     ]
    }
   ],
   "source": [
    "logger.info(f\"Number of High error rate students: {np.sum(sstats['Pct Incorrect'] > 0.2)}\")"
   ]
  },
  {
   "cell_type": "code",
   "execution_count": 42,
   "metadata": {},
   "outputs": [
    {
     "data": {
      "image/png": "[encoded data removed]",
      "text/plain": [
       "<Figure size 288x288 with 1 Axes>"
      ]
     },
     "metadata": {
      "needs_background": "light"
     },
     "output_type": "display_data"
    },
    {
     "data": {
      "image/png": "[encoded data removed]",
      "text/plain": [
       "<Figure size 288x288 with 1 Axes>"
      ]
     },
     "metadata": {
      "needs_background": "light"
     },
     "output_type": "display_data"
    },
    {
     "data": {
      "image/png": "[encoded data removed]",
      "text/plain": [
       "<Figure size 288x288 with 1 Axes>"
      ]
     },
     "metadata": {
      "needs_background": "light"
     },
     "output_type": "display_data"
    },
    {
     "data": {
      "image/png": "[encoded data removed]",
      "text/plain": [
       "<Figure size 288x288 with 1 Axes>"
      ]
     },
     "metadata": {
      "needs_background": "light"
     },
     "output_type": "display_data"
    }
   ],
   "source": [
    "# EDA of students near diligence = 0 where there were strange discontinuities in behavior data\n",
    "plots = [('diligence', 'Pct Correct'),\n",
    "         ('Total Tx', 'Pct Correct'), ('cog_ability', 'Pct Correct'),\n",
    "         ('pre-sim total mastery', 'Pct Correct')\n",
    "        ]\n",
    "\n",
    "rows = (sstats['diligence'] < 1) & (sstats['diligence'] > -1)\n",
    "\n",
    "for ycol, xcol in plots:\n",
    "    plt.figure(figsize=(4,4))\n",
    "    x = sstats.loc[rows, ycol]\n",
    "    y = sstats.loc[rows, xcol]\n",
    "    plt.scatter(y, x)\n",
    "    plt.xlabel(xcol)\n",
    "    plt.ylabel(ycol)\n",
    "    plt.show()\n",
    "\n"
   ]
  },
  {
   "cell_type": "markdown",
   "metadata": {},
   "source": [
    "### Domain"
   ]
  },
  {
   "cell_type": "code",
   "execution_count": 43,
   "metadata": {},
   "outputs": [],
   "source": [
    "#"
   ]
  },
  {
   "cell_type": "markdown",
   "metadata": {},
   "source": [
    "#### KC Parameter EDA"
   ]
  },
  {
   "cell_type": "markdown",
   "metadata": {},
   "source": [
    "#### Tutor Skill Tracing"
   ]
  },
  {
   "cell_type": "markdown",
   "metadata": {},
   "source": [
    "### Tutor"
   ]
  },
  {
   "cell_type": "markdown",
   "metadata": {},
   "source": [
    "#### Knowledge Tracing"
   ]
  },
  {
   "cell_type": "markdown",
   "metadata": {},
   "source": [
    "### Learning"
   ]
  },
  {
   "cell_type": "markdown",
   "metadata": {},
   "source": [
    "#### Student learning"
   ]
  },
  {
   "cell_type": "code",
   "execution_count": 44,
   "metadata": {},
   "outputs": [],
   "source": [
    "sid = sids[batch_descs[0]][0]\n",
    "\n",
    "tx = get_tx(sid)"
   ]
  },
  {
   "cell_type": "code",
   "execution_count": 45,
   "metadata": {},
   "outputs": [],
   "source": [
    "step_stats = tx.groupby(['stu_id', 'unit_id', 'section_id', 'prob_id', 'step_id'])['duration'].agg(['sum', 'count']).reset_index()\n",
    "stu_prob_stats = step_stats.groupby('stu_id')['count'].describe()\n",
    "stu_prob_stats.columns = [\"Step Attempt %s\" % col for col in stu_prob_stats.columns]\n",
    "d = step_stats.groupby('stu_id')['sum'].describe()\n",
    "d.columns = [\"Step Duration %s\" % col for col in d.columns]\n",
    "stu_prob_stats = pd.concat([stu_prob_stats, d], axis=1)\n",
    "stu_prob_stats.head()\n",
    "\n",
    "# kc_stats = tx[['stu_id', 'kc', 'step_id']].drop_duplicates().groupby(['stu_id', 'kc']).count()\n",
    "stu_kc_stats = tx[['stu_id', 'kc', 'step_id']].drop_duplicates().groupby(['stu_id', 'kc']).count().reset_index()\n",
    "stu_kc_stats.rename(columns={'step_id': 'kc opportunities'}, inplace=True)\n",
    "kc_stats = stu_kc_stats.groupby('kc').describe()\n"
   ]
  },
  {
   "cell_type": "code",
   "execution_count": 46,
   "metadata": {},
   "outputs": [
    {
     "data": {
      "image/png": "[encoded data removed]",
      "text/plain": [
       "<Figure size 1296x864 with 18 Axes>"
      ]
     },
     "metadata": {
      "needs_background": "light"
     },
     "output_type": "display_data"
    }
   ],
   "source": [
    "num_bins = 10\n",
    "num_rows = 3\n",
    "num_cols = 6\n",
    "row_height = 3\n",
    "col_width = 3\n",
    "plt.figure(figsize=(col_width*num_cols, row_height*num_rows+num_rows))\n",
    "\n",
    "row = 0\n",
    "plt.subplot(num_rows,num_cols,num_cols*row + 1)\n",
    "plt.hist(stu_prob_stats['Step Attempt mean'], bins=num_bins)\n",
    "plt.title(\"Mean Attempts per step\")\n",
    "plt.subplot(num_rows,num_cols,num_cols*row + 2)\n",
    "plt.hist(stu_prob_stats['Step Attempt std'], bins=num_bins)\n",
    "plt.title(\"Standard Dev Attempts per step\")\n",
    "\n",
    "\n",
    "plt.subplot(num_rows,num_cols,num_cols*row + 3)\n",
    "plt.hist(stu_prob_stats['Step Attempt 25%'], bins=num_bins)\n",
    "plt.title(\"Q1 Attempts per step\")\n",
    "plt.subplot(num_rows,num_cols,num_cols*row + 4)\n",
    "plt.hist(stu_prob_stats['Step Attempt 50%'], bins=num_bins)\n",
    "plt.title(\"Q2 Attempts per step\")\n",
    "plt.subplot(num_rows,num_cols,num_cols*row + 5)\n",
    "plt.hist(stu_prob_stats['Step Attempt 75%'], bins=num_bins)\n",
    "plt.title(\"Q3 Attempts per step\")\n",
    "plt.subplot(num_rows,num_cols,num_cols*row + 6)\n",
    "plt.hist(stu_prob_stats['Step Attempt max'], bins=num_bins)\n",
    "plt.title(\"Max Attempts per step\")\n",
    "\n",
    "row = 1\n",
    "plt.subplot(num_rows,num_cols,num_cols*row + 1)\n",
    "plt.hist(stu_prob_stats['Step Duration mean'], bins=num_bins)\n",
    "plt.title(\"Mean Time per step\")\n",
    "plt.subplot(num_rows,num_cols,num_cols*row + 2)\n",
    "plt.hist(stu_prob_stats['Step Duration std'], bins=num_bins)\n",
    "plt.title(\"Standard Dev Time per step\")\n",
    "\n",
    "\n",
    "plt.subplot(num_rows,num_cols,num_cols*row + 3)\n",
    "plt.hist(stu_prob_stats['Step Duration 25%'], bins=num_bins)\n",
    "plt.title(\"Q1 Time per step\")\n",
    "plt.subplot(num_rows,num_cols,num_cols*row + 4)\n",
    "plt.hist(stu_prob_stats['Step Duration 50%'], bins=num_bins)\n",
    "plt.title(\"Q2 Time per step\")\n",
    "plt.subplot(num_rows,num_cols,num_cols*row + 5)\n",
    "plt.hist(stu_prob_stats['Step Duration 75%'], bins=num_bins)\n",
    "plt.title(\"Q3 Time per step\")\n",
    "plt.subplot(num_rows,num_cols,num_cols*row + 6)\n",
    "plt.hist(stu_prob_stats['Step Duration max'], bins=num_bins)\n",
    "plt.title(\"Max Time per step\")\n",
    "\n",
    "row = 2\n",
    "plt.subplot(num_rows,num_cols,num_cols*row + 1)\n",
    "plt.hist(kc_stats[('kc opportunities', 'mean')], bins=num_bins)\n",
    "plt.title(\"Mean opportunities per kc\")\n",
    "plt.subplot(num_rows,num_cols,num_cols*row + 2)\n",
    "plt.hist(kc_stats[('kc opportunities', 'std')], bins=num_bins)\n",
    "plt.title(\"Standard Dev opportunities per kc\")\n",
    "\n",
    "\n",
    "plt.subplot(num_rows,num_cols,num_cols*row + 3)\n",
    "axes = plt.hist(kc_stats[('kc opportunities', '25%')], bins=num_bins)\n",
    "x1,x2,y1,y2 = plt.axis()\n",
    "plt.axis([0,20,y1,y2])\n",
    "plt.title(\"Q1 opportunities per kc\")\n",
    "plt.subplot(num_rows,num_cols,num_cols*row + 4)\n",
    "plt.hist(kc_stats[('kc opportunities', '50%')], bins=num_bins)\n",
    "x1,x2,y1,y2 = plt.axis()\n",
    "plt.axis([0,20,y1,y2])\n",
    "plt.title(\"Q2 opportunities per kc\")\n",
    "plt.subplot(num_rows,num_cols,num_cols*row + 5)\n",
    "plt.hist(kc_stats[('kc opportunities', '75%')], bins=num_bins)\n",
    "x1,x2,y1,y2 = plt.axis()\n",
    "plt.axis([0,20,y1,y2])\n",
    "plt.title(\"Q3 opportunities per kc\")\n",
    "plt.subplot(num_rows,num_cols,num_cols*row + 6)\n",
    "plt.hist(kc_stats[('kc opportunities', 'max')], bins=num_bins)\n",
    "x1,x2,y1,y2 = plt.axis()\n",
    "plt.axis([0,20,y1,y2])\n",
    "plt.title(\"Max opportunities per kc\")\n",
    "\n",
    "plt.show()"
   ]
  },
  {
   "cell_type": "markdown",
   "metadata": {},
   "source": [
    "Notes:\n",
    "\n",
    "- Tweaked m_t domain parameter so that skills are given more opportunities to mastery.\n",
    "- Still need to investigate disconnects between tutor and student knowledge."
   ]
  },
  {
   "cell_type": "code",
   "execution_count": null,
   "metadata": {},
   "outputs": [],
   "source": []
  },
  {
   "cell_type": "code",
   "execution_count": 47,
   "metadata": {},
   "outputs": [
    {
     "data": {
      "image/png": "[encoded data removed]",
      "text/plain": [
       "<Figure size 288x288 with 1 Axes>"
      ]
     },
     "metadata": {
      "needs_background": "light"
     },
     "output_type": "display_data"
    },
    {
     "data": {
      "image/png": "[encoded data removed]",
      "text/plain": [
       "<Figure size 288x288 with 1 Axes>"
      ]
     },
     "metadata": {
      "needs_background": "light"
     },
     "output_type": "display_data"
    },
    {
     "data": {
      "image/png": "[encoded data removed]",
      "text/plain": [
       "<Figure size 288x288 with 1 Axes>"
      ]
     },
     "metadata": {
      "needs_background": "light"
     },
     "output_type": "display_data"
    },
    {
     "data": {
      "image/png": "[encoded data removed]",
      "text/plain": [
       "<Figure size 288x288 with 1 Axes>"
      ]
     },
     "metadata": {
      "needs_background": "light"
     },
     "output_type": "display_data"
    }
   ],
   "source": [
    "# EDA of aggregate student knowledge\n",
    "plots = [('diligence', 'final-sim total mastery'), ('cog_ability', 'pre-sim total mastery'),\n",
    "         ('cog_ability', 'pre-sim total skill'), ('pre-sim total mastery', 'final-sim total mastery')\n",
    "        ]\n",
    "\n",
    "for xcol, ycol in plots:\n",
    "    plt.figure(figsize=(4,4))\n",
    "    x = sstats[ycol]\n",
    "    y = sstats[xcol]\n",
    "    plt.scatter(y, x)\n",
    "    plt.xlabel(xcol)\n",
    "    plt.ylabel(ycol)\n",
    "    plt.show()\n",
    "\n"
   ]
  },
  {
   "cell_type": "code",
   "execution_count": 48,
   "metadata": {},
   "outputs": [],
   "source": [
    "# Look at accuracy of tutor knowledge tracing"
   ]
  },
  {
   "cell_type": "code",
   "execution_count": 49,
   "metadata": {},
   "outputs": [],
   "source": [
    "tx_lblr = TransactionAnnotator(db)"
   ]
  },
  {
   "cell_type": "code",
   "execution_count": 50,
   "metadata": {},
   "outputs": [],
   "source": [
    "def get_tx_actions(tx):\n",
    "    d = tx.explode('action_ids').rename(columns={'action_ids': 'action_id'})\n",
    "    actions = pd.DataFrame(db.actions.find({\"_id\": {\"$in\": d['action_id'].tolist()}}))\n",
    "    actions['action_type'] = actions.apply(lambda x: x['action']['type'], axis=1)\n",
    "    actions.rename(columns={\"_id\": \"action_id\"}, inplace=True)\n",
    "    d = pd.merge(d[['_id', 'action_id']], actions, on='action_id', how='outer')\n",
    "    return d\n",
    "\n",
    "def label_offtask_tx(tx):\n",
    "    d = tx.explode('action_ids')\n",
    "    actions = pd.DataFrame(db.actions.find({\"_id\": {\"$in\": d['action_ids'].tolist()}}))\n",
    "    actions['action_type'] = actions.apply(lambda x: x['action']['type'], axis=1)\n",
    "    actions.rename(columns={\"_id\": \"action_ids\"}, inplace=True)\n",
    "    d = pd.merge(d, actions[['action_ids', 'action_type']], on='action_ids', how='outer')\n",
    "    return d.groupby(\"_id\")['action_type'].apply(lambda x: \"OffTask\" in x.tolist())\n",
    "\n",
    "def get_tx_decisions(tx, get_actions=True):\n",
    "    actions = get_tx_actions(tx)\n",
    "    decisions = pd.DataFrame(db.decisions.find({\"_id\": {\"$in\": actions['decision_id'].tolist()}}))\n",
    "    decisions.rename(columns={\"_id\": \"decision_id\"}, inplace=True)\n",
    "#    d = pd.merge(actions[['action_id', 'decision_id']], decisions, on='decision_id', how='outer')\n",
    "    if get_actions:\n",
    "        return decisions, actions\n",
    "    else:\n",
    "        return decisions\n"
   ]
  },
  {
   "cell_type": "code",
   "execution_count": 51,
   "metadata": {},
   "outputs": [
    {
     "name": "stdout",
     "output_type": "stream",
     "text": [
      "Original tx: (44510, 19)\n",
      "Decisions: (63238, 10)\n",
      "Actions: (63238, 6)\n",
      "Merged. Multiple tx for tx where multiple actions are associated: (63238, 33)\n"
     ]
    }
   ],
   "source": [
    "# Merge dcisions with tx\n",
    "decisions, actions = tx_lblr.get_tx_decisions(tx)\n",
    "# Need to remove \"_id\" from index because some transactions will be duplicated\n",
    "tx.index = range(tx.shape[0])\n",
    "actions.drop(columns=['time'], inplace=True)\n",
    "d = pd.merge(tx, actions, how='outer', on='_id')\n",
    "drop_cols = ['hints_avail', 'hints_used', 'attempt', 'student_id', 'kc']\n",
    "decisions.drop(columns=drop_cols, inplace=True)\n",
    "decisions.rename(columns={\"time\": \"action_time\"}, inplace=True)\n",
    "d = pd.merge(d, decisions, how='outer', on='decision_id')\n",
    "print(f\"Original tx: {tx.shape}\")\n",
    "print(f\"Decisions: {decisions.shape}\")\n",
    "print(f\"Actions: {actions.shape}\")\n",
    "print(f\"Merged. Multiple tx for tx where multiple actions are associated: {d.shape}\")\n"
   ]
  },
  {
   "cell_type": "code",
   "execution_count": 52,
   "metadata": {},
   "outputs": [
    {
     "name": "stdout",
     "output_type": "stream",
     "text": [
      "(26637, 3)\n",
      "(26637, 8)\n",
      "(26637, 9)\n",
      "(26637, 10)\n",
      "(26637, 11)\n",
      "(26637, 12)\n",
      "(26637, 13)\n",
      "(26637, 14)\n",
      "(26637, 20)\n"
     ]
    }
   ],
   "source": [
    "# Summarize student-kc\n",
    "# Rollup steps\n",
    "\n",
    "\n",
    "# Count outcomes\n",
    "d1 = tx.pivot_table(index=['stu_id', 'unit_id', 'section_id', 'prob_id', 'step_id'], columns=['outcome'], values='duration', aggfunc=len, fill_value=0)\n",
    "print(d1.shape)\n",
    "# Count actions\n",
    "d1 = pd.concat([d1, d.pivot_table(index=['stu_id', 'unit_id', 'section_id', 'prob_id', 'step_id'], columns=['action_type'], values='duration', aggfunc=len, fill_value=0)], axis=1)\n",
    "print(d1.shape)\n",
    "# Sum Time\n",
    "d1 = pd.concat([d1, tx.groupby(['stu_id', 'unit_id', 'section_id', 'prob_id', 'step_id'])['duration'].sum()], axis=1)\n",
    "print(d1.shape)\n",
    "# Count Attempts\n",
    "d1 = pd.concat([d1, tx.groupby(['stu_id', 'unit_id', 'section_id', 'prob_id', 'step_id'])['duration'].count().rename(\"Attempts\")], axis=1)\n",
    "print(d1.shape)\n",
    "# Add Plt\n",
    "d1 = pd.concat([d1, d.groupby(['stu_id', 'unit_id', 'section_id', 'prob_id', 'step_id'])['plt'].agg(lambda x: x.min())], axis=1)\n",
    "print(d1.shape)\n",
    "# Plt1\n",
    "d1 = pd.concat([d1, d.groupby(['stu_id', 'unit_id', 'section_id', 'prob_id', 'step_id'])['plt1'].agg(lambda x: x.max())], axis=1)\n",
    "print(d1.shape)\n",
    "# Learner Knowledge changes after first attempt. \n",
    "d1 = pd.concat([d1, d.groupby(['stu_id', 'unit_id', 'section_id', 'prob_id', 'step_id'])['learner_knowledge'].agg(lambda x: x.iloc[0])], axis=1)\n",
    "print(d1.shape)\n",
    "# Get time stamp for last tx\n",
    "d1 = pd.concat([d1, d.groupby(['stu_id', 'unit_id', 'section_id', 'prob_id', 'step_id'])['time'].agg(lambda x: x.sort_values().iloc[-1])], axis=1)\n",
    "print(d1.shape)\n",
    "\n",
    "# Get constant fields\n",
    "d1 = pd.merge(d1, d.loc[:, ['stu_id', 'unit_id', 'section_id', 'prob_id', 'step_id', 'kc' ]].drop_duplicates(), on=['stu_id', 'unit_id', 'section_id', 'prob_id', 'step_id'], how='inner')\n",
    "print(d1.shape)\n",
    "steps = d1.sort_values(by=\"time\")"
   ]
  },
  {
   "cell_type": "code",
   "execution_count": 53,
   "metadata": {},
   "outputs": [],
   "source": [
    "# KC Rollup\n",
    "# Count opportunities\n",
    "d1 = steps.groupby(['stu_id', 'kc'])['plt'].count().rename(\"opportunities\")\n",
    "# Last knowledge estimate\n",
    "d1 = pd.concat([d1, steps.groupby(['stu_id', 'kc'])['plt1'].agg(lambda x: x.iloc[-1]).rename(\"last knowledge est\")], axis=1)\n",
    "# Max knowledge estimate\n",
    "d1 = pd.concat([d1, steps.groupby(['stu_id', 'kc'])['plt1'].agg(lambda x: x.max()).rename(\"max knowledge est\")], axis=1)\n",
    "# Index of max knowledge estimate\n",
    "d1 = pd.concat([d1, steps.groupby(['stu_id', 'kc'])['plt1'].agg(lambda x: x.tolist().index(x.max())).rename(\"max know opp\")], axis=1)\n",
    "# starting learner knowledge\n",
    "d1 = pd.concat([d1, steps.groupby(['stu_id', 'kc'])['learner_knowledge'].agg(lambda x: x.iloc[0]).rename(\"init learner knowledge\")], axis=1)\n",
    "# final learner knowledge\n",
    "d1 = pd.concat([d1, steps.groupby(['stu_id', 'kc'])['learner_knowledge'].agg(lambda x: x.iloc[-1]).rename(\"final learner knowledge\")], axis=1)\n",
    "\n",
    "kc_stats = d1.copy()\n"
   ]
  },
  {
   "cell_type": "code",
   "execution_count": 54,
   "metadata": {},
   "outputs": [],
   "source": [
    "# EDA of challenge level of students\n",
    "# Looking at how many practice opportunities students are getting at different levels of ability/knowledge\n",
    "\n",
    "# Learner knowledge \n",
    "\n",
    "def label_knowledge(x):\n",
    "    if x <= 0.3:\n",
    "        return 'low_knowledge'\n",
    "    elif (x > 0.3) and (x <= 0.5):\n",
    "        return 'low-mid_knowledge'\n",
    "    elif (x > 0.5) and (x <= 0.7):\n",
    "        return 'mid_knowledge'\n",
    "    elif (x > 0.7) and (x <= 0.9):\n",
    "        return 'mid-high_knowledge'\n",
    "    elif (x > 0.9):\n",
    "        return 'high_knowledge'\n",
    "    \n",
    "new_cols = {'low_knowledge': (0, 0.2),\n",
    "            'low-mid_knowledge': (0.3, 0.5), \n",
    "            'mid_knowledge': (0.5, 0.7), \n",
    "            'mid-high_knowledge': (0.7, 0.9),\n",
    "            'high_knowledge': (0.9, 1)\n",
    "           }\n",
    "\n",
    "def label_knowledge(x):\n",
    "    for k in new_cols:\n",
    "        if (x <= new_cols[k][1]) & (x > new_cols[k][0]):\n",
    "            return k\n",
    "\n",
    "\n",
    "\n",
    "steps['knowledge_level'] = steps['learner_knowledge'].apply(label_knowledge)\n",
    "steps = pd.concat([steps, pd.get_dummies(steps['knowledge_level'])], axis=1)\n",
    "\n",
    "# Count opportunities at each knowledge level\n",
    "d1 = steps.groupby('stu_id')['low_knowledge'].sum()\n",
    "    \n",
    "for col in new_cols:\n",
    "    if col != 'low_knowledge':\n",
    "        d1 = pd.concat([d1, steps.groupby('stu_id')[col].sum()], axis=1)\n",
    "\n"
   ]
  },
  {
   "cell_type": "code",
   "execution_count": 55,
   "metadata": {},
   "outputs": [
    {
     "data": {
      "image/png": "[encoded data removed]",
      "text/plain": [
       "<Figure size 1080x288 with 5 Axes>"
      ]
     },
     "metadata": {
      "needs_background": "light"
     },
     "output_type": "display_data"
    }
   ],
   "source": [
    "# Plot counts of students at varying degrees of practice at each level of knowledge\n",
    "plt.figure(figsize=(15,4))    \n",
    "for i, col in enumerate(new_cols):\n",
    "    plt.subplot(1,len(new_cols), i+1)\n",
    "    plt.hist(d1[col])\n",
    "    plt.xlabel(col)\n",
    "    plt.title(col)\n",
    "\n",
    "plt.show()"
   ]
  },
  {
   "cell_type": "code",
   "execution_count": null,
   "metadata": {},
   "outputs": [],
   "source": []
  },
  {
   "cell_type": "markdown",
   "metadata": {},
   "source": [
    "##### Help-seeking"
   ]
  },
  {
   "cell_type": "code",
   "execution_count": 56,
   "metadata": {},
   "outputs": [
    {
     "data": {
      "image/png": "[encoded data removed]",
      "text/plain": [
       "<Figure size 432x288 with 1 Axes>"
      ]
     },
     "metadata": {
      "needs_background": "light"
     },
     "output_type": "display_data"
    },
    {
     "data": {
      "text/plain": [
       "<function matplotlib.pyplot.show(close=None, block=None)>"
      ]
     },
     "execution_count": 56,
     "metadata": {},
     "output_type": "execute_result"
    },
    {
     "data": {
      "image/png": "[encoded data removed]",
      "text/plain": [
       "<Figure size 864x288 with 4 Axes>"
      ]
     },
     "metadata": {
      "needs_background": "light"
     },
     "output_type": "display_data"
    }
   ],
   "source": [
    "# Overall Help-seeking\n",
    "plt.hist(sstats['Pct HintRequest'])\n",
    "plt.xlabel(\"Proportion Tx HintRequest\")\n",
    "plt.show()\n",
    "\n",
    "# Total Hints used per opportunity\n",
    "d1 = steps.pivot_table(index='stu_id', columns='Hint', values='Attempt', aggfunc='count', fill_value=0)\n",
    "d1['total'] = d1.apply(lambda x: np.sum(x), axis=1)\n",
    "for col in d1.columns:\n",
    "    if col != 'total':\n",
    "        d1[col] = d1[col] / d1['total']\n",
    "\n",
    "\n",
    "l = len(d1.columns) - 1\n",
    "plt.figure(figsize=(12,4))\n",
    "for i, col in enumerate(d1.columns[:-1]):\n",
    "    plt.subplot(1, l, i+1)\n",
    "    plt.hist(d1[col])\n",
    "    plt.title(f\"Pct opp using {col} hints\")\n",
    "#d1.head()\n",
    "plt.show"
   ]
  },
  {
   "cell_type": "code",
   "execution_count": 57,
   "metadata": {},
   "outputs": [
    {
     "data": {
      "text/plain": [
       "<function matplotlib.pyplot.show(close=None, block=None)>"
      ]
     },
     "execution_count": 57,
     "metadata": {},
     "output_type": "execute_result"
    },
    {
     "data": {
      "image/png": "[encoded data removed]",
      "text/plain": [
       "<Figure size 1080x288 with 4 Axes>"
      ]
     },
     "metadata": {
      "needs_background": "light"
     },
     "output_type": "display_data"
    }
   ],
   "source": [
    "# Help-seeking | learner_knowledge\n",
    "\n",
    "d1 = steps.groupby(['stu_id', 'knowledge_level'])['Hint'].mean().unstack(fill_value=0)\n",
    "#d1.head()\n",
    "\n",
    "l = len(d1.columns) - 1\n",
    "plt.figure(figsize=(15,4))\n",
    "for i, col in enumerate(d1.columns[:-1]):\n",
    "    plt.subplot(1, l, i+1)\n",
    "    plt.hist(d1[col])\n",
    "    plt.title(f\"Pct Hint use | {col}\")\n",
    "\n",
    "plt.show"
   ]
  },
  {
   "cell_type": "code",
   "execution_count": null,
   "metadata": {},
   "outputs": [],
   "source": []
  }
 ],
 "metadata": {
  "kernelspec": {
   "display_name": "Python 3",
   "language": "python",
   "name": "python3"
  },
  "language_info": {
   "codemirror_mode": {
    "name": "ipython",
    "version": 3
   },
   "file_extension": ".py",
   "mimetype": "text/x-python",
   "name": "python",
   "nbconvert_exporter": "python",
   "pygments_lexer": "ipython3",
   "version": "3.8.5"
  }
 },
 "nbformat": 4,
 "nbformat_minor": 4
}
